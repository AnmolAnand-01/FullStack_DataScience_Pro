{
 "cells": [
  {
   "cell_type": "markdown",
   "id": "0a22681d-e6b7-4f3e-8ff3-aed69dcd90ca",
   "metadata": {},
   "source": [
    "# Basic Level:"
   ]
  },
  {
   "cell_type": "markdown",
   "id": "9ff770ad-1774-4ab4-b1b6-5e3d61393a04",
   "metadata": {},
   "source": [
    "**1. Write a Python program to print the numbers from 1 to 10 using a `for` loop.**"
   ]
  },
  {
   "cell_type": "code",
   "execution_count": 5,
   "id": "c1e0e905-12d2-4618-a66f-346d4201c627",
   "metadata": {},
   "outputs": [
    {
     "name": "stdout",
     "output_type": "stream",
     "text": [
      "1\n",
      "2\n",
      "3\n",
      "4\n",
      "5\n",
      "6\n",
      "7\n",
      "8\n",
      "9\n",
      "10\n"
     ]
    }
   ],
   "source": [
    "for i in range(1,11):\n",
    "    print(i)"
   ]
  },
  {
   "cell_type": "markdown",
   "id": "b455e293-5e58-4d9f-8857-cf5a67a9a8ae",
   "metadata": {},
   "source": [
    "**Explanation:**\n",
    "\n",
    "Here we are using for loop to print the numbers from 1 to 10.\n",
    "\n",
    "To print these numbers using for loop we need to iterate through these numbers one by one, so we are using the range function.\n",
    "\n",
    "Range function accepts three parameters, and it's syntax is \"range(start, end, step)\", Range() creates a range object that represents a sequence of numbers between start and end(start is included and end is excluded). Step represents the jump size between the current number and the next number. The default value of step is 1.\n",
    "\n",
    "print statement inside the for loop prints the number currently being traversed by the for loop."
   ]
  },
  {
   "cell_type": "markdown",
   "id": "640676e8-80b3-475d-885d-8312d10daba9",
   "metadata": {},
   "source": [
    "**2. Create a program that calculates the sum of all numbers in a list using a `for` loop.**"
   ]
  },
  {
   "cell_type": "code",
   "execution_count": 6,
   "id": "f7b31c19-2f2f-4f46-a59d-77e82c4c1f4b",
   "metadata": {},
   "outputs": [
    {
     "name": "stdout",
     "output_type": "stream",
     "text": [
      "sum of all the numbers in the list [1, 2.4, 3.8, 4, 5, 6, 7.6, 8.2, 9] is: 47.0\n"
     ]
    }
   ],
   "source": [
    "lst=[1,2.4,3.8,4,5,6,7.6,8.2,9] #Initialising a list with numeric values containing both integer and float data type.\n",
    "res=0 #Initialising the result variable with 0.It will store the sum of all the numbers in the list.\n",
    "for i in lst: \n",
    "    res+=i\n",
    "print(\"sum of all the numbers in the list {} is: {}\".format(lst,res))"
   ]
  },
  {
   "cell_type": "markdown",
   "id": "6b4470c9-7b63-4557-b290-473d5a3afbe6",
   "metadata": {},
   "source": [
    "**Explanation:**\n",
    "\n",
    "Here we are using the for loop to calculate the sum of all the numbers in a list.\n",
    "\n",
    "The variable named \"res\" is initialised with \"0\" and it will store the total sum of all the numbers in the list.\n",
    "\n",
    "For loop is used to traverse through the list. Every element of the list is added to the variable \"res\" to calculate the final sum.\n",
    "\n",
    "Finally, we display the calculated sum to the user using the print() function.\n",
    "\n",
    "In the print function we have used the \"str.format()\" method of string formatting to print the output."
   ]
  },
  {
   "cell_type": "markdown",
   "id": "eb3be650-34e3-454c-b8d8-43ca2a4b7390",
   "metadata": {},
   "source": [
    "**3. Write a program to print the characters of a string in reverse order using a `for` loop.**"
   ]
  },
  {
   "cell_type": "code",
   "execution_count": 8,
   "id": "4fa0361e-156b-408f-a157-e93160b1c283",
   "metadata": {},
   "outputs": [
    {
     "name": "stdin",
     "output_type": "stream",
     "text": [
      "Enter a String: Anmol\n"
     ]
    },
    {
     "name": "stdout",
     "output_type": "stream",
     "text": [
      "l\n",
      "o\n",
      "m\n",
      "n\n",
      "A\n"
     ]
    }
   ],
   "source": [
    "input_str = input(\"Enter a String:\") #Taking string input from the user.\n",
    "for char in reversed(input_str):\n",
    "    print(char)"
   ]
  },
  {
   "cell_type": "markdown",
   "id": "44c416be-c1d7-4207-a855-f21a1ed4eefe",
   "metadata": {},
   "source": [
    "**Explanation:**\n",
    "\n",
    "Here For loop is used to print the characters of the string in reverse order.\n",
    "\n",
    "\"input()\" function is used to take the string as input from the user.\n",
    "\n",
    "\"reversed()\" is an in-built function that accepts an iterable object and returns a iteratot that accesses the elements of the original object in reverse object without modifying the original object.\n",
    "\n",
    "for loop traverses the string in reverse order using the iterator provided by the \"reversed()\" function.\n",
    "\n",
    "print() function inside the for loop prints the character being traversed by the for loop. "
   ]
  },
  {
   "cell_type": "markdown",
   "id": "67fa8a71-a260-4122-801a-ce29772bf5d9",
   "metadata": {},
   "source": [
    "**4. Develop a program that finds the factorial of a given number using a `for` loop.**"
   ]
  },
  {
   "cell_type": "code",
   "execution_count": 9,
   "id": "8507e1cf-350c-41d5-a741-2d9b1f84037c",
   "metadata": {},
   "outputs": [
    {
     "name": "stdin",
     "output_type": "stream",
     "text": [
      "Enter a number: 5\n"
     ]
    },
    {
     "name": "stdout",
     "output_type": "stream",
     "text": [
      "The factorial of 5 is: 120\n"
     ]
    }
   ],
   "source": [
    "num = int(input(\"Enter a number:\")) #Taking input from the user, and then converting it into integer.\n",
    "fact=1 #Initialising the fact variable with 1. It will store the factorial of the required number.\n",
    "for i in range(1,num+1):\n",
    "    fact*=i\n",
    "print(\"The factorial of {} is: {}\".format(num,fact))"
   ]
  },
  {
   "cell_type": "markdown",
   "id": "e1c4817a-5d29-418d-88e4-fd218d9ce3b1",
   "metadata": {},
   "source": [
    "**Explanation:**\n",
    "\n",
    "Here we are using the for loop to calculate the factorial of the given number.\n",
    "\n",
    "\"input()\" function is used to take the input from the user. By default the \"input()\" function treates the entered value  as string so we need to convert it into integer.\n",
    "\n",
    "The variable named \"fact\" will store the factorial of the required number so it is initialised with 1.\n",
    "\n",
    "for loop is used along with the range() function to traverse from 1 upto the required number.\n",
    "\n",
    "Range function accepts three parameters, and it's syntax is \"range(start, end, step)\", Range() creates a range object that represents a sequence of numbers between start and end(start is included and end is excluded). Step represents the jump size between the current number and the next number. The default value of step is 1.\n",
    "\n",
    "For each iteration of the for loop the variable named \"fact\" will be multiplied with the number currently being iterated by the loop.\n",
    "\n",
    "In the print function we have used the \"str.format()\" method of string formatting to print the output."
   ]
  },
  {
   "cell_type": "markdown",
   "id": "0e2cd63b-9400-4f6b-a67d-9daee18c7ff4",
   "metadata": {},
   "source": [
    "**5. Create a program to print the multiplication table of a given number using a `for` loop.**"
   ]
  },
  {
   "cell_type": "code",
   "execution_count": 10,
   "id": "eb341ed4-3f08-4da2-888e-fe06e88a4d64",
   "metadata": {},
   "outputs": [
    {
     "name": "stdin",
     "output_type": "stream",
     "text": [
      "Enter a number: 5\n"
     ]
    },
    {
     "name": "stdout",
     "output_type": "stream",
     "text": [
      "5 * 1 = 5\n",
      "5 * 2 = 10\n",
      "5 * 3 = 15\n",
      "5 * 4 = 20\n",
      "5 * 5 = 25\n",
      "5 * 6 = 30\n",
      "5 * 7 = 35\n",
      "5 * 8 = 40\n",
      "5 * 9 = 45\n",
      "5 * 10 = 50\n"
     ]
    }
   ],
   "source": [
    "num = int(input(\"Enter a number:\")) #Taking input from the user, and then converting it into integer.\n",
    "for i in range(1,11):\n",
    "    print(\"{} * {} = {}\".format(num,i,num*i))"
   ]
  },
  {
   "cell_type": "markdown",
   "id": "942c06fb-b157-4402-954a-4e0546679b16",
   "metadata": {},
   "source": [
    "**Explanation:**\n",
    "\n",
    "Here we are using the for loop to print the multiplication table of the given number. \n",
    "\n",
    "\"input()\" function is used to take the input from the user. By default the \"input()\" function treates the entered value as string so we need to convert it into integer.\n",
    "\n",
    "for loop is used along with the range() function to traverse from 1 to 10 (11 is excluded).\n",
    "\n",
    "Range function accepts three parameters, and it's syntax is \"range(start, end, step)\", Range() creates a range object that represents a sequence of numbers between start and end(start is included and end is excluded). Step represents the jump size between the current number and the next number. The default value of step is 1.\n",
    "\n",
    "print() function inside the for loop prints the multiplication table . "
   ]
  },
  {
   "cell_type": "markdown",
   "id": "1db0eeaf-92db-4da7-9e0f-529abb35cb01",
   "metadata": {},
   "source": [
    "**6. Write a program that counts the number of even and odd numbers in a list using a `for` loop.**"
   ]
  },
  {
   "cell_type": "code",
   "execution_count": 11,
   "id": "2f207d79-90f1-4f43-a1f5-f48179d0eb84",
   "metadata": {},
   "outputs": [
    {
     "name": "stdout",
     "output_type": "stream",
     "text": [
      "The count of odd numbers is 5, and the count of even numbers is 4\n"
     ]
    }
   ],
   "source": [
    "lst = [1,2,3,4,5,6,7,8,9] #Initialising a list with integers.\n",
    "even_cnt=0 #Initialising the even count with 0. It will store the count of even numbers in the list.\n",
    "odd_cnt=0 #Initialising the odd count with 0. It will store the count of odd numbers in the list.\n",
    "\n",
    "for i in lst:\n",
    "    if i%2==0:\n",
    "        even_cnt+=1\n",
    "    else:\n",
    "        odd_cnt+=1\n",
    "\n",
    "print(\"The count of odd numbers is {}, and the count of even numbers is {}\".format(odd_cnt,even_cnt)) "
   ]
  },
  {
   "cell_type": "markdown",
   "id": "37a346a3-3b85-47b2-bd04-c02377c06054",
   "metadata": {},
   "source": [
    "**Explanation:**\n",
    "\n",
    "Here we are using the for loop to count the number of odd and even numbers in the list.\n",
    "\n",
    "list named \"lst\" is initialised with integer values.\n",
    "\n",
    "variable named \"even_cnt\" is initialised with 0. It will store the count of even numbers in the list.\n",
    "\n",
    "variable named \"odd_cnt\" is initialised with 0. It will store the count of odd numbers in the list.\n",
    "\n",
    "for loop is used to traverse through the list.\n",
    "\n",
    "Inside the for loop we have used \"if-else\" block to check whether the current number is odd or even. \n",
    "\n",
    "if the number is even(divisible by 2) then the \"if\" block will be executed and the \"even_cnt\" value wiil be increased by 1, otherwise(if the number is not divisible by 2) the \"else\" block will be executed and the \"odd_cnt\" value will be increased by 1.\n",
    "\n",
    "In the print function we have used the \"str.format()\" method of string formatting to print the output."
   ]
  },
  {
   "cell_type": "markdown",
   "id": "9d1feabe-9891-4cfe-851e-117f3faa8861",
   "metadata": {},
   "source": [
    "**7. Develop a program that prints the squares of numbers from 1 to 5 using a `for` loop.**"
   ]
  },
  {
   "cell_type": "code",
   "execution_count": 12,
   "id": "3bc6398a-0d05-4e99-9601-d3996905eec0",
   "metadata": {},
   "outputs": [
    {
     "name": "stdout",
     "output_type": "stream",
     "text": [
      "The square of 1 is: 1\n",
      "The square of 2 is: 4\n",
      "The square of 3 is: 9\n",
      "The square of 4 is: 16\n",
      "The square of 5 is: 25\n"
     ]
    }
   ],
   "source": [
    "for i in range(1,6):\n",
    "    print(\"The square of {} is: {}\".format(i,i**2))"
   ]
  },
  {
   "cell_type": "markdown",
   "id": "7fe5dae3-2007-4423-9db1-5f7265a422ab",
   "metadata": {},
   "source": [
    "**Explanation:**\n",
    "\n",
    "Here we are using the for loop to print the square of numbers from 1 to 5. \n",
    "\n",
    "for loop is used along with the range() function to traverse from 1 to 5 (6 is excluded).\n",
    "\n",
    "Range function accepts three parameters, and it's syntax is \"range(start, end, step)\", Range() creates a range object that represents a sequence of numbers between start and end(start is included and end is excluded). Step represents the jump size between the current number and the next number. The default value of step is 1.\n",
    "\n",
    "Here ** operator is used to calculate the square. For example: x**y will give x raised to the power y.\n",
    "\n",
    "print() function inside the for loop prints the square."
   ]
  },
  {
   "cell_type": "markdown",
   "id": "726f3d82-47c2-4092-ba50-38c74eac7fa7",
   "metadata": {},
   "source": [
    "**8. Create a program to find the length of a string without using the `len()` function.**"
   ]
  },
  {
   "cell_type": "code",
   "execution_count": 13,
   "id": "59afa264-4117-4edb-9c88-f28b86fad03e",
   "metadata": {},
   "outputs": [
    {
     "name": "stdin",
     "output_type": "stream",
     "text": [
      "Enter the string pwskills\n"
     ]
    },
    {
     "name": "stdout",
     "output_type": "stream",
     "text": [
      "The length of the string \"pwskills\" is: 8\n"
     ]
    }
   ],
   "source": [
    "input_st = input(\"Enter the string\") #Taking string input from the user.\n",
    "length = 0 #Initialising the length variable with 0. It will store the length of the given string.\n",
    "for i in input_st:\n",
    "    length+=1\n",
    "print('The length of the string \"{}\" is: {}'.format(input_st,length))"
   ]
  },
  {
   "cell_type": "markdown",
   "id": "a386ead6-e293-43ee-9144-90f130928449",
   "metadata": {},
   "source": [
    "**Explanation:**\n",
    "\n",
    "Here we have used for loop to find the length of a string.\n",
    "\n",
    "\"input()\" function is used to take the string input from user.\n",
    "\n",
    "Variable \"length\" is initialised with 0 and it will store the length of the string.\n",
    "\n",
    "for loop is used to iterate through the given string.\n",
    "\n",
    "for each iteration of the \"for Loop\" the variable \"length\" is incremented by 1.\n",
    "\n",
    "In the print function we have used the \"str.format()\" method of string formatting to print the output."
   ]
  },
  {
   "cell_type": "markdown",
   "id": "1bf74c9e-edc6-48c7-b3f3-5f178b59c40d",
   "metadata": {},
   "source": [
    "**9. Write a program that calculates the average of a list of numbers using a `for` loop.**"
   ]
  },
  {
   "cell_type": "code",
   "execution_count": 16,
   "id": "8f586f91-5ff6-4a08-af80-20334a24accb",
   "metadata": {},
   "outputs": [
    {
     "name": "stdout",
     "output_type": "stream",
     "text": [
      "The average of all the numbers in the list [1, 2.8, 3.4, 4, 5.2, 6.6, 7, 8, 9] is: 5.222222222222222\n"
     ]
    }
   ],
   "source": [
    "lst = [1,2.8,3.4,4,5.2,6.6,7,8,9] #Initialising a list with numeric values(both integer and float).\n",
    "summation=0 #Initialising the summation with 0. It will store the sum of all the numbers in the list.\n",
    "average=0 #Initialising the average with 0. It will store the average of all the numbers in the list.\n",
    "\n",
    "for i in lst:\n",
    "    summation+=i\n",
    "average=summation/len(lst)\n",
    "\n",
    "print(\"The average of all the numbers in the list {} is: {}\".format(lst,average))"
   ]
  },
  {
   "cell_type": "markdown",
   "id": "3c8ae52b-a716-4924-a9fc-cbbcefa72821",
   "metadata": {},
   "source": [
    "**Explanation:**\n",
    "\n",
    "Here we are using the for loop to find the average of all the numbers in the list.\n",
    "\n",
    "list named \"lst\" is initialised with numeric values (both integer and float).\n",
    "\n",
    "variable named \"summation\" is initialised with 0. It will store the sum of numbers in the list.\n",
    "\n",
    "variable named \"average\" is initialised with 0. It will store the average of numbers in the list.\n",
    "\n",
    "for loop is used to traverse through the list.\n",
    "\n",
    "for each iteration the number being iterated is added to the variable named \"summation\".\n",
    "\n",
    "after the for loop is over the average is calculated by dividing the summation by length of the list.\n",
    "\n",
    "In the print function we have used the \"str.format()\" method of string formatting to print the output."
   ]
  },
  {
   "cell_type": "markdown",
   "id": "ac151e62-12c3-437c-82a0-ce9480885109",
   "metadata": {},
   "source": [
    "**10. Develop a program that prints the first `n` Fibonacci numbers using a `for` loop.**"
   ]
  },
  {
   "cell_type": "code",
   "execution_count": 17,
   "id": "76c46bb3-0bf8-4122-94ca-a1cb404fc622",
   "metadata": {},
   "outputs": [
    {
     "name": "stdin",
     "output_type": "stream",
     "text": [
      "Enter the number 11\n"
     ]
    },
    {
     "name": "stdout",
     "output_type": "stream",
     "text": [
      "0\n",
      "1\n",
      "1\n",
      "2\n",
      "3\n",
      "5\n",
      "8\n",
      "13\n",
      "21\n",
      "34\n",
      "55\n"
     ]
    }
   ],
   "source": [
    "#The Fibonacci series is represented by 0,1,1,2,3,5,8,13........ here every number is the sum of previous two numbers\n",
    "# 0 is the 0th number and 1 is the first number of the Fibonacci series.\n",
    "\n",
    "num=int(input(\"Enter the number\"))\n",
    "\n",
    "prev_2 = 0 #0 is the 0th number of the Fibonacci series.\n",
    "prev = 1 #1 is the first number of the Fibonacci series.\n",
    "\n",
    "if num>=2: #If the required number of terms in the series is greater than or equal to 2 then we need to print the 0th and the first term first.\n",
    "    print(prev_2)\n",
    "    print(prev)\n",
    "elif num==1: #If the required number of terms in the series is 1 then we need to print only the 0th term.\n",
    "    print(prev_2)\n",
    "\n",
    "#If the required number of terms in the series is zero or negative then we do not need to print any thing.\n",
    "    \n",
    "for i in range(0,num-2): #Here the range is from 0 to num-2(excluded) because the first two numbers of the series is already known and printed.\n",
    "    curr=prev+prev_2 #current term of the series is the sum of last two terms\n",
    "    prev_2=prev #Here we are updating the second last term with the last term, because the last term of present iteration will be the second last term for next iteration.\n",
    "    prev=curr #Here we are updating the last term with the current term, because the current term will be the last term for next iteration.\n",
    "    print(curr)"
   ]
  },
  {
   "cell_type": "markdown",
   "id": "c6ae5694-463a-46e0-9873-4db046d36615",
   "metadata": {},
   "source": [
    "**Explanation:**\n",
    "\n",
    "Here we are using the for loop to print Fibonacci Series. \n",
    "\n",
    "\"input()\" function is used to take the input from the user. By default the \"input()\" function treates the entered value as string so we need to convert it into integer.\n",
    "\n",
    "for loop is used along with the range() function to traverse from 1 upto the required number.\n",
    "\n",
    "0 is the 0th number and 1 is the first number of the Fibonacci series. The current term is always the sum of last two terms.\n",
    "\n",
    "After calculating the current term we need to update the last term and second last tem for next iteration.\n",
    "\n",
    "Print function inside the for loop prints the current term of the series."
   ]
  },
  {
   "cell_type": "markdown",
   "id": "b52eafab-2a15-47d6-8fc8-fd0062b2ebb0",
   "metadata": {},
   "source": [
    "# Intermediate Level:"
   ]
  },
  {
   "cell_type": "markdown",
   "id": "095c4b2f-c277-4f0e-8abe-6e9204195dae",
   "metadata": {},
   "source": [
    "**11. Write a program to check if a given list contains any duplicates using a `for` loop.**"
   ]
  },
  {
   "cell_type": "code",
   "execution_count": 18,
   "id": "5982f010-623e-421c-ba5b-d3273a6352e8",
   "metadata": {},
   "outputs": [
    {
     "name": "stdin",
     "output_type": "stream",
     "text": [
      "Enter the elements seperated by space 1 2 3 4 5 6 1 2 3 8 9 7\n"
     ]
    },
    {
     "name": "stdout",
     "output_type": "stream",
     "text": [
      "The list ['1', '2', '3', '4', '5', '6', '1', '2', '3', '8', '9', '7'] contains duplicate numbers and the duplicate numbers are: {'1', '2', '3'}\n"
     ]
    }
   ],
   "source": [
    "lst = input(\"Enter the elements seperated by space\").split() #taking list input from the user.\n",
    "seen = set() #Initialising a set veriable named \"seen\" that will strore the first occurance of any item in the original list.\n",
    "duplicate = set() #Initialising a set veriable named \"duplicate\" that will strore the duplicate items in the original list.\n",
    "for i in lst:\n",
    "    if i in seen:\n",
    "        duplicate.add(i)\n",
    "    else:\n",
    "        seen.add(i)\n",
    "        \n",
    "if len(duplicate) > 0: #If the length of the set named \"duplicate\" is greater than or equal to 1 then the ogriginal list contains duplicate items, else there are no Duplicates in the list.\n",
    "    print(\"The list {} contains duplicate numbers and the duplicate numbers are: {}\".format(lst, duplicate))\n",
    "else:\n",
    "    print(\"The list {} do not contain any duplicate item\".format(lst))"
   ]
  },
  {
   "cell_type": "markdown",
   "id": "68437c29-e523-4a70-947f-4e472d900a69",
   "metadata": {},
   "source": [
    "**Explanation:**\n",
    "\n",
    "The variable named \"lst\" will store the values entered by the user in form of list of strings.\n",
    "\n",
    "The variable named \"seen\" is of set data type, and it will store the first occurance of any item in the original list.\n",
    "\n",
    "The variable named \"duplicate\" is of set data type, and it will store the the duplicate items in the original list.\n",
    "\n",
    "For loop is used to traverse the list.\n",
    "\n",
    "For each item in the list we are checking whether the item is already present in the set named \"seen\", if the item is already present in the set named \"seen\" then the item being checked has duplicate occurances n the original list and it will be added to the set named \"duplicate\". If the item being checked is not present in the \"seen\" variable then it will be added to the \"seen\" variable.\n",
    "\n",
    "When the for loop is over we are checking the length of the set named \"duplicate\", if it's length is more than 1 then the original list contains duplicate items. Otherwise there are no duplicates in the original list.\n",
    "\n",
    "print function is used to print the output."
   ]
  },
  {
   "cell_type": "markdown",
   "id": "3b43a063-a0d6-43e4-8e0a-2781a2a6d665",
   "metadata": {},
   "source": [
    "**12. Create a program that prints the prime numbers in a given range using a `for` loop.**"
   ]
  },
  {
   "cell_type": "code",
   "execution_count": 20,
   "id": "9378115f-08ed-4e61-a02d-2b4442d25977",
   "metadata": {},
   "outputs": [
    {
     "name": "stdin",
     "output_type": "stream",
     "text": [
      "Enter the lower bound of the range: 1\n",
      "Enter the Upper bound of the range: 23\n"
     ]
    },
    {
     "name": "stdout",
     "output_type": "stream",
     "text": [
      "Prime Numbers in the range 1 to 23 are: [2, 3, 5, 7, 11, 13, 17, 19, 23]\n"
     ]
    }
   ],
   "source": [
    "from math import sqrt #Importing sqrt function from math module\n",
    "\n",
    "def check_prime(num): #This is the function to check if a number is prime or not. It accepts an integer as an arguement.\n",
    "    if num<=1: # 2 is the smallest prime number so any number lsee than 2 is not prime\n",
    "        return False\n",
    "    elif num==2:# 2 is the smallest and the only even prime number\n",
    "        return True\n",
    "    elif num%2==0: #any even number is not a prime number\n",
    "        return False\n",
    "    for i in range(3,int(sqrt(num))+1,2): #In this for loop we are checking if a number is divisible by any number between 3 and the square root of the given number. we have used 2 as the step size because every 2nd number starting from 3 is even number and all the even numbers other than 2 are not prime.\n",
    "        if num%i == 0:\n",
    "            return False\n",
    "    return True #if the function do not returns fron the \"for\" loop then it is a prime number \n",
    "\n",
    "Lower_bound=int(input(\"Enter the lower bound of the range:\"))#Taking lower bound of the range as input from the user\n",
    "Upper_bound=int(input(\"Enter the Upper bound of the range:\"))#Taking upper bound of the range as input from the user\n",
    "prime=[] #Initialising a list that will store the prime numbers(if any) in the given range.\n",
    "for num in range(Lower_bound, Upper_bound+1): #This For loop is used to iterate through all the numbers in the given range.\n",
    "    if check_prime(num) == True: #If the check_prime function returns True for any number then that number is prime number.\n",
    "        prime.append(num)\n",
    "        \n",
    "if len(prime)>0: #If the length of the list named \"prime\" is greater than or equal to 1 then there is prime number in the given range.\n",
    "    print(\"Prime Numbers in the range {} to {} are: {}\".format(Lower_bound, Upper_bound, prime))\n",
    "else:\n",
    "    print(\"There are no Prime Numbers in the range {} to {}\".format(Lower_bound, Upper_bound))"
   ]
  },
  {
   "cell_type": "markdown",
   "id": "eb7da85b-c7a4-4b6b-9ef6-7bdd19567863",
   "metadata": {},
   "source": [
    "**Explanation:**\n",
    "\n",
    "At first We are #Importing sqrt function from math module.\n",
    "\n",
    "We have defined a function named \"check_prime\" that accepts an integer as arguement and returns True if the the number is prime, else return False.\n",
    "\n",
    "The variable named \"Lower_bound\" stores the lower limit of the range.\n",
    "\n",
    "The variable named \"Upper_bound\" stores the upper limit of the range.\n",
    "\n",
    "The list named \"Prime\" will store the prime numbers(if any) in the given range.\n",
    "\n",
    "\"input()\" function is used to take the input from the user. By default the \"input()\" function treates the entered value as string so we need to convert it into integer.\n",
    "\n",
    "for loop is used to traverse through the numbers in the given range range using \"range()\" function.\n",
    "\n",
    "Range function accepts three parameters, and it's syntax is \"range(start, end, step)\", Range() creates a range object that represents a sequence of numbers between start and end(start is included and end is excluded). Step represents the jump size between the current number and the next number. The default value of step is 1.\n",
    "\n",
    "if the \"check_prime\" function returns True for a number being checked then the number is prime and it is added to the list named \"prime\" using \"append()\" method of the list.\n",
    "\n",
    "\"append()\" method of the list is used to add a number ate the end of a list.\n",
    "\n",
    "If the length of the list named \"prime\" is greater than equal to 1 then the list contains alteast 1 prime number.\n",
    "\n",
    "print function is used to print the output."
   ]
  },
  {
   "cell_type": "markdown",
   "id": "1d4e0fd9-6a5e-470a-8fbb-f3ca574058a5",
   "metadata": {},
   "source": [
    "**13. Develop a program that counts the number of vowels in a string using a `for` loop.**"
   ]
  },
  {
   "cell_type": "code",
   "execution_count": 21,
   "id": "16e6a67b-43d5-420d-ad4d-7d219395d462",
   "metadata": {},
   "outputs": [
    {
     "name": "stdin",
     "output_type": "stream",
     "text": [
      "Enter the string pwskills\n"
     ]
    },
    {
     "name": "stdout",
     "output_type": "stream",
     "text": [
      "The string \"pwskills\" contains 1 vowels\n"
     ]
    }
   ],
   "source": [
    "input_str=input(\"Enter the string\")#Taking string input from the user.\n",
    "input_str_lower=input_str.lower()#converting the entered string in to lower case. \n",
    "count=0#initialise the count variable with 0. It will store the count of vowels in the given string \n",
    "for i in input_str_lower:# for loop is used to traverse through all the characters of the string\n",
    "    if i in ('a', 'e', 'i', 'o', 'u'): #If the character being checked is vowel then increment the count variable by 1.\n",
    "        count+=1\n",
    "        \n",
    "print('The string \"{}\" contains {} vowels'.format(input_str,count))"
   ]
  },
  {
   "cell_type": "markdown",
   "id": "331042f4-faef-429e-9150-c9a7e20eee7f",
   "metadata": {},
   "source": [
    "**Explanation:**\n",
    "\n",
    "The string to be checked is taken as input from the user.\n",
    "\n",
    "\"input()\" function is used to take the string input from the user.\n",
    "\n",
    "The string entered is converted in to lower case because python is a case sensitive language, hence lowercase and uppercase characters are treated to be different.\n",
    "\n",
    "Thr variable named \"count\" is initialised to 0. It stores the count of vowels in the given string\n",
    "\n",
    "for loop is used to iterate through all the characters of the given string.\n",
    "\n",
    "If any character is present in thhe tuple \"('a', 'e', 'i', 'o', 'u')\" then it is a vowel and the if block is executeed, incrementing the count variable by 1.\n",
    "\n",
    "print function is used to print the output."
   ]
  },
  {
   "cell_type": "markdown",
   "id": "ae31d9ba-42a3-489c-999a-b2f426e69b09",
   "metadata": {},
   "source": [
    "**14. Write a program to find the maximum element in a 2D list using a nested `for` loop.**"
   ]
  },
  {
   "cell_type": "code",
   "execution_count": 22,
   "id": "8622d42f-5995-4095-a806-bac97fda27b4",
   "metadata": {},
   "outputs": [
    {
     "name": "stdout",
     "output_type": "stream",
     "text": [
      "The maximum element in the given 2D list is: 96\n"
     ]
    }
   ],
   "source": [
    "from sys import maxsize #Importing maxsize from sys module.\n",
    "\n",
    "lst=[[10,2,34,56],[25,65,87,10],[10,96,56,3],[55,2,45,14]] #Initialising a 2D list.\n",
    "\n",
    "maxi=-maxsize-1 #Initialising a variable named \"maxi\" with minimum integer value. It will store the maximum element of the given 2D list\n",
    "for i in range(0,len(lst)):#for loop is used t traverse the 2D list.\n",
    "    for j in range (0,len(lst[i])):\n",
    "        maxi = max(maxi,lst[i][j])\n",
    "        \n",
    "print(\"The maximum element in the given 2D list is: {}\".format(maxi))\n",
    "                    "
   ]
  },
  {
   "cell_type": "markdown",
   "id": "7901e3b5-828c-4124-97ba-fc2fb5e9de31",
   "metadata": {},
   "source": [
    "**Explanation:**\n",
    "\n",
    "The variable named lst is initialised with the 2D list to be checked.\n",
    "\n",
    "\"sys\" module in python contains a constant named \"maxsize\" that represents the maximum possible size of an integer in python.\n",
    "\n",
    "The variable named \"maxi\" is initialised with minimum integer value, using the statement \"maxi=-maxsize-1\". \"maxi\" will store the maximum integer present in the 2D list.\n",
    "\n",
    "Outer for loop is used to treverse through the 2D list row-wise, and the inner for loop is used to traverse through the 2D list column-wise.\n",
    "\n",
    "each element of the 2D list is compared with the value present in \"maxi\" and the variable \"maxi\" is updated with the maximum of the two integer values using the \"max()\" function.\n",
    "\n",
    "After the end of for loop, Print() function is used to print the output."
   ]
  },
  {
   "cell_type": "markdown",
   "id": "a1f88acf-be8a-495e-836c-eac49e280427",
   "metadata": {},
   "source": [
    "**15. Create a program that removes all occurrences of a specific element from a list using a `for` loop.**"
   ]
  },
  {
   "cell_type": "code",
   "execution_count": 23,
   "id": "491b6932-d4c0-4e13-a05f-e1430dc65bec",
   "metadata": {},
   "outputs": [
    {
     "name": "stdout",
     "output_type": "stream",
     "text": [
      "The list before removing 2 from the list is: [1, 2, 3, 4, 5, 6, 7, 2, 4, 2, 5, 2, 2, 3, 4, 5, 78, 2]\n",
      "The list after removing 2 from the list is: [1, 3, 4, 5, 6, 7, 4, 5, 3, 4, 5, 78]\n"
     ]
    }
   ],
   "source": [
    "lst=[1,2,3,4,5,6,7,2,4,2,5,2,2,3,4,5,78,2] #Initialising the list\n",
    "no_to_be_removed=2 # initialising the number to be removed\n",
    "updated_lst=[] # Initialising a list name \"Updated_lst\" that will store the list containing values other than no_to_be_removed\n",
    "print(\"The list before removing {} from the list is: {}\".format(no_to_be_removed, lst)) #Printing the list before removing the number\n",
    "for num in lst: #for loop is used to iterate the list\n",
    "    if num != no_to_be_removed: \n",
    "        updated_lst.append(num)#adding the values to the updated_lst other than no_to_be_removed.\n",
    "            \n",
    "print(\"The list after removing {} from the list is: {}\".format(no_to_be_removed, updated_lst))#printing the updated list"
   ]
  },
  {
   "cell_type": "markdown",
   "id": "8c4f42bd-9be0-4a61-bc47-3698e806b7d4",
   "metadata": {},
   "source": [
    "**Explanation:**\n",
    "\n",
    "The variable \"lst\" is initialised with the integer values\n",
    "\n",
    "The variable \"no_to_be_removed\" is initialised with the number to be removed.\n",
    "\n",
    "Initialising a list named \"updated_lst\" that will store the values other than no_to_be_removed.\n",
    "\n",
    "for loop is used to iterate the original list.\n",
    "\n",
    "If the number being currently traversed is not equal to the \"no_to_be_removed\" then this number is added to the \"updated_lst\" using \"append()\" method of the list.\n",
    "\n",
    "\"append()\" method of the list is used to add a number ate the end of a list.\n",
    "\n",
    "print function is used to print the \"updated_lst\"."
   ]
  },
  {
   "cell_type": "markdown",
   "id": "896f0847-e963-4786-a139-6f9a4b9bbc41",
   "metadata": {},
   "source": [
    "**16. Develop a program that generates a multiplication table for numbers from 1 to 5 using a nested `for` loop.**"
   ]
  },
  {
   "cell_type": "code",
   "execution_count": 24,
   "id": "661509ac-053f-45bf-a865-6e96109a14af",
   "metadata": {},
   "outputs": [
    {
     "name": "stdout",
     "output_type": "stream",
     "text": [
      "Multiplication Table of 1:\n",
      "1 * 1 = 1\n",
      "1 * 2 = 2\n",
      "1 * 3 = 3\n",
      "1 * 4 = 4\n",
      "1 * 5 = 5\n",
      "1 * 6 = 6\n",
      "1 * 7 = 7\n",
      "1 * 8 = 8\n",
      "1 * 9 = 9\n",
      "1 * 10 = 10\n",
      "Multiplication Table of 2:\n",
      "2 * 1 = 2\n",
      "2 * 2 = 4\n",
      "2 * 3 = 6\n",
      "2 * 4 = 8\n",
      "2 * 5 = 10\n",
      "2 * 6 = 12\n",
      "2 * 7 = 14\n",
      "2 * 8 = 16\n",
      "2 * 9 = 18\n",
      "2 * 10 = 20\n",
      "Multiplication Table of 3:\n",
      "3 * 1 = 3\n",
      "3 * 2 = 6\n",
      "3 * 3 = 9\n",
      "3 * 4 = 12\n",
      "3 * 5 = 15\n",
      "3 * 6 = 18\n",
      "3 * 7 = 21\n",
      "3 * 8 = 24\n",
      "3 * 9 = 27\n",
      "3 * 10 = 30\n",
      "Multiplication Table of 4:\n",
      "4 * 1 = 4\n",
      "4 * 2 = 8\n",
      "4 * 3 = 12\n",
      "4 * 4 = 16\n",
      "4 * 5 = 20\n",
      "4 * 6 = 24\n",
      "4 * 7 = 28\n",
      "4 * 8 = 32\n",
      "4 * 9 = 36\n",
      "4 * 10 = 40\n",
      "Multiplication Table of 5:\n",
      "5 * 1 = 5\n",
      "5 * 2 = 10\n",
      "5 * 3 = 15\n",
      "5 * 4 = 20\n",
      "5 * 5 = 25\n",
      "5 * 6 = 30\n",
      "5 * 7 = 35\n",
      "5 * 8 = 40\n",
      "5 * 9 = 45\n",
      "5 * 10 = 50\n"
     ]
    }
   ],
   "source": [
    "for num in range(1,6):\n",
    "    print(\"Multiplication Table of {}:\".format(num))\n",
    "    for i in range(1,11):\n",
    "        print('{} * {} = {}'.format(num,i,num*i))"
   ]
  },
  {
   "cell_type": "markdown",
   "id": "0f6d22a0-7d1d-4c37-a52f-c23b5dd56d9c",
   "metadata": {},
   "source": [
    "**Explanation:**\n",
    "\n",
    "Here we are using the nested for loop to print the multiplication table of numbers from 1 to 5.\n",
    "\n",
    "Outer for loop is used along with the range() function to traverse from 1 to 5 (6 is excluded).\n",
    "\n",
    "Inner for loop is used along with the range() function to traverse from 1 to 10 (11 is excluded).\n",
    "\n",
    "Range function accepts three parameters, and it's syntax is \"range(start, end, step)\", Range() creates a range object that represents a sequence of numbers between start and end(start is included and end is excluded). Step represents the jump size between the current number and the next number. The default value of step is 1.\n",
    "\n",
    "print() function inside the inner for loop prints the multiplication table."
   ]
  },
  {
   "cell_type": "markdown",
   "id": "58f99418-f0d9-464a-8ec3-b6b3a0fdbd63",
   "metadata": {},
   "source": [
    "**17. Write a program that converts a list of Fahrenheit temperatures to Celsius using a `for` loop.**"
   ]
  },
  {
   "cell_type": "code",
   "execution_count": 25,
   "id": "1a5f3640-4951-4713-b5c8-f66fa0eface0",
   "metadata": {},
   "outputs": [
    {
     "name": "stdout",
     "output_type": "stream",
     "text": [
      "The Fahrenheit value is 32 and it's corresponding celsius value is 0.0\n",
      "The Fahrenheit value is 41 and it's corresponding celsius value is 5.0\n",
      "The Fahrenheit value is 59 and it's corresponding celsius value is 15.0\n",
      "The Fahrenheit value is 95 and it's corresponding celsius value is 35.0\n",
      "The Fahrenheit value is 77 and it's corresponding celsius value is 25.0\n",
      "The Fahrenheit values are [32, 41, 59, 95, 77] and it's corresponding celsius value aare [0.0, 5.0, 15.0, 35.0, 25.0]\n"
     ]
    }
   ],
   "source": [
    "Fahrenheit_temp_list = [32,41,59,95,77] #Initialisign the list of fahrenheit temperatures.\n",
    "celsius_temp_list = [] #initialisising A list, that will store the celsius values corresponding to each fahrenheit temperature\n",
    "for Fahrenheit_temp in Fahrenheit_temp_list:#Iteratig tthrough the list of fahrenheit temperatures.\n",
    "    celsius_temp = (Fahrenheit_temp-32)*(5/9) #converting the fahrenheit temperatures into celsius temperature.\n",
    "    celsius_temp_list.append(celsius_temp)\n",
    "    print(\"The Fahrenheit value is {} and it's corresponding celsius value is {}\".format(Fahrenheit_temp,celsius_temp)) #printing the celsuis temperature corresponding to each fahrenheit temperature.\n",
    "    \n",
    "print(\"The Fahrenheit values are {} and it's corresponding celsius value aare {}\".format(Fahrenheit_temp_list,celsius_temp_list)) #printing the list of celsuis temperature corresponding to list of fahrenheit temperature."
   ]
  },
  {
   "cell_type": "markdown",
   "id": "8b8a0e29-83d7-4dc5-9bf1-6c950cf57a03",
   "metadata": {},
   "source": [
    "**Explanation:**\n",
    "\n",
    "In the beginning we have initialised a list containing fahrenheit temperatures.\n",
    "\n",
    "A list named \"Celsius_temp_list\" is initialised that will store the celsius values corresponding to each fahrenheit temperature.\n",
    "\n",
    "For loop is used to iterate through the list of Fahrenheit temperature.\n",
    "\n",
    "Each fahrenheit value is converted to it's corresponding celsius value using the formula \"celsius_temp = (Fahrenheit_temp-32)*(5/9)\".\n",
    "\n",
    "Each celsius value is added to the List named \"Celsius_temp_list\".\n",
    "\n",
    "Print function inside the for loop is printing the Fahrenheit temperature and its corresponding Celsius temperature.\n",
    "\n",
    "Print function outside the for loop is printing the List od fahrenheit temperatures and the list of Celsius temperatutes."
   ]
  },
  {
   "cell_type": "markdown",
   "id": "5b679ad5-688d-44e7-8fc8-6b652ac885cb",
   "metadata": {},
   "source": [
    "**18. Create a program to print the common elements from two lists using a `for` loop.**"
   ]
  },
  {
   "cell_type": "code",
   "execution_count": 26,
   "id": "47e7daba-9d3d-4ab0-a0e0-0bf95348718d",
   "metadata": {},
   "outputs": [
    {
     "name": "stdout",
     "output_type": "stream",
     "text": [
      "The common elements of [1, 2, 3, 4, 5, 6, 7, 8, 9] and [2, 90, 56, 4, 6, 78, 87, 66, 8, 1] are: [1, 2, 4, 6, 8]\n"
     ]
    }
   ],
   "source": [
    "List1=[1,2,3,4,5,6,7,8,9] #Initialising the first List\n",
    "List2=[2,90,56,4,6,78,87,66,8,1] #Initialising the second List\n",
    "common_ele=[] #Initialising a list that will hold all the common elements of the two lists\n",
    "for element in List1: #Iterating the first list\n",
    "    if element in List2: #For each element of the List1 check if the element is also present in the List2\n",
    "        common_ele.append(element) #adding the common elements to the list named \"common_ele\"\n",
    "        \n",
    "print(\"The common elements of {} and {} are: {}\".format(List1, List2, common_ele)) #Printing the result"
   ]
  },
  {
   "cell_type": "markdown",
   "id": "e6e3a9e3-ce51-437c-b220-22e112aac9d4",
   "metadata": {},
   "source": [
    "**Explanation**\n",
    "\n",
    "Initially we have initialised the two lists with numeric data type(Integer).\n",
    "\n",
    "A list named \"common_ele\" is initialised that will store the common elements of the two lists.\n",
    "\n",
    "For loop is used to iterate through the List1.\n",
    "\n",
    "Using \"if\" statement we are checking for each element of the \"List1\" if present in the \"List2\".\n",
    "\n",
    "if any element is present in List1 as well as in List2 then it is added to the list named \"commen_ele\".\n",
    "\n",
    "After the for loop is over we are printing the result using print() function"
   ]
  },
  {
   "cell_type": "markdown",
   "id": "a86eae6a-0be4-48fd-a9b8-328bfc317a0e",
   "metadata": {},
   "source": [
    "**19. Develop a program that prints the pattern of right-angled triangles using a `for` loop. Use ‘*’ to draw the\n",
    "pattern**"
   ]
  },
  {
   "cell_type": "code",
   "execution_count": 27,
   "id": "183497d3-fc9c-476d-9685-d57c37cf075c",
   "metadata": {},
   "outputs": [
    {
     "name": "stdin",
     "output_type": "stream",
     "text": [
      "Enter the size of the Right-angled triangle: 6\n"
     ]
    },
    {
     "name": "stdout",
     "output_type": "stream",
     "text": [
      "* \n",
      "\n",
      "* * \n",
      "\n",
      "* * * \n",
      "\n",
      "* * * * \n",
      "\n",
      "* * * * * \n",
      "\n",
      "* * * * * * \n",
      "\n"
     ]
    }
   ],
   "source": [
    "triangle_size = int(input(\"Enter the size of the Right-angled triangle:\")) #Taking the size of the triangle as input from user\n",
    "for row in range(0,triangle_size):#This for loop is used for row-wise traversal of the triangle\n",
    "    for col in range(0,row+1):#This for loop is used for column-wise traversal of the triangle\n",
    "        print(\"*\",end=\" \")#Printing * for each column of he row\n",
    "        \n",
    "    print('\\n') #This statement will shift the position of the cursor to new line at the end of each row"
   ]
  },
  {
   "cell_type": "markdown",
   "id": "dc1d6944-5063-471f-adba-d5028b9326c9",
   "metadata": {},
   "source": [
    "**Explanation:**\n",
    "\n",
    "Taking the size of the Right-angled triangle as input from the user.\n",
    "\n",
    "Outer for loop and the range() function is used for row-wise(in downwards direction) traversal of the triangle.\n",
    "\n",
    "Inner for loop and the range() function is used for column-wise(in right direction) traversal of the triangle.\n",
    "\n",
    "Nth row will have n columns. For example: 1st row will have 1 columns, 2nd row will have 2 columns, and so on.\n",
    "\n",
    "Range function accepts three parameters, and it's syntax is \"range(start, end, step)\", Range() creates a range object that represents a sequence of numbers between start and end(start is included and end is excluded). Step represents the jump size between the current number and the next number. The default value of step is 1.\n",
    "\n",
    "print() function is used to print the \"*\" character for each column of a row. \"end\" is a parameter that specifies what should be printed at the end of print() function, it's default value is \"end=\\n\"(new line character). 'end=\" \"' prints a blank space at the end of print() function.\n",
    "\n",
    "at the end of each row we are printing a \"new line character\" using the statement \"print('\\n')\""
   ]
  },
  {
   "cell_type": "markdown",
   "id": "a53cf5f6-0541-4e64-8c10-9de360174e99",
   "metadata": {},
   "source": [
    "**20. Write a program to find the greatest common divisor (GCD) of two numbers using a `for` loop.**"
   ]
  },
  {
   "cell_type": "code",
   "execution_count": 29,
   "id": "b7b3421a-9df1-490f-85c0-9525fbe241d5",
   "metadata": {},
   "outputs": [
    {
     "name": "stdin",
     "output_type": "stream",
     "text": [
      "enter the 1st number 40\n",
      "enter the 2nd number 30\n"
     ]
    },
    {
     "name": "stdout",
     "output_type": "stream",
     "text": [
      "The  greatest common divisor (GCD) of 40 and 30 is: 10\n"
     ]
    }
   ],
   "source": [
    "num1 = int(input(\"enter the 1st number\"))#Taking 1st number as input from user.\n",
    "num2 = int(input(\"enter the 2nd number\"))#Taking 2nd number as input from user.\n",
    "\n",
    "gcd=1 #Initialising a variable named \"gcd\" with 1. It will store the GCD of the two numbers.\n",
    "mini=min(num1,num2) #Initialising a variable named \"mini\" with minimum of the two numbers entered by the user.\n",
    "\n",
    "for i in range(1, mini+1): #for loop is used to iterate through the numbers between 1 and minimun of the two numbers entered by the used\n",
    "    if num1%i==0 and num2%i==0: #if a number divides both the numbers entered by the user, then we update the variable \"gcd\" with this number.\n",
    "        gcd=i\n",
    "        \n",
    "print(\"The  greatest common divisor (GCD) of {} and {} is: {}\".format(num1,num2,gcd)) #Printing the output"
   ]
  },
  {
   "cell_type": "markdown",
   "id": "986db57e-2cfe-42f3-a504-1f75cbbf8421",
   "metadata": {},
   "source": [
    "**Explanation:**\n",
    "\n",
    "Initially we have taken two numbers as input from user and stored them in variables named \"num1\" and \"num2\".\n",
    "\n",
    "A variable named \"gcd\" is initialised with 1. It will store the GCD of the two numbers entered by the user.\n",
    "\n",
    "A variable named \"mini\" is initialised with minimum of the two numbers entered by the user.\n",
    "\n",
    "for loop is used to iterate through the numbers between 1 and minimum of the two numbers entered by the user.\n",
    "\n",
    "if a number divides both the numbers entered by the user leaving zero as remainder, then we update the variable \"gcd\" with this number.\n",
    "\n",
    "print function at the end of for loop is printing the required output."
   ]
  },
  {
   "cell_type": "markdown",
   "id": "bc398c84-906f-438e-a292-4a9310576f42",
   "metadata": {},
   "source": [
    "# Advanced Level:"
   ]
  },
  {
   "cell_type": "markdown",
   "id": "8a7104f3-6237-4ff0-b39b-1b5afd4236d5",
   "metadata": {},
   "source": [
    "**21. Create a program that calculates the sum of the digits of numbers in a list using a list comprehension.**"
   ]
  },
  {
   "cell_type": "code",
   "execution_count": 30,
   "id": "0a3533a3-1e32-49d6-ae90-16aba017fbc4",
   "metadata": {},
   "outputs": [
    {
     "name": "stdout",
     "output_type": "stream",
     "text": [
      "[2, 4, 11, 8, 10, 20]\n"
     ]
    }
   ],
   "source": [
    "lst=[11,22,33.5,44,55,66.8] #Initialising the list numbers\n",
    "def sum_of_digits(num): #this function returns the sum of digits of a number(int,float).It accepts a number as an arguement.\n",
    "    return sum(int(char) for char in str(num) if char.isdigit()) #This statement convers the number into a string and then returns the sum of digits by iterating through all the characters of the number converted into string.\n",
    "res=[i for i in map(sum_of_digits,lst)] #List comprehension and map() are used to generate the list of sum of digits of numbers in the given list\n",
    "print(res) #Printing the result"
   ]
  },
  {
   "cell_type": "markdown",
   "id": "899eddda-3d07-43b8-950a-4f2ca6be1359",
   "metadata": {},
   "source": [
    "**Explanation:**\n",
    "\n",
    "Initially we have initialised a list containing numbers(float,list).\n",
    "\n",
    "We have defined a function named \"sum_of_digits\", This function accepts a number and returns the sum of digits of that number.\n",
    "\n",
    "\"sum_of_digits()\" converts the number into string and then iterates through each character(char) of the string, then checks if the string is a digit or not using \"isdigit()\" method. If the characcter(char) is digit then the character(char) is converted back to integer using \"int()\". \"int(char) for char in str(num) if char.isdigit()\" statement inside the \"sum()\" method will return all the digits of the number in iterable form. Then using \"sum()\" method, we are adding all the digits.\n",
    "\n",
    "Then we are using List comprehension and map() are used to generate the list of sum of digits of numbers in the given list .\n",
    "\n",
    "map() is used to apply the function \"sum_of_digits()\" to all the numbers of the given list(lst) and then returns an iterable containing sum of digits of all the numbers in the given list.\n",
    "\n",
    "\"[i for i in map(sum_of_digits,lst)]\" statement returns a list. for loop inside this statement is used to iterate through all the items of the iterable returned by the \"map()\" method."
   ]
  },
  {
   "cell_type": "markdown",
   "id": "15ec3aeb-6ed0-45be-8175-e8f7275335b3",
   "metadata": {},
   "source": [
    "**22. Write a program to find the prime factors of a given number using a `for` loop and list comprehension.**"
   ]
  },
  {
   "cell_type": "code",
   "execution_count": 31,
   "id": "dbd6172b-86a0-4d6e-8b5f-55a815f7c358",
   "metadata": {},
   "outputs": [
    {
     "name": "stdin",
     "output_type": "stream",
     "text": [
      "Enter the number: 84\n"
     ]
    },
    {
     "name": "stdout",
     "output_type": "stream",
     "text": [
      "The prime factors of 84 are: [1, 2, 3, 7]\n"
     ]
    }
   ],
   "source": [
    "num=int(input(\"Enter the number:\")) #Taking the number as input from the user.\n",
    "factors=[fact for fact in range(1,num+1) if num%fact==0] #List comprehension is used to generate a list of all the factore of the given number.\n",
    "prime_factors=[fact for fact in factors if all(fact%n !=0 for n in range(2,fact))] #List comprehension is used to generate  a list of all the prime factors of the given number, using the list containing all the factors of the given number\n",
    "\n",
    "print(\"The prime factors of {} are: {}\".format(num,prime_factors)) #Printing the result."
   ]
  },
  {
   "cell_type": "markdown",
   "id": "1ab6a960-fce4-4104-aa95-20a200dd56c8",
   "metadata": {},
   "source": [
    "**Explanation:**\n",
    "\n",
    "Taking the number as input from the user and storing it in variable named \"num\".\n",
    "\n",
    "List comprehension is used to generate a list containing all the factors of the given number. To generate this list we are iterating through all the numbers starting from 1 upto the given number using \"for fact in range(1,num+1)\" (num+1 is excluded). Then we are checking if the number currently being iterated(fact) exactly divides the given number(num) using the statement \"if num%fact==0\", If it returns true then fact is a factor of num and we add fact to the list factors. \n",
    "\n",
    "Through the statement \"[fact for fact in factors if all(fact%n !=0 for n in range(2,fact))]\", we are are generating a list of prime factors(prime_factors) of the given number(num) using the List containing all the factors of the given number(factors). For loop is used to iterate through all the factors then we are checking if the factor is a prime factor or not using \"all(fact%n !=0 for n in range(2,fact))\", all() is a built-in function in python that returns \"True\", if all the elements of an iterable is True. If the factor is a prime factor then it is added to the list \"prime_factors\".\n",
    "\n",
    "The statement \"all(fact%n !=0 for n in range(2,fact))\" checks if the factor(fact) currently being iterated(for fact in factors) is a prime number or not . Hree we are iterating from 2 to fact-1 using range(2,fact)(fact is excluded), then checking if fact is divisible by any number in the range, if fact is divisible by any number in the range then fact is not a prime number. If fact is prime number the it is a prime factor of the given number(num).\n",
    "\n",
    "printing the result"
   ]
  },
  {
   "cell_type": "markdown",
   "id": "0c6521db-983f-43d6-8252-922c71ab331d",
   "metadata": {},
   "source": [
    "**23. Develop a program that extracts unique elements from a list and stores them in a new list using a list comprehension.**"
   ]
  },
  {
   "cell_type": "code",
   "execution_count": 32,
   "id": "fd31dc52-4821-4a30-9a84-7048adf3a65c",
   "metadata": {},
   "outputs": [
    {
     "name": "stdout",
     "output_type": "stream",
     "text": [
      "The unique elements in the list [0, 19, 89, 76, 45, 1, 2, 2.1, 56, 4, 19, 0, 77, 66, 45, 3, 90] are: [89, 76, 1, 2, 2.1, 56, 4, 77, 66, 3, 90]\n"
     ]
    }
   ],
   "source": [
    "lst=[0,19,89,76,45,1,2,2.1,56,4,19,0,77,66,45,3,90] #Initialising a list of numbers.\n",
    "unique_elements=[ele for ele in lst if lst.count(ele) == 1] #List comprehension is used to extract the unique elements from the given list\n",
    "print(\"The unique elements in the list {} are: {}\".format(lst,unique_elements))#Printing the result"
   ]
  },
  {
   "cell_type": "markdown",
   "id": "311b1ad2-9223-4fb0-888a-00f87ed4d7dc",
   "metadata": {},
   "source": [
    "**Explanation:**\n",
    "\n",
    "Initially we have initialised a list of numbers.\n",
    "\n",
    "We are using list comprehension to generate a new list containing only the unique elements of the given list.\n",
    "\n",
    "for loop is used inside the list comprehension to iterate through numbers of the given list(lst) using \"for ele in lst\", then we are checking the count of each element present in the given list(lst) using \"lst.count(ele)\". If the the count of an element is 1 then, it is an unique element, and it is added to the new list.\n",
    "\n",
    "count() is a built-in function in python that is used to count the occurance of any element in a sequence(such as list, tuple or string)\n",
    "\n",
    "Finally we are printing the result."
   ]
  },
  {
   "cell_type": "markdown",
   "id": "ca9f235a-f90f-4e3b-9f4b-1272d8f5eaff",
   "metadata": {},
   "source": [
    "**24. Create a program that generates a list of all palindromic numbers up to a specified limit using a list\n",
    "comprehension.**"
   ]
  },
  {
   "cell_type": "code",
   "execution_count": 34,
   "id": "13febe6d-b707-47e1-8667-18c6fc456bd3",
   "metadata": {},
   "outputs": [
    {
     "name": "stdin",
     "output_type": "stream",
     "text": [
      "Enter the limit to check for palindromic number: 121\n"
     ]
    },
    {
     "name": "stdout",
     "output_type": "stream",
     "text": [
      "The palindromic numbers upto 121 are: [0, 1, 2, 3, 4, 5, 6, 7, 8, 9, 11, 22, 33, 44, 55, 66, 77, 88, 99, 101, 111, 121]\n"
     ]
    }
   ],
   "source": [
    "lim=int(input(\"Enter the limit to check for palindromic number:\")) #Taking upperlimit as input from the user.\n",
    "palindromic_lst=[num for num in range(lim+1) if str(num) == str(num)[::-1]] #Using list comprehension to find the palindromic numbers\n",
    "print(\"The palindromic numbers upto {} are: {}\".format(lim,palindromic_lst)) #Printing the result."
   ]
  },
  {
   "cell_type": "markdown",
   "id": "2b78a766-d3e7-427e-b264-6afa6e8b654f",
   "metadata": {},
   "source": [
    "**Explanation:**\n",
    "\n",
    "Taking upper limit as input from the user and is stored in a variable named \"lim\".\n",
    "\n",
    "List comprehension is used to generate the list of palindromic numbers upto the limit entered by the user.\n",
    "\n",
    "\"for num in range(lim+1)\" is used to traverse from 1 to lim(lim+1 is excluded). Then for each num in the range we are checking if the number is palindromic or not. If the number is palindromic, it will be added to the list(palindromic_lst).\n",
    "\n",
    "\"if str(num) == str(num)[::-1]\" converts the number into string and checks if the number converted into string is equal to it's reverse. If the number converted into string is equal to it's reverse then the statement returns \"True\" and the number is added to the list(palindromic_lst).\n",
    "\n",
    "Finally we are printing the result."
   ]
  },
  {
   "cell_type": "markdown",
   "id": "d69f53ab-7811-49aa-887a-0f3eb75e7ec2",
   "metadata": {},
   "source": [
    "**25. Write a program to flatten a nested list using list comprehension.**"
   ]
  },
  {
   "cell_type": "code",
   "execution_count": 35,
   "id": "e524fb13-1352-4b52-bbf4-0c7ff8f815ee",
   "metadata": {},
   "outputs": [
    {
     "name": "stdout",
     "output_type": "stream",
     "text": [
      "The flattened list is: [10, 2, 34, 56, 25, 65, 87, 10, 11, 89, 66, 40, 10, 96, 56, 3, 55, 2, 45, 14]\n"
     ]
    }
   ],
   "source": [
    "lst=[[10,2,34,56],[25,65,87,10],[11,89,66,40],[10,96,56,3],[55,2,45,14]] #Initialising a nested 2D list.\n",
    "flat_lst=[item for rows in lst for item in rows] #List comprehension is used to flatten the nested list.\n",
    "print(\"The flattened list is: {}\".format(flat_lst)) #Printing the result."
   ]
  },
  {
   "cell_type": "markdown",
   "id": "62a8e6b0-9670-4c1a-b55e-7478af024023",
   "metadata": {},
   "source": [
    "**Explanation:**\n",
    "\n",
    "Initially we have initialised a nested list.\n",
    "\n",
    "List comprehension is used to flatten the 2D list.\n",
    "\n",
    "Nested for loop is used(\"for rows in lst for item in rows\"). First for loop is used to iterate through the individual lists of the nested list, an the second for loop is used to iterate through the individual elements of each list being iterated by the first for loop. \n",
    "\n",
    "Finally we are printing the result using \"print()\" function and \"str.format()\" method of string formatting."
   ]
  },
  {
   "cell_type": "markdown",
   "id": "7bfde76c-6a56-449c-9263-4f722d99c905",
   "metadata": {},
   "source": [
    "**26. Develop a program that computes the sum of even and odd numbers in a list separately using list\n",
    "comprehension.**"
   ]
  },
  {
   "cell_type": "code",
   "execution_count": 36,
   "id": "90441797-6d4a-4d82-83cb-942f1189091a",
   "metadata": {},
   "outputs": [
    {
     "name": "stdout",
     "output_type": "stream",
     "text": [
      "The sum of even numbers and odd numbers in the list[10, 22, 13, 14, 15, 77, 82, 93, 44] are respectively 172(even sum) and 198(odd sum)\n"
     ]
    }
   ],
   "source": [
    "lst=[10,22,13,14,15,77,82,93,44] #Initialising a list.\n",
    "even_sum=sum([num for num in lst if num%2==0]) # List comprehension along with sum() function is used to compute the sum of even numbers of the given list.\n",
    "odd_sum=sum([num for num in lst if num%2!=0]) # List comprehension along with sum() function is used to compute the sum of odd numbers of the given list\n",
    "print(\"The sum of even numbers and odd numbers in the list{} are respectively {}(even sum) and {}(odd sum)\".format(lst,even_sum,odd_sum)) #Ptinting the result."
   ]
  },
  {
   "cell_type": "markdown",
   "id": "da5d7b8f-d26c-40a8-98b5-822e36ef1af2",
   "metadata": {},
   "source": [
    "**Explanation:**\n",
    "\n",
    "Initially we have initialised a list containing even and odd numbers.\n",
    "\n",
    "List comprehension is used to generate a list containing even numbers among the numbers present in the given list. Then sum() function is used to add all the numbers of the new list. This sum of even numbers is stored in a variable named \"even_sum\".\n",
    "\n",
    "List comprehension is used to generate a list containing odd numbers among the numbers present in the given list. Then sum() function is used to add all the numbers of the new list. This sum of odd numbers is stored in a variable named \"odd_sum\".\n",
    "\n",
    "\"for num in lst\" is used to iterate through the given list and seperate odd or even numbers using \"if num%2==0\" (for even numbers) or \"if num%2!=0\" (for odd numbers).\n",
    "\n",
    "Finally we are printing the result using \"print()\" function and \"str.format()\" method of string formatting."
   ]
  },
  {
   "cell_type": "markdown",
   "id": "dbee0c03-a375-4eeb-a3f5-1382b8b07485",
   "metadata": {},
   "source": [
    "**27. Create a program that generates a list of squares of odd numbers between 1 and 10 using list\n",
    "comprehension.**"
   ]
  },
  {
   "cell_type": "code",
   "execution_count": 37,
   "id": "a0e616cc-5d50-4f74-89d3-018f468cc553",
   "metadata": {},
   "outputs": [
    {
     "name": "stdout",
     "output_type": "stream",
     "text": [
      "The list of square of odd numbers between 1 and 10 are: [1, 9, 25, 49, 81]\n"
     ]
    }
   ],
   "source": [
    "square_lst=[num**2 for num in range(1,10) if num%2 !=0] #List comprehension is used to generate the list of squares of odd numbers between 1 and 10.\n",
    "print(\"The list of square of odd numbers between 1 and 10 are: {}\".format(square_lst)) #Printing the result."
   ]
  },
  {
   "cell_type": "markdown",
   "id": "8bd40505-37b1-44b7-936e-2a5e8f379f0c",
   "metadata": {},
   "source": [
    "**Explanation: **\n",
    "\n",
    "List comprehension is used to generate the list of squares of odd numbers between 1 and 10.\n",
    "\n",
    "for loop is used along with the range() function to traverse from 1 to 10(10 is excluded).\n",
    "\n",
    "Range function accepts three parameters, and it's syntax is \"range(start, end, step)\", Range() creates a range object that represents a sequence of numbers between start and end(start is included and end is excluded). Step represents the jump size between the current number and the next number. The default value of step is 1.\n",
    "\n",
    "\"if num%2 !=0\" is used to check, if the number(num) currently being iterated is odd or not. If the number is odd then we add it's square to the list using \"num**2\".\n",
    "\n",
    "Finally we are printing the result using \"print()\" function and \"str.format()\" method of string formatting."
   ]
  },
  {
   "cell_type": "markdown",
   "id": "b06f3974-f708-4784-ab2e-35dc7e07a695",
   "metadata": {},
   "source": [
    "**28. Write a program that combines two lists into a dictionary using list comprehension.**"
   ]
  },
  {
   "cell_type": "code",
   "execution_count": 38,
   "id": "1ab1b4e0-9d25-4ff5-aee6-e582e813fdac",
   "metadata": {},
   "outputs": [
    {
     "name": "stdout",
     "output_type": "stream",
     "text": [
      "The combined dictionary is: {'name': 'Anmol', 'email': 'anmol65438@gmai.com', 'course': 'Full Stack DataScience Pro', 'Experience': 'Fresher'}\n"
     ]
    }
   ],
   "source": [
    "keys=[\"name\",\"email\",\"course\",\"Experience\"] #Initialising the list containing Keys of the required dictionary.\n",
    "values=[\"Anmol\",\"anmol65438@gmai.com\",\"Full Stack DataScience Pro\",\"Fresher\"] #Initialising the list containing values of the required dictionary.\n",
    "info_dictionary={keys[i]: values[i] for i in range(min(len(keys),len(values)))} #Generating the dictionary using the two lists.\n",
    "print(\"The combined dictionary is:\", info_dictionary) #printing the result."
   ]
  },
  {
   "cell_type": "markdown",
   "id": "c40c8f58-fed6-49ea-b02a-d7aea1b44cc9",
   "metadata": {},
   "source": [
    "**Explanation:**\n",
    "\n",
    "Initially we have initialised the two lists containing keys and values for the required dictionary.\n",
    "\n",
    "Comprehension is used to generate the required dictionary using the two lists(keys, values).\n",
    "\n",
    "\"for i in range(min(len(keys),len(values)))\" is used to traverse from 0 to minimum of the length of the two lists initialised in the begining. This traversal will give us indexes for individual keys and it's corresponding values in the two lists.\n",
    "\n",
    "Using the indexes we are generating each key-value pair and hence the whole required dictionary.\n",
    "\n",
    "Finally we are printing the result using \"print()\" function and \"str.format()\" method of string formatting."
   ]
  },
  {
   "cell_type": "markdown",
   "id": "dc856109-fccb-4dbb-8ac2-21a5ebbb3589",
   "metadata": {},
   "source": [
    "**29. Develop a program that extracts the vowels from a string and stores them in a list using list comprehension.**"
   ]
  },
  {
   "cell_type": "code",
   "execution_count": 39,
   "id": "f673ce7f-2782-4932-8fff-ac203d506723",
   "metadata": {},
   "outputs": [
    {
     "name": "stdin",
     "output_type": "stream",
     "text": [
      "Enter the string: AeiouaetgbhhhhhhyIOU\n"
     ]
    },
    {
     "name": "stdout",
     "output_type": "stream",
     "text": [
      "The list of vowels in string \"AeiouaetgbhhhhhhyIOU\" are: ['A', 'e', 'i', 'o', 'u', 'a', 'e', 'I', 'O', 'U']\n"
     ]
    }
   ],
   "source": [
    "input_str=input(\"Enter the string:\") #Taking string input from the user.\n",
    "vowels_lst=[char for char in input_str if char in ('a','e','i','o','u') or char in ('A','E','I','O','U')] #Generating the list of vowels contained in the string using list comprehension.\n",
    "print('The list of vowels in string \"{}\" are: {}'.format(input_str, vowels_lst)) #Printing the result."
   ]
  },
  {
   "cell_type": "markdown",
   "id": "17fe17c1-3b42-4e22-8b00-24e965a85421",
   "metadata": {},
   "source": [
    "**Explanation:**\n",
    "\n",
    "Initially we have taken a string as input from the user.\n",
    "\n",
    "List comprehension is used to generate the list of vowels contained in the original list.\n",
    "\n",
    "\"for char in input_str\" is used to traverse through each character of the input_str. Then \"if char in ('a','e','i','o','u') or char in ('A','E','I','O','U')\" is used to check if the character being traversed is vowel(uppercase or lowercase) or not. If the character is vowel then it is added to the list.\n",
    "\n",
    "Finally we are printing the result using \"print()\" function and \"str.format()\" method of string formatting."
   ]
  },
  {
   "cell_type": "markdown",
   "id": "71744656-b7f6-42e8-8879-e8b185cf3266",
   "metadata": {},
   "source": [
    "**30. Create a program that removes all non-numeric characters from a list of strings using list comprehension.**"
   ]
  },
  {
   "cell_type": "code",
   "execution_count": 40,
   "id": "49f07e15-0c4b-4f59-86b7-c6376b5b1cbb",
   "metadata": {},
   "outputs": [
    {
     "name": "stdout",
     "output_type": "stream",
     "text": [
      "Original list of strings: ['abc123', '45def', '6ghi78', 'jkl9', 'anm']\n",
      "List of numeric strings: ['123', '45', '678', '9', '']\n"
     ]
    }
   ],
   "source": [
    "# List of strings\n",
    "strings_list = [\"abc123\", \"45def\", \"6ghi78\", \"jkl9\", \"anm\"]\n",
    "\n",
    "# Remove non-numeric characters using list comprehension\n",
    "numeric_strings = [''.join(filter(lambda x: x.isdigit(), string)) for string in strings_list]\n",
    "\n",
    "\n",
    "#Printing the result\n",
    "print(\"Original list of strings:\", strings_list)\n",
    "print(\"List of numeric strings:\", numeric_strings)\n"
   ]
  },
  {
   "cell_type": "markdown",
   "id": "c8db106e-fbb4-4a48-bedf-1d9f0475692c",
   "metadata": {},
   "source": [
    "**Explanation:**\n",
    "\n",
    "Initially we have initialised a list of strings.\n",
    "\n",
    "Then we are removing the non-numeric characters from each string of the given list and then we are adding the numeric string to a new list using list comprehension.\n",
    "\n",
    "\"for string in strings_list\" is used to traverse through each string of the given list of strings.\n",
    "\n",
    "\"''.join(filter(lambda x: x.isdigit(), string))\" is used to filter out the non-numeric characters from each string of the given list, to generate a numeric string. \n",
    "\n",
    "filter() is a built-in function in python that is used to filter elements from an iterable for which the function returns \"True\". \n",
    "\n",
    "\"lambda x: x.isdigit()\" is used inside the filter function, that returns \"True\" if a character is numeric. Based on the \"True\" or \"False\" values returned by the lambda function, filter() function filters the numeric characters to generate a string containing only numeric characters using \"join()\".\n",
    "\n",
    "\"join()\" is a built-in method in python that is used to concatenate the elements of an iterator using a specified seperator('' in this case).\n",
    "\n",
    "If any string present in the given list (strings_list) donot contains numeric characters then there willl be an empty string corresponding to that string in the final list(numeric_strings).\n",
    "\n",
    "Finally we are printing the result."
   ]
  },
  {
   "cell_type": "markdown",
   "id": "7c0ba8b4-9584-4020-80f3-303ba3cbb95c",
   "metadata": {},
   "source": [
    "# Challenge Level:"
   ]
  },
  {
   "cell_type": "markdown",
   "id": "17cae138-88f0-4637-8084-ee9f3bdfd3b3",
   "metadata": {},
   "source": [
    "**31. Write a program to generate a list of prime numbers using the Sieve of Eratosthenes algorithm and list comprehension.**"
   ]
  },
  {
   "cell_type": "code",
   "execution_count": 41,
   "id": "85954d97-1288-4d07-9f58-fe6ffe103cae",
   "metadata": {},
   "outputs": [
    {
     "name": "stdin",
     "output_type": "stream",
     "text": [
      "Enter the limit: 31\n"
     ]
    },
    {
     "name": "stdout",
     "output_type": "stream",
     "text": [
      "The list of prime numbers upto 31 are: [2, 3, 5, 7, 11, 13, 17, 19, 23, 29, 31]\n"
     ]
    }
   ],
   "source": [
    "#Function that returns a list of prime numbers upto the number passed as an arguement.\n",
    "def prime_sieve(limit): \n",
    "    is_prime=[True for i in range(limit+1)]\n",
    "    is_prime[0]=is_prime[1]=False\n",
    "    \n",
    "    i=2\n",
    "    while(i*i<=limit):\n",
    "        if is_prime[i] == True:\n",
    "            for j in range(i*i,limit+1,i):\n",
    "                is_prime[j]=False\n",
    "                \n",
    "        i+=1    \n",
    "    prime=[n for n in range(limit+1) if is_prime[n]==True]\n",
    "    return prime\n",
    "\n",
    "limit=int(input(\"Enter the limit:\")) #Taking limit of the prime numbers as input from the user.\n",
    "lst=prime_sieve(limit) #Calling the function to list out the prime numbers upto the number passed.\n",
    "print(\"The list of prime numbers upto {} are: {}\".format(limit,lst))\n",
    "            "
   ]
  },
  {
   "cell_type": "markdown",
   "id": "163edb7c-dd02-4595-ba46-b6a2086c2c27",
   "metadata": {},
   "source": [
    "**Explanation:**\n",
    "\n",
    "\"Sieve of Eratosthenes algorithm\" is used to list out all the prime numbers starting from 2 upto the given number.\n",
    "\n",
    "function \"prime_sieve()\" accepts a number as arguement and then returns a list of all the prime numbers upto the number passed. \n",
    "\"is_prime\" is a list of boolean initially marked True for all the elements. The length of \"is_prime\" list is ewual to \"limit+1\" because the index of list starts from 0 and we need the index upto \"limit\".\n",
    "\n",
    "At the end of the function \"prime_sieve()\", index corresponding to the \"True\" element in the list \"is_prime\" are prime numbers.\n",
    "\n",
    "\"is_prime\" is marked \"False\" for 0th and 1st index, because the smallest prime number is 2.\n",
    "\n",
    "starting from i=2 we run a while loop untill \"i*i <= limit\". Inside the loop if element of \"is_prime\" list at index 'i' is \"True\" then we run a for loop \"for j in range(i*i,limit+1,i)\" and mark all the multiples of i as \"False\" starting from \"i*i\". \n",
    "We are starting the inner for loop from \"i*i\" because the previous multiples of \"i\" would have already been marked \"False\" if they are not prime.\n",
    "\n",
    "At the end of the function \"prime_sieve()\", we strore the prime numbers in a new list named \"prime\" using list comprehension. And then return the new list.\n",
    "\n",
    "We are Taking limit of the prime numbers as input from the user.\n",
    "\n",
    "Then we are Calling the function to list out the prime numbers upto the number passed(limit).\n",
    "\n",
    "\n",
    "Finally we are printing the result using \"print()\" function and \"str.format()\" method of string formatting."
   ]
  },
  {
   "cell_type": "markdown",
   "id": "be6ed971-c53a-4933-9403-89b1ec886548",
   "metadata": {},
   "source": [
    "**32. Create a program that generates a list of all Pythagorean triplets up to a specified limit using list comprehension.**"
   ]
  },
  {
   "cell_type": "code",
   "execution_count": 42,
   "id": "9a4932ae-f567-48db-901e-7403c55aeb8a",
   "metadata": {},
   "outputs": [
    {
     "name": "stdin",
     "output_type": "stream",
     "text": [
      "Enter the limit: 20\n"
     ]
    },
    {
     "name": "stdout",
     "output_type": "stream",
     "text": [
      "[[3, 4, 5], [5, 12, 13], [6, 8, 10], [8, 15, 17], [9, 12, 15], [12, 16, 20]]\n"
     ]
    }
   ],
   "source": [
    "limit=int(input(\"Enter the limit:\"))\n",
    "triplet=[[a,b,int((a*a+b*b)**0.5)] for a in range(1,limit+1) for b in range(a,limit+1) if ((a*a+b*b)**0.5).is_integer() and ((a*a+b*b)**0.5)<=limit]\n",
    "print(triplet)"
   ]
  },
  {
   "cell_type": "markdown",
   "id": "08b52c9f-2570-4db9-9eeb-3fe164f3189e",
   "metadata": {},
   "source": [
    "**Explanation:**\n",
    "\n",
    "\"Pythagorean triplets\" is a group of three numbers that follows pythagoras theorem i.e. (a*a+b*b) = c*c or  (a*a+b*b)**0.5)=c, where a,b,c are integer and none of a,b,c are equal to 0.\n",
    "\n",
    "In this program we are using the second formula \"(a*a+b*b)**0.5)=c\" to check for pythagorean triplets.\n",
    "\n",
    "List comprehension is used to list out the list out the pythagorean triplets upto the specified limit.\n",
    "\n",
    "In \"for a in range(1,limit+1) for b in range(a,limit+1)\" first for loop is used to check for the values of \"a\" in range(1,limit+1) where limit+1 is excluded. Second for loop is used to check for the values \"b\" in range(a,limit+1) where limit+1 is excluded. The value of \"b\" here taken starts from \"a\" because values less than a would have been already checked.\n",
    "\n",
    "Then \"if ((a*a+b*b)**0.5).is_integer() and ((a*a+b*b)**0.5)<=limit\" checks that the value of c i.e. (a*a+b*b)**0.5) is an integer or not and at the same time whether the value of \"c\" <= limit. If \"c\" is an integer and it's value is less than or equal to limit, then the value of c is valid and a,b,c forms a pythogorean triplet.\n",
    "\n",
    "Finally we are printing the result."
   ]
  },
  {
   "cell_type": "markdown",
   "id": "bad43461-f886-4320-bf11-b0d64dc25383",
   "metadata": {},
   "source": [
    "**33. Develop a program that generates a list of all possible combinations of two lists using list comprehension.**"
   ]
  },
  {
   "cell_type": "code",
   "execution_count": 43,
   "id": "af70dc2c-67eb-40fd-b294-de8d8effff60",
   "metadata": {},
   "outputs": [
    {
     "name": "stdout",
     "output_type": "stream",
     "text": [
      "[['name', 'Anmol'], ['name', 'anmol65438@gmai.com'], ['name', 'Full Stack DataScience Pro'], ['name', 'Fresher'], ['email', 'Anmol'], ['email', 'anmol65438@gmai.com'], ['email', 'Full Stack DataScience Pro'], ['email', 'Fresher'], ['course', 'Anmol'], ['course', 'anmol65438@gmai.com'], ['course', 'Full Stack DataScience Pro'], ['course', 'Fresher'], ['Experience', 'Anmol'], ['Experience', 'anmol65438@gmai.com'], ['Experience', 'Full Stack DataScience Pro'], ['Experience', 'Fresher']]\n"
     ]
    }
   ],
   "source": [
    "lst1=[\"name\",\"email\",\"course\",\"Experience\"] #Initialising the first list\n",
    "lst2=[\"Anmol\",\"anmol65438@gmai.com\",\"Full Stack DataScience Pro\",\"Fresher\"] #Initialising the second list\n",
    "combined_lst=[[val1,val2] for val1 in lst1 for val2 in lst2] #Combining the two lists for all possible combinations.\n",
    "print(combined_lst) #Printing the result."
   ]
  },
  {
   "cell_type": "markdown",
   "id": "00f489dd-787a-42c7-b492-4f1586d46275",
   "metadata": {},
   "source": [
    "**Explanation:**\n",
    "\n",
    "Initially we have initialised the two lists.\n",
    "\n",
    "Then using list comprehension we have generated a new list for all combinations of the two lists.\n",
    "\n",
    "In \"[val1,val2] for val1 in lst1 for val2 in lst2\" the first for loop is used to traverse through all the elements of the first list, second for loop is used to traverse through all the elements of second list.\n",
    "\n",
    "Then using \"[val1,val2]\" we are generating nested list for all combinations of the the two lists.\n",
    "\n",
    "Finally we are printing the result using \"print()\" function and \"str.format()\" method of string formatting."
   ]
  },
  {
   "cell_type": "markdown",
   "id": "c4473b09-ea13-4184-97ee-78d7991fdd1b",
   "metadata": {},
   "source": [
    "**34. Write a program that calculates the mean, median, and mode of a list of numbers using list comprehension.**"
   ]
  },
  {
   "cell_type": "code",
   "execution_count": 45,
   "id": "5f9bd218-f2d3-4307-875e-a00a867c0944",
   "metadata": {},
   "outputs": [
    {
     "name": "stdout",
     "output_type": "stream",
     "text": [
      "The mean of the list [3, 6, 7, 8, 10, 12, 15, 15, 15, 18, 20, 3, 3, 3] is: 9.857142857142858\n",
      "The median of the list [3, 6, 7, 8, 10, 12, 15, 15, 15, 18, 20, 3, 3, 3] is: 9.0\n",
      "The mode of the list [3, 6, 7, 8, 10, 12, 15, 15, 15, 18, 20, 3, 3, 3] is: 3\n"
     ]
    }
   ],
   "source": [
    "from collections import Counter #Importing Counter class from collections module\n",
    "lst=[3, 6, 7, 8, 10, 12, 15, 15, 15, 18, 20, 3, 3, 3] #Initialising the list\n",
    "\n",
    "length=len(lst) #Finding the length of the list using \"len()\" function.\n",
    "mean_val=sum(lst)/len(lst) #mean value of the list is calculated \n",
    "\n",
    "sorted_lst=sorted(lst) #The sorted() function accepts a list and then returns the sorted list which is stored in sorted_lst variable.\n",
    "median_val=sorted_lst[length//2] if length%2!=0 else (sorted_lst[length//2] + sorted_lst[(length-1)//2])/2 #median value is calculated for the list\n",
    "\n",
    "mode_val=[k for k,v in Counter(lst).items() if v==max(Counter(lst).values())] #mode value is calculate for the list.\n",
    "\n",
    "#Printing the result\n",
    "print(\"The mean of the list {} is: {}\".format(lst, mean_val))\n",
    "print(\"The median of the list {} is: {}\".format(lst, median_val))\n",
    "print(\"The mode of the list {} is: {}\".format(lst, mode_val[0]))"
   ]
  },
  {
   "cell_type": "markdown",
   "id": "85747e80-e8e5-411e-ad33-57f47b50ac8f",
   "metadata": {},
   "source": [
    "**Explanation:**\n",
    "\n",
    "Initially we have imported the Counter class from collections module.\n",
    "\n",
    "The list containing numbers has been initialised\n",
    "\n",
    "len() function is used to calculate the length of the list.\n",
    "\n",
    "mean value is equal to sum of all the elements of the list divided by the number of elements in the list.\n",
    "\n",
    "sum() function is used to add all the elements of the list.\n",
    "\n",
    "median is the middle element of the sorted list if the list contains odd number of elements, or it is the average of the two middle elements of the sorted list if the list contains even number of elements.\n",
    "\n",
    "\"sorted()\" function is used to sort the list. It returns the sorted form of the list that is stored in sorted_lst variable and do not disturbs the original list.\n",
    "\n",
    "The statement \"sorted_lst[length//2] if length%2!=0\" is used to return the middle element of the sorted list if the list contains odd number of elements.\n",
    "\n",
    "The statement \"else (sorted_lst[length//2] + sorted_lst[(length-1)//2])/2\" is used to return the average of the two middle elements of the sorted list if the list contains even number of elements.\n",
    "\n",
    "mode value refers to the element that has maximium occurance in the list. In this program if multiple elements have same occurance in the given list then the smaller element wiil be returned.\n",
    "\n",
    "Counter() is used to count the occurance of each element in the list. It generates a dictionary having list elements in sorted manner as \"keys\" and their corresponding counts as \"values\".\n",
    "\n",
    "\"for k,v in Counter(lst).items()\" is used to iterate through each key-value pair of the dictionary returned by the Counter(). \"if v==max(Counter(lst).values())\" is used to check if the value of the current key-value pair is maxomum or not, if the value is maximum then the corresponding key is the mode of the given list.\n",
    "\n",
    "Finally we are printing the result."
   ]
  },
  {
   "cell_type": "markdown",
   "id": "30a654d6-f2d9-41e7-b44e-3987dfb8b482",
   "metadata": {},
   "source": [
    "**35. Create a program that generates Pascal's triangle up to a specified number of rows using list comprehension.**"
   ]
  },
  {
   "cell_type": "code",
   "execution_count": 46,
   "id": "a5ce2fea-95bf-42bb-b852-e0e86b1ad8bd",
   "metadata": {},
   "outputs": [
    {
     "name": "stdin",
     "output_type": "stream",
     "text": [
      "Enter the upper limit: 5\n"
     ]
    },
    {
     "name": "stdout",
     "output_type": "stream",
     "text": [
      "    1     \n",
      "   1 1    \n",
      "  1 2 1   \n",
      " 1 3 3 1  \n",
      "1 4 6 4 1 \n",
      "[[1], [1, 1], [1, 2, 1], [1, 3, 3, 1], [1, 4, 6, 4, 1]]\n"
     ]
    }
   ],
   "source": [
    "def generateRow(row_no): #function that generates the rows for the Pascal's triangle. It accepts the row number as arguement and returns the list containing the elements of the row. \n",
    "    row_lst=[1]\n",
    "    col_no=1\n",
    "    ele=1\n",
    "    while col_no < row_no:\n",
    "        ele=(ele*(row_no-col_no))/col_no\n",
    "        # ele=ele/col_no\n",
    "        row_lst.append(int(ele))\n",
    "        col_no+=1\n",
    "    return row_lst\n",
    "limit=int(input(\"Enter the upper limit:\")) #Taking upper limit of the triangle as input fron the user.\n",
    "pascal_lst=[lst for lst in map(generateRow,range(1,limit+1))] #List comprehension is used to generate the rows of the triangle upto the specified limit.\n",
    "\n",
    "for row in pascal_lst: #Printing the triangle.\n",
    "    print(\" \".join(str(num) for num in row).center(len(pascal_lst[-1]*2)))\n",
    "print(pascal_lst)"
   ]
  },
  {
   "cell_type": "markdown",
   "id": "2c77d994-b570-4c45-a50c-48b82600c620",
   "metadata": {},
   "source": [
    "**Explanation:**\n",
    "\n",
    "Pascal's triangle starts with a 1 at the top, and each row thereafter is constructed by adding the two numbers directly above to form the number in the current position. Both side of each row wiil always be 1.\n",
    "\n",
    "The function named \"generateRow\" is defined to generate the rows of the pascal's triangle. It accepts the row number as arguement an return the the list containing the elements of the row.\n",
    "\n",
    "\"row_lst\" is a list thet wii store all the elements of a particular row. The first row only contains 1 and the first element of all the rows will is 1.\n",
    "\n",
    "col_no represents the starting index of the list \"row_lst\" and ele represents the current element of the list \"row_lst\".\n",
    "\n",
    "Number of columns in each row will be equal to the row number. \n",
    "\n",
    "we run a while loop untill the col_no is less than row_no. In this loop we calculate the current element of the row by using the formula \"ele=(ele*(row_no-col_no))/col_no\". Then we append the current element to the list \"row_lst\".\n",
    "\n",
    "At the end of the while loop we increment the col_no by 1.\n",
    "\n",
    "After the while loop is over we return the list \"row_lst\".\n",
    "\n",
    "Upper limit of the triangle is taken as input fron the user.\n",
    "\n",
    "#List comprehension is used to generate the rows of the triangle upto the specified limit.\n",
    "\n",
    "\"range(1,limit+1)\" returns an iterable containing numbers starting from 1 upto limit(limit+1 is excluded)\n",
    "\n",
    "\"map(generateRow,range(1,limit+1)\" applies the generateRow() function to all the numbers of the iterable returned by the range() function, and again returns an iterable containing rows in form of lists.\n",
    "\n",
    "\"[lst for lst in map(generateRow,range(1,limit+1))]\" converts the iterable returned by the map() function into a nested list and that nested list is stored in varable \"pascal_lst\".\n",
    "\n",
    "Finally we are using for loop to print the nested list in form of triangle.\n",
    "\n",
    "\"\" \".join(str(num) for num in row)\" converts all the inner lists present inside the nested list \"pascal_lst\" into string having 1 blank space between each number. \n",
    "\n",
    "\"center(len(pascal_lst[-1]*2))\" brings the string into the center of the length passed as the arguement(len(pascal_lst[-1]*2) in this case). \n",
    "\n",
    "Finally we are printing the nested list \"Pascal_lst\""
   ]
  },
  {
   "cell_type": "markdown",
   "id": "392e7114-eb91-46f0-8140-917d0d85f51e",
   "metadata": {},
   "source": [
    "**36. Develop a program that calculates the sum of the digits of a factorial of numbers from 1 to 5 using list\n",
    "comprehension.**"
   ]
  },
  {
   "cell_type": "code",
   "execution_count": 47,
   "id": "7a224fe6-3938-4797-843c-a4e005bbbd66",
   "metadata": {},
   "outputs": [
    {
     "name": "stdout",
     "output_type": "stream",
     "text": [
      "The sum of digits of a factorial of numbers from 1 to 5 are: [1, 2, 6, 6, 3]\n"
     ]
    }
   ],
   "source": [
    "from functools import reduce #Importing redue function from functools module.\n",
    "\n",
    "#This function returns the factorial of the number passed to it.\n",
    "def fact_func(num):\n",
    "    return reduce( lambda x, y: x*y, range(1, num+1)) if num>0 else none\n",
    "\n",
    "factorial=[num for num in map(fact_func, range(1,6))] #List comprehension is used to store the factorial of numbers from 1 to 5.\n",
    "sum_of_digits=lambda n: sum(map(int,str(n))) #Lambda function to generate the sum of digits of a number.\n",
    "digit_sum=[num for num in map(sum_of_digits,factorial)] #List comprehension is used to store the sum of digits of the factorial of numbers from 1 to 5.\n",
    "\n",
    "print(\"The sum of digits of a factorial of numbers from 1 to 5 are:\",digit_sum) #Ptinting thr result."
   ]
  },
  {
   "cell_type": "markdown",
   "id": "e7879f84-39ac-434f-8c12-b3921c2a4a60",
   "metadata": {},
   "source": [
    "**Explanation:**\n",
    "\n",
    "First we are Importing reduce function() from functools module.\n",
    "\n",
    "\"fact_func()\" function is accepts a number as arguement and then returns it's factorial. It uses reduce() function to calculate the factorial of the number. reduce() applies a function to all the elements of an iterable in a cumulative way to reduce the iterable into a single value.\n",
    "\n",
    "Hera lambda function \"lambda x, y: x*y\" is used inside the reduce() function and is applied to all the numbers returned as an iterable by \" range(1, num+1) \".\n",
    "\n",
    "\"reduce( lambda x, y: x*y, range(1, num+1)) if num>0 else none\", reduce() function works only if number passed to fact_func() is positive, otherwise \"none\" is returned because factorial cannot be calculate for \"0\" or negative numbers.\n",
    "\n",
    "List comprehension is used to store the factorial of numbers from 1 to 5.\n",
    "\n",
    "\"map(fact_func, range(1,6))\" is used to apply fact_func() to all the numbers of the iterable returned by \"range(1,6)\" and the map() function also returns an iterable containing factorial of all the numbers passed to \"fact_func()\" inside map() function.\n",
    "\n",
    "for loop in the statement \"for num in map(fact_func, range(1,6))\" is used to iterate through all the numbers of the iterable returned by the map() function.\n",
    "\n",
    "Lambda function \"lambda n: sum(map(int,str(n)))\" is used to calculate sum of all the digits of the number(n). \n",
    "\n",
    "\"map(int,str(n))\" inside the sum() function accepts a number and then converts it into string, This string is then used as an iterable and each character of this string is then converted into the \"int\" to generate an iterable of integers, This iterable of integers is then used inside sum() function to return the sum of digits of the number.\n",
    "\n",
    "Again list comprehension is used to store the sum of digits of the factorial of numbers from 1 to 5.\n",
    "\n",
    "\"map(sum_of_digits,factorial)\" is used to apply sum_of_digits() to all the numbers of the list factorial and the map() function returns an iterable containing sum of digits of the factorial of all the numbers from 1 to 5.\n",
    "\n",
    "Finally the result is priand each character of this string is then and each character of this string is then and each character of this string is then nted."
   ]
  },
  {
   "cell_type": "markdown",
   "id": "0d4b9786-b492-41cf-ba01-4c148dfcfc24",
   "metadata": {},
   "source": [
    "**37. Write a program that finds the longest word in a sentence using list comprehension.**"
   ]
  },
  {
   "cell_type": "code",
   "execution_count": 49,
   "id": "12e19112-f4aa-41b9-b04f-35ab9df1af2c",
   "metadata": {},
   "outputs": [
    {
     "name": "stdin",
     "output_type": "stream",
     "text": [
      "enter a sentence: The Europass! CV builder makes it easy to create your CV online\n"
     ]
    },
    {
     "name": "stdout",
     "output_type": "stream",
     "text": [
      "The longest word of the sentence \"The Europass! CV builder makes it easy to create your CV online\" is: Europass\n"
     ]
    }
   ],
   "source": [
    "st = input(\"enter a sentence:\") #Taking the test sentence as input from the user.\n",
    "max_sentence=max([word.strip('.?!,') for word in st.split()], key=len) #List comprehension is used to find the longest word from the sentence entered by the user.\n",
    "print('The longest word of the sentence \"{}\" is: {}'.format(st,max_sentence)) #Printing the result."
   ]
  },
  {
   "cell_type": "markdown",
   "id": "e88ab3e9-ff3a-4dac-ade7-573658599242",
   "metadata": {},
   "source": [
    "**Explanation:**\n",
    "\n",
    "Initially we are taking the test sentence as input from the user.\n",
    "\n",
    "\"st.split()\" is used to split the sentence entered by the use in to a list of strings. Here blank space is being used as seperator to split the sentence.\n",
    "\n",
    "\"for word in st.split()\" is used to iterate through the list of strings returned by \"st.split()\".\n",
    "\n",
    "\"word.strip('.?!,')\" is used to remove any punctuation mark, if present before or after the string being traversed by \"for word in st.split()\".\n",
    "\n",
    "\"[word.strip('.?!,') for word in st.split()]\" is list comprehension statement that generates a list of strings without any punctuation marks using the sentence entered by the user.\n",
    "\n",
    "max() function is used to find the largest string among the strings present in the list generated by \"[word.strip('.?!,') for word in st.split()]\". Here max() function accepts an iterable and a key to specify a function that calculates a value to be used for comparisons. Here len() function is used as key for max().\n",
    "\n",
    "max() function then returns the largest word of the sentence entered by the user.\n",
    "\n",
    "Finally We are printing the result. "
   ]
  },
  {
   "cell_type": "markdown",
   "id": "9ea8d191-28c2-4500-a64f-940e3269c2eb",
   "metadata": {},
   "source": [
    "**38. Create a program that filters a list of strings to include only those with more than three vowels using list\n",
    "comprehension.**"
   ]
  },
  {
   "cell_type": "code",
   "execution_count": 50,
   "id": "e18c650a-ae84-4558-bba3-61e8be33df7a",
   "metadata": {},
   "outputs": [
    {
     "name": "stdout",
     "output_type": "stream",
     "text": [
      "['AUDIO', 'Decorume', 'Facetious', 'europe']\n"
     ]
    }
   ],
   "source": [
    "#Function that counts the number of vowels present in a string and returns True if the count is more than 3. \n",
    "def vowel_count(st):\n",
    "    count=0\n",
    "    for char in st:\n",
    "        if char in ('a','e','i','o','u') or char in ('A','E','I','O','U'):\n",
    "            count+=1\n",
    "    # return count\n",
    "    if count>3:\n",
    "        return True\n",
    "    return False\n",
    "\n",
    "lst=['anmol', 'anand', 'pwskills', 'AUDIO', 'Decorume', 'Facetious', 'europe', 'Union'] #Initialising the list of strings.\n",
    "updated_lst=[st for st in filter(vowel_count,lst)] #List comprehension is used to filter out the string containing more then 3 variables.\n",
    "print(updated_lst) #Printing the result."
   ]
  },
  {
   "cell_type": "markdown",
   "id": "a788aec3-dc09-4168-aaa1-9db31343c808",
   "metadata": {},
   "source": [
    "**Explanation:**\n",
    "\n",
    "\"vowel_count()\" function accepts a string as argurmrnt and return \"True\" if the count of vowels(Uppercase or Lowercaase) in the string is more than 3 or else it return \"False\".\n",
    "\n",
    "Inside \"vowel_count()\" we have initialsed a variable \"count\" that stores the count of the vowels(Uppercase or Lowercaase) in the string.\n",
    "\n",
    "\"for char in st\" is used to traverse through the each character of the string. \"if char in ('a','e','i','o','u') or char in ('A','E','I','O','U')\" checks whether the character being traversed is a vowel(Uppercase or Lowercaase) or not, If the character is a vowel then the \"if\" block is executed an the count variable is incremented by 1.\n",
    "\n",
    "After the for loop we check whether the count is greater than 3 or not. If the count is greater than 3 the function \"vowel_count()\" will retuen \"True\" otherwise \"False\".\n",
    "\n",
    "A list of strings is initialised.\n",
    "\n",
    "\"filter(vowel_count,lst)\" is used to filter the strings having more than 3 vowels. It returns an iterable containing strings having more than 3 vowels.\n",
    "\n",
    "filter() is a built-in function in python that is used to filter elements from an iterable for which the function returns \"True\".\n",
    "\n",
    "\"for st in filter(vowel_count,lst)\" is used to iterate through the iterable returned by the filter() function. Then list comprehension is used to add the elements of the iterable to a list \"updated_lst\".\n",
    "\n",
    "Finally we are printing the result."
   ]
  },
  {
   "cell_type": "markdown",
   "id": "50446d06-1264-4361-85c4-8c50533a017d",
   "metadata": {},
   "source": [
    "**39. Develop a program that calculates the sum of the digits of numbers from 1 to 1000 using list comprehension.**"
   ]
  },
  {
   "cell_type": "code",
   "execution_count": 51,
   "id": "3f7fd6af-46d4-479a-ab1c-1cccf29de8ff",
   "metadata": {},
   "outputs": [
    {
     "name": "stdout",
     "output_type": "stream",
     "text": [
      "The list cantaining list of sum of the digits of numbers from 1 to 1000 is:  [1, 2, 3, 4, 5, 6, 7, 8, 9, 1, 2, 3, 4, 5, 6, 7, 8, 9, 10, 2, 3, 4, 5, 6, 7, 8, 9, 10, 11, 3, 4, 5, 6, 7, 8, 9, 10, 11, 12, 4, 5, 6, 7, 8, 9, 10, 11, 12, 13, 5, 6, 7, 8, 9, 10, 11, 12, 13, 14, 6, 7, 8, 9, 10, 11, 12, 13, 14, 15, 7, 8, 9, 10, 11, 12, 13, 14, 15, 16, 8, 9, 10, 11, 12, 13, 14, 15, 16, 17, 9, 10, 11, 12, 13, 14, 15, 16, 17, 18, 1, 2, 3, 4, 5, 6, 7, 8, 9, 10, 2, 3, 4, 5, 6, 7, 8, 9, 10, 11, 3, 4, 5, 6, 7, 8, 9, 10, 11, 12, 4, 5, 6, 7, 8, 9, 10, 11, 12, 13, 5, 6, 7, 8, 9, 10, 11, 12, 13, 14, 6, 7, 8, 9, 10, 11, 12, 13, 14, 15, 7, 8, 9, 10, 11, 12, 13, 14, 15, 16, 8, 9, 10, 11, 12, 13, 14, 15, 16, 17, 9, 10, 11, 12, 13, 14, 15, 16, 17, 18, 10, 11, 12, 13, 14, 15, 16, 17, 18, 19, 2, 3, 4, 5, 6, 7, 8, 9, 10, 11, 3, 4, 5, 6, 7, 8, 9, 10, 11, 12, 4, 5, 6, 7, 8, 9, 10, 11, 12, 13, 5, 6, 7, 8, 9, 10, 11, 12, 13, 14, 6, 7, 8, 9, 10, 11, 12, 13, 14, 15, 7, 8, 9, 10, 11, 12, 13, 14, 15, 16, 8, 9, 10, 11, 12, 13, 14, 15, 16, 17, 9, 10, 11, 12, 13, 14, 15, 16, 17, 18, 10, 11, 12, 13, 14, 15, 16, 17, 18, 19, 11, 12, 13, 14, 15, 16, 17, 18, 19, 20, 3, 4, 5, 6, 7, 8, 9, 10, 11, 12, 4, 5, 6, 7, 8, 9, 10, 11, 12, 13, 5, 6, 7, 8, 9, 10, 11, 12, 13, 14, 6, 7, 8, 9, 10, 11, 12, 13, 14, 15, 7, 8, 9, 10, 11, 12, 13, 14, 15, 16, 8, 9, 10, 11, 12, 13, 14, 15, 16, 17, 9, 10, 11, 12, 13, 14, 15, 16, 17, 18, 10, 11, 12, 13, 14, 15, 16, 17, 18, 19, 11, 12, 13, 14, 15, 16, 17, 18, 19, 20, 12, 13, 14, 15, 16, 17, 18, 19, 20, 21, 4, 5, 6, 7, 8, 9, 10, 11, 12, 13, 5, 6, 7, 8, 9, 10, 11, 12, 13, 14, 6, 7, 8, 9, 10, 11, 12, 13, 14, 15, 7, 8, 9, 10, 11, 12, 13, 14, 15, 16, 8, 9, 10, 11, 12, 13, 14, 15, 16, 17, 9, 10, 11, 12, 13, 14, 15, 16, 17, 18, 10, 11, 12, 13, 14, 15, 16, 17, 18, 19, 11, 12, 13, 14, 15, 16, 17, 18, 19, 20, 12, 13, 14, 15, 16, 17, 18, 19, 20, 21, 13, 14, 15, 16, 17, 18, 19, 20, 21, 22, 5, 6, 7, 8, 9, 10, 11, 12, 13, 14, 6, 7, 8, 9, 10, 11, 12, 13, 14, 15, 7, 8, 9, 10, 11, 12, 13, 14, 15, 16, 8, 9, 10, 11, 12, 13, 14, 15, 16, 17, 9, 10, 11, 12, 13, 14, 15, 16, 17, 18, 10, 11, 12, 13, 14, 15, 16, 17, 18, 19, 11, 12, 13, 14, 15, 16, 17, 18, 19, 20, 12, 13, 14, 15, 16, 17, 18, 19, 20, 21, 13, 14, 15, 16, 17, 18, 19, 20, 21, 22, 14, 15, 16, 17, 18, 19, 20, 21, 22, 23, 6, 7, 8, 9, 10, 11, 12, 13, 14, 15, 7, 8, 9, 10, 11, 12, 13, 14, 15, 16, 8, 9, 10, 11, 12, 13, 14, 15, 16, 17, 9, 10, 11, 12, 13, 14, 15, 16, 17, 18, 10, 11, 12, 13, 14, 15, 16, 17, 18, 19, 11, 12, 13, 14, 15, 16, 17, 18, 19, 20, 12, 13, 14, 15, 16, 17, 18, 19, 20, 21, 13, 14, 15, 16, 17, 18, 19, 20, 21, 22, 14, 15, 16, 17, 18, 19, 20, 21, 22, 23, 15, 16, 17, 18, 19, 20, 21, 22, 23, 24, 7, 8, 9, 10, 11, 12, 13, 14, 15, 16, 8, 9, 10, 11, 12, 13, 14, 15, 16, 17, 9, 10, 11, 12, 13, 14, 15, 16, 17, 18, 10, 11, 12, 13, 14, 15, 16, 17, 18, 19, 11, 12, 13, 14, 15, 16, 17, 18, 19, 20, 12, 13, 14, 15, 16, 17, 18, 19, 20, 21, 13, 14, 15, 16, 17, 18, 19, 20, 21, 22, 14, 15, 16, 17, 18, 19, 20, 21, 22, 23, 15, 16, 17, 18, 19, 20, 21, 22, 23, 24, 16, 17, 18, 19, 20, 21, 22, 23, 24, 25, 8, 9, 10, 11, 12, 13, 14, 15, 16, 17, 9, 10, 11, 12, 13, 14, 15, 16, 17, 18, 10, 11, 12, 13, 14, 15, 16, 17, 18, 19, 11, 12, 13, 14, 15, 16, 17, 18, 19, 20, 12, 13, 14, 15, 16, 17, 18, 19, 20, 21, 13, 14, 15, 16, 17, 18, 19, 20, 21, 22, 14, 15, 16, 17, 18, 19, 20, 21, 22, 23, 15, 16, 17, 18, 19, 20, 21, 22, 23, 24, 16, 17, 18, 19, 20, 21, 22, 23, 24, 25, 17, 18, 19, 20, 21, 22, 23, 24, 25, 26, 9, 10, 11, 12, 13, 14, 15, 16, 17, 18, 10, 11, 12, 13, 14, 15, 16, 17, 18, 19, 11, 12, 13, 14, 15, 16, 17, 18, 19, 20, 12, 13, 14, 15, 16, 17, 18, 19, 20, 21, 13, 14, 15, 16, 17, 18, 19, 20, 21, 22, 14, 15, 16, 17, 18, 19, 20, 21, 22, 23, 15, 16, 17, 18, 19, 20, 21, 22, 23, 24, 16, 17, 18, 19, 20, 21, 22, 23, 24, 25, 17, 18, 19, 20, 21, 22, 23, 24, 25, 26, 18, 19, 20, 21, 22, 23, 24, 25, 26, 27, 1]\n"
     ]
    }
   ],
   "source": [
    "#A function is defined that returns the sum of digits of an integer.\n",
    "def sum_of_digits(num):\n",
    "    return sum(map(int,str(num)))\n",
    "\n",
    "sum_lst=[sum_ for sum_ in map(sum_of_digits,range(1,1001))] #List comprehension is used to list out the sum of digits of numbers from 1 to 1000.\n",
    "print(\"The list cantaining list of sum of the digits of numbers from 1 to 1000 is: \", sum_lst) #Printing the result."
   ]
  },
  {
   "cell_type": "markdown",
   "id": "d6a45a42-2c95-4fda-a35b-827c25cc2263",
   "metadata": {},
   "source": [
    "**Explanation:**\n",
    "\n",
    "Function \"sum_of_digits()\" is defined that accepts an integer an returns the sum of digits of that integer.\n",
    "\n",
    "\"map(int,str(n)\" inside the sum_of_digits() function accepts a number and then converts it into string, This string is then used as an iterable and each character of this string is then converted into the \"int\" to generate an iterable of integers, This iterable of integers is then used inside sum() function to return the sum of digits of the number.\n",
    "\n",
    "List comprehension is used to list out the sum of digits of numbers from 1 to 1000.\n",
    "\n",
    "\"map(sum_of_digits,range(1,1001))\" is used to apply sum_of_digits() to all the numbers of the iterable returned by \"range(1,1001)\" and the map() function also returns an iterable containing sum of digits of all the numbers passed to \"sum_of_digits()\" inside map() function.\n",
    "\n",
    "\"for sum_ in map(sum_of_digits,range(1,1001))\" is used to iterate through the iterable returned by map(), Then list comprehension is used to add the elements of the iterable to a list \"sum_lst\".\n",
    "\n",
    "Finally we are printing the result."
   ]
  },
  {
   "cell_type": "markdown",
   "id": "3bf2b6ee-4007-4452-a819-7715594e1bd7",
   "metadata": {},
   "source": [
    "**40. Write a program that generates a list of prime palindromic numbers using list comprehension.**"
   ]
  },
  {
   "cell_type": "code",
   "execution_count": 52,
   "id": "cde196a2-f214-4d17-bd6f-16c0e2e3c57f",
   "metadata": {},
   "outputs": [
    {
     "name": "stdin",
     "output_type": "stream",
     "text": [
      "Enter the upper limit: 1000\n"
     ]
    },
    {
     "name": "stdout",
     "output_type": "stream",
     "text": [
      "The list of palindromic prime numbers upto 1000 are: [2, 3, 5, 7, 11, 101, 131, 151, 181, 191, 313, 353, 373, 383, 727, 757, 787, 797, 919, 929]\n"
     ]
    }
   ],
   "source": [
    "from math import sqrt #Importing sqrt function from math module\n",
    "\n",
    "def check_prime(num): #This is the function to check if a number is prime or not. It accepts an integer as an arguement.\n",
    "    if num<=1: # 2 is the smallest prime number so any number lsee than 2 is not prime\n",
    "        return False\n",
    "    elif num==2:# 2 is the smallest and the only even prime number\n",
    "        return True\n",
    "    elif num%2==0: #any even number is not a prime number\n",
    "        return False\n",
    "    for i in range(3,int(sqrt(num))+1,2): #In this for loop we are checking if a number is divisible by any number between 3 and the square root of the given number. we have used 2 as the step size because every 2nd number starting from 3 is even number and all the even numbers other than 2 are not prime.\n",
    "        if num%i == 0:\n",
    "            return False\n",
    "    return True #if the function do not returns fron the \"for\" loop then it is a prime number \n",
    "\n",
    "#This function accepts a number as an arguement and then returns \"True\" if the number is palindromic or else it returns \"False\".\n",
    "def check_palindrome(num):\n",
    "    return str(num) == str(num)[::-1]\n",
    "\n",
    "limit=int(input(\"Enter the upper limit:\")) #Taking upper limit as input from the user.\n",
    "prime_lst=[num for num in range(2,limit+1) if check_prime(num) and check_palindrome(num)] #List comprehension is used to list out the numbers that are prime as well as palindromic.\n",
    "print(\"The list of palindromic prime numbers upto {} are: {}\".format(limit, prime_lst)) #Printing the result."
   ]
  },
  {
   "cell_type": "markdown",
   "id": "4e6ea1da-7257-4067-aab3-3a1842e297bc",
   "metadata": {},
   "source": [
    "**Explanation:**\n",
    "\n",
    "At first we are importing sqrt function from math module\n",
    "\n",
    "We have defined a function named \"check_prime\" that accepts an integer as arguement and returns True if the the number is prime, else return False.\n",
    "\n",
    "We have defined a function named \"check_palindrome\" that accepts an integer as arguement and returns True if the the number is palindrome, else return False.\n",
    "\n",
    "\"range(2,limit+1)\" returns an iterable containing numbers from 1 to limit (limit+1 is excluded). \n",
    "\n",
    "Range function accepts three parameters, and it's syntax is \"range(start, end, step)\", Range() creates a range object that represents a sequence of numbers between start and end(start is included and end is excluded). Step represents the jump size between the current number and the next number. The default value of step is 1.\n",
    "\n",
    "\"for num in range(2,limit+1)\" is used to iterate through the numbers in the iterable returned by \"range()\"\n",
    "\n",
    "\"if check_prime(num) and check_palindrome(num)\" is used to check that the number is prime and palindromic. This statement will return \"True\"if the number is prime as well as palindromic else it wiil return \"False\".\n",
    "\n",
    "The number for which \"if check_prime(num) and check_palindrome(num)\" statement returns True wiil be added to the list \"prime_lst\"\n",
    "\n",
    "Finally we are printing the result."
   ]
  }
 ],
 "metadata": {
  "kernelspec": {
   "display_name": "Python 3 (ipykernel)",
   "language": "python",
   "name": "python3"
  },
  "language_info": {
   "codemirror_mode": {
    "name": "ipython",
    "version": 3
   },
   "file_extension": ".py",
   "mimetype": "text/x-python",
   "name": "python",
   "nbconvert_exporter": "python",
   "pygments_lexer": "ipython3",
   "version": "3.10.8"
  }
 },
 "nbformat": 4,
 "nbformat_minor": 5
}
