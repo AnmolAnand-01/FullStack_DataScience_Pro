{
 "cells": [
  {
   "cell_type": "markdown",
   "id": "e15e70fe-dd30-4555-a71f-9a63c3b8904b",
   "metadata": {},
   "source": [
    "# Constructor:"
   ]
  },
  {
   "cell_type": "markdown",
   "id": "15002c61-1194-429f-a96b-9077fc29c422",
   "metadata": {},
   "source": [
    "**Q1. What is a constructor in Python? Explain its purpose and usage.**"
   ]
  },
  {
   "cell_type": "markdown",
   "id": "87025b91-937c-4385-aaff-c3986ff547ab",
   "metadata": {},
   "source": [
    "In Python, a constructor is a special method within a class that gets automatically invoked when a new object of that class is instantiated. The constructor method is named __init__() and its primary purpose is to initialize the object's attributes or perform any setup required when an object is created.\n",
    "\n",
    "Purpose of the Constructor:\n",
    "\n",
    "1. The most common use of a constructor is to initialize the instance variables (attributes) of the object to certain initial values.\n",
    "\n",
    "2. It allows performing any necessary setup or initialization tasks before the object is ready for use.\n",
    "\n",
    "Usage of Constructor:\n",
    "\n",
    "1. The constructor method is defined within a class using the def __init__(self, ...): syntax.\n",
    "\n",
    "2. It takes self (representing the instance being created) as its first parameter, followed by other parameters needed to initialize the object's attributes.\n",
    "\n",
    "3. Inside the __init__() method, we assign values to the object's attributes using self.attribute_name = initial_attribute_value.\n",
    "\n",
    "4. When an object of the class is created using the class name followed by parentheses (i.e., object instantiation), the __init__() method is automatically called."
   ]
  },
  {
   "cell_type": "code",
   "execution_count": 1,
   "id": "3d517b9c-f919-47ac-90cc-fd096c4468c8",
   "metadata": {},
   "outputs": [],
   "source": [
    "class Car:\n",
    "    # Defining the cunstructor of the \"Car\" class.\n",
    "    def __init__(self, make, model, year):\n",
    "        self.make = make        # Initializing 'make' attribute\n",
    "        self.model = model      # Initializing 'model' attribute\n",
    "        self.year = year        # Initializing 'year' attribute\n",
    "\n",
    "# Creating instances of the Car class (objects)\n",
    "car1 = Car(\"Toyota\", \"Corolla\", 2020)\n",
    "car2 = Car(\"Tesla\", \"Model S\", 2022)\n"
   ]
  },
  {
   "cell_type": "markdown",
   "id": "3bb6ec3f-5785-4bfe-a741-dceaceeed33d",
   "metadata": {},
   "source": [
    "**Explanation:**\n",
    "\n",
    "In the above example, the __init__() method is used to initialize the attributes \"make\", \"model\", and \"year\" for each Car object.\n",
    "\n",
    "When \"car1\" and \"car2\" are created, the __init__() method is automatically called for each instance, initializing their respective attributes based on the provided arguments."
   ]
  },
  {
   "cell_type": "markdown",
   "id": "615e23b3-d7d3-4057-b5a4-0e685ed44964",
   "metadata": {},
   "source": [
    "**Q2. Differentiate between a parameterless constructor and a parameterized constructor in Python.**"
   ]
  },
  {
   "cell_type": "markdown",
   "id": "96f51a25-522d-4378-ab8d-600d34749172",
   "metadata": {},
   "source": [
    "**Parameterless Constructor:**\n",
    "\n",
    "Definition: A parameterless constructor is a constructor method that doesn't take any additional parameters other than the mandatory \"self\" (representing the instance being created).\n",
    "\n",
    "Syntax: It's defined with the def __init__(self): syntax.\n",
    "\n",
    "Purpose: It initializes object attributes to default values or performs some default setup when an object is created.\n",
    "\n",
    "**Parameterized Constructor:**\n",
    "\n",
    "Definition: A parameterized constructor is a constructor method that takes additional parameters along with the mandatory \"self\" (representing the instance being created).\n",
    "\n",
    "Syntax: It's defined with the def __init__(self, param1, param2, ...): syntax, where param1, param2, etc., represent parameters.\n",
    "\n",
    "Purpose: It initializes object attributes with values provided during object instantiation, allowing customization based on the provided arguments.\n",
    "\n",
    "**Key Differences:**\n",
    "\n",
    "Parameterless Constructor doesn't take any additional parameters other than self. Where as, parameterized Constructor takes additional parameters along with self.\n",
    "\n",
    "Parameterless Constructor initializes object attributes to default values or performs default setup without external input. Where as, parameterized Constructor, initializes object attributes with values provided during object creation, allowing customization based on provided arguments.\n",
    "\n",
    "Parameterless Constructor is used when default initialization or setup is needed without requiring external input. Where as, parameterized Constructor is used when objects need to be initialized with custom values based on the provided arguments during object instantiation."
   ]
  },
  {
   "cell_type": "markdown",
   "id": "bec91348-26a3-4490-9c40-2109e9e77cfa",
   "metadata": {},
   "source": [
    "**Q3. How do you define a constructor in a Python class? Provide an example.**"
   ]
  },
  {
   "cell_type": "markdown",
   "id": "5b565e08-ed21-41ea-9376-504effcb27e9",
   "metadata": {},
   "source": [
    "In Python, a constructor is defined using a special method (dunder method) named __init__(). It's used to initialize the attributes (variables) of an object when an instance of the class is created.\n",
    "\n",
    "Below is an example:"
   ]
  },
  {
   "cell_type": "code",
   "execution_count": 2,
   "id": "cc36bdd1-6e02-4cd5-9d09-59f60714cc12",
   "metadata": {},
   "outputs": [
    {
     "name": "stdout",
     "output_type": "stream",
     "text": [
      "Anmol\n",
      "24\n"
     ]
    }
   ],
   "source": [
    "class Person:\n",
    "    def __init__(self, name, age):\n",
    "        self.name = name   # Initializing the 'name' attribute\n",
    "        self.age = age     # Initializing the 'age' attribute\n",
    "\n",
    "# Creating an instance of the Person class (object instantiation)\n",
    "person1 = Person(\"Anmol\", 24)\n",
    "\n",
    "# Accessing object attributes\n",
    "print(person1.name)  \n",
    "print(person1.age)   "
   ]
  },
  {
   "cell_type": "markdown",
   "id": "fc7dd444-4e67-4212-9ea9-5346787da174",
   "metadata": {},
   "source": [
    "**Explanation:**\n",
    "\n",
    "The __init__() method is defined within the Person class to initialize the object's attributes \"name\" and \"age\".\n",
    "\n",
    "When an object (person1) of the Person class is created (Person(\"Alice\", 30)), the __init__() method is automatically called.\n",
    "\n",
    "Inside __init__(), the self parameter represents the instance being created (person1 in this case), and it is used to set the initial values of the attributes (self.name and self.age) using the arguments provided during object instantiation.\n",
    "\n",
    "person1.name and person1.age are used to access the name and age attributes of the person1 object, respectively."
   ]
  },
  {
   "cell_type": "markdown",
   "id": "85965f50-051e-4b42-a414-3d81f5846cd7",
   "metadata": {},
   "source": [
    "**Q4. Explain the `__init__` method in Python and its role in constructors.**"
   ]
  },
  {
   "cell_type": "markdown",
   "id": "dffe0091-6513-48cf-b734-3bef7d84f6db",
   "metadata": {},
   "source": [
    "In Python, the `__init__` method is a special method, also known as a constructor method. It plays a crucial role in initializing objects when they are created within a class. The name `__init__` stands for \"initialize\" and it gets automatically invoked when an instance of a class is created.\n",
    "\n",
    "Role of `__init__` Method (Constructor):\n",
    "\n",
    "1. The primary purpose of `__init__` is to initialize the attributes (instance variables) of an object with values provided during object instantiation. It allows setting initial values for the object's attributes to establish their initial state.\n",
    "\n",
    "2. When an instance of a class is created using the class name followed by parentheses, such as \"object_name = class_name(arguments)\", the `__init__` method is automatically called.\n",
    "\n",
    "3. The first parameter of the `__init__` method is 'self', which represents the instance of the class itself. Inside `__init__`, self is used to refer to the instance being initialized, allowing access to its attributes and methods."
   ]
  },
  {
   "cell_type": "markdown",
   "id": "04ccb3fb-3161-4177-9650-68f91e3a7c2e",
   "metadata": {},
   "source": [
    "**Q5. In a class named `Person`, create a constructor that initializes the `name` and `age` attributes. Provide an\n",
    "example of creating an object of this class.**"
   ]
  },
  {
   "cell_type": "code",
   "execution_count": null,
   "id": "6c41372e-fde1-4a6b-bee4-f705e22786f9",
   "metadata": {},
   "outputs": [],
   "source": [
    "class Person:\n",
    "    def __init__(self, name, age):\n",
    "        self.name = name   # Initializing the 'name' attribute\n",
    "        self.age = age     # Initializing the 'age' attribute\n",
    "\n",
    "# Creating an instance of the Person class (object instantiation)\n",
    "person1 = Person(\"Anmol\", 24)\n",
    "\n",
    "# Accessing object attributes\n",
    "print(person1.name)  \n",
    "print(person1.age)  \n"
   ]
  },
  {
   "cell_type": "markdown",
   "id": "c401b45e-2f2e-481e-bea7-36fd90333374",
   "metadata": {},
   "source": [
    "**Explanation:**\n",
    "\n",
    "The \"Person\" class has an `__init__` method that takes name and age parameters to initialize the name and age attributes of objects created from this class.\n",
    "\n",
    "When person1 is created (person1 = Person(\"Anmol\", 24)), the `__init__` method is automatically called with \"self\" representing \"person1\". It initializes the name attribute as \"Anmol\" and the age attribute as 25.\n",
    "\n",
    "Using \"person1.name\" and \"person1.age\" allows access to the name and age attributes of the person1 object, respectively."
   ]
  },
  {
   "cell_type": "markdown",
   "id": "0f80e842-bd95-40e5-a2ef-9c30f7cb8575",
   "metadata": {},
   "source": [
    "**Q6. How can you call a constructor explicitly in Python? Give an example.**"
   ]
  },
  {
   "cell_type": "markdown",
   "id": "087f5bb1-c118-40e5-a9d6-e46b116ab972",
   "metadata": {},
   "source": [
    "In Python, the constructor (`__init__` method) is automatically called when an object of a class is instantiated. However, there's no direct or standard way to explicitly call the constructor method manually from outside the class.\n",
    "\n",
    "In case of inheritance, the constructor of the parent class can be called explicitely by the child class using \"super()\" method.\n",
    "\n",
    "Below is an example."
   ]
  },
  {
   "cell_type": "code",
   "execution_count": 3,
   "id": "886daaa2-718d-403e-be14-1fb0b19be2f0",
   "metadata": {},
   "outputs": [
    {
     "name": "stdout",
     "output_type": "stream",
     "text": [
      "Dog\n",
      "Golden Retriever\n",
      "Woof!\n"
     ]
    }
   ],
   "source": [
    "# Parent class (Superclass)\n",
    "class Animal:\n",
    "    def __init__(self, species):\n",
    "        self.species = species\n",
    "\n",
    "    def make_sound(self):\n",
    "        pass\n",
    "\n",
    "# Child class (Subclass) inheriting from Animal\n",
    "class Dog(Animal):\n",
    "    def __init__(self, breed):\n",
    "        super().__init__(\"Dog\")  # Calling superclass's __init__ method\n",
    "        self.breed = breed\n",
    "\n",
    "    def make_sound(self):  \n",
    "        return \"Woof!\"\n",
    "\n",
    "# Creating an instance of the Dog class\n",
    "my_dog = Dog(\"Golden Retriever\")\n",
    "\n",
    "# Accessing attributes and methods from the superclass and subclass\n",
    "print(my_dog.species)  \n",
    "print(my_dog.breed)    \n",
    "print(my_dog.make_sound()) \n"
   ]
  },
  {
   "cell_type": "markdown",
   "id": "2135fd19-b9c7-4c34-9367-7b6514e628a2",
   "metadata": {},
   "source": [
    "**Explanation:**\n",
    "\n",
    "The \"Animal\" class serves as the superclass. It has an `__init__` method that initializes an attribute \"species\". It also contains a method \"make_sound\", which is left undefined (pass), allowing subclasses to define it.\n",
    "\n",
    "The \"Dog\" class is a subclass of Animal, inheriting its attributes and methods. It has its own `__init__` method that takes a \"breed\" parameter. Inside `__init__`, it calls the superclass's (Animal) `__init__` method using `super().__init__(\"Dog\")` to set the species attribute of the Animal class to \"Dog\". It also initializes its own attribute breed with the provided value.\n",
    "\n",
    "\"make_sound()\" method is defined inside the Dog class that prints a message, to simulate the sound of a dog.\n",
    "\n",
    "An instance of the Dog class (my_dog) is created with the breed \"Golden Retriever\".\n",
    "\n",
    "The instance attributes species and breed are accessed using \"my_dog.species\" and 'my_dog.breed\", respectively.\n",
    "\n",
    "The \"make_sound\" method of \"my_dog\" is invoked using \"my_dog.make_sound()\"."
   ]
  },
  {
   "cell_type": "markdown",
   "id": "08d51abc-d56d-4688-864b-2e4c22832dd0",
   "metadata": {},
   "source": [
    "**Q7. What is the significance of the `self` parameter in Python constructors? Explain with an example.**"
   ]
  },
  {
   "cell_type": "markdown",
   "id": "b82c4c33-d140-4cab-ae2d-39b26d0331f2",
   "metadata": {},
   "source": [
    "In Python, the self parameter in constructors (and other instance methods) refers to the instance of the class itself. It's a convention used to pass the instance as the first parameter to instance methods, including constructors. This parameter allows access to the instance attributes and methods within the class.\n",
    "\n",
    "Significance of self in Constructors:\n",
    "\n",
    "\"self\" is used to access and initialize instance attributes within the constructor. It allows differentiation between instance attributes and local variables.\n",
    "\n",
    "\"self\" is crucial for managing multiple instances of a class. When an object is created, the self parameter represents that particular instance, enabling the initialization of instance-specific attributes.\n",
    "\n",
    "Below is an example:"
   ]
  },
  {
   "cell_type": "code",
   "execution_count": 4,
   "id": "9ef0a461-a03b-482f-884e-8ad603f002df",
   "metadata": {},
   "outputs": [
    {
     "name": "stdout",
     "output_type": "stream",
     "text": [
      "Make: Toyota, Model: Corolla\n",
      "Make: Tesla, Model: Model S\n"
     ]
    }
   ],
   "source": [
    "class Car:\n",
    "    def __init__(self, make, model):\n",
    "        self.make = make    # Initializing 'make' attribute of the instance\n",
    "        self.model = model  # Initializing 'model' attribute of the instance\n",
    "\n",
    "    def display_details(self):\n",
    "        print(f\"Make: {self.make}, Model: {self.model}\")\n",
    "\n",
    "# Creating instances of the Car class\n",
    "car1 = Car(\"Toyota\", \"Corolla\")\n",
    "car2 = Car(\"Tesla\", \"Model S\")\n",
    "\n",
    "# Accessing instance attributes and calling instance method\n",
    "car1.display_details()  \n",
    "car2.display_details() "
   ]
  },
  {
   "cell_type": "markdown",
   "id": "0a55ec04-9000-4849-add4-5f57b7c7aca2",
   "metadata": {},
   "source": [
    "**Explanation:**\n",
    "\n",
    "The `__init__` method of the Car class initializes the make and model attributes for each instance using self.\n",
    "\n",
    "When car1 and car2 are created, the \"self\" parameter refers to the respective instances (car1 and car2), allowing the initialization of unique attributes.\n",
    "\n",
    "In the \"display_details\" method, \"self\" is used to access the instance attributes (make and model) to display the details specific to each car instance."
   ]
  },
  {
   "cell_type": "markdown",
   "id": "e9d62dd2-6e73-402d-a2ad-c54b86af6388",
   "metadata": {},
   "source": [
    "**Q8. Discuss the concept of default constructors in Python. When are they used?**"
   ]
  },
  {
   "cell_type": "markdown",
   "id": "954fa526-6dbf-4f8d-ac09-4db90312207b",
   "metadata": {},
   "source": [
    "In Python, the concept of a default constructor typically refers to the automatic creation of a constructor (`__init__` method) if one is not explicitly defined within a class. \n",
    "\n",
    "If we do not define an `__init__` method within a class, Python automatically generates a default constructor for that class.\n",
    "\n",
    "This default constructor doesn't perform any initialization tasks unless the class inherits an `__init__` method from its parent class or if we later define an `__init__` method in the subclass.\n",
    "\n",
    "In subclasses, if an `__init__` method is not defined, the default constructor of the superclass is implicitly inherited. This allows instances of the subclass to be created without explicitly defining initialization logic."
   ]
  },
  {
   "cell_type": "code",
   "execution_count": 6,
   "id": "887c872c-bdcd-478a-9170-996688000595",
   "metadata": {},
   "outputs": [],
   "source": [
    "class MyClass:\n",
    "    pass  # No explicit __init__ method defined\n",
    "\n",
    "# Creating an instance of MyClass\n",
    "obj = MyClass()\n",
    "\n",
    "# The default constructor is automatically generated and doesn't perform any initialization"
   ]
  },
  {
   "cell_type": "markdown",
   "id": "5a91c227-fb39-42d5-8d55-e25d997f6cd7",
   "metadata": {},
   "source": [
    "When are they used?\n",
    "\n",
    "Default constructors come into play when we don't explicitly define an `__init__` method within a class.\n",
    "\n",
    "In cases where no specific initialization is required for instances of a class, the default constructor suffices as it provides a basic initialization.\n",
    "\n",
    "In subclassing scenarios, if the subclass does not define its own `__init__` method, it implicitly inherits the default constructor from the superclass."
   ]
  },
  {
   "cell_type": "markdown",
   "id": "28cf92b6-46eb-44c8-8960-0ff2d4f18f6b",
   "metadata": {},
   "source": [
    "**Q9. Create a Python class called `Rectangle` with a constructor that initializes the `width` and `height` attributes. Provide a method to calculate the area of the rectangle.**"
   ]
  },
  {
   "cell_type": "code",
   "execution_count": 7,
   "id": "d4eb2f63-6b99-4ad8-baa7-0b2bdc9d3802",
   "metadata": {},
   "outputs": [
    {
     "name": "stdout",
     "output_type": "stream",
     "text": [
      "Area of the rectangle: 40\n"
     ]
    }
   ],
   "source": [
    "class Rectangle:\n",
    "    def __init__(self, width, height):\n",
    "        self.width = width\n",
    "        self.height = height\n",
    "\n",
    "    def calculate_area(self):\n",
    "        return self.width * self.height\n",
    "\n",
    "# Creating an instance of the Rectangle class\n",
    "rectangle = Rectangle(5, 8)\n",
    "\n",
    "# Calculating the area of the rectangle\n",
    "area = rectangle.calculate_area()\n",
    "print(\"Area of the rectangle:\", area)  \n"
   ]
  },
  {
   "cell_type": "markdown",
   "id": "3c7883b8-be47-4581-b4db-49e243f23632",
   "metadata": {},
   "source": [
    "**Explanation:**\n",
    "\n",
    "The Rectangle class has an `__init__` method (constructor) that initializes the width and height attributes based on the provided arguments.\n",
    "\n",
    "The \"calculate_area\" method calculates the area of the rectangle by multiplying its width and height attributes.\n",
    "\n",
    "An instance of the Rectangle class (rectangle) is created with a width of 5 and a height of 8.\n",
    "\n",
    "The c\"alculate_area\" method is called on the rectangle object, and the calculated area is printed."
   ]
  },
  {
   "cell_type": "markdown",
   "id": "299d1fc0-c982-4055-addd-d4a507f610ae",
   "metadata": {},
   "source": [
    "**Q10. How can you have multiple constructors in a Python class? Explain with an example.**"
   ]
  },
  {
   "cell_type": "markdown",
   "id": "91f70d61-bb5d-4e75-93c5-dcca017cdf27",
   "metadata": {},
   "source": [
    "In Python, we cannot have multiple constructors as in other programming languages like Java or C++. However, we can achieve similar behavior using class methods, using \"@classmethod\" decorators, to create different ways of creating instances, which can mimic the concept of multiple constructors.\n",
    "\n",
    "Example of Simulating Multiple Constructors with Class Methods:"
   ]
  },
  {
   "cell_type": "code",
   "execution_count": 3,
   "id": "27fc45e2-068f-4f19-a30d-47e1adb54b92",
   "metadata": {},
   "outputs": [
    {
     "name": "stdout",
     "output_type": "stream",
     "text": [
      "value1 value2\n",
      "hello world\n",
      "default_param1 default_param2\n"
     ]
    }
   ],
   "source": [
    "class MyClass:\n",
    "    def __init__(self, param1, param2):\n",
    "        self.param1 = param1\n",
    "        self.param2 = param2\n",
    "\n",
    "    @classmethod\n",
    "    def from_string(cls, string_data):\n",
    "        # Custom parsing logic to create an instance from a string\n",
    "        parsed_data = string_data.split(',')\n",
    "        return cls(parsed_data[0], parsed_data[1])\n",
    "\n",
    "    @classmethod\n",
    "    def default_constructor(cls):\n",
    "        # Default values for instance creation\n",
    "        return cls(\"default_param1\", \"default_param2\")\n",
    "\n",
    "# Creating instances using different constructor-like class methods\n",
    "obj1 = MyClass(\"value1\", \"value2\")  # Using the regular __init__ constructor\n",
    "obj2 = MyClass.from_string(\"hello,world\")  # Using a class method for string parsing\n",
    "obj3 = MyClass.default_constructor()  # Using a class method for default values\n",
    "\n",
    "print(obj1.param1, obj1.param2)  \n",
    "print(obj2.param1, obj2.param2)  \n",
    "print(obj3.param1, obj3.param2) \n",
    "# print(type(obj1), type(obj2), type(obj2))"
   ]
  },
  {
   "cell_type": "markdown",
   "id": "a8c82f40-da06-4e08-b311-82284b3635c2",
   "metadata": {},
   "source": [
    "**Explanation:**\n",
    "\n",
    "The MyClass class has an `__init__` method as a regular constructor that initializes attributes \"param1\" and \"param2\".\n",
    "\n",
    "Here two class methods are defined, \"from_string\" and \"default_constructor\".\n",
    "\n",
    "\"from_string\" is used to create an instance by parsing a string, while \"default_constructor\" creates an instance with default values.\n",
    "\n",
    "Each class method is decorated with \"@classmethod\", allowing them to be called without creating an instance of the class explicitly.\n",
    "\n",
    "Instances (obj1, obj2, obj3) are created using different class methods, each providing a different way to create instances with different sets of parameters or default values."
   ]
  },
  {
   "cell_type": "markdown",
   "id": "3bb238bf-41ce-4db2-85b0-b9231e610d4f",
   "metadata": {},
   "source": [
    "**Q11. What is method overloading, and how is it related to constructors in Python?**"
   ]
  },
  {
   "cell_type": "markdown",
   "id": "f3300b26-081f-48c2-a77e-8b4730ad64c2",
   "metadata": {},
   "source": [
    "Method overloading refers to the ability of a programming language to define multiple methods with the same name within a class, but with different parameters or different behaviors. In many programming languages like Java or C++, method overloading allows a class to have multiple methods with the same name but different signatures (number or types of parameters).\n",
    "\n",
    "However, Python does not support method overloading in the traditional sense as seen in languages like Java or C++. In Python, defining multiple methods with the same name but different parameters (as in method overloading) would only keep the latest defined method, and previous ones with the same name would be overridden.\n",
    "\n",
    "Python does not support multiple constructors (overloading) within the same class. Only one __init__ method can exist within a class, and redefining it will override the previous definition. Therefore, we cannot have multiple constructors in the traditional sense.\n",
    "\n",
    "To create different initialization behaviors or simulate multiple constructors in python, we often use default arguments or class methods to create different ways of initializing objects or providing alternative constructors. These techniques don't strictly achieve method overloading but enable creating multiple object creation behaviors."
   ]
  },
  {
   "cell_type": "code",
   "execution_count": 8,
   "id": "331e2cfb-213b-4a6a-892b-16165f4cbaaa",
   "metadata": {},
   "outputs": [
    {
     "name": "stdout",
     "output_type": "stream",
     "text": [
      "Simulating Method overloading for constructor using default arguements.\n",
      "\n",
      "value1 value2\n",
      "value1\n"
     ]
    }
   ],
   "source": [
    "print(\"Simulating Method overloading for constructor using default arguements.\\n\")\n",
    "class MyClass:\n",
    "    def __init__(self, param1, param2=None):\n",
    "        if param2 is None:\n",
    "            # Custom behavior for one parameter constructor\n",
    "            self.param1 = param1\n",
    "        else:\n",
    "            # Custom behavior for two parameter constructor\n",
    "            self.param1 = param1\n",
    "            self.param2 = param2\n",
    "\n",
    "            \n",
    "obj1=MyClass(\"value1\", \"value2\") # Providing two argumen\n",
    "obj2=MyClass(\"value1\") # Providing one argumen\n",
    "\n",
    "print(obj1.param1, obj1.param2) \n",
    "print(obj2.param1)"
   ]
  },
  {
   "cell_type": "markdown",
   "id": "a7ee1922-5cda-4c95-9ca3-339adccfb886",
   "metadata": {},
   "source": [
    "In the example above, the `__init__` method simulates constructor overloading by providing different behaviors based on the number of parameters or their values. This is not true method overloading, but it provides a workaround to achieve similar functionality in Python."
   ]
  },
  {
   "cell_type": "code",
   "execution_count": 9,
   "id": "c96a88a1-f1ae-4ef5-8403-8f4ee951bc15",
   "metadata": {},
   "outputs": [
    {
     "name": "stdout",
     "output_type": "stream",
     "text": [
      "Simulating Method overloading for constructor using class methods.\n",
      "\n",
      "value1 value2\n",
      "hello world\n",
      "default_param1 default_param2\n"
     ]
    }
   ],
   "source": [
    "print(\"Simulating Method overloading for constructor using class methods.\\n\")\n",
    "class MyClass:\n",
    "    def __init__(self, param1, param2):\n",
    "        self.param1 = param1\n",
    "        self.param2 = param2\n",
    "\n",
    "    @classmethod\n",
    "    def from_string(cls, string_data):\n",
    "        # Custom parsing logic to create an instance from a string\n",
    "        parsed_data = string_data.split(',')\n",
    "        return cls(parsed_data[0], parsed_data[1])\n",
    "\n",
    "    @classmethod\n",
    "    def default_constructor(cls):\n",
    "        # Default values for instance creation\n",
    "        return cls(\"default_param1\", \"default_param2\")\n",
    "\n",
    "# Creating instances using different constructor-like class methods\n",
    "obj1 = MyClass(\"value1\", \"value2\")  # Using the regular __init__ constructor\n",
    "obj2 = MyClass.from_string(\"hello,world\")  # Using a class method for string parsing\n",
    "obj3 = MyClass.default_constructor()  # Using a class method for default values\n",
    "\n",
    "print(obj1.param1, obj1.param2)  \n",
    "print(obj2.param1, obj2.param2)  \n",
    "print(obj3.param1, obj3.param2) "
   ]
  },
  {
   "cell_type": "markdown",
   "id": "1c6e21ec-7afa-4902-86f9-13fdf903871d",
   "metadata": {},
   "source": [
    "In the example above, we are simulating constructor overloading using \"@classmethod\" decorators, to create different ways of creating instances."
   ]
  },
  {
   "cell_type": "markdown",
   "id": "ec813cea-d5b0-4978-930f-5c5a206d6f2a",
   "metadata": {},
   "source": [
    "**Q12. Explain the use of the `super()` function in Python constructors. Provide an example.**"
   ]
  },
  {
   "cell_type": "markdown",
   "id": "83abcb73-9021-49d9-93da-c1cdfb9d1e2f",
   "metadata": {},
   "source": [
    "In Python, the \"super()\" function is used to call methods and access attributes from a superclass within a subclass. Specifically in constructors (__init__ methods), super() allows us to invoke the constructor of the superclass to perform initialization tasks from the subclass.\n",
    "\n",
    "super() can pass arguments to the superclass constructor if necessary for initializing superclass attributes."
   ]
  },
  {
   "cell_type": "code",
   "execution_count": 10,
   "id": "7b92ea0d-8dcc-4d14-8e64-af6c6c980667",
   "metadata": {},
   "outputs": [
    {
     "name": "stdout",
     "output_type": "stream",
     "text": [
      "Parent Class: Value1\n",
      "Child Class: Value2\n"
     ]
    }
   ],
   "source": [
    "class ParentClass:\n",
    "    def __init__(self, param1):\n",
    "        self.param1 = param1\n",
    "\n",
    "    def display(self):\n",
    "        print(\"Parent Class:\", self.param1)\n",
    "\n",
    "\n",
    "class ChildClass(ParentClass):\n",
    "    def __init__(self, param1, param2):\n",
    "        super().__init__(param1)  # Calling ParentClass constructor with param1\n",
    "        self.param2 = param2\n",
    "\n",
    "    def display(self):\n",
    "        super().display()  # Calling ParentClass display method\n",
    "        print(\"Child Class:\", self.param2)\n",
    "\n",
    "\n",
    "# Creating an instance of ChildClass\n",
    "child_obj = ChildClass(\"Value1\", \"Value2\")\n",
    "\n",
    "# Calling the display method of ChildClass\n",
    "child_obj.display()\n"
   ]
  },
  {
   "cell_type": "markdown",
   "id": "bb774184-fb71-4733-bc72-352beba837b6",
   "metadata": {},
   "source": [
    "**Explanation:**\n",
    "\n",
    "\"ParentClass\" defines an `__init__` method that initializes param1 and a \"display\" method to print the value of param1.\n",
    "\n",
    "\"ChildClass\" inherits from \"ParentClass\" and defines its own `__init__` method and \"display\" method.\n",
    "\n",
    "Inside ChildClass's `__init__`, `super().__init__(param1)` calls the constructor of ParentClass to initialize param1.\n",
    "\n",
    "\"self.param2 = param2\" initializes the param2 attribute specific to ChildClass.\n",
    "\n",
    "In the \"display\" method of \"ChildClass\", \"super().display()\" calls the display method of the ParentClass and then prints the value of param2."
   ]
  },
  {
   "cell_type": "markdown",
   "id": "aa35e46c-fc34-4c8f-acd0-d87e6e4254ad",
   "metadata": {},
   "source": [
    "**Q13. Create a class called `Book` with a constructor that initializes the `title`, `author`, and `published_year`\n",
    "attributes. Provide a method to display book details.**"
   ]
  },
  {
   "cell_type": "code",
   "execution_count": 11,
   "id": "d173ec4e-c9b9-4216-9287-6cd511e69b91",
   "metadata": {},
   "outputs": [
    {
     "name": "stdout",
     "output_type": "stream",
     "text": [
      "Title: Python Crash Course\n",
      "Author: Eric Matthes\n",
      "Published Year: 2019\n"
     ]
    }
   ],
   "source": [
    "class Book:\n",
    "    def __init__(self, title, author, published_year):\n",
    "        self.title = title\n",
    "        self.author = author\n",
    "        self.published_year = published_year\n",
    "\n",
    "    def display_details(self):\n",
    "        print(\"Title:\", self.title)\n",
    "        print(\"Author:\", self.author)\n",
    "        print(\"Published Year:\", self.published_year)\n",
    "\n",
    "# Creating an instance of the Book class\n",
    "book1 = Book(\"Python Crash Course\", \"Eric Matthes\", 2019)\n",
    "\n",
    "# Displaying book details\n",
    "book1.display_details()\n"
   ]
  },
  {
   "cell_type": "markdown",
   "id": "fcb30d0f-bab2-4247-bfc1-1b8e092c3c25",
   "metadata": {},
   "source": [
    "**Explanation:**\n",
    "\n",
    "The \"Book\" class has an `__init__` method (constructor) that initializes the title, author, and published_year attributes based on the provided arguments.\n",
    "\n",
    "The \"display_details\" method prints the details of the book, including its title, author, and published year.\n",
    "\n",
    "An instance of the \"Book\" class (book1) is created with specific values for the book's attributes (title, author, and published_year).\n",
    "\n",
    "The \"display_details\" method is called on book1 to display the book's details using the display_details method defined in the class."
   ]
  },
  {
   "cell_type": "markdown",
   "id": "eea0e714-fd16-4c7e-8817-98afd9b4e0b4",
   "metadata": {},
   "source": [
    "**Q14. Discuss the differences between constructors and regular methods in Python classes.**"
   ]
  },
  {
   "cell_type": "markdown",
   "id": "457737f9-c2e3-47c2-a0aa-888a6994d255",
   "metadata": {},
   "source": [
    "In Python classes, constructors (__init__ method) and regular methods have distinct roles and behaviors:\n",
    "\n",
    "Constructors (__init__ method):\n",
    "\n",
    "1. Constructors are special methods used to initialize objects of a class with initial values for their attributes. In Python, the constructor method is named `__init__`. Constructors can take parameters that are used to initialize the instance attributes.\n",
    "\n",
    "2. Constructors execute automatically when an object of the class is instantiated. Constructors don’t return any value explicitly. They initialize instance attributes.\n",
    "\n",
    "\n",
    "Regular Methods:\n",
    "\n",
    "1. Regular methods perform specific actions or functionalities on the class instances. Regular methods need to be explicitly called on an instance of the class using dot notation (object.method()). Regular methods can have any name and perform various operations on the instance.\n",
    "\n",
    "1. Regular methods can take parameters (including self) to perform operations on instance attributes (object variables). Regular methods can return values and perform various computations or operations.\n",
    "\n",
    "Key Differences between constructor and regular methods:\n",
    "\n",
    "1. Constructors initialize instance attributes or perform some setup task when an object is created. Where as, Regular methods perform specific actions or operations on the class instances.\n",
    "\n",
    "2. Constructors are automatically invoked upon object creation. Where as, Regular methods need to be explicitly called using object references.\n",
    "\n",
    "3. Constructors have a fixed name __init__, where as regular methods can have any valid method name.\n",
    "\n",
    "4. Both constructors and regular methods can take parameters, but only regular methods explicitly return values."
   ]
  },
  {
   "cell_type": "markdown",
   "id": "90054314-45bf-411b-8b15-b47af54f8801",
   "metadata": {},
   "source": [
    "**Q15. Explain the role of the `self` parameter in instance variable initialization within a constructor.**"
   ]
  },
  {
   "cell_type": "markdown",
   "id": "b854048b-0002-4c56-a27d-b180d152420d",
   "metadata": {},
   "source": [
    "The \"self\" parameter refers to the class instance, itself and allows access to the instance attributes and methods within the class. The self parameter in a constructor (__init__ method) plays a crucial role in initializing instance variables (attributes) within a class.\n",
    "\n",
    "Role of self in Instance Variable Initialization:\n",
    "\n",
    "1. Within the constructor, self is used to assign initial values to instance variables (attributes) of the class.\n",
    "\n",
    "2. \"self\" is used to distinguish between the instance variables and local variables within the method.\n",
    "\n",
    "3. \"self\" is used to access and modify instance attributes throughout the class methods, not just within the constructor.\n",
    "\n",
    "3. \"self\" allows access to instance-specific data and behavior within the class.\n",
    "\n",
    "Below is an Example illustrating the Role of self in Instance Variable Initialization:"
   ]
  },
  {
   "cell_type": "code",
   "execution_count": 13,
   "id": "c5518211-062d-467f-b240-65ee5d9fa08e",
   "metadata": {},
   "outputs": [
    {
     "name": "stdout",
     "output_type": "stream",
     "text": [
      "Attribute 1: 10\n",
      "Attribute 2: 20\n",
      "\n",
      "\n",
      "Attribute 1: 30\n",
      "Attribute 2: 40\n"
     ]
    }
   ],
   "source": [
    "class MyClass:\n",
    "    def __init__(self, value1, value2):\n",
    "        self.attribute1 = value1  # Initializing instance attribute attribute1\n",
    "        self.attribute2 = value2  # Initializing instance attribute attribute2\n",
    "\n",
    "    def display_attributes(self):\n",
    "        print(\"Attribute 1:\", self.attribute1)\n",
    "        print(\"Attribute 2:\", self.attribute2)\n",
    "\n",
    "# Creating instances of MyClass and initializing instance attributes\n",
    "obj1 = MyClass(10, 20)\n",
    "obj2 = MyClass(30, 40)\n",
    "\n",
    "# Accessing and displaying instance attributes using a method\n",
    "obj1.display_attributes()  \n",
    "print('\\n')\n",
    "obj2.display_attributes() \n"
   ]
  },
  {
   "cell_type": "markdown",
   "id": "02ef4146-f65b-4042-8522-0227afe3da0a",
   "metadata": {},
   "source": [
    "**Explanation:**\n",
    "\n",
    "In the MyClass constructor (__init__ method), self.attribute1 and self.attribute2 are initialized with values passed during object creation (value1 and value2).\n",
    "\n",
    "When instances obj1 and obj2 are created, \"self\" within the constructor refers to these instances (obj1 and obj2), initializing their individual attribute1 and attribute2.\n",
    "\n",
    "The display_attributes method displays the values of attribute1 and attribute2 specific to each instance using self."
   ]
  },
  {
   "cell_type": "markdown",
   "id": "b6d3b5f3-9570-4e4d-84ac-cc7d346312bc",
   "metadata": {},
   "source": [
    "**Q16. How do you prevent a class from having multiple instances by using constructors in Python? Provide an\n",
    "example.**"
   ]
  },
  {
   "cell_type": "markdown",
   "id": "fb6be25a-aee5-4766-97c9-361687ca232d",
   "metadata": {},
   "source": [
    "In Python, to prevent a class from having multiple instances using constructors, we can implement a design pattern called the \"Singleton pattern\". The Singleton pattern ensures that a class has only one instance throughout the entire application lifecycle and provides a way to access that instance."
   ]
  },
  {
   "cell_type": "code",
   "execution_count": 17,
   "id": "1b13235d-78ae-4781-9899-8c49cf7301ed",
   "metadata": {},
   "outputs": [
    {
     "name": "stdout",
     "output_type": "stream",
     "text": [
      "Instance 1 data\n",
      "Instance 1 data\n"
     ]
    }
   ],
   "source": [
    "class SingletonClass:\n",
    "    _instance = None  # Private class variable to hold the single instance\n",
    "\n",
    "    def __new__(cls, *args, **kwargs):\n",
    "        if not cls._instance:\n",
    "            cls._instance = super().__new__(cls)\n",
    "        return cls._instance\n",
    "\n",
    "    def __init__(self, data):\n",
    "        if not hasattr(self, 'data'):\n",
    "            self.data = data\n",
    "\n",
    "# Creating instances of SingletonClass\n",
    "singleton_instance1 = SingletonClass(\"Instance 1 data\")\n",
    "singleton_instance2 = SingletonClass(\"Instance 2 data\")\n",
    "\n",
    "print(singleton_instance1.data)  \n",
    "print(singleton_instance2.data) "
   ]
  },
  {
   "cell_type": "markdown",
   "id": "3a6375bd-0892-4d8b-851e-510f6105b831",
   "metadata": {},
   "source": [
    "**Explanation:**\n",
    "\n",
    "\"SingletonClass\" is defined, containing a private class variable \"_instance\", initialized as \"None\", which will hold the single instance of the class.\n",
    "\n",
    "The `__new__` method overrides the default object creation behavior (`__new__` is called before `__init__`) to check whether an instance of the class exists. This method is responsible for creating instances.\n",
    "\n",
    "The `__new__()` method checks if \"_instance\" is \"None\" (meaning no instance exists).\n",
    "\n",
    "If \"_instance\" is \"None\", it creates a new instance of the class using `super().__new__(cls)`. This creates the instance and assigns it to _instance.\n",
    "\n",
    "Subsequent calls to create new instances return the existing _instance, ensuring that only one instance of SingletonClass exists.\n",
    "\n",
    "`__init__()` method initializes the instance's data attribute if it hasn't been initialized before. This ensures that the data attribute is only set once, maintaining the Singleton pattern.\n",
    "\n",
    "The line \"if not hasattr(self, 'data')\" within the `__init__` method of the SingletonClass is a conditional check that verifies whether the instance (self) has an attribute named 'data' already set.\n",
    "\n",
    "Two instances of SingletonClass are created (singleton_instance1 and singleton_instance2).\n",
    "\n",
    "But, due to the Singleton pattern implemented in the` __new__()` method, both variables reference the same instance.\n",
    "\n",
    "As both variables reference the same instance, accessing the data attribute from either singleton_instance1 or singleton_instance2 results in the same value (Instance 1 data), demonstrating the Singleton pattern's behavior."
   ]
  },
  {
   "cell_type": "markdown",
   "id": "412d6565-93f4-40c9-9f1c-3ccf667ac499",
   "metadata": {},
   "source": [
    "**Q17. Create a Python class called `Student` with a constructor that takes a list of subjects as a parameter and\n",
    "initializes the `subjects` attribute.**"
   ]
  },
  {
   "cell_type": "code",
   "execution_count": null,
   "id": "08052b7f-20c8-4418-ad3d-ee2be3a499b8",
   "metadata": {},
   "outputs": [],
   "source": [
    "class Student:\n",
    "    def __init__(self, subjects):\n",
    "        self.subjects = subjects\n",
    "\n",
    "# Creating an instance of Student class with a list of subjects\n",
    "student1 = Student([\"Math\", \"Science\", \"History\", \"English\"])\n",
    "\n",
    "# Accessing and printing the subjects attribute\n",
    "print(student1.subjects)  \n"
   ]
  },
  {
   "cell_type": "markdown",
   "id": "8adc956e-7fde-4e4b-83b5-5736bab801d7",
   "metadata": {},
   "source": [
    "**Explanation:**\n",
    "\n",
    "The \"Student\" class contains an `__init__` method (constructor) that takes a list of subjects as a parameter.\n",
    "\n",
    "Inside the constructor, \"self.subjects\" is initialized with the provided list of subjects.\n",
    "\n",
    "An instance of the Student class (student1) is created by passing a list [\"Math\", \"Science\", \"History\", \"English\"] as the parameter.\n",
    "\n",
    "The print(student1.subjects) statement accesses and displays the subjects attribute of the student1 instance, showing the list of subjects assigned during object initialization."
   ]
  },
  {
   "cell_type": "markdown",
   "id": "f583ec03-7c26-4864-968b-f9015e978638",
   "metadata": {},
   "source": [
    "**Q18. What is the purpose of the `__del__` method in Python classes, and how does it relate to constructors?**"
   ]
  },
  {
   "cell_type": "markdown",
   "id": "29d4c875-f166-492e-9ab5-937820be923e",
   "metadata": {},
   "source": [
    "The `__del__` method in Python is a special method used to define the deletion behavior of an object. It's called when an object is about to be destroyed or garbage collected. It is the destructor method in Python classes and is the opposite of the constructor (`__init__`) method.\n",
    "\n",
    "Purpose of __del__ method:\n",
    "\n",
    "1. `__del__` allows us to define specific cleanup actions or release resources held by an object before it gets destroyed.\n",
    "\n",
    "2. It is invoked when the reference count of an object drops to zero, meaning there are no more references to the object, and it's eligible for garbage collection.\n",
    "\n",
    "Relation to Constructors (__init__):\n",
    "\n",
    "`__init__`: Constructor method, used for initializing attributes and setting up an object when it's created.\n",
    "\n",
    "`__del__`: Destructor method, used for cleanup or performing actions before the object is destroyed or garbage collected.\n",
    "\n",
    "`__init__` and `__del__` methods represent the object's life cycle."
   ]
  },
  {
   "cell_type": "code",
   "execution_count": 20,
   "id": "80ca7c08-f536-40f8-95e0-0139d78c58f2",
   "metadata": {},
   "outputs": [
    {
     "name": "stdout",
     "output_type": "stream",
     "text": [
      "Object 'Instance 1' created.\n",
      "Object 'Instance 2' created.\n",
      "\n",
      "\n",
      "Object 'Instance 1' deleted.\n",
      "Object 'Instance 2' deleted.\n"
     ]
    }
   ],
   "source": [
    "class MyClass:\n",
    "    def __init__(self, name):\n",
    "        self.name = name\n",
    "        print(f\"Object '{self.name}' created.\")\n",
    "\n",
    "    def __del__(self):\n",
    "        print(f\"Object '{self.name}' deleted.\")\n",
    "\n",
    "# Creating instances of MyClass\n",
    "obj1 = MyClass(\"Instance 1\")\n",
    "obj2 = MyClass(\"Instance 2\")\n",
    "\n",
    "print('\\n')\n",
    "\n",
    "# Deleting references to objects\n",
    "del obj1\n",
    "del obj2"
   ]
  },
  {
   "cell_type": "markdown",
   "id": "781d37d0-bbb7-42e1-b317-5a7cdf220f49",
   "metadata": {},
   "source": [
    "**Explanation:**\n",
    "\n",
    "The \"MyClass\" has an `__init__` method for initialization and a `__del__` method for deletion behavior.\n",
    "\n",
    "When instances obj1 and obj2 of MyClass are created, the `__init__` method is invoked, printing the creation messages.\n",
    "\n",
    "When references to objects are deleted using \"del\", the `__del__` method gets triggered for each object, printing the deletion messages."
   ]
  },
  {
   "cell_type": "markdown",
   "id": "4c9ac76c-123a-42d9-b817-882ebe6b20f9",
   "metadata": {},
   "source": [
    "**Q19. Explain the use of constructor chaining in Python. Provide a practical example.**"
   ]
  },
  {
   "cell_type": "markdown",
   "id": "34c124fd-83cf-498e-8e76-4b8f718ab069",
   "metadata": {},
   "source": [
    "Constructor chaining refers to the concept of calling one constructor from another constructor within the same class or between parent and child classes. In Python, this is often achieved using the \"super()\" function to call the constructor of the superclass."
   ]
  },
  {
   "cell_type": "code",
   "execution_count": 21,
   "id": "cc7ff766-5742-4a0d-848d-8eb3264e702c",
   "metadata": {},
   "outputs": [
    {
     "name": "stdout",
     "output_type": "stream",
     "text": [
      "Parent constructor called.\n",
      "Child constructor called.\n"
     ]
    }
   ],
   "source": [
    "class Parent:\n",
    "    def __init__(self, param1):\n",
    "        self.param1 = param1\n",
    "        print(\"Parent constructor called.\")\n",
    "\n",
    "class Child(Parent):\n",
    "    def __init__(self, param1, param2):\n",
    "        super().__init__(param1)  # Calling Parent's constructor\n",
    "        self.param2 = param2\n",
    "        print(\"Child constructor called.\")\n",
    "\n",
    "# Creating an instance of Child class\n",
    "child_obj = Child(\"Value1\", \"Value2\")\n"
   ]
  },
  {
   "cell_type": "markdown",
   "id": "f1da7aa1-b0d1-4765-ad27-4a1284418502",
   "metadata": {},
   "source": [
    "**Explanation:**\n",
    "\n",
    "The above code demonstrates constructor chaining in Python, where the Child class constructor calls the constructor of its superclass (Parent class) to initialize its attributes before initializing its own attributes.\n",
    "\n",
    "\"Parent\" class has a constructor (`__init__`) that initializes param1.\n",
    "\n",
    "\"Child\" class inherits from Parent and has its own constructor that initializes both param1 (via the parent constructor using super()) and param2.\n",
    "\n",
    "When an instance of Child class is created (child_obj = Child(\"Value1\", \"Value2\")), Child class's constructor is called.\n",
    "It then calls the Parent class's constructor using `super().__init__(param1)` to initialize param1. Then, it initializes param2."
   ]
  },
  {
   "cell_type": "markdown",
   "id": "93c83184-268f-400b-919f-b276ab9060e0",
   "metadata": {},
   "source": [
    "**Q20. Create a Python class called `Car` with a default constructor that initializes the `make` and `model`\n",
    "attributes. Provide a method to display car information.**"
   ]
  },
  {
   "cell_type": "code",
   "execution_count": 22,
   "id": "0d31f6c7-40e9-4fd7-abd9-a03d4fd191ac",
   "metadata": {},
   "outputs": [
    {
     "name": "stdout",
     "output_type": "stream",
     "text": [
      "Car Make: Toyota\n",
      "Car Model: Corolla\n"
     ]
    }
   ],
   "source": [
    "class Car:\n",
    "    def __init__(self, make, model):\n",
    "        self.make = make\n",
    "        self.model = model\n",
    "\n",
    "    def display_info(self):\n",
    "        print(f\"Car Make: {self.make}\")\n",
    "        print(f\"Car Model: {self.model}\")\n",
    "\n",
    "# Creating an instance of Car class with default attributes\n",
    "car1 = Car(\"Toyota\", \"Corolla\")\n",
    "\n",
    "# Displaying car information using the display_info method\n",
    "car1.display_info()\n"
   ]
  },
  {
   "cell_type": "markdown",
   "id": "b4c14d92-dfdc-481e-9345-4c16cb4c4eef",
   "metadata": {},
   "source": [
    "**Explanation:**\n",
    "\n",
    "The \"Car\" class has an `__init__` method (constructor) that initializes the make and model attributes based on the provided arguments.\n",
    "\n",
    "The \"display_info\" method is used to display the car's make and model attributes.\n",
    "\n",
    "An instance of the Car class (car1) is created with the make set to \"Toyota\" and model set to \"Corolla\".\n",
    "\n",
    "The \"car1.display_info()\" statement calls the \"display_info\" method to print the car's make and model information."
   ]
  },
  {
   "cell_type": "markdown",
   "id": "4b0b361b-1863-4c56-9afb-fb2b263dceda",
   "metadata": {},
   "source": [
    "# Inheritance:"
   ]
  },
  {
   "cell_type": "markdown",
   "id": "a12b1499-e894-4d7d-abde-4aa42574ba92",
   "metadata": {},
   "source": [
    "**Q1. What is inheritance in Python? Explain its significance in object-oriented programming.**"
   ]
  },
  {
   "cell_type": "markdown",
   "id": "c2e749c1-adf7-4875-8283-140269e27a52",
   "metadata": {},
   "source": [
    "Inheritance in Python is a fundamental feature of object-oriented programming (OOP) that allows a class (called a \"child\" or \"derived\" class) to inherit properties and behaviors (attributes and methods) from another class (called a \"parent\" or \"base\" class). The child class can reuse and extend the functionality of the parent class, promoting code reuse and creating a hierarchy of classes.\n",
    "\n",
    "Significance of Inheritance in OOP:\n",
    "\n",
    "1. Inheritance allows child classes to inherit attributes and methods from their parent class. This enables code reuse, preventing redundancy by using existing functionality defined in the parent class.\n",
    "\n",
    "2. Child classes can extend or modify the behavior of the parent class. They can add new attributes or methods, override existing methods, or introduce new functionalities while retaining the functionalities inherited from the parent.\n",
    "\n",
    "3. Inheritance facilitates the creation of a hierarchical structure among classes, representing an \"is-a\" relationship. For instance, a \"Car\" class can be a parent class, and \"SUV\" and \"Sedan\" classes can inherit from it, representing specific types of cars.\n",
    "\n",
    "4. Inheritance supports abstraction by allowing the creation of abstract base classes (which may have methods without implementation). It also enables polymorphism, allowing different objects to be treated as instances of their parent class, enhancing flexibility in code design.\n",
    "\n",
    "Example of Inheritance:"
   ]
  },
  {
   "cell_type": "code",
   "execution_count": 23,
   "id": "3dcf616e-5b77-4c93-ae00-23e1f4628316",
   "metadata": {},
   "outputs": [
    {
     "name": "stdout",
     "output_type": "stream",
     "text": [
      "Bulldog\n",
      "Woof!\n"
     ]
    }
   ],
   "source": [
    "# Parent class (Base class)\n",
    "class Animal:\n",
    "    def __init__(self, species):\n",
    "        self.species = species\n",
    "\n",
    "    def make_sound(self):\n",
    "        pass\n",
    "\n",
    "# Child class (Derived class) inheriting from Animal\n",
    "class Dog(Animal):\n",
    "    def make_sound(self):  # Overriding the method from the parent class\n",
    "        return \"Woof!\"\n",
    "\n",
    "# Creating an instance of the Dog class\n",
    "my_dog = Dog(\"Bulldog\")\n",
    "\n",
    "# Accessing attributes and methods from the parent and child classes\n",
    "print(my_dog.species)     \n",
    "print(my_dog.make_sound())"
   ]
  },
  {
   "cell_type": "markdown",
   "id": "46ef956c-53af-47cb-a731-1cae8b26c48f",
   "metadata": {},
   "source": [
    "In the above example, \"Dog\" is a child class that inherits from the \"Animal\" parent class. Dog class overrides the make_sound() method from the Animal class to provide its own implementation. When an instance of Dog (my_dog) is created, it retains the attributes inherited from Animal and uses the overridden method defined in Dog."
   ]
  },
  {
   "cell_type": "markdown",
   "id": "34701680-2939-46cf-a79d-54516e189877",
   "metadata": {},
   "source": [
    "**Q2. Differentiate between single inheritance and multiple inheritance in Python. Provide examples for each.**"
   ]
  },
  {
   "cell_type": "markdown",
   "id": "00675934-6587-4950-af22-e0a8350679c3",
   "metadata": {},
   "source": [
    "Single inheritance refers to a scenario where a class inherits from only one parent class.\n",
    "\n",
    "Multiple inheritance occurs when a class inherits from more than one parent class.\n",
    "\n",
    "Difference between single inheritance and multiple inheritance:\n",
    "\n",
    "Single inheritance, involves inheritance from only one parent class. Where as, multiple inheritance involves inheritance from multiple parent classes, allowing access to attributes and methods from all parent classes.\n",
    "\n",
    "Example of Single Inheritance:"
   ]
  },
  {
   "cell_type": "code",
   "execution_count": 24,
   "id": "cb56667c-2c03-4fd5-89c2-329a8d10c90b",
   "metadata": {},
   "outputs": [
    {
     "name": "stdout",
     "output_type": "stream",
     "text": [
      "Woof!\n"
     ]
    }
   ],
   "source": [
    "# Single Inheritance Example\n",
    "class Animal:\n",
    "    def sound(self):\n",
    "        return \"Generic animal sound\"\n",
    "\n",
    "class Dog(Animal):  # Dog inherits from Animal\n",
    "    def sound(self):  # Method overridden in Dog class\n",
    "        return \"Woof!\"\n",
    "\n",
    "# Creating an instance of Dog class\n",
    "my_dog = Dog()\n",
    "print(my_dog.sound())  \n"
   ]
  },
  {
   "cell_type": "markdown",
   "id": "6275a1ab-68a8-467e-801f-bcb92502f013",
   "metadata": {},
   "source": [
    "In the above example, \"Dog\" is the child class inheriting from the \"Animal\" parent class. It demonstrates single inheritance, where Dog inherits the \"sound()\" method from Animal. The sound() method is overridden in the Dog class to provide a different implementation specific to dogs."
   ]
  },
  {
   "cell_type": "markdown",
   "id": "fd82ab5f-a095-46bd-993f-3340c76a403a",
   "metadata": {},
   "source": [
    "Example of Multiple Inheritance:"
   ]
  },
  {
   "cell_type": "code",
   "execution_count": 26,
   "id": "25037df2-a8f4-41f9-96c7-ebf17bdd4276",
   "metadata": {},
   "outputs": [
    {
     "name": "stdout",
     "output_type": "stream",
     "text": [
      "Can fly.\n",
      "Can swim.\n"
     ]
    }
   ],
   "source": [
    "# Parent class 1\n",
    "class Bird:\n",
    "    def fly(self):\n",
    "        return \"Can fly.\"\n",
    "\n",
    "# Parent class 2\n",
    "class Fish:\n",
    "    def swim(self):\n",
    "        return \"Can swim.\"\n",
    "\n",
    "# Child class inheriting from both Bird and Fish\n",
    "class Duck(Bird, Fish):\n",
    "    pass\n",
    "\n",
    "# Creating an instance of the Duck class\n",
    "my_duck = Duck()\n",
    "\n",
    "# Accessing methods from both parent classes via multiple inheritance\n",
    "print(my_duck.fly())  \n",
    "print(my_duck.swim())  \n"
   ]
  },
  {
   "cell_type": "markdown",
   "id": "84f24603-b2b7-4ffd-bfca-5a45d99fe4f4",
   "metadata": {},
   "source": [
    "In the above example, the \"Duck\" class inherits from both the \"Bird\" and \"Fish\" classes. The Duck class doesn't have any methods of its own but inherits the fly() method from Bird and the swim() method from Fish"
   ]
  },
  {
   "cell_type": "markdown",
   "id": "053636f1-f00a-4fbc-8f9e-68b32b512020",
   "metadata": {},
   "source": [
    "**Q3. Create a Python class called `Vehicle` with attributes `color` and `speed`. Then, create a child class called\n",
    "`Car` that inherits from `Vehicle` and adds a `brand` attribute. Provide an example of creating a `Car` object.**"
   ]
  },
  {
   "cell_type": "code",
   "execution_count": 5,
   "id": "59939eeb-9ced-43f1-8f9e-11963eef49f3",
   "metadata": {},
   "outputs": [
    {
     "name": "stdout",
     "output_type": "stream",
     "text": [
      "Color: Red\n",
      "Speed: 120\n",
      "Brand: Toyota\n"
     ]
    }
   ],
   "source": [
    "class Vehicle:\n",
    "    def __init__(self, color, speed):\n",
    "        self.color = color\n",
    "        self.speed = speed\n",
    "\n",
    "class Car(Vehicle):\n",
    "    def __init__(self, color, speed, brand):\n",
    "        super().__init__(color, speed)\n",
    "        self.brand = brand\n",
    "\n",
    "# Creating an instance of Car class\n",
    "my_car = Car(\"Red\", 120, \"Toyota\")\n",
    "\n",
    "# Accessing attributes of Car object\n",
    "print(f\"Color: {my_car.color}\")  \n",
    "print(f\"Speed: {my_car.speed}\")  \n",
    "print(f\"Brand: {my_car.brand}\")  "
   ]
  },
  {
   "cell_type": "markdown",
   "id": "8340673c-e5f0-47c3-a979-338c624cd90d",
   "metadata": {},
   "source": [
    "**Explanation:**\n",
    "\n",
    "\"Vehicle\" class is defined with an `__init__` method that initializes color and speed attributes.\n",
    "\n",
    "\"Car\" class is a child class of \"Vehicle\" and has an `__init__` method that extends the parent class's constructor by adding a brand attribute.\n",
    "\n",
    "`super().__init__(color, speed)` is used in the Car class to call the constructor of the Vehicle class to initialize the color and speed attributes.\n",
    "\n",
    "An instance of the Car class (my_car) is created with color \"Red\", speed 120, and brand \"Toyota\".\n",
    "\n",
    "The print statements display the attributes of the my_car object, showcasing its color, speed, and brand."
   ]
  },
  {
   "cell_type": "markdown",
   "id": "09412a38-e079-4e0e-aa29-fb804c98c4f0",
   "metadata": {},
   "source": [
    "**Q4. Explain the concept of method overriding in inheritance. Provide a practical example.**"
   ]
  },
  {
   "cell_type": "markdown",
   "id": "7b2f2624-d30d-4e17-8764-06c12c0254d4",
   "metadata": {},
   "source": [
    "Method overriding in Python occurs when a subclass provides a specific implementation of a method that is already defined in its superclass. It allows a subclass to provide its own implementation of a method that is already present in its parent class.\n",
    "\n",
    "When a method in a subclass has the same name, including the same parameters, as a method in its superclass, it overrides the method in the superclass.\n",
    "\n",
    "The method in the subclass takes precedence over the method with the same name in the superclass when called for instances of the subclass.\n",
    "\n",
    "Method overriding allows subclasses to provide a specialized implementation of a method inherited from a superclass, enabling customization and specific behavior for different types of objects.\n",
    "\n",
    "Below is a practical example of method overriding."
   ]
  },
  {
   "cell_type": "code",
   "execution_count": 28,
   "id": "10f067c6-9852-44e0-aee2-d122d2cc85c2",
   "metadata": {},
   "outputs": [
    {
     "name": "stdout",
     "output_type": "stream",
     "text": [
      "Generic animal sound.\n",
      "Woof!\n"
     ]
    }
   ],
   "source": [
    "# Parent class (Base class)\n",
    "class Animal:\n",
    "    def make_sound(self):\n",
    "        return \"Generic animal sound.\"\n",
    "\n",
    "# Child class (Derived class) inheriting from Animal\n",
    "class Dog(Animal):\n",
    "    def make_sound(self):  # Overriding the method from the parent class\n",
    "        return \"Woof!\"\n",
    "\n",
    "# Creating instances of Animal and Dog classes\n",
    "generic_animal = Animal()\n",
    "my_dog = Dog()\n",
    "\n",
    "# Calling make_sound() method for instances of both classes\n",
    "print(generic_animal.make_sound())  \n",
    "print(my_dog.make_sound())         "
   ]
  },
  {
   "cell_type": "markdown",
   "id": "1e68bcdc-9462-4102-8153-0c3cd6de267e",
   "metadata": {},
   "source": [
    "**Explanation:**\n",
    "\n",
    "\"Animal\" class has a \"make_sound()\" method returning a generic animal sound.\n",
    "\n",
    "\"Dog\" class inherits from \"Animal\" and overrides the \"make_sound()\" method with its own implementation to return \"Woof!\".\n",
    "\n",
    "Instances of \"Animal\" class (generic_animal) and \"Dog\" class (my_dog) are created.\n",
    "\n",
    "When \"make_sound()\" is called for \"generic_animal\" (instance of Animal), it uses the method from the Animal class.\n",
    "\n",
    "When \"make_sound()\" is called for \"my_dog\" (instance of Dog), it uses the overridden method from the Dog class."
   ]
  },
  {
   "cell_type": "markdown",
   "id": "4edd5ff5-e2fc-47a8-a96e-313dae4718d7",
   "metadata": {},
   "source": [
    "**Q5. How can you access the methods and attributes of a parent class from a child class in Python? Give an\n",
    "example.**"
   ]
  },
  {
   "cell_type": "markdown",
   "id": "4fed7704-3924-4846-9ad3-a82d8f51fd90",
   "metadata": {},
   "source": [
    "In Python, you can access the methods and attributes of a parent class from a child class using the super() function or by directly referencing the parent class.\n",
    "\n",
    "1. Using super() function: The super() function is commonly used to access methods and attributes of the parent class from a child class.\n",
    "\n",
    "Example:"
   ]
  },
  {
   "cell_type": "code",
   "execution_count": 40,
   "id": "b2c3ac00-5812-4c4c-aa54-1fb61ea0165e",
   "metadata": {},
   "outputs": [
    {
     "name": "stdout",
     "output_type": "stream",
     "text": [
      "Parent attribute\n",
      "This is a method from the parent class.\n",
      "This is a method from the parent class. This is a method from the child class.\n"
     ]
    }
   ],
   "source": [
    "class Parent:\n",
    "    def __init__(self, parent_attr):\n",
    "        self.parent_attr = parent_attr\n",
    "\n",
    "    def parent_method(self):\n",
    "        return \"This is a method from the parent class.\"\n",
    "\n",
    "class Child(Parent):\n",
    "    def __init__(self, parent_attr, child_attr):\n",
    "        super().__init__(parent_attr)  # Accessing parent's constructor using super()\n",
    "        self.child_attr = child_attr\n",
    "\n",
    "    def child_method(self):\n",
    "        # print(super().parent_method()) # Accessing parent's method using super()\n",
    "        # return \"This is a method from the child class.\"\n",
    "        return f\"{super().parent_method()} This is a method from the child class.\"\n",
    "\n",
    "# Creating an instance of Child class\n",
    "child_obj = Child(\"Parent attribute\", \"Child attribute\")\n",
    "\n",
    "# Accessing parent's attribute and method using super()\n",
    "print(child_obj.parent_attr)         \n",
    "print(child_obj.parent_method())    \n",
    "print(child_obj.child_method())     "
   ]
  },
  {
   "cell_type": "markdown",
   "id": "6e54af42-3fea-4ade-a1df-5f7a809cb4ec",
   "metadata": {},
   "source": [
    "The above example demonstrates how the \"super()\" function can be used within a child class to access and utilize methods and attributes from its parent class."
   ]
  },
  {
   "cell_type": "markdown",
   "id": "6f10517e-77f4-402a-ae60-1a85cd3bb57a",
   "metadata": {},
   "source": [
    "2. Directly referencing the Parent Class: We can also directly reference the parent class to access its attributes and methods from within the Child class.\n",
    "\n",
    "Example:"
   ]
  },
  {
   "cell_type": "code",
   "execution_count": 38,
   "id": "f0deac67-1c18-488a-914e-2253f47b2243",
   "metadata": {},
   "outputs": [
    {
     "name": "stdout",
     "output_type": "stream",
     "text": [
      "Parent attribute\n",
      "This is a method from the parent class.\n",
      "This is a method from the parent class. This is a method from the child class.\n"
     ]
    }
   ],
   "source": [
    "class Parent:\n",
    "    def __init__(self, parent_attr):\n",
    "        self.parent_attr = parent_attr\n",
    "\n",
    "    def parent_method(self):\n",
    "        return \"This is a method from the parent class.\"\n",
    "\n",
    "class Child(Parent):\n",
    "    def __init__(self, parent_attr, child_attr):\n",
    "        Parent.__init__(self, parent_attr)  # Accessing parent's constructor directly\n",
    "        self.child_attr = child_attr\n",
    "\n",
    "    def child_method(self):\n",
    "        return f\"{self.parent_method()} This is a method from the child class.\"\n",
    "\n",
    "# Creating an instance of Child class\n",
    "child_obj = Child(\"Parent attribute\", \"Child attribute\")\n",
    "\n",
    "# Accessing parent's attribute and method by directly referencing the Parent class\n",
    "print(child_obj.parent_attr)         \n",
    "print(child_obj.parent_method())    \n",
    "print(child_obj.child_method())      "
   ]
  },
  {
   "cell_type": "markdown",
   "id": "4176b326-e3a8-4097-9c91-b2f4b1640ec8",
   "metadata": {},
   "source": [
    "The above example illustrates how to access the attributes and methods of the parent class directly within the child class, providing a way to utilize functionalities defined in the parent class within the context of the child class."
   ]
  },
  {
   "cell_type": "markdown",
   "id": "033a5f86-d308-4f33-b6e0-dfdfb556c5b5",
   "metadata": {},
   "source": [
    "**Q6. Discuss the use of the `super()` function in Python inheritance. When and why is it used? Provide an example.**"
   ]
  },
  {
   "cell_type": "markdown",
   "id": "0dbea6ed-0d18-41ad-9839-8fa0830a9af0",
   "metadata": {},
   "source": [
    "The super() function in Python is used primarily in inheritance to access and invoke methods or constructors from the parent class within a child class. It's particularly useful when dealing with multiple inheritance or when we want to call the parent class's methods without explicitly mentioning the class name.\n",
    "\n",
    "Usage of super() in Python Inheritance:\n",
    "\n",
    "1. super() allows a child class to access and call methods of its immediate parent class, especially when the child class overrides those methods.\n",
    "\n",
    "2. super() can also be used to call the constructor (`__init__` method) of the parent class from within the child class, ensuring proper initialization of attributes defined in the parent class.\n",
    "\n",
    "Example demonstrating the use of super():"
   ]
  },
  {
   "cell_type": "code",
   "execution_count": null,
   "id": "bbff5ff2-900e-4400-bcdd-9655d71fe1ad",
   "metadata": {},
   "outputs": [],
   "source": [
    "class Parent:\n",
    "    def __init__(self, parent_attr):\n",
    "        self.parent_attr = parent_attr\n",
    "\n",
    "    def display_info(self):\n",
    "        return f\"Parent attribute: {self.parent_attr}\"\n",
    "\n",
    "class Child(Parent):\n",
    "    def __init__(self, parent_attr, child_attr):\n",
    "        super().__init__(parent_attr)  # Using super() to call Parent's __init__\n",
    "        self.child_attr = child_attr\n",
    "\n",
    "    def display_info(self):\n",
    "        parent_info = super().display_info()  # Using super() to access Parent's method\n",
    "        return f\"{parent_info}\\nChild attribute: {self.child_attr}\"\n",
    "\n",
    "# Creating an instance of Child class\n",
    "child_obj = Child(\"Parent Value\", \"Child Value\")\n",
    "\n",
    "# Accessing and displaying attributes and methods using super()\n",
    "print(child_obj.display_info())"
   ]
  },
  {
   "cell_type": "markdown",
   "id": "fd3c610b-6576-4524-a32f-6cb3cff36d55",
   "metadata": {},
   "source": [
    "**Explanation:**\n",
    "\n",
    "\"Parent\" class has an `__init__` method and a \"display_info\" method that prints the \"parent_attr\".\n",
    "\n",
    "\"Child\" class inherits from \"Parent\" and has its own `__init__` method and \"display_info\" method.\n",
    "\n",
    "In the Child class, `super().__init__(parent_attr)` calls the Parent class's constructor to initialize parent_attr.\n",
    "\n",
    "\"super().display_info()\" is used within the Child class to access the Parent class's display_info method.\n",
    "\n",
    "An instance child_obj of Child class is created with attributes.\n",
    "\n",
    "child_obj.display_info() calls the overridden display_info() method from the Child class, which in turn uses super() to access and include the Parent class's information."
   ]
  },
  {
   "cell_type": "markdown",
   "id": "cab9f1c4-5bb4-4a01-85d9-4c6fbda5cee7",
   "metadata": {},
   "source": [
    "**Q7. Create a Python class called `Animal` with a method `speak()`. Then, create child classes `Dog` and `Cat` that inherits from Animal and override the speak() method. Provide an example using these classes**"
   ]
  },
  {
   "cell_type": "code",
   "execution_count": 1,
   "id": "2f2596aa-e7e2-4d6a-af1b-91a465f08b3a",
   "metadata": {},
   "outputs": [
    {
     "name": "stdout",
     "output_type": "stream",
     "text": [
      "Woof!\n",
      "Meow!\n"
     ]
    }
   ],
   "source": [
    "class Animal:\n",
    "    def speak(self):\n",
    "        return \"Undefined sound\"\n",
    "\n",
    "class Dog(Animal):\n",
    "    def speak(self):\n",
    "        return \"Woof!\"\n",
    "\n",
    "class Cat(Animal):\n",
    "    def speak(self):\n",
    "        return \"Meow!\"\n",
    "\n",
    "# Creating instances of Dog and Cat classes\n",
    "dog_instance = Dog()\n",
    "cat_instance = Cat()\n",
    "\n",
    "# Calling the speak() method for Dog and Cat instances\n",
    "print(dog_instance.speak()) \n",
    "print(cat_instance.speak()) \n"
   ]
  },
  {
   "cell_type": "markdown",
   "id": "162c9ff3-1ebd-4071-aea4-3dcd18b6cd0f",
   "metadata": {},
   "source": [
    "**Explanation:**\n",
    "\n",
    "\"Animal\" class defines a speak() method returning an \"Undefined sound\".\n",
    "\n",
    "\"Dog\" and \"Cat\" classes inherit from \"Animal\" and override the \"speak()\" method with their specific sounds (Woof! for Dog and Meow! for Cat).\n",
    "\n",
    "Instances \"dog_instance\" and \"cat_instance\" are created for the Dog and Cat classes, respectively.\n",
    "\n",
    "Calling the speak() method for each instance results in the overridden sound specific to each animal (Woof! for Dog and Meow! for Cat)."
   ]
  },
  {
   "cell_type": "markdown",
   "id": "5782f38a-1f9e-4ea6-ae2d-e42263e8720f",
   "metadata": {},
   "source": [
    "**Q8. Explain the role of the `isinstance()` function in Python and how it relates to inheritance.**"
   ]
  },
  {
   "cell_type": "markdown",
   "id": "72b2caf1-6c58-4963-85b0-99c24ebe97e8",
   "metadata": {},
   "source": [
    "The \"isinstance()\" function in Python is used to check whether an object is an instance of a particular class or a superclass thereof. It checks if an object belongs to a specific class or a superclass and returns a boolean value (True or False) accordingly.\n",
    "\n",
    "Role of isinstance() in Inheritance:\n",
    "\n",
    "1. It allows us to verify the type of an object, useful in scenarios where you want to determine the class type of an object dynamically.\n",
    "\n",
    "2. It can help in checking if an object is an instance of a particular class or any of its superclass, aiding in handling objects within an inheritance hierarchy.\n",
    "\n",
    "\"isinstance()\" aids in evaluating the relationship between classes and objects in an inheritance hierarchy.\n",
    "\n",
    "Example demonstrating isinstance() in Inheritance:"
   ]
  },
  {
   "cell_type": "code",
   "execution_count": 2,
   "id": "99dd5b58-8531-4a7e-8163-a62423367fbb",
   "metadata": {},
   "outputs": [
    {
     "name": "stdout",
     "output_type": "stream",
     "text": [
      "True\n",
      "True\n",
      "True\n",
      "True\n",
      "False\n"
     ]
    }
   ],
   "source": [
    "class Animal:\n",
    "    pass\n",
    "\n",
    "class Dog(Animal):\n",
    "    pass\n",
    "\n",
    "class Cat(Animal):\n",
    "    pass\n",
    "\n",
    "# Creating instances of Dog and Cat classes\n",
    "dog_instance = Dog()\n",
    "cat_instance = Cat()\n",
    "\n",
    "# Using isinstance() to check object types\n",
    "print(isinstance(dog_instance, Dog))   # Output: True (Dog is an instance of Dog class)\n",
    "print(isinstance(dog_instance, Animal)) # Output: True (Dog is an instance of Animal class or its superclass)\n",
    "print(isinstance(cat_instance, Cat))   # Output: True (Cat is an instance of Cat class)\n",
    "print(isinstance(cat_instance, Animal)) # Output: True (Cat is an instance of Animal class or its superclass)\n",
    "\n",
    "# Checking objects not belonging to the class\n",
    "print(isinstance(cat_instance, Dog))   # Output: False (Cat is not an instance of Dog class)\n"
   ]
  },
  {
   "cell_type": "markdown",
   "id": "f00c6016-38ff-45da-a28d-b4e9e3e2fde4",
   "metadata": {},
   "source": [
    "**Explanation:**\n",
    "\n",
    "Animal is the base class.\n",
    "\n",
    "Dog and Cat are subclasses inheriting from the Animal class.\n",
    "\n",
    "Instances dog_instance and cat_instance are created using the Dog() and Cat() constructors, respectively.\n",
    "\n",
    "\"isinstance(dog_instance, Dog)\" returns True because dog_instance is an instance of the Dog class.\n",
    "\n",
    "\"isinstance(dog_instance, Animal)\" returns True because dog_instance is an instance of the Animal class (or its superclass).\n",
    "\n",
    "\"isinstance(cat_instance, Cat)\" returns True because cat_instance is an instance of the Cat class.\n",
    "\n",
    "\"isinstance(cat_instance, Animal)\" returns True because cat_instance is an instance of the Animal class (or its superclass).\n",
    "\n",
    "\"isinstance(cat_instance, Dog)\" returns False because cat_instance is not an instance of the Dog class."
   ]
  },
  {
   "cell_type": "markdown",
   "id": "4577f967-b3ab-44b9-870b-4eb57741d113",
   "metadata": {},
   "source": [
    "**Q9. What is the purpose of the `issubclass()` function in Python? Provide an example.**"
   ]
  },
  {
   "cell_type": "markdown",
   "id": "65c133bc-33a7-4714-8818-799338c097c6",
   "metadata": {},
   "source": [
    "The issubclass() function in Python is used to check if a particular class is a subclass of another class. It returns a boolean value (True or False) based on whether the first class is a subclass of the second class.\n",
    "\n",
    "Purpose of issubclass():\n",
    "\n",
    "1. It can be used for conditional logic in code to perform specific actions based on the subclass relationships.\n",
    "\n",
    "2. It helps ensure the expected class hierarchy is in place, especially in larger applications with complex class relationships.\n",
    "\n",
    "Example:"
   ]
  },
  {
   "cell_type": "code",
   "execution_count": 4,
   "id": "ff3f98d7-3ff6-43cd-ab59-f49e20b4b34d",
   "metadata": {},
   "outputs": [
    {
     "name": "stdout",
     "output_type": "stream",
     "text": [
      "True\n",
      "True\n",
      "False\n"
     ]
    }
   ],
   "source": [
    "class Vehicle:\n",
    "    pass\n",
    "\n",
    "class Car(Vehicle):\n",
    "    pass\n",
    "\n",
    "class Truck(Vehicle):\n",
    "    pass\n",
    "\n",
    "# Using issubclass() to check subclass relationships\n",
    "print(issubclass(Car, Vehicle))  \n",
    "print(issubclass(Truck, Vehicle))\n",
    "print(issubclass(Truck, Car))    "
   ]
  },
  {
   "cell_type": "markdown",
   "id": "6b3e5978-6495-4c7e-9d9d-4188e05d963b",
   "metadata": {},
   "source": [
    "**Explanation:**\n",
    "\n",
    "\"Vehicle\" is the base class.\n",
    "\n",
    "\"Car\" and \"Truck\" are subclasses inheriting from the Vehicle class.\n",
    "\n",
    "\"issubclass()\" function checks the subclass relationships.\n",
    "\n",
    "\"issubclass(Car, Vehicle)\" returns True because Car is a subclass of Vehicle.\n",
    "\n",
    "\"issubclass(Truck, Vehicle)\" returns True because Truck is a subclass of Vehicle.\n",
    "\n",
    "\"issubclass(Truck, Car)\" returns False because Truck is not a subclass of Car."
   ]
  },
  {
   "cell_type": "markdown",
   "id": "bd26d848-54c0-40c8-a695-5bd3f7f34a68",
   "metadata": {},
   "source": [
    "**Q10. Discuss the concept of constructor inheritance in Python. How are constructors inherited in child classes?**"
   ]
  },
  {
   "cell_type": "markdown",
   "id": "38c47f59-8a03-428a-9d07-fc9df3175674",
   "metadata": {},
   "source": [
    "Constructors in Python are special methods named `__init__()` used to initialize object attributes when instances of a class are created. Constructor inheritance refers to the way constructors are inherited by child classes from their parent classes in an inheritance hierarchy.\n",
    "\n",
    "Constructor Inheritance:\n",
    "\n",
    "1. When a child class is created without its own `__init__()` method, it automatically inherits the `__init__()` method from its parent class.\n",
    "\n",
    "2. If a child class defines its own `__init__()` method, it can call the parent class's `__init__()` method using `super().__init__()` to initialize attributes inherited from the parent class.\n",
    "\n",
    "Example:"
   ]
  },
  {
   "cell_type": "code",
   "execution_count": 5,
   "id": "d3bdcec7-5dd3-4c1b-82eb-ccb4b5e3e428",
   "metadata": {},
   "outputs": [
    {
     "name": "stdout",
     "output_type": "stream",
     "text": [
      "Parent constructor executed.\n",
      "Child constructor executed.\n"
     ]
    }
   ],
   "source": [
    "class Parent:\n",
    "    def __init__(self, parent_attr):\n",
    "        self.parent_attr = parent_attr\n",
    "        print(\"Parent constructor executed.\")\n",
    "\n",
    "class Child(Parent):\n",
    "    def __init__(self, parent_attr, child_attr):\n",
    "        super().__init__(parent_attr)  # Calling Parent's constructor\n",
    "        self.child_attr = child_attr\n",
    "        print(\"Child constructor executed.\")\n",
    "\n",
    "# Creating an instance of Child class\n",
    "child_instance = Child(\"Parent Value\", \"Child Value\")"
   ]
  },
  {
   "cell_type": "markdown",
   "id": "8402282b-da0e-4818-a026-eedc92d9f544",
   "metadata": {},
   "source": [
    "**Explanation:**\n",
    "\n",
    "\"Parent\" class has an `__init__()` constructor method that initializes parent_attr.\n",
    "\n",
    "\"Child\" class inherits from Parent and has its own `__init__()` method.\n",
    "\n",
    "When an instance of the Child class is created (child_instance), the Child class's `__init__()` method is called.\n",
    "\n",
    "Inside the Child class's `__init__()` method, `super().__init__(parent_attr)` calls the Parent class's `__init__()` method first.\n",
    "\n",
    "After the parent's constructor executes, the Child class's constructor continues its execution and initializes child_attr."
   ]
  },
  {
   "cell_type": "markdown",
   "id": "319bb65a-3b0b-450d-840e-0c4d3de954c0",
   "metadata": {},
   "source": [
    "**Q11. Create a Python class called `Shape` with a method `area()` that calculates the area of a shape. Then, create child classes `Circle` and `Rectangle` that inherit from `Shape` and implement the `area()` method accordingly. Provide an example.**"
   ]
  },
  {
   "cell_type": "code",
   "execution_count": 6,
   "id": "f2fadb25-4c50-4f05-a955-f323b9224810",
   "metadata": {},
   "outputs": [
    {
     "name": "stdout",
     "output_type": "stream",
     "text": [
      "Area of the Circle: 78.53981633974483\n",
      "Area of the Rectangle: 24\n"
     ]
    }
   ],
   "source": [
    "import math\n",
    "\n",
    "class Shape:\n",
    "    def area(self):\n",
    "        pass  # Placeholder method in the base class\n",
    "\n",
    "class Circle(Shape):\n",
    "    def __init__(self, radius):\n",
    "        self.radius = radius\n",
    "\n",
    "    def area(self):\n",
    "        return math.pi * self.radius**2\n",
    "\n",
    "class Rectangle(Shape):\n",
    "    def __init__(self, length, width):\n",
    "        self.length = length\n",
    "        self.width = width\n",
    "\n",
    "    def area(self):\n",
    "        return self.length * self.width\n",
    "\n",
    "# Creating instances of Circle and Rectangle\n",
    "circle_instance = Circle(5)  # Circle with radius 5\n",
    "rectangle_instance = Rectangle(4, 6)  # Rectangle with length 4 and width 6\n",
    "\n",
    "# Calculating and displaying areas for Circle and Rectangle\n",
    "print(\"Area of the Circle:\", circle_instance.area())  \n",
    "print(\"Area of the Rectangle:\", rectangle_instance.area())  "
   ]
  },
  {
   "cell_type": "markdown",
   "id": "06b1a403-3dc2-4871-9b9f-f0e7489c925a",
   "metadata": {},
   "source": [
    "**Explanation:**\n",
    "\n",
    "\"Shape\" is the base class defining the \"area()\" method as a placeholder (to be overridden by subclasses).\n",
    "\n",
    "\"Circle\" and \"Rectangle\" are subclasses inheriting from \"Shape\".\n",
    "\n",
    "\"Circle\" implements its \"area()\" method to calculate the area based on the radius using math.pi.\n",
    "\n",
    "\"Rectangle\" implements its \"area()\" method to calculate the area based on the length and width.\n",
    "\n",
    "Instances \"circle_instance\" and \"rectangle_instance\" are created with specific dimensions.\n",
    "\n",
    "\"area()\" method is called for both instances to calculate and display the area of the circle and rectangle, respectively."
   ]
  },
  {
   "cell_type": "markdown",
   "id": "0ed8e8b4-a324-473f-8e58-c9f3e6b01804",
   "metadata": {},
   "source": [
    "**Q12. Explain the use of abstract base classes (ABCs) in Python and how they relate to inheritance. Provide an\n",
    "example using the `abc` module.**"
   ]
  },
  {
   "cell_type": "markdown",
   "id": "edc7d745-5cf6-47c6-92e1-1f1d4c72bcd1",
   "metadata": {},
   "source": [
    "Abstract Base Classes (ABCs) in Python, provided by the abc module, allow us to define abstract methods that must be implemented by subclasses. They serve as a blueprint for other classes, ensuring that certain methods are implemented by subclasses, enforcing a particular interface or structure.\n",
    "\n",
    "1. ABCs enable us to define abstract methods within a base class that must be overridden by its subclasses. Abstract methods have no implementation in the base class.\n",
    "\n",
    "2. They enforce the presence of specific methods in subclasses, providing a contract that subclasses must adhere to.\n",
    "\n",
    "3.  ABCs cannot be instantiated themselves; they are meant to be subclassed, ensuring that subclasses provide the necessary implementations.\n",
    "\n",
    "Belows an example demonstrating the use of ABCs using abc module:"
   ]
  },
  {
   "cell_type": "code",
   "execution_count": 11,
   "id": "1b1aa0c8-12d5-469d-bb91-2c0db84d3636",
   "metadata": {},
   "outputs": [
    {
     "name": "stdout",
     "output_type": "stream",
     "text": [
      "Area of the Circle: 78.5\n"
     ]
    }
   ],
   "source": [
    "from abc import ABC, abstractmethod\n",
    "\n",
    "class Shape(ABC):  # Define an abstract base class 'Shape'\n",
    "    @abstractmethod\n",
    "    def area(self):\n",
    "        pass  # Abstract method to calculate area\n",
    "\n",
    "class Circle(Shape):  # Concrete class inheriting from 'Shape'\n",
    "    def __init__(self, radius):\n",
    "        self.radius = radius\n",
    "\n",
    "    def area(self):\n",
    "        return 3.14 * self.radius ** 2\n",
    "\n",
    "# Attempting to create an instance of the abstract class will raise an error\n",
    "# shape = Shape()  # This will raise TypeError: Can't instantiate abstract class Shape with abstract methods area\n",
    "\n",
    "# Creating an instance of the concrete class 'Circle'\n",
    "circle_instance = Circle(5)\n",
    "\n",
    "# Calling the area() method from the concrete subclass\n",
    "print(\"Area of the Circle:\", circle_instance.area())  # Output: Area of the Circle: 78.5"
   ]
  },
  {
   "cell_type": "markdown",
   "id": "387bae96-72d6-4c66-b8fd-60bfcee5b3d1",
   "metadata": {},
   "source": [
    "**Explanation:**\n",
    "\n",
    "\"Shape\" is an abstract base class that defines an abstract method \"area()\" using \"@abstractmethod\" decorator.\n",
    "\n",
    "\"Circle\" is a concrete subclass that inherits from \"Shape\" and implements the \"area()\" method specific to a circle's area calculation.\n",
    "\n",
    "Attempting to directly instantiate Shape (abstract class) will raise a \"TypeError\" because abstract classes cannot be instantiated.\n",
    "\n",
    "Circle class provides the required implementation of the \"area()\" method, allowing it to be instantiated and used."
   ]
  },
  {
   "cell_type": "markdown",
   "id": "f69dd761-9517-4bef-9733-850b688083a2",
   "metadata": {},
   "source": [
    "**13. How can you prevent a child class from modifying certain attributes or methods inherited from a parent class in Python?**"
   ]
  },
  {
   "cell_type": "markdown",
   "id": "8601f28c-32f5-4cbe-89b5-1339e54d44a4",
   "metadata": {},
   "source": [
    "Techniques to prevent modification of certain attributes or methods inherited from a parent in child classes:\n",
    "    \n",
    "1. Use private attributes and methods in the parent class by prefixing them with double underscores (__). This makes them harder to access or modify directly in the child class.\n",
    "\n",
    "Example:"
   ]
  },
  {
   "cell_type": "code",
   "execution_count": 12,
   "id": "c0e46e4d-d29e-455b-8ba9-c04ba1f34ecc",
   "metadata": {},
   "outputs": [],
   "source": [
    "class Parent:\n",
    "    def __init__(self):\n",
    "        self.__private_attribute = 10\n",
    "\n",
    "    def __private_method(self):\n",
    "        pass\n",
    "\n",
    "class Child(Parent):\n",
    "    def __init__(self):\n",
    "        super().__init__()\n",
    "        # Trying to access or modify the private attribute/method in the child class will result in an AttributeError\n",
    "        # self.__private_attribute = 20  # This will not work\n",
    "        # self.__private_method()       # This will not work\n"
   ]
  },
  {
   "cell_type": "markdown",
   "id": "4b03db5b-b0c1-49ef-8e4f-f0a290cc32c9",
   "metadata": {},
   "source": [
    "2. Use protected attributes and methods in the parent class by prefixing them with a single underscore (_). This doesn't prevent access but serves as a convention to indicate that they should be treated as non-public parts of the API.\n",
    "\n",
    "Example:"
   ]
  },
  {
   "cell_type": "code",
   "execution_count": 13,
   "id": "e6e91e6a-2c93-4a74-94ef-96ce05c4f272",
   "metadata": {},
   "outputs": [],
   "source": [
    "class Parent:\n",
    "    def __init__(self):\n",
    "        self._protected_attribute = 10\n",
    "\n",
    "    def _protected_method(self):\n",
    "        pass\n",
    "\n",
    "class Child(Parent):\n",
    "    def __init__(self):\n",
    "        super().__init__()\n",
    "        # Accessing or modifying the protected attribute/method in the child class is allowed but discouraged\n",
    "        # self._protected_attribute = 20  # This is allowed but discouraged\n",
    "        # self._protected_method()       # This is allowed but discouraged\n"
   ]
  },
  {
   "cell_type": "markdown",
   "id": "6b26ebff-02ef-499c-a81b-adc9dacc6fbd",
   "metadata": {},
   "source": [
    "3. We can use property decorators to define read-only properties. By using the @property decorator for a getter method and omitting the setter method, we effectively create a read-only attribute. This prevents direct modification of the property in the child class."
   ]
  },
  {
   "cell_type": "code",
   "execution_count": 15,
   "id": "e81bef42-baf1-47fa-91d7-77329b47eff1",
   "metadata": {},
   "outputs": [
    {
     "name": "stdout",
     "output_type": "stream",
     "text": [
      "10\n",
      "10\n"
     ]
    }
   ],
   "source": [
    "class Parent:\n",
    "    def __init__(self):\n",
    "        self._read_only_property = 10\n",
    "\n",
    "    @property\n",
    "    def read_only_property(self):\n",
    "        return self._read_only_property\n",
    "\n",
    "class Child(Parent):\n",
    "    def __init__(self):\n",
    "        super().__init__()\n",
    "\n",
    "    # Trying to set the read_only_property in the child class will result in an AttributeError\n",
    "    # @property decorator in the parent class makes it read-only\n",
    "    # def read_only_property(self):\n",
    "    #     return 20  # This will not work\n",
    "\n",
    "# Usage\n",
    "parent_obj = Parent()\n",
    "print(parent_obj.read_only_property)  \n",
    "\n",
    "child_obj = Child()\n",
    "print(child_obj.read_only_property)  \n",
    "# Trying to set the property directly in the child class will raise an AttributeError\n",
    "# child_obj.read_only_property = 20  # This will not work\n"
   ]
  },
  {
   "cell_type": "markdown",
   "id": "ffcfc809-5592-43b7-af96-586c81a86f98",
   "metadata": {},
   "source": [
    "**Q14. Create a Python class called `Employee` with attributes `name` and `salary`. Then, create a child class\n",
    "`Manager` that inherits from `Employee` and adds an attribute `department`. Provide an example.**"
   ]
  },
  {
   "cell_type": "code",
   "execution_count": 6,
   "id": "bc3f786f-36da-482f-a51e-4e5345b178b7",
   "metadata": {},
   "outputs": [
    {
     "name": "stdout",
     "output_type": "stream",
     "text": [
      "Employee Name: Anmol\n",
      "Employee Salary: 1500000\n",
      "\n",
      "Manager Name: Anand\n",
      "Manager Salary: 1800000\n",
      "Manager Department: IT\n"
     ]
    }
   ],
   "source": [
    "class Employee:\n",
    "    def __init__(self, name, salary):\n",
    "        self.name = name\n",
    "        self.salary = salary\n",
    "\n",
    "class Manager(Employee):\n",
    "    def __init__(self, name, salary, department):\n",
    "        super().__init__(name, salary)\n",
    "        self.department = department\n",
    "\n",
    "employee1 = Employee(\"Anmol\", 1500000)\n",
    "print(f\"Employee Name: {employee1.name}\")\n",
    "print(f\"Employee Salary: {employee1.salary}\")\n",
    "\n",
    "manager1 = Manager(\"Anand\", 1800000, \"IT\")\n",
    "print(f\"\\nManager Name: {manager1.name}\")\n",
    "print(f\"Manager Salary: {manager1.salary}\")\n",
    "print(f\"Manager Department: {manager1.department}\")"
   ]
  },
  {
   "cell_type": "markdown",
   "id": "ab8ad55b-b794-4fd6-ab83-13c11ea6e1a1",
   "metadata": {},
   "source": [
    "**Explanation:**\n",
    "\n",
    "The \"Employee\" class has attributes \"name\" and \"salary\". It contains an `__init__` method to initialize these attributes when creating an employee object.\n",
    "\n",
    "The \"Manager\" class inherits from Employee using \"Manager(Employee)\". It extends the functionality of the Employee class by adding an additional attribute department. The `__init__` method of the Manager class uses \"super()\" to call the constructor of the parent class (Employee) to initialize name and salary, and then sets the department attribute specific to the Manager class.\n",
    "\n",
    "Then the code creates an Employee object (employee1) and a Manager object (manager1), initializing their attributes, and printing their details.\n",
    "\n",
    "This structure allows the Manager class to inherit the properties and methods of the Employee class while also having its own additional attribute department."
   ]
  },
  {
   "cell_type": "markdown",
   "id": "6f387644-c1e3-4c30-94bc-7b475522b254",
   "metadata": {},
   "source": [
    "**15. Discuss the concept of method overloading in Python inheritance. How does it differ from method\n",
    "overriding?**"
   ]
  },
  {
   "cell_type": "markdown",
   "id": "942cee78-537c-48b8-823d-9016b2d7a0cd",
   "metadata": {},
   "source": [
    "Method Overloading:\n",
    "\n",
    "Method overloading refers to defining multiple methods in the same class with the same name but different parameter lists. Python does not support traditional method overloading as seen in some other languages.\n",
    "\n",
    "However, in Python, we can simulate method overloading using default parameter values or variable-length argument lists like *args and **kwargs.\n",
    "\n",
    "Example:"
   ]
  },
  {
   "cell_type": "code",
   "execution_count": 18,
   "id": "740b229f-d547-4ab9-b58e-e0dec0bb2703",
   "metadata": {},
   "outputs": [
    {
     "name": "stdout",
     "output_type": "stream",
     "text": [
      "Method with one argument\n",
      "Method with two arguments\n"
     ]
    }
   ],
   "source": [
    "class MyClass:\n",
    "    def example(self, a, b=None):\n",
    "        if b is None:\n",
    "            print(\"Method with one argument\")\n",
    "        else:\n",
    "            print(\"Method with two arguments\")\n",
    "\n",
    "# Usage:\n",
    "obj = MyClass()\n",
    "obj.example(1)       # calling the example method of MyClass with one argument.\n",
    "obj.example(1, 2)    # calling the example method of MyClass with two argument.\n"
   ]
  },
  {
   "cell_type": "markdown",
   "id": "71cae722-909c-41e8-8507-3fe67d88f3a4",
   "metadata": {},
   "source": [
    "In the above example, the method example() is defined with two parameters, where \"b\" is assigned a default value of \"None\". Depending on whether the second argument \"b\" is passed or not, the method behaves accordingly to simulate method overloading."
   ]
  },
  {
   "cell_type": "markdown",
   "id": "bc8bbcdd-fefb-4c5a-b722-aecef333cfae",
   "metadata": {},
   "source": [
    "Method Overriding:\n",
    "\n",
    "Method overriding occurs when a subclass provides a specific implementation of a method that is already defined in its superclass. This allows a subclass to provide a specialized implementation of a method that is already provided by its parent class. When a method in a subclass has the same name, same parameters, and same return type as a method in its superclass, the method in the subclass overrides the method in the superclass."
   ]
  },
  {
   "cell_type": "code",
   "execution_count": 19,
   "id": "3ab2d531-376e-4ba9-92b0-90ccdac148d7",
   "metadata": {},
   "outputs": [
    {
     "name": "stdout",
     "output_type": "stream",
     "text": [
      "Child's show method\n"
     ]
    }
   ],
   "source": [
    "class Parent:\n",
    "    def show(self):\n",
    "        print(\"Parent's show method\")\n",
    "\n",
    "class Child(Parent):\n",
    "    def show(self):\n",
    "        print(\"Child's show method\")\n",
    "\n",
    "# Usage:\n",
    "obj = Child()\n",
    "obj.show()  # Output: \"Child's show method\""
   ]
  },
  {
   "cell_type": "markdown",
   "id": "da77c793-e497-4447-bc06-a0ccb83a609a",
   "metadata": {},
   "source": [
    "In the above example, the \"Child\" class overrides the \"show()\" method from its parent class \"Parent\". When we call \"obj.show()\" , it invokes the overridden method in the child class."
   ]
  },
  {
   "cell_type": "markdown",
   "id": "669d1ce7-33c2-4c62-9495-8c8580849980",
   "metadata": {},
   "source": [
    "Difference between Method Overloading and Method Overriding:\n",
    "\n",
    "Method overloading deals with having multiple methods with the same name but different parameter lists within the same class (not natively supported in Python but similar behaviour can be simulated).\n",
    "\n",
    "Method overriding occurs when a subclass provides a specific implementation of a method that is already defined in its superclass."
   ]
  },
  {
   "cell_type": "markdown",
   "id": "6dd8b347-c6a5-4021-86b5-0e5a2a5d139a",
   "metadata": {},
   "source": [
    "**Q16. Explain the purpose of the `__init__()` method in Python inheritance and how it is utilized in child classes.**"
   ]
  },
  {
   "cell_type": "markdown",
   "id": "2347abe7-18f4-4616-9b6a-640fab789613",
   "metadata": {},
   "source": [
    "The `__init__()` method in Python serves as a constructor for a class. It gets automatically invoked whenever a new instance (object) of the class is created. Its primary purpose is to initialize the attributes or properties of the object to desired initial values when the object is instantiated.\n",
    "\n",
    "Purpose of `__init__()` method:\n",
    "\n",
    "1. The primary goal of the `__init__()` method is to initialize the object's state by setting initial values for its attributes. This allows the object to be properly configured upon creation.\n",
    "\n",
    "2. Inside the `__init__()` method, we can assign values to instance variables using the self keyword, which ensures that these attributes belong to the object.\n",
    "\n",
    "3.  When dealing with inheritance, the `__init__()` method in a child class can utilize the super() function to call the `__init__()` method of the parent class. This allows the child class to inherit and extend the initialization behavior of the parent class.\n",
    "\n",
    "4. By using super() and `__init__()` method chaining in child classes, we can ensure proper initialization of attributes inherited from the parent class while also adding new attributes or customizing the initialization for the child class.\n",
    "\n",
    "Example:"
   ]
  },
  {
   "cell_type": "code",
   "execution_count": 1,
   "id": "f7e7bba7-22fa-47db-b457-302ff46b15b8",
   "metadata": {},
   "outputs": [
    {
     "name": "stdout",
     "output_type": "stream",
     "text": [
      "Anand\n",
      "Anmol\n",
      "24\n"
     ]
    }
   ],
   "source": [
    "class Parent:\n",
    "    def __init__(self, name):\n",
    "        self.name = name\n",
    "\n",
    "class Child(Parent):\n",
    "    def __init__(self, name, age):\n",
    "        super().__init__(name)  # Calling the Parent class __init__() method using super()\n",
    "        self.age = age\n",
    "\n",
    "# Usage:\n",
    "parent = Parent(\"Anand\")\n",
    "print(parent.name)  \n",
    "\n",
    "child = Child(\"Anmol\", 24)\n",
    "print(child.name)  \n",
    "print(child.age)   "
   ]
  },
  {
   "cell_type": "markdown",
   "id": "06add15b-daaf-4e19-b276-2256656b0685",
   "metadata": {},
   "source": [
    "**Explanation:**\n",
    "\n",
    "The \"Parent\" class has an `__init__()` method that initializes the name attribute.\n",
    "\n",
    "The \"Child\" class inherits from Parent and extends its initialization by adding the age attribute.\n",
    "\n",
    "Inside the Child class `__init__()`, `super().__init__(name)` is used to call the Parent class `__init__()` method with the name parameter. This ensures the name attribute is initialized from the parent class, and then the age attribute is added specifically for instances of the Child class."
   ]
  },
  {
   "cell_type": "markdown",
   "id": "eb35f884-8bb5-409a-87dc-88f41e95cad8",
   "metadata": {},
   "source": [
    "**17. Create a Python class called `Bird` with a method `fly()`. Then, create child classes `Eagle` and `Sparrow` that inherit from `Bird` and implement the `fly()` method differently. Provide an example of using these classes.**"
   ]
  },
  {
   "cell_type": "code",
   "execution_count": 2,
   "id": "2693a572-970b-4bd1-a904-00ffedb695b3",
   "metadata": {},
   "outputs": [
    {
     "name": "stdout",
     "output_type": "stream",
     "text": [
      "Flying with wings\n",
      "Soaring high in the sky\n",
      "Flitting and fluttering around\n"
     ]
    }
   ],
   "source": [
    "class Bird:\n",
    "    def fly(self):\n",
    "        return \"Flying with wings\"\n",
    "\n",
    "class Eagle(Bird):\n",
    "    def fly(self):\n",
    "        return \"Soaring high in the sky\"\n",
    "\n",
    "class Sparrow(Bird):\n",
    "    def fly(self):\n",
    "        return \"Flitting and fluttering around\"\n",
    "\n",
    "# Usage:\n",
    "bird = Bird()\n",
    "print(bird.fly())  \n",
    "\n",
    "eagle = Eagle()\n",
    "print(eagle.fly())  \n",
    "\n",
    "sparrow = Sparrow()\n",
    "print(sparrow.fly()) \n"
   ]
  },
  {
   "cell_type": "markdown",
   "id": "1e0d672f-c83a-49a7-a49a-a2845851328f",
   "metadata": {},
   "source": [
    "**Explanation:**\n",
    "\n",
    "The \"Bird\" class has a \"fly()\" method that provides a generic implementation for flying behavior.\n",
    "\n",
    "The \"Eagle\" class and \"Sparrow\" class both inherit from \"Bird\" and override the \"fly()\" method to provide specific flying behaviors for eagles and sparrows.\n",
    "\n",
    "When instances of these classes are created and the fly() method is called on each instance, the appropriate implementation based on the respective class is invoked."
   ]
  },
  {
   "cell_type": "markdown",
   "id": "c24b4464-bae8-433d-bd5a-d740439b3bc8",
   "metadata": {},
   "source": [
    "**18. What is the \"diamond problem\" in multiple inheritance, and how does Python address it?**"
   ]
  },
  {
   "cell_type": "markdown",
   "id": "67b298f3-d1d8-4f0d-8c26-214d7ad084e4",
   "metadata": {},
   "source": [
    "The \"diamond problem\" occurs when a class inherits from two classes that have a common ancestor. This creates ambiguity in the inheritance hierarchy, specifically when a method or attribute is overridden in both of the immediate parent classes.\n",
    "\n",
    "Consider this inheritance hierarchy, Where:\n",
    "\n",
    "A is the base class.\n",
    "\n",
    "B and C inherit from A.\n",
    "\n",
    "D inherits from both B and C.\n",
    "\n",
    "If both B and C override a method or have conflicting attributes inherited from A, then which overridden method or attribute should be inherited by D?\n",
    "\n",
    "Python uses a depth-first left-to-right method resolution order (MRO) to resolve the diamond problem. This method follows an order called the C3 linearization algorithm to determine the order in which methods are resolved in multiple inheritance.\n",
    "\n",
    "The C3 linearization algorithm creates a linear order (a sequence) in which the classes will be searched to resolve method calls or attribute accesses. This order preserves the integrity of the inheritance hierarchy and ensures that each method is called exactly once in the hierarchy.\n",
    "\n",
    "In Python, the super() function is also a key tool to handle multiple inheritance and resolve method calls in a consistent and predictable way. super() allows accessing methods and attributes from parent classes in a way that respects the method resolution order.\n",
    "\n",
    "Example:"
   ]
  },
  {
   "cell_type": "code",
   "execution_count": 5,
   "id": "f40f5668-b732-4ed2-a069-e17e0720a625",
   "metadata": {},
   "outputs": [
    {
     "name": "stdout",
     "output_type": "stream",
     "text": [
      "Method in class B\n",
      "Method in class C\n",
      "Method in class A\n"
     ]
    }
   ],
   "source": [
    "class A:\n",
    "    def method(self):\n",
    "        print(\"Method in class A\")\n",
    "\n",
    "class B(A):\n",
    "    def method(self):\n",
    "        print(\"Method in class B\")\n",
    "        super().method()\n",
    "\n",
    "class C(A):\n",
    "    def method(self):\n",
    "        print(\"Method in class C\")\n",
    "        super().method()\n",
    "\n",
    "class D(B, C):\n",
    "    pass\n",
    "\n",
    "# Output\n",
    "obj = D()\n",
    "obj.method()"
   ]
  },
  {
   "cell_type": "markdown",
   "id": "6ac4533f-5c34-48f5-bc8e-25885327e583",
   "metadata": {},
   "source": [
    "In the above example, D inherits from both B and C (in the same order), which in turn inherit from A. When obj.method() is called on an instance of D, Python resolves the method using the method resolution order (MRO), ensuring that the \"method()\" function of class \"B\" is called first, then class \"C\" and finally class \"A\".\n",
    "\n",
    "Another Example:"
   ]
  },
  {
   "cell_type": "code",
   "execution_count": 6,
   "id": "a8f2abe2-88ee-4e01-b816-b45514f6b3da",
   "metadata": {},
   "outputs": [
    {
     "name": "stdout",
     "output_type": "stream",
     "text": [
      "Method in class C\n",
      "Method in class B\n",
      "Method in class A\n"
     ]
    }
   ],
   "source": [
    "class A:\n",
    "    def method(self):\n",
    "        print(\"Method in class A\")\n",
    "\n",
    "class B(A):\n",
    "    def method(self):\n",
    "        print(\"Method in class B\")\n",
    "        super().method()\n",
    "\n",
    "class C(A):\n",
    "    def method(self):\n",
    "        print(\"Method in class C\")\n",
    "        super().method()\n",
    "\n",
    "class D(C, B):\n",
    "    pass\n",
    "\n",
    "# Output\n",
    "obj = D()\n",
    "obj.method()"
   ]
  },
  {
   "cell_type": "markdown",
   "id": "13372e30-9893-42dd-9062-3b103bd45aac",
   "metadata": {},
   "source": [
    "In the above example, D inherits from both C, B (in the same order), which in turn inherit from A. When obj.method() is called on an instance of D, Python resolves the method using the method resolution order (MRO), ensuring that the \"method()\" function of class \"C\" is called first, then class \"B\" and finally class \"A\"."
   ]
  },
  {
   "cell_type": "markdown",
   "id": "c5253e74-2cd6-4102-8cc5-b2250751db5b",
   "metadata": {},
   "source": [
    "**Q19. Discuss the concept of \"is-a\" and \"has-a\" relationships in inheritance, and provide examples of each.**"
   ]
  },
  {
   "cell_type": "markdown",
   "id": "b78a3217-aadc-49bd-b926-db91b7fc9c30",
   "metadata": {},
   "source": [
    "\"is-a\" Relationship (Inheritance):\n",
    "\n",
    "The \"is-a\" relationship is used in inheritance, where one class is a specialized version of another class. This relationship signifies that a subclass shares the characteristics and behaviors of its superclass. It implies an inheritance hierarchy where a subclass \"is-a\" type of its superclass.\n",
    "\n",
    "Example:"
   ]
  },
  {
   "cell_type": "code",
   "execution_count": 7,
   "id": "1acf1529-34f0-4c01-a05d-00514a043297",
   "metadata": {},
   "outputs": [
    {
     "name": "stdout",
     "output_type": "stream",
     "text": [
      "Woof!\n",
      "Meow!\n"
     ]
    }
   ],
   "source": [
    "# \"is-a\" relationship example\n",
    "\n",
    "class Animal:\n",
    "    def sound(self):\n",
    "        pass\n",
    "\n",
    "class Dog(Animal):  # Dog \"is-a\" type of Animal\n",
    "    def sound(self):\n",
    "        return \"Woof!\"\n",
    "\n",
    "class Cat(Animal):  # Cat \"is-a\" type of Animal\n",
    "    def sound(self):\n",
    "        return \"Meow!\"\n",
    "\n",
    "# Usage\n",
    "dog = Dog()\n",
    "print(dog.sound())  \n",
    "\n",
    "cat = Cat()\n",
    "print(cat.sound())  "
   ]
  },
  {
   "cell_type": "markdown",
   "id": "671f8cb4-b6c2-4d54-882a-e8d513063934",
   "metadata": {},
   "source": [
    "In the above example, Dog and Cat are subclasses of the Animal class. Both Dog and Cat inherit the sound() method from the Animal class, indicating that they are specialized versions (subtypes) of the Animal class."
   ]
  },
  {
   "cell_type": "markdown",
   "id": "cc6cce6a-e68d-4f6c-9851-3368f36b1ea4",
   "metadata": {},
   "source": [
    "\"has-a\" Relationship (Composition):\n",
    "\n",
    "The \"has-a\" relationship represents the concept where one class contains an instance of another class as a part of its structure. It implies that a class \"has-a\" relationship with another class by containing an instance of it as a member.\n",
    "\n",
    "Example:"
   ]
  },
  {
   "cell_type": "code",
   "execution_count": 8,
   "id": "bb0f1e7d-b016-4960-b23d-67a9dccbc5d9",
   "metadata": {},
   "outputs": [
    {
     "name": "stdout",
     "output_type": "stream",
     "text": [
      "Engine started\n"
     ]
    }
   ],
   "source": [
    "# \"has-a\" relationship example\n",
    "\n",
    "class Engine:\n",
    "    def start(self):\n",
    "        return \"Engine started\"\n",
    "\n",
    "class Car:\n",
    "    def __init__(self):\n",
    "        self.engine = Engine()  # Car \"has-a\" Engine\n",
    "\n",
    "    def start_engine(self):\n",
    "        return self.engine.start()\n",
    "\n",
    "# Usage\n",
    "car = Car()\n",
    "print(car.start_engine())  \n"
   ]
  },
  {
   "cell_type": "markdown",
   "id": "15655aab-75ab-44d7-9bd1-edc0dfcca348",
   "metadata": {},
   "source": [
    "In the above example, the Car class has an instance of the Engine class as one of its attributes. This demonstrates the \"has-a\" relationship where a Car \"has-a\" relationship with the Engine, as a car is composed of an engine."
   ]
  },
  {
   "cell_type": "markdown",
   "id": "14ab6750-e879-4a7a-aa90-706af1e2c535",
   "metadata": {},
   "source": [
    "**20. Create a Python class hierarchy for a university system. Start with a base class `Person` and create child\n",
    "classes `Student` and `Professor`, each with their own attributes and methods. Provide an example of using\n",
    "these classes in a university context.**"
   ]
  },
  {
   "cell_type": "code",
   "execution_count": 10,
   "id": "a3a0713c-c1ad-41b8-8abf-802498041dec",
   "metadata": {},
   "outputs": [
    {
     "name": "stdout",
     "output_type": "stream",
     "text": [
      "Name: Anmol, Age: 24\n",
      "Anmol is studying\n",
      "\n",
      "\n",
      "Name: Krish Naik, Age: 38\n",
      "Krish Naik is teaching Data Science\n"
     ]
    }
   ],
   "source": [
    "class Person:\n",
    "    def __init__(self, name, age):\n",
    "        self.name = name\n",
    "        self.age = age\n",
    "\n",
    "    def display_info(self):\n",
    "        return f\"Name: {self.name}, Age: {self.age}\"\n",
    "\n",
    "\n",
    "class Student(Person):\n",
    "    def __init__(self, name, age, student_id):\n",
    "        super().__init__(name, age)\n",
    "        self.student_id = student_id\n",
    "\n",
    "    def study(self):\n",
    "        return f\"{self.name} is studying\"\n",
    "\n",
    "\n",
    "class Professor(Person):\n",
    "    def __init__(self, name, age, subject):\n",
    "        super().__init__(name, age)\n",
    "        self.subject = subject\n",
    "\n",
    "    def teach(self):\n",
    "        return f\"{self.name} is teaching {self.subject}\"\n",
    "\n",
    "\n",
    "# Example usage:\n",
    "\n",
    "student1 = Student(\"Anmol\", 24, \"19\")\n",
    "professor1 = Professor(\"Krish Naik\", 38, \"Data Science\")\n",
    "\n",
    "print(student1.display_info())  \n",
    "print(student1.study())        \n",
    "print('\\n')\n",
    "print(professor1.display_info())  \n",
    "print(professor1.teach())        "
   ]
  },
  {
   "cell_type": "markdown",
   "id": "d665f960-22a7-4390-be35-354e9d4bf7da",
   "metadata": {},
   "source": [
    "**Explanation:**\n",
    "\n",
    "The \"Person\" class serves as the base class with attributes name and age. It includes a \"display_info()\" method to display the person's information.\n",
    "\n",
    "The \"Student\" class inherits from Person and adds an attribute \"student_id\". It also has a \"study()\" method specific to students.\n",
    "\n",
    "The \"Professor\" class inherits from Person and includes an attribute subject. It contains a \"teach()\" method specific to professors.\n",
    "\n",
    "This class hierarchy models a university system where Student and Professor are specialized types of Person, each having their unique attributes and methods. The Student can study, while the Professor can teach, and both have basic information about a person like their name and age."
   ]
  },
  {
   "cell_type": "markdown",
   "id": "7e95b71d-4507-41c4-983b-66802666ecd8",
   "metadata": {},
   "source": [
    "# Encapsulation:"
   ]
  },
  {
   "cell_type": "markdown",
   "id": "f82eadd1-8ac2-437c-8bf2-3592fcb6a9ce",
   "metadata": {},
   "source": [
    "**Q1. Explain the concept of encapsulation in Python. What is its role in object-oriented programming?**"
   ]
  },
  {
   "cell_type": "markdown",
   "id": "baf69942-7562-4078-8aec-c889d3edb349",
   "metadata": {},
   "source": [
    "Encapsulation is a fundamental concept in object-oriented programming (OOP) that refers to the bundling of data (attributes or properties) and the methods (functions or behaviors) that operate on that data into a single unit, called a class. It involves the idea of wrapping data and the methods that work on that data within a single entity, thus restricting direct access to the inner workings of the class from outside the class.\n",
    "\n",
    "Role of Encapsulation in object-oriented programming (OOP):\n",
    "1. Encapsulation helps in hiding the internal state of an object from the outside world, allowing controlled access through well-defined interfaces (public methods). This helps in preventing accidental modifications and ensures data integrity by enforcing access restrictions.\n",
    "\n",
    "2. It promotes modularity by organizing related data and methods into a cohesive unit (class), which leads to cleaner and more maintainable code. Changes made internally to the class don't affect other parts of the program.\n",
    "\n",
    "3. It allows the implementation details to be hidden and presents only the essential features of an object, promoting abstraction. Users interact with objects through their public interface without needing to know the inner workings or complexities of the implementation.\n",
    "\n",
    "4. Encapsulation facilitates code reusability by providing a blueprint (class) that can be instantiated to create multiple objects, each with its own set of attributes and behaviors. This helps in avoiding code duplication and promoting the \"DRY\" (Don't Repeat Yourself) principle."
   ]
  },
  {
   "cell_type": "markdown",
   "id": "59a2b5fb-725f-465d-84a4-57308d85f5fb",
   "metadata": {},
   "source": [
    "**Q2. Describe the key principles of encapsulation, including access control and data hiding.**"
   ]
  },
  {
   "cell_type": "markdown",
   "id": "a64b864c-4b16-447a-9f5b-765198111a0c",
   "metadata": {},
   "source": [
    "Encapsulation in object-oriented programming revolves around two key principles: access control and data hiding. These principles play a crucial role in ensuring that the internal state of objects remains protected and controlled, providing a clear interface for interacting with those objects.\n",
    "\n",
    "Key Principles of Encapsulation:\n",
    "\n",
    "Access Control:\n",
    "\n",
    "1. Public Access: Public members (attributes or methods) are accessible from outside the class. They are typically accessed directly.\n",
    "\n",
    "2. Private Access: Private members are not directly accessible from outside the class. They are indicated by a double underscore `__` prefix in Python (though still accessible using name mangling).\n",
    "\n",
    "3. Protected Access: Protected members are intended to be accessed within the class itself and its subclasses. They are indicated by a single underscore `_` prefix (although it's more of a convention in Python).\n",
    "\n",
    "Data Hiding:\n",
    "\n",
    "2. Encapsulation involves the concept of hiding the internal state of an object. Private attributes prevent direct access and modification from outside the class, restricting modifications only through specific methods (getters and setters).\n",
    "\n",
    "3. By providing public methods (getters) to retrieve the values of private attributes and (setters) to modify or update them, encapsulation ensures controlled access to the object's state. These methods allow validation, manipulation, and controlled modification of the data before it's accessed or changed."
   ]
  },
  {
   "cell_type": "markdown",
   "id": "c8fb231c-8006-4655-a95f-7d07c0eec3e4",
   "metadata": {},
   "source": [
    "**3. How can you achieve encapsulation in Python classes? Provide an example.**"
   ]
  },
  {
   "cell_type": "markdown",
   "id": "4e32551a-7614-40c5-886f-099fd57bcb0e",
   "metadata": {},
   "source": [
    "Encapsulation in Python can be achieved by using access modifiers and following certain conventions to control the access to attributes and methods within a class. Though Python doesn't have strict access modifiers like some other languages (C++, Java), it offers conventions and mechanisms to implement encapsulation.\n",
    "\n",
    "Below is an example illustrating encapsulation in Python:"
   ]
  },
  {
   "cell_type": "code",
   "execution_count": 1,
   "id": "13cbf985-76f8-412e-9a12-e5a67cf6c507",
   "metadata": {},
   "outputs": [
    {
     "name": "stdout",
     "output_type": "stream",
     "text": [
      "Toyota\n",
      "Corolla\n",
      "Camry\n",
      "30\n",
      "Brand: Toyota, Model: Camry, Mileage: 30\n"
     ]
    }
   ],
   "source": [
    "class Car:\n",
    "    def __init__(self, brand, model, mileage):\n",
    "        self._brand = brand  # Protected attribute\n",
    "        self.__model = model  # Private attribute\n",
    "        self.mileage = mileage  # Public attribute\n",
    "\n",
    "    # Getter method for private attribute\n",
    "    def get_model(self):\n",
    "        return self.__model\n",
    "\n",
    "    # Setter method for private attribute\n",
    "    def set_model(self, new_model):\n",
    "        self.__model = new_model\n",
    "\n",
    "    def display_info(self):\n",
    "        return f\"Brand: {self._brand}, Model: {self.__model}, Mileage: {self.mileage}\"\n",
    "\n",
    "\n",
    "# Usage\n",
    "car = Car(\"Toyota\", \"Corolla\", 30)\n",
    "\n",
    "# Accessing protected attribute (not recommended)\n",
    "print(car._brand) \n",
    "\n",
    "# Accessing private attribute using getter method\n",
    "print(car.get_model()) \n",
    "\n",
    "# Modifying private attribute using setter method\n",
    "car.set_model(\"Camry\")\n",
    "print(car.get_model()) \n",
    "\n",
    "# Accessing public attribute directly\n",
    "print(car.mileage)  \n",
    "\n",
    "# Displaying car information using a method\n",
    "print(car.display_info()) \n"
   ]
  },
  {
   "cell_type": "markdown",
   "id": "3103220d-a81e-4df8-92a9-e7d8f0ec636f",
   "metadata": {},
   "source": [
    "**Explanation:**\n",
    "\n",
    "The \"Car\" class contains attributes with different access levels (Publuc, Private and Protected).\n",
    "\n",
    "`_brand` is a protected attribute (conventionally indicated with a single underscore).\n",
    "\n",
    "`__model` is a private attribute (indicated with a double underscore)\n",
    "\n",
    "\"mileage\" as a public attribute (accessible directly)\n",
    "\n",
    "Getter and setter methods (get_model() and set_model()) are defined to access and modify the private attribute `__model`.\n",
    "\n",
    "Usage demonstrates accessing and modifying the attributes of the Car object, with controlled access to the private attribute using getter and setter methods."
   ]
  },
  {
   "cell_type": "markdown",
   "id": "0ed4ce6a-8b5d-4ce2-b03b-23b9581373b0",
   "metadata": {},
   "source": [
    "**Q4. Discuss the difference between public, private, and protected access modifiers in Python.**"
   ]
  },
  {
   "cell_type": "markdown",
   "id": "27c0d137-d331-429c-9ad0-a75dbf07e1bb",
   "metadata": {},
   "source": [
    "Difference between Public, Private, and Protected Access Modifiers in Python:\n",
    "\n",
    "Public Access (public):\n",
    "\n",
    "1. Attributes or methods without any name modification (no underscore) are considered public by convention.\n",
    "\n",
    "2. They can be accessed from within the class, outside the class, and by subclasses without any difficulty.\n",
    "\n",
    "3. No special syntax is required to declare public attributes/methods.\n",
    "\n",
    "Private Access (private):\n",
    "\n",
    "1. Attributes or methods prefixed with a double underscore `__` are considered private by convention.\n",
    "\n",
    "2. Python implements name mangling by renaming these attributes to `_ClassName__attributeName`. This makes it difficult but not impossible to access them from outside the class.\n",
    "\n",
    "3. They are intended to be used only inside the class and are not directly accessible from outside the class.\n",
    "\n",
    "Protected Access (protected):\n",
    "\n",
    "1. Attributes or methods prefixed with a single underscore `_` are considered protected by convention.\n",
    "\n",
    "2. They are meant to indicate that these attributes/methods are intended for internal use within the class or its subclasses.\n",
    "\n",
    "3. They can be accessed from within the class and its subclasses and also from outside the class(not recommended). It's more of a naming convention rather than enforced access control."
   ]
  },
  {
   "cell_type": "markdown",
   "id": "1c143a9b-5edd-4700-b078-49430fd49150",
   "metadata": {},
   "source": [
    "**Q5. Create a Python class called `Person` with a private attribute `__name`. Provide methods to get and set the name attribute.**"
   ]
  },
  {
   "cell_type": "code",
   "execution_count": 2,
   "id": "0cf0a822-cba7-4367-a174-b2b952618a2d",
   "metadata": {},
   "outputs": [
    {
     "name": "stdout",
     "output_type": "stream",
     "text": [
      "Anmol\n",
      "Anand\n"
     ]
    }
   ],
   "source": [
    "class Person:\n",
    "    def __init__(self, name):\n",
    "        self.__name = name  # Private attribute\n",
    "\n",
    "    def get_name(self):\n",
    "        return self.__name  # Getter method for private attribute\n",
    "\n",
    "    def set_name(self, new_name):\n",
    "        self.__name = new_name  # Setter method for private attribute\n",
    "\n",
    "\n",
    "# Usage\n",
    "person = Person(\"Anmol\")\n",
    "\n",
    "# Accessing private attribute using getter method\n",
    "print(person.get_name())  \n",
    "\n",
    "# Setting private attribute using setter method\n",
    "person.set_name(\"Anand\")\n",
    "print(person.get_name())  \n"
   ]
  },
  {
   "cell_type": "markdown",
   "id": "8da48e86-66a0-46ca-927b-d5aec847327f",
   "metadata": {},
   "source": [
    "**Explanation:**\n",
    "\n",
    "The above code demonstrates how to encapsulate the `__name` attribute within the Person class by using \"getter\" and \"setter\" methods to access and modify it indirectly, adhering to the principles of encapsulation and providing controlled access to the private attribute.\n",
    "\n",
    "The \"Person\" class initializes with a private attribute `__name` in its constructor.\n",
    "\n",
    "\"Getter\" method \"get_name()\" returns the value of the private attribute `__name`.\n",
    "\n",
    "\"Setter\" method \"set_name()\" allows modifying the value of the private attribute `__name`."
   ]
  },
  {
   "cell_type": "markdown",
   "id": "57b8018b-c956-4d00-b7c7-3d6e1225fe4e",
   "metadata": {},
   "source": [
    "**Q6. Explain the purpose of getter and setter methods in encapsulation. Provide examples.**"
   ]
  },
  {
   "cell_type": "markdown",
   "id": "3c8d2ea2-2034-4e4d-9999-ed1f5518990a",
   "metadata": {},
   "source": [
    "Getter and setter methods play a crucial role in encapsulation by providing controlled access to the attributes of a class. They facilitate indirect interaction with class attributes, allowing validation, modification, and retrieval of private or protected attributes in a controlled manner.\n",
    "\n",
    "Purpose of Getter and Setter Methods in Encapsulation:\n",
    "\n",
    "1. Getter and setter methods enable controlled access to class attributes. They serve as an interface through which attributes can be retrieved or modified, allowing validation and control over how the attributes are accessed or changed.\n",
    "\n",
    "2. Getter and setter methods allow validation of input before setting attribute values. This ensures that only valid data is assigned to class attributes, maintaining data integrity and preventing invalid or unexpected values from being stored.\n",
    "\n",
    "3. By using getter and setter methods, the internal representation of attributes can be hidden. This abstraction allows the class to modify its internal structure or implementation details without affecting the external code that uses these methods.\n",
    "\n",
    "4. Setter methods provide a way to implement additional logic, computations, or transformations before setting attribute values. Getter methods can perform additional operations like formatting or calculations before returning attribute values.\n",
    "\n",
    "Examples of Getter and Setter Methods:"
   ]
  },
  {
   "cell_type": "code",
   "execution_count": 6,
   "id": "575d56ad-69ec-4c19-a832-14db89ef2986",
   "metadata": {},
   "outputs": [
    {
     "name": "stdout",
     "output_type": "stream",
     "text": [
      "5\n",
      "10\n",
      "Area: 120\n"
     ]
    }
   ],
   "source": [
    "class Rectangle:\n",
    "    def __init__(self, width, height):\n",
    "        self._width = width  # Protected attribute\n",
    "        self._height = height  # Protected attribute\n",
    "\n",
    "    # Getter method for width attribute\n",
    "    def get_width(self):\n",
    "        return self._width\n",
    "\n",
    "    # Setter method for width attribute\n",
    "    def set_width(self, width):\n",
    "        if width > 0:\n",
    "            self._width = width\n",
    "        else:\n",
    "            print(\"Width must be a positive value.\")\n",
    "\n",
    "    # Getter method for height attribute\n",
    "    def get_height(self):\n",
    "        return self._height\n",
    "\n",
    "    # Setter method for height attribute\n",
    "    def set_height(self, height):\n",
    "        if height > 0:\n",
    "            self._height = height\n",
    "        else:\n",
    "            print(\"Height must be a positive value.\")\n",
    "\n",
    "    # Method to calculate area\n",
    "    def calculate_area(self):\n",
    "        return self._width * self._height\n",
    "\n",
    "\n",
    "# Usage\n",
    "rectangle = Rectangle(5, 10)\n",
    "\n",
    "# Getting width and height using getter methods\n",
    "print(rectangle.get_width())  \n",
    "print(rectangle.get_height())  \n",
    "\n",
    "# Setting width and height using setter methods\n",
    "rectangle.set_width(8)\n",
    "rectangle.set_height(15)\n",
    "\n",
    "# Calculating area using a method\n",
    "print(\"Area:\",rectangle.calculate_area())  "
   ]
  },
  {
   "cell_type": "markdown",
   "id": "3d241212-45b3-4f4a-b6f8-067581fa004a",
   "metadata": {},
   "source": [
    "In this example, the Rectangle class demonstrates the use of getter and setter methods for accessing and modifying protected attributes width and height. These methods enable controlled interaction with the class attributes, allowing validation and ensuring data integrity while performing operations on the object's attributes."
   ]
  },
  {
   "cell_type": "markdown",
   "id": "4c2cbacf-88b8-4c02-a684-e77f18b59c92",
   "metadata": {},
   "source": [
    "**Q7. What is name mangling in Python, and how does it affect encapsulation?**"
   ]
  },
  {
   "cell_type": "markdown",
   "id": "a90be925-2738-43dd-8710-d8b552ae0e67",
   "metadata": {},
   "source": [
    "Name mangling is a technique used in Python to make class attributes or methods identified by a different name to prevent accidental access or overriding in subclasses. It affects encapsulation by altering the names of variables or methods defined with a double underscore (`__`) prefix in the class definition.\n",
    "\n",
    "Purpose of Name Mangling:\n",
    "\n",
    "1. When a class defines attributes or methods defined with a double underscore prefix (`__`), Python internally renames those identifiers to `_ClassName__attributeName` or `_ClassName__methodName`, to prevent accidental name clashes with attributes or methods of subclasses or other classes.\n",
    "\n",
    "2. Name mangling helps in enforcing a certain level of encapsulation by making the attributes or methods harder to access or override unintentionally from outside the class.\n",
    "\n",
    "Impact on Encapsulation:\n",
    "\n",
    "Name mangling alters the names of attributes or methods defined with a double underscore prefix to prevent direct access or overriding from outside the class.\n",
    "\n",
    "It enforces a certain level of privacy for these attributes or methods, making them somewhat harder to access or modify unintentionally by external code.\n",
    "\n",
    "Example:"
   ]
  },
  {
   "cell_type": "code",
   "execution_count": 7,
   "id": "85d17ab6-c0b9-438b-91e0-b658be8c323b",
   "metadata": {},
   "outputs": [
    {
     "name": "stdout",
     "output_type": "stream",
     "text": [
      "10\n",
      "10\n"
     ]
    }
   ],
   "source": [
    "class MyClass:\n",
    "    def __init__(self):\n",
    "        self.__private_var = 10  # Private attribute\n",
    "\n",
    "    def get_private_var(self):\n",
    "        return self.__private_var  # Getter method for private attribute\n",
    "\n",
    "\n",
    "obj = MyClass()\n",
    "\n",
    "# Accessing private attribute using name mangling (not recommended)\n",
    "print(obj._MyClass__private_var) \n",
    "\n",
    "# Accessing private attribute using getter method\n",
    "print(obj.get_private_var())  \n"
   ]
  },
  {
   "cell_type": "markdown",
   "id": "2db1a2a2-1a71-4463-b1f6-e52b9bc50789",
   "metadata": {},
   "source": [
    "In this example, `__private_var` is a private attribute with name mangling. The attribute is accessible using its mangled name `_MyClass__private_var`, but this is discouraged as it goes against the principle of encapsulation. The preferred way to access or modify such attributes is through appropriate getter and setter methods provided by the class."
   ]
  },
  {
   "cell_type": "markdown",
   "id": "364fffdd-6ec0-4e5e-bc05-b76c5e2b6f55",
   "metadata": {},
   "source": [
    "**Q8. Create a Python class called `BankAccount` with private attributes for the account balance (`__balance`) and account number (`__account_number`). Provide methods for depositing and withdrawing money.**"
   ]
  },
  {
   "cell_type": "code",
   "execution_count": 8,
   "id": "b685d219-38c2-4fd7-9153-970b1a1afeb3",
   "metadata": {},
   "outputs": [
    {
     "name": "stdout",
     "output_type": "stream",
     "text": [
      "Account Number: 1234567890\n",
      "Initial Balance: 1000\n",
      "Deposited 500. Current balance: 1500\n",
      "Withdrew 200. Current balance: 1300\n",
      "Invalid amount for withdrawal or insufficient funds.\n"
     ]
    }
   ],
   "source": [
    "class BankAccount:\n",
    "    def __init__(self, account_number, initial_balance=0):\n",
    "        self.__account_number = account_number  # Private attribute for account number\n",
    "        self.__balance = initial_balance  # Private attribute for account balance\n",
    "\n",
    "    def deposit(self, amount):\n",
    "        if amount > 0:\n",
    "            self.__balance += amount\n",
    "            print(f\"Deposited {amount}. Current balance: {self.__balance}\")\n",
    "        else:\n",
    "            print(\"Invalid amount for deposit. Please enter a positive value.\")\n",
    "\n",
    "    def withdraw(self, amount):\n",
    "        if amount > 0 and self.__balance >= amount:\n",
    "            self.__balance -= amount\n",
    "            print(f\"Withdrew {amount}. Current balance: {self.__balance}\")\n",
    "        else:\n",
    "            print(\"Invalid amount for withdrawal or insufficient funds.\")\n",
    "\n",
    "    def get_balance(self):\n",
    "        return self.__balance\n",
    "\n",
    "    def get_account_number(self):\n",
    "        return self.__account_number\n",
    "\n",
    "\n",
    "# Usage\n",
    "account = BankAccount(\"1234567890\", 1000)\n",
    "\n",
    "print(\"Account Number:\", account.get_account_number())  \n",
    "print(\"Initial Balance:\", account.get_balance())  \n",
    "\n",
    "account.deposit(500)  # Depositing 500\n",
    "account.withdraw(200)  # Withdrawing 200\n",
    "account.withdraw(1500)  # Attempting to withdraw an amount greater than the balance\n"
   ]
  },
  {
   "cell_type": "markdown",
   "id": "66505432-9531-4ce8-8416-a9eb4e6fe362",
   "metadata": {},
   "source": [
    "**Explanation:**\n",
    "\n",
    "The above code demonstrates encapsulation by using private attributes to store sensitive data (account number and balance) and providing controlled access through methods for depositing, withdrawing, and retrieving account information.\n",
    "\n",
    "The \"BankAccount\" class initializes with private attributes `__account_number` and `__balance`.\n",
    "\n",
    "The \"deposit()\" method deposits money into the account if the amount is positive.\n",
    "\n",
    "The \"withdraw()\" method withdraws money if the amount is positive and the account has sufficient balance.\n",
    "\n",
    "Getter methods \"get_balance()\" and \"get_account_number()\" allow retrieving the account balance and account number, respectively."
   ]
  },
  {
   "cell_type": "markdown",
   "id": "5859eb99-e74f-405c-9688-f2f0ca43b50e",
   "metadata": {},
   "source": [
    "**Q9. Discuss the advantages of encapsulation in terms of code maintainability and security.**"
   ]
  },
  {
   "cell_type": "markdown",
   "id": "7471798f-0667-4cf0-9dd6-fa0b8a3ba334",
   "metadata": {},
   "source": [
    "Code Maintainability:\n",
    "\n",
    "1. Encapsulation promotes modularity by grouping related data (attributes) and behaviors (methods) into a single unit (class). This modular structure makes code easier to understand, maintain, and update, as changes to one part of the code do not necessitate modifications throughout the entire codebase.\n",
    "\n",
    "2. Encapsulation encourages code reusability. Once a class is defined with encapsulated attributes and methods, it can be instantiated multiple times, leading to efficient code reuse without duplication.\n",
    "\n",
    "3. Encapsulation provides a clear boundary for interactions between different components. It allows developers to make modifications within a class without impacting other parts of the program, thus simplifying maintenance and reducing the chances of introducing errors.\n",
    "\n",
    "Security:\n",
    "\n",
    "1. Encapsulation hides the internal state (attributes) of an object from the outside world. By using access modifiers and providing controlled access through methods (getters/setters), it prevents direct manipulation of sensitive data, maintaining data integrity and reducing the risk of accidental modification or corruption.\n",
    "\n",
    "2. Encapsulation ensures that access to class attributes and methods is regulated through defined interfaces (public methods). This controlled access prevents unauthorized or unintended modifications, enhancing the security of the application.\n",
    "\n",
    "3. Encapsulation helps in preventing inconsistencies by encapsulating the data within the class and providing controlled access to it. This minimizes the risk of data corruption or unintended modifications by limiting access through only approved means (methods)."
   ]
  },
  {
   "cell_type": "markdown",
   "id": "178de1cd-f92f-418f-8b40-07bf55241db8",
   "metadata": {},
   "source": [
    "**Q10. How can you access private attributes in Python? Provide an example demonstrating the use of name mangling.**"
   ]
  },
  {
   "cell_type": "markdown",
   "id": "71243d6e-0680-4bde-9044-3b9058599b12",
   "metadata": {},
   "source": [
    "In Python, private attributes, indicated by a double underscore prefix (__), are designed to be inaccessible directly from outside the class. However, Python employs name mangling to change the name of these attributes to prevent direct access, but there is a way to access them indirectly by using their mangled names.\n",
    "\n",
    "Name mangling in Python transforms the name of private attributes from `__attribute` to `_ClassName__attribute`. This transformation helps in avoiding accidental name clashes in subclasses and external code.\n",
    "\n",
    "Below is an example demonstrating how to access private attributes using name mangling:"
   ]
  },
  {
   "cell_type": "code",
   "execution_count": 9,
   "id": "d9ccef1a-66d4-4912-86ee-0d9abc76b82f",
   "metadata": {},
   "outputs": [
    {
     "name": "stdout",
     "output_type": "stream",
     "text": [
      "42\n",
      "42\n"
     ]
    }
   ],
   "source": [
    "class MyClass:\n",
    "    def __init__(self):\n",
    "        self.__private_var = 42  # Private attribute \n",
    "\n",
    "    def get_private_var(self):\n",
    "        return self.__private_var  # Getter method for private attribute\n",
    "\n",
    "\n",
    "obj = MyClass()\n",
    "\n",
    "# Accessing private attribute using its mangled name (not recommended)\n",
    "print(obj._MyClass__private_var)  \n",
    "\n",
    "# Accessing private attribute using getter method\n",
    "print(obj.get_private_var())  \n"
   ]
  },
  {
   "cell_type": "markdown",
   "id": "cd9741ed-6fe2-45ae-a591-487f56df6f2d",
   "metadata": {},
   "source": [
    "**Explanation:**\n",
    "\n",
    "In the above example, `__private_var` is a private attribute within the \"MyClass\" class.\n",
    "\n",
    "Accessing the private attribute directly by its mangled name `_MyClass__private_var` is possible but discouraged, as it goes against the principle of encapsulation.\n",
    "\n",
    "The preferred way to access private attributes is by providing getter methods (like get_private_var() in this case) that allow controlled access to these attributes."
   ]
  },
  {
   "cell_type": "markdown",
   "id": "7e594a04-a415-4bba-b6ea-1a7a051ae3d1",
   "metadata": {},
   "source": [
    "**Q11. Create a Python class hierarchy for a school system, including classes for students, teachers, and courses, and implement encapsulation principles to protect sensitive information.**"
   ]
  },
  {
   "cell_type": "code",
   "execution_count": 10,
   "id": "fd26b6e0-fac9-4fd3-bc18-c7c6d0a527f0",
   "metadata": {},
   "outputs": [],
   "source": [
    "class Person:\n",
    "    def __init__(self, name, age):\n",
    "        self.__name = name  # Private attribute for person's name\n",
    "        self.__age = age  # Private attribute for person's age\n",
    "\n",
    "    def get_name(self):\n",
    "        return self.__name  # Getter method for name\n",
    "\n",
    "    def get_age(self):\n",
    "        return self.__age  # Getter method for age\n",
    "\n",
    "\n",
    "class Student(Person):\n",
    "    def __init__(self, name, age, student_id):\n",
    "        super().__init__(name, age)\n",
    "        self.__student_id = student_id  # Private attribute for student ID\n",
    "        self.__courses = []  # Private attribute to store enrolled courses\n",
    "\n",
    "    def get_student_id(self):\n",
    "        return self.__student_id  # Getter method for student ID\n",
    "\n",
    "    def enroll_course(self, course):\n",
    "        self.__courses.append(course)  # Method to enroll in a course\n",
    "\n",
    "    def display_courses(self):\n",
    "        return self.__courses  # Method to display enrolled courses\n",
    "\n",
    "\n",
    "class Teacher(Person):\n",
    "    def __init__(self, name, age, teacher_id):\n",
    "        super().__init__(name, age)\n",
    "        self.__teacher_id = teacher_id  # Private attribute for teacher ID\n",
    "\n",
    "    def get_teacher_id(self):\n",
    "        return self.__teacher_id  # Getter method for teacher ID\n",
    "\n",
    "\n",
    "class Course:\n",
    "    def __init__(self, course_id, name):\n",
    "        self.__course_id = course_id  # Private attribute for course ID\n",
    "        self.__name = name  # Private attribute for course name\n",
    "\n",
    "    def get_course_id(self):\n",
    "        return self.__course_id  # Getter method for course ID\n",
    "\n",
    "    def get_name(self):\n",
    "        return self.__name  # Getter method for course name\n"
   ]
  },
  {
   "cell_type": "code",
   "execution_count": 11,
   "id": "2b176f55-772a-43e0-ad4e-0c9e5a8c9732",
   "metadata": {},
   "outputs": [
    {
     "name": "stdout",
     "output_type": "stream",
     "text": [
      "Student Name: Anmol\n",
      "Teacher Age: 35\n",
      "Course Name: Full Stack DataScience Pro\n",
      "Enrolled Courses: ['Full Stack DataScience Pro']\n"
     ]
    }
   ],
   "source": [
    "# Creating instances of Student, Teacher, and Course classes\n",
    "student = Student(\"Anmol\", 24, \"19\")\n",
    "teacher = Teacher(\"Shudhanshu kumar\", 35, \"T1\")\n",
    "course = Course(\"C1\", \"Full Stack DataScience Pro\")\n",
    "\n",
    "# Accessing information using getter methods\n",
    "print(\"Student Name:\", student.get_name())  \n",
    "print(\"Teacher Age:\", teacher.get_age())  \n",
    "print(\"Course Name:\", course.get_name())  \n",
    "\n",
    "# Enrolling a student in a course\n",
    "student.enroll_course(course)\n",
    "enrolled_courses = student.display_courses()\n",
    "print(\"Enrolled Courses:\", [c.get_name() for c in enrolled_courses])  \n"
   ]
  },
  {
   "cell_type": "markdown",
   "id": "82bff5da-593d-443c-8a46-7ff80858ec4d",
   "metadata": {},
   "source": [
    "**Explanation:**\n",
    "\n",
    "The \"Person\" class represents a general person with attributes for \"name\" and \"age\", encapsulating this sensitive information.\n",
    "\n",
    "The \"Student\" and \"Teacher\" classes inherit from the Person class to utilize encapsulated name and age attributes.\n",
    "\n",
    "Each class has its own private attributes (e.g., `__student_id`, `__teacher_id`) to store sensitive information specific to students, teachers, or courses.\n",
    "\n",
    "Getter methods are provided to access the private attributes indirectly, maintaining encapsulation and controlled access to sensitive information within the school system hierarchy."
   ]
  },
  {
   "cell_type": "markdown",
   "id": "4f234d26-4f3a-42d5-af9a-18f41ec01350",
   "metadata": {},
   "source": [
    "**Q12. Explain the concept of property decorators in Python and how they relate to encapsulation.**"
   ]
  },
  {
   "cell_type": "markdown",
   "id": "3a1c544b-bfcc-44fe-9426-321b67f08d21",
   "metadata": {},
   "source": [
    "In Python, decorators are functions that modify the behavior of other functions or methods without altering their actual code. Decorators allow us to add functionality to existing functions or methods dynamically.\n",
    "\n",
    "In Python, property decorators are a way to implement getter, setter, and deleter methods in a more concise and readable manner. They allow controlled access to class attributes by defining special methods (getter, setter, deleter) with the `@property`, `@<attribute>.setter`, and `@<attribute>.deleter` decorators, respectively.\n",
    "\n",
    "Property Decorators and Encapsulation:\n",
    "\n",
    "1. Getter Method (@property): The @property decorator allows defining a method that can be accessed like an attribute. It enables getting the value of a private attribute without directly accessing it, promoting encapsulation by providing controlled read-only access.\n",
    "\n",
    "2. Setter Method (`@<attribute>.setter`): The `@<attribute>.setter` decorator allows defining a method to set the value of a private attribute. It helps in controlling attribute assignment by validating or transforming the assigned value, enhancing encapsulation.\n",
    "\n",
    "3. Deleter Method (`@<attribute>.deleter`): The `@<attribute>.deleter` decorator defines a method to delete the value of a private attribute. It can perform necessary cleanup actions before or after deletion, contributing to encapsulation.\n",
    "\n",
    "Example:"
   ]
  },
  {
   "cell_type": "code",
   "execution_count": 15,
   "id": "4be47d46-6a6f-4d7e-9324-af1984ab2318",
   "metadata": {},
   "outputs": [
    {
     "name": "stdout",
     "output_type": "stream",
     "text": [
      "10\n",
      "Private attribute deteted\n"
     ]
    }
   ],
   "source": [
    "class MyClass:\n",
    "    def __init__(self):\n",
    "        self.__attribute = None  # Private attribute\n",
    "\n",
    "    @property\n",
    "    def attribute(self):\n",
    "        return self.__attribute\n",
    "\n",
    "    @attribute.setter\n",
    "    def attribute(self, value):\n",
    "        self.__attribute = value\n",
    "\n",
    "    @attribute.deleter\n",
    "    def attribute(self):\n",
    "        # Add cleanup actions if needed\n",
    "        del self.__attribute\n",
    "        print(\"Private attribute deteted\")\n",
    "        \n",
    "#Usage\n",
    "test=MyClass()\n",
    "\n",
    "test.attribute=10 # Calling the setter\n",
    "print(test.attribute) # Calling the getter\n",
    "del test.attribute # Calling the deleter"
   ]
  },
  {
   "cell_type": "markdown",
   "id": "96ee164e-ce26-4386-b673-105399baa89a",
   "metadata": {},
   "source": [
    "The above example demonstrates encapsulation using property decorators in Python to create controlled access to a private attribute within a class (MyClass). The getter, setter, and deleter methods provide controlled read, write, and delete operations for the private attribute `__attribute`."
   ]
  },
  {
   "cell_type": "markdown",
   "id": "d5e33eae-cbb8-4162-87cf-e14fa084347b",
   "metadata": {},
   "source": [
    "**Q13. What is data hiding, and why is it important in encapsulation? Provide examples.**"
   ]
  },
  {
   "cell_type": "markdown",
   "id": "5e123ee4-1ace-4deb-83e3-434df9dd306f",
   "metadata": {},
   "source": [
    "Data hiding is a principle in object-oriented programming that involves restricting the visibility of certain aspects of a class or object, typically its attributes and implementation details, from the outside world. It's an essential aspect of encapsulation, ensuring that the internal state of an object is not directly accessible or modifiable from external code.\n",
    "\n",
    "Importance of Data Hiding in Encapsulation:\n",
    "\n",
    "1. Data hiding is crucial in encapsulation as it allows the implementation details of a class to be hidden from the external environment. This facilitates abstraction, enabling users of the class to interact with it based on its interface (public methods) without needing to understand its internal complexities.\n",
    "\n",
    "2. By hiding implementation details, data hiding prevents unauthorized access to or modification of sensitive attributes. It restricts direct manipulation of internal data, reducing the risk of unintended changes and maintaining data integrity.\n",
    "\n",
    "3. Data hiding helps in enhancing security by limiting access to critical data or attributes. It prevents accidental modification or misuse of sensitive information, contributing to the overall security of the system.\n",
    "\n",
    "3. Data hiding allows changes to be made within the class without affecting the external code that uses the class. It ensures a stable interface for the class, reducing the chances of external dependencies on the class's internal structure.\n",
    "\n",
    "Example Demonstrating Data Hiding:"
   ]
  },
  {
   "cell_type": "code",
   "execution_count": 22,
   "id": "885eb9fb-117f-4d32-8d69-b73a878257a0",
   "metadata": {},
   "outputs": [
    {
     "name": "stdout",
     "output_type": "stream",
     "text": [
      "AttributeError: 'BankAccount' object has no attribute '__balance'\n",
      "Account Balance using Getter: 1000\n"
     ]
    }
   ],
   "source": [
    "class BankAccount:\n",
    "    def __init__(self, account_number, initial_balance):\n",
    "        self._account_number = account_number  # Protected attribute\n",
    "        self.__balance = initial_balance  # Private attribute\n",
    "\n",
    "    def deposit(self, amount):\n",
    "        if amount > 0:\n",
    "            self.__balance += amount\n",
    "            print(f\"Deposited {amount}. Current balance: {self.__balance}\")\n",
    "        else:\n",
    "            print(\"Invalid amount for deposit. Please enter a positive value.\")\n",
    "\n",
    "    def get_balance(self):\n",
    "        return self.__balance  # Getter method to access the private attribute\n",
    "\n",
    "\n",
    "# Usage of BankAccount class\n",
    "account = BankAccount(\"123456789\", 1000)  # Creating a bank account\n",
    "\n",
    "# Trying to directly access the private attribute\n",
    "# This will result in an AttributeError as the attribute is hidden from direct access\n",
    "try:\n",
    "    balance=account.__balance\n",
    "    print(balance)\n",
    "except AttributeError as e:\n",
    "    print(\"AttributeError:\",e)\n",
    "    \n",
    "print(\"Account Balance using Getter:\",account.get_balance())\n"
   ]
  },
  {
   "cell_type": "markdown",
   "id": "aac6ee5a-6043-4d39-b0ae-0629a8091823",
   "metadata": {},
   "source": [
    "The above example demonstrates the concept of encapsulation and data hiding using a \"BankAccount\" class. It features a private attribute `__balance` and illustrates how direct access to private attributes outside the class is not directly possible and leads to an \"AttributeError\"."
   ]
  },
  {
   "cell_type": "markdown",
   "id": "80a4def8-21fb-49f5-8998-e111d485aec0",
   "metadata": {},
   "source": [
    "**Q14. Create a Python class called `Employee` with private attributes for salary (`__salary`) and employee ID (`__employee_id`). Provide a method to calculate yearly bonuses.**"
   ]
  },
  {
   "cell_type": "code",
   "execution_count": 24,
   "id": "317460ff-f3ab-4af4-b764-fc39eb6f24fc",
   "metadata": {},
   "outputs": [
    {
     "name": "stdout",
     "output_type": "stream",
     "text": [
      "Yearly Bonus for Employee 1: 5000.0\n"
     ]
    }
   ],
   "source": [
    "class Employee:\n",
    "    def __init__(self, employee_id, salary):\n",
    "        self.__employee_id = employee_id  # Private attribute for employee ID\n",
    "        self.__salary = salary  # Private attribute for salary\n",
    "\n",
    "    def calculate_yearly_bonus(self, bonus_percentage):\n",
    "        bonus = (self.__salary * bonus_percentage) / 100\n",
    "        return bonus\n",
    "    \n",
    "# Creating an Employee object\n",
    "employee1 = Employee(\"EMP001\", 50000)\n",
    "\n",
    "# Calculating yearly bonus for employee1 with a bonus percentage of 10%\n",
    "yearly_bonus = employee1.calculate_yearly_bonus(10)\n",
    "print(\"Yearly Bonus for Employee 1:\", yearly_bonus)\n"
   ]
  },
  {
   "cell_type": "markdown",
   "id": "9c377aef-47d4-4af7-bb9e-19e7e3ee2db4",
   "metadata": {},
   "source": [
    "Explanation:\n",
    "\n",
    "The \"Employee\" class is defined with an `__init__` method that initializes instances of the class.\n",
    "\n",
    "The `__init__` method takes \"employee_id\" and \"salary\" as parameters and assigns them to the private attributes `__employee_id` and `__salary`, respectively.\n",
    "\n",
    "Within the Employee class, there's a method named \"calculate_yearly_bonus\". This method takes a \"bonus_percentage\" as a parameter and calculates the yearly bonus based on the given percentage of the employee's salary (`__salary`).\n",
    "\n",
    "An instance of the Employee class named \"employee1\" is created with an employee ID of \"EMP001\" and a salary of 50000.\n",
    "\n",
    "The \"calculate_yearly_bonus\" method is invoked on the employee1 object, passing a bonus percentage of 10%.\n",
    "\n",
    "The yearly bonus is calculated using the provided percentage and the employee's salary.\n",
    "\n",
    "The calculated yearly bonus for employee1 is printed to the console using the print statement."
   ]
  },
  {
   "cell_type": "markdown",
   "id": "95c61464-4858-42fe-9cbb-b1fa808363a4",
   "metadata": {},
   "source": [
    "**Q15. Discuss the use of accessors and mutators in encapsulation. How do they help maintain control over attribute access?**"
   ]
  },
  {
   "cell_type": "markdown",
   "id": "1f144d6c-6886-40e7-9183-44eae595b3b1",
   "metadata": {},
   "source": [
    "Accessors (getters) and mutators (setters) are methods used in object-oriented programming to control access to class attributes, contributing to encapsulation by enforcing controlled attribute manipulation.\n",
    "\n",
    "Accessors (Getters): Getters are methods used to retrieve the values of private attributes. They provide controlled access to read the values of private attributes from outside the class.\n",
    "\n",
    "Mutators (Setters): Setters are methods used to modify the values of private attributes. They provide controlled access to modify or set the values of private attributes.\n",
    "\n",
    "How They Maintain Control Over Attribute Access:\n",
    "\n",
    "1. Getters and setters allow controlled access to private attributes, preventing direct manipulation from external code. This helps in encapsulating the internal state of an object.\n",
    "\n",
    "2. Mutators (setters) can include logic to validate input data before modifying the attribute. This ensures that only valid data is assigned to the attribute, maintaining the integrity of the object's state.\n",
    "\n",
    "3. Accessors (getters) provide an interface to retrieve attribute values without exposing the internal representation. This abstraction shields the internal details, allowing modifications to the class's implementation without affecting the external code using the getter methods.\n",
    "\n",
    "4. Getters and setters provide flexibility to modify the internal implementation of attributes while preserving the external interface. They enable changes in validation, computation, or side effects without affecting the class's users."
   ]
  },
  {
   "cell_type": "markdown",
   "id": "16a9998b-fd38-40f0-9024-ebd5545fa1ed",
   "metadata": {},
   "source": [
    "**Q16. What are the potential drawbacks or disadvantages of using encapsulation in Python?**"
   ]
  },
  {
   "cell_type": "markdown",
   "id": "caa18671-cfc3-4873-ab98-69a653533d49",
   "metadata": {},
   "source": [
    "Below are the potential drawbacks or disadvantages of using encapsulation in Python:\n",
    "    \n",
    "1. Implementing encapsulation with getters, setters, and private attributes can sometimes increase the complexity of code, especially in scenarios where simple data access and modification are sufficient.\n",
    "\n",
    "2. The use of getters and setters may introduce additional function calls, potentially impacting performance, especially in situations where frequent access/modification of attribute is required.\n",
    "\n",
    "3. Writing and maintaining getters and setters for every attribute can result in increased lines of code, potentially leading to more code to manage and maintain.\n",
    "\n",
    "4. Encapsulation might hide certain attribute values or manipulations, making debugging more complex when issues arise, especially for developers not completely familiar with the codebase.\n",
    "\n",
    "5. Overuse of encapsulation might reduce the flexibility of the codebase, making it harder to extend or modify classes without modifying the interfaces.\n",
    "\n",
    "6. Encapsulation alone doesn't guarantee security; it's a guideline. Developers may assume their code is secure due to encapsulation, leading to potential failure in other security measures.\n",
    "\n",
    "7. For beginners or developers new to the codebase, encapsulation might add an extra layer of complexity that requires understanding before effectively working with the code."
   ]
  },
  {
   "cell_type": "markdown",
   "id": "4e1657ef-c8ec-4508-ad5d-f276eed2472d",
   "metadata": {},
   "source": [
    "**Q17. Create a Python class for a library system that encapsulates book information, including titles, authors,\n",
    "and availability status.**"
   ]
  },
  {
   "cell_type": "code",
   "execution_count": 26,
   "id": "a500cccc-4674-420c-84c6-b4905a4dde7f",
   "metadata": {},
   "outputs": [
    {
     "name": "stdout",
     "output_type": "stream",
     "text": [
      "Book 1 Details - Title: Making India Awesome | Author: Chetan Bhagat\n",
      "Book 'Making India Awesome' by Chetan Bhagat has been borrowed.\n",
      "Book 'Making India Awesome' by Chetan Bhagat is currently not available.\n",
      "Book 'Making India Awesome' by Chetan Bhagat has been returned.\n",
      "Book 'Making India Awesome' by Chetan Bhagat was not borrowed.\n",
      "\n",
      "Book 2 Details - Title: Revolution 2020 | Author: Chetan Bhagat\n",
      "Book 'Revolution 2020' by Chetan Bhagat has been borrowed.\n",
      "Book 'Revolution 2020' by Chetan Bhagat has been returned.\n"
     ]
    }
   ],
   "source": [
    "class Book:\n",
    "    def __init__(self, title, author):\n",
    "        self.__title = title  # Private attribute for book title\n",
    "        self.__author = author  # Private attribute for author\n",
    "        self.__available = True  # Private attribute for availability status\n",
    "\n",
    "    def get_title(self):\n",
    "        return self.__title  # Getter method for retrieving the book title\n",
    "\n",
    "    def get_author(self):\n",
    "        return self.__author  # Getter method for retrieving the author\n",
    "\n",
    "    def is_available(self):\n",
    "        return self.__available  # Getter method for checking availability\n",
    "\n",
    "    def borrow_book(self):\n",
    "        if self.__available:\n",
    "            self.__available = False\n",
    "            print(f\"Book '{self.__title}' by {self.__author} has been borrowed.\")\n",
    "        else:\n",
    "            print(f\"Book '{self.__title}' by {self.__author} is currently not available.\")\n",
    "\n",
    "    def return_book(self):\n",
    "        if not self.__available:\n",
    "            self.__available = True\n",
    "            print(f\"Book '{self.__title}' by {self.__author} has been returned.\")\n",
    "        else:\n",
    "            print(f\"Book '{self.__title}' by {self.__author} was not borrowed.\")\n",
    "\n",
    "# Creating instances of Book class\n",
    "book1 = Book(\"Making India Awesome\", \"Chetan Bhagat\")\n",
    "book2 = Book(\"Revolution 2020\", \"Chetan Bhagat\")\n",
    "\n",
    "# Accessing book information and performing actions\n",
    "print(\"Book 1 Details - Title:\", book1.get_title(), \"| Author:\", book1.get_author())\n",
    "book1.borrow_book()\n",
    "book1.borrow_book()  # Attempting to borrow again\n",
    "book1.return_book()\n",
    "book1.return_book()  # Attempting to return again\n",
    "\n",
    "print(\"\\nBook 2 Details - Title:\", book2.get_title(), \"| Author:\", book2.get_author())\n",
    "book2.borrow_book()\n",
    "book2.return_book()\n"
   ]
  },
  {
   "cell_type": "markdown",
   "id": "6566418c-a536-479e-ba30-818636fb28e0",
   "metadata": {},
   "source": [
    "**Explanation:**\n",
    "\n",
    "The above code  demonstrates how encapsulation allows controlled access to book information and actions within the library system, maintaining the integrity of the book data and availability status. \n",
    "\n",
    "The \"Book\" class encapsulates book information with private attributes for title, author, and availability status.\n",
    "\n",
    "Getter methods (get_title, get_author, is_available) provide controlled access to retrieve information about the book.\n",
    "\n",
    "\"borrow_book\" and \"return_book\" methods control the borrowing and returning actions, updating the availability status accordingly.\n"
   ]
  },
  {
   "cell_type": "markdown",
   "id": "f078e879-60cf-4d6a-9844-25817e7c59b9",
   "metadata": {},
   "source": [
    "**18. Explain how encapsulation enhances code reusability and modularity in Python programs.**"
   ]
  },
  {
   "cell_type": "markdown",
   "id": "148c3084-0542-4eee-98aa-15fea8fc41f6",
   "metadata": {},
   "source": [
    "Code Reusability:\n",
    "\n",
    "1. Encapsulation allows the hiding of implementation details within a class, exposing only necessary interfaces (methods) to interact with the object. Users of the class can utilize the exposed interfaces without needing to understand or depend on the internal complexities, promoting code reuse.\n",
    "\n",
    "2. Encapsulation enables modular design by breaking down complex systems into smaller, manageable components (classes). Well-encapsulated classes with clear interfaces can be reused in different parts of the code or in different projects without affecting the rest of the system.\n",
    "\n",
    "3. Encapsulated classes can serve as base classes for inheritance or be composed into other classes, facilitating code reuse by inheriting behaviors or incorporating functionalities.\n",
    "\n",
    "Modularity:\n",
    "\n",
    "1. Encapsulation helps in separating different concerns or responsibilities within the code. Each class focuses on a specific aspect or functionality, making the codebase easier to understand, maintain, and modify. E\n",
    "\n",
    "2. Well-encapsulated classes act as building blocks that can be combined to create larger systems. These components can be developed, tested, and maintained independently, enhancing the overall modularity of the system.\n",
    "\n",
    "3. Encapsulated code is less prone to unintended side effects when changes are made. Modifying encapsulated components typically requires minimal changes to the rest of the system, as long as the public interface remains consistent.\n",
    "\n",
    "4. Encapsulation reduces dependencies between different parts of the code, decreasing coupling between modules. Lower coupling makes it easier to replace or update specific modules without affecting the entire system."
   ]
  },
  {
   "cell_type": "markdown",
   "id": "e0089909-f336-4c4f-9c4c-d3cda9fa6298",
   "metadata": {},
   "source": [
    "**Q19. Describe the concept of information hiding in encapsulation. Why is it essential in software development?**"
   ]
  },
  {
   "cell_type": "markdown",
   "id": "b0fad7ae-7669-42ed-8dfb-9c33840e4280",
   "metadata": {},
   "source": [
    "Information hiding is a fundamental concept within the broader concept of encapsulation. It involves hiding the implementation details of a class and exposing only the necessary information or interfaces to interact with that class. \n",
    "\n",
    "Information hiding allows classes to conceal their internal complexities, such as data representation or algorithms. It exposes only essential functionalities or interfaces (public methods) required for interacting with the class, shielding the internal workings from external interference.\n",
    "\n",
    "By encapsulating data and methods, information hiding restricts direct access to sensitive attributes or implementation details. It prevents unauthorized modification or accidental misuse of internal components, ensuring data integrity and reducing potential errors.\n",
    "\n",
    "Encapsulation and information hiding contribute to the security of a system by limiting access to sensitive data and preventing unintended alterations. It prevents unauthorized users or parts of the program from manipulating critical information, improving overall system security.\n",
    "\n",
    "Encapsulation with information hiding makes code maintenance easier by localizing modifications to the class itself, minimizing the impact on other parts of the system. It facilitates extensibility as new functionalities or optimizations can be added to the class without affecting the existing code that interacts with it.\n",
    "\n",
    "Importance in Software Development:\n",
    "\n",
    "1. Information hiding promotes modular design by abstracting complex implementations, enhancing code maintainability and readability.\n",
    "\n",
    "2. It reduces the dependency or coupling between different parts of the codebase, promoting code that is more adaptable to changes.\n",
    "\n",
    "3. Encapsulation with information hiding allows different team members to work on different components independently, reducing conflicts and enhancing productivity."
   ]
  },
  {
   "cell_type": "markdown",
   "id": "7687ebfb-dd87-4839-a6b7-1de3120462a2",
   "metadata": {},
   "source": [
    "**Q20. Create a Python class called `Customer` with private attributes for customer details like name, address, and contact information. Implement encapsulation to ensure data integrity and security.**"
   ]
  },
  {
   "cell_type": "code",
   "execution_count": 29,
   "id": "bf94a9de-c6ad-4522-be34-4bbf8fd61b85",
   "metadata": {},
   "outputs": [
    {
     "name": "stdout",
     "output_type": "stream",
     "text": [
      "Customer Name: Anmol Anand\n",
      "Customer Address: Bangalore\n",
      "Customer Contact Info: example@gmail.com - 1234567890\n",
      "Updated Customer Address: Patna\n"
     ]
    }
   ],
   "source": [
    "class Customer:\n",
    "    def __init__(self, name, address, contact_info):\n",
    "        self.__name = name  # Private attribute for customer name\n",
    "        self.__address = address  # Private attribute for customer address\n",
    "        self.__contact_info = contact_info  # Private attribute for customer contact information\n",
    "\n",
    "    def get_name(self):\n",
    "        return self.__name  # Getter method to retrieve customer name\n",
    "\n",
    "    def get_address(self):\n",
    "        return self.__address  # Getter method to retrieve customer address\n",
    "\n",
    "    def get_contact_info(self):\n",
    "        return self.__contact_info  # Getter method to retrieve contact information\n",
    "\n",
    "    def update_address(self, new_address):\n",
    "        self.__address = new_address  # Setter method to update customer address\n",
    "\n",
    "# Creating a Customer object\n",
    "customer1 = Customer(\"Anmol Anand\", \"Bangalore\", \"example@gmail.com - 1234567890\")\n",
    "\n",
    "# Accessing customer information using getter methods\n",
    "print(\"Customer Name:\", customer1.get_name())\n",
    "print(\"Customer Address:\", customer1.get_address())\n",
    "print(\"Customer Contact Info:\", customer1.get_contact_info())\n",
    "\n",
    "# Updating customer address using the setter method\n",
    "customer1.update_address(\"Patna\")\n",
    "print(\"Updated Customer Address:\", customer1.get_address())"
   ]
  },
  {
   "cell_type": "markdown",
   "id": "bcc61225-cdf3-4a56-8b20-571f2d07c75f",
   "metadata": {},
   "source": [
    "**Explanation:**\n",
    "\n",
    "The \"Customer\" class is defined with a constructor `__init__` method that initializes customer attributes: `__name`, `__address`, and `__contact_info`. These attributes are marked as private using double underscores (`__`), making them accessible only within the class.\n",
    "\n",
    "Getter methods (get_name, get_address, get_contact_info) are defined to retrieve the private attributes `__name`, `__address`, and `__contact_info`, respectively.\n",
    "\n",
    "These methods allow external code to access the private attributes indirectly, maintaining encapsulation by controlling access to the customer's information.\n",
    "\n",
    "The \"update_address\" method serves as a setter method that updates the customer's address (`__address`) with a new address (new_address) passed as an argument.\n",
    "\n",
    "An instance of the Customer class (customer1) is created with provided details, name, address, and contact information.\n",
    "\n",
    "Getter methods (get_name, get_address, get_contact_info) are used to retrieve and display customer information.\n",
    "\n",
    "The update_address method is used to update the customer's address, showcasing how encapsulation allows controlled modification of private attributes."
   ]
  },
  {
   "cell_type": "markdown",
   "id": "a341181a-0f7b-4891-adb0-e4ad13729c43",
   "metadata": {},
   "source": [
    "# Polymorphism:"
   ]
  },
  {
   "cell_type": "markdown",
   "id": "0d03d773-0bfb-4ec8-bb77-5b6b851d43a7",
   "metadata": {},
   "source": [
    "**Q1. What is polymorphism in Python? Explain how it is related to object-oriented programming.**"
   ]
  },
  {
   "cell_type": "markdown",
   "id": "d62d23f7-8f0f-4297-9693-013e5ec40988",
   "metadata": {},
   "source": [
    "In Python, polymorphism is a fundamental concept in object-oriented programming (OOP) that allows objects of different classes to be treated as objects of a common superclass. It refers to the ability of different objects to be used interchangeably based on a shared interface, method, or attribute.\n",
    "\n",
    "There are two main types of polymorphism:\n",
    "\n",
    "1. Compile-time Polymorphism (Static Binding): This type of polymorphism is also known as method overloading or function overloading. It allows different functions or methods to have the same name but different parameters or arguments. Python doesn't support method overloading directly; however, we can achieve similar functionality by using default parameter values or variable arguments.\n",
    "\n",
    "Example of compile-time polymorphism in Python using default parameter values:"
   ]
  },
  {
   "cell_type": "code",
   "execution_count": 30,
   "id": "f774bcd0-c4bf-43b1-9616-348299d6770c",
   "metadata": {},
   "outputs": [
    {
     "name": "stdout",
     "output_type": "stream",
     "text": [
      "2\n",
      "5\n",
      "9\n"
     ]
    }
   ],
   "source": [
    "class MathOperations:\n",
    "    def add(self, a, b=0, c=0):\n",
    "        return a + b + c\n",
    "\n",
    "math = MathOperations()\n",
    "print(math.add(2))        # Output: 2 (since b and c are default values)\n",
    "print(math.add(2, 3))     # Output: 5 (a=2, b=3, c=default)\n",
    "print(math.add(2, 3, 4))  # Output: 9 (a=2, b=3, c=4)"
   ]
  },
  {
   "cell_type": "markdown",
   "id": "6e58a168-de3e-4b9f-8894-6c88b907f76d",
   "metadata": {},
   "source": [
    "2. Run-time Polymorphism (Dynamic Binding): This type of polymorphism is also known as method overriding. It allows a subclass to provide a specific implementation of a method that is already defined in its superclass. The method in the subclass should have the same name and signature as the one in the superclass.\n",
    "\n",
    "Example of run-time polymorphism in Python using method overriding:"
   ]
  },
  {
   "cell_type": "code",
   "execution_count": 31,
   "id": "0b4302d9-fe9e-48c9-9bc4-515f0eea32ac",
   "metadata": {},
   "outputs": [
    {
     "name": "stdout",
     "output_type": "stream",
     "text": [
      "Woof!\n",
      "Meow!\n"
     ]
    }
   ],
   "source": [
    "class Animal:\n",
    "    def make_sound(self):\n",
    "        pass\n",
    "\n",
    "class Dog(Animal):\n",
    "    def make_sound(self):\n",
    "        return \"Woof!\"\n",
    "\n",
    "class Cat(Animal):\n",
    "    def make_sound(self):\n",
    "        return \"Meow!\"\n",
    "\n",
    "def animal_sound(animal):\n",
    "    return animal.make_sound()\n",
    "\n",
    "dog = Dog()\n",
    "cat = Cat()\n",
    "\n",
    "print(animal_sound(dog)) \n",
    "print(animal_sound(cat))  "
   ]
  },
  {
   "cell_type": "markdown",
   "id": "35aef138-6c00-4136-aceb-67df2612205d",
   "metadata": {},
   "source": [
    "**Q2. Describe the difference between compile-time polymorphism and runtime polymorphism in Python.**"
   ]
  },
  {
   "cell_type": "markdown",
   "id": "8ab2fd5a-4fbb-4f3d-9a25-a5b84ce2331b",
   "metadata": {},
   "source": [
    "In Python, both compile-time polymorphism (static binding) and runtime polymorphism (dynamic binding) are mechanisms that facilitate polymorphic behavior, but they differ in their implementation and usage.\n",
    "\n",
    "Compile-time Polymorphism (Static Binding):\n",
    "\n",
    "1. In some programming languages, like Java or C++, method overloading allows defining multiple methods with the same name but different parameters. However, Python does not support method overloading directly.\n",
    "\n",
    "2.  While Python doesn't have traditional method overloading, it achieves similar functionality through default parameter values or variable arguments.\n",
    "\n",
    "Example to simulate method overloading in Python using default parameter values."
   ]
  },
  {
   "cell_type": "code",
   "execution_count": 1,
   "id": "3f288dda-477a-4e7d-ad40-bb831b1af257",
   "metadata": {},
   "outputs": [
    {
     "name": "stdout",
     "output_type": "stream",
     "text": [
      "2\n",
      "5\n",
      "9\n"
     ]
    }
   ],
   "source": [
    "class MathOperations:\n",
    "    def add(self, a, b=0, c=0):\n",
    "        return a + b + c\n",
    "\n",
    "math = MathOperations()\n",
    "print(math.add(2))        # Output: 2 (since b and c are default values)\n",
    "print(math.add(2, 3))     # Output: 5 (a=2, b=3, c=default)\n",
    "print(math.add(2, 3, 4))  # Output: 9 (a=2, b=3, c=4)"
   ]
  },
  {
   "cell_type": "markdown",
   "id": "27be72fe-606a-4a1b-8df0-b5b7e8d17548",
   "metadata": {},
   "source": [
    "Run-time Polymorphism (Dynamic Binding):\n",
    "\n",
    "1. Run-time polymorphism allows a subclass to provide a specific implementation of a method that is already defined in its superclass (Method Overriding).\n",
    "\n",
    "2. This mechanism allows different objects to be treated uniformly based on their shared interface, and the appropriate method gets invoked based on the object type.\n",
    "\n",
    "Example of Method overriding in Python."
   ]
  },
  {
   "cell_type": "code",
   "execution_count": 2,
   "id": "2cc2570b-e37b-4a10-ae73-dd9e5a88014f",
   "metadata": {},
   "outputs": [
    {
     "name": "stdout",
     "output_type": "stream",
     "text": [
      "Woof!\n",
      "Meow!\n"
     ]
    }
   ],
   "source": [
    "class Animal:\n",
    "    def make_sound(self):\n",
    "        pass\n",
    "\n",
    "class Dog(Animal):\n",
    "    def make_sound(self):\n",
    "        return \"Woof!\"\n",
    "\n",
    "class Cat(Animal):\n",
    "    def make_sound(self):\n",
    "        return \"Meow!\"\n",
    "\n",
    "def animal_sound(animal):\n",
    "    return animal.make_sound()\n",
    "\n",
    "dog = Dog()\n",
    "cat = Cat()\n",
    "\n",
    "print(animal_sound(dog)) \n",
    "print(animal_sound(cat))  "
   ]
  },
  {
   "cell_type": "markdown",
   "id": "86fae742-3edb-4543-89a9-34c0e3078e62",
   "metadata": {},
   "source": [
    "**Q3. Create a Python class hierarchy for shapes (e.g., circle, square, triangle) and demonstrate polymorphism through a common method, such as `calculate_area()`.**"
   ]
  },
  {
   "cell_type": "code",
   "execution_count": 4,
   "id": "799cef82-1766-4ae7-b3b0-3477ff28f219",
   "metadata": {},
   "outputs": [
    {
     "name": "stdout",
     "output_type": "stream",
     "text": [
      "Area of Circle: 78.53981633974483\n",
      "Area of Square: 16\n",
      "Area of Triangle: 9.0\n"
     ]
    }
   ],
   "source": [
    "import math\n",
    "\n",
    "class Shape:\n",
    "    def calculate_area(self):\n",
    "        pass  # Placeholder method for calculating area, to be overridden by subclasses\n",
    "\n",
    "class Circle(Shape):\n",
    "    def __init__(self, radius):\n",
    "        self.radius = radius\n",
    "\n",
    "    def calculate_area(self):\n",
    "        return math.pi * self.radius ** 2\n",
    "\n",
    "class Square(Shape):\n",
    "    def __init__(self, side):\n",
    "        self.side = side\n",
    "\n",
    "    def calculate_area(self):\n",
    "        return self.side ** 2\n",
    "\n",
    "class Triangle(Shape):\n",
    "    def __init__(self, base, height):\n",
    "        self.base = base\n",
    "        self.height = height\n",
    "\n",
    "    def calculate_area(self):\n",
    "        return 0.5 * self.base * self.height\n",
    "\n",
    "# Creating instances of different shapes\n",
    "circle = Circle(5)\n",
    "square = Square(4)\n",
    "triangle = Triangle(3, 6)\n",
    "\n",
    "# Calculating and printing areas using the common method calculate_area()\n",
    "print(f\"Area of Circle: {circle.calculate_area()}\")      \n",
    "print(f\"Area of Square: {square.calculate_area()}\")     \n",
    "print(f\"Area of Triangle: {triangle.calculate_area()}\")  "
   ]
  },
  {
   "cell_type": "markdown",
   "id": "20fd173c-300c-4714-afc5-c63300d6b88b",
   "metadata": {},
   "source": [
    "**Explanation:**\n",
    "\n",
    "The \"Shape\" class serves as the base class with a method \"calculate_area()\" that acts as a placeholder method, to be overridden by subclasses.\n",
    "\n",
    "Subclasses (Circle, Square, Triangle) inherit from the \"Shape\" class and implement their specific \"calculate_area()\" method based on the formula for calculating the area of their respective shapes.\n",
    "\n",
    "Instances of each shape are created, and the \"calculate_area()\" method is called on each instance, demonstrating polymorphism.\n",
    "\n",
    "Despite calling the same method name (calculate_area()), the appropriate method for each specific shape is invoked based on its class type, showcasing runtime polymorphism."
   ]
  },
  {
   "cell_type": "markdown",
   "id": "23c61bc1-09b6-423d-8e42-d211ce0e04d2",
   "metadata": {},
   "source": [
    "**Q4. Explain the concept of method overriding in polymorphism. Provide an example.**"
   ]
  },
  {
   "cell_type": "markdown",
   "id": "2ac17451-521e-48d3-a604-fa7484a41743",
   "metadata": {},
   "source": [
    "Method overriding is a fundamental concept in object-oriented programming that allows a subclass to provide a specific implementation of a method that is already defined in its superclass. This means that a subclass redefines a method from its superclass with a different implementation that is more appropriate for that subclass.\n",
    "\n",
    "Method overriding occurs in a scenario where there is inheritance, i.e., a subclass inherits from a superclass.\n",
    "\n",
    "The method in the subclass must have the same name, parameters, and return type as the method in the superclass.\n",
    "\n",
    "Example of method overriding:"
   ]
  },
  {
   "cell_type": "code",
   "execution_count": 5,
   "id": "167cc34a-b14d-445b-8732-0f20a21012d5",
   "metadata": {},
   "outputs": [
    {
     "name": "stdout",
     "output_type": "stream",
     "text": [
      "Woof!\n",
      "Meow!\n"
     ]
    }
   ],
   "source": [
    "class Animal:\n",
    "    def make_sound(self):\n",
    "        return \"Some generic sound\"\n",
    "\n",
    "class Dog(Animal):\n",
    "    def make_sound(self):\n",
    "        return \"Woof!\"\n",
    "\n",
    "class Cat(Animal):\n",
    "    def make_sound(self):\n",
    "        return \"Meow!\"\n",
    "\n",
    "# Creating instances of the subclasses\n",
    "dog = Dog()\n",
    "cat = Cat()\n",
    "\n",
    "# Calling the overridden method on subclass instances\n",
    "print(dog.make_sound()) \n",
    "print(cat.make_sound())  "
   ]
  },
  {
   "cell_type": "markdown",
   "id": "db4a2bc5-1f97-40a3-a300-6df1744a791f",
   "metadata": {},
   "source": [
    "**Explanation:**\n",
    "\n",
    "\"Animal\" is the base class with the method \"make_sound()\" that returns a generic sound.\n",
    "\n",
    "Subclasses \"Dog\" and \"Cat\" inherit from the \"Animal\" class and provide their own implementations of the \"make_sound()\" method, representing the specific sounds each animal makes.\n",
    "\n",
    "When calling \"make_sound()\" on instances of Dog and Cat, the overridden method in each subclass gets invoked, demonstrating polymorphic behavior. \n",
    "\n",
    "Despite using the same method name, the actual method called depends on the type of the object, and it executes the corresponding overridden implementation in the subclass."
   ]
  },
  {
   "cell_type": "markdown",
   "id": "a547a089-8934-475c-9148-1bb9f5ae159f",
   "metadata": {},
   "source": [
    "**Q5. How is polymorphism different from method overloading in Python? Provide examples for both.**"
   ]
  },
  {
   "cell_type": "markdown",
   "id": "d6b496dd-0a04-401b-93a2-ab5b96d02cdc",
   "metadata": {},
   "source": [
    "Polymorphism and method overloading are related concepts in object-oriented programming but have distinct differences in Python.\n",
    "\n",
    "1. Polymorphism: Polymorphism refers to the ability of different objects to be treated as objects of a common superclass, providing a way to perform similar operations on different types of objects. In Python, polymorphism is mainly achieved through method overriding, where a subclass provides its specific implementation of a method already defined in its superclass.\n",
    "\n",
    "Example of polymorphism using method overriding:"
   ]
  },
  {
   "cell_type": "code",
   "execution_count": 6,
   "id": "836d7e83-c242-40e8-8804-18ea26a2a532",
   "metadata": {},
   "outputs": [
    {
     "name": "stdout",
     "output_type": "stream",
     "text": [
      "Woof!\n",
      "Meow!\n"
     ]
    }
   ],
   "source": [
    "class Animal:\n",
    "    def make_sound(self):\n",
    "        pass\n",
    "\n",
    "class Dog(Animal):\n",
    "    def make_sound(self):\n",
    "        return \"Woof!\"\n",
    "\n",
    "class Cat(Animal):\n",
    "    def make_sound(self):\n",
    "        return \"Meow!\"\n",
    "\n",
    "def animal_sound(animal):\n",
    "    return animal.make_sound()\n",
    "\n",
    "dog = Dog()\n",
    "cat = Cat()\n",
    "\n",
    "print(animal_sound(dog))  \n",
    "print(animal_sound(cat)) "
   ]
  },
  {
   "cell_type": "markdown",
   "id": "f88a3bdf-0a91-45d3-99e7-334d3f0ecd03",
   "metadata": {},
   "source": [
    "In the above example, the Animal class defines the method make_sound() as a placeholder. Subclasses Dog and Cat override this method to provide their specific sounds. The animal_sound() function demonstrates polymorphism by accepting different types of animals and calling their specific make_sound() method based on their actual object type."
   ]
  },
  {
   "cell_type": "markdown",
   "id": "06f0fa18-09d0-41af-9f05-6143f9e352f9",
   "metadata": {},
   "source": [
    "2. Method Overloading: Method overloading allows defining multiple methods with the same name but different parameters or arguments within the same class. However, Python does not directly support method overloading based on different parameter signatures (as in some other languages like Java or C++). Instead, it can be simulated using default parameter values or variable arguments.\n",
    "\n",
    "Example of method overloading simulation using default parameters in Python:"
   ]
  },
  {
   "cell_type": "code",
   "execution_count": 7,
   "id": "6f0aa1c5-aea1-4eda-a41c-f2289a8b5e5e",
   "metadata": {},
   "outputs": [
    {
     "name": "stdout",
     "output_type": "stream",
     "text": [
      "2\n",
      "5\n",
      "9\n"
     ]
    }
   ],
   "source": [
    "class MathOperations:\n",
    "    def add(self, a, b=0, c=0):\n",
    "        return a + b + c\n",
    "\n",
    "math = MathOperations()\n",
    "\n",
    "print(math.add(2))        # Output: 2 (since b and c are default values)\n",
    "print(math.add(2, 3))     # Output: 5 (a=2, b=3, c=default)\n",
    "print(math.add(2, 3, 4))  # Output: 9 (a=2, b=3, c=4)\n"
   ]
  },
  {
   "cell_type": "markdown",
   "id": "2f2525da-220a-40f1-8ed1-9467650dbc72",
   "metadata": {},
   "source": [
    "In the above example, the MathOperations class defines an add() method that can take one, two, or three arguments. By providing default values for the parameters (b=0 and c=0), it simulates a form of method overloading in Python, allowing the method to be called with different argument counts."
   ]
  },
  {
   "cell_type": "markdown",
   "id": "4c8af1a0-190c-4d6a-bc16-59e3af554193",
   "metadata": {},
   "source": [
    "**Q6. Create a Python class called `Animal` with a method `speak()`. Then, create child classes like `Dog`, `Cat`, and `Bird`, each with their own `speak()` method. Demonstrate polymorphism by calling the `speak()` method on objects of different subclasses.**"
   ]
  },
  {
   "cell_type": "code",
   "execution_count": 8,
   "id": "a8e5c5d5-94b2-4fbf-9d29-601331bb5ad8",
   "metadata": {},
   "outputs": [
    {
     "name": "stdout",
     "output_type": "stream",
     "text": [
      "Woof!\n",
      "Meow!\n",
      "Chirp!\n"
     ]
    }
   ],
   "source": [
    "class Animal:\n",
    "    def speak(self):\n",
    "        return \"Animal speaks\"\n",
    "\n",
    "class Dog(Animal):\n",
    "    def speak(self):\n",
    "        return \"Woof!\"\n",
    "\n",
    "class Cat(Animal):\n",
    "    def speak(self):\n",
    "        return \"Meow!\"\n",
    "\n",
    "class Bird(Animal):\n",
    "    def speak(self):\n",
    "        return \"Chirp!\"\n",
    "\n",
    "# Creating instances of different subclasses\n",
    "dog = Dog()\n",
    "cat = Cat()\n",
    "bird = Bird()\n",
    "\n",
    "# Calling the speak() method on objects of different subclasses\n",
    "print(dog.speak())   \n",
    "print(cat.speak())   \n",
    "print(bird.speak()) "
   ]
  },
  {
   "cell_type": "markdown",
   "id": "13fe2476-82ce-4a3e-a974-9604b26c9207",
   "metadata": {},
   "source": [
    "**Explanation:**\n",
    "\n",
    "\"Animal\" is the base class defining a method speak() with a default implementation returning the string \"Animal speaks\".\n",
    "\n",
    "Dog, Cat, Bird are subclasses that inherit from the Animal class and override the speak() method with their specific implementations. Dog class overrides speak() to return \"Woof!\", Cat class overrides speak() to return \"Meow!\", Bird class overrides speak() to return \"Chirp!\"\n",
    "\n",
    "Instances of the Dog, Cat, and Bird classes are created, \"dog\" is an instance of the Dog class, \"cat\" is an instance of the Cat class. \"bird\" is an instance of the Bird class.\n",
    "\n",
    "The speak() method is called on each object (dog, cat, bird).\n",
    "\n",
    "Despite using the same method name (speak()), the actual method executed is determined by the type of the object due to polymorphism.\n",
    "\n",
    "The method called corresponds to the overridden implementation in each specific subclass, \"dog.speak()\" calls the speak() method of the Dog class, returning \"Woof!\", \"cat.speak()\" calls the speak() method of the Cat class, returning \"Meow!\", \"bird.speak()\" calls the speak() method of the Bird class, returning \"Chirp!\""
   ]
  },
  {
   "cell_type": "markdown",
   "id": "f6564ff5-daea-4435-9a6f-7783871db248",
   "metadata": {},
   "source": [
    "**Q7. Discuss the use of abstract methods and classes in achieving polymorphism in Python. Provide an example\n",
    "using the `abc` module.**"
   ]
  },
  {
   "cell_type": "markdown",
   "id": "b88655d2-df2b-43d3-9f39-79858cfd0e14",
   "metadata": {},
   "source": [
    "Abstract Class: An abstract class is a class that contains one or more abstract methods. It cannot be instantiated on its own and is meant to be subclassed.\n",
    "\n",
    "Abstract Method: An abstract method is a method declared in an abstract class but does not contain an implementation in the abstract class itself. Subclasses must implement these methods.\n",
    "\n",
    "In Python, abstract classes and abstract methods provide a way to define a common interface for subclasses while enforcing the implementation of certain methods in those subclasses. The abc module (Abstract Base Classes) in Python allows us to create abstract classes and abstract methods, ensuring that subclasses provide their own implementations for these methods.\n",
    "\n",
    "The `abc` module in Python provides the `ABC` class and `@abstractmethod` decorator to create abstract classes and methods, respectively.\n",
    "\n",
    "Below is an example demonstrating the use of abstract classes and methods with the abc module:"
   ]
  },
  {
   "cell_type": "code",
   "execution_count": 3,
   "id": "43d5308d-55f0-4dd3-8d5c-d00f96bb5ac2",
   "metadata": {},
   "outputs": [
    {
     "name": "stdout",
     "output_type": "stream",
     "text": [
      "TypeError: Can't instantiate abstract class Shape with abstract method calculate_area\n",
      "Area of Circle: 78.53981633974483\n",
      "Area of Square: 16\n"
     ]
    }
   ],
   "source": [
    "from abc import ABC, abstractmethod\n",
    "import math\n",
    "\n",
    "# Define an abstract class with an abstract method\n",
    "class Shape(ABC):\n",
    "    @abstractmethod\n",
    "    def calculate_area(self):\n",
    "        pass\n",
    "\n",
    "# Subclasses inheriting from the abstract class\n",
    "class Circle(Shape):\n",
    "    def __init__(self, radius):\n",
    "        self.radius = radius\n",
    "\n",
    "    def calculate_area(self):\n",
    "        return math.pi * self.radius * self.radius\n",
    "\n",
    "class Square(Shape):\n",
    "    def __init__(self, side):\n",
    "        self.side = side\n",
    "\n",
    "    def calculate_area(self):\n",
    "        return self.side * self.side\n",
    "\n",
    "# Attempting to instantiate the abstract class (will raise \"TypeError\" error)\n",
    "try:\n",
    "    shape = Shape()  \n",
    "except TypeError as e:\n",
    "    print(\"TypeError:\", e)\n",
    "\n",
    "# Creating instances of the subclasses\n",
    "circle = Circle(5)\n",
    "square = Square(4)\n",
    "\n",
    "# Calling the calculate_area() method on different objects\n",
    "print(\"Area of Circle:\", circle.calculate_area())  \n",
    "print(\"Area of Square:\", square.calculate_area())  \n"
   ]
  },
  {
   "cell_type": "markdown",
   "id": "ae69bca3-2732-4113-a7ce-b7ec3fafc04b",
   "metadata": {},
   "source": [
    "**Explanation:**\n",
    "\n",
    "The \"Shape\" class is defined as an abstract class with an abstract method \"calculate_area()\".\n",
    "\n",
    "Subclasses \"Circle\" and \"Square\" inherit from the Shape class and provide their implementations for the \"calculate_area()\" method.\n",
    "\n",
    "Trying to instantiate the abstract class Shape directly raises a \"TypeError\" because abstract classes cannot be instantiated.\n",
    "\n",
    "Instances of the subclasses (circle, square) are created and the calculate_area() method is called on each object, demonstrating polymorphism. Despite being of different types, the same method name is called, and the appropriate method for each specific subclass is invoked based on the object type."
   ]
  },
  {
   "cell_type": "markdown",
   "id": "2f971eb5-65e1-4b53-8984-650995182772",
   "metadata": {},
   "source": [
    "**Q8. Create a Python class hierarchy for a vehicle system (e.g., car, bicycle, boat) and implement a polymorphic `start()` method that prints a message specific to each vehicle type.**"
   ]
  },
  {
   "cell_type": "code",
   "execution_count": 4,
   "id": "e537168f-9c19-4718-a701-38064d8a9728",
   "metadata": {},
   "outputs": [
    {
     "name": "stdout",
     "output_type": "stream",
     "text": [
      "Car started.\n",
      "Bicycle started.\n",
      "Boat started.\n"
     ]
    }
   ],
   "source": [
    "class Vehicle:\n",
    "    def start(self):\n",
    "        pass  # Placeholder method for starting the vehicle, to be overridden by subclasses\n",
    "\n",
    "class Car(Vehicle):\n",
    "    def start(self):\n",
    "        return \"Car started.\"\n",
    "\n",
    "class Bicycle(Vehicle):\n",
    "    def start(self):\n",
    "        return \"Bicycle started.\"\n",
    "\n",
    "class Boat(Vehicle):\n",
    "    def start(self):\n",
    "        return \"Boat started.\"\n",
    "\n",
    "# Creating instances of different vehicle types\n",
    "car = Car()\n",
    "bicycle = Bicycle()\n",
    "boat = Boat()\n",
    "\n",
    "# Calling the start() method on objects of different vehicle types\n",
    "print(car.start())     \n",
    "print(bicycle.start())  \n",
    "print(boat.start())     "
   ]
  },
  {
   "cell_type": "markdown",
   "id": "0dff0ca9-a551-4db1-9b53-8b55f12b37e1",
   "metadata": {},
   "source": [
    "**Explanation:**\n",
    "\n",
    "The \"Vehicle\" class is defined as a base class with a method \"start()\" that serves as a placeholder to be overridden by subclasses.\n",
    "\n",
    "Subclasses \"Car\", \"Bicycle\", and \"Boat\" inherit from the \"Vehicle\" class and each provides its specific implementation of the \"start()\" method.\n",
    "\n",
    "Instances of each vehicle type (car, bicycle, boat) are created.\n",
    "\n",
    "The \"start()\" method is called on each object, and despite using the same method name (start()), the appropriate method for each specific subclass is invoked, demonstrating polymorphic behavior. The method called corresponds to the overridden implementation in each subclass, printing a specific message based on the vehicle type."
   ]
  },
  {
   "cell_type": "markdown",
   "id": "2e4812a3-e423-45c0-8885-49e23f8b50e0",
   "metadata": {},
   "source": [
    "**Q9. Explain the significance of the `isinstance()` and `issubclass()` functions in Python polymorphism.**"
   ]
  },
  {
   "cell_type": "markdown",
   "id": "1a7eb95a-9c26-41ba-961e-8ee48180acc2",
   "metadata": {},
   "source": [
    "isinstance()\n",
    "\n",
    "1. The isinstance() function checks if an object is an instance of a specified class or a superclass thereof.\n",
    "\n",
    "2. It is essential in polymorphism to determine whether an object can be treated as an instance of a specific class or its superclass, allowing code to behave differently based on the type of the object.\n",
    "\n",
    "3. Syntax: isinstance(object, classinfo). \"object\" represents the object to be checked. \"classinfo\" represents a Class or type (or a tuple of classes and types) to compare against the object's type.\n",
    "\n",
    "Example:"
   ]
  },
  {
   "cell_type": "code",
   "execution_count": 8,
   "id": "f33e13be-16d8-4191-b247-e08d30ee6f5a",
   "metadata": {},
   "outputs": [
    {
     "name": "stdout",
     "output_type": "stream",
     "text": [
      "True\n",
      "True\n"
     ]
    }
   ],
   "source": [
    "class Animal:\n",
    "    pass\n",
    "\n",
    "class Dog(Animal):\n",
    "    pass\n",
    "\n",
    "dog = Dog()\n",
    "print(isinstance(dog, Dog))      \n",
    "print(isinstance(dog, Animal))   "
   ]
  },
  {
   "cell_type": "markdown",
   "id": "0e5fab19-8d96-479d-91fb-1e6d24af7a34",
   "metadata": {},
   "source": [
    "In the above example, dog is an instance of both the Dog class and the Animal class because of the inheritance relationship between them, resulting in both isinstance() checks returning True."
   ]
  },
  {
   "cell_type": "markdown",
   "id": "65cc4b8a-4989-40cf-b55c-ad5900a31bae",
   "metadata": {},
   "source": [
    "issubclass()\n",
    "\n",
    "1. The issubclass() function checks if a given class is a subclass of another specified class.\n",
    "\n",
    "2. It allows checking inheritance relationships between classes, crucial for understanding polymorphic behavior when dealing with class hierarchies.\n",
    "\n",
    "3. Syntax: issubclass(class, classinfo). \"class\" represents the class to be checked as a subclass. \"classinfo\" represents a  Class or a tuple of classes to compare against as potential parent classes.\n",
    "\n",
    "Example:"
   ]
  },
  {
   "cell_type": "code",
   "execution_count": 10,
   "id": "118cdf67-abb6-451b-abfe-974f3767c6c6",
   "metadata": {},
   "outputs": [
    {
     "name": "stdout",
     "output_type": "stream",
     "text": [
      "True\n",
      "False\n",
      "True\n"
     ]
    }
   ],
   "source": [
    "class Animal:\n",
    "    pass\n",
    "\n",
    "class Dog(Animal):\n",
    "    pass\n",
    "\n",
    "print(issubclass(Dog, Animal))   \n",
    "print(issubclass(Animal, Dog))   "
   ]
  },
  {
   "cell_type": "markdown",
   "id": "3f939157-e5b2-491d-b52b-aa48b98142db",
   "metadata": {},
   "source": [
    "In the above example, Dog is indeed a subclass of Animal because it explicitly inherits from Animal. However, Animal is not a subclass of Dog, hence the return value of True for the first call and False for the second call to issubclass()."
   ]
  },
  {
   "cell_type": "markdown",
   "id": "d076708d-cdce-4121-b8da-3e0b3b5e4837",
   "metadata": {},
   "source": [
    "**Q10. What is the role of the `@abstractmethod` decorator in achieving polymorphism in Python? Provide an example.**"
   ]
  },
  {
   "cell_type": "markdown",
   "id": "a7bba569-2b52-40c8-b989-15497a3deb30",
   "metadata": {},
   "source": [
    "In Python, the @abstractmethod decorator is a crucial component of the abc module (Abstract Base Classes) that facilitates the creation of abstract methods within abstract classes. It ensures that subclasses implementing these abstract classes must override the abstract methods, enforcing a common interface and achieving polymorphism.\n",
    "\n",
    "Role of `@abstractmethod` Decorator:\n",
    "\n",
    "1. The `@abstractmethod` decorator is used to mark a method as abstract within an abstract class. An abstract method doesn't contain an implementation in the abstract class itself but must be overridden by subclasses.\n",
    "\n",
    "2. Subclasses inheriting from an abstract class containing abstract methods are mandated to implement these methods. If a subclass fails to provide an implementation for an abstract method, it raises an error.\n",
    "\n",
    "3. It ensures that subclasses share a common interface by providing their specific implementations for the abstract methods, allowing polymorphic behavior.\n",
    "\n",
    "Example:"
   ]
  },
  {
   "cell_type": "code",
   "execution_count": 11,
   "id": "5ff883ee-a243-47fc-a279-de0b2169e46e",
   "metadata": {},
   "outputs": [
    {
     "name": "stdout",
     "output_type": "stream",
     "text": [
      "TypeError: Can't instantiate abstract class Shape with abstract method calculate_area\n",
      "Area of Circle: 78.53981633974483\n",
      "Area of Square: 16\n"
     ]
    }
   ],
   "source": [
    "from abc import ABC, abstractmethod\n",
    "import math\n",
    "\n",
    "class Shape(ABC):\n",
    "    @abstractmethod\n",
    "    def calculate_area(self):\n",
    "        pass\n",
    "\n",
    "class Circle(Shape):\n",
    "    def __init__(self, radius):\n",
    "        self.radius = radius\n",
    "\n",
    "    def calculate_area(self):\n",
    "        return math.pi * self.radius * self.radius\n",
    "\n",
    "class Square(Shape):\n",
    "    def __init__(self, side):\n",
    "        self.side = side\n",
    "\n",
    "    def calculate_area(self):\n",
    "        return self.side * self.side\n",
    "\n",
    "# Trying to instantiate the abstract class (will raise an error)\n",
    "try:\n",
    "    shape = Shape()  # This will raise TypeError: Can't instantiate abstract class Shape with abstract methods calculate_area\n",
    "except TypeError as e:\n",
    "    print(\"TypeError:\", e)\n",
    "\n",
    "# Creating instances of the subclasses\n",
    "circle = Circle(5)\n",
    "square = Square(4)\n",
    "\n",
    "# Calling the calculate_area() method on different objects\n",
    "print(\"Area of Circle:\", circle.calculate_area())  \n",
    "print(\"Area of Square:\", square.calculate_area())  \n"
   ]
  },
  {
   "cell_type": "markdown",
   "id": "c70793b3-3fb4-4e57-9a31-6a43df856e24",
   "metadata": {},
   "source": [
    "**Explanation:**\n",
    "\n",
    "The \"Shape\" class is an abstract class containing an abstract method calculate_area(), marked with the `@abstractmethod` decorator.\n",
    "\n",
    "Subclasses \"Circle\" and \"Square\" inherit from \"Shape\" and provide concrete implementations for the abstract method \"calculate_area()\".\n",
    "\n",
    "Attempting to instantiate the abstract class Shape directly raises a \"TypeError\" because abstract classes cannot be instantiated.\n",
    "\n",
    "Instances of the subclasses (circle, square) are created, and the calculate_area() method is called on each object, demonstrating polymorphic behavior by invoking the appropriate method for each specific subclass."
   ]
  },
  {
   "cell_type": "markdown",
   "id": "676b03b7-b1cb-408c-b4dc-400297897fb0",
   "metadata": {},
   "source": [
    "**Q11. Create a Python class called `Shape` with a polymorphic method `area()` that calculates the area of different shapes (e.g., circle, rectangle, triangle).**"
   ]
  },
  {
   "cell_type": "code",
   "execution_count": 1,
   "id": "8dd6f114-5845-4536-b32e-feba302d0506",
   "metadata": {},
   "outputs": [
    {
     "name": "stdout",
     "output_type": "stream",
     "text": [
      "Area of Circle: 78.53981633974483\n",
      "Area of Rectangle: 24\n",
      "Area of Triangle: 12.0\n"
     ]
    }
   ],
   "source": [
    "import math\n",
    "\n",
    "class Shape:\n",
    "    def area(self):\n",
    "        pass  # Placeholder method for calculating area, to be overridden by subclasses\n",
    "\n",
    "class Circle(Shape):\n",
    "    def __init__(self, radius):\n",
    "        self.radius = radius\n",
    "\n",
    "    def area(self):\n",
    "        return math.pi * self.radius ** 2\n",
    "\n",
    "class Rectangle(Shape):\n",
    "    def __init__(self, length, width):\n",
    "        self.length = length\n",
    "        self.width = width\n",
    "\n",
    "    def area(self):\n",
    "        return self.length * self.width\n",
    "\n",
    "class Triangle(Shape):\n",
    "    def __init__(self, base, height):\n",
    "        self.base = base\n",
    "        self.height = height\n",
    "\n",
    "    def area(self):\n",
    "        return 0.5 * self.base * self.height\n",
    "\n",
    "# Creating instances of different shapes\n",
    "circle = Circle(5)\n",
    "rectangle = Rectangle(4, 6)\n",
    "triangle = Triangle(3, 8)\n",
    "\n",
    "# Calling the area() method on different shape objects\n",
    "print(f\"Area of Circle: {circle.area()}\")        \n",
    "print(f\"Area of Rectangle: {rectangle.area()}\")  \n",
    "print(f\"Area of Triangle: {triangle.area()}\")    "
   ]
  },
  {
   "cell_type": "markdown",
   "id": "58bfb039-d15f-4c53-b379-9efec8e49417",
   "metadata": {},
   "source": [
    "**Explanation:**\n",
    "\n",
    "The \"Shape\" class serves as the base class with a method \"area()\" that acts as a placeholder method for calculating the area. This method is meant to be overridden by subclasses.\n",
    "\n",
    "Subclasses \"Circle\", \"Rectangle\", and \"Triangle\" inherit from the \"Shape\" class and provide their specific implementations of the \"area()\" method.\n",
    "\n",
    "Instances of each shape (circle, rectangle, triangle) are created, and the \"area()\" method is called on each instance. \n",
    "\n",
    "Despite using the same method name (area()), the appropriate method for each specific subclass is invoked, demonstrating polymorphic behavior. The method called corresponds to the overridden implementation in each subclass, calculating the area of different shapes."
   ]
  },
  {
   "cell_type": "markdown",
   "id": "80502069-e72b-465a-a254-0fae31445d93",
   "metadata": {},
   "source": [
    "**Q12. Discuss the benefits of polymorphism in terms of code reusability and flexibility in Python programs.**"
   ]
  },
  {
   "cell_type": "markdown",
   "id": "22f800f8-27e4-4935-8ce0-3ed7aafe27bb",
   "metadata": {},
   "source": [
    "Code Reusability:\n",
    "\n",
    "1. Polymorphism allows the use of a common interface (methods with the same name/signature) across different classes or objects. This common interface enables writing code that can work with objects of various types without knowing their specific implementations.\n",
    "\n",
    "2. Through method overriding in subclasses, polymorphism facilitates the reuse of methods from superclasses. Different subclasses can inherit and reuse behaviors (methods) from a common superclass, reducing redundant code.\n",
    "\n",
    "Flexibility:\n",
    "\n",
    "1. Polymorphism makes code more adaptable to changes. New classes can be added without modifying existing code, as long as they adhere to the common interface. This promotes scalability and avoids code restructuring.\n",
    "\n",
    "2. Code written with polymorphism can be more flexible and adaptable to future requirements. It allows for easy modifications and extensions by adding new subclasses or altering existing ones without affecting the overall structure of the code."
   ]
  },
  {
   "cell_type": "markdown",
   "id": "54069505-f8b0-422a-a799-108d78db4191",
   "metadata": {},
   "source": [
    "**13. Explain the use of the `super()` function in Python polymorphism. How does it help call methods of parent classes?**"
   ]
  },
  {
   "cell_type": "markdown",
   "id": "2d0c99f8-9bbf-4983-b539-d206c71ae19e",
   "metadata": {},
   "source": [
    "The super() function in Python is used to access and call methods or attributes from a superclass within a subclass. It plays a significant role in achieving method overriding and helps in implementing polymorphism by allowing subclasses to invoke and extend the functionalities of their parent classes.\n",
    "\n",
    "When a method is overridden in a subclass, super() can be used to call the overridden method from the superclass within a subclass, providing a way to augment or extend the behavior defined in the parent class.\n",
    "\n",
    "The general syntax of super() is, \"super().methodName()\".\n",
    "\n",
    "Within a subclass method, super() returns a proxy object that delegates method calls to the superclass.\n",
    "\n",
    "It allows calling the superclass method using \"super().methodName()\", passing the appropriate arguments if needed.\n",
    "\n",
    "Example demonstrating the use of \"super()\" function:"
   ]
  },
  {
   "cell_type": "code",
   "execution_count": 2,
   "id": "e83bdc95-5556-4fbf-b182-8c4638c984f1",
   "metadata": {},
   "outputs": [
    {
     "name": "stdout",
     "output_type": "stream",
     "text": [
      "Vehicle started - Car started\n",
      "Vehicle started - Bike started\n"
     ]
    }
   ],
   "source": [
    "class Vehicle:\n",
    "    def start(self):\n",
    "        return \"Vehicle started\"\n",
    "\n",
    "class Car(Vehicle):\n",
    "    def start(self):\n",
    "        return f\"{super().start()} - Car started\"\n",
    "\n",
    "class Bike(Vehicle):\n",
    "    def start(self):\n",
    "        return f\"{super().start()} - Bike started\"\n",
    "\n",
    "car = Car()\n",
    "bike = Bike()\n",
    "\n",
    "print(car.start())   \n",
    "print(bike.start())  \n"
   ]
  },
  {
   "cell_type": "markdown",
   "id": "84b69bd9-f3a2-426f-89d6-15f9ea079efd",
   "metadata": {},
   "source": [
    "**Explanation:**\n",
    "\n",
    "In the above example, the \"Vehicle\" class has a start() method that returns \"Vehicle started\".\n",
    "\n",
    "Subclasses \"Car\" and \"Bike\" override the \"start()\" method using \"super()\" to access the superclass method and extend its behavior. They postpend their specific messages to the parent's method output.\n",
    "\n",
    "When \"car.start()\" or \"bike.start()\" is called, \"super().start()\" in the subclasses refers to the start() method of the superclass (Vehicle), allowing the subclasses to extend the behavior of the parent method."
   ]
  },
  {
   "cell_type": "markdown",
   "id": "39606c60-39ff-4bcf-a51c-bd03787c56ee",
   "metadata": {},
   "source": [
    "**Q14. Create a Python class hierarchy for a banking system with various account types (e.g., savings, checking, credit card) and demonstrate polymorphism by implementing a common `withdraw()` method.**"
   ]
  },
  {
   "cell_type": "code",
   "execution_count": 7,
   "id": "ee9897c7-195e-440c-b415-743c3c15f1a4",
   "metadata": {},
   "outputs": [
    {
     "name": "stdout",
     "output_type": "stream",
     "text": [
      "Withdrawal of 2000 from Savings Account. Remaining balance: 3000\n",
      "Withdrawal exceeds overdraft limit. Transaction declined.\n",
      "Withdrawal of 4000 from Credit Card. Remaining balance: -2000\n"
     ]
    }
   ],
   "source": [
    "class Account:\n",
    "    def __init__(self, account_number, balance):\n",
    "        self.account_number = account_number\n",
    "        self.balance = balance\n",
    "\n",
    "    def withdraw(self, amount):\n",
    "        pass  # Placeholder method to be overridden by subclasses\n",
    "\n",
    "\n",
    "class SavingsAccount(Account):\n",
    "    def __init__(self, account_number, balance, minimum_balance):\n",
    "        super().__init__(account_number, balance)\n",
    "        self.minimum_balance = minimum_balance\n",
    "\n",
    "    def withdraw(self, amount):\n",
    "        if self.balance - amount >= self.minimum_balance:\n",
    "            self.balance -= amount\n",
    "            print(f\"Withdrawal of {amount} from Savings Account. Remaining balance: {self.balance}\")\n",
    "        else:\n",
    "            print(\"Insufficient funds for withdrawal.\")\n",
    "\n",
    "\n",
    "class CheckingAccount(Account):\n",
    "    def __init__(self, account_number, balance, overdraft_limit):\n",
    "        super().__init__(account_number, balance)\n",
    "        self.overdraft_limit = overdraft_limit\n",
    "\n",
    "    def withdraw(self, amount):\n",
    "        if self.balance - amount >= -self.overdraft_limit:\n",
    "            self.balance -= amount\n",
    "            print(f\"Withdrawal of {amount} from Checking Account. Remaining balance: {self.balance}\")\n",
    "        else:\n",
    "            print(\"Withdrawal exceeds overdraft limit. Transaction declined.\")\n",
    "\n",
    "\n",
    "class CreditCardAccount(Account):\n",
    "    def __init__(self, account_number, balance, credit_limit):\n",
    "        super().__init__(account_number, balance)\n",
    "        self.credit_limit = credit_limit\n",
    "\n",
    "    def withdraw(self, amount):\n",
    "        available_credit = self.credit_limit + self.balance\n",
    "        if amount <= available_credit:\n",
    "            self.balance -= amount\n",
    "            print(f\"Withdrawal of {amount} from Credit Card. Remaining balance: {self.balance}\")\n",
    "        else:\n",
    "            print(\"Withdrawal exceeds available credit. Transaction declined.\")\n",
    "\n",
    "\n",
    "# Demonstration\n",
    "savings = SavingsAccount(\"SAV123\", 5000, 1000)\n",
    "checking = CheckingAccount(\"CHK456\", 3000, 500)\n",
    "credit_card = CreditCardAccount(\"CCR789\", 2000, 5000)\n",
    "\n",
    "savings.withdraw(2000)      \n",
    "checking.withdraw(4000)\n",
    "credit_card.withdraw(4000)  "
   ]
  },
  {
   "cell_type": "markdown",
   "id": "46a87c16-e2f5-41fe-9919-85105562e807",
   "metadata": {},
   "source": [
    "**Explanation:**\n",
    "\n",
    "The \"Account\" class serves as the base class with a method \"withdraw()\" acting as a placeholder method. This method is meant to be overridden by subclasses.\n",
    "\n",
    "Subclasses \"SavingsAccount\", \"CheckingAccount\", and \"CreditCardAccount\" inherit from \"Account\" and provide their specific implementations of the \"withdraw()\" method tailored to their account type's logic.\n",
    "\n",
    "Instances of each account type are created (savings, checking, credit_card) demonstrating polymorphism by calling the \"withdraw()\" method on different objects, each executing the specific implementation defined in its respective subclass based on the account type."
   ]
  },
  {
   "cell_type": "markdown",
   "id": "63fc174e-3a40-462b-9ebb-e2ce2918b413",
   "metadata": {},
   "source": [
    "**Q15. Describe the concept of operator overloading in Python and how it relates to polymorphism. Provide examples using operators like `+` and `*`.**"
   ]
  },
  {
   "cell_type": "markdown",
   "id": "87733ea6-23ed-4204-9485-cc965013ddfe",
   "metadata": {},
   "source": [
    "Operator overloading in Python refers to the ability to define and customize the behavior of operators like +, *, -, /, etc., for user-defined classes. It allows classes to define their behavior for standard Python operators by implementing special methods (also called magic or dunder methods) such as __add__, __mul__, __sub__, __div__, etc. This concept enables objects of user-defined classes to use these operators as if they were native data types.\n",
    "\n",
    "Operator overloading allows different classes to define their behavior for common operators, allowing polymorphic behavior. Objects of different classes can use the same operator to perform different operations based on their implementations of these special methods.\n",
    "\n",
    "It promotes code readability by enabling the use of familiar operators on custom objects, making the code more intuitive and resembling natural language expressions.\n",
    "\n",
    "Example using `+` and `*` operators:"
   ]
  },
  {
   "cell_type": "code",
   "execution_count": 8,
   "id": "954aa9f9-a6ca-4452-bd8e-572249685888",
   "metadata": {},
   "outputs": [
    {
     "name": "stdout",
     "output_type": "stream",
     "text": [
      "Addition Result: (3, 7)\n",
      "Multiplication Result: (4, 6)\n"
     ]
    }
   ],
   "source": [
    "class Vector:\n",
    "    def __init__(self, x, y):\n",
    "        self.x = x\n",
    "        self.y = y\n",
    "\n",
    "    # Overloading the '+' operator\n",
    "    def __add__(self, other):\n",
    "        return Vector(self.x + other.x, self.y + other.y)\n",
    "\n",
    "    # Overloading the '*' operator (scalar multiplication)\n",
    "    def __mul__(self, scalar):\n",
    "        return Vector(self.x * scalar, self.y * scalar)\n",
    "\n",
    "    def __str__(self):\n",
    "        return f\"({self.x}, {self.y})\"\n",
    "\n",
    "# Creating instances of Vector class\n",
    "v1 = Vector(2, 3)\n",
    "v2 = Vector(1, 4)\n",
    "\n",
    "# Adding two vectors using '+'\n",
    "result_add = v1 + v2\n",
    "print(\"Addition Result:\", result_add)  \n",
    "\n",
    "# Multiplying a vector by a scalar using '*'\n",
    "result_mul = v1 * 2\n",
    "print(\"Multiplication Result:\", result_mul)  "
   ]
  },
  {
   "cell_type": "markdown",
   "id": "b320204c-389a-4021-86e5-5e36eadf0a6e",
   "metadata": {},
   "source": [
    "**Explanation:**\n",
    "\n",
    "The \"Vector\" class defines the `__add__` method to overload the `+` operator for vector addition and the `__mul__` method to overload the `*` operator for scalar multiplication.\n",
    "\n",
    "When using \"v1 + v2\", the `__add__` method of the Vector class is called, which returns a new Vector instance with the sum of the corresponding coordinates.\n",
    "\n",
    "When using \"v1 * 2\", the `__mul__` method is called, performing scalar multiplication and returning a new Vector instance.\n",
    "\n",
    "These operations demonstrate how operators `+` and `*` behave differently based on their implementations in the Vector class, showcasing polymorphic behavior through operator overloading."
   ]
  },
  {
   "cell_type": "markdown",
   "id": "c2adf0de-5868-4c9b-bb86-32bb418564d0",
   "metadata": {},
   "source": [
    "**16. What is dynamic polymorphism, and how is it achieved in Python?**"
   ]
  },
  {
   "cell_type": "markdown",
   "id": "2388d4ae-2f08-44eb-9c64-c57201c79baf",
   "metadata": {},
   "source": [
    "Dynamic polymorphism, also known as runtime polymorphism, is a fundamental concept in object-oriented programming where a method or function call resolves at runtime based on the actual type of the object being referred to, rather than at compile time. It allows different classes to be treated through a common interface, enabling objects of different types to be handled uniformly.\n",
    "\n",
    "1. Python achieves dynamic polymorphism primarily through inheritance and method overriding.\n",
    "\n",
    "2. Objects of different classes can be treated uniformly if they share a common interface or base class. The same method name exists across different subclasses, but each subclass provides its implementation, thereby enabling polymorphic behavior.\n",
    "\n",
    "3. When a method is called on an object, Python determines the actual class of the object at runtime and invokes the corresponding method defined in that class. This allows for the execution of the appropriate method based on the object's type.\n",
    "\n",
    "4. Python provides special methods (often referred to as magic or dunder methods) like __str__, __add__, __mul__, etc., which can be overridden in subclasses to enable polymorphic behavior for operations involving those methods.\n",
    "\n",
    "Example:"
   ]
  },
  {
   "cell_type": "code",
   "execution_count": 9,
   "id": "09ae3985-8bb4-4fe6-a288-65780fd1c8bc",
   "metadata": {},
   "outputs": [
    {
     "name": "stdout",
     "output_type": "stream",
     "text": [
      "Woof!\n",
      "Meow!\n",
      "Chirp!\n"
     ]
    }
   ],
   "source": [
    "class Animal:\n",
    "    def speak(self):\n",
    "        pass  # Placeholder method to be overridden by subclasses\n",
    "\n",
    "class Dog(Animal):\n",
    "    def speak(self):\n",
    "        return \"Woof!\"\n",
    "\n",
    "class Cat(Animal):\n",
    "    def speak(self):\n",
    "        return \"Meow!\"\n",
    "\n",
    "class Bird(Animal):\n",
    "    def speak(self):\n",
    "        return \"Chirp!\"\n",
    "\n",
    "# Creating instances of different animal classes\n",
    "dog = Dog()\n",
    "cat = Cat()\n",
    "bird = Bird()\n",
    "\n",
    "# Calling the common method 'speak()' on different objects\n",
    "print(dog.speak())  \n",
    "print(cat.speak())  \n",
    "print(bird.speak()) "
   ]
  },
  {
   "cell_type": "markdown",
   "id": "3012411d-79cf-4339-b415-1aac9794b56b",
   "metadata": {},
   "source": [
    "**Explanation:**\n",
    "\n",
    "In the above code, the \"Animal\" class has a common method \"speak()\" which serves as a placeholder method.\n",
    "\n",
    "Subclasses \"Dog\", \"Cat\", and \"Bird\" inherit from \"Animal\" and provide their specific implementations for the \"speak()\" method.\n",
    "\n",
    "When \"speak()\" is called on objects of different types (dog, cat, bird), Python determines the actual class of each object at runtime and executes the corresponding \"speak()\" method defined in that class, showcasing dynamic polymorphism."
   ]
  },
  {
   "cell_type": "markdown",
   "id": "20cc219e-8988-4771-8ecc-d7abec5715ee",
   "metadata": {},
   "source": [
    "**17. Create a Python class hierarchy for employees in a company (e.g., manager, developer, designer) and implement polymorphism through a common `calculate_salary()` method.**"
   ]
  },
  {
   "cell_type": "code",
   "execution_count": 12,
   "id": "3582649c-e3b3-430b-b670-32f4270b4040",
   "metadata": {},
   "outputs": [
    {
     "name": "stdout",
     "output_type": "stream",
     "text": [
      "Salary of Anmol (Manager): 80000\n",
      "Salary of Anand (Developer): 64000\n",
      "Salary of Kumar (Designer): 60000\n"
     ]
    }
   ],
   "source": [
    "class Employee:\n",
    "    def __init__(self, name, designation):\n",
    "        self.name = name\n",
    "        self.designation = designation\n",
    "\n",
    "    def calculate_salary(self):\n",
    "        pass  # Placeholder method to be overridden by subclasses\n",
    "\n",
    "\n",
    "class Manager(Employee):\n",
    "    def __init__(self, name, designation, salary):\n",
    "        super().__init__(name, designation)\n",
    "        self.salary = salary\n",
    "\n",
    "    def calculate_salary(self):\n",
    "        return f\"Salary of {self.name} ({self.designation}): {self.salary}\"\n",
    "\n",
    "\n",
    "class Developer(Employee):\n",
    "    def __init__(self, name, designation, hourly_rate, hours_worked):\n",
    "        super().__init__(name, designation)\n",
    "        self.hourly_rate = hourly_rate\n",
    "        self.hours_worked = hours_worked\n",
    "\n",
    "    def calculate_salary(self):\n",
    "        return f\"Salary of {self.name} ({self.designation}): {self.hourly_rate * self.hours_worked}\"\n",
    "\n",
    "\n",
    "class Designer(Employee):\n",
    "    def __init__(self, name, designation, base_salary, commission):\n",
    "        super().__init__(name, designation)\n",
    "        self.base_salary = base_salary\n",
    "        self.commission = commission\n",
    "\n",
    "    def calculate_salary(self):\n",
    "        return f\"Salary of {self.name} ({self.designation}): {self.base_salary + self.commission}\"\n",
    "\n",
    "\n",
    "# Creating instances of different employee types\n",
    "manager = Manager(\"Anmol\", \"Manager\", 80000)\n",
    "developer = Developer(\"Anand\", \"Developer\", 400, 160)\n",
    "designer = Designer(\"Kumar\", \"Designer\", 50000, 10000)\n",
    "\n",
    "# Calculating salaries using the common method 'calculate_salary()'\n",
    "print(manager.calculate_salary())   \n",
    "print(developer.calculate_salary())\n",
    "print(designer.calculate_salary())  "
   ]
  },
  {
   "cell_type": "markdown",
   "id": "0edcb460-345c-48fa-b0c8-907673d2d59f",
   "metadata": {},
   "source": [
    "**Explanation:**\n",
    "\n",
    "The \"Employee\" class is the base class with a \"calculate_salary()\" method acting as a placeholder to be overridden by subclasses.\n",
    "\n",
    "Subclasses (Manager, Developer, Designer) inherit from \"Employee\" and provide their specific implementations for the \"calculate_salary()\" method based on their job roles.\n",
    "\n",
    "Instances of each employee type (manager, developer, designer) call the \"calculate_salary()\" method, and polymorphism occurs as each object's specific implementation is executed, calculating salaries according to their respective job roles"
   ]
  },
  {
   "cell_type": "markdown",
   "id": "f3cb3ff0-9783-4223-8163-21364e02b5ab",
   "metadata": {},
   "source": [
    "**Q18. Discuss the concept of function pointers and how they can be used to achieve polymorphism in Python.**"
   ]
  },
  {
   "cell_type": "markdown",
   "id": "5725aa90-8f0b-4b9b-8554-6443688df1c4",
   "metadata": {},
   "source": [
    "In Python, the concept of function pointers isn't explicitly available as in some other programming languages like C or C++. However, Python functions are first-class citizens, which means they can be passed around as arguments to other functions, assigned to variables, and returned from other functions. This feature enables a form of polymorphism where different functions can be referenced by a variable or passed as an argument, allowing for dynamic behavior similar to function pointers.\n",
    "\n",
    "By storing a reference to different functions in variables or class attributes, Python can determine which function to call dynamically at runtime, achieving a form of polymorphism.\n",
    "\n",
    "Example:"
   ]
  },
  {
   "cell_type": "code",
   "execution_count": 13,
   "id": "9478f856-364f-4268-854d-b3d4d4818e10",
   "metadata": {},
   "outputs": [
    {
     "name": "stdout",
     "output_type": "stream",
     "text": [
      "Result of addition: 15\n",
      "Result of subtraction: 5\n"
     ]
    }
   ],
   "source": [
    "# Function definitions\n",
    "def add(a, b):\n",
    "    return a + b\n",
    "\n",
    "def subtract(a, b):\n",
    "    return a - b\n",
    "\n",
    "def multiply(a, b):\n",
    "    return a * b\n",
    "\n",
    "# Function reference assignment\n",
    "operation = add  # Assigning 'add' function to 'operation'\n",
    "\n",
    "# Function reference as an argument\n",
    "def calculate(operation, a, b):\n",
    "    return operation(a, b)\n",
    "\n",
    "# Function invocation using different function references\n",
    "result_add = calculate(operation, 10, 5)  # Invokes 'add' function through 'operation'\n",
    "print(\"Result of addition:\", result_add)\n",
    "\n",
    "operation = subtract  # Changing 'operation' to refer to 'subtract' function\n",
    "result_subtract = calculate(operation, 10, 5)  # Invokes 'subtract' function through 'operation'\n",
    "print(\"Result of subtraction:\", result_subtract)  \n"
   ]
  },
  {
   "cell_type": "markdown",
   "id": "fa2225ae-958e-451d-b6f2-1cf092731157",
   "metadata": {},
   "source": [
    "**Explanation:**\n",
    "\n",
    "In this example, add, subtract, and multiply are functions performing different operations.\n",
    "\n",
    "A function reference is stored in the \"operation\" variable and passed as an argument to the calculate() function, which invokes the referenced function dynamically.\n",
    "\n",
    "By changing the function reference stored in \"operation\", different functions are invoked, showcasing polymorphic behavior by dynamically determining the operation to be performed."
   ]
  },
  {
   "cell_type": "markdown",
   "id": "34aab679-b31b-4f64-9ad6-840203a90d9b",
   "metadata": {},
   "source": [
    "**Q19. Explain the role of interfaces and abstract classes in polymorphism, drawing comparisons between them.**"
   ]
  },
  {
   "cell_type": "markdown",
   "id": "57f733e5-b534-4a91-bcfe-e52b34b3c72e",
   "metadata": {},
   "source": [
    "Interfaces in Python:\n",
    "\n",
    "1. In Python, interfaces are represented implicitly using classes that define methods without implementations. They serve as a blueprint for what methods a class should have, but they don't enforce the implementation.\n",
    "\n",
    "2. Interfaces in Python don't explicitly declare a contract that classes must adhere to; rather, they act as a guide for expected behavior.\n",
    "\n",
    "3. Developers create classes with specific method names, which are then used as a form of an implicit interface.\n",
    "\n",
    "4. There's no strict enforcement of implementing these methods; it's up to the developer's convention or documentation.\n",
    "\n",
    "Abstract Classes in Python:\n",
    "1. Abstract classes in Python are classes that can't be instantiated themselves and may contain abstract methods, which are methods without implementation.\n",
    "\n",
    "2. Abstract classes can contain both concrete methods (methods with actual implementation) and abstract methods (methods without implementation).\n",
    "\n",
    "3. They provide a way to define a common interface and partially implement some functionality that subclasses can extend.\n",
    "\n",
    "4. Abstract classes in Python are created using the abc module's ABC class and the `@abstractmethod` decorator to denote abstract methods.\n",
    "\n",
    "5. Subclasses inheriting from an abstract class must provide concrete implementations for all abstract methods defined in the abstract class.\n",
    "\n",
    "Comparisons:\n",
    "\n",
    "1. In Python, interfaces are informally defined using method names within classes but don't enforce the implementation. Whereas, Abstract classes can enforce the implementation of abstract methods in subclasses.\n",
    "\n",
    "2. Interfaces Can be instantiated explicitly. Whereas, Abstract Classes Cannot be instantiated explicitly; meant to be inherited by subclasses.\n",
    "\n",
    "3. Interfaces Don't provide any partial implementation; only define method signatures. Whereas, Abstract Classes Can provide partial implementations in addition to abstract methods."
   ]
  },
  {
   "cell_type": "markdown",
   "id": "522aeef2-5b87-4614-adf1-73c857267bb4",
   "metadata": {},
   "source": [
    "**Q20. Create a Python class for a zoo simulation, demonstrating polymorphism with different animal types (e.g., mammals, birds, reptiles) and their behavior (e.g., eating, sleeping, making sounds).**"
   ]
  },
  {
   "cell_type": "code",
   "execution_count": 16,
   "id": "7e583367-5137-40e8-854e-5d7fcf4a2b13",
   "metadata": {},
   "outputs": [
    {
     "name": "stdout",
     "output_type": "stream",
     "text": [
      "Lion:\n",
      "Mammal sound\n",
      "Mammal eating\n",
      "Mammal sleeping\n",
      "\n",
      "Parrot:\n",
      "Bird sound\n",
      "Bird eating\n",
      "Bird sleeping\n",
      "\n",
      "Snake:\n",
      "Reptile sound\n",
      "Reptile eating\n",
      "Reptile sleeping\n",
      "\n"
     ]
    }
   ],
   "source": [
    "class Animal:\n",
    "    def __init__(self, name):\n",
    "        self.name = name\n",
    "\n",
    "    def make_sound(self):\n",
    "        pass\n",
    "\n",
    "    def eat(self):\n",
    "        pass\n",
    "\n",
    "    def sleep(self):\n",
    "        pass\n",
    "\n",
    "class Mammal(Animal):\n",
    "    def make_sound(self):\n",
    "        return \"Mammal sound\"\n",
    "\n",
    "    def eat(self):\n",
    "        return \"Mammal eating\"\n",
    "\n",
    "    def sleep(self):\n",
    "        return \"Mammal sleeping\"\n",
    "\n",
    "class Bird(Animal):\n",
    "    def make_sound(self):\n",
    "        return \"Bird sound\"\n",
    "\n",
    "    def eat(self):\n",
    "        return \"Bird eating\"\n",
    "\n",
    "    def sleep(self):\n",
    "        return \"Bird sleeping\"\n",
    "\n",
    "class Reptile(Animal):\n",
    "    def make_sound(self):\n",
    "        return \"Reptile sound\"\n",
    "\n",
    "    def eat(self):\n",
    "        return \"Reptile eating\"\n",
    "\n",
    "    def sleep(self):\n",
    "        return \"Reptile sleeping\"\n",
    "\n",
    "# Zoo simulation\n",
    "def simulate_zoo(animals):\n",
    "    for animal in animals:\n",
    "        print(f\"{animal.name}:\")\n",
    "        print(animal.make_sound())\n",
    "        print(animal.eat())\n",
    "        print(animal.sleep())\n",
    "        print()\n",
    "\n",
    "# Creating instances of different types of animals\n",
    "lion = Mammal(\"Lion\")\n",
    "parrot = Bird(\"Parrot\")\n",
    "snake = Reptile(\"Snake\")\n",
    "\n",
    "# Simulating the zoo with different animals\n",
    "simulate_zoo([lion, parrot, snake])"
   ]
  },
  {
   "cell_type": "markdown",
   "id": "ef6177c0-2b4e-47cb-90f5-56c9bf69f25d",
   "metadata": {},
   "source": [
    "**Explanation:**\n",
    "\n",
    "\"Animal\" is a base class with methods \"make_sound()\", \"eat()\", and \"sleep()\" acting as placeholders to be overridden by subclasses.\n",
    "\n",
    "The `__init__()` method initializes the \"name\" attribute of the animal.\n",
    "\n",
    "\"Mammal\", \"Bird\", and \"Reptile\" are subclasses of \"Animal\".\n",
    "\n",
    "Each subclass provides specific implementations for the \"make_sound()\", \"eat()\", and \"sleep()\" methods, representing behaviors specific to each type of animal.\n",
    "\n",
    "\"simulate_zoo()\" is a function that takes a list of animals as an argument.\n",
    "\n",
    "It iterates through the list and simulates the behavior of each animal by printing its \"name\", \"sound\", \"eating behavior\", and \"sleeping behavior\".\n",
    "\n",
    "Instances of different animal types (lion, parrot, snake) are created using the Mammal, Bird, and Reptile classes, respectively.\n",
    "\n",
    "The \"simulate_zoo()\" function is called with a list containing instances of different animals.\n",
    "\n",
    "It prints the name of each animal along with the sounds they make, their eating behavior, and their sleeping behavior."
   ]
  },
  {
   "cell_type": "markdown",
   "id": "fd83dea8-1734-4ec7-8e9c-93ec9fd54746",
   "metadata": {},
   "source": [
    "# Abstraction:"
   ]
  },
  {
   "cell_type": "markdown",
   "id": "ed944d55-5a5b-4f85-8ce8-f3fe1c7e5f65",
   "metadata": {},
   "source": [
    "**Q1. What is abstraction in Python, and how does it relate to object-oriented programming?**"
   ]
  },
  {
   "cell_type": "markdown",
   "id": "722cc0e6-6d7d-4e8b-b453-1fc5d895fa64",
   "metadata": {},
   "source": [
    "Abstraction in Python, is one of the pillar of object-oriented programming (OOP), that refers to the concept of hiding complex implementation details and showing only the necessary features of an object. It allows programmers to focus on essential aspects of an object while hiding unnecessary details, thereby simplifying the usage and understanding of the object's functionalities.\n",
    "\n",
    "Relation of  Abstraction with OOP:\n",
    "\n",
    "1. Abstraction is one of the key principles of OOP, along with encapsulation, inheritance, and polymorphism.\n",
    "\n",
    "2. Abstraction promotes modularity by allowing objects to be treated as black boxes with defined interfaces. This facilitates code reusability and easy maintenance.\n",
    "\n",
    "3. By focusing on essential features and hiding unnecessary complexities, abstraction promotes cleaner design, making code more manageable and comprehensible.\n",
    "\n",
    "Example:"
   ]
  },
  {
   "cell_type": "code",
   "execution_count": 1,
   "id": "423d6d07-d771-4af0-9b28-4859beff9764",
   "metadata": {},
   "outputs": [
    {
     "name": "stdout",
     "output_type": "stream",
     "text": [
      "Starting the Toyota Corolla\n",
      "Stopping the Honda CBR\n"
     ]
    }
   ],
   "source": [
    "class Vehicle:\n",
    "    def __init__(self, brand, model):\n",
    "        self.brand = brand\n",
    "        self.model = model\n",
    "\n",
    "    def start(self):\n",
    "        raise NotImplementedError(\"Subclass must implement this method\")\n",
    "\n",
    "    def stop(self):\n",
    "        raise NotImplementedError(\"Subclass must implement this method\")\n",
    "\n",
    "# Example of Abstraction: Car and Bike are concrete implementations of Vehicle\n",
    "class Car(Vehicle):\n",
    "    def start(self):\n",
    "        return f\"Starting the {self.brand} {self.model}\"\n",
    "\n",
    "    def stop(self):\n",
    "        return f\"Stopping the {self.brand} {self.model}\"\n",
    "\n",
    "class Bike(Vehicle):\n",
    "    def start(self):\n",
    "        return f\"Starting the {self.brand} {self.model}\"\n",
    "\n",
    "    def stop(self):\n",
    "        return f\"Stopping the {self.brand} {self.model}\"\n",
    "\n",
    "# Usage\n",
    "car = Car(\"Toyota\", \"Corolla\")\n",
    "bike = Bike(\"Honda\", \"CBR\")\n",
    "\n",
    "print(car.start()) \n",
    "print(bike.stop()) "
   ]
  },
  {
   "cell_type": "markdown",
   "id": "9eb3f40b-d388-4389-8121-ee993327d846",
   "metadata": {},
   "source": [
    "In the above example, \"Vehicle\" serves as an abstract class defining the blueprint for vehicles' common behaviors (start() and stop() methods). \"Car\" and \"Bike\" are concrete implementations of the Vehicle class, providing specific implementations for the abstract methods. This abstraction allows users to interact with Car and Bike objects without concerning themselves with the inner workings of the start and stop functionalities."
   ]
  },
  {
   "cell_type": "markdown",
   "id": "d1557009-dd10-4c34-bbad-caa156283e81",
   "metadata": {},
   "source": [
    "**Q2. Describe the benefits of abstraction in terms of code organization and complexity reduction.**"
   ]
  },
  {
   "cell_type": "markdown",
   "id": "805d9930-4027-4e43-882c-0cfea327b11a",
   "metadata": {},
   "source": [
    "1. Abstraction allows developers to hide the internal complexities and implementation details of classes and objects. This helps in providing a simplified interface to interact with, reducing the complexity for users of those classes.\n",
    "\n",
    "2. By defining abstract classes and interfaces, abstraction promotes code reusability. Abstract classes provide a blueprint with common functionalities that can be inherited by multiple subclasses, avoiding code duplication and encouraging a modular design.\n",
    "\n",
    "3. Abstraction contributes to better code maintenance by segregating different levels of details. It allows changes to be made in the implementation of a class without affecting the code that uses that class's interface.\n",
    "\n",
    "4. Abstraction encourages modularity by encapsulating related functionalities within a single unit (a class or an interface). This helps in organizing code into manageable components, promoting a clearer understanding of the system's architecture.\n",
    "\n",
    "5. Abstracting away unnecessary complexities reduces the cognitive load on developers. It allows them to focus on higher-level design aspects and critical functionalities without being bogged down by low-level details.\n",
    "\n",
    "6. For large and complex systems, abstraction serves as a mechanism to simplify and manage the system by breaking it down into more manageable and understandable parts."
   ]
  },
  {
   "cell_type": "markdown",
   "id": "01119d68-2b61-41f3-b588-ceb32c4240c7",
   "metadata": {},
   "source": [
    "**Q3. Create a Python class called `Shape` with an abstract method `calculate_area()`. Then, create child classes (e.g., `Circle`, `Rectangle`) that implement the `calculate_area()` method. Provide an example of using these classes.**"
   ]
  },
  {
   "cell_type": "code",
   "execution_count": 2,
   "id": "4755865b-41d9-41a1-bcd3-6b372a5f904f",
   "metadata": {},
   "outputs": [
    {
     "name": "stdout",
     "output_type": "stream",
     "text": [
      "Area of Circle: 78.53981633974483\n",
      "Area of Rectangle: 24\n"
     ]
    }
   ],
   "source": [
    "from abc import ABC, abstractmethod\n",
    "import math\n",
    "\n",
    "class Shape(ABC):  # Abstract class Shape with an abstract method\n",
    "    @abstractmethod\n",
    "    def calculate_area(self):\n",
    "        pass  # Abstract method to be implemented by subclasses\n",
    "\n",
    "class Circle(Shape):  # Subclass Circle implementing calculate_area()\n",
    "    def __init__(self, radius):\n",
    "        self.radius = radius\n",
    "\n",
    "    def calculate_area(self):\n",
    "        return math.pi * self.radius * self.radius \n",
    "\n",
    "class Rectangle(Shape):  # Subclass Rectangle implementing calculate_area()\n",
    "    def __init__(self, length, width):\n",
    "        self.length = length\n",
    "        self.width = width\n",
    "\n",
    "    def calculate_area(self):\n",
    "        return self.length * self.width  \n",
    "\n",
    "# Creating instances of Circle and Rectangle\n",
    "circle = Circle(5)  # Circle with radius 5\n",
    "rectangle = Rectangle(4, 6)  # Rectangle with length 4 and width 6\n",
    "\n",
    "# Using calculate_area() method of Circle and Rectangle\n",
    "print(\"Area of Circle:\", circle.calculate_area())         \n",
    "print(\"Area of Rectangle:\", rectangle.calculate_area())  \n"
   ]
  },
  {
   "cell_type": "markdown",
   "id": "ea1c2c23-1924-4e1c-94a9-e0b603065dc3",
   "metadata": {},
   "source": [
    "Explanation:\n",
    "\n",
    "This example demonstrates the use of an abstract class \"Shape\" to define a common interface for calculating area, which is then implemented in concrete subclasses \"Circle\" and \"Rectangle\". This approach allows for different shapes to have their specific area calculation methods while enforcing a consistent interface through abstraction.\n",
    "\n",
    "Shape is an abstract class defined using the \"ABC\" class and `@abstractmethod` decorator from \"abc\" module. It contains the abstract method calculate_area().\n",
    "\n",
    "\"Circle\" and \"Rectangle\" are subclasses of Shape and provide their specific implementations for the calculate_area() method.\n",
    "\n",
    "The calculate_area() method is implemented differently in each subclass to calculate the area of a circle and rectangle, respectively.\n",
    "\n",
    "Instances of Circle and Rectangle are created, and the calculate_area() method is called on each instance to compute their respective areas."
   ]
  },
  {
   "cell_type": "markdown",
   "id": "a0b8bfa5-4e94-4900-9a60-f9cae3a5da83",
   "metadata": {},
   "source": [
    "**Q4. Explain the concept of abstract classes in Python and how they are defined using the `abc` module. Provide\n",
    "an example.**"
   ]
  },
  {
   "cell_type": "markdown",
   "id": "9ba5cfd1-6369-44b1-b1b8-afe9c9ee9e00",
   "metadata": {},
   "source": [
    "In Python, abstract classes are classes that cannot be instantiated on their own and typically contain one or more abstract methods. Abstract methods are declared but do not contain any implementation details. These classes serve as blueprints or templates that provide a structure for their subclasses to follow by implementing the abstract methods.\n",
    "\n",
    "Python provides the abc (Abstract Base Classes) module, which allows the creation of abstract classes and abstract methods. This module includes the ABC class and the `@abstractmethod` decorator, which are used together to create abstract classes and methods.\n",
    "\n",
    "Example demonstrating the use of abstract classes with the abc module:"
   ]
  },
  {
   "cell_type": "code",
   "execution_count": 3,
   "id": "161d4c3b-8de8-49fc-8b23-ae17aecbe8bd",
   "metadata": {},
   "outputs": [
    {
     "name": "stdout",
     "output_type": "stream",
     "text": [
      "Area of Circle: 78.53981633974483\n",
      "Area of Rectangle: 24\n"
     ]
    }
   ],
   "source": [
    "from abc import ABC, abstractmethod\n",
    "import math\n",
    "\n",
    "class Shape(ABC):  # Abstract class Shape using ABC module\n",
    "    @abstractmethod\n",
    "    def calculate_area(self):\n",
    "        pass  # Abstract method to be implemented by subclasses\n",
    "\n",
    "class Circle(Shape):  # Subclass Circle implementing calculate_area()\n",
    "    def __init__(self, radius):\n",
    "        self.radius = radius\n",
    "\n",
    "    def calculate_area(self):\n",
    "        return math.pi * self.radius * self.radius  \n",
    "\n",
    "class Rectangle(Shape):  # Subclass Rectangle implementing calculate_area()\n",
    "    def __init__(self, length, width):\n",
    "        self.length = length\n",
    "        self.width = width\n",
    "\n",
    "    def calculate_area(self):\n",
    "        return self.length * self.width  \n",
    "\n",
    "# Creating instances of Circle and Rectangle\n",
    "circle = Circle(5)  # Circle with radius 5\n",
    "rectangle = Rectangle(4, 6)  # Rectangle with length 4 and width 6\n",
    "\n",
    "# Using calculate_area() method of Circle and Rectangle\n",
    "print(\"Area of Circle:\", circle.calculate_area())         \n",
    "print(\"Area of Rectangle:\", rectangle.calculate_area())  "
   ]
  },
  {
   "cell_type": "markdown",
   "id": "97e42bf9-a96f-4cbd-bc4f-983b847c47ea",
   "metadata": {},
   "source": [
    "**Explanation:**\n",
    "\n",
    "\"Shape\" is an abstract class defined using the \"ABC\" class from the \"abc\" module. It contains the abstract method calculate_area(), decorated with `@abstractmethod`.\n",
    "\n",
    "\"Circle\" and \"Rectangle\" are subclasses of Shape and provide concrete implementations for the calculate_area() method.\n",
    "\n",
    "Each subclass implements the abstract method according to the specific logic to calculate the area of a circle and a rectangle, respectively.\n",
    "\n",
    "Instances of Circle and Rectangle are created, and the calculate_area() method is called on each instance to compute their respective areas."
   ]
  },
  {
   "cell_type": "markdown",
   "id": "973d5952-77fe-4543-9c8d-29b345d74897",
   "metadata": {},
   "source": [
    "**Q5. How do abstract classes differ from regular classes in Python? Discuss their use cases.**"
   ]
  },
  {
   "cell_type": "markdown",
   "id": "dc8e773f-9bd7-42b7-94a8-f30aed5c7206",
   "metadata": {},
   "source": [
    "Abstract classes differ from regular classes in Python in several key aspects:\n",
    "\n",
    "1. Abstract Classes cannot be instantiated on their own. They serve as a blueprint for other classes and may contain abstract methods without implementations. Whereas, Regular Classes can be instantiated directly to create objects. They may contain concrete methods with implementations.\n",
    "\n",
    "2. Abstract Classes can have abstract methods, which are methods without implementation details. These methods must be overridden by their subclasses. Whereas, regular classes can have regular methods with implementation details. When a subclass inherits from a regular class, the subclass can choose whether to override these regular methods.\n",
    "\n",
    "3. Abstract Classes are designed to be inherited by other classes. They provide a structure or template for subclasses to follow and enforce a common interface for their subclasses. Whereas, Regular Classes are intended for instantiation. They may or may not serve as a base for other classes.\n",
    "\n",
    "Use Cases of Abstract Classes:\n",
    "\n",
    "1. They are used to define a common interface and structure for a group of subclasses.\n",
    "\n",
    "2.  Abstract classes with abstract methods ensure that all subclasses provide concrete implementations for all the abstract methods of their superclass.\n",
    "\n",
    "3. Abstract classes are suitable for implementing design patterns like the Template Method Pattern or defining interfaces.\n",
    "\n",
    "Use Cases of Regular Classes:\n",
    "\n",
    "1. Regular classes are used to create objects directly.\n",
    "\n",
    "2. They are generally used when a class is complete and does not expect to be subclassed for further use.\n",
    "\n",
    "3. Regular classes can provide default behaviors that subclasses can inherit and optionally override."
   ]
  },
  {
   "cell_type": "markdown",
   "id": "39d8d4bf-45dc-4ce8-ae53-67114152d94d",
   "metadata": {},
   "source": [
    "**Q6. Create a Python class for a bank account and demonstrate abstraction by hiding the account balance and providing methods to deposit and withdraw funds.**"
   ]
  },
  {
   "cell_type": "code",
   "execution_count": 4,
   "id": "9fdcb5d0-4f09-463c-86d4-4fb13fb71033",
   "metadata": {},
   "outputs": [
    {
     "name": "stdout",
     "output_type": "stream",
     "text": [
      "Account Number: 123456789\n",
      "Initial Balance: 1000\n",
      "Deposited 500. New balance: 1500\n",
      "Withdrew 200. New balance: 1300\n",
      "Insufficient funds. Withdrawal denied.\n",
      "Final Balance: 1300\n"
     ]
    }
   ],
   "source": [
    "class BankAccount:\n",
    "    def __init__(self, account_number, initial_balance):\n",
    "        self._account_number = account_number  # Private attribute for account number\n",
    "        self._balance = initial_balance  # Private attribute for account balance\n",
    "\n",
    "    def deposit(self, amount):\n",
    "        if amount>0:\n",
    "            self._balance += amount\n",
    "            print(f\"Deposited {amount}. New balance: {self._balance}\")\n",
    "        else:\n",
    "            print(\"Enter a valid amount. Deposit denied.\")\n",
    "\n",
    "    def withdraw(self, amount):\n",
    "        if amount>0 and self._balance >= amount:\n",
    "            self._balance -= amount\n",
    "            print(f\"Withdrew {amount}. New balance: {self._balance}\")\n",
    "        else:\n",
    "            print(\"Insufficient funds. Withdrawal denied.\")\n",
    "\n",
    "    def get_balance(self):\n",
    "        return self._balance\n",
    "\n",
    "    def get_account_number(self):\n",
    "        return self._account_number\n",
    "\n",
    "# Creating a bank account instance\n",
    "account = BankAccount(account_number=\"123456789\", initial_balance=1000)\n",
    "\n",
    "# Using deposit, withdraw, and get_balance methods\n",
    "print(\"Account Number:\", account.get_account_number())  \n",
    "print(\"Initial Balance:\", account.get_balance())       \n",
    "\n",
    "account.deposit(500)  \n",
    "account.withdraw(200)  \n",
    "account.withdraw(1500) \n",
    "\n",
    "print(\"Final Balance:\", account.get_balance())          "
   ]
  },
  {
   "cell_type": "markdown",
   "id": "473337e0-e98b-4219-9238-762564314ae9",
   "metadata": {},
   "source": [
    "**Explanation:**\n",
    "\n",
    "\"BankAccount\" class encapsulates the account balance and account number with private attributes (`_balance` and `_account_number`).\n",
    "\n",
    "Methods like deposit(), withdraw(), get_balance(), and get_account_number() are provided to interact with the account's functionalities.\n",
    "\n",
    "deposit() adds funds to the account, withdraw() deducts funds (if sufficient balance is available), get_balance() retrieves the balance, and get_account_number() retrieves the account number.\n",
    "\n",
    "The account balance is hidden from direct access outside the class, demonstrating abstraction by only allowing controlled access through defined methods."
   ]
  },
  {
   "cell_type": "markdown",
   "id": "30fd5f6d-ecbd-4df2-87f3-483eb1e0f00f",
   "metadata": {},
   "source": [
    "**Q7. Discuss the concept of interface classes in Python and their role in achieving abstraction.**"
   ]
  },
  {
   "cell_type": "markdown",
   "id": "7517892a-e7b3-41d4-8ea6-52224be050d2",
   "metadata": {},
   "source": [
    "In Python, interface classes are not a distinct construct in the same way they are in some other programming languages (like Java). However, Python allows the concept of interface-like behavior through abstract classes with abstract methods, enforcing a set of methods that must be implemented by their subclasses.\n",
    "\n",
    "1. Python achieves interface-like behavior using abstract classes from the abc (Abstract Base Classes) module. Abstract classes cannot be instantiated and may contain abstract methods (methods without implementation).\n",
    "\n",
    "2. Abstract methods in Python are declared using the `@abstractmethod` decorator and contain no implementation details. Subclasses inheriting from an abstract class must override all abstract methods present in the abstract class otherwise error will be rised.\n",
    "\n",
    "Role of Interface Classes in Achieving Abstraction:\n",
    "\n",
    "1. Interface classes, represented by abstract classes in Python, define a contract or a set of methods that must be implemented by classes that inherit from them. They establish a common interface that subclasses need to adhere to, ensuring a consistent structure across different implementations.\n",
    "\n",
    "2. Interface classes enforce the implementation of specific methods, ensuring that subclasses must provide their implementation of these methods. This enforces a level of predictability and consistency when dealing with different implementations of the same interface.\n",
    "\n",
    "3. Interface classes promote abstraction by hiding the implementation details and focusing on the structure and behavior that subclasses must follow. They provide a way to define and enforce a contract, allowing users to interact with objects based on the defined interface without concerning themselves with the underlying implementations."
   ]
  },
  {
   "cell_type": "markdown",
   "id": "170aff18-3011-41c2-81a2-5fe5229e1f19",
   "metadata": {},
   "source": [
    "**Q8. Create a Python class hierarchy for animals and implement abstraction by defining common methods (e.g., `eat()`, `sleep()`) in an abstract base class.**\n"
   ]
  },
  {
   "cell_type": "code",
   "execution_count": 5,
   "id": "1d9f469d-133e-4840-9a03-547af8c1f9a7",
   "metadata": {},
   "outputs": [
    {
     "name": "stdout",
     "output_type": "stream",
     "text": [
      "Tommy is eating like a dog.\n",
      "Kitty is sleeping like a cat.\n",
      "Tweety is eating like a bird.\n"
     ]
    }
   ],
   "source": [
    "from abc import ABC, abstractmethod\n",
    "\n",
    "class Animal(ABC):  # Abstract base class for animals\n",
    "    def __init__(self, name):\n",
    "        self.name = name\n",
    "\n",
    "    @abstractmethod\n",
    "    def eat(self):\n",
    "        pass  # Abstract method for eating behavior\n",
    "\n",
    "    @abstractmethod\n",
    "    def sleep(self):\n",
    "        pass  # Abstract method for sleeping behavior\n",
    "\n",
    "class Dog(Animal):  # Subclass representing a Dog\n",
    "    def eat(self):\n",
    "        return f\"{self.name} is eating like a dog.\"\n",
    "\n",
    "    def sleep(self):\n",
    "        return f\"{self.name} is sleeping like a dog.\"\n",
    "\n",
    "class Cat(Animal):  # Subclass representing a Cat\n",
    "    def eat(self):\n",
    "        return f\"{self.name} is eating like a cat.\"\n",
    "\n",
    "    def sleep(self):\n",
    "        return f\"{self.name} is sleeping like a cat.\"\n",
    "\n",
    "class Bird(Animal):  # Subclass representing a Bird\n",
    "    def eat(self):\n",
    "        return f\"{self.name} is eating like a bird.\"\n",
    "\n",
    "    def sleep(self):\n",
    "        return f\"{self.name} is sleeping like a bird.\"\n",
    "\n",
    "# Creating instances of Dog, Cat, and Bird\n",
    "dog = Dog(\"Tommy\")\n",
    "cat = Cat(\"Kitty\")\n",
    "bird = Bird(\"Tweety\")\n",
    "\n",
    "# Using eat() and sleep() methods of different animal instances\n",
    "print(dog.eat())   \n",
    "print(cat.sleep())  \n",
    "print(bird.eat())   \n"
   ]
  },
  {
   "cell_type": "markdown",
   "id": "a7f87746-6edb-4d81-81fc-a165127439d6",
   "metadata": {},
   "source": [
    "**Explanation:**\n",
    "\n",
    "\"Animal\" is an abstract base class (ABC) that defines common behaviors (eat() and sleep()) as abstract methods.\n",
    "\n",
    "Subclasses \"Dog\", \"Cat\", and \"Bird\" inherit from \"Animal\" and provide their specific implementations for the eat() and sleep() methods.\n",
    "\n",
    "Each subclass implements the abstract methods according to the specific eating and sleeping behaviors of dogs, cats, and birds.\n",
    "\n",
    "Instances of Dog, Cat, and Bird demonstrate the usage of the eat() and sleep() methods specific to their respective behaviors.\n",
    "\n",
    "This class hierarchy demonstrates abstraction by defining common methods in the abstract base class \"Animal\". Subclasses (Dog, Cat, Bird) provide their implementations for these abstract methods, ensuring adherence to the common interface while allowing specific behavior for each animal type."
   ]
  },
  {
   "cell_type": "markdown",
   "id": "c527a4cc-6e71-42a8-a303-1d005eefcf98",
   "metadata": {},
   "source": [
    "**Q9. Explain the significance of encapsulation in achieving abstraction. Provide examples.**"
   ]
  },
  {
   "cell_type": "markdown",
   "id": "ae14dd5e-a375-468f-84ac-78f45d87c795",
   "metadata": {},
   "source": [
    "Encapsulation and abstraction are closely related concepts in object-oriented programming, with encapsulation being a key mechanism that helps achieve abstraction.\n",
    "\n",
    "Encapsulation is the bundling of data (attributes or variables) and methods (functions or behaviors) that operate on the data within a single unit or class. It restricts direct access to some of the object's components and hides the internal state of an object from the outside world.\n",
    "\n",
    "Encapsulation hides the internal details of how an object manages its data. It prevents direct access to an object's attributes from outside the class. By hiding the implementation details, encapsulation facilitates abstraction by exposing only necessary information and functionalities through well-defined interfaces.\n",
    "\n",
    "Encapsulation allows certain attributes or methods to be kept private or protected, which means they are inaccessible from outside the class. It ensures that the complexity of the internal workings is hidden, promoting a clearer understanding of the object's behavior without exposing unnecessary details.\n",
    "\n",
    "Example:"
   ]
  },
  {
   "cell_type": "code",
   "execution_count": 6,
   "id": "fe314070-4257-4140-9547-94e3fd7fb6a9",
   "metadata": {},
   "outputs": [
    {
     "name": "stdout",
     "output_type": "stream",
     "text": [
      "Deposited 500. New balance: 1500\n",
      "Current Balance: 1500\n"
     ]
    }
   ],
   "source": [
    "class BankAccount:\n",
    "    def __init__(self, account_number, initial_balance):\n",
    "        self._account_number = account_number  # Encapsulated attribute\n",
    "        self._balance = initial_balance  # Encapsulated attribute\n",
    "\n",
    "    def deposit(self, amount):\n",
    "        if amount>0:\n",
    "            self._balance += amount  # Accessing encapsulated attribute\n",
    "            print(f\"Deposited {amount}. New balance: {self._balance}\")\n",
    "        else:\n",
    "            print(\"Enter a valid amount. Deposit denied.\")\n",
    "\n",
    "    def get_balance(self):\n",
    "        return self._balance  # Accessing encapsulated attribute through a method\n",
    "\n",
    "# Creating an instance of BankAccount\n",
    "account = BankAccount(account_number=\"123456789\", initial_balance=1000)\n",
    "\n",
    "# Using deposit() method to update balance (Encapsulation hides internal implementation)\n",
    "account.deposit(500)\n",
    "\n",
    "# Accessing balance through get_balance() method (Abstraction through encapsulation)\n",
    "print(\"Current Balance:\", account.get_balance())\n"
   ]
  },
  {
   "cell_type": "markdown",
   "id": "9ce17cf8-bddd-43f8-935b-a3b11c0db1b4",
   "metadata": {},
   "source": [
    "**Explanation:**\n",
    "\n",
    "\"BankAccount\" class encapsulates the account number and balance attributes, making them private (`_account_number` and `_balance`).\n",
    "\n",
    "The \"deposit()\" method encapsulates the logic for updating the balance, hiding the details of how the balance is managed.\n",
    "\n",
    "The \"get_balance()\" method provides access to the balance attribute, abstracting its retrieval through a controlled interface."
   ]
  },
  {
   "cell_type": "markdown",
   "id": "83dc73b1-779e-4af0-89f5-52dc30860928",
   "metadata": {},
   "source": [
    "**Q10. What is the purpose of abstract methods, and how do they enforce abstraction in Python classes?**"
   ]
  },
  {
   "cell_type": "markdown",
   "id": "649768c3-055b-4717-a473-d6ce50e9e7ea",
   "metadata": {},
   "source": [
    "Abstract methods in Python serve the purpose of defining a method's signature in an abstract base class (ABC) without implementing its functionality. These methods act as placeholders that must be overridden by concrete subclasses, thereby enforcing a certain structure or behavior across different implementations.\n",
    "\n",
    "1. Abstract methods in an abstract base class are declared using the `@abstractmethod` decorator but do not contain any implementation details.\n",
    "\n",
    "2. Concrete subclasses that inherit from an abstract base class with abstract methods must provide their implementations for these methods. If a subclass fails to override an abstract method defined in the base class, it raises an error at runtime, ensuring that all abstract methods are implemented.\n",
    "\n",
    "Example:"
   ]
  },
  {
   "cell_type": "code",
   "execution_count": 1,
   "id": "47ba8888-6242-4e33-b0d5-d1e9dffd71d8",
   "metadata": {},
   "outputs": [
    {
     "name": "stdout",
     "output_type": "stream",
     "text": [
      "Area of Circle: 78.53981633974483\n",
      "Area of Rectangle: 24\n"
     ]
    }
   ],
   "source": [
    "from abc import ABC, abstractmethod\n",
    "import math\n",
    "\n",
    "class Shape(ABC):  # Abstract class defining a Shape interface\n",
    "    @abstractmethod\n",
    "    def calculate_area(self):\n",
    "        pass  # Abstract method for calculating area - No implementation\n",
    "\n",
    "class Circle(Shape):  # Concrete subclass implementing the Shape interface\n",
    "    def __init__(self, radius):\n",
    "        self.radius = radius\n",
    "\n",
    "    def calculate_area(self):\n",
    "        return math.pi * self.radius * self.radius  # Implementation for calculating the area of a circle\n",
    "\n",
    "class Rectangle(Shape):  # Concrete subclass implementing the Shape interface\n",
    "    def __init__(self, length, width):\n",
    "        self.length = length\n",
    "        self.width = width\n",
    "\n",
    "    def calculate_area(self):\n",
    "        return self.length * self.width  # Implementation for calculating the area of a rectangle\n",
    "\n",
    "# Usage of Circle and Rectangle classes adhering to the Shape interface\n",
    "circle = Circle(5)\n",
    "rectangle = Rectangle(4, 6)\n",
    "\n",
    "print(\"Area of Circle:\", circle.calculate_area())       \n",
    "print(\"Area of Rectangle:\", rectangle.calculate_area()) \n"
   ]
  },
  {
   "cell_type": "markdown",
   "id": "c02082e4-97e6-44f0-b1c6-deebd7bf91f8",
   "metadata": {},
   "source": [
    "**Explanation:**\n",
    "\n",
    "In the above example, \"Shape\" is an abstract class with an abstract method calculate_area() defined using the `@abstractmethod` decorator.\n",
    "\n",
    "Subclasses \"Circle\" and \"Rectangle\" inherit from \"Shape\" and provide their implementations for the abstract method calculate_area().\n",
    "\n",
    "Abstract methods in the Shape class enforce the structure and behavior of the calculate_area() method across different shapes, ensuring that all subclasses implement this method to adhere to the defined interface."
   ]
  },
  {
   "cell_type": "markdown",
   "id": "24f3884f-9658-4f28-b8d3-61e07d373444",
   "metadata": {},
   "source": [
    "**Q11. Create a Python class for a vehicle system and demonstrate abstraction by defining common methods (e.g., `start()`, `stop()`) in an abstract base class.**"
   ]
  },
  {
   "cell_type": "code",
   "execution_count": 2,
   "id": "940661a1-a5fb-495b-bc84-30da5068fd55",
   "metadata": {},
   "outputs": [
    {
     "name": "stdout",
     "output_type": "stream",
     "text": [
      "Starting the Toyota Corolla car.\n",
      "Stopping the Honda CBR500R motorcycle.\n"
     ]
    }
   ],
   "source": [
    "from abc import ABC, abstractmethod\n",
    "\n",
    "class Vehicle(ABC):  # Abstract base class for vehicles\n",
    "    def __init__(self, make, model):\n",
    "        self.make = make\n",
    "        self.model = model\n",
    "\n",
    "    @abstractmethod\n",
    "    def start(self):\n",
    "        pass  # Abstract method for starting the vehicle\n",
    "\n",
    "    @abstractmethod\n",
    "    def stop(self):\n",
    "        pass  # Abstract method for stopping the vehicle\n",
    "\n",
    "class Car(Vehicle):  # Subclass representing a Car\n",
    "    def start(self):\n",
    "        return f\"Starting the {self.make} {self.model} car.\"\n",
    "\n",
    "    def stop(self):\n",
    "        return f\"Stopping the {self.make} {self.model} car.\"\n",
    "\n",
    "class Motorcycle(Vehicle):  # Subclass representing a Motorcycle\n",
    "    def start(self):\n",
    "        return f\"Starting the {self.make} {self.model} motorcycle.\"\n",
    "\n",
    "    def stop(self):\n",
    "        return f\"Stopping the {self.make} {self.model} motorcycle.\"\n",
    "\n",
    "# Creating instances of Car and Motorcycle\n",
    "car = Car(make=\"Toyota\", model=\"Corolla\")\n",
    "motorcycle = Motorcycle(make=\"Honda\", model=\"CBR500R\")\n",
    "\n",
    "# Using start() and stop() methods of different vehicle instances\n",
    "print(car.start())       \n",
    "print(motorcycle.stop()) "
   ]
  },
  {
   "cell_type": "markdown",
   "id": "0ee5818a-9329-4dd2-94e4-df96e7a06e3b",
   "metadata": {},
   "source": [
    "**Explanation:**\n",
    "\n",
    "\"Vehicle\" is an abstract base class (ABC) that defines common behaviors (start() and stop()) as abstract methods.\n",
    "\n",
    "Subclasses \"Car\" and \"Motorcycle\" inherit from \"Vehicle\" and provide their specific implementations for the start() and stop() methods.\n",
    "\n",
    "Each subclass implements the abstract methods according to the specific start and stop behaviors of cars and motorcycles.\n",
    "\n",
    "Instances of Car and Motorcycle demonstrate the usage of the start() and stop() methods specific to their respective behaviors.\n",
    "\n",
    "This class hierarchy showcases abstraction by defining common methods in the abstract base class Vehicle. Subclasses (Car, Motorcycle) provide their implementations for these abstract methods, ensuring adherence to the common interface while allowing specific behavior for each vehicle type."
   ]
  },
  {
   "cell_type": "markdown",
   "id": "271b9318-862c-4ab4-87d4-573e4d8996f4",
   "metadata": {},
   "source": [
    "**Q12. Describe the use of abstract properties in Python and how they can be employed in abstract classes.**"
   ]
  },
  {
   "cell_type": "markdown",
   "id": "78f8389c-9ca7-4e1a-8524-76a82a1e312d",
   "metadata": {},
   "source": [
    "In Python, abstract properties are a type of attribute defined in abstract base classes (ABCs) that enforce the presence of specific properties in subclasses while not providing their implementations in the base class itself. Abstract properties are used similarly to abstract methods but for attributes or properties instead.\n",
    "\n",
    "Use of Abstract Properties:\n",
    "\n",
    "1. Abstract properties in Python enforce the presence of certain properties in subclasses without providing the implementation details in the abstract base class.\n",
    "\n",
    "2. They define a blueprint for attributes that subclasses must define, allowing the base class to expect the existence of these properties without specifying their implementation.\n",
    "\n",
    "3. Abstract properties can be used alongside abstract methods in abstract base classes to define a complete interface that subclasses must adhere to.\n",
    "\n",
    "Abstract properties are defined using the `@property` decorator in conjunction with the `@abstractmethod` decorator within an abstract base class.\n",
    "\n",
    "Example:"
   ]
  },
  {
   "cell_type": "code",
   "execution_count": 3,
   "id": "b5c1b6a7-62b1-4bc2-8516-99d6ebd7e54f",
   "metadata": {},
   "outputs": [
    {
     "name": "stdout",
     "output_type": "stream",
     "text": [
      "Area of Rectangle: 50\n",
      "Perimeter of Rectangle: 30\n"
     ]
    }
   ],
   "source": [
    "from abc import ABC, abstractmethod\n",
    "\n",
    "class Shape(ABC):  # Abstract class with abstract properties\n",
    "    @property\n",
    "    @abstractmethod\n",
    "    def area(self):\n",
    "        pass  # Abstract property for area calculation\n",
    "\n",
    "    @property\n",
    "    @abstractmethod\n",
    "    def perimeter(self):\n",
    "        pass  # Abstract property for perimeter calculation\n",
    "\n",
    "class Rectangle(Shape):  # Subclass implementing abstract properties\n",
    "    def __init__(self, width, height):\n",
    "        self.width = width\n",
    "        self.height = height\n",
    "\n",
    "    @property\n",
    "    def area(self):\n",
    "        return self.width * self.height  # Implementation for area of a rectangle\n",
    "\n",
    "    @property\n",
    "    def perimeter(self):\n",
    "        return 2 * (self.width + self.height)  # Implementation for perimeter of a rectangle\n",
    "\n",
    "# Creating an instance of Rectangle\n",
    "rect = Rectangle(width=5, height=10)\n",
    "\n",
    "# Using the abstract properties in the Rectangle instance\n",
    "print(\"Area of Rectangle:\", rect.area)      \n",
    "print(\"Perimeter of Rectangle:\", rect.perimeter) \n"
   ]
  },
  {
   "cell_type": "markdown",
   "id": "6ab8f704-5ac6-416c-94f5-897fd8c0545c",
   "metadata": {},
   "source": [
    "**Explanation:**\n",
    "\n",
    "\"Shape\" is an abstract base class with abstract properties area and perimeter, defined using `@property` decorators alongside `@abstractmethod` decorators.\n",
    "\n",
    "The \"Rectangle\" class inherits from Shape and provides implementations for the abstract properties area and perimeter.\n",
    "\n",
    "Instances of Rectangle use the properties area and perimeter, providing their specific implementations for calculating the area and perimeter of a rectangle."
   ]
  },
  {
   "cell_type": "markdown",
   "id": "c48fa480-5708-4529-aed9-ba2afd9ec000",
   "metadata": {},
   "source": [
    "**Q13. Create a Python class hierarchy for employees in a company (e.g., manager, developer, designer) and implement abstraction by defining a common `get_salary()` method.**"
   ]
  },
  {
   "cell_type": "code",
   "execution_count": 5,
   "id": "63c959fb-1d6c-47e9-b96c-e8ca60253697",
   "metadata": {},
   "outputs": [
    {
     "name": "stdout",
     "output_type": "stream",
     "text": [
      "Anmol's salary as a Manager: 80000\n",
      "Anand's salary as a Developer: 60000\n",
      "Kumar's salary as a Designer: 70000\n"
     ]
    }
   ],
   "source": [
    "from abc import ABC, abstractmethod\n",
    "\n",
    "class Employee(ABC):  # Abstract base class for employees\n",
    "    def __init__(self, name, emp_id):\n",
    "        self.name = name\n",
    "        self.emp_id = emp_id\n",
    "\n",
    "    @abstractmethod\n",
    "    def get_salary(self):\n",
    "        pass  # Abstract method for getting salary\n",
    "\n",
    "class Manager(Employee):  # Subclass representing a Manager\n",
    "    def __init__(self, name, emp_id, salary):\n",
    "        super().__init__(name, emp_id)\n",
    "        self.salary = salary\n",
    "\n",
    "    def get_salary(self):\n",
    "        return f\"{self.name}'s salary as a Manager: {self.salary}\"\n",
    "\n",
    "class Developer(Employee):  # Subclass representing a Developer\n",
    "    def __init__(self, name, emp_id, salary):\n",
    "        super().__init__(name, emp_id)\n",
    "        self.salary = salary\n",
    "\n",
    "    def get_salary(self):\n",
    "        return f\"{self.name}'s salary as a Developer: {self.salary}\"\n",
    "\n",
    "class Designer(Employee):  # Subclass representing a Designer\n",
    "    def __init__(self, name, emp_id, salary):\n",
    "        super().__init__(name, emp_id)\n",
    "        self.salary = salary\n",
    "\n",
    "    def get_salary(self):\n",
    "        return f\"{self.name}'s salary as a Designer: {self.salary}\"\n",
    "\n",
    "# Creating instances of Manager, Developer, and Designer\n",
    "manager = Manager(\"Anmol\", \"M001\", 80000)\n",
    "developer = Developer(\"Anand\", \"D001\", 60000)\n",
    "designer = Designer(\"Kumar\", \"D002\", 70000)\n",
    "\n",
    "# Using the get_salary() method of different employee instances\n",
    "print(manager.get_salary())    \n",
    "print(developer.get_salary())  \n",
    "print(designer.get_salary())   "
   ]
  },
  {
   "cell_type": "markdown",
   "id": "10eb226a-3512-4c0a-9832-b140134490c7",
   "metadata": {},
   "source": [
    "**Explanation:**\n",
    "\n",
    "\"Employee\" is an abstract base class (ABC) defining the common behavior of employees through the get_salary() abstract method.\n",
    "\n",
    "Subclasses (Manager, Developer, Designer) inherit from \"Employee\" and provide their specific implementations for the \"get_salary()\" method.\n",
    "\n",
    "Each subclass initializes with its attributes (name, emp_id, salary) and implements the get_salary() method according to the role-specific salary.\n",
    "\n",
    "Instances of Manager, Developer, and Designer demonstrate the usage of the get_salary() method specific to each employee type.\n",
    "\n",
    "This class hierarchy showcases abstraction by defining a common get_salary() method in the abstract base class Employee. Subclasses provide their implementations for this method, ensuring adherence to the common interface while allowing specific behavior for each employee role."
   ]
  },
  {
   "cell_type": "markdown",
   "id": "40f25fc3-a067-473c-9824-9327c0238f46",
   "metadata": {},
   "source": [
    "**Q14. Discuss the differences between abstract classes and concrete classes in Python, including their\n",
    "instantiation.**"
   ]
  },
  {
   "cell_type": "markdown",
   "id": "5f834089-3e0b-4a1e-9903-afee9993adc1",
   "metadata": {},
   "source": [
    "Abstract Classes:\n",
    "\n",
    "1. Abstract classes are designed to be base classes that contain one or more abstract methods (methods without implementation). They cannot be instantiated directly; instead, they serve as a blueprint or template for other classes. They are defined using the abc module and the @abstractmethod decorator to declare abstract methods.\n",
    "\n",
    "2. Abstract classes exist to define a common interface by providing a structure that subclasses must follow. They enforce the presence of specific methods or attributes in subclasses but don't provide their implementations. They are used to create a hierarchy of related classes and enforce consistency across subclasses.\n",
    "\n",
    "3. Abstract classes cannot be instantiated on their own because they contain one or more abstract methods that lack implementations. Subclasses must inherit from abstract classes and provide implementations for all abstract methods to be instantiated.\n",
    "\n",
    "Concrete Classes:\n",
    "\n",
    "1. Concrete classes are regular classes that provide concrete implementations for all methods and attributes defined within the class. They can be instantiated directly and provide specific functionality without any abstract methods.\n",
    "\n",
    "2. Concrete classes are meant to be instantiated and used directly to create objects. They provide full implementations for all methods and attributes, allowing objects of that class to be created and used.\n",
    "\n",
    "3. Concrete classes can be instantiated directly using their constructors (__init__() method). They do not contain any abstract methods and provide complete implementations for all methods, allowing direct instantiation.\n",
    "\n",
    "Example:"
   ]
  },
  {
   "cell_type": "code",
   "execution_count": 1,
   "id": "87119796-da19-461d-bdca-82330172d582",
   "metadata": {},
   "outputs": [
    {
     "name": "stdout",
     "output_type": "stream",
     "text": [
      "Implementation of abstract_method in ConcreteClass\n"
     ]
    }
   ],
   "source": [
    "from abc import ABC, abstractmethod\n",
    "\n",
    "# Abstract class example\n",
    "class AbstractClass(ABC):\n",
    "    @abstractmethod\n",
    "    def abstract_method(self):\n",
    "        pass\n",
    "\n",
    "# Concrete class example\n",
    "class ConcreteClass(AbstractClass):  # Inherits from AbstractClass\n",
    "    def abstract_method(self):\n",
    "        return \"Implementation of abstract_method in ConcreteClass\"\n",
    "\n",
    "# Instantiation of ConcreteClass\n",
    "obj = ConcreteClass()\n",
    "print(obj.abstract_method())  "
   ]
  },
  {
   "cell_type": "markdown",
   "id": "13c320cc-182f-4a77-bab1-5e2224bda761",
   "metadata": {},
   "source": [
    "**Explanation:**\n",
    "\n",
    "In this example, AbstractClass is an abstract class that contains an abstract method abstract_method.\n",
    "\n",
    "ConcreteClass inherits from AbstractClass and provides a concrete implementation for the abstract_method.\n",
    "\n",
    "The ConcreteClass can be instantiated directly (obj = ConcreteClass()) because it provides an implementation for all abstract methods inherited from AbstractClass."
   ]
  },
  {
   "cell_type": "markdown",
   "id": "1f515ff8-d20e-4588-a3cc-f2d4843a5f47",
   "metadata": {},
   "source": [
    "**Q15. Explain the concept of abstract data types (ADTs) and their role in achieving abstraction in Python.**"
   ]
  },
  {
   "cell_type": "markdown",
   "id": "9e1fc694-51b5-4847-b5f8-8aea4be4cab5",
   "metadata": {},
   "source": [
    "Abstract Data Types (ADTs) refer to a theoretical model or concept in computer science that describes a data type's behavior without specifying its implementation. ADTs focus on defining data types based on their operations, functionalities, and behaviors, rather than on their internal details.\n",
    "\n",
    "Role of ADTs in Achieving Abstraction in Python:\n",
    "\n",
    "1. ADTs in Python define the interface or contract for data types by specifying a set of operations or methods that should be supported, without detailing how these operations are implemented.\n",
    "\n",
    "2. They hide the underlying implementation details, allowing users to work with data types without needing to know how they are implemented internally. Users interact with the ADT through its defined operations, achieving a higher level of abstraction.\n",
    "\n",
    "3. ADTs promote code reusability by providing a consistent interface for different implementations of the same data type. They allow users to switch between different implementations of the same ADT without affecting the code that interacts with it."
   ]
  },
  {
   "cell_type": "markdown",
   "id": "957f6745-5130-4cad-b8b5-927da3a9c618",
   "metadata": {},
   "source": [
    "**Q16. Create a Python class for a computer system, demonstrating abstraction by defining common methods (e.g., `power_on()`, `shutdown()`) in an abstract base class.**"
   ]
  },
  {
   "cell_type": "code",
   "execution_count": 2,
   "id": "8d1a8f8b-5f70-4978-b36a-bbd36e62e903",
   "metadata": {},
   "outputs": [
    {
     "name": "stdout",
     "output_type": "stream",
     "text": [
      "Laptop powered on\n",
      "Desktop shut down\n"
     ]
    }
   ],
   "source": [
    "from abc import ABC, abstractmethod\n",
    "\n",
    "class ComputerSystem(ABC):  # Abstract base class for a computer system\n",
    "    @abstractmethod\n",
    "    def power_on(self):\n",
    "        pass  # Abstract method for powering on the computer system\n",
    "\n",
    "    @abstractmethod\n",
    "    def shutdown(self):\n",
    "        pass  # Abstract method for shutting down the computer system\n",
    "\n",
    "class Laptop(ComputerSystem):  # Subclass representing a Laptop computer\n",
    "    def power_on(self):\n",
    "        return \"Laptop powered on\"\n",
    "\n",
    "    def shutdown(self):\n",
    "        return \"Laptop shut down\"\n",
    "\n",
    "class Desktop(ComputerSystem):  # Subclass representing a Desktop computer\n",
    "    def power_on(self):\n",
    "        return \"Desktop powered on\"\n",
    "\n",
    "    def shutdown(self):\n",
    "        return \"Desktop shut down\"\n",
    "\n",
    "# Creating instances of Laptop and Desktop\n",
    "laptop = Laptop()\n",
    "desktop = Desktop()\n",
    "\n",
    "# Using the power_on() and shutdown() methods of different computer instances\n",
    "print(laptop.power_on())    \n",
    "print(desktop.shutdown())   "
   ]
  },
  {
   "cell_type": "markdown",
   "id": "0effeaa7-7722-427f-ac61-375887e96f15",
   "metadata": {},
   "source": [
    "**Explanation:**\n",
    "\n",
    "\"ComputerSystem\" is an abstract base class (ABC) defining common behaviors (power_on() and shutdown()) for a computer system through abstract methods.\n",
    "\n",
    "Subclasses (Laptop and Desktop) inherit from ComputerSystem and provide their specific implementations for the power_on() and shutdown() methods.\n",
    "\n",
    "Each subclass implements the abstract methods according to the specific behaviors of powering on and shutting down a laptop or desktop.\n",
    "\n",
    "Instances of Laptop and Desktop demonstrate the usage of the power_on() and shutdown() methods specific to each computer type.\n",
    "\n",
    "This class hierarchy showcases abstraction by defining common methods in the abstract base class ComputerSystem. Subclasses provide their implementations for these methods, ensuring adherence to the common interface while allowing specific behavior for each computer system type."
   ]
  },
  {
   "cell_type": "markdown",
   "id": "f5dd4bef-595e-44d9-afd2-8d944abf9809",
   "metadata": {},
   "source": [
    "**Q17. Discuss the benefits of using abstraction in large-scale software development projects.**"
   ]
  },
  {
   "cell_type": "markdown",
   "id": "8b6cb155-3877-4ba5-a4fd-3dcac04a9519",
   "metadata": {},
   "source": [
    "Below are the key advantages of using abstraction in large-scale software development projects:\n",
    "\n",
    "1. Abstraction allows breaking down complex systems into manageable modules. Encapsulation hides the internal implementation details, promoting a clear separation of concerns. This facilitates better code organization, making it easier to understand and maintain.\n",
    "\n",
    "2. Abstraction fosters the creation of reusable components and modules. It enables developers to define common interfaces or base classes that can be inherited or implemented across various parts of the system. Reusing abstracted components reduces redundancy and promotes consistency across the codebase.\n",
    "\n",
    "3. Abstracting implementations from interfaces provides flexibility in swapping or updating underlying implementations without affecting the rest of the system. This enables adaptability to changes by allowing modifications in specific implementations while preserving the overall structure.\n",
    "\n",
    "4. Abstraction facilitates scalability by allowing the addition of new functionalities or components without extensively modifying existing code. Through inheritance, new classes can extend or specialize existing abstractions, ensuring extensibility without altering the core architecture.\n",
    "\n",
    "5. Abstracted code tends to be more readable, understandable, and easier to maintain. Changes or bug fixes can be localized to specific implementations, reducing the risk of unintended consequences in other parts of the system.\n",
    "\n",
    "6. Abstraction encourages collaboration among developers by providing well-defined interfaces. Developers can work independently on different parts of the system based on shared abstractions, leading to more efficient teamwork.\n",
    "\n",
    "7. Abstracting complex functionalities into simple, reusable components reduces the overall complexity of the system. Reducing complexity enhances the system's comprehensibility and helps in better handling of large-scale projects.\n",
    "\n",
    "8. Abstracting real-world problems into a software solution through abstraction aids in clearer problem understanding and solution design."
   ]
  },
  {
   "cell_type": "markdown",
   "id": "a391756a-c1b4-4d4a-9b83-bb8b729058ee",
   "metadata": {},
   "source": [
    "**Q18. Explain how abstraction enhances code reusability and modularity in Python programs.**"
   ]
  },
  {
   "cell_type": "markdown",
   "id": "537408c2-338a-445a-8b76-bf0bb7b28616",
   "metadata": {},
   "source": [
    "1. Abstraction allows developers to hide the internal implementation details of specific functionalities behind well-defined interfaces. By concealing implementation complexities, it enables code to be reused without the need to understand or modify the underlying logic.\n",
    "\n",
    "2. Abstract classes, interfaces, and modules define common structures and behaviors that can be reused across multiple parts of a program. They serve as blueprints, providing a consistent interface for various implementations, fostering code reuse.\n",
    "\n",
    "3. Abstraction encourages breaking down complex systems into smaller, more manageable parts. Modules, abstract classes, and interfaces provide clear boundaries between different functionalities, enhancing modularity.\n",
    "\n",
    "4. Abstract classes and interfaces allow developers to split functionalities into smaller, self-contained modules or classes. This promotes modularity by segregating code into distinct units, making it easier to understand, test, and maintain.\n",
    "\n",
    "5. In Python, abstraction enables inheritance and polymorphism, allowing subclasses to inherit from abstract classes and implement their specific functionalities. This inheritance facilitates the reuse of code while providing flexibility through polymorphism.\n",
    "\n",
    "6. Abstraction reduces code duplication by promoting the creation of shared, reusable components. Developers can use abstracted structures instead of rewriting similar functionalities, minimizing redundancy.\n",
    "\n",
    "7. Abstracting common functionalities into reusable components simplifies the development process. Developers can focus on implementing specific details without worrying about the overall structure, improving productivity."
   ]
  },
  {
   "cell_type": "markdown",
   "id": "4f50e6a5-bfc9-4716-9315-c49570b50ce1",
   "metadata": {},
   "source": [
    "**Q19. Create a Python class for a library system, implementing abstraction by defining common methods (e.g., `add_book()`, `borrow_book()`) in an abstract base class.**"
   ]
  },
  {
   "cell_type": "code",
   "execution_count": 9,
   "id": "1f9fd2c5-7864-4fd0-b55e-1db3614837f0",
   "metadata": {},
   "outputs": [
    {
     "name": "stdout",
     "output_type": "stream",
     "text": [
      "Book P101 borrowed successfully\n",
      "Book U201 borrowed successfully\n"
     ]
    }
   ],
   "source": [
    "from abc import ABC, abstractmethod\n",
    "\n",
    "class LibrarySystem(ABC):  # Abstract base class for a library system\n",
    "    def __init__(self):\n",
    "        self.books = {}  # Dictionary to store books {book_id: availability}\n",
    "\n",
    "    @abstractmethod\n",
    "    def add_book(self, book_id, book_name):\n",
    "        pass  # Abstract method to add a book to the library\n",
    "\n",
    "    @abstractmethod\n",
    "    def borrow_book(self, book_id):\n",
    "        pass  # Abstract method to borrow a book from the library\n",
    "\n",
    "class PublicLibrary(LibrarySystem):  # Subclass representing a public library\n",
    "    def add_book(self, book_id, book_name):\n",
    "        self.books[book_id] = True  # Add book to the library\n",
    "\n",
    "    def borrow_book(self, book_id):\n",
    "        if book_id in self.books and self.books[book_id]:\n",
    "            self.books[book_id] = False\n",
    "            return f\"Book {book_id} borrowed successfully\"\n",
    "        else:\n",
    "            return f\"Book {book_id} is either unavailable or does not exist\"\n",
    "\n",
    "class UniversityLibrary(LibrarySystem):  # Subclass representing a university library\n",
    "    def add_book(self, book_id, book_name):\n",
    "        self.books[book_id] = True  # Add book to the library\n",
    "\n",
    "    def borrow_book(self, book_id):\n",
    "        if book_id in self.books and self.books[book_id]:\n",
    "            self.books[book_id] = False\n",
    "            return f\"Book {book_id} borrowed successfully\"\n",
    "        else:\n",
    "            return f\"Book {book_id} is either unavailable or does not exist\"\n",
    "\n",
    "# Using the library systems\n",
    "public_library = PublicLibrary()\n",
    "public_library.add_book(\"P101\", \"Python Programming\")\n",
    "print(public_library.borrow_book(\"P101\"))  \n",
    "\n",
    "university_library = UniversityLibrary()\n",
    "university_library.add_book(\"U201\", \"Machine Learning\")\n",
    "print(university_library.borrow_book(\"U201\"))  "
   ]
  },
  {
   "cell_type": "markdown",
   "id": "0d4f7bcd-742b-49c1-86d9-2a58bf554fb6",
   "metadata": {},
   "source": [
    "**Explanation:**\n",
    "\n",
    "\"LibrarySystem\" is an abstract base class (ABC) defining common behaviors for a library system using abstract methods add_book() and borrow_book().\n",
    "\n",
    "Subclasses (PublicLibrary and UniversityLibrary) inherit from LibrarySystem and provide their specific implementations for the abstract methods.\n",
    "\n",
    "Each subclass implements the add_book() and borrow_book() methods according to their specific rules (e.g., book availability).\n",
    "\n",
    "Instances of PublicLibrary and UniversityLibrary demonstrate the usage of these methods for managing books in their respective libraries.\n",
    "\n",
    "This class hierarchy showcases abstraction by defining common methods in the abstract base class LibrarySystem. Subclasses provide their implementations for these methods, ensuring adherence to the common interface while allowing specific behavior for each type of library system."
   ]
  },
  {
   "cell_type": "markdown",
   "id": "6430b5f3-1165-44aa-9ed7-9ca02037b6b4",
   "metadata": {},
   "source": [
    "**Q20. Describe the concept of method abstraction in Python and how it relates to polymorphism.**"
   ]
  },
  {
   "cell_type": "markdown",
   "id": "35834c39-b849-4bfa-8054-566e66a6c29f",
   "metadata": {},
   "source": [
    "Method abstraction in Python involves hiding the implementation details of methods and focusing solely on defining the method's signature or interface. This concept is closely related to polymorphism as it enables different classes to provide their own implementations for the same method signature, allowing objects of different types to be treated uniformly.\n",
    "\n",
    "Method abstraction involves defining methods in an abstract or generic manner, without specifying their implementation details.\n",
    "\n",
    "In Python, abstraction is achieved using abstract methods, which are declared in abstract base classes (ABCs) using the @abstractmethod decorator from the abc module. These methods have no implementation in the base class and must be overridden in subclasses.\n",
    "\n",
    "Abstract methods define the structure or contract that subclasses must follow by providing their implementations, ensuring adherence to a common interface.\n",
    "\n",
    "Example:"
   ]
  },
  {
   "cell_type": "code",
   "execution_count": 11,
   "id": "0546c9eb-590a-4afb-bb04-9abcfd7041b9",
   "metadata": {},
   "outputs": [
    {
     "name": "stdout",
     "output_type": "stream",
     "text": [
      "Area of Circle: 78.53981633974483\n",
      "Area of Rectangle: 24\n"
     ]
    }
   ],
   "source": [
    "from abc import ABC, abstractmethod\n",
    "import math\n",
    "\n",
    "class Shape(ABC):  # Abstract base class defining a Shape\n",
    "    @abstractmethod\n",
    "    def calculate_area(self):\n",
    "        pass  # Abstract method for calculating area\n",
    "\n",
    "class Circle(Shape):  # Subclass representing a Circle\n",
    "    def __init__(self, radius):\n",
    "        self.radius = radius\n",
    "\n",
    "    def calculate_area(self):\n",
    "        return math.pi * self.radius * self.radius  # Implementation for area of a circle\n",
    "\n",
    "class Rectangle(Shape):  # Subclass representing a Rectangle\n",
    "    def __init__(self, length, width):\n",
    "        self.length = length\n",
    "        self.width = width\n",
    "\n",
    "    def calculate_area(self):\n",
    "        return self.length * self.width  # Implementation for area of a rectangle\n",
    "    \n",
    "# Usage of Circle and Rectangle classes adhering to the Shape interface\n",
    "circle = Circle(5)\n",
    "rectangle = Rectangle(4, 6)\n",
    "\n",
    "print(\"Area of Circle:\", circle.calculate_area())       \n",
    "print(\"Area of Rectangle:\", rectangle.calculate_area()) \n"
   ]
  },
  {
   "cell_type": "markdown",
   "id": "862f2a99-6d97-432f-8884-5427c1107575",
   "metadata": {},
   "source": [
    "In the above example, Shape is an abstract base class with an abstract method calculate_area().\n",
    "\n",
    "Circle and Rectangle subclasses inherit from Shape and provide their specific implementations for the calculate_area() method.\n",
    "\n",
    "When calling calculate_area() on objects of different types (Circle or Rectangle), the specific implementation corresponding to the object's type will be invoked, showcasing polymorphic behavior."
   ]
  },
  {
   "cell_type": "markdown",
   "id": "62372ae2-37c5-4fde-bba7-979b861859c6",
   "metadata": {},
   "source": [
    "# Composition:"
   ]
  },
  {
   "cell_type": "markdown",
   "id": "482b4803-34bc-4116-a2a4-46ebbd65a751",
   "metadata": {},
   "source": [
    "**Q1. Explain the concept of composition in Python and how it is used to build complex objects from simpler ones.**"
   ]
  },
  {
   "cell_type": "markdown",
   "id": "5756e260-6ac5-4cb5-b24d-7c9560868dea",
   "metadata": {},
   "source": [
    "Composition in Python refers to the design principle where complex objects are constructed by combining simpler objects as components. It allows building more complex structures by assembling or composing objects together to create a new entity. This is achieved by creating relationships between objects where one object contains another as a part, representing a \"has-a\" relationship\n",
    "\n",
    "1. Composition involves creating objects that encapsulate or contain other objects as their components. These component objects are combined to form more complex structures.\n",
    "\n",
    "2. Unlike inheritance (\"is-a\" relationship), composition signifies a \"has-a\" relationship, where an object contains or is composed of other objects. Example: A car \"has-a\" engine, a computer \"has-a\" motherboard, etc.\n",
    "\n",
    "3. Composition promotes code reusability by using existing objects as components to build new, more complex objects. It allows flexibility in changing or substituting components without affecting the overall structure.\n",
    "\n",
    "4. It encourages encapsulation by compartmentalizing functionalities into separate objects. Each component object has its own responsibilities, promoting modularity and enhancing maintainability.\n",
    "\n",
    "Example:"
   ]
  },
  {
   "cell_type": "code",
   "execution_count": 12,
   "id": "7bd25dcb-03d6-4889-b518-b57b2ea8c72f",
   "metadata": {},
   "outputs": [
    {
     "name": "stdout",
     "output_type": "stream",
     "text": [
      "Starting Toyota Corolla. Engine started. Fuel type: Petrol\n"
     ]
    }
   ],
   "source": [
    "class Engine:\n",
    "    def __init__(self, fuel_type):\n",
    "        self.fuel_type = fuel_type\n",
    "\n",
    "    def start(self):\n",
    "        return f\"Engine started. Fuel type: {self.fuel_type}\"\n",
    "\n",
    "class Car:\n",
    "    def __init__(self, make, model, fuel_type):\n",
    "        self.make = make\n",
    "        self.model = model\n",
    "        self.engine = Engine(fuel_type)  # Composition: Car has an Engine\n",
    "\n",
    "    def start_car(self):\n",
    "        return f\"Starting {self.make} {self.model}. {self.engine.start()}\"\n",
    "\n",
    "# Creating a Car object using composition\n",
    "my_car = Car(\"Toyota\", \"Corolla\", \"Petrol\")\n",
    "print(my_car.start_car())  "
   ]
  },
  {
   "cell_type": "markdown",
   "id": "05503fd5-10a4-4450-aff7-faa0df3e4770",
   "metadata": {},
   "source": [
    "In the qbove example, \"Engine\" and \"Car\" are classes representing simpler objects (components).\n",
    "\n",
    "The Car class includes an Engine object as an attribute (self.engine), showcasing composition.\n",
    "\n",
    "The Car object is composed of an Engine object, and the start_car() method of Car uses the start() method of the Engine object."
   ]
  },
  {
   "cell_type": "markdown",
   "id": "65016b31-06ac-4e19-b1e7-f39c0b3a341d",
   "metadata": {},
   "source": [
    "**Q2. Describe the difference between composition and inheritance in object-oriented programming.**"
   ]
  },
  {
   "cell_type": "markdown",
   "id": "26c66671-10f3-459f-8aa1-c3e333c3f95b",
   "metadata": {},
   "source": [
    "Composition:\n",
    "\n",
    "1. Composition involves constructing complex objects by combining or composing simpler objects as components. It signifies a \"has-a\" relationship, where an object contains other objects as parts or components.\n",
    "\n",
    "2. Composition establishes relationships by allowing one class to hold a reference to another class as a member attribute. The containing class (composite) contains an instance of the contained class (component) as an attribute.\n",
    "\n",
    "3. Composition promotes code reuse by using existing objects as components to build more complex objects. It enhances flexibility in changing or substituting components without affecting the overall structure.\n",
    "\n",
    "4. Composition provides more flexibility as components can be easily swapped or replaced at runtime. It encourages encapsulation and modularity by breaking functionalities into separate objects.\n",
    "\n",
    "Inheritance:\n",
    "\n",
    "1. Inheritance involves creating new classes (derived classes) that inherit properties and behaviors from existing classes (base or parent classes). It signifies an \"is-a\" relationship, where a derived class is a specialized version of its parent class.\n",
    "\n",
    "2. Inheritance establishes relationships by allowing a new class to inherit attributes and methods from an existing class. The derived class (subclass) inherits properties and behaviors from the base class (superclass).\n",
    "\n",
    "3. Inheritance Promotes code reuse by allowing subclasses to inherit attributes and methods from their parent class. Enables the reuse of existing code and functionalities defined in the base class.\n",
    "\n",
    "4. Supports extending the functionality of the base class by adding new attributes or methods or overriding existing ones in the subclass. Hierarchical structure allows building complex class hierarchies based on the concept of specialization.\n",
    "\n",
    "Differences:\n",
    "\n",
    "1. Composition establishes a \"has-a\" relationship between classes. Whereas, Inheritance establishes an \"is-a\" relationship between classes.\n",
    "\n",
    "2. Composition involves creating objects that contain other objects as parts. Whereas, Inheritance involves creating new classes based on existing classes, inheriting their attributes and behaviors.\n",
    "\n",
    "3. Composition offers more flexibility in changing components at runtime. Whereas, Inheritance provides extensibility by allowing subclasses to modify or extend the behavior of their parent class.\n",
    "\n",
    "4. Composition favors object composition and modular design. Whereas, Inheritance emphasizes code reuse and hierarchical class structures."
   ]
  },
  {
   "cell_type": "markdown",
   "id": "7db66156-fd6b-4854-893f-012c1b910163",
   "metadata": {},
   "source": [
    "**Q3. Create a Python class called `Author` with attributes for name and birthdate. Then, create a `Book` class that contains an instance of `Author` as a composition. Provide an example of creating a `Book` object.**"
   ]
  },
  {
   "cell_type": "code",
   "execution_count": 13,
   "id": "6916eeba-0785-44e0-b328-e516f2f71676",
   "metadata": {},
   "outputs": [
    {
     "name": "stdout",
     "output_type": "stream",
     "text": [
      "Book Title: Python Programming\n",
      "Author Name: Anmol Anand\n",
      "Author Birthdate: 2000-09-10\n"
     ]
    }
   ],
   "source": [
    "class Author:\n",
    "    def __init__(self, name, birthdate):\n",
    "        self.name = name\n",
    "        self.birthdate = birthdate\n",
    "\n",
    "class Book:\n",
    "    def __init__(self, title, author_name, author_birthdate):\n",
    "        self.title = title\n",
    "        self.author = Author(author_name, author_birthdate)  # Composition: Book has an Author\n",
    "\n",
    "# Creating a Book object using composition\n",
    "my_book = Book(\"Python Programming\", \"Anmol Anand\", \"2000-09-10\")\n",
    "print(f\"Book Title: {my_book.title}\")\n",
    "print(f\"Author Name: {my_book.author.name}\")\n",
    "print(f\"Author Birthdate: {my_book.author.birthdate}\")\n"
   ]
  },
  {
   "cell_type": "markdown",
   "id": "50bed969-d00b-411c-bd8a-15a6b902a6a5",
   "metadata": {},
   "source": [
    "**Explanation:**\n",
    "\n",
    "\"Author\" class represents an author with attributes for name and birthdate.\n",
    "\n",
    "\"Book\" class contains an instance of Author as a composition using the Author class within its definition.\n",
    "\n",
    "In the \"Book\" class, the author attribute holds an instance of the Author class.\n",
    "\n",
    "The Book class constructor (`__init__`) takes arguments for title, author_name, and author_birthdate to create a Book object with its associated Author object.\n",
    "\n",
    "An instance of the Book class, my_book, is created, demonstrating the use of composition to associate an Author instance with a Book instance.\n"
   ]
  },
  {
   "cell_type": "markdown",
   "id": "401f457d-03c9-430b-85d4-9bd606d56dc2",
   "metadata": {},
   "source": [
    "**Q4. Discuss the benefits of using composition over inheritance in Python, especially in terms of code flexibility and reusability.**"
   ]
  },
  {
   "cell_type": "markdown",
   "id": "d15decfe-f63a-4c20-a962-f9c7def86603",
   "metadata": {},
   "source": [
    "Using composition over inheritance in Python offers several advantages, particularly concerning code flexibility and reusability:\n",
    "\n",
    "Enhanced Flexibility:\n",
    "1. Composition allows objects to change their composition at runtime, enabling dynamic relationships between classes.\n",
    "\n",
    "2. Objects can easily switch or substitute components, offering more flexibility in changing behaviors or functionalities.\n",
    "\n",
    "3. Components are loosely coupled, reducing dependencies and making changes less impactful on the overall structure.\n",
    "\n",
    "Improved Code Reusability:\n",
    "\n",
    "1. Composition promotes better encapsulation by compartmentalizing functionalities into separate components, increasing code reusability.\n",
    "\n",
    "2. Smaller, focused components can be reused in various contexts, reducing redundancy and enhancing reusability.\n",
    "\n",
    "Improved Maintainability:\n",
    "\n",
    "1. Smaller, more focused components are easier to understand, maintain, and debug.\n",
    "\n",
    "2.  Changes made to a specific component have a localized impact, making the codebase more manageable.\n",
    "\n",
    "Better Testing and Debugging:\n",
    "\n",
    "1. Components can be independently tested, facilitating modular testing of individual functionalities.\n",
    "\n",
    "2. Isolated components simplify debugging by localizing issues to specific areas of the code."
   ]
  },
  {
   "cell_type": "markdown",
   "id": "5bd3d874-1e37-4cbe-a8af-54a9148ae179",
   "metadata": {},
   "source": [
    "**Q5. How can you implement composition in Python classes? Provide examples of using composition to create complex objects.**"
   ]
  },
  {
   "cell_type": "markdown",
   "id": "3d85cb4d-da3a-4d87-95a2-c77b32c983d7",
   "metadata": {},
   "source": [
    "In Python, composition can be implemented by creating classes that contain instances of other classes as attributes. These attributes represent the components or parts of the containing class. \n",
    "\n",
    "Below is an example demonstrating composition to create complex objects:"
   ]
  },
  {
   "cell_type": "code",
   "execution_count": 14,
   "id": "a1eafe96-9d6d-41eb-86cb-b19590b01df9",
   "metadata": {},
   "outputs": [
    {
     "name": "stdout",
     "output_type": "stream",
     "text": [
      "Car is in motion. Engine started. Fuel type: Petrol and Wheels rolling. Size: 18\n"
     ]
    }
   ],
   "source": [
    "class Engine:\n",
    "    def __init__(self, fuel_type):\n",
    "        self.fuel_type = fuel_type\n",
    "\n",
    "    def start(self):\n",
    "        return f\"Engine started. Fuel type: {self.fuel_type}\"\n",
    "\n",
    "class Wheels:\n",
    "    def __init__(self, size):\n",
    "        self.size = size\n",
    "\n",
    "    def roll(self):\n",
    "        return f\"Wheels rolling. Size: {self.size}\"\n",
    "\n",
    "class Car:\n",
    "    def __init__(self, engine_fuel, wheel_size):\n",
    "        self.engine = Engine(engine_fuel)  # Composition: Car has an Engine\n",
    "        self.wheels = Wheels(wheel_size)  # Composition: Car has Wheels\n",
    "\n",
    "    def drive(self):\n",
    "        return f\"Car is in motion. {self.engine.start()} and {self.wheels.roll()}\"\n",
    "\n",
    "# Creating a complex object (Car) using composition\n",
    "my_car = Car(\"Petrol\", 18)\n",
    "print(my_car.drive()) "
   ]
  },
  {
   "cell_type": "markdown",
   "id": "fc03d14e-8993-4b87-933c-cba2e84597f7",
   "metadata": {},
   "source": [
    "**Explanation:**\n",
    "\n",
    "Engine class represents an engine with a specific fuel_type and contains a start() method that returns a message indicating the engine has started with its fuel type.\n",
    "\n",
    "Wheels class represents wheels with a specific size and contains a roll() method that returns a message indicating the wheels are rolling with their size.\n",
    "\n",
    "Car class uses composition by creating instances of Engine and Wheels within its constructor. It initializes a Car object with an Engine instance (initialized with the given engine_fuel) and a Wheels instance (initialized with the given wheel_size).\n",
    "\n",
    "drive() method in Car combines the functionality of the engine starting (engine.start()) and the wheels rolling (wheels.roll()) to simulate the car in motion. It returns a message indicating the car is in motion, incorporating the messages from the engine and wheels.\n",
    "\n",
    "A Car object my_car is created with an engine fueled by \"Petrol\" and wheels with a size of 18.\n",
    "\n",
    "The drive() method of my_car is called, which internally calls the start() method of the engine and the roll() method of the wheels.\n",
    "\n",
    "The output of my_car.drive() combines the messages from the engine and wheels to indicate that the car is in motion with specific details about the engine's fuel type and the wheels' size."
   ]
  },
  {
   "cell_type": "markdown",
   "id": "de7e4f0b-f5d0-47f0-9bc9-1a1a23f3b6c5",
   "metadata": {},
   "source": [
    "**Q6. Create a Python class hierarchy for a music player system, using composition to represent playlists and songs.**"
   ]
  },
  {
   "cell_type": "code",
   "execution_count": 23,
   "id": "0ae28fc4-9e32-463b-9318-0f9f84441774",
   "metadata": {},
   "outputs": [
    {
     "name": "stdout",
     "output_type": "stream",
     "text": [
      "Playlist: My Favorites\n",
      "Playing 'Shape of You' by Ed Sheeran (4:23)\n",
      "Playing 'Dance Monkey' by Tones and I (3:30)\n",
      "Playing 'Believer' by Imagine Dragons (3:24)\n",
      "\n"
     ]
    }
   ],
   "source": [
    "class Song:\n",
    "    def __init__(self, title, artist, duration):\n",
    "        self.title = title\n",
    "        self.artist = artist\n",
    "        self.duration = duration\n",
    "\n",
    "    def play(self):\n",
    "        return f\"Playing '{self.title}' by {self.artist} ({self.duration})\"\n",
    "\n",
    "class Playlist:\n",
    "    def __init__(self, name):\n",
    "        self.name = name\n",
    "        self.songs = []  # List to store Song objects\n",
    "\n",
    "    def add_song(self, song):\n",
    "        if isinstance(song, Song):\n",
    "            self.songs.append(song)\n",
    "            return f\"Added '{song.title}' to '{self.name}' playlist\"\n",
    "        else:\n",
    "            return \"Invalid song\"\n",
    "\n",
    "    def play_all(self):\n",
    "        if not self.songs:\n",
    "            return f\"No songs in '{self.name}' playlist\"\n",
    "        else:\n",
    "            playlist_info = f\"Playlist: {self.name}\\n\"\n",
    "            for song in self.songs:\n",
    "                playlist_info += song.play() + \"\\n\"\n",
    "            return playlist_info\n",
    "\n",
    "# Creating Song instances\n",
    "song1 = Song(\"Shape of You\", \"Ed Sheeran\", \"4:23\")\n",
    "song2 = Song(\"Dance Monkey\", \"Tones and I\", \"3:30\")\n",
    "song3 = Song(\"Believer\", \"Imagine Dragons\", \"3:24\")\n",
    "\n",
    "# Creating Playlist instance and adding songs\n",
    "my_playlist = Playlist(\"My Favorites\")\n",
    "my_playlist.add_song(song1)\n",
    "my_playlist.add_song(song2)\n",
    "my_playlist.add_song(song3)\n",
    "\n",
    "# Playing songs in the playlist\n",
    "print(my_playlist.play_all())"
   ]
  },
  {
   "cell_type": "markdown",
   "id": "5e8767ed-95c9-4205-b9e4-d0560bfce963",
   "metadata": {},
   "source": [
    "**Explanation:**\n",
    "\n",
    "\"Song\" class represents a song with attributes like title, artist, and duration. It has a \"play()\" method to simulate playing the song.\n",
    "\n",
    "\"Playlist\" class models a playlist containing a list of Song objects.\n",
    "\n",
    "The \"add_song()\" method in the Playlist class adds a song (if it's a valid Song object) to the playlist's list of songs.\n",
    "\n",
    "The play_all() method plays all the songs in the playlist by invoking the play() method of each song and generating a playlist information string.\n",
    "\n",
    "Instances of Song (e.g., song1, song2, song3) are created.\n",
    "\n",
    "An instance of Playlist named my_playlist is created and songs are added to it using add_song().\n",
    "\n",
    "Finally, my_playlist.play_all() is called to play all songs in the playlist."
   ]
  },
  {
   "cell_type": "markdown",
   "id": "187f564e-41cf-465b-a5b9-68cb0f4d3859",
   "metadata": {},
   "source": [
    "**Q7. Explain the concept of \"has-a\" relationships in composition and how it helps design software systems.**"
   ]
  },
  {
   "cell_type": "markdown",
   "id": "fe119b7a-9768-4d35-b380-7113ad364c19",
   "metadata": {},
   "source": [
    "The \"has-a\" relationship is a fundamental concept in object-oriented programming that describes a relationship between classes where one class contains or is composed of another class as a part or component. This relationship is the core of composition, where a class has references to other classes as attributes, thus forming a composite object.\n",
    "\n",
    "Benefits of \"has-a\" Relationships in Software Design:\n",
    "\n",
    "1. \"has-a\" Relationships facilitates easy modification and extension of software systems by allowing components to be swapped, replaced, or extended.\n",
    "\n",
    "2. \"has-a\" Relationships encourages modular design, enabling the reuse of components across different parts of the system. It promotes building complex systems from smaller, reusable components, enhancing maintainability.\n",
    "\n",
    "3. \"has-a\" Relationships fosters better design practices by promoting encapsulation, modularity, and separation of concerns. It helps in creating more manageable and maintainable codebases.\n",
    "\n",
    "4. \"has-a\" Relationships helps in managing and reducing complexity by breaking down functionalities into smaller, more manageable parts. It allows better understanding and maintenance of the codebase."
   ]
  },
  {
   "cell_type": "markdown",
   "id": "30ee1ca3-538a-4f2c-babc-f1c7d0ae0599",
   "metadata": {},
   "source": [
    "**Q8. Create a Python class for a computer system, using composition to represent components like CPU, RAM, and storage devices.**"
   ]
  },
  {
   "cell_type": "code",
   "execution_count": 24,
   "id": "aa05c482-f32e-4122-a4fe-13b2d3412b71",
   "metadata": {},
   "outputs": [
    {
     "name": "stdout",
     "output_type": "stream",
     "text": [
      "Computer Specifications:\n",
      "CPU: Intel i7, Cores: 8\n",
      "RAM: 16GB, Speed: 2400MHz\n",
      "Storage: 2000TB, Type: SSD\n"
     ]
    }
   ],
   "source": [
    "class CPU:\n",
    "    def __init__(self, model, cores):\n",
    "        self.model = model\n",
    "        self.cores = cores\n",
    "\n",
    "    def get_info(self):\n",
    "        return f\"CPU: {self.model}, Cores: {self.cores}\"\n",
    "\n",
    "class RAM:\n",
    "    def __init__(self, capacity_GB, speed_MHz):\n",
    "        self.capacity_GB = capacity_GB\n",
    "        self.speed_MHz = speed_MHz\n",
    "\n",
    "    def get_info(self):\n",
    "        return f\"RAM: {self.capacity_GB}GB, Speed: {self.speed_MHz}MHz\"\n",
    "\n",
    "class Storage:\n",
    "    def __init__(self, capacity_TB, type):\n",
    "        self.capacity_TB = capacity_TB\n",
    "        self.type = type\n",
    "\n",
    "    def get_info(self):\n",
    "        return f\"Storage: {self.capacity_TB}TB, Type: {self.type}\"\n",
    "\n",
    "class Computer:\n",
    "    def __init__(self, cpu_model, cpu_cores, ram_capacity, ram_speed, storage_capacity, storage_type):\n",
    "        self.cpu = CPU(cpu_model, cpu_cores)  # Composition: Computer has a CPU\n",
    "        self.ram = RAM(ram_capacity, ram_speed)  # Composition: Computer has RAM\n",
    "        self.storage = Storage(storage_capacity, storage_type)  # Composition: Computer has Storage\n",
    "\n",
    "    def get_specs(self):\n",
    "        cpu_info = self.cpu.get_info()\n",
    "        ram_info = self.ram.get_info()\n",
    "        storage_info = self.storage.get_info()\n",
    "        return f\"Computer Specifications:\\n{cpu_info}\\n{ram_info}\\n{storage_info}\"\n",
    "\n",
    "# Creating a Computer object using composition\n",
    "my_computer = Computer(\"Intel i7\", 8, 16, 2400, 2000, \"SSD\")\n",
    "print(my_computer.get_specs())"
   ]
  },
  {
   "cell_type": "markdown",
   "id": "34f5f190-2278-43f7-a5be-3b349ced0372",
   "metadata": {},
   "source": [
    "**Explanation:**\n",
    "\n",
    "CPU, RAM, and Storage classes represent the components of a computer system.\n",
    "\n",
    "Each component class (CPU, RAM, Storage) has specific attributes and a get_info() method to retrieve component information.\n",
    "\n",
    "The Computer class uses composition by instantiating CPU, RAM, and Storage objects as attributes within its constructor.\n",
    "\n",
    "The get_specs() method in Computer retrieves and displays the specifications of the computer by invoking the get_info() methods of its components (CPU, RAM, Storage).\n",
    "\n",
    "Upon execution, my_computer.get_specs() will print the specifications of the computer, including CPU details, RAM details, and storage details, demonstrating how composition helps represent a complex object like a computer system composed of individual components."
   ]
  },
  {
   "cell_type": "markdown",
   "id": "e82dfda4-78b0-4cd3-91aa-099c8e2f4e68",
   "metadata": {},
   "source": [
    "**Q9. Describe the concept of \"delegation\" in composition and how it simplifies the design of complex systems.**"
   ]
  },
  {
   "cell_type": "markdown",
   "id": "7cec2ea7-7993-4a0f-a765-5ca1dcc8fa16",
   "metadata": {},
   "source": [
    "Delegation in composition refers to the process of forwarding or delegating responsibility for a particular task or functionality to another class or object that is composed within the containing class. It simplifies the design of complex systems by allowing a class to use and expose functionalities of its composed objects rather than implementing those functionalities itself.\n",
    "\n",
    "Delegation involves passing the responsibility of performing a specific task to another object that is part of the containing object. The containing object delegates tasks to its internal components instead of implementing those tasks directly.\n",
    "\n",
    "Each object has a well-defined responsibility, leading to a clear separation of concerns. The containing class focuses on coordinating and delegating tasks to its components, promoting a cleaner and more maintainable design.\n",
    "\n",
    "Delegation allows the reuse of functionalities provided by the composed objects, enhancing code reusability across various parts of the system. Components with specific functionalities can be reused in multiple contexts without rewriting the same logic.\n",
    "\n",
    "Delegation encourages loose coupling between the containing class and its components. The containing class does not directly depend on the internal implementations of its components, reducing dependencies and enhancing flexibility.\n",
    "\n",
    "Example:"
   ]
  },
  {
   "cell_type": "code",
   "execution_count": 25,
   "id": "97939536-dc1a-4f61-9508-d03951bfd135",
   "metadata": {},
   "outputs": [],
   "source": [
    "class PrintEngine:\n",
    "    def print_document(self, document):\n",
    "        # Logic to print the document\n",
    "        pass\n",
    "\n",
    "class Printer:\n",
    "    def __init__(self):\n",
    "        self.print_engine = PrintEngine()  # Composition: Printer has a PrintEngine\n",
    "\n",
    "    def print_document(self, document):\n",
    "        self.print_engine.print_document(document)  # Delegation: Delegating the print task to PrintEngine"
   ]
  },
  {
   "cell_type": "markdown",
   "id": "549581cb-e93d-4b09-a00f-e6ebaa6a4f29",
   "metadata": {},
   "source": [
    "In the above example, the Printer class delegates the print_document() task to the PrintEngine component. This approach simplifies the Printer class's responsibilities and allows the PrintEngine to handle the actual printing logic, promoting a more modular and maintainable design."
   ]
  },
  {
   "cell_type": "markdown",
   "id": "99667d62-4563-4173-b275-13e2e4a2de07",
   "metadata": {},
   "source": [
    "**Q10. Create a Python class for a car, using composition to represent components like the engine, wheels, and transmission.**"
   ]
  },
  {
   "cell_type": "code",
   "execution_count": 26,
   "id": "1dba32cb-f715-4385-b10d-dadede250ccf",
   "metadata": {},
   "outputs": [
    {
     "name": "stdout",
     "output_type": "stream",
     "text": [
      "Car is in motion. Engine started. Fuel type: Gasoline and Wheels rolling. Size: 18 and Transmission shifted to Automatic\n"
     ]
    }
   ],
   "source": [
    "class Engine:\n",
    "    def __init__(self, fuel_type):\n",
    "        self.fuel_type = fuel_type\n",
    "\n",
    "    def start(self):\n",
    "        return f\"Engine started. Fuel type: {self.fuel_type}\"\n",
    "\n",
    "class Wheels:\n",
    "    def __init__(self, size):\n",
    "        self.size = size\n",
    "\n",
    "    def roll(self):\n",
    "        return f\"Wheels rolling. Size: {self.size}\"\n",
    "\n",
    "class Transmission:\n",
    "    def __init__(self, transmission_type):\n",
    "        self.transmission_type = transmission_type\n",
    "\n",
    "    def shift_gear(self):\n",
    "        return f\"Transmission shifted to {self.transmission_type}\"\n",
    "\n",
    "class Car:\n",
    "    def __init__(self, engine_fuel, wheel_size, transmission_type):\n",
    "        self.engine = Engine(engine_fuel)  # Composition: Car has an Engine\n",
    "        self.wheels = Wheels(wheel_size)  # Composition: Car has Wheels\n",
    "        self.transmission = Transmission(transmission_type)  # Composition: Car has a Transmission\n",
    "\n",
    "    def drive(self):\n",
    "        engine_status = self.engine.start()\n",
    "        wheels_status = self.wheels.roll()\n",
    "        transmission_status = self.transmission.shift_gear()\n",
    "        return f\"Car is in motion. {engine_status} and {wheels_status} and {transmission_status}\"\n",
    "\n",
    "# Creating a Car object using composition\n",
    "my_car = Car(\"Gasoline\", 18, \"Automatic\")\n",
    "print(my_car.drive())\n"
   ]
  },
  {
   "cell_type": "markdown",
   "id": "8e4a1860-b7ec-49a3-8648-739137fa67fe",
   "metadata": {},
   "source": [
    "**Explanation:**\n",
    "\n",
    "Engine, Wheels, and Transmission classes represent the components of a car.\n",
    "\n",
    "Each component class has specific attributes and methods to simulate functionalities.\n",
    "\n",
    "The Car class uses composition by instantiating Engine, Wheels, and Transmission objects as attributes within its constructor.\n",
    "\n",
    "The drive() method in Car simulates the car in motion by invoking the methods of its components (Engine, Wheels, Transmission).\n",
    "\n",
    "Upon execution, my_car.drive() will simulate the car in motion by starting the engine, rolling the wheels, and shifting the transmission, demonstrating the concept of composition by assembling a complex object (Car) from simpler components (Engine, Wheels, Transmission)."
   ]
  },
  {
   "cell_type": "markdown",
   "id": "58c75ed1-dffc-4208-b71e-e6e665b9edca",
   "metadata": {},
   "source": [
    "**Q11. How can you encapsulate and hide the details of composed objects in Python classes to maintain abstraction?**"
   ]
  },
  {
   "cell_type": "markdown",
   "id": "75b48384-15e5-4560-b750-b4540e05e4ef",
   "metadata": {},
   "source": [
    "Encapsulation is a fundamental principle in object-oriented programming that involves bundling data (attributes) and methods that operate on that data within a single unit, which is a class in Python. In the context of composition, encapsulation helps in hiding the internal details of composed objects within a class to maintain abstraction.\n",
    "\n",
    "1. Use private attributes (attributes prefixed with a double underscore `__`) to restrict direct access from outside the class. Access to these attributes is typically controlled through getter and setter methods.\n",
    "\n",
    "2. Create getter and setter methods to access and modify the attributes of composed objects. Getter methods allow controlled access to the internal details, returning attribute values. Setter methods validate and set attribute values, ensuring encapsulation and abstraction.\n",
    "\n",
    "3. Expose only essential functionalities and hide unnecessary details of composed objects. Provide methods that offer the desired functionalities while hiding complex implementation details.\n",
    "\n",
    "4. By encapsulating the details of composed objects and providing controlled access through methods, the internal implementation details are hidden, ensuring abstraction and maintaining better control over the object's behavior and state."
   ]
  },
  {
   "cell_type": "markdown",
   "id": "9c0ccd7f-33fe-4b0f-8fd6-3b63d1773f21",
   "metadata": {},
   "source": [
    "**Q12. Create a Python class for a university course, using composition to represent students, instructors, and course materials.**"
   ]
  },
  {
   "cell_type": "code",
   "execution_count": 27,
   "id": "54834fd4-9fb9-4b90-8405-ac080a0de383",
   "metadata": {},
   "outputs": [
    {
     "name": "stdout",
     "output_type": "stream",
     "text": [
      "Course Name: Python Programming\n",
      "Instructor ID: 101, Name: Krish Naik\n",
      "Students:\n",
      "Student ID: 1, Name: Anmol\n",
      "Student ID: 2, Name: Anand\n",
      "Course Material: Introduction to Python\n"
     ]
    }
   ],
   "source": [
    "class Student:\n",
    "    def __init__(self, student_id, name):\n",
    "        self.student_id = student_id\n",
    "        self.name = name\n",
    "\n",
    "    def get_student_info(self):\n",
    "        return f\"Student ID: {self.student_id}, Name: {self.name}\"\n",
    "\n",
    "class Instructor:\n",
    "    def __init__(self, instructor_id, name):\n",
    "        self.instructor_id = instructor_id\n",
    "        self.name = name\n",
    "\n",
    "    def get_instructor_info(self):\n",
    "        return f\"Instructor ID: {self.instructor_id}, Name: {self.name}\"\n",
    "\n",
    "class CourseMaterial:\n",
    "    def __init__(self, material_name):\n",
    "        self.material_name = material_name\n",
    "\n",
    "    def get_material_info(self):\n",
    "        return f\"Course Material: {self.material_name}\"\n",
    "\n",
    "class UniversityCourse:\n",
    "    def __init__(self, course_name, instructor, students, course_material):\n",
    "        self.course_name = course_name\n",
    "        self.instructor = instructor  # Composition: UniversityCourse has an Instructor\n",
    "        self.students = students  # Composition: UniversityCourse has Students\n",
    "        self.course_material = course_material  # Composition: UniversityCourse has CourseMaterial\n",
    "\n",
    "    def get_course_details(self):\n",
    "        instructor_info = self.instructor.get_instructor_info()\n",
    "        student_info = \"\\n\".join([student.get_student_info() for student in self.students])\n",
    "        material_info = self.course_material.get_material_info()\n",
    "        return f\"Course Name: {self.course_name}\\n{instructor_info}\\nStudents:\\n{student_info}\\n{material_info}\"\n",
    "\n",
    "# Creating instances of Student, Instructor, and CourseMaterial\n",
    "student1 = Student(1, \"Anmol\")\n",
    "student2 = Student(2, \"Anand\")\n",
    "\n",
    "instructor = Instructor(101, \"Krish Naik\")\n",
    "\n",
    "material = CourseMaterial(\"Introduction to Python\")\n",
    "\n",
    "# Creating a UniversityCourse object using composition\n",
    "course = UniversityCourse(\"Python Programming\", instructor, [student1, student2], material)\n",
    "print(course.get_course_details())\n"
   ]
  },
  {
   "cell_type": "markdown",
   "id": "20ae9912-710b-4d72-af51-81c516446dc2",
   "metadata": {},
   "source": [
    "**Explanation:**\n",
    "\n",
    "Student, Instructor, and CourseMaterial classes represent components of a university course.\n",
    "\n",
    "Each class has attributes and methods to handle student information, instructor details, and course materials, respectively.\n",
    "\n",
    "The UniversityCourse class uses composition by including instances of Instructor, Student (list), and CourseMaterial as attributes.\n",
    "\n",
    "The get_course_details() method in UniversityCourse gathers information about the course, instructor, students, and course materials.\n",
    "\n",
    "Upon execution, course.get_course_details() will display the details of the university course, including the course name, instructor details, enrolled students' information, and course materials, showcasing the concept of composition in building a course object composed of various components like students, instructors, and materials."
   ]
  },
  {
   "cell_type": "markdown",
   "id": "d4b78027-e223-4667-b16a-e03d2e096292",
   "metadata": {},
   "source": [
    "**Q13. Discuss the challenges and drawbacks of composition, such as increased complexity and potential for tight coupling between objects.**"
   ]
  },
  {
   "cell_type": "markdown",
   "id": "10b7a7d0-1275-4b5f-9a14-c5ce8d0385ea",
   "metadata": {},
   "source": [
    "1. As systems grow, managing numerous composed objects might increase complexity, making code harder to understand and maintain. Managing interactions and dependencies between multiple components could become challenging.\n",
    "\n",
    "2. Inappropriately designed compositions might lead to tight coupling between objects. Changes in one component may require modifications in several other interconnected components, reducing flexibility and increasing interdependency.\n",
    "\n",
    "3. As the number of composed objects grows, creating and managing complex hierarchies becomes difficult. A deep hierarchy of composed objects might result in intricate relationships that are challenging to manage and debug.\n",
    "\n",
    "4. Managing dependencies between composed objects becomes crucial. Excessively interdependent objects may introduce cascading changes when modifications are made to one object, impacting others.\n",
    "\n",
    "5. While composition aims for encapsulation, improper usage can lead to abstraction leakage. The details of composed objects might unintentionally leak into the containing object, violating encapsulation and abstraction principles.\n",
    "\n",
    "6. Depending on the implementation, excessive composition might introduce a performance overhead due to increased object creation and method calls."
   ]
  },
  {
   "cell_type": "markdown",
   "id": "7040ccb7-749c-41c7-9ef6-f5739b241302",
   "metadata": {},
   "source": [
    "**Q14. Create a Python class hierarchy for a restaurant system, using composition to represent menus, dishes, and ingredients.**"
   ]
  },
  {
   "cell_type": "code",
   "execution_count": 28,
   "id": "1cee582f-fac4-4ed1-afe3-e24b3cd9365f",
   "metadata": {},
   "outputs": [
    {
     "name": "stdout",
     "output_type": "stream",
     "text": [
      "Menu: Lunch Menu\n",
      "Dishes:\n",
      "Dish: Margherita Pizza\n",
      "Ingredients:\n",
      "Ingredient: Tomato, Quantity: 2\n",
      "Ingredient: Cheese, Quantity: 200g\n",
      "\n",
      "Dish: Grilled Cheese Sandwich\n",
      "Ingredients:\n",
      "Ingredient: Cheese, Quantity: 200g\n",
      "Ingredient: Bread, Quantity: 4 slices\n"
     ]
    }
   ],
   "source": [
    "class Ingredient:\n",
    "    def __init__(self, name, quantity):\n",
    "        self.name = name\n",
    "        self.quantity = quantity\n",
    "\n",
    "    def get_info(self):\n",
    "        return f\"Ingredient: {self.name}, Quantity: {self.quantity}\"\n",
    "\n",
    "class Dish:\n",
    "    def __init__(self, name, ingredients):\n",
    "        self.name = name\n",
    "        self.ingredients = ingredients  # Composition: Dish has Ingredients\n",
    "\n",
    "    def get_dish_info(self):\n",
    "        ingredient_info = \"\\n\".join([ingredient.get_info() for ingredient in self.ingredients])\n",
    "        return f\"Dish: {self.name}\\nIngredients:\\n{ingredient_info}\"\n",
    "\n",
    "class Menu:\n",
    "    def __init__(self, name, dishes):\n",
    "        self.name = name\n",
    "        self.dishes = dishes  # Composition: Menu has Dishes\n",
    "\n",
    "    def get_menu_info(self):\n",
    "        dish_info = \"\\n\\n\".join([dish.get_dish_info() for dish in self.dishes])\n",
    "        return f\"Menu: {self.name}\\nDishes:\\n{dish_info}\"\n",
    "\n",
    "# Creating instances of Ingredients\n",
    "ingredient1 = Ingredient(\"Tomato\", \"2\")\n",
    "ingredient2 = Ingredient(\"Cheese\", \"200g\")\n",
    "ingredient3 = Ingredient(\"Bread\", \"4 slices\")\n",
    "\n",
    "# Creating instances of Dishes using Ingredients\n",
    "dish1 = Dish(\"Margherita Pizza\", [ingredient1, ingredient2])\n",
    "dish2 = Dish(\"Grilled Cheese Sandwich\", [ingredient2, ingredient3])\n",
    "\n",
    "# Creating a Menu composed of Dishes\n",
    "menu = Menu(\"Lunch Menu\", [dish1, dish2])\n",
    "print(menu.get_menu_info())"
   ]
  },
  {
   "cell_type": "markdown",
   "id": "cf0ad084-ec7e-48aa-a2c9-10f0598b7770",
   "metadata": {},
   "source": [
    "**Explanation:**\n",
    "\n",
    "Ingredient, Dish, and Menu classes represent components of a restaurant system.\n",
    "\n",
    "Ingredient class models individual ingredients with attributes like name and quantity.\n",
    "\n",
    "Dish class represents a dish composed of multiple Ingredient objects.\n",
    "\n",
    "Menu class represents a menu composed of multiple Dish objects.\n",
    "\n",
    "Composition is used to create relationships between these classes, where a menu has dishes, and dishes have ingredients.\n",
    "\n",
    "Upon execution, menu.get_menu_info() will display the details of the restaurant's menu, including the dishes and their respective ingredients, showcasing the concept of composition in a restaurant system composed of menus, dishes, and ingredients."
   ]
  },
  {
   "cell_type": "markdown",
   "id": "8fb852ea-075b-4ce1-ba37-d4c63fe2205a",
   "metadata": {},
   "source": [
    "**Q15. Explain how composition enhances code maintainability and modularity in Python programs.**"
   ]
  },
  {
   "cell_type": "markdown",
   "id": "dab981f2-29ca-434c-8554-e43255eebf56",
   "metadata": {},
   "source": [
    "1. Composition allows for encapsulating objects within other objects. Each object maintains its own state and behavior, abstracting away the complexities of its internal implementation.\n",
    "\n",
    "2. Objects interact through well-defined interfaces, providing an abstraction that hides implementation details and exposes only necessary functionalities.\n",
    "\n",
    "3. Composition enables breaking down complex systems into smaller, manageable components (objects), improving the code's organization and readability.\n",
    "\n",
    "4. Each object has a distinct responsibility, contributing to a clear separation of concerns. Modifications or enhancements can be localized to specific components without affecting the entire system.\n",
    "\n",
    "5. Composed objects can be reused in different contexts or within other objects, promoting reusability and reducing redundant code.\n",
    "\n",
    "6. Changes to one component's implementation usually don't affect other components, fostering flexibility in adapting and maintaining code.\n",
    "\n",
    "7.  Objects can be composed or replaced without affecting the overall system. Changes in one object do not necessitate changes in objects it's composed with, easing dependency management.\n",
    "\n",
    "8. Composition facilitates loose coupling between objects. It minimizes direct dependencies and allows for easy substitution or modification of individual components without impacting the entire system.\n",
    "\n",
    "9. A well-composed codebase leads to a clearer structure, making it easier for developers to understand and navigate through the code."
   ]
  },
  {
   "cell_type": "markdown",
   "id": "dbe42690-8bae-4452-b9db-8904c53d2a2b",
   "metadata": {},
   "source": [
    "**Q16. Create a Python class for a computer game character, using composition to represent attributes like weapons, armor, and inventory.**"
   ]
  },
  {
   "cell_type": "code",
   "execution_count": 29,
   "id": "69f95fd0-f400-4cd3-b342-320c1f5379c0",
   "metadata": {},
   "outputs": [
    {
     "name": "stdout",
     "output_type": "stream",
     "text": [
      "Character Name: Player\n",
      "Weapon: Sword, Damage: 20\n",
      "Armor: Shield, Defense: 10\n",
      "Inventory:\n",
      "Inventory Item: Med-kit, Quantity: 5\n",
      "Inventory Item: Bandage, Quantity: 3\n"
     ]
    }
   ],
   "source": [
    "class Weapon:\n",
    "    def __init__(self, name, damage):\n",
    "        self.name = name\n",
    "        self.damage = damage\n",
    "\n",
    "    def get_weapon_info(self):\n",
    "        return f\"Weapon: {self.name}, Damage: {self.damage}\"\n",
    "\n",
    "class Armor:\n",
    "    def __init__(self, name, defense):\n",
    "        self.name = name\n",
    "        self.defense = defense\n",
    "\n",
    "    def get_armor_info(self):\n",
    "        return f\"Armor: {self.name}, Defense: {self.defense}\"\n",
    "\n",
    "class InventoryItem:\n",
    "    def __init__(self, name, quantity):\n",
    "        self.name = name\n",
    "        self.quantity = quantity\n",
    "\n",
    "    def get_inventory_info(self):\n",
    "        return f\"Inventory Item: {self.name}, Quantity: {self.quantity}\"\n",
    "\n",
    "class GameCharacter:\n",
    "    def __init__(self, name, weapon, armor, inventory):\n",
    "        self.name = name\n",
    "        self.weapon = weapon  # Composition: GameCharacter has a Weapon\n",
    "        self.armor = armor  # Composition: GameCharacter has Armor\n",
    "        self.inventory = inventory  # Composition: GameCharacter has InventoryItem(s)\n",
    "\n",
    "    def get_character_info(self):\n",
    "        weapon_info = self.weapon.get_weapon_info()\n",
    "        armor_info = self.armor.get_armor_info()\n",
    "        inventory_info = \"\\n\".join([item.get_inventory_info() for item in self.inventory])\n",
    "        return f\"Character Name: {self.name}\\n{weapon_info}\\n{armor_info}\\nInventory:\\n{inventory_info}\"\n",
    "\n",
    "# Creating instances of Weapon, Armor, and InventoryItem\n",
    "sword = Weapon(\"Sword\", 20)\n",
    "shield = Armor(\"Shield\", 10)\n",
    "inventory_items = [InventoryItem(\"Med-kit\", 5), InventoryItem(\"Bandage\", 3)]\n",
    "\n",
    "# Creating a GameCharacter using composition\n",
    "player_character = GameCharacter(\"Player\", sword, shield, inventory_items)\n",
    "print(player_character.get_character_info())\n"
   ]
  },
  {
   "cell_type": "markdown",
   "id": "25940d32-d82d-4d92-95e2-1fdc39e4ee92",
   "metadata": {},
   "source": [
    "Explanation:\n",
    "\n",
    "Weapon, Armor, and InventoryItem classes represent components of a game character.\n",
    "\n",
    "Each class has attributes and methods to handle weapon, armor, and inventory-related functionalities.\n",
    "\n",
    "GameCharacter class represents the game character and uses composition by including instances of Weapon, Armor, and a list of InventoryItem objects as attributes.\n",
    "\n",
    "The get_character_info() method gathers information about the character's attributes and items.\n",
    "\n",
    "Upon execution, player_character.get_character_info() will display the details of the game character, including their weapon, armor, and inventory items, showcasing the concept of composition in representing attributes of a game character."
   ]
  },
  {
   "cell_type": "markdown",
   "id": "06ca54ea-1ac7-4ff4-8b62-caef18268543",
   "metadata": {},
   "source": [
    "**Q17. Describe the concept of \"aggregation\" in composition and how it differs from simple composition.**"
   ]
  },
  {
   "cell_type": "markdown",
   "id": "f95b60b8-d048-47c8-b404-458448d79b7b",
   "metadata": {},
   "source": [
    "In Python, aggregation, as a form of composition, refers to a relationship between objects where one object is a part of or is contained within another object, but the contained object can exist independently of the container. This differs from simple composition primarily in terms of the lifetime and ownership of the contained object.\n",
    "\n",
    "Aggregation in Python:\n",
    "\n",
    "1. In aggregation, the contained object has its own lifetime and can exist independently of the container object.\n",
    "\n",
    "2. The relationship is less restrictive. The container object may use the contained object, but it doesn’t have full responsibility or direct control over the lifecycle of the contained object.\n",
    "\n",
    "3. The contained object can be shared among multiple containers or exist separately, offering more flexibility and reusability.\n",
    "\n",
    "Simple Composition in Python:\n",
    "\n",
    "1. In simple composition, the contained object's lifetime is tightly bound to the container object. If the container is destroyed, the contained object is usually destroyed as well.\n",
    "\n",
    "2. The relationship between the container and the contained object is more close, with the container directly owning and managing the contained object.\n",
    "\n",
    "3. The container object has complete responsibility for the contained object's creation, usage, and destruction."
   ]
  },
  {
   "cell_type": "markdown",
   "id": "f2475f7f-edb7-4bc9-a059-9f44e35b16f5",
   "metadata": {},
   "source": [
    "**Q18. Create a Python class for a house, using composition to represent rooms, furniture, and appliances.**"
   ]
  },
  {
   "cell_type": "code",
   "execution_count": 1,
   "id": "03b32e00-f6f2-48bd-bb88-52f5a3021707",
   "metadata": {},
   "outputs": [
    {
     "name": "stdout",
     "output_type": "stream",
     "text": [
      "House at 123 Main Street:\n",
      "Living Room contains:\n",
      "Furniture:\n",
      "This is a Table\n",
      "This is a Sofa\n",
      "Appliances:\n",
      "This is a Television\n",
      "This is a Fridge\n"
     ]
    }
   ],
   "source": [
    "class Furniture:\n",
    "    def __init__(self, name):\n",
    "        self.name = name\n",
    "\n",
    "    def describe(self):\n",
    "        return f\"This is a {self.name}\"\n",
    "\n",
    "class Appliance:\n",
    "    def __init__(self, name):\n",
    "        self.name = name\n",
    "\n",
    "    def describe(self):\n",
    "        return f\"This is a {self.name}\"\n",
    "\n",
    "class Room:\n",
    "    def __init__(self, name):\n",
    "        self.name = name\n",
    "        self.furniture = []  # List to hold Furniture objects\n",
    "        self.appliances = []  # List to hold Appliance objects\n",
    "\n",
    "    def add_furniture(self, furniture):\n",
    "        self.furniture.append(furniture)  # Composition: Room has Furniture\n",
    "\n",
    "    def add_appliance(self, appliance):\n",
    "        self.appliances.append(appliance)  # Composition: Room has Appliance\n",
    "\n",
    "    def describe_contents(self):\n",
    "        furniture_desc = \"\\n\".join([item.describe() for item in self.furniture])\n",
    "        appliance_desc = \"\\n\".join([item.describe() for item in self.appliances])\n",
    "        return f\"{self.name} contains:\\nFurniture:\\n{furniture_desc}\\nAppliances:\\n{appliance_desc}\"\n",
    "\n",
    "class House:\n",
    "    def __init__(self, address):\n",
    "        self.address = address\n",
    "        self.rooms = {}  # Dictionary to hold Room objects\n",
    "\n",
    "    def add_room(self, room_name):\n",
    "        self.rooms[room_name] = Room(room_name)  # Composition: House has Room\n",
    "\n",
    "    def add_furniture_to_room(self, room_name, furniture):\n",
    "        if room_name in self.rooms:\n",
    "            self.rooms[room_name].add_furniture(furniture)\n",
    "\n",
    "    def add_appliance_to_room(self, room_name, appliance):\n",
    "        if room_name in self.rooms:\n",
    "            self.rooms[room_name].add_appliance(appliance)\n",
    "\n",
    "    def describe_house_contents(self):\n",
    "        room_desc = \"\\n\\n\".join([room.describe_contents() for room in self.rooms.values()])\n",
    "        return f\"House at {self.address}:\\n{room_desc}\"\n",
    "\n",
    "# Creating instances of Furniture, Appliance, Room, and House\n",
    "table = Furniture(\"Table\")\n",
    "sofa = Furniture(\"Sofa\")\n",
    "tv = Appliance(\"Television\")\n",
    "fridge = Appliance(\"Fridge\")\n",
    "\n",
    "my_house = House(\"123 Main Street\")\n",
    "my_house.add_room(\"Living Room\")\n",
    "my_house.add_furniture_to_room(\"Living Room\", table)\n",
    "my_house.add_furniture_to_room(\"Living Room\", sofa)\n",
    "my_house.add_appliance_to_room(\"Living Room\", tv)\n",
    "my_house.add_appliance_to_room(\"Living Room\", fridge)\n",
    "\n",
    "print(my_house.describe_house_contents())\n"
   ]
  },
  {
   "cell_type": "markdown",
   "id": "1dba29aa-4fdf-493a-8a7e-6fc190db3fe1",
   "metadata": {},
   "source": [
    "**Explanation:**\n",
    "\n",
    "The above example represents a \"House\" class that contains Room objects, each Room containing Furniture and Appliance objects. \n",
    "\n",
    "The House class utilizes composition by holding references to Room objects, and each Room object contains lists of Furniture and Appliance objects. \n",
    "\n",
    "Upon execution, my_house.describe_house_contents() will display the contents of the house, including the rooms, furniture, and appliances."
   ]
  },
  {
   "cell_type": "markdown",
   "id": "b258c6be-e7ff-4bb3-8c81-a21b403c3a61",
   "metadata": {},
   "source": [
    "**Q19. How can you achieve flexibility in composed objects by allowing them to be replaced or modified\n",
    "dynamically at runtime?**"
   ]
  },
  {
   "cell_type": "markdown",
   "id": "c40781a7-317a-4bec-9388-034f75f4ecc4",
   "metadata": {},
   "source": [
    "In Python, achieving flexibility in composed objects to be replaced or modified dynamically at runtime involves leveraging the language's dynamic nature and flexibility in handling objects.\n",
    "\n",
    "1. Define mutable properties within the containing object, allowing components to be modified or replaced at runtime. Use setter methods to dynamically update or replace the components.\n",
    "\n",
    "2. Pass components as arguments to the constructor or setter methods, allowing components to be replaced or modified dynamically. Use interfaces or common base classes to ensure compatibility when swapping components.\n",
    "\n",
    "3. Modify class attributes or methods dynamically at runtime using Python's dynamic capabilities (e.g., setattr() function). This approach allows for altering class attributes or methods during program execution.\n",
    "\n",
    "4. Define algorithms or behaviors as separate classes and inject them into the containing object, enabling dynamic changes in behavior at runtime. Use a factory to create instances of components, allowing flexibility in object creation and substitution."
   ]
  },
  {
   "cell_type": "markdown",
   "id": "7fd75cfc-3de8-41e5-a6eb-c744fb00cb3f",
   "metadata": {},
   "source": [
    "**Q20. Create a Python class for a social media application, using composition to represent users, posts, and comments.**"
   ]
  },
  {
   "cell_type": "code",
   "execution_count": 4,
   "id": "138e9cfb-6827-429f-ba63-1deaa186b951",
   "metadata": {},
   "outputs": [
    {
     "name": "stdout",
     "output_type": "stream",
     "text": [
      "Post content by Anmol: 'This is my first post!'\n",
      "Comments on the post:\n",
      "Great post!\n",
      "Thanks!\n"
     ]
    }
   ],
   "source": [
    "class Comment:\n",
    "    def __init__(self, text, user):\n",
    "        self.text = text\n",
    "        self.user = user\n",
    "\n",
    "    def __str__(self):\n",
    "        return f\"Comment by {self.user}: '{self.text}'\"\n",
    "\n",
    "class Post:\n",
    "    def __init__(self, content, user):\n",
    "        self.content = content\n",
    "        self.user = user\n",
    "        self.comments = []  # List to hold Comment objects\n",
    "\n",
    "    def add_comment(self, text, user):\n",
    "        new_comment = Comment(text, user)\n",
    "        self.comments.append(new_comment)\n",
    "\n",
    "    def show_comments(self):\n",
    "        return '\\n'.join(comment.text for comment in self.comments)\n",
    "\n",
    "class User:\n",
    "    def __init__(self, username):\n",
    "        self.username = username\n",
    "\n",
    "    def create_post(self, content):\n",
    "        new_post = Post(content, self.username)\n",
    "        return new_post\n",
    "\n",
    "# Creating instances of User, Post, and Comment\n",
    "user1 = User(\"Anmol\")\n",
    "user2 = User(\"Anand\")\n",
    "\n",
    "post1 = user1.create_post(\"This is my first post!\")\n",
    "post1.add_comment(\"Great post!\", user2)\n",
    "post1.add_comment(\"Thanks!\", user1)\n",
    "\n",
    "print(f\"Post content by {post1.user}: '{post1.content}'\")\n",
    "print(f\"Comments on the post:\\n{post1.show_comments()}\")"
   ]
  },
  {
   "cell_type": "markdown",
   "id": "2464b077-d234-411d-8bef-10c346e499cd",
   "metadata": {},
   "source": [
    "**Explanation:**\n",
    "\n",
    "Comment class represents comments made by users. Each comment contains text and the user who made the comment.\n",
    "\n",
    "Post class represents posts made by users. Each post contains content, the user who made the post, and a list of comments.\n",
    "\n",
    "User class represents users of the social media application. Users can create posts, and each post can have multiple comments.\n",
    "\n",
    "The example demonstrates the composition relationship, where a Post contains Comment objects and a User can create posts. This structure allows users to create posts and add comments to them within the social media application."
   ]
  }
 ],
 "metadata": {
  "kernelspec": {
   "display_name": "Python 3 (ipykernel)",
   "language": "python",
   "name": "python3"
  },
  "language_info": {
   "codemirror_mode": {
    "name": "ipython",
    "version": 3
   },
   "file_extension": ".py",
   "mimetype": "text/x-python",
   "name": "python",
   "nbconvert_exporter": "python",
   "pygments_lexer": "ipython3",
   "version": "3.10.8"
  }
 },
 "nbformat": 4,
 "nbformat_minor": 5
}
