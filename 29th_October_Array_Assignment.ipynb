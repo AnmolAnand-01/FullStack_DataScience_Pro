{
 "cells": [
  {
   "cell_type": "markdown",
   "id": "89cea187-9f6a-4f8e-a423-378e20712eb0",
   "metadata": {},
   "source": [
    "**1. Given an array, check if it contains any duplicates or not.**\n",
    "\n",
    "**arr = [1, 2, 4, 2, 5, 9]**\n",
    "\n",
    "**Output = True**"
   ]
  },
  {
   "cell_type": "code",
   "execution_count": 14,
   "id": "6eba0669-6f5e-41fb-a23a-3373af70a98a",
   "metadata": {},
   "outputs": [
    {
     "name": "stdout",
     "output_type": "stream",
     "text": [
      "True\n"
     ]
    }
   ],
   "source": [
    "def check_duplicate(arr):\n",
    "    for i in range(len(arr)):\n",
    "        for j in range(i+1, len(arr)):\n",
    "            if arr[i]==arr[j]:\n",
    "                return True\n",
    "    return False\n",
    "\n",
    "arr = [1, 2, 4, 2, 5, 9]\n",
    "result = check_duplicate(arr)\n",
    "print(result)"
   ]
  },
  {
   "cell_type": "markdown",
   "id": "9aa9540c-77d1-42da-909a-f35d87d48538",
   "metadata": {},
   "source": [
    "**Explanation:**\n",
    "\n",
    "function \"check_duplicate()\" accepts an array(list) as arguement and checks if there is any duplicate entry in the array.\n",
    "\n",
    "The function uses nested loops to compare each element in the array with all elements that come after it (avoiding rechecking pairs).\n",
    "\n",
    "The outer loop (for i in range(len(arr))) iterates through each element in the array.\n",
    "\n",
    "The inner loop (for j in range(i+1, len(arr))) starts from the next element (one step ahead of i) and checks for equality with the current element (arr[i]).\n",
    "\n",
    "If the same elements are found (i.e., arr[i] is equal to arr[j]), it means a duplicate exists, and the function returns True.\n",
    "\n",
    "If no duplicates are found after checking all combinations, the function returns False.\n",
    "\n",
    "For the provided arr = [1, 2, 4, 2, 5, 9], the function will return True because 2 appears twice in the array at indices 1 and 3, indicating the presence of a duplicate element. Therefore, the output of print(result) will be True.\n",
    "\n",
    "Time complexity is O(n^2) and Space complexity is O(1)"
   ]
  },
  {
   "cell_type": "markdown",
   "id": "fa09721b-709b-4a0c-ab3f-e55796a6837b",
   "metadata": {},
   "source": [
    "**2. Given an array and an integer k, rotate the array to the right by k steps.**\n",
    "\n",
    "**arr = [1, 2, 3, 4, 5, 6, 7] k = 3**\n",
    "\n",
    "**Output = [5, 6, 7, 1, 2, 3, 4]**"
   ]
  },
  {
   "cell_type": "code",
   "execution_count": 11,
   "id": "9c1df2ae-c367-445d-85ca-0b3071928fa8",
   "metadata": {},
   "outputs": [
    {
     "name": "stdout",
     "output_type": "stream",
     "text": [
      "Using built-in pop and insert methods of the list\n",
      "\n",
      "Rotated array:  [5, 6, 7, 1, 2, 3, 4]\n"
     ]
    }
   ],
   "source": [
    "print(\"Method1: Using built-in pop and insert methods of the list\\n\")\n",
    "\n",
    "def rotate_k_steps(arr, k):\n",
    "    \n",
    "    # To handle cases where k is larger than the array length\n",
    "    k = k % n\n",
    "    \n",
    "    for i in range(k):\n",
    "        temp=arr.pop(-1)   # Remove the last element of the array and store it in 'temp'\n",
    "        # print(temp)\n",
    "        arr.insert(0,temp)  # Insert the stored element ('temp') at the beginning of the array\n",
    "\n",
    "        # print(arr)\n",
    "        \n",
    "arr = [1, 2, 3, 4, 5, 6, 7] \n",
    "k = 3\n",
    "\n",
    "rotate_k_steps(arr, k)\n",
    "print(\"Rotated array: \",arr)"
   ]
  },
  {
   "cell_type": "markdown",
   "id": "b1e7085b-4ef1-4bd7-9532-89d2a661672f",
   "metadata": {},
   "source": [
    "**Explanation:**\n",
    "\n",
    "The \"rotate_k_steps()\" function first calculates the effective rotation amount by taking k modulo the length of the array to handle cases where k is larger than the array size..\n",
    "\n",
    "The for loop is running k times.\n",
    "\n",
    "Inside the loop \"temp = arr.pop(-1)\" Removes the last element from the array (arr) using arr.pop(-1). This element is temporarily stored in the variable temp.\n",
    "\n",
    "\"arr.insert(0, temp)\" Inserts the element stored in temp at the beginning of the array (arr) using arr.insert(0, temp). This action effectively shifts all elements to the right by one position.\n",
    "\n",
    "The for loop is runnink k times so the time complexity of for loop is O(k), but the time complexity of built-in \"pop()\" and \"insert()\" function is O(n), so the overall time complexity of this method is O(k*n) and the space complexity is O(1)."
   ]
  },
  {
   "cell_type": "code",
   "execution_count": 13,
   "id": "4970536a-ed9e-4141-87d6-7fcf172456b5",
   "metadata": {},
   "outputs": [
    {
     "name": "stdout",
     "output_type": "stream",
     "text": [
      "Method2\n",
      "\n",
      "[5, 6, 7, 1, 2, 3, 4]\n"
     ]
    }
   ],
   "source": [
    "print(\"Method2\\n\")\n",
    "\n",
    "def rotate_array(arr, k):\n",
    "    n = len(arr)\n",
    "    \n",
    "    # To handle cases where k is larger than the array length\n",
    "    k = k % n\n",
    "    \n",
    "    # Temporary array to store elements that need to be shifted\n",
    "    temp = [0] * k\n",
    "    \n",
    "    # Store the last k elements in temp array\n",
    "    for i in range(n - k, n):\n",
    "        temp[i - (n - k)] = arr[i]\n",
    "    \n",
    "    # Shift elements to the right to make space for rotated elements\n",
    "    for i in range(n - 1, k - 1, -1):\n",
    "        arr[i] = arr[i - k]\n",
    "    \n",
    "    # Copy elements from temp to the beginning of arr\n",
    "    for i in range(k):\n",
    "        arr[i] = temp[i]\n",
    "\n",
    "# Test case\n",
    "arr = [1, 2, 3, 4, 5, 6, 7]\n",
    "k = 3\n",
    "rotate_array(arr, k)\n",
    "print(arr)  \n"
   ]
  },
  {
   "cell_type": "markdown",
   "id": "7fbb5806-3735-419d-acd7-b5d591304b56",
   "metadata": {},
   "source": [
    "**Explanation:**\n",
    "\n",
    "The \"rotate_array()\" function first calculates the effective rotation amount by taking k modulo the length of the array to handle cases where k is larger than the array size.\n",
    "\n",
    "It creates a temporary array temp to store the last k elements of the array.\n",
    "\n",
    "Then it shifts the elements to the right within the original array to create space for the rotated elements.\n",
    "\n",
    "Finally, it copies the elements from the temporary array to the beginning of the original array to achieve the rotation.\n",
    "\n",
    "The Overall time complexity of this approach is O(k), where 'k' represents the number of steps to rotate the array and the space complexity of this approach is O(k)."
   ]
  },
  {
   "cell_type": "markdown",
   "id": "a325860a-1241-4110-b194-0e045de90952",
   "metadata": {},
   "source": [
    "**3. Reverse the given array in-place, means without using any extra data structure.**\n",
    "\n",
    "**arr = [2, 4, 5, 7, 9, 12]**\n",
    "\n",
    "**Output = [12, 9, 7, 5, 4, 2]**"
   ]
  },
  {
   "cell_type": "code",
   "execution_count": 20,
   "id": "f5b3afb6-66e9-4c51-bfff-daabdd234194",
   "metadata": {},
   "outputs": [
    {
     "name": "stdout",
     "output_type": "stream",
     "text": [
      "[8, 12, 9, 7, 5, 4, 2]\n"
     ]
    }
   ],
   "source": [
    "def reverse_array(arr):\n",
    "    n=len(arr)\n",
    "    \n",
    "    # Loop through the first half of the array\n",
    "    for i in range(int(n/2)):\n",
    "        # Swap elements symmetrically across the midpoint of the array\n",
    "        arr[i],arr[n-i-1]=arr[n-i-1],arr[i]\n",
    "        \n",
    "arr = [2, 4, 5, 7, 9, 12, 8]\n",
    "reverse_array(arr)\n",
    "print(arr)"
   ]
  },
  {
   "cell_type": "markdown",
   "id": "7edd46fa-1435-4e65-84da-823f1341640d",
   "metadata": {},
   "source": [
    "**Explanation:**\n",
    "\n",
    "\"reverse_array()\" function takes an input array arr and determines its length n.\n",
    "\n",
    "This function uses a for loop to iterate through the first half of the array (approximately n/2 iterations, considering integer division). The loop runs until just before the midpoint of the array.\n",
    "\n",
    "Within the loop it performs swapping of elements across the midpoint of the array using simultaneous assignment or tuple unpacking.\n",
    "\n",
    "For each iteration, it swaps arr[i] (element at index i) with arr[n - i - 1] (element at the symmetric index from the end of the array).\n",
    "\n",
    "This process continues until the loop reaches just before the midpoint of the array.\n",
    "\n",
    "After the loop completes, the entire array is reversed in place.\n",
    "\n",
    "The time complexity of this algorithm is O(n), where 'n' is the number of elements in the array and  the space complexity is O(1)."
   ]
  },
  {
   "cell_type": "markdown",
   "id": "ddf38bfc-0b38-4793-908c-d31eaa574450",
   "metadata": {},
   "source": [
    "**4. Given an array of integers, find the maximum element in an array**\n",
    "\n",
    "**arr = [10, 5, 20, 8, 15]**\n",
    "\n",
    "**Output = 20**"
   ]
  },
  {
   "cell_type": "code",
   "execution_count": 24,
   "id": "1d4f8802-d66d-4e3e-9c79-a1813251c85b",
   "metadata": {},
   "outputs": [
    {
     "name": "stdout",
     "output_type": "stream",
     "text": [
      "20\n"
     ]
    }
   ],
   "source": [
    "import sys\n",
    "\n",
    "def max_array(arr):\n",
    "    maxi = -sys.maxsize - 1 # Initializing maxi to the smallest possible integer value\n",
    "    \n",
    "    \n",
    "    for num in arr:\n",
    "        maxi = max(maxi,num)  # Updating maxi to the maximum value between the current maxi and the current array element\n",
    "        \n",
    "    return maxi\n",
    "        \n",
    "arr = [10, 5, 20, 8, 15]\n",
    "result=max_array(arr)\n",
    "print(result)"
   ]
  },
  {
   "cell_type": "markdown",
   "id": "6b7ec2ba-29f9-4bfc-80eb-594669ff8d0d",
   "metadata": {},
   "source": [
    "**Explanation:**\n",
    "\n",
    "\"import sys\" this line imports the sys module in Python.\n",
    "\n",
    "\"max_array()\" function takes an array 'arr' as input and aims to find the maximum value within the array.\n",
    "\n",
    "\"maxi = -sys.maxsize - 1\" initializes the maxi variable with the smallest possible integer value.\n",
    "\n",
    "The function iterates through each element \"num\" in the input array \"arr\" using a for loop.\n",
    "\n",
    "\"maxi = max(maxi, num)\" inside the loop, the function uses the max() function to compare the current value of maxi with the current array element num. It updates maxi to the maximum value between maxi and num. This way, maxi keeps track of the maximum value encountered so far while iterating through the array.\n",
    "\n",
    "After iterating through the entire array, the function returns the final value stored in maxi, which represents the maximum value found in the array.\n",
    "\n",
    "The time complexity of the function is O(n), where 'n' is the number of elements in the array and the space complexity is O(1)."
   ]
  },
  {
   "cell_type": "markdown",
   "id": "f0ed1c3c-2f18-4a7b-a706-c24f31fa2bd4",
   "metadata": {},
   "source": [
    "**5. Given a sorted array, remove the duplicate element without using any extra data structure.**\n",
    "\n",
    "**arr = [1, 1, 2, 2, 2, 3, 3, 4, 4, 4, 5, 5]**\n",
    "\n",
    "**Output = [1, 2, 3, 4, 5]**"
   ]
  },
  {
   "cell_type": "code",
   "execution_count": 11,
   "id": "669e7654-2e3e-4d05-8c8c-91e5b61adcf6",
   "metadata": {},
   "outputs": [
    {
     "name": "stdout",
     "output_type": "stream",
     "text": [
      "[1, 2, 3, 4, 5]\n"
     ]
    }
   ],
   "source": [
    "def remove_duplicate(arr):\n",
    "    \n",
    "    # Initialize a pointer to keep track of the non-duplicate element position\n",
    "    last_index=0\n",
    "    \n",
    "    # Iterate through the array starting from the second element\n",
    "    for i in range(1,len(arr)):\n",
    "        \n",
    "        # If the current element is different from the previous non-duplicate element\n",
    "        if arr[i]!=arr[last_index]:\n",
    "            \n",
    "            # Move the non-duplicate pointer forward\n",
    "            last_index+=1\n",
    "            \n",
    "            # Overwrite the element at the non-duplicate index with the current element\n",
    "            arr[last_index]=arr[i]\n",
    "    \n",
    "    # Slice the array to keep only unique elements\n",
    "    arr[:] = arr[:last_index + 1]\n",
    "\n",
    "arr = [1, 1, 2, 2, 2, 3, 3, 4, 4, 4, 5, 5]\n",
    "remove_duplicate(arr)\n",
    "print(arr)"
   ]
  },
  {
   "cell_type": "markdown",
   "id": "67e7d7ae-d828-4605-8d7d-bb35fb49ebb4",
   "metadata": {},
   "source": [
    "**Explanation:**\n",
    "\n",
    "The function \"remove_duplicate()\" attempts to remove duplicate elements from the sorted array in-place.\n",
    "\n",
    "It uses the \"two-pointer\" approach, where \"last_index\" is the pointer to keep track of the position where non-duplicate elements will be overwritten.\n",
    "\n",
    "The first loop iterates through the array, starting from the second element (i = 1), and compares the current element with the previous non-duplicate element. If the current element is different, it moves the last_index forward and overwrites the element at that position with the current element.\n",
    "\n",
    "After the first loop, the elements up to the last_index represent the unique elements in the array.\n",
    "\n",
    "Then we are using list slicing to keep only the unique elements in the array.\n",
    "\n",
    "The time complexity of this algorithm is O(n), where 'n' is the number of elements in the array and the space complexity is O(1)."
   ]
  },
  {
   "cell_type": "code",
   "execution_count": null,
   "id": "2b00f99b-6603-4c73-a7b9-c043f37cddbf",
   "metadata": {},
   "outputs": [],
   "source": []
  }
 ],
 "metadata": {
  "kernelspec": {
   "display_name": "Python 3 (ipykernel)",
   "language": "python",
   "name": "python3"
  },
  "language_info": {
   "codemirror_mode": {
    "name": "ipython",
    "version": 3
   },
   "file_extension": ".py",
   "mimetype": "text/x-python",
   "name": "python",
   "nbconvert_exporter": "python",
   "pygments_lexer": "ipython3",
   "version": "3.10.8"
  }
 },
 "nbformat": 4,
 "nbformat_minor": 5
}
