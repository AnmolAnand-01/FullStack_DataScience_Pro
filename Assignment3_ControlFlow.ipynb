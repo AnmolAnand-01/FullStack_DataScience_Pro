{
 "cells": [
  {
   "cell_type": "markdown",
   "id": "9640dea5-b372-4d6c-851c-2a080f00d688",
   "metadata": {},
   "source": [
    "# Basic If-Else Statements:"
   ]
  },
  {
   "cell_type": "markdown",
   "id": "828bfe18-6b04-41eb-957f-34a6bd4e7ac0",
   "metadata": {},
   "source": [
    "**1. Write a Python program to check if a given number is positive or negative.**"
   ]
  },
  {
   "cell_type": "code",
   "execution_count": 2,
   "id": "fcc4eaab-f134-4bfa-9c51-3760ce570a1c",
   "metadata": {},
   "outputs": [
    {
     "name": "stdin",
     "output_type": "stream",
     "text": [
      "Enter a number: 4\n"
     ]
    },
    {
     "name": "stdout",
     "output_type": "stream",
     "text": [
      "Entered number is a positive number\n"
     ]
    }
   ],
   "source": [
    "num=float(input(\"Enter a number:\")) #Taking the number as input from user \n",
    "\n",
    "if(num>0): #If the number is greater than 0 then it is positive.\n",
    "    print(\"Entered number is a positive number\")\n",
    "elif(num==0): #If the number is equal to 0 then it is zero.\n",
    "    print(\"Entered number is zero\")\n",
    "else: #else the number is negative.\n",
    "    print(\"Entered number is a negative number\")"
   ]
  },
  {
   "cell_type": "markdown",
   "id": "198299a2-b4c2-4591-aa7b-feb719d891a8",
   "metadata": {},
   "source": [
    "**Explanation:**\n",
    "\n",
    "We start by using the input() function to take the number as input from the user. The input() function returns a string, so we use float() to convert the input to floating-point numbers since a number cannot be string.\n",
    "\n",
    "Then we are using if-elif-else lader to check if the number is positive, negative, or zero.\n",
    "\n",
    "if the number is greater than 0 then it is positive.\n",
    "\n",
    "else if the number is equal to 0 then it is zero.\n",
    "\n",
    "numbers that donot satisfy any of the above two conditions, then it is negative.\n",
    "\n",
    "print() function is used to print the result."
   ]
  },
  {
   "cell_type": "markdown",
   "id": "1c3957c8-6bff-4ddf-8eca-77401fda6d6b",
   "metadata": {},
   "source": [
    "**2. Create a program that determines if a person is eligible to vote based on their age.**"
   ]
  },
  {
   "cell_type": "code",
   "execution_count": 3,
   "id": "074f225c-4a0f-4f00-b29a-2a878b3082b3",
   "metadata": {},
   "outputs": [
    {
     "name": "stdin",
     "output_type": "stream",
     "text": [
      "Enter Your age: 45\n"
     ]
    },
    {
     "name": "stdout",
     "output_type": "stream",
     "text": [
      "You are eligible to vote\n"
     ]
    }
   ],
   "source": [
    "age=int(input(\"Enter Your age:\")) #Taking the age as input from the user.\n",
    "if age>=18: #if the age is greater than or equal to 18, then the person can vote. \n",
    "    print(\"You are eligible to vote\")\n",
    "else: #else the person cannot vote.\n",
    "    print(\"You are not eligible to vote\")"
   ]
  },
  {
   "cell_type": "markdown",
   "id": "1371d845-868a-41bf-997d-fdf3692c81ae",
   "metadata": {},
   "source": [
    "**Explanation:**\n",
    "\n",
    "Here we are taking the age of the person as input fron the user.\n",
    "\n",
    "we are using input() function to take the user input. The input() function returns a string, so we use int() to convert the input to integers, since age of a person can not be string.\n",
    "\n",
    "Then using if-else blocks we are checking if the user can vote or not.\n",
    "\n",
    "If the age of the user is greater than or equal to 18, then the user can vote. \n",
    "\n",
    "else the user vannot vote.\n",
    "\n",
    "print() function is used to print the result."
   ]
  },
  {
   "cell_type": "markdown",
   "id": "ca068cc4-fc62-46ee-bc6c-0ef7376eb77c",
   "metadata": {},
   "source": [
    "**3. Develop a program to find the maximum of two numbers using if-else statements.**"
   ]
  },
  {
   "cell_type": "code",
   "execution_count": 4,
   "id": "a96a9369-6948-4bb7-8523-85c102671ae6",
   "metadata": {},
   "outputs": [
    {
     "name": "stdin",
     "output_type": "stream",
     "text": [
      "Enter the first number: 8\n",
      "Enter the second number: 90\n"
     ]
    },
    {
     "name": "stdout",
     "output_type": "stream",
     "text": [
      "The maximum number among 8.0 and 90.0 is: 90.0\n"
     ]
    }
   ],
   "source": [
    "#Taking the two numbers as input from the user.\n",
    "num1=float(input(\"Enter the first number:\"))\n",
    "num2=float(input(\"Enter the second number:\"))\n",
    "\n",
    "if num1>num2: #if num1 is greater than num2 then num1 is maximun.\n",
    "    print(\"The maximum number among {} and {} is: {}\".format(num1,num2,num1))\n",
    "elif num1<num2: ##if num2 is greater than num1 then num2 is maximun.\n",
    "    print(\"The maximum number among {} and {} is: {}\".format(num1,num2,num2))\n",
    "else: #else both the numbers are equal.\n",
    "    print(\"Both the numbers are equal\")"
   ]
  },
  {
   "cell_type": "markdown",
   "id": "1895ae4c-3e27-4459-ae1d-b4ed09572658",
   "metadata": {},
   "source": [
    "**Explanation:**\n",
    "\n",
    "We start by taking the two numbers as input from the userand storing them in variables \"num1\" and \"num2\".\n",
    "\n",
    "we are using input() function to take the user input. The input() function returns a string, so we use float() to convert the input to float, since numbers can not be string.\n",
    "\n",
    "Then we are using if-elif-else lader to find the maximum of the two number.\n",
    "\n",
    "If num1 is reater than num2 then num1 is maximun.\n",
    "\n",
    "Else if num2 is greater than num1 then num2 is maximun.\n",
    "\n",
    "Else both the numbers are equal.\n",
    "\n",
    "print() function is used to print the result."
   ]
  },
  {
   "cell_type": "markdown",
   "id": "a3ece382-54e6-44fe-bdee-5275f81705a2",
   "metadata": {},
   "source": [
    "**4. Write a Python script to classify a given year as a leap year or not.**"
   ]
  },
  {
   "cell_type": "code",
   "execution_count": 5,
   "id": "a5d51420-afba-419e-b711-5e4b7df55dbc",
   "metadata": {},
   "outputs": [
    {
     "name": "stdin",
     "output_type": "stream",
     "text": [
      "Enter the year to check for: 2004\n"
     ]
    },
    {
     "name": "stdout",
     "output_type": "stream",
     "text": [
      "2004 is leap year\n"
     ]
    }
   ],
   "source": [
    "year=int(input(\"Enter the year to check for:\")) #Taking the year as input from the user.\n",
    "\n",
    "if year%400 == 0: #If the year is exactly divisible by 400, then it is a leap year.\n",
    "    print(\"{} is leap year\".format(year))\n",
    "elif year%100 == 0: #if the year is exactly divisible by 100 but not by 400, then it is not a leap year.\n",
    "    print(\"{} is not leap year\".format(year))\n",
    "elif year%4 == 0: #if the year is exactly divisible by 4, then it is a leap year.\n",
    "    print(\"{} is leap year\".format(year))\n",
    "else: #all other years are not a leap year.\n",
    "    print(\"{} is not leap year\".format(year))"
   ]
  },
  {
   "cell_type": "markdown",
   "id": "65113210-b8f9-4ed7-9c22-35dd744f795a",
   "metadata": {},
   "source": [
    "**Explanation:**\n",
    "\n",
    "We start by taking the year as input from the user and string it in a variable named \"year\".\n",
    "\n",
    "we are using input() function to take the user input. The input() function returns a string, so we use int() to convert the input to integer, since year can not be string.\n",
    "\n",
    "Then we are using if-elif-else lader to check for the leap year.\n",
    "\n",
    "If the year is exactly divisible by 400, then it is a leap year.\n",
    "\n",
    "else if the year is exactly divisible by 100 but not by 400, then it is not a leap year.\n",
    "\n",
    "else if the year is exactly divisible by 4, then it is a leap year.\n",
    "\n",
    "all other years are not a leap year.\n",
    "\n",
    "print() function is used to print the result."
   ]
  },
  {
   "cell_type": "markdown",
   "id": "b97dc3a7-e5c5-4562-aa02-02317f62eb64",
   "metadata": {},
   "source": [
    "**5. Create a program that checks whether a character is a vowel or a consonant.**"
   ]
  },
  {
   "cell_type": "code",
   "execution_count": 6,
   "id": "85c65f10-0cd8-48e3-b652-3b3242eb99fc",
   "metadata": {},
   "outputs": [
    {
     "name": "stdin",
     "output_type": "stream",
     "text": [
      "Enter a character: Q\n"
     ]
    },
    {
     "name": "stdout",
     "output_type": "stream",
     "text": [
      "'Q' is a consonant\n"
     ]
    }
   ],
   "source": [
    "char=input(\"Enter a character:\")#Taking the character as input from the user.\n",
    "\n",
    "#checking if the character is vowel(Lowercase/Uppercase) or consonant.\n",
    "if char in ('a', 'e', 'i', 'o', 'u') or char in ('A', 'E', 'I', 'O', 'U'): \n",
    "    print(\"'{}' is a vowel\".format(char))\n",
    "else:\n",
    "    print(\"'{}' is a consonant\".format(char))"
   ]
  },
  {
   "cell_type": "markdown",
   "id": "33b0dd83-b6d8-4fa1-9e9a-8af111155008",
   "metadata": {},
   "source": [
    "**Explanation:**\n",
    "\n",
    "Taking the character as input from the user.\n",
    "\n",
    "we are using input() function to take the user input. The input() function returns a string by default.\n",
    "\n",
    "Then we are using if-else block to check whether the entered character is a vowel(Lowercase/Uppercase) or a consonant.\n",
    "\n",
    "If the character is present in ('a', 'e', 'i', 'o', 'u') or ('A', 'E', 'I', 'O', 'U'), then the character is a vowel.\n",
    "\n",
    "else the character is a consonant.\n",
    "\n",
    "Finally we are printing the result using \"print()\" function and \"str.format()\" method of string formatting."
   ]
  },
  {
   "cell_type": "markdown",
   "id": "d63a3218-70f1-42b8-906c-8e2bcc397d0e",
   "metadata": {},
   "source": [
    "**6. Implement a program to determine whether a given number is even or odd.**"
   ]
  },
  {
   "cell_type": "code",
   "execution_count": 7,
   "id": "e5c8981e-ed33-4fb5-9d51-b317a4d40e16",
   "metadata": {},
   "outputs": [
    {
     "name": "stdin",
     "output_type": "stream",
     "text": [
      "Enter a number: 87\n"
     ]
    },
    {
     "name": "stdout",
     "output_type": "stream",
     "text": [
      "87 is a odd number\n"
     ]
    }
   ],
   "source": [
    "num=int(input(\"Enter a number:\"))#Taking the number as input from the user.\n",
    "\n",
    "#Checking whether the num is even or odd.\n",
    "if num%2==0:\n",
    "    print(\"{} is an even number\".format(num))\n",
    "else:\n",
    "    print(\"{} is a odd number\".format(num))"
   ]
  },
  {
   "cell_type": "markdown",
   "id": "2706b457-fd15-4330-8805-3a041a926638",
   "metadata": {},
   "source": [
    "**Explanation:**\n",
    "\n",
    "We start by taking the number as input from the user.\n",
    "\n",
    "we are using input() function to take the user input. The input() function returns a string, so we use int() to convert the input to integer, since a number can not be string.\n",
    "\n",
    "Then using if-else block we are checking whether the number is even or odd.\n",
    "\n",
    "If the number is exactly divisible by 2 then it is an evan number.\n",
    "\n",
    "Else the number is an odd number.\n",
    "\n",
    "Finally we are printing the result using \"print()\" function and \"str.format()\" method of string formatting."
   ]
  },
  {
   "cell_type": "markdown",
   "id": "2a013a25-9210-4647-9f12-4a05db559857",
   "metadata": {},
   "source": [
    "**7. Write a Python function to calculate the absolute value of a number without using the `abs()` function.**"
   ]
  },
  {
   "cell_type": "code",
   "execution_count": 8,
   "id": "daf22ae4-11dc-4694-978e-3733d88caa9c",
   "metadata": {},
   "outputs": [
    {
     "name": "stdin",
     "output_type": "stream",
     "text": [
      "Enter a number: -87.6\n"
     ]
    },
    {
     "name": "stdout",
     "output_type": "stream",
     "text": [
      "The absolute value of -87.6 is: 87.6\n"
     ]
    }
   ],
   "source": [
    "#defining a function that accepts a number as arguement and returns it's absolute value.\n",
    "def abs_val(num):\n",
    "    if num>=0:\n",
    "        return num\n",
    "    else:\n",
    "        return -num\n",
    "\n",
    "num=float(input(\"Enter a number:\"))#Taking the number as input from the user.\n",
    "\n",
    "absolute_Value=abs_val(num)#Calling the abs_val() function to get the absolute value of the number.\n",
    "print(\"The absolute value of {} is: {}\".format(num, absolute_Value)) #Printing the result."
   ]
  },
  {
   "cell_type": "markdown",
   "id": "8e6ccf39-3097-4867-b3ed-21bd5bfbb2c5",
   "metadata": {},
   "source": [
    "**Explanation:**\n",
    "\n",
    "Initially we have defined a function called abs_val() that accepts a number as arguement and returns it's absolute value.\n",
    "\n",
    "Inside the abs_val() function we are using if-else block to calculate the absolute value of the number. If the number is positive or zero then we are directly returning that number as absolute value. But if the number is negative then we are returnung negative of that negative number as the absolute value.\n",
    "\n",
    "We are taking the number as input from the user.\n",
    "\n",
    "we are using input() function to take the user input. The input() function returns a string, so we use float() to convert the input to float, since a number can not be string.\n",
    "\n",
    "Then we are calling the abs_val() function to get the absolute value of the number.\n",
    "\n",
    "Finally we are printing the result using \"print()\" function and \"str.format()\" method of string formatting."
   ]
  },
  {
   "cell_type": "markdown",
   "id": "ccff2f35-b335-43ea-8055-053e5ce89b35",
   "metadata": {},
   "source": [
    "**8. Develop a program that determines the largest of three given numbers using if-else statements.**"
   ]
  },
  {
   "cell_type": "code",
   "execution_count": 9,
   "id": "db995d4b-1144-4625-bb3b-68c043b97db1",
   "metadata": {},
   "outputs": [
    {
     "name": "stdin",
     "output_type": "stream",
     "text": [
      "Enter the first number: 4\n",
      "Enter the second number: 5\n",
      "Enter the third number: 6\n"
     ]
    },
    {
     "name": "stdout",
     "output_type": "stream",
     "text": [
      "The maximum number among 4.0, 5.0 and 6.0 is: 6.0\n"
     ]
    }
   ],
   "source": [
    "#taking the three numbers as input from the user.\n",
    "num1=float(input(\"Enter the first number:\"))\n",
    "num2=float(input(\"Enter the second number:\"))\n",
    "num3=float(input(\"Enter the third number:\"))\n",
    "\n",
    "#Using if-elif-else lader to find the maximum number among the three.\n",
    "if num1>=num2 and num1>=num3:\n",
    "    print(\"The maximum number among {}, {} and {} is: {}\".format(num1,num2,num3,num1))\n",
    "elif num1<=num2 and num2>=num3:\n",
    "    print(\"The maximum number among {}, {} and {} is: {}\".format(num1,num2,num3,num2))\n",
    "else:\n",
    "    print(\"The maximum number among {}, {} and {} is: {}\".format(num1,num2,num3,num3))"
   ]
  },
  {
   "cell_type": "markdown",
   "id": "07deb1a8-e5c0-4c2f-abdc-468cb71c7fb8",
   "metadata": {},
   "source": [
    "**Explanation:**\n",
    "\n",
    "We start by taking the three numbers as input from the user.\n",
    "\n",
    "we are using input() function to take the user input. The input() function returns a string, so we use float() to convert the input to float, since a number can not be string.\n",
    "\n",
    "Then we are Using if-elif-else lader to find the maximum number among the three.\n",
    "\n",
    "if \"num1>=num2\" and \"num1>=num3\" then num1 is the maximum number.\n",
    "\n",
    "else if \"num2>=num1\" and \"num2>=num3\" then num2 is the maximum number.\n",
    "\n",
    "If none of the above two blocks are executed then the \"else\" block is executed and the maximum number is num3.\n",
    "\n",
    "In this program if \"num1=num2=num3\" the the first \"if\" block will be execyted and num1 will be treated as maximum number.\n",
    "\n",
    "Finally we are printing the result using \"print()\" function and \"str.format()\" method of string formatting."
   ]
  },
  {
   "cell_type": "markdown",
   "id": "989f0a84-8c8a-4fcd-8e09-86e2d52d13cb",
   "metadata": {},
   "source": [
    "**9. Create a program that checks if a given string is a palindrome.**"
   ]
  },
  {
   "cell_type": "code",
   "execution_count": 10,
   "id": "b5e97fbc-7b38-4661-9327-9575b9a3e59c",
   "metadata": {},
   "outputs": [
    {
     "name": "stdin",
     "output_type": "stream",
     "text": [
      "Enter a string: QweEwq\n"
     ]
    },
    {
     "name": "stdout",
     "output_type": "stream",
     "text": [
      "\"QweEwq\" is not a Palindrom\n"
     ]
    }
   ],
   "source": [
    "input_str=input(\"Enter a string:\") #Taking the string as input from the user.\n",
    "\n",
    "#Checking if the string is palindrome or not.\n",
    "if input_str == input_str[::-1]:\n",
    "    print('\"{}\" is a Palindrom'.format(input_str))\n",
    "else:\n",
    "    print('\"{}\" is not a Palindrom'.format(input_str))"
   ]
  },
  {
   "cell_type": "markdown",
   "id": "b9e98cd8-a7ef-4d0b-996e-ca9ba50a9a68",
   "metadata": {},
   "source": [
    "**Explanation:**\n",
    "\n",
    "We start by taking the string as input from the user.\n",
    "\n",
    "we are using input() function to take the user input. The input() function returns a string by default.\n",
    "\n",
    "\"input_str[::-1]\" is used to reverse the input string.\n",
    "\n",
    "Using the \"if-else\" block we are checking if the string is a palindrome or not.\n",
    "\n",
    "If the reversed string is exactly same as the original string then the string is a palindrome.\n",
    "\n",
    "Else the string is not a palindrome.\n",
    "Finally we are printing the result using \"print()\" function and \"str.format()\" method of string formatting."
   ]
  },
  {
   "cell_type": "markdown",
   "id": "92829cea-b508-401a-a7a7-17d95ea165ec",
   "metadata": {},
   "source": [
    "**10. Write a Python program to calculate the grade based on a student's score.**"
   ]
  },
  {
   "cell_type": "code",
   "execution_count": 11,
   "id": "234006be-9233-4121-a7ed-3d19e471141d",
   "metadata": {},
   "outputs": [
    {
     "name": "stdin",
     "output_type": "stream",
     "text": [
      "Enter the score: 67\n"
     ]
    },
    {
     "name": "stdout",
     "output_type": "stream",
     "text": [
      "Your marks is 67.0, and your grade is 'C'\n"
     ]
    }
   ],
   "source": [
    "score=float(input(\"Enter the score:\"))#Taking the score as input from the user.\n",
    "grade='' #Initialising a variable named \"grade\" as empty string. This variable will hold the grade.\n",
    "\n",
    "#Using if-elif-else lader we are determining the grade of the student\n",
    "if score>=90 and score<=100:\n",
    "    grade='A+'\n",
    "elif score>=80 and score<89:\n",
    "    grade='A'\n",
    "elif score>=70 and score<79:\n",
    "    grade='B'\n",
    "elif score>=60 and score<69:\n",
    "    grade='C'\n",
    "elif score>=50 and score<59:\n",
    "    grade='D'\n",
    "elif score>=35 and score<49:\n",
    "    grade='E'\n",
    "elif score<35 and score>=0:\n",
    "    grade='F'\n",
    "else:\n",
    "    print(\"Invalid score entered\")\n",
    "    \n",
    "if grade != '': #If the variable \"grade\" is not an emoty string then print the result.\n",
    "    print(\"Your marks is {}, and your grade is '{}'\".format(score,grade))"
   ]
  },
  {
   "cell_type": "markdown",
   "id": "37b0570c-7ebc-4262-8e11-b358903180b9",
   "metadata": {},
   "source": [
    "**Explanation:**\n",
    "\n",
    "We start by taking the input from the user.\n",
    "\n",
    "we are using input() function to take the user input. The input() function returns a string, so we use float() to convert the input to float, since score can not be string.\n",
    "\n",
    "Then we have initialised a variable named \"grade\" as empty string. This variable will hold the grade of the student.\n",
    "\n",
    "Then using \"if-elif-else\" lader we are claculating the grade of the student.\n",
    "\n",
    "If the score is greater than 100 or is less than 0 then it is invalid score, and we are handling this case inside \"else\" block. In this case no grade is awarded.\n",
    "\n",
    "If the variable grade is not empty then only we will print the result.\n",
    "\n",
    "Finally we are printing the result using \"print()\" function and \"str.format()\" method of string formatting."
   ]
  },
  {
   "cell_type": "markdown",
   "id": "4caf66b0-ffdf-4d63-b766-1ac9d1406e72",
   "metadata": {},
   "source": [
    "# Nested If-Else Statements:"
   ]
  },
  {
   "cell_type": "markdown",
   "id": "232775b5-0baa-4ab1-9471-1d9a3ab8596c",
   "metadata": {},
   "source": [
    "**11. Write a program to find the largest among three numbers using nested if-else statements.**"
   ]
  },
  {
   "cell_type": "code",
   "execution_count": 12,
   "id": "e07747a7-6b44-48fc-84f4-477703aa54f7",
   "metadata": {},
   "outputs": [
    {
     "name": "stdin",
     "output_type": "stream",
     "text": [
      "Enter the first number: 90\n",
      "Enter the second number: 89\n",
      "Enter the third number: 99\n"
     ]
    },
    {
     "name": "stdout",
     "output_type": "stream",
     "text": [
      "The maximum number among 90.0, 89.0 and 99.0 is: 99.0\n"
     ]
    }
   ],
   "source": [
    "#taking the three numbers as input from the user.\n",
    "num1=float(input(\"Enter the first number:\"))\n",
    "num2=float(input(\"Enter the second number:\"))\n",
    "num3=float(input(\"Enter the third number:\"))\n",
    "\n",
    "#Using nested if-else to find the maximum number among the three.\n",
    "if num1>=num2:\n",
    "    if num1>=num3:\n",
    "        print(\"The maximum number among {}, {} and {} is: {}\".format(num1,num2,num3,num1))\n",
    "    else:\n",
    "        print(\"The maximum number among {}, {} and {} is: {}\".format(num1,num2,num3,num3))\n",
    "else:\n",
    "    if num2>=num3:\n",
    "        print(\"The maximum number among {}, {} and {} is: {}\".format(num1,num2,num3,num2))\n",
    "    else:\n",
    "        print(\"The maximum number among {}, {} and {} is: {}\".format(num1,num2,num3,num3))\n"
   ]
  },
  {
   "cell_type": "markdown",
   "id": "ef6383a6-e5c3-4b64-9203-4f272023480b",
   "metadata": {},
   "source": [
    "**Explanation:**\n",
    "\n",
    "We start by taking the three numbers as input from the user.\n",
    "\n",
    "we are using input() function to take the user input. The input() function returns a string, so we use float() to convert the input to float, since a number can not be string.\n",
    "\n",
    "Then we are Using nested if-else to find the maximum number among the three.\n",
    "\n",
    "if \"num1>=num2\" then the first if block is executed and inside it we are checking if \"num1>=num3\", then num1 is the maximum number else num3 is the maximum number.\n",
    "\n",
    "other wise outer else block is executed and inside that we are checking if \"num2>=num3\", then num2 is the maximum number, else num3 is the maximum number\n",
    "\n",
    "In this program if \"num1=num2=num3\" the the first \"if\" block will be executed and num1 will be treated as maximum number.\n",
    "\n",
    "Finally we are printing the result using \"print()\" function and \"str.format()\" method of string formatting."
   ]
  },
  {
   "cell_type": "markdown",
   "id": "fec576a6-04c6-483a-bdba-7531bc6acd75",
   "metadata": {},
   "source": [
    "**12. Implement a program to determine if a triangle is equilateral, isosceles, or scalene.**"
   ]
  },
  {
   "cell_type": "code",
   "execution_count": 13,
   "id": "a7c4154f-1c40-4dd0-b2b4-deeb39504fce",
   "metadata": {},
   "outputs": [
    {
     "name": "stdin",
     "output_type": "stream",
     "text": [
      "Enter the length of first side: 8\n",
      "Enter the length of first second side: 7\n",
      "Enter the length of first third side: 8\n"
     ]
    },
    {
     "name": "stdout",
     "output_type": "stream",
     "text": [
      "The given triangle is isosceles\n"
     ]
    }
   ],
   "source": [
    "#taking the three sides of the triangle as input from the user.\n",
    "side1=float(input(\"Enter the length of first side:\"))\n",
    "side2=float(input(\"Enter the length of first second side:\"))\n",
    "side3=float(input(\"Enter the length of first third side:\"))\n",
    "\n",
    "#Using nested if-else statement we are determining the type of triangle.\n",
    "if side1==side2==side3:\n",
    "    print(\"The given triangle is equilateral\")\n",
    "    \n",
    "else:\n",
    "    if side1==side2 or side2==side3 or side1==side3:\n",
    "        print(\"The given triangle is isosceles\")\n",
    "    else:\n",
    "        print(\"The given triangle is scalen\")"
   ]
  },
  {
   "cell_type": "markdown",
   "id": "ba5e949e-68d0-4811-9238-1294762491d4",
   "metadata": {},
   "source": [
    "**Explanation:**\n",
    "\n",
    "We start by taking the three sides of the triangle as input from the user.\n",
    "\n",
    "we are using input() function to take the user input. The input() function returns a string, so we use float() to convert the input to float, since the length of side of a triangle can not be string.\n",
    "\n",
    "Then Using nested if-else statement we are determining the type of triangle.\n",
    "\n",
    "If \"side1==side2==side3\" then the the first \"if\" block is executed and the triangle is equilateral.\n",
    "\n",
    "otherwise the outer else block is executed. Inside this block we check if any to sides of the triangle is equal using \"if side1==side2 or side2==side3 or side1==side3\", then the nested if block is executed and the triangle is isosceles. Else the triangle is scalen\n",
    "\n",
    "Finally we are printing the result."
   ]
  },
  {
   "cell_type": "markdown",
   "id": "f9d7531e-3b4a-4d59-a25e-f0387fc935eb",
   "metadata": {},
   "source": [
    "**13. Develop a program that checks if a year is a leap year and also if it is a century year.**"
   ]
  },
  {
   "cell_type": "code",
   "execution_count": 14,
   "id": "df525e95-968b-49da-8f07-50ae77b4e898",
   "metadata": {},
   "outputs": [
    {
     "name": "stdin",
     "output_type": "stream",
     "text": [
      "Enter the year to check for: 2000\n"
     ]
    },
    {
     "name": "stdout",
     "output_type": "stream",
     "text": [
      "2000 is a leap year\n",
      "2000 is a century year\n"
     ]
    }
   ],
   "source": [
    "year=int(input(\"Enter the year to check for:\")) #Taking the year as input from the user.\n",
    "\n",
    "if year%4 == 0:#if the year is exactly divisible by 4, then it is a leap year.\n",
    "    if year%100 == 0:\n",
    "        if year%400 == 0: #If the year is exactly divisible by 400, then it is a leap year.\n",
    "            print(\"{} is a leap year\".format(year))\n",
    "        else: #if the year is exactly divisible by 100 but not by 400, then it is not a leap year but it is a century year.\n",
    "            print(\"{} is not leap year\".format(year))\n",
    "        print(\"{} is a century year\".format(year))\n",
    "    else:\n",
    "        print(\"{} is a leap year\".format(year))\n",
    "        print(\"{} is not a century year\".format(year))\n",
    "else:#All other numbers are not leap year\n",
    "    print(\"{} is not a leap year\".format(year))\n",
    "    print(\"{} is not a century year\".format(year))"
   ]
  },
  {
   "cell_type": "markdown",
   "id": "41a9e112-ca23-4a26-b994-486317972d06",
   "metadata": {},
   "source": [
    "**Explanation:**\n",
    "\n",
    "We start by taking the year as input from the user and string it in a variable named \"year\".\n",
    "\n",
    "we are using input() function to take the user input. The input() function returns a string, so we use int() to convert the input to integer, since year can not be string.\n",
    "\n",
    "here we are using nested if-else statement to check for the leap year and century year.\n",
    "\n",
    "if the year is exactly divisible by 4, then first if(if year%4 == 0) block is executed. Otherwise it's corresponding else block is executed, in both the cases the year is leap year\n",
    "\n",
    "if the year is exactly divisible by 100, then the nested if( if year%100 == 0) block is executed, and we check if the year is divisible by 400. Otherwise it's corresponding else block is executed. Leap year is decided by checking the divisibility by \"400\" but in both the cases the year is century year.\n",
    "\n",
    "if the year is exactly divisible by 400, then the nested if( if year%400 == 0) block is executed and the year is leap year. Otherwise it's corresponding else block is executed and the year is not leap year.\n",
    "\n",
    "If the outermost if block fails to execute then the outer else block is executed and the year is neither a leap year nor a century year. \n",
    "\n",
    "print() function is used to print the result."
   ]
  },
  {
   "cell_type": "markdown",
   "id": "888888ec-7863-431b-89a4-9d8bb85eb42f",
   "metadata": {},
   "source": [
    "**14. Write a Python script to determine if a number is positive, negative, or zero.**"
   ]
  },
  {
   "cell_type": "code",
   "execution_count": 16,
   "id": "9b22e7e9-24c4-47ef-acf1-cbd326de8fd5",
   "metadata": {},
   "outputs": [
    {
     "name": "stdin",
     "output_type": "stream",
     "text": [
      "Enter a number: 17\n"
     ]
    },
    {
     "name": "stdout",
     "output_type": "stream",
     "text": [
      "The number entered is positive\n"
     ]
    }
   ],
   "source": [
    "num=float(input(\"Enter a number:\")) #Taking the number as input from the user.\n",
    "\n",
    "#Using the nested if-else statement we are checking if the number is positive, negative or zero.\n",
    "if num>=0:\n",
    "    if num==0:\n",
    "        print(\"The number entered is zero\")\n",
    "    else:\n",
    "        print(\"The number entered is positive\")\n",
    "else:\n",
    "    print(\"The number is negative\")"
   ]
  },
  {
   "cell_type": "markdown",
   "id": "77c262ef-d88f-46e3-8b11-4f152130a344",
   "metadata": {},
   "source": [
    "**Explanation:**\n",
    "\n",
    "We start by using the input() function to take the number as input from the user. The input() function returns a string, so we use float() to convert the input to floating-point numbers since a number cannot be string.\n",
    "\n",
    "Then we are using nested if-else statement to check if the number is positive, negative, or zero.\n",
    "\n",
    "if the number is greater than or equat to 0 then the first if( if num>=0 ) block is executed. Otherwise it's corresponding else block is executed and the number is negative.\n",
    "\n",
    "If the number is equal to 0 then the first nested if( if num==0 ) block is executed and the number is zero. Otherwise it's corresponding else block is executed and the number is positive.\n",
    "\n",
    "print() function is used to print the result."
   ]
  },
  {
   "cell_type": "markdown",
   "id": "2b436168-903e-40ec-9801-2161ea58fddf",
   "metadata": {},
   "source": [
    "**15. Create a program to check if a person is a teenager (between 13 and 19 years old).**"
   ]
  },
  {
   "cell_type": "code",
   "execution_count": 17,
   "id": "38ab3977-7cef-48a9-a11d-41f639e0ae3f",
   "metadata": {},
   "outputs": [
    {
     "name": "stdin",
     "output_type": "stream",
     "text": [
      "Enter your age: 17\n"
     ]
    },
    {
     "name": "stdout",
     "output_type": "stream",
     "text": [
      "You are a teenager\n"
     ]
    }
   ],
   "source": [
    "age=int(input(\"Enter your age:\"))#Taking the age as input from the user.\n",
    "\n",
    "#Using the nested \"if-else\" statement we are checking if the person is teenager or not.\n",
    "if age>=13:\n",
    "    if age <=19:\n",
    "        print(\"You are a teenager\")\n",
    "    else:\n",
    "        print(\"You are not a teenager\")\n",
    "else:\n",
    "        print(\"You are not a teenager\")"
   ]
  },
  {
   "cell_type": "markdown",
   "id": "0eb87acc-c097-433e-8eb7-dddc52b395de",
   "metadata": {},
   "source": [
    "**Explanation:**\n",
    "\n",
    "Taking the age as input from the user.\n",
    "\n",
    "we are using input() function to take the user input. The input() function returns a string, so we use int() to convert the input to integer, since age can not be string.\n",
    "\n",
    "If the age is greater than or equal to 13, then the outer if(if age>=13) block is executed. Otherwise it's corresponding else block is executed and the person is not a teenager.\n",
    "\n",
    "If the age is greater than or equal to 119, then the nested if(if age<=19) block is executed and the person is a teenager. Otherwise it's corresponding else block is executed and the person is not a teenager.\n",
    "\n",
    "print() function is used to print the result."
   ]
  },
  {
   "cell_type": "markdown",
   "id": "ae6f7808-7da8-4838-b2d0-00d6706125fa",
   "metadata": {},
   "source": [
    "**16. Develop a program that determines the type of angle based on its measure (acute, obtuse, or right).**"
   ]
  },
  {
   "cell_type": "code",
   "execution_count": 18,
   "id": "388ed8e6-689b-4df2-a86a-d98eba2e2a58",
   "metadata": {},
   "outputs": [
    {
     "name": "stdin",
     "output_type": "stream",
     "text": [
      "Enter the value of angle: 89\n"
     ]
    },
    {
     "name": "stdout",
     "output_type": "stream",
     "text": [
      "The angle entered is acute angle\n"
     ]
    }
   ],
   "source": [
    "angle=float(input(\"Enter the value of angle:\"))#Taking the angle as input from the user\n",
    "\n",
    "#Using nested \"if-else\" statement are checking the type of angle.\n",
    "if angle>=90 and angle<180:\n",
    "    if angle==90:\n",
    "        print(\"The angle entered is Right angle\")\n",
    "    else:\n",
    "        print(\"The angle entered is obtuse angle\")\n",
    "elif angle>0 and angle<90:\n",
    "    print(\"The angle entered is acute angle\")\n",
    "else:\n",
    "    print(\"Invalid value of angle for acute, obtuse or right angle\")"
   ]
  },
  {
   "cell_type": "markdown",
   "id": "c90e9661-30e2-4e5c-bfb3-86f373ed2b63",
   "metadata": {},
   "source": [
    "**Explanation:**\n",
    "\n",
    "We are taking the angle as input from the user.\n",
    "\n",
    "we are using input() function to take the user input. The input() function returns a string, so we use float() to convert the input to float, since angle can not be string.\n",
    "\n",
    "We are using nested \"if-else\" statement to check the type of angle.\n",
    "\n",
    "If angle is greater than or equal to 90 and is less than 180 then the first if(if angle>=90 and angle<180) block is executed. If the angle is equal to 90 then the nested if(if angle==90) block is executed and the angle is Right angle, Otherwise it's corresponding else block is executed an the angle Obtuse angle.\n",
    "\n",
    "If the outer if block fails then we check if the angle is greater than 0 and is less than 90 using \"elif angle>0 and angle<90\" and the angle is acute.\n",
    "\n",
    "If none of the above two blocks execute then the else block will execute, as the entered angle is not acute, obtuse or right angle.\n",
    "\n",
    "print() function is used to print the result."
   ]
  },
  {
   "cell_type": "markdown",
   "id": "df518ac9-0f56-4d39-a131-f5847c7fd81d",
   "metadata": {},
   "source": [
    "**17. Write a Python program to calculate the roots of a quadratic equation.**"
   ]
  },
  {
   "cell_type": "code",
   "execution_count": 20,
   "id": "204a42d8-0931-4dd5-8269-d19b89e33936",
   "metadata": {},
   "outputs": [
    {
     "name": "stdin",
     "output_type": "stream",
     "text": [
      "Enter the coefficient of 'x2': 2\n",
      "Enter the coefficient of 'x': 4\n",
      "Enter the coefficient of constant: 2\n"
     ]
    },
    {
     "name": "stdout",
     "output_type": "stream",
     "text": [
      "The given quadratic equation has real and equal roots: -1.0\n"
     ]
    }
   ],
   "source": [
    "#A quadratic equation is of the form \"ax2 + bx + c = 0\", where a,b,c are real numbers and a!=0\n",
    "#Taking the three coefficients as input from the user.\n",
    "a=float(input(\"Enter the coefficient of 'x2':\"))\n",
    "b=float(input(\"Enter the coefficient of 'x':\"))\n",
    "c=float(input(\"Enter the coefficient of constant:\"))\n",
    "\n",
    "#Using nested if-else statement to calculate the roots of the quadratic equation. \n",
    "if a!= 0:\n",
    "    d=(b*b)-(4*a*c)\n",
    "    if d>0:\n",
    "        root1=(-b+(d**0.5))/(2*a)\n",
    "        root2=(-b-(d**0.5))/(2*a)\n",
    "        print(\"The given quadratic equation has real and unequal roots: {} and {}\".format(root1,root2))\n",
    "    elif d==0:\n",
    "        root=(-b)/(2*a)\n",
    "        print(\"The given quadratic equation has real and equal roots: {}\".format(root))\n",
    "    else:\n",
    "        root1=(-b+(d**0.5))/(2*a)\n",
    "        root2=(-b-(d**0.5))/(2*a)\n",
    "        print(\"The given quadratic equation has imaginary and unequal roots: {} and {}\".format(root1,root2))\n",
    "else:\n",
    "    print(\"The coefficient of 'x2' cannot be 0 for a quadratic equation\")"
   ]
  },
  {
   "cell_type": "markdown",
   "id": "4501f65b-a821-4ee3-be31-156a006ba649",
   "metadata": {},
   "source": [
    "**Explanation:**\n",
    "\n",
    "We are taking the three coefficients as input from the user.\n",
    "\n",
    "We start by using the input() function to take the number as input from the user. The input() function returns a string, so we use float() to convert the input to floating-point numbers since a number cannot be string.\n",
    "\n",
    "We are Using nested if-else statement to calculate the roots of the quadratic equation. \n",
    "\n",
    "If the value of 'a' is not equal to 0 then the first if block is executed. Otherwise it's corresponding else block is executed as the entered coefficients do not belong to a quadratic number.\n",
    "\n",
    "Inside the if block we are calculating the value of d using the formula( d=(b*b)-(4*a*c) ).\n",
    "\n",
    "if d>0 the nesteed if(if d>0:) is executed and the quadratic equation has real and distinct roots, the roots are calculated using formulae \"root1=(-b+(d**0.5))/(2*a) root2=(-b-(d**0.5))/(2*a)\".\n",
    "\n",
    "if the nested if block fails, we check if \"d\" is equal to 0 using the statement \"elif d==0:\", and the quadratic equation has real and equal roots. The value of root is \"root=(-b)/(2*a)\".\n",
    "\n",
    "Otherwise the else block is executed and the quadratic equation has imaginary and unequal roots, the roots are calculated using formulae \"root1=(-b+(d**0.5))/(2*a) root2=(-b-(d**0.5))/(2*a)\".\n",
    "\n",
    "print() function is used to print the result."
   ]
  },
  {
   "cell_type": "markdown",
   "id": "77c7b619-4c13-49ec-b6a2-0f5bdc3a0e9d",
   "metadata": {},
   "source": [
    "**18. Implement a program to determine the day of the week based on a user-provided number (1 for Monday, 2\n",
    "for Tuesday, etc.).**"
   ]
  },
  {
   "cell_type": "code",
   "execution_count": 21,
   "id": "1831fac4-8206-4ec8-8ec3-f473465fcdc5",
   "metadata": {},
   "outputs": [
    {
     "name": "stdin",
     "output_type": "stream",
     "text": [
      "Enter a number from 1 to 7: 6\n"
     ]
    },
    {
     "name": "stdout",
     "output_type": "stream",
     "text": [
      "The day is Saturady\n"
     ]
    }
   ],
   "source": [
    "#Taking the day number as input from the user.\n",
    "num=int(input(\"Enter a number from 1 to 7:\"))\n",
    "\n",
    "#Using if-elif-else statement to determine the day based on the number entered by the user.\n",
    "if num==1:\n",
    "    print(\"The day is Monday\")\n",
    "elif num==2:\n",
    "    print(\"The day is Tuesday\")\n",
    "elif num==3:\n",
    "    print(\"The day is Wednesday\")\n",
    "elif num==4:\n",
    "    print(\"The day is Thursday\")\n",
    "elif num==5:\n",
    "    print(\"The day is Friday\")\n",
    "elif num==6:\n",
    "    print(\"The day is Saturady\")\n",
    "elif num==7:\n",
    "    print(\"The day is Sunday\")\n",
    "else:\n",
    "    print(\"There is no any day for the number entered\")\n"
   ]
  },
  {
   "cell_type": "markdown",
   "id": "af5e3c02-9873-4a0c-ab4c-e9612ec74d61",
   "metadata": {},
   "source": [
    "**Explanation:**\n",
    "\n",
    "We start by taking the day number as input from the user.\n",
    "\n",
    "We start by using the input() function to take the number as input from the user. The input() function returns a string, so we use int() to convert the input to integer since a number cannot be string.\n",
    "\n",
    "Then we are using if-elif-else statement to determine the day based on the number entered by the user.\n",
    "\n",
    "If the number entered by the user if from 1 to 7, then one of the \"if/elif\" statement will execute and the corresponding day name is printed.\n",
    "\n",
    "Otherwise else block is executed as the day number cannot be more than 7 or less than 0.\n",
    "\n",
    "print() function is used to print the result."
   ]
  },
  {
   "cell_type": "markdown",
   "id": "4cd01fc7-b2a2-4611-ad41-1a2122efc234",
   "metadata": {},
   "source": [
    "**19. Create a program that determines if a year is a leap year and also if it is evenly divisible by 400.**"
   ]
  },
  {
   "cell_type": "code",
   "execution_count": 22,
   "id": "f8be0c74-2284-4708-9911-350518dd85ac",
   "metadata": {},
   "outputs": [
    {
     "name": "stdin",
     "output_type": "stream",
     "text": [
      "Enter the year to check for: 2000\n"
     ]
    },
    {
     "name": "stdout",
     "output_type": "stream",
     "text": [
      "2000 is a leap year\n",
      "2000 is evenly divisible by 400\n"
     ]
    }
   ],
   "source": [
    "year=int(input(\"Enter the year to check for:\")) #Taking the year as input from the user.\n",
    "\n",
    "if year%4 == 0: #if the year is exactly divisible by 4, then it is a leap year.\n",
    "    if year%100 == 0:\n",
    "        if year%400 == 0:#If the year is exactly divisible by 400, then it is a leap year, also it is evenly divisible by 400.\n",
    "            print(\"{} is a leap year\".format(year))\n",
    "            print(\"{} is evenly divisible by 400\".format(year))\n",
    "        else: #if the year is exactly divisible by 100 but not by 400, then it is not a leap year.\n",
    "            print(\"{} is not leap year\".format(year))\n",
    "            print(\"{} is not evenly divisible by 400\".format(year))\n",
    "    else:\n",
    "        print(\"{} is a leap year\".format(year))\n",
    "        print(\"{} is not evenly divisible by 400\".format(year))\n",
    "else:\n",
    "    print(\"{} is not leap year\".format(year))\n",
    "    print(\"{} is not evenly divisible by 400\".format(year))"
   ]
  },
  {
   "cell_type": "markdown",
   "id": "194e47c9-5758-4ace-b34a-2073939a8c29",
   "metadata": {},
   "source": [
    "**Explanation:**\n",
    "\n",
    "We start by taking the year as input from the user and string it in a variable named \"year\".\n",
    "\n",
    "we are using input() function to take the user input. The input() function returns a string, so we use int() to convert the input to integer, since year can not be string.\n",
    "\n",
    "here we are using nested if-else statement to check for the leap year and is exactly divisible by 400.\n",
    "\n",
    "if the year is exactly divisible by 4, then first if(if year%4 == 0) block is executed. Otherwise it's corresponding else block is executed, in both the cases the year is leap year.\n",
    "\n",
    "if the year is exactly divisible by 100, then the nested if( if year%100 == 0) block is executed, and we check if the year is divisible by 400. Otherwise it's corresponding else block is executed. Leap year is decided by checking the divisibility by \"400\".\n",
    "\n",
    "if the year is exactly divisible by 400, then the nested if( if year%400 == 0) block is executed and the year is leap year. Otherwise it's corresponding else block is executed and the year is not leap year. Thr year is evenly divisible by 400 only in this case.\n",
    "\n",
    "If the outermost if block fails to execute then the outer else block is executed and the year is neither a leap year nor it is evenly divisible by 400. \n",
    "\n",
    "print() function is used to print the result."
   ]
  },
  {
   "cell_type": "markdown",
   "id": "4510c45f-3db8-4bcd-9065-071fb3672555",
   "metadata": {},
   "source": [
    "**20. Develop a program that checks if a given number is prime or not using nested if-else statements.**"
   ]
  },
  {
   "cell_type": "code",
   "execution_count": 23,
   "id": "3bb06723-620e-4a0b-8b7a-3a3f3a84f6b9",
   "metadata": {},
   "outputs": [
    {
     "name": "stdin",
     "output_type": "stream",
     "text": [
      "Enter a number: 99\n"
     ]
    },
    {
     "name": "stdout",
     "output_type": "stream",
     "text": [
      "99 is not a prime number\n"
     ]
    }
   ],
   "source": [
    "num=int(input(\"Enter a number:\")) #Taking the number as input from the user.\n",
    "\n",
    "#Using nested if-else statement to check for the prime number.\n",
    "if num>=2: \n",
    "    if num==2:\n",
    "        print(\"{} is a prime number\".format(num))\n",
    "    elif num%2==0:\n",
    "        print(\"{} is not a prime number\".format(num))\n",
    "    else:\n",
    "        for i in range(3,int(num**0.5+1),2):\n",
    "            if num%i==0:\n",
    "                print(\"{} is not a prime number\".format(num))\n",
    "                break\n",
    "        else:\n",
    "            print(\"{} is a prime number\".format(num))\n",
    "else:\n",
    "    print(\"{} is not a prime number\".format(num))"
   ]
  },
  {
   "cell_type": "markdown",
   "id": "59f34eb2-0ba6-4267-b8df-26430dc2ad9d",
   "metadata": {},
   "source": [
    "**Explanation:**\n",
    "\n",
    "We start by taking the number as input from the user.\n",
    "\n",
    "We are Using nested if-else statement to check for the prime number.\n",
    "\n",
    "we are using input() function to take the user input. The input() function returns a string, so we use int() to convert the input to integer, since year can not be string.\n",
    "\n",
    "if the number iss greater than or equal to 2then the first if(if num>=2) block is executed. Otherwise the else bock will execute because 2 is the smallest prime number, so any number less than 2 is not a prime number.\n",
    "\n",
    "if the number is equal to then the nested if (if num==2) will execute and the number is prime number.\n",
    "\n",
    "Otherwise we check if the number is even or not using \"elif num%2==0\", then the nested elif block will execute and the number is not prime.\n",
    "\n",
    "Otherwise the else block will execute and using the for loop (for i in range(3,int(num**0.5+1),2)) and if statement (if num%i==0), we check if the number has a factor other than 1 and itself. If the number has any factor other than 1 and itself then the number is not prime. \n",
    "\n",
    "print() function is used to print the result."
   ]
  },
  {
   "cell_type": "markdown",
   "id": "b0bc3558-8037-4628-b06f-8544611a0858",
   "metadata": {},
   "source": [
    "# Elif Statements:"
   ]
  },
  {
   "cell_type": "markdown",
   "id": "4f7a73fe-a539-42ac-ab9e-6d24c50e9c57",
   "metadata": {},
   "source": [
    "**21. Write a Python program to assign grades based on different ranges of scores using elif statements.**"
   ]
  },
  {
   "cell_type": "code",
   "execution_count": 24,
   "id": "227fa96a-7175-4f79-b53a-a2a68ebf9347",
   "metadata": {},
   "outputs": [
    {
     "name": "stdin",
     "output_type": "stream",
     "text": [
      "Enter the score: 78\n"
     ]
    },
    {
     "name": "stdout",
     "output_type": "stream",
     "text": [
      "Your marks is 78.0, and your grade is 'B'\n"
     ]
    }
   ],
   "source": [
    "score=float(input(\"Enter the score:\"))#Taking the score as input from the user.\n",
    "grade='' #Initialising a variable named \"grade\" as empty string. This variable will hold the grade.\n",
    "\n",
    "#Using if-elif-else lader we are determining the grade of the student\n",
    "if score>=90 and score<=100:\n",
    "    grade='A+'\n",
    "elif score>=80 and score<89:\n",
    "    grade='A'\n",
    "elif score>=70 and score<79:\n",
    "    grade='B'\n",
    "elif score>=60 and score<69:\n",
    "    grade='C'\n",
    "elif score>=50 and score<59:\n",
    "    grade='D'\n",
    "elif score>=35 and score<49:\n",
    "    grade='E'\n",
    "elif score<35 and score>=0:\n",
    "    grade='F'\n",
    "else:\n",
    "    print(\"Invalid score entered\")\n",
    "    \n",
    "if grade != '': #If the variable \"grade\" is not an emoty string then print the result.\n",
    "    print(\"Your marks is {}, and your grade is '{}'\".format(score,grade))"
   ]
  },
  {
   "cell_type": "markdown",
   "id": "2196c241-384b-4cf2-bf4e-d30498f94c1f",
   "metadata": {},
   "source": [
    "**Explanation:**\n",
    "\n",
    "We start by taking the input from the user.\n",
    "\n",
    "we are using input() function to take the user input. The input() function returns a string, so we use float() to convert the input to float, since score can not be string.\n",
    "\n",
    "Then we have initialised a variable named \"grade\" as empty string. This variable will hold the grade of the student.\n",
    "\n",
    "Then using \"if-elif-else\" lader we are claculating the grade of the student.\n",
    "\n",
    "If the score is greater than 100 or is less than 0 then it is invalid score, and we are handling this case inside \"else\" block. In this case no grade is awarded.\n",
    "\n",
    "If the variable grade is not empty then only we will print the result.\n",
    "\n",
    "Finally we are printing the result using \"print()\" function and \"str.format()\" method of string formatting."
   ]
  },
  {
   "cell_type": "markdown",
   "id": "a44527b1-7264-4e7a-bf7a-5518cf367f80",
   "metadata": {},
   "source": [
    "**22. Implement a program to determine the type of a triangle based on its angles.**"
   ]
  },
  {
   "cell_type": "code",
   "execution_count": 25,
   "id": "c91983e3-07bc-4d21-b63d-b3a2fd73b332",
   "metadata": {},
   "outputs": [
    {
     "name": "stdin",
     "output_type": "stream",
     "text": [
      "Enter the first angle of the triangle: 90\n",
      "Enter the second angle of the triangle: 60\n",
      "Enter the third angle of the triangle: 30\n"
     ]
    },
    {
     "name": "stdout",
     "output_type": "stream",
     "text": [
      "The angle entered belongs to right triangle\n"
     ]
    }
   ],
   "source": [
    "#Taking the three angles of the triangle as input from the user.\n",
    "a=float(input(\"Enter the first angle of the triangle:\"))\n",
    "b=float(input(\"Enter the second angle of the triangle:\"))\n",
    "c=float(input(\"Enter the third angle of the triangle:\"))\n",
    "\n",
    "#Using nested if-else statement we are determining the type of triangle.\n",
    "if a+b+c==180:\n",
    "    if ((a>0 and a<90) and (b>0 and b<90) and (c>0 and c<90)):\n",
    "        print(\"The angle entered belongs to acute triangle\")\n",
    "    elif (a==90 and (b<90 and b>0) and (c<90 and c>0)) or ((a<90 and a>0) and b==90 and (c<90 and c>0)) or ((a<90 and a>0) and (b<90 and b>0) and c==90):\n",
    "        print(\"The angle entered belongs to right triangle\")\n",
    "    elif (a>90 and (b<90 and b>0) and (c<90 and c>0)) or ((a<90 and a>0) and b>90 and (c<90 and c>0)) or ((a<90 and a>0) and (b<90 and b>0) and c>90):\n",
    "        print(\"The angle entered belongs to obtuse triangle\")\n",
    "else:\n",
    "    print(\"Invalid angle entered!\")"
   ]
  },
  {
   "cell_type": "markdown",
   "id": "a724cd73-16b4-4d36-b6fc-0d00761eb140",
   "metadata": {},
   "source": [
    "**Explanation:**\n",
    "\n",
    "we start with taking the three angles of the triangle as input from the user.\n",
    "\n",
    "we are using input() function to take the user input. The input() function returns a string, so we use float() to convert the input to float, since angle can not be string.\n",
    "\n",
    "The using nested if-else statement we are determining the type of triangle.\n",
    "\n",
    "If the sum of three angles of the triangle is 180, then the first if block will be executed. Otherwise the else block wii be executed because the sum of three angles of a triangle must be 180.\n",
    "\n",
    "Inside the if block we are checking if all three angle are acute or not using \"if ((a>0 and a<90) and (b>0 and b<90) and (c>0 and c<90))\". If all the three angles are acute then the nested if block will execute and the triangle is acute.\n",
    "\n",
    "Otherwise check if any one angle is 90 and other two angles are acute using \"elif (a==90 and (b<90 and b>0) and (c<90 and c>0)) or ((a<90 and a>0) and b==90 and (c<90 and c>0)) or ((a<90 and a>0) and (b<90 and b>0) and c==90)\". If any one angle is 90 and other two angles are acute then the triangle is right triangle.\n",
    "\n",
    "Otherwise check if any one angle is obtuse and other two angles are acute using \"elif (a>90 and (b<90 and b>0) and (c<90 and c>0)) or ((a<90 and a>0) and b>90 and (c<90 and c>0)) or ((a<90 and a>0) and (b<90 and b>0) and c>90)\". If any one angle is obtuse and other two angles are acute then the triangle is right triangle.\n",
    "\n",
    "Finally we are printing the result using \"print()\" function and \"str.format()\" method of string formatting."
   ]
  },
  {
   "cell_type": "markdown",
   "id": "118a7695-72e3-4fdd-b6c2-96faa2ba17d5",
   "metadata": {},
   "source": [
    "**23. Develop a program to categorize a given person's BMI into underweight, normal, overweight, or obese using\n",
    "elif statements.**"
   ]
  },
  {
   "cell_type": "code",
   "execution_count": 26,
   "id": "9367614d-5440-4819-bb18-a8730bf7dc70",
   "metadata": {},
   "outputs": [
    {
     "name": "stdin",
     "output_type": "stream",
     "text": [
      "Enter your BMI: 24\n"
     ]
    },
    {
     "name": "stdout",
     "output_type": "stream",
     "text": [
      "Your BMI falls in 'normal' category.\n"
     ]
    }
   ],
   "source": [
    "#Defining the function that accepts the BMI of the person and returns the category in which the person lie based on it's BMI.\n",
    "def check_BMI(BMI):\n",
    "    res=''\n",
    "    if BMI>0 and BMI<=50: #Here we have assumed the maximum possible value of BMI tobe 50.\n",
    "        if BMI<18.5:\n",
    "            res=\"underweight\"\n",
    "        elif BMI>=18.5 and BMI<25:\n",
    "            res=\"normal\"\n",
    "        elif BMI>=25 and BMI<30:\n",
    "            res=\"overweight\"   \n",
    "        else:\n",
    "            res=\"obese\"\n",
    "    return res\n",
    "\n",
    "BMI=float(input(\"Enter your BMI:\"))#Taking the BMI of the person as input from the user.\n",
    "category=check_BMI(BMI)#Calling the check_BMI function to get the category.\n",
    "if category !=\"\":\n",
    "    print(\"Your BMI falls in '{}' category.\".format(category))\n",
    "else:\n",
    "    print(\"BMI entered is invalid\")"
   ]
  },
  {
   "cell_type": "markdown",
   "id": "67f922ab-7669-407a-8f26-5ec2527b25ae",
   "metadata": {},
   "source": [
    "**Explanation:**\n",
    "\n",
    "We have defined a function named \"check_BMI\" that accepts the BMI of the person and returns the category in which the person lie based on it's BMI.\n",
    "\n",
    "Inside the check_BMI() function we have initialised a variable named \"res\" with empty string.This variable will store the category.\n",
    "\n",
    "Inside the check_BMI() function we are using nested \"if-else\" statements to check the category in which person's BMI fall.\n",
    "\n",
    "Here we have assumed the maximum possible value of BMI tobe 50.\n",
    "\n",
    "If the BMI of the person is more than 0 and less than 50 then if block will execute. \n",
    "\n",
    "Inside the first if block we are checking the category in which the person's BMI lie using if-elif-else ladder.\n",
    "\n",
    "If the BMI is negative or more than 50 then the else block will execute and we return an empty string from the check_BMI() function.\n",
    "\n",
    "We are Taking the BMI of the person as input from the user.\n",
    "\n",
    "we are using input() function to take the user input. The input() function returns a string, so we use float() to convert the input to float, since angle can not be string.\n",
    "\n",
    "The We are Calling the check_BMI function to get the category.\n",
    "\n",
    "If the returned value is not and empty string then we are printing the result.\n",
    "\n",
    "Else the BMI entered is invalid."
   ]
  },
  {
   "cell_type": "markdown",
   "id": "3653f2fe-3a7b-403f-af02-4c5356d8d4a2",
   "metadata": {},
   "source": [
    "**24. Create a program that determines whether a given number is positive, negative, or zero using elif\n",
    "statements.**"
   ]
  },
  {
   "cell_type": "code",
   "execution_count": 27,
   "id": "f681fe52-a276-4778-9b1a-3bbd26140910",
   "metadata": {},
   "outputs": [
    {
     "name": "stdin",
     "output_type": "stream",
     "text": [
      "Enter a number: -89\n"
     ]
    },
    {
     "name": "stdout",
     "output_type": "stream",
     "text": [
      "Entered number is a negative number\n"
     ]
    }
   ],
   "source": [
    "num=float(input(\"Enter a number:\")) #Taking the number as input from user \n",
    "\n",
    "if(num>0): #If the number is greater than 0 then it is positive.\n",
    "    print(\"Entered number is a positive number\")\n",
    "elif(num==0): #If the number is equal to 0 then it is zero.\n",
    "    print(\"Entered number is zero\")\n",
    "else: #else the number is negative.\n",
    "    print(\"Entered number is a negative number\")"
   ]
  },
  {
   "cell_type": "markdown",
   "id": "9c249640-60b1-4be9-a421-02b323152b1a",
   "metadata": {},
   "source": [
    "**Explanation:**\n",
    "\n",
    "We start by using the input() function to take the number as input from the user. The input() function returns a string, so we use float() to convert the input to floating-point numbers since a number cannot be string.\n",
    "\n",
    "Then we are using if-elif-else lader to check if the number is positive, negative, or zero.\n",
    "\n",
    "if the number is greater than 0 then it is positive.\n",
    "\n",
    "else if the number is equal to 0 then it is zero.\n",
    "\n",
    "numbers that donot satisfy any of the above two conditions, then it is negative.\n",
    "\n",
    "print() function is used to print the result."
   ]
  },
  {
   "cell_type": "markdown",
   "id": "d71fbf8e-da31-42cd-bf87-8e6d094b8496",
   "metadata": {},
   "source": [
    "**25. Write a Python script to determine the type of a character (uppercase, lowercase, or special) using elif statements.**"
   ]
  },
  {
   "cell_type": "code",
   "execution_count": 28,
   "id": "ae6543b2-383f-4b23-aabd-7b4c28852cbe",
   "metadata": {},
   "outputs": [
    {
     "name": "stdin",
     "output_type": "stream",
     "text": [
      "Enter a character: @\n"
     ]
    },
    {
     "name": "stdout",
     "output_type": "stream",
     "text": [
      "'@' is a special character.\n"
     ]
    }
   ],
   "source": [
    "char=input(\"Enter a character:\")#Taking the character as input from the user.\n",
    "\n",
    "#Determining the type of character using nested if-else statements.\n",
    "if char!='': \n",
    "    if char.isupper():\n",
    "        print(\"'{}' is a uppercase character.\".format(char))\n",
    "    elif char.islower():\n",
    "        print(\"'{}' is a lowercase character.\".format(char))\n",
    "    elif not char.isdigit():\n",
    "        print(\"'{}' is a special character.\".format(char))\n",
    "    else:\n",
    "        print(\"Please enter a valid character\")\n",
    "else:\n",
    "    print(\"Please enter a valid character\")"
   ]
  },
  {
   "cell_type": "markdown",
   "id": "6e1fa4ca-573d-4cc1-b2ca-4b3983b899b3",
   "metadata": {},
   "source": [
    "**Explanation:**\n",
    "\n",
    "We start with Taking the character as input from the user.\n",
    "\n",
    "we are using input() function to take the user input. The input() function returns a string by default.\n",
    "\n",
    "Then we are Determining the type of character using nested if-else statements.\n",
    "\n",
    "if the character entered by the user is not an empty string then the first if block will execute. Otherwise the else block will execute.\n",
    "\n",
    "Inside the if block we are checking if the character is uppercase character using \"if char.isupper()\". isupper() is a built-in function that return True if the character is Uppercase character.\n",
    "\n",
    "Otherwise we check if the character is lowercase character using \"elif char.islower()\". islower() is a built-in function that return True if the character is lowercase character.\n",
    "\n",
    "Otherwise we check if the character is special character using \"elif not char.isdigit()\". isdigit() is a built-in function that return True if the character is a numeric digit. If the character is numeric this block will not execute.\n",
    "\n",
    "Otherwise the nested else block will execute, as the character is not among the lowercase, uppercase or special character.\n",
    "\n",
    "print() function is used to print the result."
   ]
  },
  {
   "cell_type": "markdown",
   "id": "8e629595-5dce-42da-ac37-50bcd72a0847",
   "metadata": {},
   "source": [
    "**26. Implement a program to calculate the discounted price based on different purchase amounts using elif\n",
    "statements.**"
   ]
  },
  {
   "cell_type": "code",
   "execution_count": 29,
   "id": "55b45b04-22be-4cd5-8837-c985646940df",
   "metadata": {},
   "outputs": [
    {
     "name": "stdin",
     "output_type": "stream",
     "text": [
      "Enter the purchase amount: 1500\n"
     ]
    },
    {
     "name": "stdout",
     "output_type": "stream",
     "text": [
      "You are being offered 10% discount\n",
      "Final price after discount is: 1350.0\n"
     ]
    }
   ],
   "source": [
    "amount=float(input(\"Enter the purchase amount:\")) #Taking the purchase amount as input from the user.\n",
    "\n",
    "#Using the if-elif-else lader to calculate the final amount after discount.\n",
    "if amount>999 and amount<=1999:\n",
    "    print(\"You are being offered 10% discount\")\n",
    "    discounted_price=amount-(amount*0.1)\n",
    "    print(\"Final price after discount is: {}\".format(discounted_price))\n",
    "elif amount>1999 and amount<=3999:\n",
    "    print(\"You are being offered 20% discount\")\n",
    "    discounted_price=amount-(amount*0.2)\n",
    "    print(\"Final price after discount is: {}\".format(discounted_price))\n",
    "elif amount>3999:\n",
    "    print(\"You are being offered 30% discount\")\n",
    "    discounted_price=amount-(amount*0.3)\n",
    "    print(\"Final price after discount is: {}\".format(discounted_price))\n",
    "else:\n",
    "    print(\"Sorry there is no dicount for this purchase amount.\")"
   ]
  },
  {
   "cell_type": "markdown",
   "id": "ac9487ea-6dc2-4794-a2c1-2ee5bbad7c37",
   "metadata": {},
   "source": [
    "**Explanation:**\n",
    "\n",
    "We start by Taking the purchase amount as input from the user.\n",
    "\n",
    "we are using input() function to take the user input. The input() function returns a string, so we use float() to convert the input to float, since amount can not be string.\n",
    "\n",
    "Then we are using the if-elif-else lader to calculate the final amount after discount. We have used the formula \"discounted_price=amount-(amount*(discount_in_percentage/100))\" every where to calculate the final price after discount.\n",
    "\n",
    "Check if the amount is greater than 999 and is less than or equal to 1999 the if(if amount>999 and amount<=1999) block will execute, and the dicsount offered is 10%.\n",
    "\n",
    "otherwise Check if the amount is greater than 1999 and is less than or equal to 2999 the elif(elif amount>1999 and amount<=3999) block will execute, and the dicsount offered is 20%.\n",
    "\n",
    "otherwise Check if the amount is greater than 3999, the elif(elif amount>3999) block will execute, and the dicsount offered is 30%.\n",
    "\n",
    "Otherwise the else block will execute and there is no discount on this purchase amount.\n",
    "\n",
    "Finally we are printing the result using \"print()\" function and \"str.format()\" method of string formatting."
   ]
  },
  {
   "cell_type": "markdown",
   "id": "55483a09-5939-4a5c-9e0e-b54ced265790",
   "metadata": {},
   "source": [
    "**27. Develop a program to calculate the electricity bill based on different consumption slabs using elif statements.**"
   ]
  },
  {
   "cell_type": "code",
   "execution_count": 30,
   "id": "0e53d05d-9cb5-455c-9f5d-076e2ab9a566",
   "metadata": {},
   "outputs": [
    {
     "name": "stdin",
     "output_type": "stream",
     "text": [
      "Enter the number of units consumed: 70\n"
     ]
    },
    {
     "name": "stdout",
     "output_type": "stream",
     "text": [
      "Your final amount is 660 rupees.\n"
     ]
    }
   ],
   "source": [
    "unit=int(input(\"Enter the number of units consumed:\")) #Taking the numbers of units consumed as input from the user.\n",
    "\n",
    "basic_charge=100 #Initialising a varible named basic_charge with 100. It is the minimum amount that any one would pay.\n",
    "\n",
    "#Using if-elif-else lader to calculate the final bill. \n",
    "if unit>=0 and unit<=100:\n",
    "    amount=basic_charge+unit*8\n",
    "    print(\"Your final amount is {} rupees.\".format(amount))\n",
    "elif unit>100 and unit<=150:\n",
    "    amount=basic_charge+unit*12\n",
    "    print(\"Your final amount is {} rupees.\".format(amount))\n",
    "elif unit>150 and unit<=250:\n",
    "    amount=basic_charge+unit*16\n",
    "    print(\"Your final amount is {} rupees.\".format(amount))\n",
    "elif unit>250:\n",
    "    amount=basic_charge+unit*20\n",
    "    print(\"Your final amount is {} rupees.\".format(amount))\n",
    "else:\n",
    "    print(\"Please enter valid number of units consumed.\")"
   ]
  },
  {
   "cell_type": "markdown",
   "id": "07646352-063e-40f4-9e48-0f65c5279128",
   "metadata": {},
   "source": [
    "**Explanation:**\n",
    "\n",
    "We start by taking the numbers of units consumed as input from the user. We have used the formula \"amount=basic_charge+number_of_unit*price_per_unit\" everywhere to calculate the bill amount.\n",
    "\n",
    "we are using input() function to take the user input. The input() function returns a string, so we use int() to convert the input to integer, since units can not be string.\n",
    "\n",
    "Then we are Using if-elif-else lader to calculate the final bill. \n",
    "\n",
    "If units is greater than or equal to 0 and is less than or equal to 100 then the if(if unit>=0 and unit<=100) block will execute. The cost per unit for this slab is 8 rupees.\n",
    "\n",
    "Otherwise If units is greater than 100 and is less than or equal to 150 then the elif(elif unit>100 and unit<=150) block will execute. The cost per unit for this slab is 12 rupees.\n",
    "\n",
    "Otherwise If units is greater than 150 and is less than or equal to250 then the elif(elif unit>150 and unit<=250) block will execute. The cost per unit for this slab is 16 rupees.\n",
    "\n",
    "Otherwise If units is greater than 250 then the elif(elif unit>250) block will execute. The cost per unit for this slab is 20 rupees.\n",
    "\n",
    "Otherwise the else block will be executed.\n",
    "\n",
    "Finally we are printing the result using \"print()\" function and \"str.format()\" method of string formatting."
   ]
  },
  {
   "cell_type": "markdown",
   "id": "a8b4a4e0-86b8-45ec-94f9-e211991b476b",
   "metadata": {},
   "source": [
    "**28. Create a program to determine the type of quadrilateral based on its angles and sides using elif\n",
    "statements.**"
   ]
  },
  {
   "cell_type": "code",
   "execution_count": 31,
   "id": "d80ac000-1c00-4ceb-b14d-e66a80dbbd3f",
   "metadata": {},
   "outputs": [
    {
     "name": "stdin",
     "output_type": "stream",
     "text": [
      "Enter length of side 1:  6\n",
      "Enter length of side 2:  7\n",
      "Enter length of side 3:  6\n",
      "Enter length of side 4:  7\n",
      "Enter measure of angle 1:  90\n",
      "Enter measure of angle 2:  90\n",
      "Enter measure of angle 3:  90\n",
      "Enter measure of angle 4:  90\n"
     ]
    },
    {
     "name": "stdout",
     "output_type": "stream",
     "text": [
      "The quadrilateral is a Rectangle\n"
     ]
    }
   ],
   "source": [
    "def quadrilateral_type(sides, angles):\n",
    "    if sides[0] == sides[1] == sides[2] == sides[3]:\n",
    "        if angles[0] == angles[1] == angles[2] == angles[3] == 90:\n",
    "            return \"Square\"\n",
    "        elif angles[0] == angles[2] and angles[1] == angles[3]:\n",
    "            return \"Rhombus\"\n",
    "    elif sides[0] == sides[2] and sides[1] == sides[3]:\n",
    "        if angles[0] == angles[2] and angles[1] == angles[3] == 90:\n",
    "            return \"Rectangle\"\n",
    "    elif sides[0] == sides[1] == sides[2] == sides[3]:\n",
    "        return \"Trapezoid\"\n",
    "    else:\n",
    "        return \"Quadrilateral\"\n",
    "\n",
    "# Taking user input for the lengths of sides and measures of angles\n",
    "side_lengths = []\n",
    "angle_measures = []\n",
    "\n",
    "for i in range(4):\n",
    "    length = float(input(f\"Enter length of side {i + 1}: \"))\n",
    "    side_lengths.append(length)\n",
    "\n",
    "angle_sum=0\n",
    "for i in range(4):\n",
    "    angle = float(input(f\"Enter measure of angle {i + 1}: \"))\n",
    "    angle_sum+=angle\n",
    "    angle_measures.append(angle)\n",
    "\n",
    "# Determine the type of quadrilateral\n",
    "if(angle_sum==360):\n",
    "    quad_type = quadrilateral_type(side_lengths, angle_measures)\n",
    "\n",
    "    print(f\"The quadrilateral is a {quad_type}\")\n",
    "else:\n",
    "    print(\"Please enter valid angles for the quardilateral.\")\n"
   ]
  },
  {
   "cell_type": "markdown",
   "id": "c91a0f96-676d-4fd2-bc8e-116439976f73",
   "metadata": {},
   "source": [
    "**Explanation:**\n",
    "\n",
    "We have quadrilateral_type() function that takes lists representing the lengths of sides and measures of angles as arguments and returns the type of quadrilateral. \n",
    "\n",
    "quadrilateral_type() function uses if-elif-else statements to check various conditions to determine the type of quadrilateral\n",
    "\n",
    "for loop and range function(for i in range(4):) are used take the length of sides and the value of angles as input from the user.\n",
    "\n",
    "Range function accepts three parameters, and it's syntax is \"range(start, end, step)\", Range() creates a range object that represents a sequence of numbers between start and end(start is included and end is excluded). Step represents the jump size between the current number and the next number. The default value of step is 1. The default value of start is 0.\n",
    "\n",
    "Then we are checking if the sum of all the four sides of the quardilateral is 360 or not. If the sum of all the four sides of the quardilateral is 360, then if block(if(angle_sum==360)) will execute. Otherwise it's corresponding else block will execute.\n",
    "\n",
    "Finally print() function is used to print the result."
   ]
  },
  {
   "cell_type": "markdown",
   "id": "a5aaef70-cdd2-4f3f-a5b4-0e7c5b0c2643",
   "metadata": {},
   "source": [
    "**29. Write a Python script to determine the season based on a user-provided month using elif statements.**"
   ]
  },
  {
   "cell_type": "code",
   "execution_count": 32,
   "id": "041da198-c23e-44c8-ae54-a50157919ca3",
   "metadata": {},
   "outputs": [
    {
     "name": "stdin",
     "output_type": "stream",
     "text": [
      "Enter the month: march\n"
     ]
    },
    {
     "name": "stdout",
     "output_type": "stream",
     "text": [
      "Autumn Season\n"
     ]
    }
   ],
   "source": [
    "#Taking the month as input from the user.\n",
    "month=input(\"Enter the month:\")\n",
    "month=month.lower() #The month entered by the user is converted to lowercase.\n",
    "\n",
    "#Using if-elif-else statements we are diciding the season.\n",
    "if month in ('november', 'december', 'january'):\n",
    "    print(\"Winter Season\")\n",
    "elif month in ('february', 'march'):\n",
    "    print(\"Autumn Season\")\n",
    "elif month in ('april', 'may', 'june', 'july'):\n",
    "    print(\"Summer Season\")\n",
    "elif month in ('august', 'september', 'october'):\n",
    "    print(\"Rainy Season\")\n",
    "else:\n",
    "    print(\"Please check the month you have entered\")"
   ]
  },
  {
   "cell_type": "markdown",
   "id": "e81c0b1a-ece7-4085-b3aa-45d984100a93",
   "metadata": {},
   "source": [
    "**Explanation:**\n",
    "\n",
    "We start by Taking the month as input from the user.\n",
    "\n",
    "we are using input() function to take the user input. The input() function returns a string,by default.\n",
    "\n",
    "Then The month entered by the user is converted to lowercase.\n",
    "\n",
    "Then Using if-elif-else statements we are diciding the season.\n",
    "\n",
    "Check if the month is among 'november', 'december', 'january' then if block(if month in ('november', 'december', 'january')) will be executed and the season is winter.\n",
    "\n",
    "Otherwise Check if the month is among 'february', 'march' then elif block(elif month in ('february', 'march')) will be executed and the season is Autumn.\n",
    "\n",
    "Otherwise Check if the month is among 'april', 'may', 'june', 'july' then elif block(elif month in ('april', 'may', 'june', 'july')) will be executed and the season is Summer.\n",
    "\n",
    "Otherwise Check if the month is among 'august', 'september', 'october' then elif block(elif month in ('august', 'september', 'october')) will be executed and the season is Rainy.\n",
    "\n",
    "Otherwise the else block will be executed.\n",
    "\n",
    "Finally we are printing the result using print() function."
   ]
  },
  {
   "cell_type": "markdown",
   "id": "9d8ea6f0-e6bc-4d5e-a543-5703610aa531",
   "metadata": {},
   "source": [
    "**30. Implement a program to determine the type of a year (leap or common) and month (30 or 31 days) using\n",
    "elif statements.**"
   ]
  },
  {
   "cell_type": "code",
   "execution_count": 33,
   "id": "344acd01-e2b1-4629-9946-05303cb1671e",
   "metadata": {},
   "outputs": [
    {
     "name": "stdin",
     "output_type": "stream",
     "text": [
      "Enter a year:  2023\n",
      "Enter a month (1-12):  12\n"
     ]
    },
    {
     "name": "stdout",
     "output_type": "stream",
     "text": [
      "2023 is a common year.\n",
      "The month 12 has 31 days.\n"
     ]
    }
   ],
   "source": [
    "def is_leap_year(year): #This function checks for the leap year.\n",
    "    if (year % 4 == 0 and year % 100 != 0) or (year % 400 == 0):\n",
    "        return True\n",
    "    else:\n",
    "        return False\n",
    "\n",
    "def days_in_month(year, month):#This function returns the number of days in a month.\n",
    "    if month in {1, 3, 5, 7, 8, 10, 12}:\n",
    "        return 31\n",
    "    elif month in {4, 6, 9, 11}:\n",
    "        return 30\n",
    "    elif month == 2:\n",
    "        if is_leap_year(year):\n",
    "            return 29\n",
    "        else:\n",
    "            return 28\n",
    "    return None\n",
    "\n",
    "# Taking user input for year and month\n",
    "input_year = int(input(\"Enter a year: \"))\n",
    "input_month = int(input(\"Enter a month (1-12): \"))\n",
    "\n",
    "# Check if the year is leap or common and the number of days in the month\n",
    "leap_year = is_leap_year(input_year)\n",
    "days = days_in_month(input_year, input_month)\n",
    "\n",
    "if leap_year:\n",
    "    print(f\"{input_year} is a leap year.\")\n",
    "else:\n",
    "    print(f\"{input_year} is a common year.\")\n",
    "\n",
    "if days is not None:\n",
    "    print(f\"The month {input_month} has {days} days.\")\n",
    "else:\n",
    "    print(\"Invalid month input.\")"
   ]
  },
  {
   "cell_type": "markdown",
   "id": "06f8e2b1-492c-4480-b0fd-cbe64a824803",
   "metadata": {},
   "source": [
    "**Explanation:**\n",
    "\n",
    "is_leap_year(year) function determines whether a given year is a leap year or not. It uses a common rule for leap years, a year is a leap year if it is divisible by 4 and not divisible by 100, or if it is divisible by 400. It Returns True if the given year is a leap year, otherwise, it returns False.\n",
    "\n",
    "days_in_month(year, month) function determines the number of days in a specific month of a given year. It takes two arguments, year (for the year) and month (for the month number). It Uses the information about leap years obtained from the is_leap_year() function. If the month number is 1, 3, 5, 7, 8, 10, or 12, it returns 31 days. If the month number is 4, 6, 9, or 11, it returns 30 days. For February (month number 2), it checks if the given year is a leap year using is_leap_year(). If it is, February has 29 days, otherwise, it has 28 days.\n",
    "\n",
    "We are taking the year and month number as input from the user.\n",
    "\n",
    "Then we call the is_leap_year() function to check if the entered year is a leap year. Also we invoke the days_in_month() function to determine the number of days in the entered month of the year.\n",
    "\n",
    "Finally we are printing the result using print() function."
   ]
  },
  {
   "cell_type": "markdown",
   "id": "32d0d6a3-7364-4398-80d2-d4679f8aa097",
   "metadata": {},
   "source": [
    "# Basic Level:"
   ]
  },
  {
   "cell_type": "markdown",
   "id": "7259a575-caca-4546-8af7-c4b05dee9413",
   "metadata": {},
   "source": [
    "**1. Write a Python program that checks if a given number is positive, negative, or zero.**"
   ]
  },
  {
   "cell_type": "code",
   "execution_count": 34,
   "id": "91c0c83f-edd6-41b2-a003-208ccc75a1e8",
   "metadata": {},
   "outputs": [
    {
     "name": "stdin",
     "output_type": "stream",
     "text": [
      "Enter a number: -99\n"
     ]
    },
    {
     "name": "stdout",
     "output_type": "stream",
     "text": [
      "Entered number is a negative number\n"
     ]
    }
   ],
   "source": [
    "num=float(input(\"Enter a number:\")) #Taking the number as input from user \n",
    "\n",
    "if(num>0): #If the number is greater than 0 then it is positive.\n",
    "    print(\"Entered number is a positive number\")\n",
    "elif(num==0): #If the number is equal to 0 then it is zero.\n",
    "    print(\"Entered number is zero\")\n",
    "else: #else the number is negative.\n",
    "    print(\"Entered number is a negative number\")"
   ]
  },
  {
   "cell_type": "markdown",
   "id": "807552b2-123c-4659-8651-9602221902f7",
   "metadata": {},
   "source": [
    "**Explanation:**\n",
    "\n",
    "We start by using the input() function to take the number as input from the user. The input() function returns a string, so we use float() to convert the input to floating-point numbers since a number cannot be string.\n",
    "\n",
    "Then we are using if-elif-else lader to check if the number is positive, negative, or zero.\n",
    "\n",
    "if the number is greater than 0 then it is positive.\n",
    "\n",
    "else if the number is equal to 0 then it is zero.\n",
    "\n",
    "numbers that donot satisfy any of the above two conditions, then it is negative.\n",
    "\n",
    "print() function is used to print the result."
   ]
  },
  {
   "cell_type": "markdown",
   "id": "5896063f-9fea-4a16-95ff-66f59cdd2f92",
   "metadata": {},
   "source": [
    "**2. Create a program to determine if a person is eligible to vote based on their age.**"
   ]
  },
  {
   "cell_type": "code",
   "execution_count": 35,
   "id": "774daa54-8bce-41c4-8175-5e64f5af40a3",
   "metadata": {},
   "outputs": [
    {
     "name": "stdin",
     "output_type": "stream",
     "text": [
      "Enter Your age: 17\n"
     ]
    },
    {
     "name": "stdout",
     "output_type": "stream",
     "text": [
      "You are not eligible to vote\n"
     ]
    }
   ],
   "source": [
    "age=int(input(\"Enter Your age:\")) #Taking the age as input from the user.\n",
    "if age>=18: #if the age is greater than or equal to 18, then the person can vote. \n",
    "    print(\"You are eligible to vote\")\n",
    "else: #else the person cannot vote.\n",
    "    print(\"You are not eligible to vote\")"
   ]
  },
  {
   "cell_type": "markdown",
   "id": "b2aa63b8-7c55-4520-8c64-9adbeab584f3",
   "metadata": {},
   "source": [
    "**Explanation:**\n",
    "\n",
    "Here we are taking the age of the person as input fron the user.\n",
    "\n",
    "we are using input() function to take the user input. The input() function returns a string, so we use int() to convert the input to integers, since age of a person can not be string.\n",
    "\n",
    "Then using if-else blocks we are checking if the user can vote or not.\n",
    "\n",
    "If the age of the user is greater than or equal to 18, then the user can vote. \n",
    "\n",
    "else the user vannot vote.\n",
    "\n",
    "print() function is used to print the result."
   ]
  },
  {
   "cell_type": "markdown",
   "id": "7363b47d-354d-4180-a9df-db57726c0e73",
   "metadata": {},
   "source": [
    "**3. Write a program to find the maximum of two given numbers using conditional statements.**"
   ]
  },
  {
   "cell_type": "code",
   "execution_count": 37,
   "id": "d86ccda1-1bd6-47e5-badc-aa954f5820ea",
   "metadata": {},
   "outputs": [
    {
     "name": "stdin",
     "output_type": "stream",
     "text": [
      "Enter the first number: -9\n",
      "Enter the second number: 0\n"
     ]
    },
    {
     "name": "stdout",
     "output_type": "stream",
     "text": [
      "The maximum number among -9.0 and 0.0 is: 0.0\n"
     ]
    }
   ],
   "source": [
    "#Taking the two numbers as input from the user.\n",
    "num1=float(input(\"Enter the first number:\"))\n",
    "num2=float(input(\"Enter the second number:\"))\n",
    "\n",
    "if num1>num2: #if num1 is greater than num2 then num1 is maximun.\n",
    "    print(\"The maximum number among {} and {} is: {}\".format(num1,num2,num1))\n",
    "elif num1<num2: ##if num2 is greater than num1 then num2 is maximun.\n",
    "    print(\"The maximum number among {} and {} is: {}\".format(num1,num2,num2))\n",
    "else: #else both the numbers are equal.\n",
    "    print(\"Both the numbers are equal\")"
   ]
  },
  {
   "cell_type": "markdown",
   "id": "4cd074a5-bf45-4756-bf8a-31eaf3cc4d38",
   "metadata": {},
   "source": [
    "**Explanation:**\n",
    "\n",
    "We start by taking the two numbers as input from the userand storing them in variables \"num1\" and \"num2\".\n",
    "\n",
    "we are using input() function to take the user input. The input() function returns a string, so we use float() to convert the input to float, since numbers can not be string.\n",
    "\n",
    "Then we are using if-elif-else lader to find the maximum of the two number.\n",
    "\n",
    "If num1 is reater than num2 then num1 is maximun.\n",
    "\n",
    "Else if num2 is greater than num1 then num2 is maximun.\n",
    "\n",
    "Else both the numbers are equal.\n",
    "\n",
    "print() function is used to print the result."
   ]
  },
  {
   "cell_type": "markdown",
   "id": "faca36b1-459d-435a-892a-4554b3e9b230",
   "metadata": {},
   "source": [
    "**4. Develop a program that calculates the grade of a student based on their exam score.**"
   ]
  },
  {
   "cell_type": "code",
   "execution_count": 38,
   "id": "879d7c3d-16cb-4cc5-9542-ee99b47e6e62",
   "metadata": {},
   "outputs": [
    {
     "name": "stdin",
     "output_type": "stream",
     "text": [
      "Enter the score: 99\n"
     ]
    },
    {
     "name": "stdout",
     "output_type": "stream",
     "text": [
      "Your marks is 99.0, and your grade is 'A+'\n"
     ]
    }
   ],
   "source": [
    "score=float(input(\"Enter the score:\"))#Taking the score as input from the user.\n",
    "grade='' #Initialising a variable named \"grade\" as empty string. This variable will hold the grade.\n",
    "\n",
    "#Using if-elif-else lader we are determining the grade of the student\n",
    "if score>=90 and score<=100:\n",
    "    grade='A+'\n",
    "elif score>=80 and score<89:\n",
    "    grade='A'\n",
    "elif score>=70 and score<79:\n",
    "    grade='B'\n",
    "elif score>=60 and score<69:\n",
    "    grade='C'\n",
    "elif score>=50 and score<59:\n",
    "    grade='D'\n",
    "elif score>=35 and score<49:\n",
    "    grade='E'\n",
    "elif score<35 and score>=0:\n",
    "    grade='F'\n",
    "else:\n",
    "    print(\"Invalid score entered\")\n",
    "    \n",
    "if grade != '': #If the variable \"grade\" is not an emoty string then print the result.\n",
    "    print(\"Your marks is {}, and your grade is '{}'\".format(score,grade))"
   ]
  },
  {
   "cell_type": "markdown",
   "id": "7896f395-2d21-46dd-9446-c13ea7dbd092",
   "metadata": {},
   "source": [
    "**Explanation:**\n",
    "\n",
    "We start by taking the input from the user.\n",
    "\n",
    "we are using input() function to take the user input. The input() function returns a string, so we use float() to convert the input to float, since score can not be string.\n",
    "\n",
    "Then we have initialised a variable named \"grade\" as empty string. This variable will hold the grade of the student.\n",
    "\n",
    "Then using \"if-elif-else\" lader we are claculating the grade of the student.\n",
    "\n",
    "If the score is greater than 100 or is less than 0 then it is invalid score, and we are handling this case inside \"else\" block. In this case no grade is awarded.\n",
    "\n",
    "If the variable grade is not empty then only we will print the result.\n",
    "\n",
    "Finally we are printing the result using \"print()\" function and \"str.format()\" method of string formatting."
   ]
  },
  {
   "cell_type": "markdown",
   "id": "195feb63-ce32-4b55-8375-f506b32613a2",
   "metadata": {},
   "source": [
    "**5. Create a program that checks if a year is a leap year or not.**"
   ]
  },
  {
   "cell_type": "code",
   "execution_count": 39,
   "id": "b2538a21-a098-4f92-a4b9-bc64e5e78959",
   "metadata": {},
   "outputs": [
    {
     "name": "stdin",
     "output_type": "stream",
     "text": [
      "Enter the year to check for: 2024\n"
     ]
    },
    {
     "name": "stdout",
     "output_type": "stream",
     "text": [
      "2024 is leap year\n"
     ]
    }
   ],
   "source": [
    "year=int(input(\"Enter the year to check for:\")) #Taking the year as input from the user.\n",
    "\n",
    "if year%400 == 0: #If the year is exactly divisible by 400, then it is a leap year.\n",
    "    print(\"{} is leap year\".format(year))\n",
    "elif year%100 == 0: #if the year is exactly divisible by 100 but not by 400, then it is not a leap year.\n",
    "    print(\"{} is not leap year\".format(year))\n",
    "elif year%4 == 0: #if the year is exactly divisible by 4, then it is a leap year.\n",
    "    print(\"{} is leap year\".format(year))\n",
    "else: #all other years are not a leap year.\n",
    "    print(\"{} is not leap year\".format(year))"
   ]
  },
  {
   "cell_type": "markdown",
   "id": "74fa67ce-ef51-4d94-bd2c-67fa2a29c1ae",
   "metadata": {},
   "source": [
    "**Explanation:**\n",
    "\n",
    "We start by taking the year as input from the user and string it in a variable named \"year\".\n",
    "\n",
    "we are using input() function to take the user input. The input() function returns a string, so we use int() to convert the input to integer, since year can not be string.\n",
    "\n",
    "Then we are using if-elif-else lader to check for the leap year.\n",
    "\n",
    "If the year is exactly divisible by 400, then it is a leap year.\n",
    "\n",
    "else if the year is exactly divisible by 100 but not by 400, then it is not a leap year.\n",
    "\n",
    "else if the year is exactly divisible by 4, then it is a leap year.\n",
    "\n",
    "all other years are not a leap year.\n",
    "\n",
    "print() function is used to print the result."
   ]
  },
  {
   "cell_type": "markdown",
   "id": "f60af2c3-b62d-4e17-bcfc-7312f7fac1aa",
   "metadata": {},
   "source": [
    "**6. Write a program to classify a triangle based on its sides' lengths.**"
   ]
  },
  {
   "cell_type": "code",
   "execution_count": 40,
   "id": "02a779e0-232c-4688-8574-c5463d93419d",
   "metadata": {},
   "outputs": [
    {
     "name": "stdin",
     "output_type": "stream",
     "text": [
      "Enter the length of first side: 6\n",
      "Enter the length of first second side: 7\n",
      "Enter the length of first third side: 6\n"
     ]
    },
    {
     "name": "stdout",
     "output_type": "stream",
     "text": [
      "The given triangle is isosceles\n"
     ]
    }
   ],
   "source": [
    "#taking the three sides of the triangle as input from the user.\n",
    "side1=float(input(\"Enter the length of first side:\"))\n",
    "side2=float(input(\"Enter the length of first second side:\"))\n",
    "side3=float(input(\"Enter the length of first third side:\"))\n",
    "\n",
    "#Using nested if-else statement we are determining the type of triangle.\n",
    "if side1==side2==side3:\n",
    "    print(\"The given triangle is equilateral\")\n",
    "    \n",
    "else:\n",
    "    if side1==side2 or side2==side3 or side1==side3:\n",
    "        print(\"The given triangle is isosceles\")\n",
    "    else:\n",
    "        print(\"The given triangle is scalen\")"
   ]
  },
  {
   "cell_type": "markdown",
   "id": "7b50e0e5-0248-4495-8c8b-74c7f25cc0cf",
   "metadata": {},
   "source": [
    "**Explanation:**\n",
    "\n",
    "We start by taking the three sides of the triangle as input from the user.\n",
    "\n",
    "we are using input() function to take the user input. The input() function returns a string, so we use float() to convert the input to float, since the length of side of a triangle can not be string.\n",
    "\n",
    "Then Using nested if-else statement we are determining the type of triangle.\n",
    "\n",
    "If \"side1==side2==side3\" then the the first \"if\" block is executed and the triangle is equilateral.\n",
    "\n",
    "otherwise the outer else block is executed. Inside this block we check if any to sides of the triangle is equal using \"if side1==side2 or side2==side3 or side1==side3\", then the nested if block is executed and the triangle is isosceles. Else the triangle is scalen\n",
    "\n",
    "Finally we are printing the result."
   ]
  },
  {
   "cell_type": "markdown",
   "id": "fe636af7-6455-4198-9a04-f0f7d950e048",
   "metadata": {},
   "source": [
    "**7. Build a program that determines the largest of three given numbers.**"
   ]
  },
  {
   "cell_type": "code",
   "execution_count": 41,
   "id": "92cda8a3-94ce-40ae-923c-9a43ddce2a4d",
   "metadata": {},
   "outputs": [
    {
     "name": "stdin",
     "output_type": "stream",
     "text": [
      "Enter the first number: -9\n",
      "Enter the second number: 8\n",
      "Enter the third number: -7\n"
     ]
    },
    {
     "name": "stdout",
     "output_type": "stream",
     "text": [
      "The maximum number among -9.0, 8.0 and -7.0 is: 8.0\n"
     ]
    }
   ],
   "source": [
    "#taking the three numbers as input from the user.\n",
    "num1=float(input(\"Enter the first number:\"))\n",
    "num2=float(input(\"Enter the second number:\"))\n",
    "num3=float(input(\"Enter the third number:\"))\n",
    "\n",
    "#Using if-elif-else lader to find the maximum number among the three.\n",
    "if num1>=num2 and num1>=num3:\n",
    "    print(\"The maximum number among {}, {} and {} is: {}\".format(num1,num2,num3,num1))\n",
    "elif num1<=num2 and num2>=num3:\n",
    "    print(\"The maximum number among {}, {} and {} is: {}\".format(num1,num2,num3,num2))\n",
    "else:\n",
    "    print(\"The maximum number among {}, {} and {} is: {}\".format(num1,num2,num3,num3))"
   ]
  },
  {
   "cell_type": "markdown",
   "id": "4eb71654-e527-4266-ac59-462309c9939c",
   "metadata": {},
   "source": [
    "**Explanation:**\n",
    "\n",
    "We start by taking the three numbers as input from the user.\n",
    "\n",
    "we are using input() function to take the user input. The input() function returns a string, so we use float() to convert the input to float, since a number can not be acstring.\n",
    "\n",
    "Then we are Using if-elif-else lader to find the maximum number among the three.\n",
    "\n",
    "if \"num1>=num2\" and \"num1>=num3\" then num1 is the maximum number.\n",
    "\n",
    "else if \"num2>=num1\" and \"num2>=num3\" then num2 is the maximum number.\n",
    "\n",
    "If none of the above two blocks are executed then the \"else\" block is executed and the maximum number is num3.\n",
    "\n",
    "In this program if \"num1=num2=num3\" the the first \"if\" block will be execyted and num1 will be treated as maximum number.\n",
    "\n",
    "Finally we are printing the result using \"print()\" function and \"str.format()\" method of string formatting."
   ]
  },
  {
   "cell_type": "markdown",
   "id": "1d766a7a-a1e7-49ac-a2c8-b52d1c4183f0",
   "metadata": {},
   "source": [
    "**8. Develop a program that checks whether a character is a vowel or a consonant.**"
   ]
  },
  {
   "cell_type": "code",
   "execution_count": 42,
   "id": "dfa023c3-b85d-469b-95f1-dfe513f681e0",
   "metadata": {},
   "outputs": [
    {
     "name": "stdin",
     "output_type": "stream",
     "text": [
      "Enter a character: O\n"
     ]
    },
    {
     "name": "stdout",
     "output_type": "stream",
     "text": [
      "'O' is a vowel\n"
     ]
    }
   ],
   "source": [
    "char=input(\"Enter a character:\")#Taking the character as input from the user.\n",
    "\n",
    "#checking if the character is vowel(Lowercase/Uppercase) or consonant.\n",
    "if char in ('a', 'e', 'i', 'o', 'u') or char in ('A', 'E', 'I', 'O', 'U'): \n",
    "    print(\"'{}' is a vowel\".format(char))\n",
    "else:\n",
    "    print(\"'{}' is a consonant\".format(char))"
   ]
  },
  {
   "cell_type": "markdown",
   "id": "f9aeded6-f21b-4777-90e6-8d02255fbf19",
   "metadata": {},
   "source": [
    "**Explanation:**\n",
    "\n",
    "Taking the character as input from the user.\n",
    "\n",
    "we are using input() function to take the user input. The input() function returns a string by default.\n",
    "\n",
    "Then we are using if-else block to check whether the entered character is a vowel(Lowercase/Uppercase) or a consonant.\n",
    "\n",
    "If the character is present in ('a', 'e', 'i', 'o', 'u') or ('A', 'E', 'I', 'O', 'U'), then the character is a vowel.\n",
    "\n",
    "else the character is a consonant.\n",
    "\n",
    "Finally we are printing the result using \"print()\" function and \"str.format()\" method of string formatting."
   ]
  },
  {
   "cell_type": "markdown",
   "id": "c06ccd06-69ed-40c3-9ff0-c38ed07168c1",
   "metadata": {},
   "source": [
    "**9. Create a program to calculate the total cost of a shopping cart based on discounts.**"
   ]
  },
  {
   "cell_type": "code",
   "execution_count": 43,
   "id": "c5f9a17f-e1e2-4fb7-8d6b-a0f58ef07bd0",
   "metadata": {},
   "outputs": [
    {
     "name": "stdin",
     "output_type": "stream",
     "text": [
      "Enter the total cost: 2500\n"
     ]
    },
    {
     "name": "stdout",
     "output_type": "stream",
     "text": [
      "You are being offered 20% discount\n",
      "Final price after discount is: 2000.0\n"
     ]
    }
   ],
   "source": [
    "amount=float(input(\"Enter the total cost:\")) #Taking the total cost as input from the user.\n",
    "\n",
    "#Using the if-elif-else lader to calculate the final amount after discount.\n",
    "if amount>999 and amount<=1999:\n",
    "    print(\"You are being offered 10% discount\")\n",
    "    discounted_price=amount-(amount*0.1)\n",
    "    print(\"Final price after discount is: {}\".format(discounted_price))\n",
    "elif amount>1999 and amount<=3999:\n",
    "    print(\"You are being offered 20% discount\")\n",
    "    discounted_price=amount-(amount*0.2)\n",
    "    print(\"Final price after discount is: {}\".format(discounted_price))\n",
    "elif amount>3999:\n",
    "    print(\"You are being offered 30% discount\")\n",
    "    discounted_price=amount-(amount*0.3)\n",
    "    print(\"Final price after discount is: {}\".format(discounted_price))\n",
    "else:\n",
    "    print(\"Sorry there is no dicount for this purchase amount.\")"
   ]
  },
  {
   "cell_type": "markdown",
   "id": "1cfacb5f-ab39-42f0-b2d4-b9b202edc6e6",
   "metadata": {},
   "source": [
    "**Explanation:**\n",
    "\n",
    "We start by Taking the purchase amount as input from the user.\n",
    "\n",
    "we are using input() function to take the user input. The input() function returns a string, so we use float() to convert the input to float, since amount can not be string.\n",
    "\n",
    "Then we are using the if-elif-else lader to calculate the final amount after discount. We have used the formula \"discounted_price=amount-(amount*(discount_in_percentage/100))\" every where to calculate the final price after discount.\n",
    "\n",
    "Check if the amount is greater than 999 and is less than or equal to 1999 the if(if amount>999 and amount<=1999) block will execute, and the dicsount offered is 10%.\n",
    "\n",
    "otherwise Check if the amount is greater than 1999 and is less than or equal to 2999 the elif(elif amount>1999 and amount<=3999) block will execute, and the dicsount offered is 20%.\n",
    "\n",
    "otherwise Check if the amount is greater than 3999, the elif(elif amount>3999) block will execute, and the dicsount offered is 30%.\n",
    "\n",
    "Otherwise the else block will execute and there is no discount on this purchase amount.\n",
    "\n",
    "Finally we are printing the result using \"print()\" function and \"str.format()\" method of string formatting."
   ]
  },
  {
   "cell_type": "markdown",
   "id": "73565560-3a29-464c-a0ac-45db9d15ee4b",
   "metadata": {},
   "source": [
    "**10. Write a program that checks if a given number is even or odd.**"
   ]
  },
  {
   "cell_type": "code",
   "execution_count": 44,
   "id": "1db9ec74-b9d8-407c-b9c3-7914d887b18a",
   "metadata": {},
   "outputs": [
    {
     "name": "stdin",
     "output_type": "stream",
     "text": [
      "Enter a number: 97\n"
     ]
    },
    {
     "name": "stdout",
     "output_type": "stream",
     "text": [
      "97 is a odd number\n"
     ]
    }
   ],
   "source": [
    "num=int(input(\"Enter a number:\"))#Taking the number as input from the user.\n",
    "\n",
    "#Checking whether the num is even or odd.\n",
    "if num%2==0:\n",
    "    print(\"{} is an even number\".format(num))\n",
    "else:\n",
    "    print(\"{} is a odd number\".format(num))"
   ]
  },
  {
   "cell_type": "markdown",
   "id": "85a52e3e-410c-4484-ab2b-7a060a634eb9",
   "metadata": {},
   "source": [
    "**Explanation:**\n",
    "\n",
    "We start by taking the number as input from the user.\n",
    "\n",
    "we are using input() function to take the user input. The input() function returns a string, so we use int() to convert the input to integer, since a number can not be string.\n",
    "\n",
    "Then using if-else block we are checking whether the number is even or odd.\n",
    "\n",
    "If the number is exactly divisible by 2 then it is an evan number.\n",
    "\n",
    "Else the number is an odd number.\n",
    "\n",
    "Finally we are printing the result using \"print()\" function and \"str.format()\" method of string formatting."
   ]
  },
  {
   "cell_type": "markdown",
   "id": "0856d8d4-81ad-4989-9ac1-5ac7ddbd049a",
   "metadata": {},
   "source": [
    "# Intermediate Level:"
   ]
  },
  {
   "cell_type": "markdown",
   "id": "e43717d5-b178-4bdc-a5ee-028518f8f784",
   "metadata": {},
   "source": [
    "**11. Write a program that calculates the roots of a quadratic equation .**"
   ]
  },
  {
   "cell_type": "code",
   "execution_count": 45,
   "id": "137dea05-97d5-447c-9778-8702a8a241c4",
   "metadata": {},
   "outputs": [
    {
     "name": "stdin",
     "output_type": "stream",
     "text": [
      "Enter the coefficient of 'x2': 4\n",
      "Enter the coefficient of 'x': 8\n",
      "Enter the coefficient of constant: 4\n"
     ]
    },
    {
     "name": "stdout",
     "output_type": "stream",
     "text": [
      "The given quadratic equation has real and equal roots: -1.0\n"
     ]
    }
   ],
   "source": [
    "#A quadratic equation is of the form \"ax2 + bx + c = 0\", where a,b,c are real numbers and a!=0\n",
    "#Taking the three coefficients as input from the user.\n",
    "a=float(input(\"Enter the coefficient of 'x2':\"))\n",
    "b=float(input(\"Enter the coefficient of 'x':\"))\n",
    "c=float(input(\"Enter the coefficient of constant:\"))\n",
    "\n",
    "#Using nested if-else statement to calculate the roots of the quadratic equation. \n",
    "if a!= 0:\n",
    "    d=(b*b)-(4*a*c)\n",
    "    if d>0:\n",
    "        root1=(-b+(d**0.5))/(2*a)\n",
    "        root2=(-b-(d**0.5))/(2*a)\n",
    "        print(\"The given quadratic equation has real and unequal roots: {} and {}\".format(root1,root2))\n",
    "    elif d==0:\n",
    "        root=(-b)/(2*a)\n",
    "        print(\"The given quadratic equation has real and equal roots: {}\".format(root))\n",
    "    else:\n",
    "        root1=(-b+(d**0.5))/(2*a)\n",
    "        root2=(-b-(d**0.5))/(2*a)\n",
    "        print(\"The given quadratic equation has imaginary and unequal roots: {} and {}\".format(root1,root2))\n",
    "else:\n",
    "    print(\"The coefficient of 'x2' cannot be 0 for a quadratic equation\")"
   ]
  },
  {
   "cell_type": "markdown",
   "id": "b17c8a52-6290-458b-a015-e0d565dda833",
   "metadata": {},
   "source": [
    "**Explanation:**\n",
    "\n",
    "We are taking the three coefficients as input from the user.\n",
    "\n",
    "We start by using the input() function to take the number as input from the user. The input() function returns a string, so we use float() to convert the input to floating-point numbers since a number cannot be string.\n",
    "\n",
    "We are Using nested if-else statement to calculate the roots of the quadratic equation. \n",
    "\n",
    "If the value of 'a' is not equal to 0 then the first if block is executed. Otherwise it's corresponding else block is executed as the entered coefficients do not belong to a quadratic number.\n",
    "\n",
    "Inside the if block we are calculating the value of d using the formula( d=(b*b)-(4*a*c) ).\n",
    "\n",
    "if d>0 the nesteed if(if d>0:) is executed and the quadratic equation has real and distinct roots, the roots are calculated using formulae \"root1=(-b+(d**0.5))/(2*a) root2=(-b-(d**0.5))/(2*a)\".\n",
    "\n",
    "if the nested if block fails, we check if \"d\" is equal to 0 using the statement \"elif d==0:\", and the quadratic equation has real and equal roots. The value of root is \"root=(-b)/(2*a)\".\n",
    "\n",
    "Otherwise the else block is executed and the quadratic equation has imaginary and unequal roots, the roots are calculated using formulae \"root1=(-b+(d**0.5))/(2*a) root2=(-b-(d**0.5))/(2*a)\".\n",
    "\n",
    "print() function is used to print the result."
   ]
  },
  {
   "cell_type": "markdown",
   "id": "289326b5-951a-4436-b417-6ae601b37978",
   "metadata": {},
   "source": [
    "**12. Create a program that determines the day of the week based on the day number (1-7).**"
   ]
  },
  {
   "cell_type": "code",
   "execution_count": 46,
   "id": "46c1c0ef-1570-419d-ae5d-3de5e5154c6b",
   "metadata": {},
   "outputs": [
    {
     "name": "stdin",
     "output_type": "stream",
     "text": [
      "Enter a number from 1 to 7: 5\n"
     ]
    },
    {
     "name": "stdout",
     "output_type": "stream",
     "text": [
      "The day is Friday\n"
     ]
    }
   ],
   "source": [
    "#Taking the day number as input from the user.\n",
    "num=int(input(\"Enter a number from 1 to 7:\"))\n",
    "\n",
    "#Using if-elif-else statement to determine the day based on the number entered by the user.\n",
    "if num==1:\n",
    "    print(\"The day is Monday\")\n",
    "elif num==2:\n",
    "    print(\"The day is Tuesday\")\n",
    "elif num==3:\n",
    "    print(\"The day is Wednesday\")\n",
    "elif num==4:\n",
    "    print(\"The day is Thursday\")\n",
    "elif num==5:\n",
    "    print(\"The day is Friday\")\n",
    "elif num==6:\n",
    "    print(\"The day is Saturady\")\n",
    "elif num==7:\n",
    "    print(\"The day is Sunday\")\n",
    "else:\n",
    "    print(\"There is no any day for the number entered\")\n"
   ]
  },
  {
   "cell_type": "markdown",
   "id": "6fe95ea7-1953-445f-b896-edf7d8cb5516",
   "metadata": {},
   "source": [
    "**Explanation:**\n",
    "\n",
    "We start by taking the day number as input from the user.\n",
    "\n",
    "We start by using the input() function to take the number as input from the user. The input() function returns a string, so we use int() to convert the input to integer since a number cannot be string.\n",
    "\n",
    "Then we are using if-elif-else statement to determine the day based on the number entered by the user.\n",
    "\n",
    "If the number entered by the user if from 1 to 7, then one of the \"if/elif\" statement will execute and the corresponding day name is printed.\n",
    "\n",
    "Otherwise else block is executed as the day number cannot be more than 7 or less than 0.\n",
    "\n",
    "print() function is used to print the result."
   ]
  },
  {
   "cell_type": "markdown",
   "id": "1796b4cc-b3e8-4bc8-bc9d-644cdf2fbd81",
   "metadata": {},
   "source": [
    "**13. Develop a program that calculates the factorial of a given number using recursion.**"
   ]
  },
  {
   "cell_type": "code",
   "execution_count": 47,
   "id": "23c36eee-3f7a-4a84-962e-9f047341678e",
   "metadata": {},
   "outputs": [
    {
     "name": "stdin",
     "output_type": "stream",
     "text": [
      "Enter the number: 5\n"
     ]
    },
    {
     "name": "stdout",
     "output_type": "stream",
     "text": [
      "The factorial of 5 is: 120\n"
     ]
    }
   ],
   "source": [
    "#DEfining a function that accepts a number as arguement and returns it's factorial.\n",
    "def fact(num):\n",
    "    if num==0 or num==1:\n",
    "        return 1\n",
    "    return num*fact(num-1)\n",
    "\n",
    "num=int(input(\"Enter the number:\")) #Taking the number as input from the user.\n",
    "\n",
    "factorial=fact(num) #Calling the function fact() to get the factorial of the number.\n",
    "\n",
    "print(\"The factorial of {} is: {}\".format(num,factorial)) #Printing the result."
   ]
  },
  {
   "cell_type": "markdown",
   "id": "f24871ba-f4b3-4a0a-821e-6ce5bcea3fbf",
   "metadata": {},
   "source": [
    "**Explanation:**\n",
    "\n",
    "We are defining a function named fact() that accepts a number as arguement and returns it's factorial.\n",
    "\n",
    "fact() function uses recursion to calculate the factorial of the number. \n",
    "\n",
    "If a function is getting invoked by itself then it is called recursion.\n",
    "\n",
    "The fact() function checks if the number passed to it is 0 or 1, If the number is 0 or 1 the 1 is returned other wise the function returns the profuct of the number and recursive call to the next smaler number(num-1).\n",
    "\n",
    "We are taking the number as input from the user.\n",
    "\n",
    "we are using input() function to take the user input. The input() function returns a string, so we use int() to convert the input to integer, since amount can not be string.\n",
    "\n",
    "The we are calling the fact() function to get the factorial.\n",
    "\n",
    "Finally we are printing the result."
   ]
  },
  {
   "cell_type": "markdown",
   "id": "0bf52894-c7ed-40dc-9b41-855365b880e0",
   "metadata": {},
   "source": [
    "**14. Write a program to find the largest among three numbers without using the `max()` function.**"
   ]
  },
  {
   "cell_type": "code",
   "execution_count": 49,
   "id": "6f93c32f-6eea-498c-a4c8-3fde39facaa6",
   "metadata": {},
   "outputs": [
    {
     "name": "stdin",
     "output_type": "stream",
     "text": [
      "Enter the first number: 6\n",
      "Enter the second number: 7\n",
      "Enter the third number: 0\n"
     ]
    },
    {
     "name": "stdout",
     "output_type": "stream",
     "text": [
      "The maximum number among 6.0, 7.0 and 0.0 is: 7.0\n"
     ]
    }
   ],
   "source": [
    "#taking the three numbers as input from the user.\n",
    "num1=float(input(\"Enter the first number:\"))\n",
    "num2=float(input(\"Enter the second number:\"))\n",
    "num3=float(input(\"Enter the third number:\"))\n",
    "\n",
    "#Using if-elif-else lader to find the maximum number among the three.\n",
    "if num1>=num2 and num1>=num3:\n",
    "    print(\"The maximum number among {}, {} and {} is: {}\".format(num1,num2,num3,num1))\n",
    "elif num1<=num2 and num2>=num3:\n",
    "    print(\"The maximum number among {}, {} and {} is: {}\".format(num1,num2,num3,num2))\n",
    "else:\n",
    "    print(\"The maximum number among {}, {} and {} is: {}\".format(num1,num2,num3,num3))"
   ]
  },
  {
   "cell_type": "markdown",
   "id": "17f650f1-a114-46a4-b0ae-7dfe93459b95",
   "metadata": {},
   "source": [
    "**Explanation:**\n",
    "\n",
    "We start by taking the three numbers as input from the user.\n",
    "\n",
    "we are using input() function to take the user input. The input() function returns a string, so we use float() to convert the input to float, since a number can not be a string.\n",
    "\n",
    "Then we are Using if-elif-else lader to find the maximum number among the three.\n",
    "\n",
    "if \"num1>=num2\" and \"num1>=num3\" then num1 is the maximum number.\n",
    "\n",
    "else if \"num2>=num1\" and \"num2>=num3\" then num2 is the maximum number.\n",
    "\n",
    "If none of the above two blocks are executed then the \"else\" block is executed and the maximum number is num3.\n",
    "\n",
    "In this program if \"num1=num2=num3\" the the first \"if\" block will be execyted and num1 will be treated as maximum number.\n",
    "\n",
    "Finally we are printing the result using \"print()\" function and \"str.format()\" method of string formatting."
   ]
  },
  {
   "cell_type": "markdown",
   "id": "b0e57314-7f69-42ba-b5d5-42da4c93f6cb",
   "metadata": {},
   "source": [
    "**15. Create a program that simulates a basic ATM transaction menu.**"
   ]
  },
  {
   "cell_type": "code",
   "execution_count": 50,
   "id": "64c2d7de-cb75-4725-b0fd-74677afe4ab7",
   "metadata": {},
   "outputs": [
    {
     "name": "stdout",
     "output_type": "stream",
     "text": [
      "Welcome to XYZ Bank ATM\n",
      "Press the number corresponding to the options.\n"
     ]
    },
    {
     "name": "stdin",
     "output_type": "stream",
     "text": [
      "1. Check Balance     \n",
      "2. Withdraw money\n",
      "3. Change Pin     \n",
      "4. Cardless Transaction\n",
      "5. Mini Statement 1\n"
     ]
    },
    {
     "name": "stdout",
     "output_type": "stream",
     "text": [
      "Enter your Pin:\n"
     ]
    }
   ],
   "source": [
    "#Simulating a basic ATM transaction menu.\n",
    "print(\"Welcome to XYZ Bank ATM\")\n",
    "print(\"Press the number corresponding to the options.\")\n",
    "option=int(input(\"\"\"1. Check Balance     \n",
    "2. Withdraw money\n",
    "3. Change Pin     \n",
    "4. Cardless Transaction\n",
    "5. Mini Statement\"\"\"))#Taking the user input for different options.\n",
    "\n",
    "if option==1:\n",
    "    print(\"Enter your Pin:\")\n",
    "elif option==2:\n",
    "    print(\"Press the number corresponding to the options.\")\n",
    "    print(\"\"\"1. Saving account     \n",
    "2. Current account\"\"\")\n",
    "elif option==3:\n",
    "    print(\"Enter your Pin:\")\n",
    "elif option==4:\n",
    "    print(\"Enter your mobile number:\")\n",
    "elif option==5:\n",
    "    print(\"Your Last 5 transactions are:\")\n",
    "else:\n",
    "    print(\"Please choose a valid option\")"
   ]
  },
  {
   "cell_type": "markdown",
   "id": "54d5b7a0-4ffd-4452-9db1-0612e9546c13",
   "metadata": {},
   "source": [
    "**Explanation:**\n",
    "\n",
    "We atart by displaying the various transaction options and taking the user input for the available options.\n",
    "\n",
    "we are using input() function to take the user input. The input() function returns a string, so we use int() to convert the input to integer, since a number can not be a string.\n",
    "\n",
    "We are using if-elif-else to simulate the basic functionalities of the available options.\n",
    "\n",
    "If the user input donot matches any of the available options the elseblock will execute.\n",
    "\n",
    "print() function is used to print the statements"
   ]
  },
  {
   "cell_type": "markdown",
   "id": "521cbbd0-b4b1-42ea-bab1-eee226dd648e",
   "metadata": {},
   "source": [
    "**16. Build a program that checks if a given string is a palindrome or not.**"
   ]
  },
  {
   "cell_type": "code",
   "execution_count": 51,
   "id": "406e4786-1d65-4f72-bcff-429edfc99701",
   "metadata": {},
   "outputs": [
    {
     "name": "stdin",
     "output_type": "stream",
     "text": [
      "Enter a string: AMNnma\n"
     ]
    },
    {
     "name": "stdout",
     "output_type": "stream",
     "text": [
      "\"AMNnma\" is not a Palindrom\n"
     ]
    }
   ],
   "source": [
    "input_str=input(\"Enter a string:\") #Taking the string as input from the user.\n",
    "\n",
    "#Checking if the string is palindrome or not.\n",
    "if input_str == input_str[::-1]:\n",
    "    print('\"{}\" is a Palindrom'.format(input_str))\n",
    "else:\n",
    "    print('\"{}\" is not a Palindrom'.format(input_str))"
   ]
  },
  {
   "cell_type": "markdown",
   "id": "0e6e70f2-8898-4544-a29c-cb2ebe87e819",
   "metadata": {},
   "source": [
    "**Explanation:**\n",
    "\n",
    "We start by taking the string as input from the user.\n",
    "\n",
    "we are using input() function to take the user input. The input() function returns a string by default.\n",
    "\n",
    "\"input_str[::-1]\" is used to reverse the input string.\n",
    "\n",
    "Using the \"if-else\" block we are checking if the string is a palindrome or not.\n",
    "\n",
    "If the reversed string is exactly same as the original string then the string is a palindrome.\n",
    "\n",
    "Else the string is not a palindrome.\n",
    "Finally we are printing the result using \"print()\" function and \"str.format()\" method of string formatting."
   ]
  },
  {
   "cell_type": "markdown",
   "id": "b16c6dc4-c42b-4be0-ae8a-f59aff780a79",
   "metadata": {},
   "source": [
    "**17. Write a program that calculates the average of a list of numbers, excluding the smallest and largest values.**"
   ]
  },
  {
   "cell_type": "code",
   "execution_count": 52,
   "id": "b48b2424-53ab-444e-ad16-b4110aba1ddd",
   "metadata": {},
   "outputs": [
    {
     "name": "stdout",
     "output_type": "stream",
     "text": [
      "The average of a list [9, 5, 6, 90, 99, 89, 54, 1, 34, -4], excluding the smallest and largest values is: 28.8\n"
     ]
    }
   ],
   "source": [
    "def avg_func(lst):\n",
    "    length=len(lst)\n",
    "    if (length<=2):\n",
    "        return 0\n",
    "    sorted_lst=sorted(lst)[1:length-1]\n",
    "    avg=sum(sorted_lst)/length\n",
    "    return avg\n",
    "\n",
    "lst=[9,5,6,90,99,89,54,1,34,-4,]\n",
    "\n",
    "avg=avg_func(lst)\n",
    "print(\"The average of a list {}, excluding the smallest and largest values is: {}\".format(lst,avg))"
   ]
  },
  {
   "cell_type": "markdown",
   "id": "85b8f662-697d-45f4-853e-fcf39c820da2",
   "metadata": {},
   "source": [
    "**Explanation:**\n",
    "\n",
    "\"avg_func(lst)\" function takes a list (lst) as an argument. It first checks the length of the list (length=len(lst)). If the length of the list is less than or equal to 2 (if (length <= 2)), it returns 0 as the average cannot be calculated with fewer than three elements.\n",
    "\n",
    "For lists with more than two elements \"avg_func(lst)\" creates a sorted copy of the list (sorted_lst=sorted(lst)[1:length-1]).  It excludes the first (smallest) and last (largest) elements using list slicing ([1:length-1]). The sorted list removes the smallest and largest values from consideration for calculating the average. It then Calculates the sum of elements in the sorted list (sum(sorted_lst)) and divides it by the length of the original list to obtain the average (avg=sum(sorted_lst)/length). Then Returns the calculated average.\n",
    "\n",
    "The code creates a list named lst containing various integer values.\n",
    "\n",
    "The code then calls the avg_func(lst) function with the list lst and assigns the result to the variable \"avg\".\n",
    "\n",
    "The code then prints a message displaying the original list and the average of the list (excluding the smallest and largest values) using the \"str.format()\" method to insert values into the string."
   ]
  },
  {
   "cell_type": "markdown",
   "id": "1ec003f2-df3d-4627-ae3a-b2f0ece588c7",
   "metadata": {},
   "source": [
    "**18. Develop a program that converts a given temperature from Celsius to Fahrenheit.**"
   ]
  },
  {
   "cell_type": "code",
   "execution_count": 53,
   "id": "c1dac198-808a-4b8b-98dc-ef89f678f3e8",
   "metadata": {},
   "outputs": [
    {
     "name": "stdin",
     "output_type": "stream",
     "text": [
      "Enter the temperature in Celsius: 25\n"
     ]
    },
    {
     "name": "stdout",
     "output_type": "stream",
     "text": [
      "The given temperature in Fahrenheit is: 77.0 degree\n"
     ]
    }
   ],
   "source": [
    "celsius_temp = float(input(\"Enter the temperature in Celsius:\"))\n",
    "Fahrenheit_temp = (celsius_temp*(9/5))+32\n",
    "print(\"The given temperature in Fahrenheit is: {} degree\".format(Fahrenheit_temp))"
   ]
  },
  {
   "cell_type": "markdown",
   "id": "e3091346-0845-4f5d-9c55-3d6d93b8a0f7",
   "metadata": {},
   "source": [
    "**Explanation:**\n",
    "\n",
    "In this program we are asking the user to input the temperature in degree celsius and then we are storing the value in variable named 'celsius_temp'.\n",
    "\n",
    "Then we are calculating the corresponding Fahrenheit value of the temperature by using the formula \n",
    "\"Fahrenheit_temperature = (celsius_temperature*(9/5))+32\"\n",
    "\n",
    "'input()' function in python treats the value entered by the user as string by default so we are explicitely typecasting the value in to float to perform mathematical operations.\n",
    "\n",
    "Here we have converted the user entered value(celsius_temp) into 'float' and not into 'int' so that we don't calculate a wrong value of Fahrenheit_temp if the entered value contains decimal part.\n",
    "\n",
    "In the print statement we are using \"str.format()\" method of string formatting to print the result."
   ]
  },
  {
   "cell_type": "markdown",
   "id": "01a2ad94-bb8a-4dd0-87ec-3f8ac2be9f5c",
   "metadata": {},
   "source": [
    "**19. Create a program that simulates a basic calculator for addition, subtraction, multiplication, and division.**"
   ]
  },
  {
   "cell_type": "code",
   "execution_count": 54,
   "id": "15f5f15c-29d2-418b-9cbc-52feef6ffe30",
   "metadata": {},
   "outputs": [
    {
     "name": "stdin",
     "output_type": "stream",
     "text": [
      "Enter the first value: 8\n",
      "Enter the second value: 6\n",
      "Enter the number corresponding to the option\n",
      "1. Addition\n",
      "2. Subtraction\n",
      "3. Multiplication\n",
      "4. Division 3\n"
     ]
    },
    {
     "name": "stdout",
     "output_type": "stream",
     "text": [
      "8.0 * 6.0 = 48.0\n"
     ]
    }
   ],
   "source": [
    "num1=float(input(\"Enter the first value:\"))\n",
    "num2=float(input(\"Enter the second value:\"))\n",
    "operator=int(input(\"\"\"Enter the number corresponding to the option\n",
    "1. Addition\n",
    "2. Subtraction\n",
    "3. Multiplication\n",
    "4. Division\"\"\"))\n",
    "\n",
    "if operator==1: #Addition\n",
    "    print(\"{} + {} = {}\".format(num1,num2,num1+num2))\n",
    "elif operator==2: #Subtraction\n",
    "    print(\"{} - {} = {}\".format(num1,num2,num1-num2))\n",
    "elif operator==3: #Multiplication\n",
    "    print(\"{} * {} = {}\".format(num1,num2,num1*num2))\n",
    "elif operator==4: #Division\n",
    "    print(\"{} / {} = {}\".format(num1,num2,num1/num2))\n",
    "else:\n",
    "    print(\"Please choose a correct option\")"
   ]
  },
  {
   "cell_type": "markdown",
   "id": "a150d04a-ec4a-433b-83d1-cf394cc65deb",
   "metadata": {},
   "source": [
    "**Explanation:**\n",
    "\n",
    "The code prompts the user to input two numerical values using float(input(\"Enter the first value: \")) and float(input(\"Enter the second value: \")).\n",
    "\n",
    "The code also prompts the user to select an operator by entering a number corresponding to the desired operation (addition, subtraction, multiplication, or division).\n",
    "\n",
    "The code uses if, elif, and else statements to check the user's chosen operator.\n",
    "\n",
    "Based on the user's choice, it performs different mathematical operations, Addition (if operator == 1), Subtraction (if operator == 2). Multiplication (if operator == 3), Division (if operator == 4).\n",
    "\n",
    "If the user enters an option other than 1, 2, 3, or 4, it displays \"Please choose a correct option\".\n",
    "\n",
    "If the entered operator matches any of the cases (1, 2, 3, 4), it performs the corresponding arithmetic operation (num1 + num2, num1 - num2, num1 * num2, or num1 / num2).\n",
    "\n",
    "Depending on the selected operation, the code displays the calculated result along with the expression representing the chosen operation and the provided values."
   ]
  },
  {
   "cell_type": "markdown",
   "id": "cdd62115-647e-4750-b82b-1bb2cb3ec0c0",
   "metadata": {},
   "source": [
    "**20. Write a program that determines the roots of a cubic equation using the Cardano formula.**"
   ]
  },
  {
   "cell_type": "code",
   "execution_count": 55,
   "id": "3cd271be-a8ab-4835-b7eb-8cdfe29b347f",
   "metadata": {},
   "outputs": [
    {
     "name": "stdin",
     "output_type": "stream",
     "text": [
      "Enter coefficient a:  1\n",
      "Enter coefficient b:  2\n",
      "Enter coefficient c:  3\n",
      "Enter constant term d:  4\n"
     ]
    },
    {
     "name": "stdout",
     "output_type": "stream",
     "text": [
      "Roots of the cubic equation:\n",
      "Root 1: (0.42697045480630835+1.199502715028224j)\n",
      "Root 2: (-0.174685404280306-0.8521365428250519j)\n",
      "Root 3: (-2.252285050526002-0.3473661722031721j)\n"
     ]
    }
   ],
   "source": [
    "import cmath  # Importing the complex math module\n",
    "\n",
    "def cardano_cubic(a, b, c, d):\n",
    "    # Step 1: Calculate coefficients for the depressed cubic\n",
    "    p = (3 * a * c - b ** 2) / (3 * a ** 2)\n",
    "    q = (2 * b ** 3 - 9 * a * b * c + 27 * a ** 2 * d) / (27 * a ** 3)\n",
    "\n",
    "    # Step 2: Calculate discriminant\n",
    "    delta = (q / 2) ** 2 + (p / 3) ** 3\n",
    "\n",
    "    if delta > 0:  # One real root and two complex conjugate roots\n",
    "        u = (-q / 2 + cmath.sqrt(delta)) ** (1 / 3)\n",
    "        v = (-q / 2 - cmath.sqrt(delta)) ** (1 / 3)\n",
    "        y1 = u + v\n",
    "        y2 = -(u + v) / 2 + (u - v) * 1j * cmath.sqrt(3) / 2\n",
    "        y3 = -(u + v) / 2 - (u - v) * 1j * cmath.sqrt(3) / 2\n",
    "\n",
    "    elif delta == 0:  # One real root and two identical real roots\n",
    "        if q >= 0:\n",
    "            y1 = -2 * q ** (1 / 3)\n",
    "        else:\n",
    "            y1 = 2 * (-q) ** (1 / 3)\n",
    "        y2 = y3 = -y1 / 2\n",
    "\n",
    "    else:  # Three distinct real roots\n",
    "        rho = cmath.sqrt(-(p ** 3) / 27)\n",
    "        theta = cmath.acos(-q / (2 * rho))\n",
    "        y1 = 2 * rho ** (1 / 3) * cmath.cos(theta / 3)\n",
    "        y2 = 2 * rho ** (1 / 3) * cmath.cos((theta + 2 * cmath.pi) / 3)\n",
    "        y3 = 2 * rho ** (1 / 3) * cmath.cos((theta + 4 * cmath.pi) / 3)\n",
    "\n",
    "    # Step 3: Convert y values to x values\n",
    "    root1 = y1 - b / (3 * a)\n",
    "    root2 = y2 - b / (3 * a)\n",
    "    root3 = y3 - b / (3 * a)\n",
    "\n",
    "    return root1, root2, root3\n",
    "\n",
    "# Input coefficients of the cubic equation: ax^3 + bx^2 + cx + d = 0\n",
    "a = float(input(\"Enter coefficient a: \"))\n",
    "b = float(input(\"Enter coefficient b: \"))\n",
    "c = float(input(\"Enter coefficient c: \"))\n",
    "d = float(input(\"Enter constant term d: \"))\n",
    "\n",
    "# Calculate roots using Cardano's formula\n",
    "roots = cardano_cubic(a, b, c, d)\n",
    "\n",
    "# Display the roots\n",
    "print(\"Roots of the cubic equation:\")\n",
    "for idx, root in enumerate(roots, start=1):\n",
    "    print(f\"Root {idx}: {root}\")\n"
   ]
  },
  {
   "cell_type": "markdown",
   "id": "63a8b723-154e-4613-9c62-13db82973664",
   "metadata": {},
   "source": [
    "**Explanation:**\n",
    "\n",
    "The \"cmath\" module is imported to handle complex numbers and operations since the roots of cubic equations can be real or complex.\n",
    "\n",
    "\"cardano_cubic(a, b, c, d)\" function receives the coefficients a, b, c, and constant term d of the cubic equation. It calculates the roots of the cubic equation using Cardano's formula, which involves several steps,\n",
    "Step 1: Calculate coefficients for the depressed cubic equation.\n",
    "Step 2: Determine the discriminant to classify the nature of roots (real, complex, or repeated real roots).\n",
    "Step 3: Compute the roots based on the nature of the discriminant.\n",
    "\n",
    "The code prompts the user to input the coefficients a, b, c, and constant term d of the cubic equation.\n",
    "\n",
    "Then the cardano_cubic() function is called with the provided coefficients to compute the roots.\n",
    "\n",
    "The roots calculated by the Cardano's formula are displayed in the console."
   ]
  },
  {
   "cell_type": "markdown",
   "id": "96d6d5d9-4711-4131-8828-408efd95f07a",
   "metadata": {},
   "source": [
    "# Advanced Level:"
   ]
  },
  {
   "cell_type": "markdown",
   "id": "70824466-6ee0-4c49-8e29-7b0adc28ae3f",
   "metadata": {},
   "source": [
    "**21. Create a program that calculates the income tax based on the user's income and tax brackets.**"
   ]
  },
  {
   "cell_type": "code",
   "execution_count": 56,
   "id": "0a3391e7-ab0e-41d9-b303-d4b357748d85",
   "metadata": {},
   "outputs": [
    {
     "name": "stdin",
     "output_type": "stream",
     "text": [
      "Enter your Income: 1100000\n"
     ]
    },
    {
     "name": "stdout",
     "output_type": "stream",
     "text": [
      "Your income is 1100000.0 and your tax is 90000.0\n"
     ]
    }
   ],
   "source": [
    "income=float(input(\"Enter your Income:\"))\n",
    "\n",
    "if income>=300000 and income<=600000:\n",
    "    tax=income*0.05\n",
    "    print(\"Your income is {} and your tax is {}\".format(income,tax))\n",
    "elif income>600000 and income<=900000:\n",
    "    tax=600000*0.05+(income-600000)*0.1\n",
    "    print(\"Your income is {} and your tax is {}\".format(income,tax))\n",
    "elif income>900000 and income<=1200000:\n",
    "    tax=600000*0.05+300000*0.1+(income-900000)*0.15\n",
    "    print(\"Your income is {} and your tax is {}\".format(income,tax))\n",
    "elif income>1200000 and income<=1500000:\n",
    "    tax=600000*0.05+300000*0.1+300000*0.15+(income-1200000)*0.20\n",
    "    print(\"Your income is {} and your tax is {}\".format(income,tax))\n",
    "elif income>1500000:\n",
    "    tax=600000*0.05+300000*0.1+300000*0.15+300000*0.20+(income-1500000)*0.30\n",
    "    print(\"Your income is {} and your tax is {}\".format(income,tax))\n",
    "else:\n",
    "    print(\"No Tax\")"
   ]
  },
  {
   "cell_type": "markdown",
   "id": "342bc3c6-36cf-412e-a114-1b6e1ef8a0a4",
   "metadata": {},
   "source": [
    "**Explanation:**\n",
    "\n",
    "The code prompts the user to enter their income using float(input(\"Enter your Income: \")).\n",
    "\n",
    "The code uses conditional statements (if, elif, else) to determine the tax based on different income brackets.\n",
    "\n",
    "For incomes falling within specific ranges, different tax rates are applied incrementally.\n",
    "\n",
    "For incomes between 300,000 and 600,000, tax is calculated at a rate of 5% of the income within this range.\n",
    "\n",
    "For incomes between 600,000 and 900,000, tax is calculated at 5% of 600,000 plus 10% of the income above 600,000.\n",
    "\n",
    "For incomes between 900,000 and 1,200,000, tax is calculated at 5% of 600,000 plus 10% of 300,000 plus 15% of the income above 900,000.\n",
    "\n",
    "For incomes between 1,200,000 and 1,500,000, tax is calculated at 5% of 600,000 plus 10% of 300,000 plus 15% of 300,000 plus 20% of the income above 1,200,000.\n",
    "\n",
    "For incomes above 1,500,000, tax is calculated at 5% of 600,000 plus 10% of 300,000 plus 15% of 300,000 plus 20% of 300,000 plus 30% of the income above 1,500,000.\n",
    "\n",
    "If the income is less than 300,000, the code prints \"No Tax\".\n",
    "\n",
    "Finally, the code displays the user's income and the calculated tax based on their income bracket."
   ]
  },
  {
   "cell_type": "markdown",
   "id": "b50488df-1b3d-4df1-ac55-ff9e87524e73",
   "metadata": {},
   "source": [
    "**22. Write a program that simulates a rock-paper-scissors game against the computer.**"
   ]
  },
  {
   "cell_type": "code",
   "execution_count": 57,
   "id": "0c864569-4223-44e9-9979-a27bd9087d83",
   "metadata": {},
   "outputs": [
    {
     "name": "stdin",
     "output_type": "stream",
     "text": [
      "Enter your option('rock', 'paper', 'scissor'): rock\n"
     ]
    },
    {
     "name": "stdout",
     "output_type": "stream",
     "text": [
      "Computer choose rock and you choose rock\n",
      "IT'S a TIE, Play Again\n"
     ]
    }
   ],
   "source": [
    "import random\n",
    "\n",
    "option_lst=['rock', 'paper', 'scissor']\n",
    "\n",
    "user_choice=input(\"Enter your option('rock', 'paper', 'scissor'):\")\n",
    "user_choice=user_choice.lower()\n",
    "\n",
    "computer_choice=random.choice(option_lst)\n",
    "\n",
    "if user_choice=='rock' and computer_choice=='scissor':\n",
    "    print(\"Computer choose {} and you choose {}\".format(computer_choice,user_choice))\n",
    "    print(\"You won\")\n",
    "elif user_choice=='rock' and computer_choice=='paper':\n",
    "    print(\"Computer choose {} and you choose {}\".format(computer_choice,user_choice))\n",
    "    print(\"You lost\")\n",
    "elif user_choice=='scissor' and computer_choice=='rock':\n",
    "    print(\"Computer choose {} and you choose {}\".format(computer_choice,user_choice))\n",
    "    print(\"You lost\")\n",
    "elif user_choice=='paper' and computer_choice=='rock':\n",
    "    print(\"Computer choose {} and you choose {}\".format(computer_choice,user_choice))\n",
    "    print(\"You won\")\n",
    "elif user_choice=='paper' and computer_choice=='scissor':\n",
    "    print(\"Computer choose {} and you choose {}\".format(computer_choice,user_choice))\n",
    "    print(\"You lost\")\n",
    "elif user_choice=='scissor' and computer_choice=='paper':\n",
    "    print(\"Computer choose {} and you choose {}\".format(computer_choice,user_choice))\n",
    "    print(\"You won\")\n",
    "elif user_choice==computer_choice:\n",
    "    print(\"Computer choose {} and you choose {}\".format(computer_choice,user_choice))\n",
    "    print(\"IT'S a TIE, Play Again\")\n",
    "else:\n",
    "    print(\"Invalid choice\")"
   ]
  },
  {
   "cell_type": "markdown",
   "id": "da3b83f9-f193-4a05-bdab-ff9bbfb22ec5",
   "metadata": {},
   "source": [
    "**Explanation:**\n",
    "\n",
    "The code prompts the user to input their choice among 'rock', 'paper', or 'scissor' using input(\"Enter your option('rock', 'paper', 'scissor'): \").\n",
    "\n",
    "The code then converts the user's input to lowercase using user_choice.lower() for case-insensitive comparisons.\n",
    "\n",
    "Then it generates a random choice for the computer using random.choice(option_lst), where option_lst contains the options 'rock', 'paper', and 'scissor'.\n",
    "\n",
    "The code uses multiple if, elif, and else statements to determine the winner based on the user's choice and the randomly generated computer choice.\n",
    "\n",
    "The code checks all possible combinations of user and computer choices ('rock' vs. 'scissor', 'rock' vs. 'paper', and so on).\n",
    "\n",
    "It handles each possible outcome, user wins, user loses, or it's a tie.\n",
    "\n",
    "Depending on the comparison of choices, the code prints messages to indicate the computer's choice, the user's choice, and the result of the game (whether the user won, lost, or if it's a tie).\n",
    "\n",
    "If the user enters an option other than 'rock', 'paper', or 'scissor', the code prints \"Invalid choice\"."
   ]
  },
  {
   "cell_type": "markdown",
   "id": "2fe5c59b-7e29-402c-afd0-ef8c322de6b7",
   "metadata": {},
   "source": [
    "**23. Develop a program that generates a random password based on user preferences (length, complexity).**"
   ]
  },
  {
   "cell_type": "code",
   "execution_count": 58,
   "id": "aad8f3a2-59ce-42d3-81ff-a64e34e8c6a7",
   "metadata": {},
   "outputs": [
    {
     "name": "stdin",
     "output_type": "stream",
     "text": [
      "Enter the length of the password(minimum 4): 8\n",
      "Choose the option for complexity of the password:\n",
      "1. Weak\n",
      "2. Strong 1\n"
     ]
    },
    {
     "name": "stdout",
     "output_type": "stream",
     "text": [
      "Your Password is:  z4x8Ld9\n"
     ]
    }
   ],
   "source": [
    "import random\n",
    "\n",
    "length=int(input(\"Enter the length of the password(minimum 4):\"))\n",
    "\n",
    "if length<4:\n",
    "    print(\"The password length must be atleast 4\")\n",
    "\n",
    "complexity_option=int(input(\"\"\"Choose the option for complexity of the password:\n",
    "1. Weak\n",
    "2. Strong\"\"\"))\n",
    "Uppercase=\"ABCDEFGHIJKLMNOPQRSTUVWZYZ\"\n",
    "Lowercase=\"abcdefghijklmnopqrstuvwxyz\"\n",
    "number=\"0123456789\"\n",
    "special_char=\"!@#$%&*\"\n",
    "weak_pass_func=[Uppercase, Lowercase, number]\n",
    "strong_pass_func=[Uppercase, Lowercase, number, special_char]\n",
    "password=\"\"\n",
    "if complexity_option==1: #Weak password so include Uppercase and lowercase letter and number.\n",
    "    password+=random.choice(Uppercase)\n",
    "    password+=random.choice(Lowercase)\n",
    "    password+=random.choice(number)\n",
    "    for i in range(1, length-3):\n",
    "        func_choice=random.randint(0,2)\n",
    "        password+=random.choice(weak_pass_func[func_choice])\n",
    "elif complexity_option==2: #Strong password so include Uppercase and lowercase letter and number and special character.\n",
    "    password+=random.choice(Uppercase)\n",
    "    password+=random.choice(Lowercase)\n",
    "    password+=random.choice(number)\n",
    "    password+=random.choice(special_char)\n",
    "    for i in range(1, length-3):\n",
    "        func_choice=random.randint(0,3)\n",
    "        password+=random.choice(strong_pass_func[func_choice])\n",
    "        \n",
    "shuffled_pass=\"\".join(random.sample(password,len(password)))\n",
    "print(\"Your Password is: \",shuffled_pass)"
   ]
  },
  {
   "cell_type": "markdown",
   "id": "1a8960a8-0197-46d7-9d1b-3f7122fd9487",
   "metadata": {},
   "source": [
    "**Explanation:**\n",
    "\n",
    "The code prompts the user to input the desired length of the password (length) with a minimum requirement of 4 characters.\n",
    "\n",
    "The code also asks the user to choose the complexity of the password: either 'Weak' (option 1) or 'Strong' (option 2).\n",
    "\n",
    "The code defines four string variables: Uppercase, Lowercase, number, and special_char, containing characters for uppercase letters, lowercase letters, numbers (0-9), and special characters respectively.\n",
    "\n",
    "The code initializes an empty string named password to store the generated password.\n",
    "\n",
    "For a 'Weak' password (option 1), it includes at least one uppercase letter, one lowercase letter, and one number. Then, for the remaining characters (length - 3), it randomly chooses characters from these three categories and adds them to the password.\n",
    "\n",
    "For a 'Strong' password (option 2), it follows the same process as for a weak password but additionally includes at least one special character. Then, for the remaining characters (length - 4), it randomly selects characters from the four categories and adds them to the password.\n",
    "\n",
    "For a 'Strong' password (option 2), it follows the same process as for a weak password but additionally includes at least one special character. Then, for the remaining characters (length - 4), it randomly selects characters from the four categories and adds them to the password.\n",
    "\n",
    "Finally, the code prints the generated and shuffled password."
   ]
  },
  {
   "cell_type": "markdown",
   "id": "ea5eb4ea-6c8b-4928-b0e6-40f9028db709",
   "metadata": {},
   "source": [
    "**24. Create a program that implements a simple text-based adventure game with branching scenarios.**"
   ]
  },
  {
   "cell_type": "code",
   "execution_count": 59,
   "id": "08daa048-4ebd-4fd1-89a8-d9322007a89d",
   "metadata": {},
   "outputs": [
    {
     "name": "stdout",
     "output_type": "stream",
     "text": [
      "Welcome to the Text Adventure Game!\n",
      "You find yourself in a mysterious forest. Which path will you take?\n",
      "1. Go left\n",
      "2. Go right\n"
     ]
    },
    {
     "name": "stdin",
     "output_type": "stream",
     "text": [
      "Enter your choice (1 or 2):  1\n"
     ]
    },
    {
     "name": "stdout",
     "output_type": "stream",
     "text": [
      "\n",
      "You chose to go left and encounter a river.\n",
      "What will you do?\n",
      "1. Try to swim across\n",
      "2. Look for a bridge\n"
     ]
    },
    {
     "name": "stdin",
     "output_type": "stream",
     "text": [
      "Enter your choice (1 or 2):  2\n"
     ]
    },
    {
     "name": "stdout",
     "output_type": "stream",
     "text": [
      "\n",
      "You found a hidden bridge and safely crossed the river!\n",
      "You see a castle in the distance.\n",
      "\n",
      "You approach the castle and encounter a guard.\n",
      "What will you do?\n",
      "1. Talk to the guard\n",
      "2. Sneak into the castle\n"
     ]
    },
    {
     "name": "stdin",
     "output_type": "stream",
     "text": [
      "Enter your choice (1 or 2):  1\n"
     ]
    },
    {
     "name": "stdout",
     "output_type": "stream",
     "text": [
      "\n",
      "The guard welcomes you inside the castle. You win!\n"
     ]
    }
   ],
   "source": [
    "def start_game():\n",
    "    print(\"Welcome to the Text Adventure Game!\")\n",
    "    print(\"You find yourself in a mysterious forest. Which path will you take?\")\n",
    "    print(\"1. Go left\")\n",
    "    print(\"2. Go right\")\n",
    "    \n",
    "    choice = input(\"Enter your choice (1 or 2): \")\n",
    "\n",
    "    if choice == '1':\n",
    "        path_left()\n",
    "    elif choice == '2':\n",
    "        path_right()\n",
    "    else:\n",
    "        print(\"Invalid choice. Please enter 1 or 2.\")\n",
    "        start_game()\n",
    "\n",
    "def path_left():\n",
    "    print(\"\\nYou chose to go left and encounter a river.\")\n",
    "    print(\"What will you do?\")\n",
    "    print(\"1. Try to swim across\")\n",
    "    print(\"2. Look for a bridge\")\n",
    "\n",
    "    choice = input(\"Enter your choice (1 or 2): \")\n",
    "\n",
    "    if choice == '1':\n",
    "        print(\"\\nYou attempted to swim across the river but got swept away by the current. Game Over!\")\n",
    "    elif choice == '2':\n",
    "        print(\"\\nYou found a hidden bridge and safely crossed the river!\")\n",
    "        print(\"You see a castle in the distance.\")\n",
    "        approach_castle()\n",
    "    else:\n",
    "        print(\"Invalid choice. Please enter 1 or 2.\")\n",
    "        path_left()\n",
    "\n",
    "def path_right():\n",
    "    print(\"\\nYou chose to go right and stumbled upon a cave.\")\n",
    "    print(\"Do you want to enter the cave?\")\n",
    "    print(\"1. Enter the cave\")\n",
    "    print(\"2. Keep walking past the cave\")\n",
    "\n",
    "    choice = input(\"Enter your choice (1 or 2): \")\n",
    "\n",
    "    if choice == '1':\n",
    "        print(\"\\nYou entered the cave and found a treasure chest! Congratulations, you win!\")\n",
    "    elif choice == '2':\n",
    "        print(\"\\nYou kept walking and got lost in the forest. Game Over!\")\n",
    "    else:\n",
    "        print(\"Invalid choice. Please enter 1 or 2.\")\n",
    "        path_right()\n",
    "\n",
    "def approach_castle():\n",
    "    print(\"\\nYou approach the castle and encounter a guard.\")\n",
    "    print(\"What will you do?\")\n",
    "    print(\"1. Talk to the guard\")\n",
    "    print(\"2. Sneak into the castle\")\n",
    "\n",
    "    choice = input(\"Enter your choice (1 or 2): \")\n",
    "\n",
    "    if choice == '1':\n",
    "        print(\"\\nThe guard welcomes you inside the castle. You win!\")\n",
    "    elif choice == '2':\n",
    "        print(\"\\nYou attempted to sneak in but got caught. Game Over!\")\n",
    "    else:\n",
    "        print(\"Invalid choice. Please enter 1 or 2.\")\n",
    "        approach_castle()\n",
    "\n",
    "# Start the game\n",
    "start_game()"
   ]
  },
  {
   "cell_type": "markdown",
   "id": "7fba2598-edac-420a-9bbf-c37a7d181179",
   "metadata": {},
   "source": [
    "**Explanation:**\n",
    "\n",
    "\"start_game()\" function initiates the game by printing a welcome message and prompting the player to choose between two paths, \"left\" or \"right\". The player's choice is captured using the input() function. Depending on the input, the code directs the player to different functions: path_left() or path_right(). If the player enters an invalid choice, the function prompts them to enter a valid choice.\n",
    "\n",
    "\"path_left()\" function, If the player chooses the left path, this function gets invoked. It presents the player with another choice after encountering a river, \"either try to swim across\" or \"look for a bridge\". Based on the player's choice, it leads to different outcomes and functions. If the player makes an invalid choice, it prompts them to choose again.\n",
    "\n",
    "\"path_right()\" function, If the player chooses the right path, this function gets executed. Here, the player encounters a cave and is prompted to decide whether to enter it or keep walking. The outcome changes based on the player's choice.\n",
    "\n",
    "\"approach_castle()\" function, This function is called when the player successfully crosses the river by finding a hidden bridge. It simulates the player's approach to a castle where they encounter a guard and are prompted to make a choice. Depending on the player's choice, the game has different endings.\n",
    "\n",
    "Finally, the game is started by calling start_game() at the bottom of the code."
   ]
  },
  {
   "cell_type": "markdown",
   "id": "080263aa-67f1-4d17-a9e2-3934c82d1788",
   "metadata": {},
   "source": [
    "**25. Build a program that solves a linear equation for x, considering different cases.**"
   ]
  },
  {
   "cell_type": "code",
   "execution_count": 60,
   "id": "b9094ba4-da28-4cd9-8837-13f1454b1403",
   "metadata": {},
   "outputs": [
    {
     "name": "stdin",
     "output_type": "stream",
     "text": [
      "Enter the coefficient of 'x2': 4\n",
      "Enter the coefficient of 'x': 5\n",
      "Enter the coefficient of constant: 6\n"
     ]
    },
    {
     "name": "stdout",
     "output_type": "stream",
     "text": [
      "The given quadratic equation has imaginary and unequal roots: (-0.6249999999999999+1.0532687216470449j) and (-0.6250000000000001-1.0532687216470449j)\n"
     ]
    }
   ],
   "source": [
    "#A quadratic equation is of the form \"ax2 + bx + c = 0\", where a,b,c are real numbers and a!=0\n",
    "#Taking the three coefficients as input from the user.\n",
    "a=float(input(\"Enter the coefficient of 'x2':\"))\n",
    "b=float(input(\"Enter the coefficient of 'x':\"))\n",
    "c=float(input(\"Enter the coefficient of constant:\"))\n",
    "\n",
    "#Using nested if-else statement to calculate the roots of the quadratic equation. \n",
    "if a!= 0:\n",
    "    d=(b*b)-(4*a*c)\n",
    "    if d>0:\n",
    "        root1=(-b+(d**0.5))/(2*a)\n",
    "        root2=(-b-(d**0.5))/(2*a)\n",
    "        print(\"The given quadratic equation has real and unequal roots: {} and {}\".format(root1,root2))\n",
    "    elif d==0:\n",
    "        root=(-b)/(2*a)\n",
    "        print(\"The given quadratic equation has real and equal roots: {}\".format(root))\n",
    "    else:\n",
    "        root1=(-b+(d**0.5))/(2*a)\n",
    "        root2=(-b-(d**0.5))/(2*a)\n",
    "        print(\"The given quadratic equation has imaginary and unequal roots: {} and {}\".format(root1,root2))\n",
    "else:\n",
    "    print(\"The coefficient of 'x2' cannot be 0 for a quadratic equation\")"
   ]
  },
  {
   "cell_type": "markdown",
   "id": "4ada4e6c-14ab-4262-889a-dfe2b06f904e",
   "metadata": {},
   "source": [
    "**Explanation:**\n",
    "\n",
    "We are defining a function named fact() that accepts a number as arguement and returns it's factorial.\n",
    "\n",
    "fact() function uses recursion to calculate the factorial of the number. \n",
    "\n",
    "If a function is getting invoked by itself then it is called recursion.\n",
    "\n",
    "The fact() function checks if the number passed to it is 0 or 1, If the number is 0 or 1 the 1 is returned other wise the function returns the profuct of the number and recursive call to the next smaler number(num-1).\n",
    "\n",
    "We are taking the number as input from the user.\n",
    "\n",
    "we are using input() function to take the user input. The input() function returns a string, so we use int() to convert the input to integer, since amount can not be string.\n",
    "\n",
    "The we are calling the fact() function to get the factorial.\n",
    "\n",
    "Finally we are printing the result."
   ]
  },
  {
   "cell_type": "markdown",
   "id": "937e906b-de8e-4fc8-b25b-2e9e2a5b26b3",
   "metadata": {},
   "source": [
    "**26. Write a program that simulates a basic quiz game with multiple-choice questions and scoring.**"
   ]
  },
  {
   "cell_type": "code",
   "execution_count": 62,
   "id": "b01f9f32-fcc6-477e-a80d-013ba83e3dd3",
   "metadata": {},
   "outputs": [
    {
     "name": "stdout",
     "output_type": "stream",
     "text": [
      "What is the capital of France?\n",
      "1. London\n",
      "2. Paris\n",
      "3. Berlin\n",
      "4. Rome\n"
     ]
    },
    {
     "name": "stdin",
     "output_type": "stream",
     "text": [
      "Enter your choice:  2\n"
     ]
    },
    {
     "name": "stdout",
     "output_type": "stream",
     "text": [
      "Correct!\n",
      "\n",
      "Which planet is known as the Red Planet?\n",
      "1. Mars\n",
      "2. Jupiter\n",
      "3. Saturn\n",
      "4. Neptune\n"
     ]
    },
    {
     "name": "stdin",
     "output_type": "stream",
     "text": [
      "Enter your choice:  1\n"
     ]
    },
    {
     "name": "stdout",
     "output_type": "stream",
     "text": [
      "Correct!\n",
      "\n",
      "What is the tallest mammal in the world?\n",
      "1. Elephant\n",
      "2. Giraffe\n",
      "3. Blue Whale\n",
      "4. Hippopotamus\n"
     ]
    },
    {
     "name": "stdin",
     "output_type": "stream",
     "text": [
      "Enter your choice:  2\n"
     ]
    },
    {
     "name": "stdout",
     "output_type": "stream",
     "text": [
      "Correct!\n",
      "\n",
      "Quiz completed! Your score is 3 out of 3.\n"
     ]
    }
   ],
   "source": [
    "def display_question(question, options):\n",
    "    print(question)\n",
    "    for idx, option in enumerate(options, start=1):\n",
    "        print(f\"{idx}. {option}\")\n",
    "    return int(input(\"Enter your choice: \"))\n",
    "\n",
    "def run_quiz():\n",
    "    questions = [\n",
    "        {\n",
    "            \"question\": \"What is the capital of France?\",\n",
    "            \"options\": [\"London\", \"Paris\", \"Berlin\", \"Rome\"],\n",
    "            \"answer\": 2  # Index of the correct answer in options\n",
    "        },\n",
    "        {\n",
    "            \"question\": \"Which planet is known as the Red Planet?\",\n",
    "            \"options\": [\"Mars\", \"Jupiter\", \"Saturn\", \"Neptune\"],\n",
    "            \"answer\": 1  # Index of the correct answer in options\n",
    "        },\n",
    "        {\n",
    "            \"question\": \"What is the tallest mammal in the world?\",\n",
    "            \"options\": [\"Elephant\", \"Giraffe\", \"Blue Whale\", \"Hippopotamus\"],\n",
    "            \"answer\": 2  # Index of the correct answer in options\n",
    "        }\n",
    "    ]\n",
    "\n",
    "    score = 0\n",
    "    for question in questions:\n",
    "        user_choice = display_question(question[\"question\"], question[\"options\"])\n",
    "        correct_answer = question[\"answer\"]\n",
    "\n",
    "        if user_choice == correct_answer:\n",
    "            print(\"Correct!\\n\")\n",
    "            score += 1\n",
    "        else:\n",
    "            print(\"Incorrect!\\n\")\n",
    "\n",
    "    print(f\"Quiz completed! Your score is {score} out of {len(questions)}.\")\n",
    "\n",
    "# Run the quiz\n",
    "run_quiz()\n"
   ]
  },
  {
   "cell_type": "markdown",
   "id": "b7ef28f5-2a94-42f7-8528-adcc52ab5375",
   "metadata": {},
   "source": [
    "**Explanation:**\n",
    "\n",
    "\"display_question()\" function displays a single question along with its multiple-choice options. It takes two parameters, question and options. The function prints the question and its options using a loop and enumerate() to number the options. It then prompts the user to input their choice and returns the integer value of their choice.\n",
    "\n",
    "\"run_quiz()\" function contains the main logic for running the quiz. It sets up a list of dictionaries, where each dictionary represents a question along with it's options and the correct answer. It initializes a score variable to keep track of the user's score. The function then loops through each question in the questions list. For each question, It calls the display_question() function to display the question and options to the user, Retrieves the user's choice and compares it to the correct answer index, If the user's choice matches the correct answer, it increments the score by 1. After completing all the questions, it prints out the user's score.\n",
    "\n",
    "The code ends by calling the run_quiz() function, which executes the quiz program."
   ]
  },
  {
   "cell_type": "markdown",
   "id": "8cbdfaef-16cd-42c3-89e9-c734c9468ec1",
   "metadata": {},
   "source": [
    "**27. Develop a program that determines whether a given year is a prime number or not.**"
   ]
  },
  {
   "cell_type": "code",
   "execution_count": 64,
   "id": "565982ae-10b0-453b-91d3-3f34e071604a",
   "metadata": {},
   "outputs": [
    {
     "name": "stdin",
     "output_type": "stream",
     "text": [
      "Enter the Year to check for:  2024\n"
     ]
    },
    {
     "name": "stdout",
     "output_type": "stream",
     "text": [
      "2024 is not a prime number\n"
     ]
    }
   ],
   "source": [
    "num=int(input(\"Enter the Year to check for: \")) #Taking the Year as input from the user.\n",
    "\n",
    "#Using nested if-else statement to check for the prime number.\n",
    "if num>=2: \n",
    "    if num==2:\n",
    "        print(\"{} is a prime number\".format(num))\n",
    "    elif num%2==0:\n",
    "        print(\"{} is not a prime number\".format(num))\n",
    "    else:\n",
    "        for i in range(3,int(num**0.5+1),2):\n",
    "            if num%i==0:\n",
    "                print(\"{} is not a prime number\".format(num))\n",
    "                break\n",
    "        else:\n",
    "            print(\"{} is a prime number\".format(num))\n",
    "else:\n",
    "    print(\"{} is not a prime number\".format(num))"
   ]
  },
  {
   "cell_type": "markdown",
   "id": "db11fabb-1b7f-4622-b559-01d46936a323",
   "metadata": {},
   "source": [
    "**Explanation:**\n",
    "\n",
    "We start by taking the year to check for, as input from the user.\n",
    "\n",
    "We are Using nested if-else statement to check for the prime number.\n",
    "\n",
    "we are using input() function to take the user input. The input() function returns a string, so we use int() to convert the input to integer, since year can not be string.\n",
    "\n",
    "if the number is greater than or equal to 2 then the first if(if num>=2) block is executed. Otherwise the else bock will execute because 2 is the smallest prime number, so any number less than 2 is not a prime number.\n",
    "\n",
    "if the number is equal to then the nested if (if num==2) will execute and the number is prime number.\n",
    "\n",
    "Otherwise we check if the number is even or not using \"elif num%2==0\", then the nested elif block will execute and the number is not prime.\n",
    "\n",
    "Otherwise the else block will execute and using the for loop (for i in range(3,int(num**0.5+1),2)) and if statement (if num%i==0), we check if the number has a factor other than 1 and itself. If the number has any factor other than 1 and itself then the number is not prime. \n",
    "\n",
    "print() function is used to print the result."
   ]
  },
  {
   "cell_type": "markdown",
   "id": "4cc11ddb-f9e1-4924-9e39-ebdb196dd128",
   "metadata": {},
   "source": [
    "**28. Create a program that sorts three numbers in ascending order using conditional statements.**"
   ]
  },
  {
   "cell_type": "code",
   "execution_count": 65,
   "id": "144e7b15-5534-4f53-89cd-9cc9e501672c",
   "metadata": {},
   "outputs": [
    {
     "name": "stdin",
     "output_type": "stream",
     "text": [
      "Enter the first number:  3\n",
      "Enter the second number:  89\n",
      "Enter the third number:  2\n"
     ]
    },
    {
     "name": "stdout",
     "output_type": "stream",
     "text": [
      "Numbers in ascending order: (2.0, 3.0, 89.0)\n"
     ]
    }
   ],
   "source": [
    "# Function to sort three numbers in ascending order\n",
    "def sort_numbers(a, b, c):\n",
    "    if a <= b and a <= c:\n",
    "        smallest = a\n",
    "        if b <= c:\n",
    "            middle = b\n",
    "            largest = c\n",
    "        else:\n",
    "            middle = c\n",
    "            largest = b\n",
    "    elif b <= a and b <= c:\n",
    "        smallest = b\n",
    "        if a <= c:\n",
    "            middle = a\n",
    "            largest = c\n",
    "        else:\n",
    "            middle = c\n",
    "            largest = a\n",
    "    else:\n",
    "        smallest = c\n",
    "        if a <= b:\n",
    "            middle = a\n",
    "            largest = b\n",
    "        else:\n",
    "            middle = b\n",
    "            largest = a\n",
    "\n",
    "    return smallest, middle, largest\n",
    "\n",
    "# Input three numbers from the user\n",
    "num1 = float(input(\"Enter the first number: \"))\n",
    "num2 = float(input(\"Enter the second number: \"))\n",
    "num3 = float(input(\"Enter the third number: \"))\n",
    "\n",
    "# Call the function to sort the numbers\n",
    "sorted_nums = sort_numbers(num1, num2, num3)\n",
    "\n",
    "# Display the sorted numbers\n",
    "print(\"Numbers in ascending order:\", sorted_nums)\n"
   ]
  },
  {
   "cell_type": "markdown",
   "id": "8fcf6dfa-d4cd-41c4-9633-4eb4afe43aed",
   "metadata": {},
   "source": [
    "**Explanation:**\n",
    "\n",
    "\"sort_numbers()\" function takes three parameters, a, b, and c, representing the three numbers to be sorted. It begins by using conditional statements (if, elif, and else) to compare these numbers. Based on comparisons, it determines which number is the smallest, middle, and largest among the three. The function returns a tuple (smallest, middle, largest) representing the sorted numbers.\n",
    "\n",
    "The \"sort_numbers()\" function uses nested conditional statements to compare the three numbers and sort them.\n",
    "It identifies the smallest number by using multiple comparisons (if, elif, else) to decide the order of the numbers.\n",
    "Based on these comparisons, it assigns the smallest, middle, and largest values accordingly to return them as a tuple representing the sorted numbers.\n",
    "\n",
    "The code prompts the user to input three numbers (num1, num2, num3) using the input() function. Then it calls the sort_numbers function, passing the user-input numbers as arguments. The returned result (sorted_nums) contains the three numbers sorted in ascending order.\n",
    "\n",
    "Finally, the program prints the sorted numbers using print()."
   ]
  },
  {
   "cell_type": "markdown",
   "id": "04ebafa7-a1a9-4777-aa39-8f6718559f8a",
   "metadata": {},
   "source": [
    "**29. Build a program that determines the roots of a quartic equation using numerical methods.**"
   ]
  },
  {
   "cell_type": "code",
   "execution_count": 66,
   "id": "7978badb-6efb-4dd3-aeb9-5d6a4519ab30",
   "metadata": {},
   "outputs": [
    {
     "name": "stdin",
     "output_type": "stream",
     "text": [
      "Enter the coefficient of 'x2': 3\n",
      "Enter the coefficient of 'x': 2\n",
      "Enter the coefficient of constant: 3\n"
     ]
    },
    {
     "name": "stdout",
     "output_type": "stream",
     "text": [
      "The given quadratic equation has imaginary and unequal roots: (-0.33333333333333326+0.9428090415820635j) and (-0.3333333333333334-0.9428090415820635j)\n"
     ]
    }
   ],
   "source": [
    "#A quadratic equation is of the form \"ax2 + bx + c = 0\", where a,b,c are real numbers and a!=0\n",
    "#Taking the three coefficients as input from the user.\n",
    "a=float(input(\"Enter the coefficient of 'x2':\"))\n",
    "b=float(input(\"Enter the coefficient of 'x':\"))\n",
    "c=float(input(\"Enter the coefficient of constant:\"))\n",
    "\n",
    "#Using nested if-else statement to calculate the roots of the quadratic equation. \n",
    "if a!= 0:\n",
    "    d=(b*b)-(4*a*c)\n",
    "    if d>0:\n",
    "        root1=(-b+(d**0.5))/(2*a)\n",
    "        root2=(-b-(d**0.5))/(2*a)\n",
    "        print(\"The given quadratic equation has real and unequal roots: {} and {}\".format(root1,root2))\n",
    "    elif d==0:\n",
    "        root=(-b)/(2*a)\n",
    "        print(\"The given quadratic equation has real and equal roots: {}\".format(root))\n",
    "    else:\n",
    "        root1=(-b+(d**0.5))/(2*a)\n",
    "        root2=(-b-(d**0.5))/(2*a)\n",
    "        print(\"The given quadratic equation has imaginary and unequal roots: {} and {}\".format(root1,root2))\n",
    "else:\n",
    "    print(\"The coefficient of 'x2' cannot be 0 for a quadratic equation\")"
   ]
  },
  {
   "cell_type": "markdown",
   "id": "fdfc3662-5b20-427a-825c-9cdfb67cb83c",
   "metadata": {},
   "source": [
    "**Explanation:**\n",
    "\n",
    "We are defining a function named fact() that accepts a number as arguement and returns it's factorial.\n",
    "\n",
    "fact() function uses recursion to calculate the factorial of the number. \n",
    "\n",
    "If a function is getting invoked by itself then it is called recursion.\n",
    "\n",
    "The fact() function checks if the number passed to it is 0 or 1, If the number is 0 or 1 the 1 is returned other wise the function returns the profuct of the number and recursive call to the next smaler number(num-1).\n",
    "\n",
    "We are taking the number as input from the user.\n",
    "\n",
    "we are using input() function to take the user input. The input() function returns a string, so we use int() to convert the input to integer, since amount can not be string.\n",
    "\n",
    "The we are calling the fact() function to get the factorial.\n",
    "\n",
    "Finally we are printing the result."
   ]
  },
  {
   "cell_type": "markdown",
   "id": "753380b3-485c-4a7f-b9dd-04367f0413d5",
   "metadata": {},
   "source": [
    "**30. Write a program that calculates the BMI (Body Mass Index) and provides health recommendations based\n",
    "on the user's input.**"
   ]
  },
  {
   "cell_type": "code",
   "execution_count": 67,
   "id": "d8ec4d09-19d5-4b33-8371-11e2532a7e17",
   "metadata": {},
   "outputs": [
    {
     "name": "stdin",
     "output_type": "stream",
     "text": [
      "Enter your Weight in kg:  67\n",
      "Enter your Height in cm:  165\n"
     ]
    },
    {
     "name": "stdout",
     "output_type": "stream",
     "text": [
      "Your BMI is:  24.609733700642796\n",
      "Your BMI is normal, Keep it up\n"
     ]
    }
   ],
   "source": [
    "def calc_BMI(Weight,Height):\n",
    "    Height=Height/100\n",
    "    return Weight/(Height*Height)\n",
    "\n",
    "#Defining the function that accepts the BMI of the person and returns the category in which the person lie based on it's BMI.\n",
    "def check_BMI(BMI):\n",
    "    \n",
    "    if BMI>0 and BMI<=50: #Here we have assumed the maximum possible value of BMI tobe 50.\n",
    "        if BMI<18.5:\n",
    "            print(\"You are underweight, Take proper Nutrition\")\n",
    "        elif BMI>=18.5 and BMI<25:\n",
    "            print(\"Your BMI is normal, Keep it up\")\n",
    "        elif BMI>=25 and BMI<30:\n",
    "            print(\"You are overweight, You need to do exercise\")   \n",
    "        else:\n",
    "            print(\"You are obese, You immediately need to consult a doctor\")\n",
    "    \n",
    "\n",
    "Weight=float(input(\"Enter your Weight in kg: \"))#Taking the Weight of the person as input from the user.\n",
    "Height=float(input(\"Enter your Height in cm: \"))#Taking the Height of the person as input from the user.\n",
    "BMI=calc_BMI(Weight,Height)#Calling the calc_BMI function to get the BMI.\n",
    "print(\"Your BMI is: \", BMI) \n",
    "check_BMI(BMI)#Calling the check_BMI function."
   ]
  },
  {
   "cell_type": "markdown",
   "id": "820c5506-fcad-4a4d-a26e-b8198891a31c",
   "metadata": {},
   "source": [
    "**Explanation:**\n",
    "\n",
    "\"calc_BMI()\" function Calculates the BMI using the formula, BMI = Weight / (Height * Height), where the weight is in kilograms and the height is in meters. The function takes Weight and Height as parameters. It returns the calculated BMI value.\n",
    "\n",
    "\"check_BMI()\" function determines the BMI category based on the calculated BMI value. It takes BMI as a parameter and categorizes it into different groups, \"Underweight\" if BMI is less than 18.5, \"Normal weight\" if BMI is between 18.5 and 24.9, \"Overweight\" if BMI is between 25 and 29.9, \"Obese\" if BMI is 30 or higher. It prints a message based on the BMI category.\n",
    "\n",
    "The code Prompts the user to input their weight (in kilograms) and height (in centimeters).\n",
    "\n",
    "Then the code calls the calc_BMI function to calculate the BMI based on the provided weight and height inputs.\n",
    "\n",
    "Then it calls the check_BMI function to determine the BMI category and prints a message based on the category."
   ]
  },
  {
   "cell_type": "markdown",
   "id": "463301df-38f5-49bb-b3b5-51ce5790c7db",
   "metadata": {},
   "source": [
    "# Challenge Level:"
   ]
  },
  {
   "cell_type": "markdown",
   "id": "95442c9a-8c08-43f2-8054-765e4b9fac3f",
   "metadata": {},
   "source": [
    "**31. Create a program that validates a password based on complexity rules (length, characters, etc.).**"
   ]
  },
  {
   "cell_type": "code",
   "execution_count": 69,
   "id": "3630c0cc-1cc1-4956-b981-e700d050109b",
   "metadata": {},
   "outputs": [
    {
     "name": "stdin",
     "output_type": "stream",
     "text": [
      "Enter your Password:  a3$x8ZA*7\n"
     ]
    },
    {
     "name": "stdout",
     "output_type": "stream",
     "text": [
      "The strength of your password is:  Strong\n"
     ]
    }
   ],
   "source": [
    "pw=input(\"Enter your Password: \") #Taking the password as input from the user.\n",
    "\n",
    "def validate_strength(pw):\n",
    "    pw=pw.strip() #Removing any leading or trailing white spaces\n",
    "    length=len(pw) #Calculating the length of the entered password\n",
    "    \n",
    "    #Initialising the variables to store the count of upper case, lower case, special character and numbers.\n",
    "    upper_cnt=0\n",
    "    lower_cnt=0\n",
    "    special_char_cnt=0\n",
    "    num_cnt=0\n",
    "    strength=\"\"\n",
    "    \n",
    "    if length==0:\n",
    "        print(\"Password cannot be empty\")\n",
    "    elif length<=8:\n",
    "        strength=\"Weak\"\n",
    "    else:\n",
    "        for char in pw:\n",
    "            if char.isalpha():\n",
    "                if char.isupper():\n",
    "                    upper_cnt+=1\n",
    "                else:\n",
    "                    lower_cnt+=1\n",
    "                    \n",
    "            elif char.isdigit():\n",
    "                num_cnt+=1\n",
    "                \n",
    "            else:\n",
    "                special_char_cnt+=1\n",
    "        \n",
    "        if upper_cnt>0 and lower_cnt>0 and num_cnt>0 and special_char_cnt>0:\n",
    "            strength=\"Strong\"\n",
    "        else:\n",
    "            strength=\"Weak\"\n",
    "            \n",
    "    return strength\n",
    "\n",
    "strength=validate_strength(pw)\n",
    "if strength!=\"\":\n",
    "    print(\"The strength of your password is: \",strength)               \n"
   ]
  },
  {
   "cell_type": "markdown",
   "id": "267c1e91-6b60-4fc6-93e9-7769ad73fd1c",
   "metadata": {},
   "source": [
    "Initially we are Taking the password as input from the user.\n",
    "\n",
    "\"validate_strength()\" function takes the password string pw as an argument and evaluates its strength based on defined criteria.\n",
    "\n",
    "In the line \"pw=pw.strip()\", the strip() method is used to remove any leading or trailing whitespace characters from the password.\n",
    "\n",
    "Then we are initialising several variables to store the count of occurrences of uppercase letters, lowercase letters, special characters, and numeric digits in the password, and to store the password strength.\n",
    "\n",
    "If the password is empty (length == 0), the program prompts a message stating that the password cannot be empty. If the password length is less than or equal to 8 characters, it is considered \"Weak\".\n",
    "\n",
    "Then the code iterates through each character in the password and increments the respective counters based on whether the character is an uppercase or lowercase letter, a digit, or a special character. After counting, it evaluates the password's strength based on the criteria.\n",
    "\n",
    "If the length of the password is greater than 8 characters and the password contains at least one uppercase letter, one lowercase letter, one digit, and one special character, it is considered \"Strong\"; otherwise, it is considered \"Weak\".\n",
    "\n",
    "Then the function returns the evaluated strength of the password.\n",
    "\n",
    "The function validate_strength is called with the input password, and if the calculated strength is not an empty string, it displays the strength of the password to the user."
   ]
  },
  {
   "cell_type": "markdown",
   "id": "c6922bf5-3ba4-4aab-bf14-3f81dfe9207f",
   "metadata": {},
   "source": [
    "**32. Develop a program that performs matrix addition and subtraction based on user input.**"
   ]
  },
  {
   "cell_type": "code",
   "execution_count": 71,
   "id": "8e17fc41-e659-4cbc-be64-52aa9e02d165",
   "metadata": {},
   "outputs": [
    {
     "name": "stdin",
     "output_type": "stream",
     "text": [
      "Enter the number of rows for matrices:  3\n",
      "Enter the number of columns for matrices:  3\n"
     ]
    },
    {
     "name": "stdout",
     "output_type": "stream",
     "text": [
      "\n",
      "Enter elements for the first matrix:\n",
      "Enter the elements for a 3x3 matrix:\n"
     ]
    },
    {
     "name": "stdin",
     "output_type": "stream",
     "text": [
      "Enter element at position (1,1):  8\n",
      "Enter element at position (1,2):  7\n",
      "Enter element at position (1,3):  6\n",
      "Enter element at position (2,1):  4\n",
      "Enter element at position (2,2):  5\n",
      "Enter element at position (2,3):  6\n",
      "Enter element at position (3,1):  1\n",
      "Enter element at position (3,2):  2\n",
      "Enter element at position (3,3):  3\n"
     ]
    },
    {
     "name": "stdout",
     "output_type": "stream",
     "text": [
      "\n",
      "Enter elements for the second matrix:\n",
      "Enter the elements for a 3x3 matrix:\n"
     ]
    },
    {
     "name": "stdin",
     "output_type": "stream",
     "text": [
      "Enter element at position (1,1):  5\n",
      "Enter element at position (1,2):  6\n",
      "Enter element at position (1,3):  7\n",
      "Enter element at position (2,1):  8\n",
      "Enter element at position (2,2):  9\n",
      "Enter element at position (2,3):  0\n",
      "Enter element at position (3,1):  -1\n",
      "Enter element at position (3,2):  -9\n",
      "Enter element at position (3,3):  -8\n"
     ]
    },
    {
     "name": "stdout",
     "output_type": "stream",
     "text": [
      "\n",
      "Matrix Addition Result:\n",
      "[13.0, 13.0, 13.0]\n",
      "[12.0, 14.0, 6.0]\n",
      "[0.0, -7.0, -5.0]\n",
      "\n",
      "Matrix Subtraction Result:\n",
      "[3.0, 1.0, -1.0]\n",
      "[-4.0, -4.0, 6.0]\n",
      "[2.0, 11.0, 11.0]\n"
     ]
    }
   ],
   "source": [
    "def create_matrix(rows, columns):\n",
    "    matrix = []\n",
    "    print(f\"Enter the elements for a {rows}x{columns} matrix:\")\n",
    "    for i in range(rows):\n",
    "        row = []\n",
    "        for j in range(columns):\n",
    "            element = float(input(f\"Enter element at position ({i + 1},{j + 1}): \"))\n",
    "            row.append(element)\n",
    "        matrix.append(row)\n",
    "    return matrix\n",
    "\n",
    "def matrix_addition(matrix1, matrix2):\n",
    "    if len(matrix1) != len(matrix2) or len(matrix1[0]) != len(matrix2[0]):\n",
    "        print(\"Matrix addition not possible. Matrices should have the same dimensions.\")\n",
    "        return None\n",
    "    \n",
    "    result = []\n",
    "    for i in range(len(matrix1)):\n",
    "        row = []\n",
    "        for j in range(len(matrix1[0])):\n",
    "            row.append(matrix1[i][j] + matrix2[i][j])\n",
    "        result.append(row)\n",
    "    return result\n",
    "\n",
    "def matrix_subtraction(matrix1, matrix2):\n",
    "    if len(matrix1) != len(matrix2) or len(matrix1[0]) != len(matrix2[0]):\n",
    "        print(\"Matrix subtraction not possible. Matrices should have the same dimensions.\")\n",
    "        return None\n",
    "    \n",
    "    result = []\n",
    "    for i in range(len(matrix1)):\n",
    "        row = []\n",
    "        for j in range(len(matrix1[0])):\n",
    "            row.append(matrix1[i][j] - matrix2[i][j])\n",
    "        result.append(row)\n",
    "    return result\n",
    "\n",
    "# Input matrix dimensions\n",
    "rows = int(input(\"Enter the number of rows for matrices: \"))\n",
    "columns = int(input(\"Enter the number of columns for matrices: \"))\n",
    "\n",
    "# Create two matrices\n",
    "print(\"\\nEnter elements for the first matrix:\")\n",
    "matrix1 = create_matrix(rows, columns)\n",
    "\n",
    "print(\"\\nEnter elements for the second matrix:\")\n",
    "matrix2 = create_matrix(rows, columns)\n",
    "# matrix1=[[8,7,6],[7,6,6],[4,3,2]]\n",
    "# matrix2=[[7,6,6],[4,3,2],[8,7,6]]\n",
    "# Perform matrix addition and subtraction\n",
    "addition_result = matrix_addition(matrix1, matrix2)\n",
    "subtraction_result = matrix_subtraction(matrix1, matrix2)\n",
    "\n",
    "# Display results if computations were successful\n",
    "if addition_result:\n",
    "    print(\"\\nMatrix Addition Result:\")\n",
    "    for row in addition_result:\n",
    "        print(row)\n",
    "\n",
    "if subtraction_result:\n",
    "    print(\"\\nMatrix Subtraction Result:\")\n",
    "    for row in subtraction_result:\n",
    "        print(row)\n"
   ]
  },
  {
   "cell_type": "markdown",
   "id": "e157d89d-a7c6-4773-be3d-ac2b7eb39d07",
   "metadata": {},
   "source": [
    "**Explanation:**\n",
    "\n",
    "\"create_matrix(rows, columns)\" function prompts the user to input elements for a matrix of dimensions specified by rows and columns. It iterates through each position in the matrix and fills it with user-input elements. Finally, it returns the matrix filled with user-entered elements.\n",
    "\n",
    "\"matrix_addition(matrix1, matrix2)\" function performs matrix addition between two input matrices (matrix1 and matrix2). It checks if the dimensions of the input matrices are compatible for addition (i.e., they have the same number of rows and columns). It then adds corresponding elements of the two matrices and stores the results in a new matrix.\n",
    "\n",
    "\"matrix_subtraction(matrix1, matrix2)\" function performs matrix subtraction between matrix1 and matrix2. It checks the dimensions of the input matrices for compatibility. It subtracts corresponding elements of matrix2 from matrix1 and stores the results in a new matrix.\n",
    "\n",
    "The number of rows and columns for the matrices is taken as input from the user.\n",
    "\n",
    "Then \"create_matrix()\" function is invoked twice to create two matrices (matrix1 and matrix2) based on the user-provided dimensions.\n",
    "\n",
    "Then \"matrix_addition()\" and \"matrix_subtraction()\" functions are invoked with the input matrices (matrix1 and matrix2). If the operations are possible (i.e., matrices have compatible dimensions), it performs the respective operations and returns the results.\n",
    "\n",
    "Then we are displaying the resulting matrices if the addition or subtraction operations were successful."
   ]
  },
  {
   "cell_type": "markdown",
   "id": "05b5c91b-86c8-4c33-9f62-33340d1ad6ed",
   "metadata": {},
   "source": [
    "**33. Write a program that calculates the greatest common divisor (GCD) of two numbers using the Euclidean\n",
    "algorithm.**"
   ]
  },
  {
   "cell_type": "code",
   "execution_count": 72,
   "id": "7be8464b-6b53-4a1c-a54c-c497e0ebe878",
   "metadata": {},
   "outputs": [
    {
     "name": "stdin",
     "output_type": "stream",
     "text": [
      "Enter the first number:  300\n",
      "Enter the second number:  200\n"
     ]
    },
    {
     "name": "stdout",
     "output_type": "stream",
     "text": [
      "The GCD of 300 and 200 is: 100\n"
     ]
    }
   ],
   "source": [
    "def euclidean_algorithm(a, b):\n",
    "    while b != 0:\n",
    "        a, b = b, a % b\n",
    "    return a\n",
    "\n",
    "def gcd(a, b):\n",
    "    # Ensure positive values for a and b\n",
    "    a = abs(a)\n",
    "    b = abs(b)\n",
    "    \n",
    "    return euclidean_algorithm(a, b)\n",
    "\n",
    "# Input two numbers from the user\n",
    "num1 = int(input(\"Enter the first number: \"))\n",
    "num2 = int(input(\"Enter the second number: \"))\n",
    "\n",
    "# Calculate the GCD using the Euclidean algorithm\n",
    "result = gcd(num1, num2)\n",
    "\n",
    "# Display the GCD\n",
    "print(f\"The GCD of {num1} and {num2} is: {result}\")\n"
   ]
  },
  {
   "cell_type": "markdown",
   "id": "e1e6ff07-d021-466a-a3b3-8b2df0780916",
   "metadata": {},
   "source": [
    "**Explanation**\n",
    "\n",
    "\"euclidean_algorithm(a, b)\" function implements the Euclidean algorithm to find the GCD of two numbers a and b. The algorithm continues until b becomes zero (since the GCD of a and 0 is a). In each iteration, it assigns b to a and updates b to the remainder of a divided by b using the modulo operator %. Once b becomes zero, the loop ends, and the GCD, which is stored in a, is returned.\n",
    "\n",
    "\"gcd(a, b)\" This function takes two numbers a and b and ensures their absolute values using abs() to handle negative inputs.\n",
    "Then, it calls the euclidean_algorithm function with the absolute values of a and b to compute their GCD.\n",
    "\n",
    "We are taking the two numbers as input from the user.\n",
    "\n",
    "Then the \"gcd()\" function is called with the user-provided numbers to compute their GCD using the Euclidean algorithm.\n",
    "\n",
    "Finally, the program displays the calculated GCD of the input numbers."
   ]
  },
  {
   "cell_type": "markdown",
   "id": "301d2f11-bf7d-4c38-b44f-b0d77946c5a0",
   "metadata": {},
   "source": [
    "**34. Build a program that performs matrix multiplication using nested loops and conditional statements.**"
   ]
  },
  {
   "cell_type": "code",
   "execution_count": 75,
   "id": "bb168ee7-9e7f-4b38-95df-38fca41c2b67",
   "metadata": {},
   "outputs": [
    {
     "name": "stdin",
     "output_type": "stream",
     "text": [
      "Enter the number of rows for the first matrix:  2\n",
      "Enter the number of columns for the first matrix:  3\n",
      "Enter the number of rows for the second matrix:  3\n",
      "Enter the number of columns for the second matrix:  2\n"
     ]
    },
    {
     "name": "stdout",
     "output_type": "stream",
     "text": [
      "\n",
      "Enter elements for the first matrix:\n",
      "Enter the elements for a 2x3 matrix:\n"
     ]
    },
    {
     "name": "stdin",
     "output_type": "stream",
     "text": [
      "Enter element at position (1, 1):  1\n",
      "Enter element at position (1, 2):  2\n",
      "Enter element at position (1, 3):  3\n",
      "Enter element at position (2, 1):  4\n",
      "Enter element at position (2, 2):  5\n",
      "Enter element at position (2, 3):  6\n"
     ]
    },
    {
     "name": "stdout",
     "output_type": "stream",
     "text": [
      "\n",
      "Enter elements for the second matrix:\n",
      "Enter the elements for a 3x2 matrix:\n"
     ]
    },
    {
     "name": "stdin",
     "output_type": "stream",
     "text": [
      "Enter element at position (1, 1):  9\n",
      "Enter element at position (1, 2):  8\n",
      "Enter element at position (2, 1):  7\n",
      "Enter element at position (2, 2):  6\n",
      "Enter element at position (3, 1):  5\n",
      "Enter element at position (3, 2):  4\n"
     ]
    },
    {
     "name": "stdout",
     "output_type": "stream",
     "text": [
      "\n",
      "Matrix Multiplication Result:\n",
      "[38.0, 32.0]\n",
      "[101.0, 86.0]\n"
     ]
    }
   ],
   "source": [
    "def create_matrix(rows, columns):\n",
    "    matrix = []\n",
    "    print(f\"Enter the elements for a {rows}x{columns} matrix:\")\n",
    "    for i in range(rows):\n",
    "        row = []\n",
    "        for j in range(columns):\n",
    "            element = float(input(f\"Enter element at position ({i + 1}, {j + 1}): \"))\n",
    "            row.append(element)\n",
    "        matrix.append(row)\n",
    "    return matrix\n",
    "\n",
    "def matrix_multiplication(matrix1, matrix2):\n",
    "    if len(matrix1[0]) != len(matrix2):\n",
    "        print(\"Matrix multiplication not possible. Number of columns in the first matrix should be equal to the number of rows in the second matrix.\")\n",
    "        return None\n",
    "    \n",
    "    result = []\n",
    "    for i in range(len(matrix1)):\n",
    "        row = []\n",
    "        for j in range(len(matrix2[0])):\n",
    "            product = 0\n",
    "            for k in range(len(matrix2)):\n",
    "                product += matrix1[i][k] * matrix2[k][j]\n",
    "            row.append(product)\n",
    "        result.append(row)\n",
    "    return result\n",
    "\n",
    "# Input dimensions for the matrices\n",
    "rows1 = int(input(\"Enter the number of rows for the first matrix: \"))\n",
    "columns1 = int(input(\"Enter the number of columns for the first matrix: \"))\n",
    "\n",
    "rows2 = int(input(\"Enter the number of rows for the second matrix: \"))\n",
    "columns2 = int(input(\"Enter the number of columns for the second matrix: \"))\n",
    "\n",
    "# Create two matrices\n",
    "print(\"\\nEnter elements for the first matrix:\")\n",
    "matrix1 = create_matrix(rows1, columns1)\n",
    "\n",
    "print(\"\\nEnter elements for the second matrix:\")\n",
    "matrix2 = create_matrix(rows2, columns2)\n",
    "\n",
    "# matrix1=[[8,7,6],[7,6,6],[4,3,2]]\n",
    "# matrix2=[[7,6,6],[4,3,2],[8,7,6]]\n",
    "\n",
    "# Perform matrix multiplication\n",
    "multiplication_result = matrix_multiplication(matrix1, matrix2)\n",
    "\n",
    "# Display the result if multiplication was successful\n",
    "if multiplication_result:\n",
    "    print(\"\\nMatrix Multiplication Result:\")\n",
    "    for row in multiplication_result:\n",
    "        print(row)\n"
   ]
  },
  {
   "cell_type": "markdown",
   "id": "c6aed569-8dd5-4b92-a74a-0cbb5c33dcc0",
   "metadata": {},
   "source": [
    "**Explanation:**\n",
    "\n",
    "\"create_matrix(rows, columns)\" function prompts the user to input elements for a matrix of dimensions specified by rows and columns. It creates the matrix based on user inputs and returns it.\n",
    "\n",
    "matrix_multiplication(matrix1, matrix2)\" function performs matrix multiplication between matrix1 and matrix2. It checks if the number of columns in matrix1 is equal to the number of rows in matrix2 for valid matrix multiplication. It uses nested loops to compute the dot product of rows from matrix1 with columns from matrix2 and constructs the resulting matrix.\n",
    "\n",
    "The dimensions for two matrices ('rows1', 'columns1' for the first matrix, 'rows2', 'columns2' for the second matrix) are taken as input from the user. \n",
    "\n",
    "Then the \"matrix_multiplication()\" function is invoked to multiply the matrices if their dimensions allow.\n",
    "\n",
    "Then we Display the resulting matrix if multiplication is successful."
   ]
  },
  {
   "cell_type": "markdown",
   "id": "4bcca484-f762-44a1-a23f-af018680b07d",
   "metadata": {},
   "source": [
    "**35. Create a program that simulates a basic text-based tic-tac-toe game against the computer.**"
   ]
  },
  {
   "cell_type": "code",
   "execution_count": 76,
   "id": "9fccfa04-7604-4adc-8edb-9979938242d7",
   "metadata": {},
   "outputs": [
    {
     "name": "stdout",
     "output_type": "stream",
     "text": [
      "Welcome to Tic-Tac-Toe!\n",
      "  |   |  \n",
      "---------\n",
      "  |   |  \n",
      "---------\n",
      "  |   |  \n",
      "---------\n"
     ]
    },
    {
     "name": "stdin",
     "output_type": "stream",
     "text": [
      "Enter row (1-3):  2\n",
      "Enter column (1-3):  2\n"
     ]
    },
    {
     "name": "stdout",
     "output_type": "stream",
     "text": [
      "  |   |  \n",
      "---------\n",
      "  | X |  \n",
      "---------\n",
      "  |   |  \n",
      "---------\n",
      "Computer's turn:\n",
      "O |   |  \n",
      "---------\n",
      "  | X |  \n",
      "---------\n",
      "  |   |  \n",
      "---------\n"
     ]
    },
    {
     "name": "stdin",
     "output_type": "stream",
     "text": [
      "Enter row (1-3):  1\n",
      "Enter column (1-3):  3\n"
     ]
    },
    {
     "name": "stdout",
     "output_type": "stream",
     "text": [
      "O |   | X\n",
      "---------\n",
      "  | X |  \n",
      "---------\n",
      "  |   |  \n",
      "---------\n",
      "Computer's turn:\n",
      "O |   | X\n",
      "---------\n",
      "  | X |  \n",
      "---------\n",
      "O |   |  \n",
      "---------\n"
     ]
    },
    {
     "name": "stdin",
     "output_type": "stream",
     "text": [
      "Enter row (1-3):  3\n",
      "Enter column (1-3):  3\n"
     ]
    },
    {
     "name": "stdout",
     "output_type": "stream",
     "text": [
      "O |   | X\n",
      "---------\n",
      "  | X |  \n",
      "---------\n",
      "O |   | X\n",
      "---------\n",
      "Computer's turn:\n",
      "O |   | X\n",
      "---------\n",
      "  | X |  \n",
      "---------\n",
      "O | O | X\n",
      "---------\n"
     ]
    },
    {
     "name": "stdin",
     "output_type": "stream",
     "text": [
      "Enter row (1-3):  2\n",
      "Enter column (1-3):  3\n"
     ]
    },
    {
     "name": "stdout",
     "output_type": "stream",
     "text": [
      "O |   | X\n",
      "---------\n",
      "  | X | X\n",
      "---------\n",
      "O | O | X\n",
      "---------\n",
      "Congratulations! You win!\n"
     ]
    }
   ],
   "source": [
    "import random\n",
    "\n",
    "def print_board(board):\n",
    "    for row in board:\n",
    "        print(\" | \".join(row))\n",
    "        print(\"-\" * 9)\n",
    "\n",
    "def check_winner(board, player):\n",
    "    # Check rows, columns, and diagonals for a win\n",
    "    for i in range(3):\n",
    "        if all(board[i][j] == player for j in range(3)):\n",
    "            return True\n",
    "        if all(board[j][i] == player for j in range(3)):\n",
    "            return True\n",
    "    if all(board[i][i] == player for i in range(3)) or all(board[i][2 - i] == player for i in range(3)):\n",
    "        return True\n",
    "    return False\n",
    "\n",
    "def is_board_full(board):\n",
    "    return all(board[i][j] != \" \" for i in range(3) for j in range(3))\n",
    "\n",
    "def player_move(board):\n",
    "    while True:\n",
    "        row = int(input(\"Enter row (1-3): \")) - 1\n",
    "        col = int(input(\"Enter column (1-3): \")) - 1\n",
    "        if 0 <= row < 3 and 0 <= col < 3 and board[row][col] == \" \":\n",
    "            board[row][col] = \"X\"\n",
    "            break\n",
    "        else:\n",
    "            print(\"Invalid move. Try again.\")\n",
    "\n",
    "def computer_move(board):\n",
    "    while True:\n",
    "        row = random.randint(0, 2)\n",
    "        col = random.randint(0, 2)\n",
    "        if board[row][col] == \" \":\n",
    "            board[row][col] = \"O\"\n",
    "            break\n",
    "\n",
    "def play_game():\n",
    "    board = [[\" \" for _ in range(3)] for _ in range(3)]\n",
    "    print(\"Welcome to Tic-Tac-Toe!\")\n",
    "    print_board(board)\n",
    "\n",
    "    while True:\n",
    "        player_move(board)\n",
    "        print_board(board)\n",
    "        if check_winner(board, \"X\"):\n",
    "            print(\"Congratulations! You win!\")\n",
    "            break\n",
    "        if is_board_full(board):\n",
    "            print(\"It's a tie!\")\n",
    "            break\n",
    "\n",
    "        print(\"Computer's turn:\")\n",
    "        computer_move(board)\n",
    "        print_board(board)\n",
    "        if check_winner(board, \"O\"):\n",
    "            print(\"Computer wins! Better luck next time.\")\n",
    "            break\n",
    "        if is_board_full(board):\n",
    "            print(\"It's a tie!\")\n",
    "            break\n",
    "\n",
    "# Start the game\n",
    "play_game()"
   ]
  },
  {
   "cell_type": "markdown",
   "id": "32655cc6-ab9d-4098-80a0-3c91136d017d",
   "metadata": {},
   "source": [
    "**Explanation:**\n",
    "\n",
    "\"print_board(board)\" function displays the Tic-Tac-Toe board by printing the current state of the game board.\n",
    "\n",
    "\"check_winner(board, player)\" function checks if a player (\"X\" for the player, \"O\" for the computer) has won the game. It checks all rows, columns, and diagonals to determine a winning condition.\n",
    "\n",
    "\"is_board_full(board)\" function checks if the board is completely filled, indicating a tie game.\n",
    "\n",
    "\"player_move(board)\" function prompts the player to input their move by selecting a row and column to place their marker (\"X\") on the board.\n",
    "\n",
    "\"computer_move(board)\" function simulates the computer's move by randomly choosing an empty cell to place its marker (\"O\") on the board.\n",
    "\n",
    "\"play_game()\" function manages the game loop and controls the flow of the game. It initializes the board, displays the initial empty board, and alternates between player and computer moves until there is a winner or a tie.\n",
    "\n",
    "The game starts by calling \"play_game()\" function.\n",
    "\n",
    "The game starts with an empty 3x3 board, and the initial board state is displayed.\n",
    "\n",
    "The player is prompted to make a move by entering a row and column number.\n",
    "\n",
    "Everytime The board is updated after the player's move, and the current state is displayed.\n",
    "\n",
    "Everytime after the player's move, the code checks if the player has won or if it's a tie after their move.\n",
    "\n",
    "If the game is not over, it's the computer's turn. The computer makes a move by randomly selecting an empty cell on the board.\n",
    "The board is updated with the computer's move, and the current state is displayed. The code checks if the computer has won or if it's a tie after its move.\n",
    "\n",
    "The game loop continues until there is a winner or a tie, and appropriate messages are displayed based on the game outcome."
   ]
  },
  {
   "cell_type": "markdown",
   "id": "f012d8fb-3995-4cf1-8fee-0f0f2d495ce1",
   "metadata": {},
   "source": [
    "**36. Write a program that generates Fibonacci numbers up to a specified term using iterative methods.**"
   ]
  },
  {
   "cell_type": "code",
   "execution_count": 77,
   "id": "22529233-4568-42c8-a38f-e3b91e4b20d8",
   "metadata": {},
   "outputs": [
    {
     "name": "stdin",
     "output_type": "stream",
     "text": [
      "Enter the number of Fibonacci terms to generate:  5\n"
     ]
    },
    {
     "name": "stdout",
     "output_type": "stream",
     "text": [
      "Fibonacci sequence up to term 5:\n",
      "[0, 1, 1, 2, 3]\n"
     ]
    }
   ],
   "source": [
    "def generate_fibonacci(n):\n",
    "    if n <= 0:\n",
    "        return []\n",
    "\n",
    "    fibonacci_sequence = [0, 1]  # Initialize the sequence with first two terms\n",
    "\n",
    "    while len(fibonacci_sequence)-1 < n:\n",
    "        next_term = fibonacci_sequence[-1] + fibonacci_sequence[-2]\n",
    "        fibonacci_sequence.append(next_term)\n",
    "\n",
    "    return fibonacci_sequence[:n]\n",
    "\n",
    "# Get user input for the number of terms in the Fibonacci sequence\n",
    "num_terms = int(input(\"Enter the number of Fibonacci terms to generate: \"))\n",
    "\n",
    "# Generate the Fibonacci sequence up to the specified number of terms\n",
    "fibonacci_sequence = generate_fibonacci(num_terms)\n",
    "\n",
    "# Display the generated Fibonacci sequence\n",
    "print(f\"Fibonacci sequence up to term {num_terms}:\")\n",
    "print(fibonacci_sequence)\n"
   ]
  },
  {
   "cell_type": "markdown",
   "id": "99180a69-1e69-43fc-bbf3-326479a23196",
   "metadata": {},
   "source": [
    "**Explanation:**\n",
    "\n",
    "\"generate_fibonacci(n)\" function generates a Fibonacci sequence up to the nth term using an iterative approach. It initializes the sequence with the first two terms [0, 1]. It iterates and appends the next Fibonacci terms by summing up the last two terms of the sequence until the sequence length reaches n. It returns the generated Fibonacci sequence up to the n terms.\n",
    "\n",
    "The code prompts the user to input the number of terms (num_terms) in the Fibonacci sequence.\n",
    "\n",
    "Then the \"generate_fibonacci()\" function is called with the user-provided number of terms.\n",
    "\n",
    "Then we Display the generated Fibonacci sequence up to the specified number of terms."
   ]
  },
  {
   "cell_type": "markdown",
   "id": "bfd95ebb-4c38-4bb5-82d0-d33e1e9228d3",
   "metadata": {},
   "source": [
    "**37. Develop a program that calculates the nth term of the Fibonacci sequence using memoization.**"
   ]
  },
  {
   "cell_type": "code",
   "execution_count": 81,
   "id": "8017b996-596a-45ac-a1b7-f9c1a084dbc2",
   "metadata": {},
   "outputs": [
    {
     "name": "stdin",
     "output_type": "stream",
     "text": [
      "Enter the term (n) to calculate in the Fibonacci sequence:  8\n"
     ]
    },
    {
     "name": "stdout",
     "output_type": "stream",
     "text": [
      "The 8th term of the Fibonacci sequence is: 21\n"
     ]
    }
   ],
   "source": [
    "def fibonacci(n, memo={}):\n",
    "    if n in memo:\n",
    "        return memo[n]\n",
    "    if n <= 1:\n",
    "        return n\n",
    "\n",
    "    memo[n] = fibonacci(n - 1, memo) + fibonacci(n - 2, memo)\n",
    "    return memo[n]\n",
    "\n",
    "# Get user input for the term of the Fibonacci sequence to calculate\n",
    "num = int(input(\"Enter the term (n) to calculate in the Fibonacci sequence: \"))\n",
    "\n",
    "# Calculate the nth term of the Fibonacci sequence using memoization\n",
    "result = fibonacci(num)\n",
    "\n",
    "# Display the calculated nth term of the Fibonacci sequence\n",
    "print(f\"The {num}th term of the Fibonacci sequence is: {result}\")\n"
   ]
  },
  {
   "cell_type": "markdown",
   "id": "c4ad293b-a4c2-4276-a34d-e22bf19a3fdc",
   "metadata": {},
   "source": [
    "**Explanation:**\n",
    "\n",
    "\"fibonacci(n, memo={})\" function calculates the nth term of the Fibonacci sequence using memoization. It uses a dictionary memo to store already calculated Fibonacci terms to avoid redundant calculations. If the term n is already in the memo, it returns its value directly. For n <= 1, it returns n as the base case for the Fibonacci sequence. For n >= 2, it calculates the Fibonacci term recursively by summing up the (n-1)th and (n-2)th terms. It stores the calculated value in the memo dictionary to reuse it if needed later.\n",
    "\n",
    "The code prompts the user to input the term (num) of the Fibonacci sequence they want to calculate.\n",
    "\n",
    "Then the fibonacci() function is called to compute the nth term of the Fibonacci sequence using memoization.\n",
    "\n",
    "Then we Display the calculated nth term of the Fibonacci sequence."
   ]
  },
  {
   "cell_type": "markdown",
   "id": "59fb68e4-34a2-4477-b238-a3b26f227e77",
   "metadata": {},
   "source": [
    "**38. Create a program that generates a calendar for a given month and year using conditional statements.**"
   ]
  },
  {
   "cell_type": "code",
   "execution_count": 83,
   "id": "bdc0adb6-435a-40fd-bad4-154f8193ae40",
   "metadata": {},
   "outputs": [
    {
     "name": "stdin",
     "output_type": "stream",
     "text": [
      "Enter the year:  2024\n",
      "Enter the month (1-12):  2\n"
     ]
    },
    {
     "name": "stdout",
     "output_type": "stream",
     "text": [
      "February 2024\n",
      "  Mon  Tue  Wed  Thu  Fri  Sat  Sun\n",
      "                  1    2    3    4 \n",
      "   5    6    7    8    9   10   11 \n",
      "  12   13   14   15   16   17   18 \n",
      "  19   20   21   22   23   24   25 \n",
      "  26   27   28   29                \n"
     ]
    }
   ],
   "source": [
    "import calendar\n",
    "\n",
    "def generate_calendar(year, month):\n",
    "    cal = calendar.monthcalendar(year, month)\n",
    "    month_name = calendar.month_name[month]\n",
    "    \n",
    "    print(f\"{month_name} {year}\")\n",
    "    print(\"  Mon  Tue  Wed  Thu  Fri  Sat  Sun\")\n",
    "    \n",
    "    for week in cal:\n",
    "        week_str = ''\n",
    "        for day in week:\n",
    "            if day == 0:\n",
    "                week_str += '     '\n",
    "            else:\n",
    "                week_str += f'{day:4} '\n",
    "        print(week_str)\n",
    "\n",
    "# Get user input for the year and month\n",
    "year = int(input(\"Enter the year: \"))\n",
    "month = int(input(\"Enter the month (1-12): \"))\n",
    "\n",
    "# Validate the month input\n",
    "if 1 <= month <= 12:\n",
    "    generate_calendar(year, month)\n",
    "else:\n",
    "    print(\"Invalid month. Please enter a month between 1 and 12.\")\n"
   ]
  },
  {
   "cell_type": "markdown",
   "id": "728e347d-befb-4908-8e51-c33724ecf5a1",
   "metadata": {},
   "source": [
    "**Explanation:**\n",
    "\n",
    "Initially the calander module is imported.\n",
    "\n",
    "\"generate_calendar(year, month)\" function generates a calendar for a specified year and month. It uses Python's built-in calendar module to obtain the calendar data for the specified year and month. It prints the calendar layout with day numbers and aligns them within columns for each week.\n",
    "\n",
    "The program prompts the user to input the year and month to generate a calendar for.\n",
    "\n",
    "The program then validates the input to ensure the month is within the valid range (1-12).\n",
    "\n",
    "Then the \"generate_calendar()\" function is called to generate and display the calendar for the specified month and year."
   ]
  },
  {
   "cell_type": "markdown",
   "id": "3996bb54-0ecf-435a-9c2c-7e83afe75591",
   "metadata": {},
   "source": [
    "**39. Build a program that simulates a basic text-based blackjack game against the computer.**"
   ]
  },
  {
   "cell_type": "code",
   "execution_count": 86,
   "id": "77d9d961-2972-4863-895d-60d09fc99f12",
   "metadata": {},
   "outputs": [
    {
     "name": "stdout",
     "output_type": "stream",
     "text": [
      "\n",
      "Player's Hand:\n",
      "Q of Hearts\n",
      "Q of Spades\n",
      "Total Value: 20\n",
      "\n",
      "Dealer's Hand:\n",
      "2 of Hearts\n",
      "Hidden Card\n"
     ]
    },
    {
     "name": "stdin",
     "output_type": "stream",
     "text": [
      "Hit or Stand? (H/S):  S\n"
     ]
    },
    {
     "name": "stdout",
     "output_type": "stream",
     "text": [
      "\n",
      "Dealer's Turn:\n",
      "\n",
      "Dealer's Hand:\n",
      "2 of Hearts\n",
      "J of Spades\n",
      "Total Value: 12\n",
      "\n",
      "Dealer's Hand:\n",
      "2 of Hearts\n",
      "J of Spades\n",
      "6 of Clubs\n",
      "Total Value: 18\n",
      "You win!\n"
     ]
    }
   ],
   "source": [
    "import random\n",
    "\n",
    "# Function to initialize a deck of cards\n",
    "def initialize_deck():\n",
    "    ranks = ['2', '3', '4', '5', '6', '7', '8', '9', '10', 'J', 'Q', 'K', 'A']\n",
    "    suits = ['Hearts', 'Diamonds', 'Clubs', 'Spades']\n",
    "    deck = [{'rank': rank, 'suit': suit} for rank in ranks for suit in suits]\n",
    "    random.shuffle(deck)\n",
    "    return deck\n",
    "\n",
    "# Function to calculate the value of a hand\n",
    "def calculate_hand_value(hand):\n",
    "    value = 0\n",
    "    ace_count = 0\n",
    "    for card in hand:\n",
    "        if card['rank'] in ['J', 'Q', 'K']:\n",
    "            value += 10\n",
    "        elif card['rank'] == 'A':\n",
    "            value += 11\n",
    "            ace_count += 1\n",
    "        else:\n",
    "            value += int(card['rank'])\n",
    "    while value > 21 and ace_count > 0:\n",
    "        value -= 10\n",
    "        ace_count -= 1\n",
    "    return value\n",
    "\n",
    "# Function to display a hand\n",
    "def display_hand(hand, player_name):\n",
    "    print(f\"\\n{player_name}'s Hand:\")\n",
    "    for card in hand:\n",
    "        print(f\"{card['rank']} of {card['suit']}\")\n",
    "    print(f\"Total Value: {calculate_hand_value(hand)}\")\n",
    "\n",
    "# Function to deal a card\n",
    "def deal_card(deck):\n",
    "    return deck.pop(0)\n",
    "\n",
    "# Function to simulate the blackjack game\n",
    "def play_blackjack():\n",
    "    deck = initialize_deck()\n",
    "    player_hand = [deal_card(deck), deal_card(deck)]\n",
    "    dealer_hand = [deal_card(deck), deal_card(deck)]\n",
    "\n",
    "    # Display player's hand and value\n",
    "    display_hand(player_hand, \"Player\")\n",
    "\n",
    "    # Display one card of the dealer's hand\n",
    "    print(\"\\nDealer's Hand:\")\n",
    "    print(f\"{dealer_hand[0]['rank']} of {dealer_hand[0]['suit']}\")\n",
    "    print(\"Hidden Card\")\n",
    "\n",
    "    # Player's turn\n",
    "    while True:\n",
    "        player_value = calculate_hand_value(player_hand)\n",
    "        if player_value == 21:\n",
    "            print(\"Blackjack! You win!\")\n",
    "            break\n",
    "        elif player_value > 21:\n",
    "            print(\"Busted! You lose.\")\n",
    "            break\n",
    "        else:\n",
    "            choice = input(\"Hit or Stand? (H/S): \").upper()\n",
    "            if choice == 'H':\n",
    "                player_hand.append(deal_card(deck))\n",
    "                display_hand(player_hand, \"Player\")\n",
    "            elif choice == 'S':\n",
    "                break\n",
    "\n",
    "    # Dealer's turn\n",
    "    if player_value <= 21:\n",
    "        print(\"\\nDealer's Turn:\")\n",
    "        display_hand(dealer_hand, \"Dealer\")\n",
    "        while calculate_hand_value(dealer_hand) < 17:\n",
    "            dealer_hand.append(deal_card(deck))\n",
    "            display_hand(dealer_hand, \"Dealer\")\n",
    "        dealer_value = calculate_hand_value(dealer_hand)\n",
    "        if dealer_value > 21:\n",
    "            print(\"Dealer Busted! You win!\")\n",
    "        elif dealer_value > player_value:\n",
    "            print(\"Dealer wins!\")\n",
    "        elif dealer_value < player_value:\n",
    "            print(\"You win!\")\n",
    "        else:\n",
    "            print(\"It's a tie!\")\n",
    "\n",
    "# Start the blackjack game\n",
    "play_blackjack()\n"
   ]
  },
  {
   "cell_type": "markdown",
   "id": "4f9b8ecd-9cea-4740-b8ee-9bdf8b25919e",
   "metadata": {},
   "source": [
    "**Explanation:**\n",
    "\n",
    "Function \"initialize_deck()\" Creates and shuffles a standard deck of 52 playing cards using ranks (from '2' to 'A') and suits ('Hearts', 'Diamonds', 'Clubs', 'Spades').\n",
    "\n",
    "Finction \"calculate_hand_value(hand)\" Calculates the total value of a hand in blackjack. Assigns a value to each card, numeric cards have their face value, face cards ('J', 'Q', 'K') are worth 10, and 'A' is initially counted as 11. It adjusts 'A' to 1 if the total value exceeds 21.\n",
    "\n",
    "Function \"display_hand(hand, player_name)\" prints the cards in a player's or dealer's hand and their total value.\n",
    "\n",
    "Function \"play_blackjack()\" initiates the blackjack game. Deals two cards each to the player and the dealer. Displays the player's hand and one card of the dealer's hand. Manages the player's turn, allowing the player to hit or stand.\n",
    "Initiates the dealer's turn after the player's decision. Determines the winner or tie based on the final values of the player's and dealer's hands.\n",
    "\n",
    "The game follows standard blackjack rules, The player aims for a total value close to 21 without exceeding it.\n",
    "The dealer stands on a total value of 17 or higher. The game declares a win if the player's total value is higher than the dealer's without exceeding 21, or if the dealer busts (exceeds 21). It considers a tie if both the player and dealer have the same total value.  Players can choose to hit (receive an additional card) or stand (end their turn) until they reach a satisfactory total or bust."
   ]
  },
  {
   "cell_type": "markdown",
   "id": "88bb355e-6513-47ec-8866-33313b4e888b",
   "metadata": {},
   "source": [
    "**40. Write a program that generates the prime factors of a given number using trial division.**"
   ]
  },
  {
   "cell_type": "code",
   "execution_count": 87,
   "id": "facea4c1-12b7-46ef-974e-c727dd22ca68",
   "metadata": {},
   "outputs": [
    {
     "name": "stdin",
     "output_type": "stream",
     "text": [
      "Enter a number to find its prime factors:  39\n"
     ]
    },
    {
     "name": "stdout",
     "output_type": "stream",
     "text": [
      "39 3\n",
      "13 13\n",
      "The prime factors of 39 are: [3, 13]\n"
     ]
    }
   ],
   "source": [
    "def prime_factors(n):\n",
    "    factors = []\n",
    "    divisor = 2\n",
    "    \n",
    "    while n > 1:\n",
    "        while n % divisor == 0:\n",
    "            factors.append(divisor)\n",
    "            print(n,divisor)\n",
    "            n //= divisor\n",
    "        divisor += 1\n",
    "    \n",
    "    return factors if factors else [n]\n",
    "\n",
    "# Input a number from the user\n",
    "number = int(input(\"Enter a number to find its prime factors: \"))\n",
    "\n",
    "# Calculate and display the prime factors\n",
    "if number < 2:\n",
    "    print(\"Prime factors are not applicable for numbers less than 2.\")\n",
    "else:\n",
    "    result = prime_factors(number)\n",
    "    print(f\"The prime factors of {number} are: {result}\")\n"
   ]
  },
  {
   "cell_type": "markdown",
   "id": "6a006a8d-c7aa-40e3-be3c-ed211022901a",
   "metadata": {},
   "source": [
    "**Explanation:**\n",
    "\n",
    "\"prime_factors(n)\" function calculates the prime factors of the given number n using trial division. It iterates through divisors starting from 2. For each divisor, if it divides the number evenly (with remainder 0), it's added to the list of factors and the number is divided by the divisor. The divisor is incremented until the number becomes 1.\n",
    "\n",
    "The program prompts the user to input a number.\n",
    "\n",
    "If the input number is less than 2, the program informs the user that prime factors are not applicable for numbers less than 2.\n",
    "\n",
    "Otherwise, the program calls the prime_factors() function with the input number and displays the prime factors."
   ]
  }
 ],
 "metadata": {
  "kernelspec": {
   "display_name": "Python 3 (ipykernel)",
   "language": "python",
   "name": "python3"
  },
  "language_info": {
   "codemirror_mode": {
    "name": "ipython",
    "version": 3
   },
   "file_extension": ".py",
   "mimetype": "text/x-python",
   "name": "python",
   "nbconvert_exporter": "python",
   "pygments_lexer": "ipython3",
   "version": "3.10.8"
  }
 },
 "nbformat": 4,
 "nbformat_minor": 5
}
