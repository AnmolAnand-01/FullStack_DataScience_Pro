{
 "cells": [
  {
   "cell_type": "markdown",
   "id": "06121bd9-93b8-43f2-8f97-9a2022b275f0",
   "metadata": {},
   "source": [
    "# For Loop :-"
   ]
  },
  {
   "cell_type": "markdown",
   "id": "fa67162c-671a-446d-b346-9c62b11eb92d",
   "metadata": {},
   "source": [
    "**Q1. Write a Python program to print numbers from 1 to 10 using a for loop.**"
   ]
  },
  {
   "cell_type": "code",
   "execution_count": 1,
   "id": "78a12a9c-6df5-4e73-b4e4-c8ab196422bd",
   "metadata": {},
   "outputs": [
    {
     "name": "stdout",
     "output_type": "stream",
     "text": [
      "1\n",
      "2\n",
      "3\n",
      "4\n",
      "5\n",
      "6\n",
      "7\n",
      "8\n",
      "9\n",
      "10\n"
     ]
    }
   ],
   "source": [
    "for num in range(1,11):\n",
    "    print(num)"
   ]
  },
  {
   "cell_type": "markdown",
   "id": "b5ea5003-8647-4c92-ac53-f212e2c2609d",
   "metadata": {},
   "source": [
    "**Explanation:**\n",
    "\n",
    "Here we are using for loop to print the numbers from 1 to 10.\n",
    "\n",
    "To print these numbers using for loop we need to iterate through these numbers one by one, so we are using the range function.\n",
    "\n",
    "Range function accepts three parameters, and it's syntax is \"range(start, end, step)\", Range() creates a range object that represents a sequence of numbers between start and end(start is included and end is excluded). Step represents the jump size between the current number and the next number. The default value of step is 1.\n",
    "\n",
    "print statement inside the for loop prints the number currently being traversed by the for loop."
   ]
  },
  {
   "cell_type": "markdown",
   "id": "dad5158c-3508-4af3-8d90-f1b5e10a4a8a",
   "metadata": {},
   "source": [
    "**Q2. Explain the difference between a for loop and a while loop in Python.**"
   ]
  },
  {
   "cell_type": "markdown",
   "id": "97fdb391-515b-4b25-9ee9-cf1ab8400f99",
   "metadata": {},
   "source": [
    "**For Loop:**\n",
    "\n",
    "A for loop in Python is used to iterate over a sequence (such as a list, tuple, string, or range) or any iterable object.\n",
    "\n",
    "It iterates over a predefined range or sequence of elements.\n",
    "\n",
    "The loop iterates through each element in the sequence and executes the code block associated with it.\n",
    "\n",
    "The loop terminates when it has iterated through all elements in the sequence.\n",
    "\n",
    "for loops are used when the number of iterations is known or predefined (e.g., iterating through elements of a list).\n",
    "\n",
    "**While Loop:**\n",
    "\n",
    "A while loop in Python repeatedly executes a block of code as long as a specified condition is true.\n",
    "\n",
    "It doesn’t require a predefined iteration of elements; instead, it depends on the truthfulness of a condition.\n",
    "\n",
    "The loop continues executing as long as the condition remains true.\n",
    "\n",
    "It's important to ensure that the condition inside the while loop has a mechanism to eventually become false, otherwise, the loop will run indefinitely (known as an infinite loop).\n",
    "\n",
    "while loops are used when the number of iterations is not known beforehand, and the loop continues as long as a certain condition is true."
   ]
  },
  {
   "cell_type": "markdown",
   "id": "94ee0533-6eb5-4cd1-9c53-f69eca7df9ec",
   "metadata": {},
   "source": [
    "**Q3. Write a Python program to calculate the sum of all numbers from 1 to 100 using a for loop.**"
   ]
  },
  {
   "cell_type": "code",
   "execution_count": 2,
   "id": "0912386b-20f3-4c92-9062-dfc899c12617",
   "metadata": {},
   "outputs": [
    {
     "name": "stdout",
     "output_type": "stream",
     "text": [
      "The sum of numbers fron 1 to 100 is: 5050\n"
     ]
    }
   ],
   "source": [
    "sum_=0\n",
    "for num in range(1,101):\n",
    "    sum_+=num\n",
    "    \n",
    "print(\"The sum of numbers fron 1 to 100 is:\",sum_)"
   ]
  },
  {
   "cell_type": "markdown",
   "id": "7d2450b6-cd98-4bf2-95c2-f1444f4d599d",
   "metadata": {},
   "source": [
    "**Explanation:**\n",
    "\n",
    "Initially we have initialised a variable \"sum_\" as 0, It willstrore the sum of numbers from 1 to 100.\n",
    "\n",
    "for loop along with range() is used to iterate through numbers from 1 to 100 using \"for num in range(1,101)\"(101 is excluded).\n",
    "\n",
    "Range function accepts three parameters, and it's syntax is \"range(start, end, step)\", Range() creates a range object that represents a sequence of numbers between start and end(start is included and end is excluded). Step represents the jump size between the current number and the next number. The default value of step is 1.\n",
    "\n",
    "for each iteration we are adding the current number to the sum_ variable.\n",
    "\n",
    "Finally we are printing the output."
   ]
  },
  {
   "cell_type": "markdown",
   "id": "2cb52f29-26ca-4d3b-b4b3-95cbf8cd6dcd",
   "metadata": {},
   "source": [
    "**Q4. How do you iterate through a list using a for loop in Python?**"
   ]
  },
  {
   "cell_type": "code",
   "execution_count": 4,
   "id": "25070b8f-2fa4-42de-b570-30d20df6369e",
   "metadata": {},
   "outputs": [
    {
     "name": "stdout",
     "output_type": "stream",
     "text": [
      "1 2 3 4 5 6 7 8 "
     ]
    }
   ],
   "source": [
    "lst=[1,2,3,4,5,6,7,8]\n",
    "\n",
    "for item in lst:\n",
    "    print(item, end=\" \")"
   ]
  },
  {
   "cell_type": "markdown",
   "id": "0ff59a18-2168-41b5-b879-1811c92e66bd",
   "metadata": {},
   "source": [
    "**Explanation:**\n",
    "\n",
    "In python list is a sequence type and a for loop is used to iterate through a sequence, so we can use for loop to iterate throgh a list.\n",
    "\n",
    "In the above program:\n",
    "\n",
    "\"lst\" is the list that we want to iterate through. \n",
    "\n",
    "\"item\" is a temporary variable that holds each element of the list during each iteration of the loop.\n",
    "\n",
    "\"Inside the loop, we can perform operations or access the current element of the list using the \"item\" variable. Here we are simply printing the elements of the list."
   ]
  },
  {
   "cell_type": "markdown",
   "id": "d17185e5-3000-4151-a021-be1649f67f94",
   "metadata": {},
   "source": [
    "**Q5. Write a Python program to find the product of all elements in a list using a for loop.**"
   ]
  },
  {
   "cell_type": "code",
   "execution_count": 12,
   "id": "501c1665-7d77-4196-91c8-5d98153784e3",
   "metadata": {},
   "outputs": [
    {
     "name": "stdout",
     "output_type": "stream",
     "text": [
      "The product of numbers in the given list is: 40320\n"
     ]
    }
   ],
   "source": [
    "lst=[1,2,3,4,5,6,7,8]\n",
    "res_=1\n",
    "\n",
    "for num in lst:\n",
    "        res_*=num\n",
    "    \n",
    "print(\"The product of numbers in the given list is:\",res_)"
   ]
  },
  {
   "cell_type": "markdown",
   "id": "7da8766f-ae38-4ad5-81f0-4dc131b2454e",
   "metadata": {},
   "source": [
    "**Explanation:**\n",
    "\n",
    "Initially we have initialised a variable \"res_\" as 1, It will strore the product of numbers in the list.\n",
    "\n",
    "Also we have initialised a list for which we want to calculate the product of all the numbers.\n",
    "\n",
    "for loop along is used to iterate through all the numbers in the list using \"for num in lst\".\n",
    "\n",
    "for each iteration we are nultiplying the current number to the res_ variable.\n",
    "\n",
    "Finally we are printing the output."
   ]
  },
  {
   "cell_type": "markdown",
   "id": "6487b171-511b-4510-b5be-beb066292d1f",
   "metadata": {},
   "source": [
    "**Q6. Create a Python program that prints all even numbers from 1 to 20 using a for loop.**"
   ]
  },
  {
   "cell_type": "code",
   "execution_count": 14,
   "id": "6a46225c-a287-46ce-80b3-e5fef7e7278e",
   "metadata": {},
   "outputs": [
    {
     "name": "stdout",
     "output_type": "stream",
     "text": [
      "2\n",
      "4\n",
      "6\n",
      "8\n",
      "10\n",
      "12\n",
      "14\n",
      "16\n",
      "18\n",
      "20\n"
     ]
    }
   ],
   "source": [
    "for num in range(1,21):\n",
    "    if num%2 == 0:\n",
    "        print(num)"
   ]
  },
  {
   "cell_type": "markdown",
   "id": "e4a3d101-3df8-4915-a002-c0e3de302685",
   "metadata": {},
   "source": [
    "**Explanation:**\n",
    "\n",
    "for loop along with range() is used to iterate through numbers from 1 to 20 using \"for num in range(1,21)\"(21 is excluded).\n",
    "\n",
    "Range function accepts three parameters, and it's syntax is \"range(start, end, step)\", Range() creates a range object that represents a sequence of numbers between start and end(start is included and end is excluded). Step represents the jump size between the current number and the next number. The default value of step is 1.\n",
    "\n",
    "for each iteration we are checking if the number is even or odd using \"if num%2 == 0:\". \n",
    "\n",
    "If the number is perfectly divisible by 2 then it is an even number, and the if block is executed and we print that number"
   ]
  },
  {
   "cell_type": "markdown",
   "id": "55578d1a-efdf-4239-883e-5878faf6d65f",
   "metadata": {},
   "source": [
    "**Q7. Write a Python program that calculates the factorial of a number using a for loop.**"
   ]
  },
  {
   "cell_type": "code",
   "execution_count": 15,
   "id": "dff6ce00-79e4-4adc-83eb-d8bac6e5bb09",
   "metadata": {},
   "outputs": [
    {
     "name": "stdin",
     "output_type": "stream",
     "text": [
      "Enter the number: 6\n"
     ]
    },
    {
     "name": "stdout",
     "output_type": "stream",
     "text": [
      "The factorial of 6 is: 720\n"
     ]
    }
   ],
   "source": [
    "#DEfining a function that accepts a number as arguement and returns it's factorial.\n",
    "def fact(num):\n",
    "    if num==0 or num==1:\n",
    "        return 1\n",
    "    return num*fact(num-1)\n",
    "\n",
    "num=int(input(\"Enter the number:\")) #Taking the number as input from the user.\n",
    "\n",
    "factorial=fact(num) #Calling the function fact() to get the factorial of the number.\n",
    "\n",
    "print(\"The factorial of {} is: {}\".format(num,factorial)) #Printing the result."
   ]
  },
  {
   "cell_type": "markdown",
   "id": "0e202528-7f55-4501-8e7a-9688eec93dfd",
   "metadata": {},
   "source": [
    "**Explanation:**\n",
    "\n",
    "We are defining a function named fact() that accepts a number as arguement and returns it's factorial.\n",
    "\n",
    "fact() function uses recursion to calculate the factorial of the number. \n",
    "\n",
    "If a function is getting invoked by itself then it is called recursion.\n",
    "\n",
    "The fact() function checks if the number passed to it is 0 or 1, If the number is 0 or 1 the 1 is returned other wise the function returns the profuct of the number and recursive call to the next smaler number(num-1).\n",
    "\n",
    "We are taking the number as input from the user.\n",
    "\n",
    "we are using input() function to take the user input. The input() function returns a string, so we use int() to convert the input to integer, since amount can not be string.\n",
    "\n",
    "The we are calling the fact() function to get the factorial.\n",
    "\n",
    "Finally we are printing the result."
   ]
  },
  {
   "cell_type": "markdown",
   "id": "5b9c20c2-f6b6-4c05-965a-6070c85696b3",
   "metadata": {},
   "source": [
    "**Q8. How can you iterate through the characters of a string using a for loop in Python?**"
   ]
  },
  {
   "cell_type": "code",
   "execution_count": 16,
   "id": "201f2438-075c-49be-ada2-abc0caf9e1ba",
   "metadata": {},
   "outputs": [
    {
     "name": "stdout",
     "output_type": "stream",
     "text": [
      "P w S k i l l s "
     ]
    }
   ],
   "source": [
    "str_=\"PwSkills\"\n",
    "\n",
    "for char in str_:\n",
    "    print(char, end=\" \")"
   ]
  },
  {
   "cell_type": "markdown",
   "id": "d9f41773-bb01-4cda-8307-fd89e6619698",
   "metadata": {},
   "source": [
    "**Explanation:**\n",
    "\n",
    "In python string is a sequence type and a for loop is used to iterate through a sequence, so we can use for loop to iterate throgh the characters of a string.\n",
    "\n",
    "In the above program:\n",
    "\n",
    "\"str_\" is the string that we want to iterate through. \n",
    "\n",
    "\"char\" is a temporary variable that holds each characters of the string during each iteration of the loop.\n",
    "\n",
    "\"Inside the loop, we can perform operations or access the current character of the string using the \"char\" variable. Here we are simply printing the characters of the string."
   ]
  },
  {
   "cell_type": "markdown",
   "id": "322f677d-8c1c-44a7-83e2-240038b3c6e9",
   "metadata": {},
   "source": [
    "**Q9. Write a Python program to find the largest number in a list using a for loop.**"
   ]
  },
  {
   "cell_type": "code",
   "execution_count": 17,
   "id": "df9b2b42-06de-4277-8317-8a396f8491a3",
   "metadata": {},
   "outputs": [
    {
     "name": "stdout",
     "output_type": "stream",
     "text": [
      "1999987\n"
     ]
    }
   ],
   "source": [
    "import sys #Importing th sys module\n",
    "\n",
    "maxi=-sys.maxsize-1 #Initialising the variable mini with the minimum integer value, This variable will store the maximum element of the list.\n",
    "\n",
    "lst=[-99, -8, 0, 8, 7, 89, 1009, 100876, 0, -78, 1999987] #Initialising the list.\n",
    "\n",
    "for num in lst:\n",
    "    maxi=max(num,maxi)\n",
    "    \n",
    "    \n",
    "print(maxi)"
   ]
  },
  {
   "cell_type": "markdown",
   "id": "6922ca31-43d6-43f9-984d-94c109216f07",
   "metadata": {},
   "source": [
    "**Explanation:**\n",
    "\n",
    "Initially we have imported sys module of python. \n",
    "\n",
    "The sys module has an attribute called maxsize that represents the largest positive integer a variable can hold. To get the minimum integer value, you can use the negation of sys.maxsize - 1.\n",
    "\n",
    "We have initialised a list.\n",
    "\n",
    "for loop is used to iterate through the items of list using \"for num in lst\".\n",
    "\n",
    "For each iteration we are updating the variable \"maxi\" with the maximum of maxi and the current list element.\n",
    "\n",
    "Finally we are printing the output."
   ]
  },
  {
   "cell_type": "markdown",
   "id": "2ca9232e-395c-434b-bec9-adcdf5462fec",
   "metadata": {},
   "source": [
    "**Q10. Create a Python program that prints the Fibonacci sequence up to a specified limit using a for loop.**"
   ]
  },
  {
   "cell_type": "code",
   "execution_count": 23,
   "id": "1fbe5b05-98ef-44b1-816c-72ce860b5261",
   "metadata": {},
   "outputs": [
    {
     "name": "stdin",
     "output_type": "stream",
     "text": [
      "Enter the number 9\n"
     ]
    },
    {
     "name": "stdout",
     "output_type": "stream",
     "text": [
      "0 1 1 2 3 5 8 13 21 "
     ]
    }
   ],
   "source": [
    "#The Fibonacci series is represented by 0,1,1,2,3,5,8,13........ here every number is the sum of previous two numbers\n",
    "# 0 is the 0th number and 1 is the first number of the Fibonacci series.\n",
    "\n",
    "num=int(input(\"Enter the number\"))\n",
    "\n",
    "prev_2 = 0 #0 is the 0th number of the Fibonacci series.\n",
    "prev = 1 #1 is the first number of the Fibonacci series.\n",
    "\n",
    "if num>=2: #If the required number of terms in the series is greater than or equal to 2 then we need to print the 0th and the first term first.\n",
    "    print(prev_2, end=\" \")\n",
    "    print(prev, end=\" \")\n",
    "elif num==1: #If the required number of terms in the series is 1 then we need to print only the 0th term.\n",
    "    print(prev_2, end=\" \")\n",
    "\n",
    "#If the required number of terms in the series is zero or negative then we do not need to print any thing.\n",
    "    \n",
    "for i in range(0,num-2): #Here the range is from 0 to num-2(excluded) because the first two numbers of the series is already known and printed.\n",
    "    curr=prev+prev_2 #current term of the series is the sum of last two terms\n",
    "    prev_2=prev #Here we are updating the second last term with the last term, because the last term of present iteration will be the second last term for next iteration.\n",
    "    prev=curr #Here we are updating the last term with the current term, because the current term will be the last term for next iteration.\n",
    "    print(curr, end=\" \")"
   ]
  },
  {
   "cell_type": "markdown",
   "id": "6bca9010-e737-4577-83b0-ff1528b1ee5e",
   "metadata": {},
   "source": [
    "**Explanation:**\n",
    "\n",
    "Here we are using the for loop to print Fibonacci Series. \n",
    "\n",
    "\"input()\" function is used to take the input from the user. By default the \"input()\" function treates the entered value as string so we need to convert it into integer.\n",
    "\n",
    "for loop is used along with the range() function to traverse from 1 upto the required number.\n",
    "\n",
    "0 is the 0th number and 1 is the first number of the Fibonacci series. The current term is always the sum of last two terms.\n",
    "\n",
    "After calculating the current term we need to update the last term and second last tem for next iteration.\n",
    "\n",
    "Print function inside the for loop prints the current term of the series."
   ]
  },
  {
   "cell_type": "markdown",
   "id": "8777a103-25d1-4be1-987b-7d5f95449797",
   "metadata": {},
   "source": [
    "**Q11. Write a Python program to count the number of vowels in a given string using a for loop.**"
   ]
  },
  {
   "cell_type": "code",
   "execution_count": 4,
   "id": "efd2f11a-923c-4e04-b032-1b99de1e5c9f",
   "metadata": {},
   "outputs": [
    {
     "name": "stdin",
     "output_type": "stream",
     "text": [
      "Enter the string aaAABBbbEiou\n"
     ]
    },
    {
     "name": "stdout",
     "output_type": "stream",
     "text": [
      "The string \"aaAABBbbEiou\" contains 8 vowels\n"
     ]
    }
   ],
   "source": [
    "input_str=input(\"Enter the string\")#Taking string input from the user.\n",
    " \n",
    "count=0#initialise the count variable with 0. It will store the count of vowels in the given string \n",
    "for i in input_str:# for loop is used to traverse through all the characters of the string\n",
    "    if i in ('a', 'e', 'i', 'o', 'u') or i in ('A', 'E', 'I', 'O', 'U'): #If the character being checked is vowel then increment the count variable by 1.\n",
    "        count+=1\n",
    "        \n",
    "print('The string \"{}\" contains {} vowels'.format(input_str,count))"
   ]
  },
  {
   "cell_type": "markdown",
   "id": "16bf036b-2de1-4ab9-aea1-d2933cc2c9ec",
   "metadata": {},
   "source": [
    "**Explanation:**\n",
    "\n",
    "The string to be checked is taken as input from the user.\n",
    "\n",
    "\"input()\" function is used to take the string input from the user.\n",
    "\n",
    "Thr variable named \"count\" is initialised to 0. It stores the count of vowels in the given string\n",
    "\n",
    "for loop is used to iterate through all the characters of the given string.\n",
    "\n",
    "If any character is present in the tuple \"('a', 'e', 'i', 'o', 'u')\" or in tuple ('A', 'E', 'I', 'O', 'U') then it is a vowel and the if block is executeed, incrementing the count variable by 1.\n",
    "\n",
    "print function is used to print the output."
   ]
  },
  {
   "cell_type": "markdown",
   "id": "2d6f1316-d93a-4718-9651-04e0e9e70737",
   "metadata": {},
   "source": [
    "**Q12. Create a Python program that generates a multiplication table for a given number using a for loop.**"
   ]
  },
  {
   "cell_type": "code",
   "execution_count": 5,
   "id": "078e9fd1-4c8d-4e25-8165-1c266e554488",
   "metadata": {},
   "outputs": [
    {
     "name": "stdin",
     "output_type": "stream",
     "text": [
      "Enter a number: 11\n"
     ]
    },
    {
     "name": "stdout",
     "output_type": "stream",
     "text": [
      "11 * 1 = 11\n",
      "11 * 2 = 22\n",
      "11 * 3 = 33\n",
      "11 * 4 = 44\n",
      "11 * 5 = 55\n",
      "11 * 6 = 66\n",
      "11 * 7 = 77\n",
      "11 * 8 = 88\n",
      "11 * 9 = 99\n",
      "11 * 10 = 110\n"
     ]
    }
   ],
   "source": [
    "num = int(input(\"Enter a number:\")) #Taking input from the user, and then converting it into integer.\n",
    "for i in range(1,11):\n",
    "    print(\"{} * {} = {}\".format(num,i,num*i))"
   ]
  },
  {
   "cell_type": "markdown",
   "id": "8dbfc7aa-6b6d-402b-9cec-d21bb1af5613",
   "metadata": {},
   "source": [
    "**Explanation:**\n",
    "\n",
    "Here we are using the for loop to print the multiplication table of the given number. \n",
    "\n",
    "\"input()\" function is used to take the input from the user. By default the \"input()\" function treates the entered value as string so we need to convert it into integer.\n",
    "\n",
    "for loop is used along with the range() function to traverse from 1 to 10 (11 is excluded).\n",
    "\n",
    "Range function accepts three parameters, and it's syntax is \"range(start, end, step)\", Range() creates a range object that represents a sequence of numbers between start and end(start is included and end is excluded). Step represents the jump size between the current number and the next number. The default value of step is 1.\n",
    "\n",
    "print() function inside the for loop prints the multiplication table . "
   ]
  },
  {
   "cell_type": "markdown",
   "id": "c134691f-22ed-4281-9cf9-8c033cad85b6",
   "metadata": {},
   "source": [
    "**Q13. Write a Python program to reverse a list using a for loop.**"
   ]
  },
  {
   "cell_type": "code",
   "execution_count": 15,
   "id": "ff35b6ae-65ff-4a61-b771-29b5ef29f548",
   "metadata": {},
   "outputs": [
    {
     "name": "stdout",
     "output_type": "stream",
     "text": [
      "[10, 9, 8, 7, 6, 5, 4, 3, 2, 1]\n"
     ]
    }
   ],
   "source": [
    "lst=[1,2,3,4,5,6,7,8,9,10]#Initialising a list\n",
    "\n",
    "length=len(lst)#Calculating the length of the list\n",
    "\n",
    "for i in range(length//2): \n",
    "    # print(i,lst[i])\n",
    "    # print(length-i-1,lst[length-i-1])\n",
    "    lst[i],lst[length-i-1]=lst[length-i-1],lst[i]\n",
    "    \n",
    "print(lst)"
   ]
  },
  {
   "cell_type": "markdown",
   "id": "612e4797-2844-490c-8ab6-3f35e530d0e5",
   "metadata": {},
   "source": [
    "**Explanation:**\n",
    "\n",
    "Here We are using for loop to reverse a list.\n",
    "\n",
    "\"len()\" function is used to calculate the length of the list.\n",
    "\n",
    "for loop along with range() function is used to iterate through half the for loop. Then the current list element is swapped with the corresponding element from the last of the list.\n",
    "\n",
    "Range function accepts three parameters, and it's syntax is \"range(start, end, step)\", Range() creates a range object that represents a sequence of numbers between start and end(start is included and end is excluded). Step represents the jump size between the current number and the next number. The default value of step is 1 and the default value of start value is 0.\n",
    "\n",
    "Finally we are using the \"print()\" function to print the reversed list."
   ]
  },
  {
   "cell_type": "markdown",
   "id": "3be0be50-df4b-4260-8ebd-608f2887b37f",
   "metadata": {},
   "source": [
    "**Q14. Write a Python program to find the common elements between two lists using a for loop.**"
   ]
  },
  {
   "cell_type": "code",
   "execution_count": 16,
   "id": "44767fb9-e978-4d3c-81e0-7a2028b18cc1",
   "metadata": {},
   "outputs": [
    {
     "name": "stdout",
     "output_type": "stream",
     "text": [
      "The common elements of [1, 2, 3, 4, 5, 6, 7, 8, 9] and [2, 90, 56, 4, 6, 78, 87, 66, 8, 1] are: [1, 2, 4, 6, 8]\n"
     ]
    }
   ],
   "source": [
    "List1=[1,2,3,4,5,6,7,8,9] #Initialising the first List\n",
    "List2=[2,90,56,4,6,78,87,66,8,1] #Initialising the second List\n",
    "common_ele=[] #Initialising a list that will hold all the common elements of the two lists\n",
    "for element in List1: #Iterating the first list\n",
    "    if element in List2: #For each element of the List1 check if the element is also present in the List2\n",
    "        common_ele.append(element) #adding the common elements to the list named \"common_ele\"\n",
    "        \n",
    "print(\"The common elements of {} and {} are: {}\".format(List1, List2, common_ele)) #Printing the result"
   ]
  },
  {
   "cell_type": "markdown",
   "id": "3d8d511d-dfdc-47f6-bc59-e2fe4242942c",
   "metadata": {},
   "source": [
    "**Explanation**\n",
    "\n",
    "Initially we have initialised the two lists with numeric data type(Integer).\n",
    "\n",
    "A list named \"common_ele\" is initialised that will store the common elements of the two lists.\n",
    "\n",
    "For loop is used to iterate through the List1.\n",
    "\n",
    "Using \"if\" statement we are checking for each element of the \"List1\" if present in the \"List2\".\n",
    "\n",
    "if any element is present in List1 as well as in List2 then it is added to the list named \"commen_ele\".\n",
    "\n",
    "After the for loop is over we are printing the result using print() function"
   ]
  },
  {
   "cell_type": "markdown",
   "id": "39a0f1da-0f0d-4489-b5cb-b8bd53191a64",
   "metadata": {},
   "source": [
    "**Q15. Explain how to use a for loop to iterate through the keys and values of a dictionary in Python.**"
   ]
  },
  {
   "cell_type": "code",
   "execution_count": 21,
   "id": "ed05d2ae-e4b5-4933-92f4-d3af51d15e52",
   "metadata": {},
   "outputs": [
    {
     "name": "stdout",
     "output_type": "stream",
     "text": [
      "First_Name : Anmol\n",
      "Last_Name : Anand\n",
      "Email : anmol65438@gmail.com\n",
      "Contact : 754683451\n"
     ]
    }
   ],
   "source": [
    "#Initialising a dictionary\n",
    "dct={'First_Name' : \"Anmol\",\n",
    "     'Last_Name' : \"Anand\",\n",
    "     'Email' : \"anmol65438@gmail.com\",\n",
    "     'Contact' : \"754683451\"}\n",
    "\n",
    "for keys,values in dct.items():#For loop is used to iterate through the items of the dictionary.\n",
    "    print(keys, \":\",values)"
   ]
  },
  {
   "cell_type": "markdown",
   "id": "2ef96483-2162-475d-b75c-7ae620330701",
   "metadata": {},
   "source": [
    "**Explanation:**\n",
    "\n",
    "Initially we have initialised a dictionary that we need to iterate through.\n",
    "\n",
    "\"dictionary_name.items()\" returns a tuple containing individual key, value pair.\n",
    "\n",
    "for loop along with dct.items() is used to iterate through each key, value pair.\n",
    "\n",
    "Inside the for loop we are  printing each key, value pair."
   ]
  },
  {
   "cell_type": "markdown",
   "id": "64580908-ebec-4a08-89da-104cbf3ac773",
   "metadata": {},
   "source": [
    "**Q16. Write a Python program to find the GCD (Greatest Common Divisor) of two numbers using a for loop.**"
   ]
  },
  {
   "cell_type": "code",
   "execution_count": 1,
   "id": "8483be77-4f47-40cf-bb36-4e9116e1e989",
   "metadata": {},
   "outputs": [
    {
     "name": "stdin",
     "output_type": "stream",
     "text": [
      "enter the 1st number 100\n",
      "enter the 2nd number 75\n"
     ]
    },
    {
     "name": "stdout",
     "output_type": "stream",
     "text": [
      "The  greatest common divisor (GCD) of 100 and 75 is: 25\n"
     ]
    }
   ],
   "source": [
    "num1 = int(input(\"enter the 1st number\"))#Taking 1st number as input from user.\n",
    "num2 = int(input(\"enter the 2nd number\"))#Taking 2nd number as input from user.\n",
    "\n",
    "gcd=1 #Initialising a variable named \"gcd\" with 1. It will store the GCD of the two numbers.\n",
    "mini=min(num1,num2) #Initialising a variable named \"mini\" with minimum of the two numbers entered by the user.\n",
    "\n",
    "for i in range(1, mini+1): #for loop is used to iterate through the numbers between 1 and minimun of the two numbers entered by the used\n",
    "    if num1%i==0 and num2%i==0: #if a number divides both the numbers entered by the user, then we update the variable \"gcd\" with this number.\n",
    "        gcd=i\n",
    "        \n",
    "print(\"The  greatest common divisor (GCD) of {} and {} is: {}\".format(num1,num2,gcd)) #Printing the output"
   ]
  },
  {
   "cell_type": "markdown",
   "id": "ba6b0e52-8517-4e6f-a7bb-5a843c7de585",
   "metadata": {},
   "source": [
    "**Explanation:**\n",
    "\n",
    "Initially we have taken two numbers as input from user and stored them in variables named \"num1\" and \"num2\".\n",
    "\n",
    "A variable named \"gcd\" is initialised with 1. It will store the GCD of the two numbers entered by the user.\n",
    "\n",
    "A variable named \"mini\" is initialised with minimum of the two numbers entered by the user.\n",
    "\n",
    "for loop is used to iterate through the numbers between 1 and minimum of the two numbers entered by the user.\n",
    "\n",
    "if a number divides both the numbers entered by the user leaving zero as remainder, then we update the variable \"gcd\" with this number.\n",
    "\n",
    "print function at the end of for loop is printing the required output."
   ]
  },
  {
   "cell_type": "markdown",
   "id": "1ca079f0-aab7-489b-9a57-c18c88e00218",
   "metadata": {},
   "source": [
    "**Q17. Create a Python program that checks if a string is a palindrome using a for loop.**"
   ]
  },
  {
   "cell_type": "code",
   "execution_count": 3,
   "id": "6bf1528f-9351-4407-a6c1-b307241388c4",
   "metadata": {},
   "outputs": [
    {
     "name": "stdin",
     "output_type": "stream",
     "text": [
      "Enter a string: AnmmnA\n"
     ]
    },
    {
     "name": "stdout",
     "output_type": "stream",
     "text": [
      "'AnmmnA' is a palindrome\n"
     ]
    }
   ],
   "source": [
    "st=input(\"Enter a string:\")#Taking the string as input from the user.\n",
    "\n",
    "length=len(st)#Calculating the length of the string.\n",
    "\n",
    "for i in range(length//2):\n",
    "    if st[i] != st[length-i-1]:\n",
    "        print(\"'{}' is not a palindrome\".format(st))\n",
    "        break\n",
    "else:\n",
    "    print(\"'{}' is a palindrome\".format(st))"
   ]
  },
  {
   "cell_type": "markdown",
   "id": "66140a57-de4b-47ec-ae59-ea6873729c3c",
   "metadata": {},
   "source": [
    "**Explanation:**\n",
    "\n",
    "Initially we are takinng the string as input from the user.\n",
    "\n",
    "Then we are calculating the length of the string using \"len()\" function.\n",
    "\n",
    "for loop along with range() function is used to iterate through half the length of the string.\n",
    "\n",
    "Then for each iteration we are checking that current character of the string is same as the corresponding character from the end. If the two chracters are not equal then the string is not a palindrome and the for loop will break.\n",
    "\n",
    "If the for loop executes successfully without breaking, then the string is palindrome and the print() function will execute. "
   ]
  },
  {
   "cell_type": "markdown",
   "id": "8edd8bf2-9c88-4fea-a232-099cdfb52dc3",
   "metadata": {},
   "source": [
    "**Q18. Write a Python program to remove duplicates from a list using a for loop.**"
   ]
  },
  {
   "cell_type": "code",
   "execution_count": 7,
   "id": "2a166fc8-6c8f-4fdf-b207-cadd43504b16",
   "metadata": {},
   "outputs": [
    {
     "name": "stdout",
     "output_type": "stream",
     "text": [
      "[2, 0, 1, 6, 7, 8, 3, 4, 5, 10]\n"
     ]
    }
   ],
   "source": [
    "lst=[0,1,2,3,0,0,1,5,6,7,8,3,4,5,10] #Initialising the list containing duplicate values.\n",
    "\n",
    "for ele in lst:\n",
    "    cnt=lst.count(ele)\n",
    "    # print(ele, cnt)\n",
    "    if cnt>1:\n",
    "        while cnt>1:\n",
    "            lst.remove(ele)\n",
    "            cnt-=1\n",
    "            \n",
    "print(lst)"
   ]
  },
  {
   "cell_type": "markdown",
   "id": "f7237187-a595-4ff6-9afd-67f7c57c01e1",
   "metadata": {},
   "source": [
    "**Explanation:**\n",
    "\n",
    "Initially we are initialising a list containing duplicate values.\n",
    "\n",
    "for loop is used to iterate through the elements of the list. \n",
    "\n",
    "For each iteration we are counting the occurances of the current elements using \"cnt=lst.count(ele)\". If the count of the elemet is greater than 1, then we are using the while loop to remove all the occurances of that element except one.\n",
    "\n",
    "Then the list left contains single occurance of all the elements.\n",
    "\n",
    "Finally we are printing the list."
   ]
  },
  {
   "cell_type": "markdown",
   "id": "e38086ea-9ea5-4138-aeff-490f58b92885",
   "metadata": {},
   "source": [
    "**Q19. Create a Python program that counts the number of words in a sentence using a for loop.**"
   ]
  },
  {
   "cell_type": "code",
   "execution_count": 12,
   "id": "dc18fdb3-b5f2-4b0e-9fa9-22451fff95a1",
   "metadata": {},
   "outputs": [
    {
     "name": "stdin",
     "output_type": "stream",
     "text": [
      "Enter a sentence:   I trust this message finds you well.  \n"
     ]
    },
    {
     "name": "stdout",
     "output_type": "stream",
     "text": [
      "The number of words in the sentence is: 7\n"
     ]
    }
   ],
   "source": [
    "sentence = input(\"Enter a sentence: \")  #Input the sentence\n",
    "\n",
    "sentence=sentence.strip()#Removing the leading and trailing white spaces(if any).\n",
    "\n",
    "# Initialize word count to 0\n",
    "word_count = 0\n",
    "\n",
    "# Iterate through each character in the sentence\n",
    "for char in sentence:\n",
    "    # Check for spaces to count words\n",
    "    if char == ' ':\n",
    "        word_count += 1\n",
    "\n",
    "# Increment word_count by 1 to account for the last word (no space after the last word)\n",
    "word_count += 1\n",
    "\n",
    "print(f\"The number of words in the sentence is: {word_count}\")"
   ]
  },
  {
   "cell_type": "markdown",
   "id": "d89f1824-70ca-483f-b471-988efda1c4e5",
   "metadata": {},
   "source": [
    "**Explanation:**\n",
    "\n",
    "**Note: Here we have assumed that there will be only one blank space between each word in the string.**\n",
    "\n",
    "Initially we are takinng the string as input from the user.\n",
    "\n",
    "Then we are using strip() method to remove any leading or trailing white spaces present in the string.\n",
    "\n",
    "We have also initialised a variable named \"word_count\" with 0, It will store the count of words in the string.\n",
    "\n",
    "For loop is used to iterate through each character of the string.\n",
    "\n",
    "Everytime we encounter \" \" character we increment the variable \"word_count\" by 1.\n",
    "\n",
    "After the for loop is over we again increment the value of \"word_count\" by 1 as there is no space after the last word.\n",
    "\n",
    "Finally we are printing the result using \"print()\" function."
   ]
  },
  {
   "cell_type": "markdown",
   "id": "9a42744e-9803-4e1b-80c8-db99082d2a3e",
   "metadata": {},
   "source": [
    "**Q20. Write a Python program to find the sum of all odd numbers from 1 to 50 using a for loop.**"
   ]
  },
  {
   "cell_type": "code",
   "execution_count": 13,
   "id": "8643806e-425a-49a3-a8fc-7dcca47c7d74",
   "metadata": {},
   "outputs": [
    {
     "name": "stdout",
     "output_type": "stream",
     "text": [
      "The sum of all odd numbers from 1 to 50 is:  625\n"
     ]
    }
   ],
   "source": [
    "sum_=0 #Initialising the variable with 0, It will store the sum of all the odd numbers from 1 to 50.\n",
    "\n",
    "for num in range(1,51):\n",
    "    if num%2 !=0:\n",
    "        sum_+=num\n",
    "        \n",
    "print(\"The sum of all odd numbers from 1 to 50 is: \", sum_)"
   ]
  },
  {
   "cell_type": "markdown",
   "id": "1a07fcfb-82c7-4356-9856-6c6292c1564e",
   "metadata": {},
   "source": [
    "**Explnation:**\n",
    "\n",
    "Initially we have initialised a variable named \"sum_\" with 0, It will store the sum of all odd numbers from 1 to 50.\n",
    "\n",
    "for loop along with range() is used to iterate through all the numbers from 1 to 50 using \"for num in range(1,51)\"(51 ie excluded). \n",
    "\n",
    "For each iteration of the for loop we are checking if the current number is odd or not. if the number is odd then we add the number to the sum_,\n",
    "\n",
    "After the for loop is over, we print the result."
   ]
  },
  {
   "cell_type": "markdown",
   "id": "8fd78a85-348d-4e0e-b718-effeaecbd10c",
   "metadata": {},
   "source": [
    "**Q21. Write a Python program that checks if a given year is a leap year using a for loop.**"
   ]
  },
  {
   "cell_type": "markdown",
   "id": "fbbd410b-078b-4daa-9f76-b58f77e219b5",
   "metadata": {},
   "source": [
    "For loop is used to iterate througha a sequence, and to check for leap year for a given year we need not use a for loop as it does not involve iterating through a sequence.\n",
    "\n",
    "Checking if a given year is a leap year involves simple condition checking based on the rules of leap years, and it can be achieved with simple if/else conditions.\n",
    "\n",
    "Below is the program to check if a given year is a leap year or not."
   ]
  },
  {
   "cell_type": "code",
   "execution_count": 15,
   "id": "9e88b6f5-671a-4e92-a02c-ee9cd17a62fa",
   "metadata": {},
   "outputs": [
    {
     "name": "stdin",
     "output_type": "stream",
     "text": [
      "Enter a year:  1996\n"
     ]
    },
    {
     "name": "stdout",
     "output_type": "stream",
     "text": [
      "1996 is a leap year.\n"
     ]
    }
   ],
   "source": [
    "def is_leap_year(year):\n",
    "    if (year % 4 == 0 and year % 100 != 0) or (year % 400 == 0):\n",
    "        return True\n",
    "    else:\n",
    "        return False\n",
    "\n",
    "given_year = int(input(\"Enter a year: \"))  # Input the year\n",
    "\n",
    "if is_leap_year(given_year):\n",
    "    print(f\"{given_year} is a leap year.\")\n",
    "else:\n",
    "    print(f\"{given_year} is not a leap year.\")"
   ]
  },
  {
   "cell_type": "markdown",
   "id": "7da0dd45-744b-4e8f-a647-3739ea12916e",
   "metadata": {},
   "source": [
    "**Explanation:**\n",
    "\n",
    "If a year is divisible by 4 but not divisible by 100, or if a year is divisible by 400, then the year is leap year.\n",
    "\n",
    "Here we are asking the user to input a year and converts the input into an integer using int() function.\n",
    "\n",
    "\"if is_leap_year(given_year)\" this line of the code then calls the \"is_leap_year()\" function with the input year as an argument. If this function returns True, it means the given year is a leap year, so it prints a message stating that the given year is a leap year.\n",
    "\n",
    "else if the \"is_leap_year()\" function returns False, it means the given year is not a leap year, so it prints a message stating that the given year is not a leap year."
   ]
  },
  {
   "cell_type": "markdown",
   "id": "11063cc0-b295-4359-af48-ac5a4fd44d1c",
   "metadata": {},
   "source": [
    "**Q22. Create a Python program that calculates the square root of a number using a for loop.**"
   ]
  },
  {
   "cell_type": "code",
   "execution_count": 3,
   "id": "d3186d1b-7ebb-473d-856e-a5c2016619f5",
   "metadata": {},
   "outputs": [
    {
     "name": "stdin",
     "output_type": "stream",
     "text": [
      "Enter a number:  99\n"
     ]
    },
    {
     "name": "stdout",
     "output_type": "stream",
     "text": [
      "The square root of 99.0 is approximately 9.949874\n"
     ]
    }
   ],
   "source": [
    "def square_root(number):\n",
    "    # Initial guess for the square root\n",
    "    guess = number / 2.0\n",
    "\n",
    "    # Number of iterations\n",
    "    iterations = 100  # Adjust the number of iterations for more accuracy\n",
    "\n",
    "    # Loop to approximate the square root\n",
    "    for _ in range(iterations):\n",
    "        guess = (guess + number / guess) / 2\n",
    "\n",
    "    return guess\n",
    "\n",
    "# Input the number\n",
    "number = float(input(\"Enter a number: \"))\n",
    "\n",
    "if number < 0:\n",
    "    print(\"Please enter a positive number.\")\n",
    "else:\n",
    "    # Calculate and print the square root\n",
    "    result = square_root(number)\n",
    "    print(f\"The square root of {number} is approximately {result:.6f}\")\n"
   ]
  },
  {
   "cell_type": "markdown",
   "id": "2b505b60-d7fc-4fd7-98f5-8f875d84699f",
   "metadata": {},
   "source": [
    "**Explanation:**\n",
    "\n",
    "\"square_root()\" that takes a single parameter number, representing the number for which the square root needs to be calculated.\n",
    "\n",
    "\"guess = number / 2.0\" Here we are Initializing the initial guess for the square root. For simplicity, the initial guess is set as half of the given number. This guess will be refined iteratively.\n",
    "\n",
    "\"iterations = 100\" Here we are determining the number of iterations to perform in order to approximate the square root. We can adjust this value to increase or decrease the accuracy of the approximation.\n",
    "\n",
    "for loop is used to update the \"guess\" variable specified number of times(100 times in this case).\n",
    "\n",
    "For each iteration we are updating the guess variable with according to the Newton-Raphson formula(guess = (guess + number / guess) / 2). With each iteration, the guess becomes closer to the actual square root of the given number.\n",
    "\n",
    "We return the final approximation of the square root after the loop completes.\n",
    "\n",
    "The number to calculate the square root for is taken as input from the user, and is conerted into a floating-point number using float().\n",
    "\n",
    "\"if number < 0\" Checks if the input number is negative, because in this program we can calculate the square root of only a positive number.\n",
    "\n",
    "finally we are printing the result."
   ]
  },
  {
   "cell_type": "markdown",
   "id": "854c6eff-0efa-4c1f-a71d-0c4ab0813bc6",
   "metadata": {},
   "source": [
    "**Q23. Write a Python program to find the LCM (Least Common Multiple) of two numbers using a for loop.**"
   ]
  },
  {
   "cell_type": "code",
   "execution_count": 4,
   "id": "dc46ffd1-e1e6-4a86-bb0f-5975413e12fa",
   "metadata": {},
   "outputs": [
    {
     "name": "stdin",
     "output_type": "stream",
     "text": [
      "Enter first number:  10\n",
      "Enter second number:  15\n"
     ]
    },
    {
     "name": "stdout",
     "output_type": "stream",
     "text": [
      "The LCM of 10 and 15 is: 30\n"
     ]
    }
   ],
   "source": [
    "def calculate_lcm(x, y):\n",
    "    # Find the maximum of two numbers\n",
    "    max_num = max(x, y)\n",
    "\n",
    "    # Initialize LCM\n",
    "    lcm = max_num\n",
    "\n",
    "    # Check multiples of the greater number\n",
    "    for i in range(max_num, x * y + 1, max_num):\n",
    "        if i % x == 0 and i % y == 0:\n",
    "            lcm = i\n",
    "            break\n",
    "\n",
    "    return lcm\n",
    "\n",
    "# Input two numbers\n",
    "num1 = int(input(\"Enter first number: \"))\n",
    "num2 = int(input(\"Enter second number: \"))\n",
    "\n",
    "# Calculate and display the LCM\n",
    "lcm_result = calculate_lcm(num1, num2)\n",
    "print(f\"The LCM of {num1} and {num2} is: {lcm_result}\")\n"
   ]
  },
  {
   "cell_type": "markdown",
   "id": "08fd7205-0aff-465f-8612-aa77e6bfb8eb",
   "metadata": {},
   "source": [
    "**Explanation:**\n",
    "\n",
    "\"calculate_lcm(x, y)\" function takes two numbers x and y as parameter and calculates their LCM using a for loop.\n",
    "\n",
    "\"max_num = max(x, y)\" finds the maximum of the two input numbers to use as a starting point for the LCM calculation.\n",
    "\n",
    "\"lcm = max_num\" initializes the LCM variable with the maximum number among the two inputs.\n",
    "\n",
    "\"for i in range(max_num, x * y + 1, max_num)\" iterates through multiples of the greater number (from max_num to x * y) in steps of max_num.\n",
    "\n",
    "\"if i % x == 0 and i % y == 0\" checks if the current multiple (i) is divisible by both x and y without any remainder. If true, it means that i is the least common multiple.\n",
    "\n",
    "\"lcm = i\" Updates the LCM with the found multiple.\n",
    "\n",
    "\"break\" Breaks out of the loop once the LCM is found.\n",
    "\n",
    "Here we ask the user to input two numbers (num1 and num2).\n",
    "\n",
    "Then we call the calculate_lcm() function with these numbers, and then displays the calculated LCM of the input numbers."
   ]
  },
  {
   "cell_type": "markdown",
   "id": "ecdc5b89-e53c-4122-9ee0-cbd3509a364b",
   "metadata": {},
   "source": [
    "# If else :"
   ]
  },
  {
   "cell_type": "markdown",
   "id": "d80753eb-8b99-43bf-94ec-89088b02699f",
   "metadata": {},
   "source": [
    "**Q1. Write a Python program to check if a number is positive, negative, or zero using an if-else statement.**"
   ]
  },
  {
   "cell_type": "code",
   "execution_count": 5,
   "id": "15adf0cb-73f7-4201-a086-d9aca38aa595",
   "metadata": {},
   "outputs": [
    {
     "name": "stdin",
     "output_type": "stream",
     "text": [
      "Enter a number: -90\n"
     ]
    },
    {
     "name": "stdout",
     "output_type": "stream",
     "text": [
      "Entered number is a negative number\n"
     ]
    }
   ],
   "source": [
    "num=float(input(\"Enter a number:\")) #Taking the number as input from user \n",
    "\n",
    "if(num>0): #If the number is greater than 0 then it is positive.\n",
    "    print(\"Entered number is a positive number\")\n",
    "elif(num==0): #If the number is equal to 0 then it is zero.\n",
    "    print(\"Entered number is zero\")\n",
    "else: #else the number is negative.\n",
    "    print(\"Entered number is a negative number\")"
   ]
  },
  {
   "cell_type": "markdown",
   "id": "a4cc202e-1cd4-4484-9ae6-fb57856de493",
   "metadata": {},
   "source": [
    "**Explanation:**\n",
    "\n",
    "We start by using the input() function to take the number as input from the user. The input() function returns a string, so we use float() to convert the input to floating-point numbers since a number cannot be string.\n",
    "\n",
    "Then we are using if-elif-else lader to check if the number is positive, negative, or zero.\n",
    "\n",
    "if the number is greater than 0 then it is positive.\n",
    "\n",
    "else if the number is equal to 0 then it is zero.\n",
    "\n",
    "numbers that donot satisfy any of the above two conditions, then it is negative.\n",
    "\n",
    "print() function is used to print the result."
   ]
  },
  {
   "cell_type": "markdown",
   "id": "abf5297c-0554-4030-ad88-2f51d9e57785",
   "metadata": {},
   "source": [
    "**Q2. Create a Python program that checks if a given number is even or odd using an if-else statement.**"
   ]
  },
  {
   "cell_type": "code",
   "execution_count": 6,
   "id": "cb0efbee-2ac6-4189-8419-3d68c7cd24b9",
   "metadata": {},
   "outputs": [
    {
     "name": "stdin",
     "output_type": "stream",
     "text": [
      "Enter a number: 97\n"
     ]
    },
    {
     "name": "stdout",
     "output_type": "stream",
     "text": [
      "97 is a odd number\n"
     ]
    }
   ],
   "source": [
    "num=int(input(\"Enter a number:\"))#Taking the number as input from the user.\n",
    "\n",
    "#Checking whether the num is even or odd.\n",
    "if num%2==0:\n",
    "    print(\"{} is an even number\".format(num))\n",
    "else:\n",
    "    print(\"{} is a odd number\".format(num))"
   ]
  },
  {
   "cell_type": "markdown",
   "id": "58fa73ab-6b6d-4c54-8030-ba1efe48ee18",
   "metadata": {},
   "source": [
    "**Explanation:**\n",
    "\n",
    "We start by taking the number as input from the user.\n",
    "\n",
    "we are using input() function to take the user input. The input() function returns a string, so we use int() to convert the input to integer, since a number can not be string.\n",
    "\n",
    "Then using if-else block we are checking whether the number is even or odd.\n",
    "\n",
    "If the number is exactly divisible by 2 then it is an evan number.\n",
    "\n",
    "Else the number is an odd number.\n",
    "\n",
    "Finally we are printing the result using \"print()\" function and \"str.format()\" method of string formatting."
   ]
  },
  {
   "cell_type": "markdown",
   "id": "2e03c822-024e-47b1-96f5-cfe9994ccddc",
   "metadata": {},
   "source": [
    "**Q3. How can you use nested if-else statements in Python, and provide an example?**"
   ]
  },
  {
   "cell_type": "markdown",
   "id": "2657fffb-3859-454e-98b1-03bf5dfaec7d",
   "metadata": {},
   "source": [
    "Nested if-else statements in Python allow us to have conditional statements within other conditional statements. This enables us to check for multiple conditions and execute different blocks of code based on these conditions.\n",
    "\n",
    "Below is an example demonstrating the usage of nested if-else statements:"
   ]
  },
  {
   "cell_type": "code",
   "execution_count": 8,
   "id": "a12e6230-44ab-45ba-a12a-e534a6a797be",
   "metadata": {},
   "outputs": [
    {
     "name": "stdin",
     "output_type": "stream",
     "text": [
      "Enter a number: 37\n"
     ]
    },
    {
     "name": "stdout",
     "output_type": "stream",
     "text": [
      "37 is a prime number\n"
     ]
    }
   ],
   "source": [
    "num=int(input(\"Enter a number:\")) #Taking the number as input from the user.\n",
    "\n",
    "#Using nested if-else statement to check for the prime number.\n",
    "if num>=2: \n",
    "    if num==2:\n",
    "        print(\"{} is a prime number\".format(num))\n",
    "    elif num%2==0:\n",
    "        print(\"{} is not a prime number\".format(num))\n",
    "    else:\n",
    "        for i in range(3,int(num**0.5+1),2):\n",
    "            if num%i==0:\n",
    "                print(\"{} is not a prime number\".format(num))\n",
    "                break\n",
    "        else:\n",
    "            print(\"{} is a prime number\".format(num))\n",
    "else:\n",
    "    print(\"{} is not a prime number\".format(num))"
   ]
  },
  {
   "cell_type": "markdown",
   "id": "f0e11a77-74e9-4c7e-b9b3-5037dcfc3dfd",
   "metadata": {},
   "source": [
    "**Explanation:**\n",
    "\n",
    "The code checks the eligibility of a person to vote based on their age and citizenship status.\n",
    "\n",
    "\"age = int(input(\"Enter your age: \"))\" asks the user to input their age.\n",
    "\n",
    "\"citizenship = input(\"Are you a citizen? (yes/no): \"): asks the user if they are a citizen.\n",
    "\n",
    "The first if statement (if age >= 18:) checks if the person's age is 18 or older. If this condition is true, it enters the inner if-else block.\n",
    "\n",
    "The nested if-else block checks if the citizenship status is \"yes\" (ignoring case-sensitivity). If it is, it prints a message saying the person is eligible to vote. If the citizenship status is anything other than \"yes,\" it prints a message stating that citizenship is required to vote.\n",
    "\n",
    "If the person's age is below 18, the initial if statement is false, and it directly executes the else block outside the nested if-else structure, informing the user that they are not eligible to vote yet."
   ]
  },
  {
   "cell_type": "markdown",
   "id": "1750e191-be25-41f3-8e79-b2fcb48dd10b",
   "metadata": {},
   "source": [
    "**Q4. Write a Python program to determine the largest of three numbers using if-else.**"
   ]
  },
  {
   "cell_type": "code",
   "execution_count": 9,
   "id": "bf0b8adc-b1fd-4f9c-bf83-468fa4590bfc",
   "metadata": {},
   "outputs": [
    {
     "name": "stdin",
     "output_type": "stream",
     "text": [
      "Enter the first number: -9\n",
      "Enter the second number: -7\n",
      "Enter the third number: 0\n"
     ]
    },
    {
     "name": "stdout",
     "output_type": "stream",
     "text": [
      "The maximum number among -9.0, -7.0 and 0.0 is: 0.0\n"
     ]
    }
   ],
   "source": [
    "#taking the three numbers as input from the user.\n",
    "num1=float(input(\"Enter the first number:\"))\n",
    "num2=float(input(\"Enter the second number:\"))\n",
    "num3=float(input(\"Enter the third number:\"))\n",
    "\n",
    "#Using nested if-else to find the maximum number among the three.\n",
    "if num1>=num2:\n",
    "    if num1>=num3:\n",
    "        print(\"The maximum number among {}, {} and {} is: {}\".format(num1,num2,num3,num1))\n",
    "    else:\n",
    "        print(\"The maximum number among {}, {} and {} is: {}\".format(num1,num2,num3,num3))\n",
    "else:\n",
    "    if num2>=num3:\n",
    "        print(\"The maximum number among {}, {} and {} is: {}\".format(num1,num2,num3,num2))\n",
    "    else:\n",
    "        print(\"The maximum number among {}, {} and {} is: {}\".format(num1,num2,num3,num3))\n"
   ]
  },
  {
   "cell_type": "markdown",
   "id": "f67bf731-a1e7-4f6b-8101-7b997e8fee27",
   "metadata": {},
   "source": [
    "**Explanation:**\n",
    "\n",
    "We start by taking the three numbers as input from the user.\n",
    "\n",
    "we are using input() function to take the user input. The input() function returns a string, so we use float() to convert the input to float, since a number can not be string.\n",
    "\n",
    "Then we are Using nested if-else to find the maximum number among the three.\n",
    "\n",
    "if \"num1>=num2\" then the first if block is executed and inside it we are checking if \"num1>=num3\", then num1 is the maximum number else num3 is the maximum number.\n",
    "\n",
    "other wise outer else block is executed and inside that we are checking if \"num2>=num3\", then num2 is the maximum number, else num3 is the maximum number\n",
    "\n",
    "In this program if \"num1=num2=num3\" the the first \"if\" block will be executed and num1 will be treated as maximum number.\n",
    "\n",
    "Finally we are printing the result using \"print()\" function and \"str.format()\" method of string formatting."
   ]
  },
  {
   "cell_type": "markdown",
   "id": "eb6b72f1-994d-40c8-a461-c7a50adb4de8",
   "metadata": {},
   "source": [
    "**Q5. Write a Python program that calculates the absolute value of a number using if-else.**"
   ]
  },
  {
   "cell_type": "code",
   "execution_count": 10,
   "id": "bbaf01e0-2bbd-42c9-80cd-25e4c48ef8ff",
   "metadata": {},
   "outputs": [
    {
     "name": "stdin",
     "output_type": "stream",
     "text": [
      "Enter a number: -98.7\n"
     ]
    },
    {
     "name": "stdout",
     "output_type": "stream",
     "text": [
      "The absolute value of -98.7 is: 98.7\n"
     ]
    }
   ],
   "source": [
    "#defining a function that accepts a number as arguement and returns it's absolute value.\n",
    "def abs_val(num):\n",
    "    if num>=0:\n",
    "        return num\n",
    "    else:\n",
    "        return -num\n",
    "\n",
    "num=float(input(\"Enter a number:\"))#Taking the number as input from the user.\n",
    "\n",
    "absolute_Value=abs_val(num)#Calling the abs_val() function to get the absolute value of the number.\n",
    "print(\"The absolute value of {} is: {}\".format(num, absolute_Value)) #Printing the result."
   ]
  },
  {
   "cell_type": "markdown",
   "id": "2f46d551-2d3c-4aad-a071-7298d4371e1f",
   "metadata": {},
   "source": [
    "**Explanation:**\n",
    "\n",
    "Initially we have defined a function called abs_val() that accepts a number as arguement and returns it's absolute value.\n",
    "\n",
    "Inside the abs_val() function we are using if-else block to calculate the absolute value of the number. If the number is positive or zero then we are directly returning that number as absolute value. But if the number is negative then we are returnung negative of that negative number as the absolute value.\n",
    "\n",
    "We are taking the number as input from the user.\n",
    "\n",
    "we are using input() function to take the user input. The input() function returns a string, so we use float() to convert the input to float, since a number can not be string.\n",
    "\n",
    "Then we are calling the abs_val() function to get the absolute value of the number.\n",
    "\n",
    "Finally we are printing the result using \"print()\" function and \"str.format()\" method of string formatting."
   ]
  },
  {
   "cell_type": "markdown",
   "id": "49fff834-8323-4364-8fa5-fdb144eaa7fe",
   "metadata": {},
   "source": [
    "**Q6. Create a Python program that checks if a given character is a vowel or consonant using if-else.**"
   ]
  },
  {
   "cell_type": "code",
   "execution_count": 11,
   "id": "cf4b3bca-31ef-419a-834e-aa406d0684c4",
   "metadata": {},
   "outputs": [
    {
     "name": "stdin",
     "output_type": "stream",
     "text": [
      "Enter a character: a\n"
     ]
    },
    {
     "name": "stdout",
     "output_type": "stream",
     "text": [
      "'a' is a vowel\n"
     ]
    }
   ],
   "source": [
    "char=input(\"Enter a character:\")#Taking the character as input from the user.\n",
    "\n",
    "#checking if the character is vowel(Lowercase/Uppercase) or consonant.\n",
    "if char in ('a', 'e', 'i', 'o', 'u') or char in ('A', 'E', 'I', 'O', 'U'): \n",
    "    print(\"'{}' is a vowel\".format(char))\n",
    "else:\n",
    "    print(\"'{}' is a consonant\".format(char))"
   ]
  },
  {
   "cell_type": "markdown",
   "id": "e6be27a4-8a57-44be-b887-ff5164949553",
   "metadata": {},
   "source": [
    "**Explanation:**\n",
    "\n",
    "Taking the character as input from the user.\n",
    "\n",
    "we are using input() function to take the user input. The input() function returns a string by default.\n",
    "\n",
    "Then we are using if-else block to check whether the entered character is a vowel(Lowercase/Uppercase) or a consonant.\n",
    "\n",
    "If the character is present in ('a', 'e', 'i', 'o', 'u') or ('A', 'E', 'I', 'O', 'U'), then the character is a vowel.\n",
    "\n",
    "else the character is a consonant.\n",
    "\n",
    "Finally we are printing the result using \"print()\" function and \"str.format()\" method of string formatting."
   ]
  },
  {
   "cell_type": "markdown",
   "id": "635700a7-20d5-4a0e-b2ef-954d25dcf520",
   "metadata": {},
   "source": [
    "**Q7. Write a Python program to determine if a user is eligible to vote based on their age using if-else.**"
   ]
  },
  {
   "cell_type": "code",
   "execution_count": 12,
   "id": "493842d1-abcb-4c86-8231-a7983f75ee0d",
   "metadata": {},
   "outputs": [
    {
     "name": "stdin",
     "output_type": "stream",
     "text": [
      "Enter Your age: 45\n"
     ]
    },
    {
     "name": "stdout",
     "output_type": "stream",
     "text": [
      "You are eligible to vote\n"
     ]
    }
   ],
   "source": [
    "age=int(input(\"Enter Your age:\")) #Taking the age as input from the user.\n",
    "if age>=18: #if the age is greater than or equal to 18, then the person can vote. \n",
    "    print(\"You are eligible to vote\")\n",
    "else: #else the person cannot vote.\n",
    "    print(\"You are not eligible to vote\")"
   ]
  },
  {
   "cell_type": "markdown",
   "id": "130a384e-dcf4-4b96-9d52-19d24d2ce1a0",
   "metadata": {},
   "source": [
    "**Explanation:**\n",
    "\n",
    "Here we are taking the age of the person as input fron the user.\n",
    "\n",
    "we are using input() function to take the user input. The input() function returns a string, so we use int() to convert the input to integers, since age of a person can not be string.\n",
    "\n",
    "Then using if-else blocks we are checking if the user can vote or not.\n",
    "\n",
    "If the age of the user is greater than or equal to 18, then the user can vote. \n",
    "\n",
    "else the user vannot vote.\n",
    "\n",
    "print() function is used to print the result."
   ]
  },
  {
   "cell_type": "markdown",
   "id": "e6ceb5e7-279c-4b96-befa-4ad9fac91cab",
   "metadata": {},
   "source": [
    "**Q8. Create a Python program that calculates the discount amount based on the purchase amount using if-else.**"
   ]
  },
  {
   "cell_type": "code",
   "execution_count": 13,
   "id": "f97f8a9f-bc83-4d5e-9113-18dd32d7c5b8",
   "metadata": {},
   "outputs": [
    {
     "name": "stdin",
     "output_type": "stream",
     "text": [
      "Enter the purchase amount: 1800\n"
     ]
    },
    {
     "name": "stdout",
     "output_type": "stream",
     "text": [
      "You are being offered 10% discount\n",
      "Final price after discount is: 1620.0\n"
     ]
    }
   ],
   "source": [
    "amount=float(input(\"Enter the purchase amount:\")) #Taking the purchase amount as input from the user.\n",
    "\n",
    "#Using the if-elif-else lader to calculate the final amount after discount.\n",
    "if amount>999 and amount<=1999:\n",
    "    print(\"You are being offered 10% discount\")\n",
    "    discounted_price=amount-(amount*0.1)\n",
    "    print(\"Final price after discount is: {}\".format(discounted_price))\n",
    "elif amount>1999 and amount<=3999:\n",
    "    print(\"You are being offered 20% discount\")\n",
    "    discounted_price=amount-(amount*0.2)\n",
    "    print(\"Final price after discount is: {}\".format(discounted_price))\n",
    "elif amount>3999:\n",
    "    print(\"You are being offered 30% discount\")\n",
    "    discounted_price=amount-(amount*0.3)\n",
    "    print(\"Final price after discount is: {}\".format(discounted_price))\n",
    "else:\n",
    "    print(\"Sorry there is no dicount for this purchase amount.\")"
   ]
  },
  {
   "cell_type": "markdown",
   "id": "c7fe2ed4-9a8b-473f-a0d7-cb226986c05f",
   "metadata": {},
   "source": [
    "**Explanation:**\n",
    "\n",
    "We start by Taking the purchase amount as input from the user.\n",
    "\n",
    "we are using input() function to take the user input. The input() function returns a string, so we use float() to convert the input to float, since amount can not be string.\n",
    "\n",
    "Then we are using the if-elif-else lader to calculate the final amount after discount. We have used the formula \"discounted_price=amount-(amount*(discount_in_percentage/100))\" every where to calculate the final price after discount.\n",
    "\n",
    "Check if the amount is greater than 999 and is less than or equal to 1999 the if(if amount>999 and amount<=1999) block will execute, and the dicsount offered is 10%.\n",
    "\n",
    "otherwise Check if the amount is greater than 1999 and is less than or equal to 2999 the elif(elif amount>1999 and amount<=3999) block will execute, and the dicsount offered is 20%.\n",
    "\n",
    "otherwise Check if the amount is greater than 3999, the elif(elif amount>3999) block will execute, and the dicsount offered is 30%.\n",
    "\n",
    "Otherwise the else block will execute and there is no discount on this purchase amount.\n",
    "\n",
    "Finally we are printing the result using \"print()\" function and \"str.format()\" method of string formatting."
   ]
  },
  {
   "cell_type": "markdown",
   "id": "03a0812c-2157-4d0c-85d9-16d42cff2b7d",
   "metadata": {},
   "source": [
    "**Q9. Write a Python program to check if a number is within a specified range using if-else.**"
   ]
  },
  {
   "cell_type": "code",
   "execution_count": 14,
   "id": "b7a6e7b7-7196-4aba-93df-779f6d43f00c",
   "metadata": {},
   "outputs": [
    {
     "name": "stdin",
     "output_type": "stream",
     "text": [
      "Enter a number:  51\n"
     ]
    },
    {
     "name": "stdout",
     "output_type": "stream",
     "text": [
      "The number 51.0 is not within the range [10, 50].\n"
     ]
    }
   ],
   "source": [
    "# Define the specified range\n",
    "lower_limit = 10\n",
    "upper_limit = 50\n",
    "\n",
    "# Input a number\n",
    "number = float(input(\"Enter a number: \"))\n",
    "\n",
    "# Check if the number is within the specified range using if-else\n",
    "if number >= lower_limit and number <= upper_limit:\n",
    "    print(f\"The number {number} is within the range [{lower_limit}, {upper_limit}].\")\n",
    "else:\n",
    "    print(f\"The number {number} is not within the range [{lower_limit}, {upper_limit}].\")\n"
   ]
  },
  {
   "cell_type": "markdown",
   "id": "21f4ef8e-e0dc-46e2-b47d-fc519f690089",
   "metadata": {},
   "source": [
    "**Explanation:**\n",
    "\n",
    "lower_limit and upper_limit are variables defining the specified range.\n",
    "\n",
    "\"number = float(input(\"Enter a number: \")):\"akes input from the user and stores it as a floating-point number.\n",
    "\n",
    "The program uses an if-else statement to check if the input number is within the specified range.\n",
    "\n",
    "The condition number >= lower_limit and number <= upper_limit checks if the number is greater than or equal to lower_limit and less than or equal to upper_limit. If this condition is true, it means the number is within the specified range.\n",
    "\n",
    "If the above condition is true, the program prints a message stating that the number is within the range.\n",
    "\n",
    "If the above condition is false, the program prints a message stating that the number is not within the range."
   ]
  },
  {
   "cell_type": "markdown",
   "id": "967f844d-cf91-4b31-b31c-c429c0b61a0c",
   "metadata": {},
   "source": [
    "**Q10. Create a Python program that determines the grade of a student based on their score using if-else.**"
   ]
  },
  {
   "cell_type": "code",
   "execution_count": 16,
   "id": "870fa238-0d1b-4a63-9fb3-7a0a7c36f7da",
   "metadata": {},
   "outputs": [
    {
     "name": "stdin",
     "output_type": "stream",
     "text": [
      "Enter the score: 78\n"
     ]
    },
    {
     "name": "stdout",
     "output_type": "stream",
     "text": [
      "Your marks is 78.0, and your grade is 'B'\n"
     ]
    }
   ],
   "source": [
    "score=float(input(\"Enter the score:\"))#Taking the score as input from the user.\n",
    "grade='' #Initialising a variable named \"grade\" as empty string. This variable will hold the grade.\n",
    "\n",
    "#Using if-elif-else lader we are determining the grade of the student\n",
    "if score>=90 and score<=100:\n",
    "    grade='A+'\n",
    "elif score>=80 and score<89:\n",
    "    grade='A'\n",
    "elif score>=70 and score<79:\n",
    "    grade='B'\n",
    "elif score>=60 and score<69:\n",
    "    grade='C'\n",
    "elif score>=50 and score<59:\n",
    "    grade='D'\n",
    "elif score>=35 and score<49:\n",
    "    grade='E'\n",
    "elif score<35 and score>=0:\n",
    "    grade='F'\n",
    "else:\n",
    "    print(\"Invalid score entered\")\n",
    "    \n",
    "if grade != '': #If the variable \"grade\" is not an emoty string then print the result.\n",
    "    print(\"Your marks is {}, and your grade is '{}'\".format(score,grade))"
   ]
  },
  {
   "cell_type": "markdown",
   "id": "d1a89f14-75db-4c02-a9ec-be1c57d1fcac",
   "metadata": {},
   "source": [
    "**Explanation:**\n",
    "\n",
    "We start by taking the input from the user.\n",
    "\n",
    "we are using input() function to take the user input. The input() function returns a string, so we use float() to convert the input to float, since score can not be string.\n",
    "\n",
    "Then we have initialised a variable named \"grade\" as empty string. This variable will hold the grade of the student.\n",
    "\n",
    "Then using \"if-elif-else\" lader we are claculating the grade of the student.\n",
    "\n",
    "If the score is greater than 100 or is less than 0 then it is invalid score, and we are handling this case inside \"else\" block. In this case no grade is awarded.\n",
    "\n",
    "If the variable grade is not empty then only we will print the result.\n",
    "\n",
    "Finally we are printing the result using \"print()\" function and \"str.format()\" method of string formatting."
   ]
  },
  {
   "cell_type": "markdown",
   "id": "99ad3284-0977-4bf6-a57e-2deef20e21c7",
   "metadata": {},
   "source": [
    "**Q11. Write a Python program to check if a string is empty or not using if-else.**"
   ]
  },
  {
   "cell_type": "code",
   "execution_count": 1,
   "id": "50c1de90-8d46-4abe-83c8-bcf21d70b56d",
   "metadata": {},
   "outputs": [
    {
     "name": "stdin",
     "output_type": "stream",
     "text": [
      "Enter a string:  Anmol\n"
     ]
    },
    {
     "name": "stdout",
     "output_type": "stream",
     "text": [
      "The string is not empty.\n"
     ]
    }
   ],
   "source": [
    "# Input a string\n",
    "user_input = input(\"Enter a string: \")\n",
    "\n",
    "# Check if the string is empty using if-else\n",
    "if user_input == '':\n",
    "    print(\"The string is empty.\")\n",
    "else:\n",
    "    print(\"The string is not empty.\")"
   ]
  },
  {
   "cell_type": "markdown",
   "id": "01200140-c193-4ed8-ba63-81462cb2a574",
   "metadata": {},
   "source": [
    "**Explanation:**\n",
    "\n",
    "\"user_input = input(\"Enter a string: \")\" Takes input from the user and stores it in the variable user_input.\n",
    "\n",
    "The program uses an if-else statement to check if the input string is empty:\n",
    "\n",
    "The condition \"user_input == ''\" checks if the user_input variable is an empty string (''). If this condition is true, it means the string is empty.\n",
    "\n",
    "If the above condition is true, the program prints a message stating that the string is empty.\n",
    "\n",
    "If the above condition is false (i.e., the input string is not empty), the program prints a message stating that the string is not empty."
   ]
  },
  {
   "cell_type": "markdown",
   "id": "3261c92f-cbf0-4069-841d-eafadfc60f37",
   "metadata": {},
   "source": [
    "**Q12 Create a Python program that identifies the type of a triangle (e.g., equilateral, isosceles, or scalene) based on input values using if-else.**"
   ]
  },
  {
   "cell_type": "code",
   "execution_count": 3,
   "id": "f4a86172-2994-4832-9256-82722f191cae",
   "metadata": {},
   "outputs": [
    {
     "name": "stdin",
     "output_type": "stream",
     "text": [
      "Enter the length of first side: 7\n",
      "Enter the length of first second side: 8\n",
      "Enter the length of first third side: 6\n"
     ]
    },
    {
     "name": "stdout",
     "output_type": "stream",
     "text": [
      "The given triangle is scalen\n"
     ]
    }
   ],
   "source": [
    "#taking the three sides of the triangle as input from the user.\n",
    "side1=float(input(\"Enter the length of first side:\"))\n",
    "side2=float(input(\"Enter the length of first second side:\"))\n",
    "side3=float(input(\"Enter the length of first third side:\"))\n",
    "\n",
    "#Using nested if-else statement we are determining the type of triangle.\n",
    "if side1==side2==side3:\n",
    "    print(\"The given triangle is equilateral\")\n",
    "    \n",
    "else:\n",
    "    if side1==side2 or side2==side3 or side1==side3:\n",
    "        print(\"The given triangle is isosceles\")\n",
    "    else:\n",
    "        print(\"The given triangle is scalen\")"
   ]
  },
  {
   "cell_type": "markdown",
   "id": "7762fcd2-fb59-4e78-a38a-af2aad95c8fa",
   "metadata": {},
   "source": [
    "**Explanation:**\n",
    "\n",
    "We start by taking the three sides of the triangle as input from the user.\n",
    "\n",
    "we are using input() function to take the user input. The input() function returns a string, so we use float() to convert the input to float, since the length of side of a triangle can not be string.\n",
    "\n",
    "Then Using nested if-else statement we are determining the type of triangle.\n",
    "\n",
    "If \"side1==side2==side3\" then the the first \"if\" block is executed and the triangle is equilateral.\n",
    "\n",
    "otherwise the outer else block is executed. Inside this block we check if any to sides of the triangle is equal using \"if side1==side2 or side2==side3 or side1==side3\", then the nested if block is executed and the triangle is isosceles. Else the triangle is scalen\n",
    "\n",
    "Finally we are printing the result."
   ]
  },
  {
   "cell_type": "markdown",
   "id": "7539f4c7-149b-4d70-98a5-7eca737443a2",
   "metadata": {},
   "source": [
    "**Q13. Write a Python program to determine the day of the week based on a user-provided number using if-else.**"
   ]
  },
  {
   "cell_type": "code",
   "execution_count": 4,
   "id": "bbbef169-ad02-4bda-b0b6-366924a2ebb8",
   "metadata": {},
   "outputs": [
    {
     "name": "stdin",
     "output_type": "stream",
     "text": [
      "Enter a number from 1 to 7: 7\n"
     ]
    },
    {
     "name": "stdout",
     "output_type": "stream",
     "text": [
      "The day is Saturady\n"
     ]
    }
   ],
   "source": [
    "#Taking the day number as input from the user.\n",
    "num=int(input(\"Enter a number from 1 to 7:\"))\n",
    "\n",
    "#Using if-elif-else statement to determine the day based on the number entered by the user.\n",
    "if num==1:\n",
    "    print(\"The day is Sunday\")\n",
    "elif num==2:\n",
    "    print(\"The day is Monday\")\n",
    "elif num==3:\n",
    "    print(\"The day is Tuesday\")\n",
    "elif num==4:\n",
    "    print(\"The day is Wednesday\")\n",
    "elif num==5:\n",
    "    print(\"The day is Thursday\")\n",
    "elif num==6:\n",
    "    print(\"The day is Friday\")\n",
    "elif num==7:\n",
    "    print(\"The day is Saturady\")\n",
    "else:\n",
    "    print(\"There is no any day for the number entered\")\n"
   ]
  },
  {
   "cell_type": "markdown",
   "id": "d2dea375-c77f-4e3c-b463-c83f75e88fb0",
   "metadata": {},
   "source": [
    "**Explanation:**\n",
    "\n",
    "We start by taking the day number as input from the user.\n",
    "\n",
    "We start by using the input() function to take the number as input from the user. The input() function returns a string, so we use int() to convert the input to integer since a number cannot be string.\n",
    "\n",
    "Then we are using if-elif-else statement to determine the day based on the number entered by the user.\n",
    "\n",
    "If the number entered by the user if from 1 to 7, then one of the \"if/elif\" statement will execute and the corresponding day name is printed.\n",
    "\n",
    "Otherwise else block is executed as the day number cannot be more than 7 or less than 0.\n",
    "\n",
    "print() function is used to print the result."
   ]
  },
  {
   "cell_type": "markdown",
   "id": "a1496a1d-fef9-4b3f-b364-e1a5f83bfd1f",
   "metadata": {},
   "source": [
    "**Q14. Create a Python program that checks if a given year is a leap year using both if-else and a function.**"
   ]
  },
  {
   "cell_type": "code",
   "execution_count": 5,
   "id": "bbb6c8ea-860c-4325-8526-57f79dfc2822",
   "metadata": {},
   "outputs": [
    {
     "name": "stdin",
     "output_type": "stream",
     "text": [
      "Enter the year to check for: 1994\n"
     ]
    },
    {
     "name": "stdout",
     "output_type": "stream",
     "text": [
      "1994 is not leap year\n"
     ]
    }
   ],
   "source": [
    "def check_leap_year(year):\n",
    "    \n",
    "    if year%400 == 0: #If the year is exactly divisible by 400, then it is a leap year.\n",
    "        print(\"{} is leap year\".format(year))\n",
    "    elif year%100 == 0: #if the year is exactly divisible by 100 but not by 400, then it is not a leap year.\n",
    "        print(\"{} is not leap year\".format(year))\n",
    "    elif year%4 == 0: #if the year is exactly divisible by 4, then it is a leap year.\n",
    "        print(\"{} is leap year\".format(year))\n",
    "    else: #all other years are not a leap year.\n",
    "        print(\"{} is not leap year\".format(year))\n",
    "        \n",
    "year=int(input(\"Enter the year to check for:\")) #Taking the year as input from the user.\n",
    "check_leap_year(year)"
   ]
  },
  {
   "cell_type": "markdown",
   "id": "25f18156-b9f7-486c-9b12-5c91caf3bffd",
   "metadata": {},
   "source": [
    "**Explanation:**\n",
    "\n",
    "We start by taking the year as input from the user and string it in a variable named \"year\".\n",
    "\n",
    "we are using input() function to take the user input. The input() function returns a string, so we use int() to convert the input to integer, since year can not be string.\n",
    "\n",
    "Then we are calling the check_leap_year() function to check for leap year.\n",
    "\n",
    "Inside the check_leap_year() function we are using if-elif-else lader to check for the leap year.\n",
    "\n",
    "If the year is exactly divisible by 400, then it is a leap year.\n",
    "\n",
    "else if the year is exactly divisible by 100 but not by 400, then it is not a leap year.\n",
    "\n",
    "else if the year is exactly divisible by 4, then it is a leap year.\n",
    "\n",
    "all other years are not a leap year.\n",
    "\n",
    "print() function is used to print the result."
   ]
  },
  {
   "cell_type": "markdown",
   "id": "1ce66e58-d11e-4c36-80a3-54bdead05376",
   "metadata": {},
   "source": [
    "**Q15. How do you use the \"assert\" statement in Python to add debugging checks within if-else blocks?**"
   ]
  },
  {
   "cell_type": "markdown",
   "id": "9a4c0380-c337-46f2-8f21-3fb1ff048c24",
   "metadata": {},
   "source": [
    "In Python, the \"assert\" statement is used to assert that a particular condition is true. It is mainly used for debugging purposes to check if an assumption is true and if not, it raises an \"AssertionError\" exception.\n",
    "\n",
    "we can use assert within if-else blocks to add debugging checks by placing it after the condition we want to verify. Below is an example:"
   ]
  },
  {
   "cell_type": "code",
   "execution_count": 3,
   "id": "1dc316a9-85b1-45df-ba2d-7f946596bd5c",
   "metadata": {},
   "outputs": [
    {
     "name": "stdout",
     "output_type": "stream",
     "text": [
      "x is a positive number\n"
     ]
    }
   ],
   "source": [
    "x = 15\n",
    "\n",
    "if x > 0:\n",
    "    # Adding an assertion check\n",
    "    assert x < 20, \"x should be less than 20\"\n",
    "    print(\"x is a positive number\")\n",
    "else:\n",
    "    print(\"x is not a positive number\")\n"
   ]
  },
  {
   "cell_type": "markdown",
   "id": "9e49e074-f8fa-4ef4-95ae-7797ac9d5f3e",
   "metadata": {},
   "source": [
    "**Explanation:**\n",
    "\n",
    "In the above example, the assert statement checks if x is less than 20 within the if block. If the condition x < 20 is False, it will raise an AssertionError with the message \"x should be less than 20\".\n",
    "\n",
    "Assertions can be disabled by using the -O (capital O) command line switch while running Python, so they might not always execute. For this reason, it's recommended to use assertions for debugging and not for handling expected errors in our code."
   ]
  },
  {
   "cell_type": "markdown",
   "id": "e8e3b437-d75b-4f6b-b428-31c7d9ab7cc2",
   "metadata": {},
   "source": [
    "**Q16. Create a Python program that determines the eligibility of a person for a senior citizen discount based on age using if-else.**"
   ]
  },
  {
   "cell_type": "code",
   "execution_count": 4,
   "id": "b3e50534-88e9-42bb-96c8-6cfa02a6a03b",
   "metadata": {},
   "outputs": [
    {
     "name": "stdin",
     "output_type": "stream",
     "text": [
      "Enter Your age: 65\n"
     ]
    },
    {
     "name": "stdout",
     "output_type": "stream",
     "text": [
      "You are eligible for senior citizen discount\n"
     ]
    }
   ],
   "source": [
    "age=int(input(\"Enter Your age:\")) #Taking the age as input from the user.\n",
    "if age>=60: #if the age is greater than or equal to 60, then the person is eligible for senior citizen discount. \n",
    "    print(\"You are eligible for senior citizen discount\")\n",
    "else: #else the person is not eligible for senior citizen discount. \n",
    "    print(\"You are not eligible for senior citizen discount\")"
   ]
  },
  {
   "cell_type": "markdown",
   "id": "b469aa6f-508e-40de-bd9d-16020a11a35f",
   "metadata": {},
   "source": [
    "**Explanation:**\n",
    "\n",
    "Here we are taking the age of the person as input fron the user.\n",
    "\n",
    "we are using input() function to take the user input. The input() function returns a string, so we use int() to convert the input to integers, since age of a person can not be string.\n",
    "\n",
    "Then using if-else blocks we are checking if the user is eligible for senior citizen discount or not. \n",
    "\n",
    "If the age of the user is greater than or equal to 60, then the person is eligible for senior citizen discount.\n",
    "\n",
    "else the person is not eligible for senior citizen discount.\n",
    "\n",
    "print() function is used to print the result."
   ]
  },
  {
   "cell_type": "markdown",
   "id": "8985a6a5-72b0-411c-bfea-2e84d4f6a12f",
   "metadata": {},
   "source": [
    "**Q17. Write a Python program to categorize a given character as uppercase, lowercase, or neither using if-else.**"
   ]
  },
  {
   "cell_type": "code",
   "execution_count": 12,
   "id": "251cb966-3cb9-4684-964b-633d5eab5389",
   "metadata": {},
   "outputs": [
    {
     "name": "stdin",
     "output_type": "stream",
     "text": [
      "Enter a character: ^\n"
     ]
    },
    {
     "name": "stdout",
     "output_type": "stream",
     "text": [
      "'^' is a special character.\n"
     ]
    }
   ],
   "source": [
    "char=input(\"Enter a character:\")#Taking the character as input from the user.\n",
    "\n",
    "#Determining the type of character using nested if-else statements.\n",
    "if char!='': \n",
    "    if char.isupper():\n",
    "        print(\"'{}' is a uppercase character.\".format(char))\n",
    "    elif char.islower():\n",
    "        print(\"'{}' is a lowercase character.\".format(char))\n",
    "    elif not char.isdigit():\n",
    "        print(\"'{}' is a special character.\".format(char))\n",
    "    else:\n",
    "        print(\"Please enter a valid character\")\n",
    "else:\n",
    "    print(\"Please enter a valid character\")"
   ]
  },
  {
   "cell_type": "markdown",
   "id": "00456521-da92-4776-942d-77002588180d",
   "metadata": {},
   "source": [
    "**Explanation:**\n",
    "\n",
    "We start with Taking the character as input from the user.\n",
    "\n",
    "we are using input() function to take the user input. The input() function returns a string by default.\n",
    "\n",
    "Then we are Determining the type of character using nested if-else statements.\n",
    "\n",
    "if the character entered by the user is not an empty string then the first if block will execute. Otherwise the else block will execute.\n",
    "\n",
    "Inside the if block we are checking if the character is uppercase character using \"if char.isupper()\". isupper() is a built-in function that return True if the character is Uppercase character.\n",
    "\n",
    "Otherwise we check if the character is lowercase character using \"elif char.islower()\". islower() is a built-in function that return True if the character is lowercase character.\n",
    "\n",
    "Otherwise we check if the character is special character using \"elif not char.isdigit()\". isdigit() is a built-in function that return True if the character is a numeric digit. If the character is numeric this block will not execute.\n",
    "\n",
    "Otherwise the nested else block will execute, as the character is not among the lowercase, uppercase or special character.\n",
    "\n",
    "print() function is used to print the result."
   ]
  },
  {
   "cell_type": "markdown",
   "id": "76836f30-af3f-4bd5-af7d-83da3a48de87",
   "metadata": {},
   "source": [
    "**Q18. Write a Python program to determine the roots of a quadratic equation using if-else.**"
   ]
  },
  {
   "cell_type": "code",
   "execution_count": 14,
   "id": "e86fdcf2-2643-43d4-bbb7-07658dad39dd",
   "metadata": {},
   "outputs": [
    {
     "name": "stdin",
     "output_type": "stream",
     "text": [
      "Enter the coefficient of 'x2': 2\n",
      "Enter the coefficient of 'x': 4\n",
      "Enter the coefficient of constant: 2\n"
     ]
    },
    {
     "name": "stdout",
     "output_type": "stream",
     "text": [
      "The given quadratic equation has real and equal roots: -1.0\n"
     ]
    }
   ],
   "source": [
    "#A quadratic equation is of the form \"ax2 + bx + c = 0\", where a,b,c are real numbers and a!=0\n",
    "#Taking the three coefficients as input from the user.\n",
    "a=float(input(\"Enter the coefficient of 'x2':\"))\n",
    "b=float(input(\"Enter the coefficient of 'x':\"))\n",
    "c=float(input(\"Enter the coefficient of constant:\"))\n",
    "\n",
    "#Using nested if-else statement to calculate the roots of the quadratic equation. \n",
    "if a!= 0:\n",
    "    d=(b*b)-(4*a*c)\n",
    "    if d>0:\n",
    "        root1=(-b+(d**0.5))/(2*a)\n",
    "        root2=(-b-(d**0.5))/(2*a)\n",
    "        print(\"The given quadratic equation has real and unequal roots: {} and {}\".format(root1,root2))\n",
    "    elif d==0:\n",
    "        root=(-b)/(2*a)\n",
    "        print(\"The given quadratic equation has real and equal roots: {}\".format(root))\n",
    "    else:\n",
    "        root1=(-b+(d**0.5))/(2*a)\n",
    "        root2=(-b-(d**0.5))/(2*a)\n",
    "        print(\"The given quadratic equation has imaginary and unequal roots: {} and {}\".format(root1,root2))\n",
    "else:\n",
    "    print(\"The coefficient of 'x2' cannot be 0 for a quadratic equation\")"
   ]
  },
  {
   "cell_type": "markdown",
   "id": "35a64284-b974-4899-9a39-b8925cf4aa2d",
   "metadata": {},
   "source": [
    "**Explanation:**\n",
    "\n",
    "We are taking the three coefficients as input from the user.\n",
    "\n",
    "We start by using the input() function to take the number as input from the user. The input() function returns a string, so we use float() to convert the input to floating-point numbers since a number cannot be string.\n",
    "\n",
    "We are Using nested if-else statement to calculate the roots of the quadratic equation. \n",
    "\n",
    "If the value of 'a' is not equal to 0 then the first if block is executed. Otherwise it's corresponding else block is executed as the entered coefficients do not belong to a quadratic number.\n",
    "\n",
    "Inside the if block we are calculating the value of d using the formula( d=(b*b)-(4*a*c) ).\n",
    "\n",
    "if d>0 the nesteed if(if d>0:) is executed and the quadratic equation has real and distinct roots, the roots are calculated using formulae \"root1=(-b+(d**0.5))/(2*a) root2=(-b-(d**0.5))/(2*a)\".\n",
    "\n",
    "if the nested if block fails, we check if \"d\" is equal to 0 using the statement \"elif d==0:\", and the quadratic equation has real and equal roots. The value of root is \"root=(-b)/(2*a)\".\n",
    "\n",
    "Otherwise the else block is executed and the quadratic equation has imaginary and unequal roots, the roots are calculated using formulae \"root1=(-b+(d**0.5))/(2*a) root2=(-b-(d**0.5))/(2*a)\".\n",
    "\n",
    "print() function is used to print the result."
   ]
  },
  {
   "cell_type": "markdown",
   "id": "7867bb7f-c036-472c-9e85-b529d57ee2c4",
   "metadata": {},
   "source": [
    "**Q19. Create a Python program that checks if a given year is a century year or not using if-else.**"
   ]
  },
  {
   "cell_type": "code",
   "execution_count": 15,
   "id": "8eb41268-d2c0-4d24-a0af-32fb0b9a85af",
   "metadata": {},
   "outputs": [
    {
     "name": "stdin",
     "output_type": "stream",
     "text": [
      "Enter a year:  2000\n"
     ]
    },
    {
     "name": "stdout",
     "output_type": "stream",
     "text": [
      "2000 is a century year.\n"
     ]
    }
   ],
   "source": [
    "def is_century_year(year):\n",
    "    if year % 100 == 0:\n",
    "        return True\n",
    "    else:\n",
    "        return False\n",
    "\n",
    "# Taking user input for the year\n",
    "year = int(input(\"Enter a year: \"))\n",
    "\n",
    "if is_century_year(year):\n",
    "    print(f\"{year} is a century year.\")\n",
    "else:\n",
    "    print(f\"{year} is not a century year.\")\n"
   ]
  },
  {
   "cell_type": "markdown",
   "id": "a3c6bea8-73a0-40fa-96be-39b2d849f190",
   "metadata": {},
   "source": [
    "**Explanation:**\n",
    "\n",
    "Initially we are defining a function named \"is_century_year\" that takes one parameter \"year\".\n",
    "\n",
    "Inside the is_century_year function, \"if year % 100 == 0\" checks if the given year is divisible by 100 using the modulo operator %. If the remainder of dividing year by 100 is zero, it means the year is evenly divisible by 100.\n",
    "\n",
    "The is_century_year function return True, if the condition in the if statement is true (i.e., the year is divisible by 100).\n",
    "\n",
    "else if the above condition in the if statement is false (i.e., the year is not divisible by 100), \"else\" block of the code is executed.\n",
    "\n",
    "The is_century_year function return False, if the condition in the if statement is false. \n",
    "\n",
    "Here we are asking the user to enter a year through the console and then convert the input into an integer using int().\n",
    "\n",
    "Then the if-else block that follows the input statement uses the is_century_year(year) function to determine if the input year is a century year or not.\n",
    "\n",
    "If is_century_year(year) returns True, it prints a message stating that the input year is a century year. If it returns False, it prints a message stating that the input year is not a century year."
   ]
  },
  {
   "cell_type": "markdown",
   "id": "6f126630-fc54-4446-bd12-2e4697a0d6ba",
   "metadata": {},
   "source": [
    "**Q20. Write a Python program to determine if a given number is a perfect square using if-else.**"
   ]
  },
  {
   "cell_type": "code",
   "execution_count": 22,
   "id": "93da60cb-9783-4c3e-b0f2-02745914e45e",
   "metadata": {},
   "outputs": [
    {
     "name": "stdin",
     "output_type": "stream",
     "text": [
      "Enter a number:  121\n"
     ]
    },
    {
     "name": "stdout",
     "output_type": "stream",
     "text": [
      "121.0 is a perfect square.\n"
     ]
    }
   ],
   "source": [
    "def is_perfect_square(number):\n",
    "    square_root = number ** 0.5  # Calculate the square root of the number\n",
    "\n",
    "    # Check if the square root is an integer\n",
    "    if square_root.is_integer():\n",
    "        return True\n",
    "    else:\n",
    "        return False\n",
    "\n",
    "# Taking user input for the number\n",
    "num = float(input(\"Enter a number: \"))  # Accepting input as a float to handle decimal numbers\n",
    "\n",
    "if is_perfect_square(num):\n",
    "    print(f\"{num} is a perfect square.\")\n",
    "else:\n",
    "    print(f\"{num} is not a perfect square.\")\n"
   ]
  },
  {
   "cell_type": "markdown",
   "id": "9c89b973-b8ee-4ee7-89ba-9d0bb06b3166",
   "metadata": {},
   "source": [
    "**Explanation:**\n",
    "\n",
    "We are defining a function named \"is_perfect_square\" that takes one parameter number.\n",
    "\n",
    "Inside the function, \"square_root = number ** 0.5\" calculates the square root of the given number by raising it to the power of 0.5.\n",
    "\n",
    "\"if square_root.is_integer()\" statement checks if the calculated square root is an integer using the is_integer() method. If the square root is an integer, it means that the number is a perfect square.\n",
    "\n",
    "the function \"is_perfect_square\" return True if the condition in the if statement is true (i.e., the square root is an integer).\n",
    "\n",
    "else if the condition in the above if statement is false (i.e., the square root is not an integer), \"else\" block of the code is executed.\n",
    "\n",
    "the function \"is_perfect_square\" return False if the condition in the above if statement is false .\n",
    "\n",
    "Here we are asking the user to enter a number through the console and We accept it as a float to handle both integer and decimal input.\n",
    "\n",
    "Then the if-else block that follows the input statement uses the is_perfect_square(num) function to determine if the input num is a perfect square or not.\n",
    "\n",
    "Finally, it prints a message indicating whether the input number is a perfect square or not based on the function's return value."
   ]
  },
  {
   "cell_type": "markdown",
   "id": "f6a940d1-a9c1-4c1b-b396-19f308b613fc",
   "metadata": {},
   "source": [
    "**Q21. Explain the purpose of the \"continue\" and \"break\" statements within if-else loops.**"
   ]
  },
  {
   "cell_type": "markdown",
   "id": "d7cca33e-2cfa-46e8-8ded-92a5f262167f",
   "metadata": {},
   "source": [
    "1. continue statement:\n",
    "\n",
    "The continue statement is used to skip the rest of the code inside the loop for the current iteration and move to the next iteration immediately.\n",
    "\n",
    "When continue is encountered within a loop, it stops the current iteration and starts the next iteration of the loop.\n",
    "\n",
    "It's useful when we want to skip certain elements or perform specific actions only under certain conditions without exiting the loop entirely."
   ]
  },
  {
   "cell_type": "code",
   "execution_count": 23,
   "id": "e5f7031c-d75f-4ee5-80ab-f2c4410513af",
   "metadata": {},
   "outputs": [
    {
     "name": "stdout",
     "output_type": "stream",
     "text": [
      "1\n",
      "2\n",
      "4\n",
      "5\n"
     ]
    }
   ],
   "source": [
    "for i in range(1, 6):\n",
    "    if i == 3:\n",
    "        continue  # Skips printing number 3\n",
    "    print(i)"
   ]
  },
  {
   "cell_type": "markdown",
   "id": "09dce7be-eeed-4ff3-8742-c3e081311284",
   "metadata": {},
   "source": [
    "In the above example of continue statement, when i is equal to 3, the continue statement is encountered. As a result, it skips printing 3 and continues with the next iteration."
   ]
  },
  {
   "cell_type": "markdown",
   "id": "5fb6c186-e4a5-44f1-b430-c4a6ddd2534d",
   "metadata": {},
   "source": [
    "2. break statement:\n",
    "\n",
    "The break statement is used to immediately terminate the loop execution when a certain condition is met.\n",
    "\n",
    "When the break statement is encountered within a loop, it exits the loop entirely, regardless of whether the loop's conditions have been fully executed or not.\n",
    "\n",
    "It breaks out of the loop and continues the execution of the code following the loop."
   ]
  },
  {
   "cell_type": "code",
   "execution_count": 24,
   "id": "4446deb9-d20d-48a5-9206-519c67710bc3",
   "metadata": {},
   "outputs": [
    {
     "name": "stdout",
     "output_type": "stream",
     "text": [
      "1\n",
      "2\n",
      "3\n"
     ]
    }
   ],
   "source": [
    "for i in range(1, 6):\n",
    "    if i == 4:\n",
    "        break  # Stops the loop when i is 4\n",
    "    print(i)"
   ]
  },
  {
   "cell_type": "markdown",
   "id": "e0b2181a-a2f8-4448-94dd-50d50e94afd5",
   "metadata": {},
   "source": [
    "In the above example of break statement, when i becomes equal to 4, the break statement is encountered. As a result, the loop terminates immediately, and the code execution continues outside of the loop."
   ]
  },
  {
   "cell_type": "markdown",
   "id": "0d3f2e9f-bc0c-4352-93ec-fa42b59afadb",
   "metadata": {},
   "source": [
    "**Q22. Create a Python program that calculates the BMI (Body Mass Index) of a person based on their weight and height using if-else.**"
   ]
  },
  {
   "cell_type": "code",
   "execution_count": 26,
   "id": "db4cc3e5-1c22-462a-ad2e-595ea2ef0e46",
   "metadata": {},
   "outputs": [
    {
     "name": "stdin",
     "output_type": "stream",
     "text": [
      "Enter your weight in kilograms:  56\n",
      "Enter your height in meters:  1.6\n"
     ]
    },
    {
     "name": "stdout",
     "output_type": "stream",
     "text": [
      "Your BMI is: 21.87\n",
      "Your weight is normal.\n"
     ]
    }
   ],
   "source": [
    "def calculate_bmi(weight, height):\n",
    "    bmi = weight / (height ** 2)\n",
    "    return bmi\n",
    "\n",
    "# Taking user input for weight and height\n",
    "weight = float(input(\"Enter your weight in kilograms: \"))\n",
    "height = float(input(\"Enter your height in meters: \"))\n",
    "\n",
    "bmi_result = calculate_bmi(weight, height)\n",
    "\n",
    "print(f\"Your BMI is: {bmi_result:.2f}\")\n",
    "\n",
    "# Determine BMI category using if-else statements\n",
    "if bmi_result < 18.5:\n",
    "    print(\"You are underweight.\")\n",
    "elif 18.5 <= bmi_result < 25:\n",
    "    print(\"Your weight is normal.\")\n",
    "elif 25 <= bmi_result < 30:\n",
    "    print(\"You are overweight.\")\n",
    "else:\n",
    "    print(\"You are obese.\")"
   ]
  },
  {
   "cell_type": "markdown",
   "id": "10af719e-5191-4c33-a2f0-5a508f8b627e",
   "metadata": {},
   "source": [
    "**Explanation:**\n",
    "\n",
    "\"calculate_bmi(weight, height)\" function takes weight and height as parameters and calculates the BMI using the formula (BMI=(weight / (height ** 2)). It returns the calculated BMI value.\n",
    "\n",
    "The program prompts the user to input their weight in kilograms and height in meters using the input() function.\n",
    "\n",
    "\"bmi_result = calculate_bmi(weight, height)\" statement calculates the BMI by calling the calculate_bmi() function with the provided weight and height values.\n",
    "\n",
    "The calculated BMI is printed with two decimal places using f\"{bmi_result:.2f}\".\n",
    "\n",
    "The program uses if-else statements to determine the BMI category based on the calculated BMI value. It prints a message indicating whether the person is underweight, normal weight, overweight, or obese, according to the standard BMI categories."
   ]
  },
  {
   "cell_type": "markdown",
   "id": "3e0cb063-89fe-40cd-a04d-b9e5099a201a",
   "metadata": {},
   "source": [
    "**Q23. How can you use the \"filter()\" function with if-else statements to filter elements from a list?**"
   ]
  },
  {
   "cell_type": "markdown",
   "id": "560a0510-477c-456e-b8e6-35824feda74a",
   "metadata": {},
   "source": [
    "The filter() function in Python is used to filter elements from an iterable (like a list) based on a specified function. While the filter() function itself doesn't directly incorporate if-else statements, it allows you to pass a function as its first argument to define the filtering condition.\n",
    "\n",
    "Below is an example of how you can use the filter() function with a custom function containing if-else logic to filter elements from a list:"
   ]
  },
  {
   "cell_type": "code",
   "execution_count": 27,
   "id": "69cd226f-2cc0-40b5-bd6e-087267af5938",
   "metadata": {},
   "outputs": [
    {
     "name": "stdout",
     "output_type": "stream",
     "text": [
      "Original list: [1, 2, 3, 4, 5, 6, 7, 8, 9, 10]\n",
      "Filtered even numbers: [2, 4, 6, 8, 10]\n"
     ]
    }
   ],
   "source": [
    "# Custom function to filter even numbers\n",
    "def filter_even_numbers(num):\n",
    "    return num % 2 == 0  # Returns True for even numbers, False for odd numbers\n",
    "\n",
    "# List of numbers\n",
    "numbers = [1, 2, 3, 4, 5, 6, 7, 8, 9, 10]\n",
    "\n",
    "# Filtering even numbers using filter() and the custom function\n",
    "filtered_even_numbers = list(filter(filter_even_numbers, numbers))\n",
    "\n",
    "print(\"Original list:\", numbers)\n",
    "print(\"Filtered even numbers:\", filtered_even_numbers)\n"
   ]
  },
  {
   "cell_type": "markdown",
   "id": "c152e8d5-a3b2-46dd-be33-95f42c962059",
   "metadata": {},
   "source": [
    "**Explanation:**\n",
    "\n",
    "\"filter_even_numbers(num)\" is a custom function that takes a number num as input and returns True if the number is even (divisible by 2) and False if the number is odd.\n",
    "\n",
    "We are initialising a list containing a sequence of numbers.\n",
    "\n",
    "\"filtered_even_numbers = list(filter(filter_even_numbers, numbers))\" Here, the filter() function is used to filter elements from the numbers list based on the condition defined in filter_even_numbers() function. It creates an iterator containing elements from \"numbers\" for which filter_even_numbers() returns True. The list() function is then used to convert the filtered iterator back into a list.\n",
    "\n",
    "The original list \"numbers\" and the list of filtered even numbers \"filtered_even_numbers\" are printed using print()."
   ]
  },
  {
   "cell_type": "markdown",
   "id": "5bdf947d-1998-4784-8bd1-1760d649feac",
   "metadata": {},
   "source": [
    "**Q24. Write a Python program to determine if a given number is prime or not using if-else.**"
   ]
  },
  {
   "cell_type": "code",
   "execution_count": 30,
   "id": "f3e88cc4-b730-49a2-b626-3e44abb95c1e",
   "metadata": {},
   "outputs": [
    {
     "name": "stdin",
     "output_type": "stream",
     "text": [
      "Enter a number: 47\n"
     ]
    },
    {
     "name": "stdout",
     "output_type": "stream",
     "text": [
      "47 is a prime number\n"
     ]
    }
   ],
   "source": [
    "num=int(input(\"Enter a number:\")) #Taking the number as input from the user.\n",
    "\n",
    "#Using nested if-else statement to check for the prime number.\n",
    "if num>=2: \n",
    "    if num==2:\n",
    "        print(\"{} is a prime number\".format(num))\n",
    "    elif num%2==0:\n",
    "        print(\"{} is not a prime number\".format(num))\n",
    "    else:\n",
    "        for i in range(3,int(num**0.5+1),2):\n",
    "            if num%i==0:\n",
    "                print(\"{} is not a prime number\".format(num))\n",
    "                break\n",
    "        else:\n",
    "            print(\"{} is a prime number\".format(num))\n",
    "else:\n",
    "    print(\"{} is not a prime number\".format(num))"
   ]
  },
  {
   "cell_type": "markdown",
   "id": "c1388384-1003-4aa4-a78f-fbd08f69ebf9",
   "metadata": {},
   "source": [
    "**Explanation:**\n",
    "\n",
    "We start by taking the number as input from the user.\n",
    "\n",
    "We are Using nested if-else statement to check for the prime number.\n",
    "\n",
    "we are using input() function to take the user input. The input() function returns a string, so we use int() to convert the input to integer, since year can not be string.\n",
    "\n",
    "if the number iss greater than or equal to 2then the first if(if num>=2) block is executed. Otherwise the else bock will execute because 2 is the smallest prime number, so any number less than 2 is not a prime number.\n",
    "\n",
    "if the number is equal to then the nested if (if num==2) will execute and the number is prime number.\n",
    "\n",
    "Otherwise we check if the number is even or not using \"elif num%2==0\", then the nested elif block will execute and the number is not prime.\n",
    "\n",
    "Otherwise the else block will execute and using the for loop (for i in range(3,int(num**0.5+1),2)) and if statement (if num%i==0), we check if the number has a factor other than 1 and itself. If the number has any factor other than 1 and itself then the number is not prime. \n",
    "\n",
    "print() function is used to print the result."
   ]
  },
  {
   "cell_type": "markdown",
   "id": "eecab7dd-155e-4beb-bc56-6ca427c50c05",
   "metadata": {},
   "source": [
    "# Map :-"
   ]
  },
  {
   "cell_type": "markdown",
   "id": "d838a556-590e-4aee-b434-54a6236284b4",
   "metadata": {},
   "source": [
    "**Q1. Explain the purpose of the `map()` function in Python and provide an example of how it can be used to apply a function to each element of an iterable.**"
   ]
  },
  {
   "cell_type": "markdown",
   "id": "b44c71c7-d55a-4e6c-a6b2-f80f1f8d5620",
   "metadata": {},
   "source": [
    "The map() function in Python is used to apply a specified function to every item in an iterable (such as a list) and returns an iterator that yields the results. It takes two arguments: the function to be applied and the iterable on which the function will be applied.\n",
    "\n",
    "The main purpose of map() is to efficiently transform each element of an iterable by applying a given function to it, without using explicit loops. It is a convenient way to perform operations on all elements of a sequence or iterable and get the transformed values.\n",
    "\n",
    "Below is an example demonstrating the usage of map() to apply a function to each element of a list:"
   ]
  },
  {
   "cell_type": "code",
   "execution_count": 31,
   "id": "34ecbafe-a152-4bd9-a9e1-1db9b43e54a0",
   "metadata": {},
   "outputs": [
    {
     "name": "stdout",
     "output_type": "stream",
     "text": [
      "Original list: [1, 2, 3, 4, 5]\n",
      "Squared numbers: [1, 4, 9, 16, 25]\n"
     ]
    }
   ],
   "source": [
    "# Custom function to square a number\n",
    "def square_number(x):\n",
    "    return x ** 2\n",
    "\n",
    "# List of numbers\n",
    "numbers = [1, 2, 3, 4, 5]\n",
    "\n",
    "# Using map() to square each number in the list\n",
    "squared_numbers = list(map(square_number, numbers))\n",
    "\n",
    "print(\"Original list:\", numbers)\n",
    "print(\"Squared numbers:\", squared_numbers)\n"
   ]
  },
  {
   "cell_type": "markdown",
   "id": "b7147ad3-bb71-469e-af86-9277e90c74fa",
   "metadata": {},
   "source": [
    "**Explanation:**\n",
    "\n",
    "\"square_number(x)\"is a custom function that takes a number x as input and returns the square of that number.\n",
    "\n",
    "Here we a list containing a sequence of numbers.\n",
    "\n",
    "\"squared_numbers = list(map(square_number, numbers))\" Here the map() function is used to apply the square_number() function to each element in the \"numbers\" list. It returns an iterator that yields the squares of all elements. The list() function is then used to convert the iterator into a list containing the squared values.\n",
    "\n",
    "The original list \"numbers\" and the list of squared numbers \"squared_numbers\" are printed for comparison."
   ]
  },
  {
   "cell_type": "markdown",
   "id": "d3de35e4-4089-4dd3-ae20-559576adfb95",
   "metadata": {},
   "source": [
    "**Q2. Write a Python program that uses the `map()` function to square each element of a list of numbers.**"
   ]
  },
  {
   "cell_type": "code",
   "execution_count": 32,
   "id": "18abf7b8-07b0-4493-a594-670fddd254a6",
   "metadata": {},
   "outputs": [
    {
     "name": "stdout",
     "output_type": "stream",
     "text": [
      "Original list: [1, 2, 3, 4, 5]\n",
      "Squared numbers: [1, 4, 9, 16, 25]\n"
     ]
    }
   ],
   "source": [
    "# Custom function to square a number\n",
    "def square_number(x):\n",
    "    return x ** 2\n",
    "\n",
    "# List of numbers\n",
    "numbers = [1, 2, 3, 4, 5]\n",
    "\n",
    "# Using map() to square each number in the list\n",
    "squared_numbers = list(map(square_number, numbers))\n",
    "\n",
    "print(\"Original list:\", numbers)\n",
    "print(\"Squared numbers:\", squared_numbers)\n"
   ]
  },
  {
   "cell_type": "markdown",
   "id": "8d9d2f16-7193-4127-b1f0-bcb6d53b5334",
   "metadata": {},
   "source": [
    "**Explanation:**\n",
    "\n",
    "\"square_number(x)\"is a custom function that takes a number x as input and returns the square of that number.\n",
    "\n",
    "Here we a list containing a sequence of numbers.\n",
    "\n",
    "\"squared_numbers = list(map(square_number, numbers))\" Here the map() function is used to apply the square_number() function to each element in the \"numbers\" list. It returns an iterator that yields the squares of all elements. The list() function is then used to convert the iterator into a list containing the squared values.\n",
    "\n",
    "The original list \"numbers\" and the list of squared numbers \"squared_numbers\" are printed for comparison."
   ]
  },
  {
   "cell_type": "markdown",
   "id": "bb300be9-dacb-4d4f-8899-fff716202c84",
   "metadata": {},
   "source": [
    "**Q3. How does the `map()` function differ from a list comprehension in Python, and when would you choose one over the other?**"
   ]
  },
  {
   "cell_type": "markdown",
   "id": "906a497e-76c8-4e23-a89d-fb4898bbeca1",
   "metadata": {},
   "source": [
    "The map() function and list comprehensions in Python serve similar purposes, allowing transformation or processing of elements within iterables. However, they differ in their syntax, usage, and sometimes readability.\n",
    "\n",
    "Below is a comparison between map() and list comprehensions:\n",
    "\n",
    "1. map() function:\n",
    "\n",
    "map() is a built-in Python function that takes a function and an iterable as arguments.\n",
    "\n",
    "It applies the specified function to each element of the iterable and returns an iterator containing the results.\n",
    "\n",
    "It is often used when we have an existing function that we want to apply to every element in an iterable.\n",
    "\n",
    "It can work efficiently with functions that might not be easily expressible as a simple lambda function or if the transformation logic is complex.\n",
    "\n",
    "2. List comprehensions:\n",
    "\n",
    "List comprehensions provide a concise way to create lists by applying an expression to each element in an iterable.\n",
    "\n",
    "They offer a more readable and often more straightforward syntax when we want to perform a simple transformation on elements of an iterable.\n",
    "\n",
    "List comprehensions can sometimes be more readable and Pythonic compared to using map() along with lambda functions for simple operations.\n",
    "\n",
    "Below is an example to get the square of the numbers present in list using \"map() function\" and \"List comprehension\"."
   ]
  },
  {
   "cell_type": "code",
   "execution_count": 1,
   "id": "3a68e627-7d84-4fa3-a215-a31610132a24",
   "metadata": {},
   "outputs": [
    {
     "name": "stdout",
     "output_type": "stream",
     "text": [
      "square of the numbers present in list [1, 2, 3, 4, 5] using 'map() function' is: [1, 4, 9, 16, 25]\n",
      "square of the numbers present in list [1, 2, 3, 4, 5] using 'List comprehension' is: [1, 4, 9, 16, 25]\n"
     ]
    }
   ],
   "source": [
    "numbers = [1, 2, 3, 4, 5]\n",
    "\n",
    "#Calculating square of the numbers present in list using \"map() function\".\n",
    "squared_numbers = list(map(lambda x: x ** 2, numbers))\n",
    "print(\"square of the numbers present in list {} using 'map() function' is: {}\".format(numbers, squared_numbers))\n",
    "\n",
    "#Calculating square of the numbers present in list using \"List comprehension\".\n",
    "squared_numbers2 = [x ** 2 for x in numbers]\n",
    "print(\"square of the numbers present in list {} using 'List comprehension' is: {}\".format(numbers, squared_numbers2))"
   ]
  },
  {
   "cell_type": "markdown",
   "id": "afe895be-8311-45d2-a69f-b57e87e202a1",
   "metadata": {},
   "source": [
    "How to choose between \"map() function\" and \"List comprehension\":\n",
    "\n",
    "1. List comprehensions are often preferred when the transformation logic is simple and the code remains readable. They offer a more compact and clear syntax for simple operations.\n",
    "\n",
    "2.  If we have an existing function or need to apply complex transformations to each element in an iterable, map() can be more suitable. It allows us to use any function with any level of complexity."
   ]
  },
  {
   "cell_type": "markdown",
   "id": "d7909cae-371c-430d-92f1-78fa4f8afedc",
   "metadata": {},
   "source": [
    "**Q4. Create a Python program that uses the `map()` function to convert a list of names to uppercase.**"
   ]
  },
  {
   "cell_type": "code",
   "execution_count": 4,
   "id": "3f4881e5-bb10-435b-a2ab-afd3828555ac",
   "metadata": {},
   "outputs": [
    {
     "name": "stdout",
     "output_type": "stream",
     "text": [
      "The original list is:  ['anmol', 'anand', 'krish', 'sudhanshu', 'ekta', 'pwskills']\n",
      "The modified list is:  ['ANMOL', 'ANAND', 'KRISH', 'SUDHANSHU', 'EKTA', 'PWSKILLS']\n"
     ]
    }
   ],
   "source": [
    "str_lst=['anmol', 'anand', 'krish', 'sudhanshu', 'ekta', 'pwskills'] #Initialising a list containing strings.\n",
    "\n",
    "upper_str_lst=list(map(lambda st: st.upper(), str_lst))\n",
    "\n",
    "print(\"The original list is: \", str_lst)\n",
    "print(\"The modified list is: \", upper_str_lst)"
   ]
  },
  {
   "cell_type": "markdown",
   "id": "a7aa690c-42d0-4a0a-93e7-665daff8b21e",
   "metadata": {},
   "source": [
    "**Explanation:**\n",
    "\n",
    "Initially we are initialising a list containing strings.\n",
    "\n",
    "\"upper_str_lst = list(map(lambda st: st.upper(), str_lst))\" Here map() is used here to apply a function to each element (st) in the str_lst.\n",
    "\n",
    "\"lambda st: st.upper()\" is an anonymous (lambda) function that takes a string st and uses the upper() method to convert it to uppercase.\n",
    "\n",
    "The map() function applies this lambda function to each string in the str_lst.\n",
    "\n",
    "list() is used to convert the resulting map object (which is an iterator) into a list.\n",
    "\n",
    "Tupper_str_lst contains the modified strings, where each string from str_lst has been converted to uppercase.\n",
    "\n",
    "Finally we are printing the original and the modified list."
   ]
  },
  {
   "cell_type": "markdown",
   "id": "8033c5f5-64e6-43ea-a022-edab73e12401",
   "metadata": {},
   "source": [
    "**Q5. Write a Python program that uses the `map()` function to calculate the length of each word in a list of strings.**"
   ]
  },
  {
   "cell_type": "code",
   "execution_count": 6,
   "id": "90847606-701e-42f4-8ab2-e455b2b99568",
   "metadata": {},
   "outputs": [
    {
     "name": "stdout",
     "output_type": "stream",
     "text": [
      "List of strings: ['apple', 'banana', 'orange', 'kiwi', 'melon']\n",
      "Length of each word: [5, 6, 6, 4, 5]\n"
     ]
    }
   ],
   "source": [
    "# List of strings\n",
    "str_lst = ['apple', 'banana', 'orange', 'kiwi', 'melon']\n",
    "\n",
    "# Using map() to calculate the length of each word in the list\n",
    "word_lengths = list(map(len, str_lst))\n",
    "\n",
    "print(\"List of strings:\", str_lst)\n",
    "print(\"Length of each word:\", word_lengths)\n"
   ]
  },
  {
   "cell_type": "markdown",
   "id": "5686485b-6070-4b34-acb7-065a55e68f55",
   "metadata": {},
   "source": [
    "**Explanation:**\n",
    "\n",
    "Initially we are initialising a list containing strings.\n",
    "\n",
    "word_lengths = list(map(len, str_lst)):\n",
    "\n",
    "The map() function is used here to apply the len() function to each element in the str_lst.\n",
    "\n",
    "len() is a built-in Python function that calculates the length of a string.\n",
    "\n",
    "\"map(len, str_lst)\" applies the len() function to each string in the str_lst.\n",
    "\n",
    "\"list()\" is used to convert the resulting map object (which is an iterator) into a list.\n",
    "\n",
    "List named \"word_lengths\" contains the lengths of each word in the str_lst.\n",
    "\n",
    "Finally we are printing the list of string and the corresponding lengh of the strings."
   ]
  },
  {
   "cell_type": "markdown",
   "id": "b1f7548d-88b2-44b0-b997-d67f383a8fef",
   "metadata": {},
   "source": [
    "**Q6. How can you use the `map()` function to apply a custom function to elements of multiple lists simultaneously in Python?**"
   ]
  },
  {
   "cell_type": "markdown",
   "id": "a20dbfc7-2e60-4385-860c-ab85c81f9e06",
   "metadata": {},
   "source": [
    "The map() function in Python can be used to apply a custom function to elements of multiple lists simultaneously by combining them using \"zip()\" and then mapping the function to the zipped elements. This allows us to perform operations on corresponding elements from multiple lists in parallel.\n",
    "\n",
    "Below is an example showing how to use map() to apply a custom function to elements of multiple lists:"
   ]
  },
  {
   "cell_type": "code",
   "execution_count": 14,
   "id": "06178274-29fc-4b44-8255-95244be6eb2c",
   "metadata": {},
   "outputs": [
    {
     "name": "stdout",
     "output_type": "stream",
     "text": [
      "List 1: [1, 2, 3, 4, 5]\n",
      "List 2: [10, 20, 30, 40, 50]\n",
      "Result after adding elements: [11, 22, 33, 44, 55]\n"
     ]
    }
   ],
   "source": [
    "# Custom function to add elements of two lists\n",
    "def add_elements(x):\n",
    "    return x[0] + x[1]\n",
    "\n",
    "# Example lists\n",
    "list1 = [1, 2, 3, 4, 5]\n",
    "list2 = [10, 20, 30, 40, 50]\n",
    "\n",
    "# Using map() to apply the custom function to elements of multiple lists\n",
    "result = list(map(add_elements, zip(list1, list2)))\n",
    "\n",
    "print(\"List 1:\", list1)\n",
    "print(\"List 2:\", list2)\n",
    "print(\"Result after adding elements:\", result)\n"
   ]
  },
  {
   "cell_type": "markdown",
   "id": "092f9795-17f5-40b7-a270-3f39ca388274",
   "metadata": {},
   "source": [
    "**Explanation:**\n",
    "\n",
    "add_elements(x): This is a custom function that takes a tuple x as input and returns the sum of its elements. In this case, x is a tuple containing two elements (elements from list1 and list2).\n",
    "\n",
    "We have Initialised two lists containing integers.\n",
    "\n",
    "\"zip(list1, list2)\" Here the zip() function combines the elements from list1 and list2 into tuples. It pairs corresponding elements together, creating an iterator of tuples where each tuple contains elements from the same index of both lists.\n",
    "\n",
    "\"map(add_elements, zip(list1, list2))\" Here the map() function applies the add_elements() function to each tuple produced by zip(list1, list2). It passes each tuple (pair of elements) to the add_elements() function.\n",
    "\n",
    "result = list(map(add_elements, zip(list1, list2))): The map() function returns an iterator. Using list() converts this iterator into a list, which contains the results of applying the add_elements() function to each tuple of elements from list1 and list2.\n",
    "\n",
    "Finally we are printing both the list and also the resulting list of the addition."
   ]
  },
  {
   "cell_type": "markdown",
   "id": "5f02fe95-7793-48ae-98d3-0c689b9fb90f",
   "metadata": {},
   "source": [
    "**Q7. Create a Python program that uses `map()` to convert a list of temperatures from Celsius to Fahrenheit.**"
   ]
  },
  {
   "cell_type": "code",
   "execution_count": 15,
   "id": "89743703-69b4-4213-a45a-206e921e4a13",
   "metadata": {},
   "outputs": [
    {
     "name": "stdout",
     "output_type": "stream",
     "text": [
      "Celsius Temperatures: [0, 10, 20, 30, 40]\n",
      "Fahrenheit Temperatures: [32.0, 50.0, 68.0, 86.0, 104.0]\n"
     ]
    }
   ],
   "source": [
    "# Function to convert Celsius to Fahrenheit\n",
    "def celsius_to_fahrenheit(celsius):\n",
    "    return (celsius * 9/5) + 32\n",
    "\n",
    "# List of temperatures in Celsius\n",
    "celsius_temperatures = [0, 10, 20, 30, 40]\n",
    "\n",
    "# Using map() to convert Celsius temperatures to Fahrenheit\n",
    "fahrenheit_temperatures = list(map(celsius_to_fahrenheit, celsius_temperatures))\n",
    "\n",
    "print(\"Celsius Temperatures:\", celsius_temperatures)\n",
    "print(\"Fahrenheit Temperatures:\", fahrenheit_temperatures)"
   ]
  },
  {
   "cell_type": "markdown",
   "id": "f0503078-1bb1-4f7f-9f68-c9133f1056d3",
   "metadata": {},
   "source": [
    "**Explanation:**\n",
    "\n",
    "\"celsius_to_fahrenheit(celsius)\" function takes a temperature value in Celsius as input and returns the equivalent temperature in Fahrenheit using the conversion formula (C × 9/5) + 32.\n",
    "\n",
    "celsius_temperatures is the list containing temperatures in Celsius that we want to convert to Fahrenheit.\n",
    "\n",
    "\"fahrenheit_temperatures = list(map(celsius_to_fahrenheit, celsius_temperatures))\" Here the map() function applies the celsius_to_fahrenheit() function to each temperature in the celsius_temperatures list, converting them to Fahrenheit. The resulting iterator is converted into a list using list().\n",
    "\n",
    "Finally we are printing the list containing celsius and fahrenheit temperature. "
   ]
  },
  {
   "cell_type": "markdown",
   "id": "cde12f65-bb68-493a-b1ec-52669b02d23a",
   "metadata": {},
   "source": [
    "**Q8. Write a Python program that uses the `map()` function to round each element of a list of floating-point numbers to the nearest integer.**\n"
   ]
  },
  {
   "cell_type": "code",
   "execution_count": 18,
   "id": "9ef65770-34c8-440f-a6af-b1dd87f9e08a",
   "metadata": {},
   "outputs": [
    {
     "name": "stdout",
     "output_type": "stream",
     "text": [
      "Original Float Numbers: [3.14, 2.718, 1.5, 4.9, 6.75]\n",
      "Rounded Integers: [3, 3, 2, 5, 7]\n"
     ]
    }
   ],
   "source": [
    "# List of floating-point numbers\n",
    "float_numbers = [3.14, 2.718, 1.5, 4.9, 6.75]\n",
    "\n",
    "# Using map() to round each element to the nearest integer\n",
    "rounded_integers = list(map(round, float_numbers))\n",
    "\n",
    "print(\"Original Float Numbers:\", float_numbers)\n",
    "print(\"Rounded Integers:\", rounded_integers)\n"
   ]
  },
  {
   "cell_type": "markdown",
   "id": "2a924eec-43cb-4683-a9af-0044a880ddf7",
   "metadata": {},
   "source": [
    "**Explanation:**\n",
    "\n",
    "float_numbers is a list containing floating-point numbers.\n",
    "\n",
    "\"rounded_integers = list(map(round, float_numbers))\"Here the map() function applies the round() function to each element in the float_numbers list. The round() function rounds each number to the nearest integer.\n",
    "\n",
    "The resulting iterator from map() is converted into a list using list(), resulting in rounded_integers containing the rounded integers.\n",
    "\n",
    "Finally we are printing the list containing the floating point numbers and the list containing their corresponding rounded integers."
   ]
  },
  {
   "cell_type": "markdown",
   "id": "3662bf17-3019-4f08-b9ab-5317781071eb",
   "metadata": {},
   "source": [
    "# Reduce :-"
   ]
  },
  {
   "cell_type": "markdown",
   "id": "59e84736-11c9-4337-955a-ee70621068cb",
   "metadata": {},
   "source": [
    "**Q1. What is the `reduce()` function in Python, and what module should you import to use it? Provide an example of its basic usage.**"
   ]
  },
  {
   "cell_type": "markdown",
   "id": "0a6e2409-c62a-438a-9a7f-28c92e6127d4",
   "metadata": {},
   "source": [
    "The reduce() function in Python is part of the functools module. It's used to repeatedly apply a function to the elements of an iterable to reduce them to a single cumulative result.\n",
    "\n",
    "To use reduce(), you need to import it from the functools module.\n",
    "\n",
    "Below is an example demonstrating the basic usage of reduce():"
   ]
  },
  {
   "cell_type": "code",
   "execution_count": 1,
   "id": "7d53dc3e-98bd-4be6-96f2-22ec4ba6c282",
   "metadata": {},
   "outputs": [
    {
     "name": "stdout",
     "output_type": "stream",
     "text": [
      "List of numbers: [1, 2, 3, 4, 5]\n",
      "Sum using reduce: 15\n"
     ]
    }
   ],
   "source": [
    "from functools import reduce\n",
    "\n",
    "# Custom function to add two numbers\n",
    "def add(x, y):\n",
    "    return x + y\n",
    "\n",
    "# List of numbers\n",
    "numbers = [1, 2, 3, 4, 5]\n",
    "\n",
    "# Using reduce() to calculate the sum of numbers\n",
    "sum_result = reduce(add, numbers)\n",
    "\n",
    "print(\"List of numbers:\", numbers)\n",
    "print(\"Sum using reduce:\", sum_result)"
   ]
  },
  {
   "cell_type": "markdown",
   "id": "6c6fd914-3509-4777-943c-7bf2948afe4c",
   "metadata": {},
   "source": [
    "**Explanation:**\n",
    "\n",
    "import the reduce() function from the functools module.\n",
    "\n",
    "\"add(x, y)\" is a custom function that takes two numbers x and y as input and returns their sum.\n",
    "\n",
    "We are initialising a list containing numbers [1, 2, 3, 4, 5].\n",
    "\n",
    "\"sum_result = reduce(add, numbers)\" Here the reduce() function applies the add() function cumulatively to the elements of the numbers list. It starts by taking the first two elements, then applies the function to their result and the next element, and so on until it reduces the entire iterable to a single result. In this case, it calculates the sum of all numbers in the list.\n",
    "\n",
    "Finally we are printing the result."
   ]
  },
  {
   "cell_type": "markdown",
   "id": "ca5f0a86-b019-4df1-be33-909e1794ada2",
   "metadata": {},
   "source": [
    "**Q2. Write a Python program that uses the `reduce()` function to find the product of all elements in a list.**\n"
   ]
  },
  {
   "cell_type": "code",
   "execution_count": 1,
   "id": "26225ea5-83a9-48f7-9e2c-3d4fbbac0a26",
   "metadata": {},
   "outputs": [
    {
     "name": "stdout",
     "output_type": "stream",
     "text": [
      "List of numbers: [2, 3, 4, 5]\n",
      "Product using reduce: 120\n"
     ]
    }
   ],
   "source": [
    "from functools import reduce\n",
    "\n",
    "# Custom function to multiply two numbers\n",
    "def multiply(x, y):\n",
    "    return x * y\n",
    "\n",
    "# List of numbers\n",
    "numbers = [2, 3, 4, 5]\n",
    "\n",
    "# Using reduce() to calculate the product of numbers\n",
    "product_result = reduce(multiply, numbers)\n",
    "\n",
    "print(\"List of numbers:\", numbers)\n",
    "print(\"Product using reduce:\", product_result)"
   ]
  },
  {
   "cell_type": "markdown",
   "id": "796d9349-31a7-4de3-9bf9-94bf4906cc92",
   "metadata": {},
   "source": [
    "**Explanation:**\n",
    "\n",
    "import the reduce() function from the functools module.\n",
    "\n",
    "\"multiply(x, y)\" is a custom function that takes two numbers x and y as input and returns their product.\n",
    "\n",
    "We are initialising a list containing numbers [1, 2, 3, 4, 5].\n",
    "\n",
    "\"product_result = reduce(multiply, numbers)\" Here the reduce() function applies the multiply() function cumulatively to the elements of the numbers list. It multiplies the elements together starting from the first two elements, then multiplies their result with the next element, and so on until it reduces the entire iterable to a single result, which is the product of all elements in the list.\n",
    "\n",
    "Finally we are printing the result."
   ]
  },
  {
   "cell_type": "markdown",
   "id": "9e249ea2-8e4c-40b0-935d-5ee2f2aa0aeb",
   "metadata": {},
   "source": [
    "**Q3. Create a Python program that uses `reduce()` to find the maximum element in a list of numbers.**"
   ]
  },
  {
   "cell_type": "code",
   "execution_count": 1,
   "id": "89997819-42c5-4f60-badc-ba1fa1a5f5ad",
   "metadata": {},
   "outputs": [
    {
     "name": "stdout",
     "output_type": "stream",
     "text": [
      "List of numbers: [7, 12, 4, 18, 9, 6]\n",
      "Maximum number using reduce: 18\n"
     ]
    }
   ],
   "source": [
    "from functools import reduce\n",
    "\n",
    "# Custom function to find the maximum of two numbers\n",
    "def maximum(x, y):\n",
    "    return x if x > y else y\n",
    "\n",
    "# List of numbers\n",
    "numbers = [7, 12, 4, 18, 9, 6]\n",
    "\n",
    "# Using reduce() to find the maximum element in the list\n",
    "max_number = reduce(maximum, numbers)\n",
    "\n",
    "print(\"List of numbers:\", numbers)\n",
    "print(\"Maximum number using reduce:\", max_number)"
   ]
  },
  {
   "cell_type": "markdown",
   "id": "65972ec5-bff9-4c3e-89aa-c22361636649",
   "metadata": {},
   "source": [
    "**Explanation:**\n",
    "\n",
    "import the reduce() function from the functools module.\n",
    "\n",
    "\"maximum(x, y)\" is a custom function that takes two numbers x and y as input and returns the maximum of the two numbers using a conditional expression (x if x > y else y).\n",
    "\n",
    "We are initialising a list containing numbers [7, 12, 4, 18, 9, 6].\n",
    "\n",
    "\"max_number = reduce(maximum, numbers)\" Here the reduce() function applies the maximum() function cumulatively to the elements of the numbers list. It compares elements pairwise to find the maximum element in the list.\n",
    "\n",
    "Finally we are printing the result."
   ]
  },
  {
   "cell_type": "markdown",
   "id": "cfa42aed-d1ae-41c4-b62c-0d3d0d1bf850",
   "metadata": {},
   "source": [
    "**Q4. How can you use the `reduce()` function to concatenate a list of strings into a single string?**"
   ]
  },
  {
   "cell_type": "code",
   "execution_count": 2,
   "id": "d70540c2-3a53-4aa1-85f1-f4636b7c8fc9",
   "metadata": {},
   "outputs": [
    {
     "name": "stdout",
     "output_type": "stream",
     "text": [
      "List of strings: ['Hello', ' ', 'world', '!']\n",
      "Concatenated string using reduce: Hello world!\n"
     ]
    }
   ],
   "source": [
    "from functools import reduce\n",
    "\n",
    "# Custom function to concatenate two strings\n",
    "def concatenate_strings(x, y):\n",
    "    return x + y\n",
    "\n",
    "# List of strings\n",
    "string_list = ['Hello', ' ', 'world', '!']\n",
    "\n",
    "# Using reduce() to concatenate strings in the list\n",
    "concatenated_string = reduce(concatenate_strings, string_list)\n",
    "\n",
    "print(\"List of strings:\", string_list)\n",
    "print(\"Concatenated string using reduce:\", concatenated_string)"
   ]
  },
  {
   "cell_type": "markdown",
   "id": "eb207a75-a256-4743-a5b1-940b2c2d2e53",
   "metadata": {},
   "source": [
    "**Explanation:**\n",
    "\n",
    "import the reduce() function from the functools module.\n",
    "\n",
    "\"concatenate_strings(x, y)\" is a custom function that takes two strings x and y as input and returns their concatenation using the + operator.\n",
    "\n",
    "We are initialising a list containing strings ['Hello', ' ', 'world', '!'].\n",
    "\n",
    "\"concatenated_string = reduce(concatenate_strings, string_list)\" Here the reduce() function applies the concatenate_strings() function cumulatively to the elements of the string_list to concatenate all the strings together. It combines the strings by appending each string to the previous one.\n",
    "\n",
    "Finally we are printing the result."
   ]
  },
  {
   "cell_type": "markdown",
   "id": "5d21ee94-dc98-4744-9271-8d1640dffeeb",
   "metadata": {},
   "source": [
    "**Q5. Write a Python program that calculates the factorial of a number using the `reduce()` function.**"
   ]
  },
  {
   "cell_type": "code",
   "execution_count": 3,
   "id": "78e70135-1c8c-4d3d-aa63-6236ed8ebca9",
   "metadata": {},
   "outputs": [
    {
     "name": "stdout",
     "output_type": "stream",
     "text": [
      "The factorial of 5 is: 120\n"
     ]
    }
   ],
   "source": [
    "from functools import reduce\n",
    "\n",
    "# Custom function to calculate factorial\n",
    "def factorial(n1, n2):\n",
    "    return n1 * n2\n",
    "\n",
    "# Number to calculate factorial\n",
    "number = 5 \n",
    "\n",
    "# Using reduce() to calculate the factorial\n",
    "factorial_result = reduce(factorial, range(1, number+1))\n",
    "\n",
    "print(f\"The factorial of {number} is:\", factorial_result)\n"
   ]
  },
  {
   "cell_type": "markdown",
   "id": "95427281-889d-4c86-a429-e3d79bb18d3a",
   "metadata": {},
   "source": [
    "**Explanation:**\n",
    "\n",
    "import the reduce() function from the functools module.\n",
    "\n",
    "\"factorial(n1, n2)\" is a custom function that takes two numbers n1 and n2 as input and returns their product (to compute the factorial).\n",
    "\n",
    "We are initialising a variable('number') that stores the number for which we want to calculate the factorial. In this case, it's set to 5.\n",
    "\n",
    "\"factorial_result = reduce(factorial, range(1, number+1))\" Here the reduce() function applies the factorial() function cumulatively to the numbers from 1 to number using range(). It computes the factorial by multiplying each number together starting from 1 up to the given number.\n",
    "\n",
    "Finally we are printing the result."
   ]
  },
  {
   "cell_type": "markdown",
   "id": "53c20038-edce-4a5c-ada3-55ab6a611ffb",
   "metadata": {},
   "source": [
    "**Q6. Create a Python program that uses `reduce()` to find the GCD (Greatest Common Divisor) of a list of numbers.**"
   ]
  },
  {
   "cell_type": "code",
   "execution_count": 4,
   "id": "4eee3743-50c5-4db5-a3d4-14fd5b3df574",
   "metadata": {},
   "outputs": [
    {
     "name": "stdout",
     "output_type": "stream",
     "text": [
      "List of numbers: [12, 18, 24, 30, 36]\n",
      "GCD using reduce: 6\n"
     ]
    }
   ],
   "source": [
    "from functools import reduce\n",
    "import math\n",
    "\n",
    "# List of numbers\n",
    "numbers = [12, 18, 24, 30, 36]\n",
    "\n",
    "# Using reduce() with math.gcd() to find the GCD of numbers\n",
    "gcd_result = reduce(math.gcd, numbers)\n",
    "\n",
    "print(\"List of numbers:\", numbers)\n",
    "print(\"GCD using reduce:\", gcd_result)\n"
   ]
  },
  {
   "cell_type": "markdown",
   "id": "a7861d68-4f0a-49f0-ab5b-df0028bc706d",
   "metadata": {},
   "source": [
    "**Explanation:**\n",
    "\n",
    "import the reduce() function from the functools module.\n",
    "\n",
    "mport the math module, which contains the gcd() function used to find the GCD.\n",
    "\n",
    "We are initialising a list containing strings ['Hello', ' ', 'world', '!'].\n",
    "\n",
    "\"gcd_result = reduce(math.gcd, numbers)\" Here the reduce() function applies the math.gcd() function cumulatively to the elements of the numbers list. It computes the GCD by finding the greatest common divisor among the numbers in the list.\n",
    "\n",
    "Finally we are printing the result."
   ]
  },
  {
   "cell_type": "markdown",
   "id": "a97ba25e-e296-42bd-8dc4-9bb9fd87a181",
   "metadata": {},
   "source": [
    "**Q7. Write a Python program that uses the `reduce()` function to find the sum of the digits of a given number.**"
   ]
  },
  {
   "cell_type": "code",
   "execution_count": 5,
   "id": "eafac868-6837-4779-96e3-68b1881f7208",
   "metadata": {},
   "outputs": [
    {
     "name": "stdout",
     "output_type": "stream",
     "text": [
      "Given number: 12345\n",
      "Sum of digits using reduce: 15\n"
     ]
    }
   ],
   "source": [
    "from functools import reduce\n",
    "\n",
    "# Custom function to add two numbers\n",
    "def add_digits(x, y):\n",
    "    return x + y\n",
    "\n",
    "# Given number\n",
    "number = 12345\n",
    "\n",
    "# Convert the number to a string, then to a list of its digits as integers\n",
    "digits = list(map(int, str(number)))\n",
    "\n",
    "# Using reduce() to find the sum of the digits\n",
    "sum_of_digits = reduce(add_digits, digits)\n",
    "\n",
    "print(\"Given number:\", number)\n",
    "print(\"Sum of digits using reduce:\", sum_of_digits)\n"
   ]
  },
  {
   "cell_type": "markdown",
   "id": "6a966fbe-8689-4a6f-b80b-c74802b0253b",
   "metadata": {},
   "source": [
    "**Explanation:**\n",
    "\n",
    "import the reduce() function from the functools module.\n",
    "\n",
    "def add_digits(x, y): This is a custom function that takes two numbers x and y as input and returns their sum.\n",
    "\n",
    "We are initialising a variable('number') that stores the number for which we want to find the sum of its digits.\n",
    "\n",
    "\"digits = list(map(int, str(number)))\" this statement converts the number to a string using str(number), then uses map() with int to convert each character (digit) of the string back to an integer, and finally creates a list (digits) containing the individual digits as integers.\n",
    "\n",
    "\"sum_of_digits = reduce(add_digits, digits)\" Here the reduce() function applies the add_digits() function cumulatively to the digits in the digits list. It computes the sum of the digits by adding them together.\n",
    "\n",
    "Finally we are printing the result."
   ]
  },
  {
   "cell_type": "markdown",
   "id": "5adc8225-fa68-4bab-8368-2ccbba551c3a",
   "metadata": {},
   "source": [
    "# Filter :-"
   ]
  },
  {
   "cell_type": "markdown",
   "id": "62ec7c16-a041-4fea-93ad-ee8317edbce9",
   "metadata": {},
   "source": [
    "**Q1. Explain the purpose of the `filter()` function in Python and provide an example of how it can be used to filter elements from an iterable.**"
   ]
  },
  {
   "cell_type": "markdown",
   "id": "5cb7cf46-6f42-423d-97ef-878999677bc3",
   "metadata": {},
   "source": [
    "The filter() function in Python is used to create a new iterator from elements of an iterable (such as lists, tuples, etc.) for which a specified function returns True. It's used to selectively filter elements based on a given condition or predicate function.\n",
    "\n",
    "The filter() function applies the specified function to each element of the iterable. If the function returns True for an element, that element is included in the resulting iterator. If the function returns False, the element is excluded.\n",
    "\n",
    "Below is an example of 'filter()':"
   ]
  },
  {
   "cell_type": "code",
   "execution_count": 6,
   "id": "2a0fdf9c-53b1-4fbb-9be3-8dc58397e8dd",
   "metadata": {},
   "outputs": [
    {
     "name": "stdout",
     "output_type": "stream",
     "text": [
      "Original list: [1, 2, 3, 4, 5, 6, 7, 8, 9, 10]\n",
      "Filtered even numbers: [2, 4, 6, 8, 10]\n"
     ]
    }
   ],
   "source": [
    "# Custom function to filter even numbers\n",
    "def filter_even_numbers(num):\n",
    "    return num % 2 == 0  # Returns True for even numbers, False for odd numbers\n",
    "\n",
    "# List of numbers\n",
    "numbers = [1, 2, 3, 4, 5, 6, 7, 8, 9, 10]\n",
    "\n",
    "# Filtering even numbers using filter() and the custom function\n",
    "filtered_even_numbers = list(filter(filter_even_numbers, numbers))\n",
    "\n",
    "print(\"Original list:\", numbers)\n",
    "print(\"Filtered even numbers:\", filtered_even_numbers)"
   ]
  },
  {
   "cell_type": "markdown",
   "id": "e907a77d-05f1-43be-af54-2446bb06e6cc",
   "metadata": {},
   "source": [
    "**Explanation:**\n",
    "\n",
    "\"filter_even_numbers(num)\" is a custom function that takes a number num as input and returns True if the number is even (divisible by 2) and False if the number is odd.\n",
    "\n",
    "We are initialising a list containing a sequence of numbers.\n",
    "\n",
    "\"filtered_even_numbers = list(filter(filter_even_numbers, numbers))\" Here, the filter() function is used to filter elements from the numbers list based on the condition defined in filter_even_numbers() function. It creates an iterator containing elements from \"numbers\" for which filter_even_numbers() returns True. The list() function is then used to convert the filtered iterator back into a list.\n",
    "\n",
    "The original list \"numbers\" and the list of filtered even numbers \"filtered_even_numbers\" are printed using print()."
   ]
  },
  {
   "cell_type": "markdown",
   "id": "9c5c3077-4743-44df-8a99-f2bd3c3268a5",
   "metadata": {},
   "source": [
    "**Q2. Write a Python program that uses the `filter()` function to select even numbers from a list of integers.**"
   ]
  },
  {
   "cell_type": "code",
   "execution_count": 7,
   "id": "f708eb99-6662-48dc-994e-7ae0b13caf8d",
   "metadata": {},
   "outputs": [
    {
     "name": "stdout",
     "output_type": "stream",
     "text": [
      "Original list: [1, 2, 3, 4, 5, 6, 7, 8, 9, 10]\n",
      "Filtered even numbers: [2, 4, 6, 8, 10]\n"
     ]
    }
   ],
   "source": [
    "# Custom function to filter even numbers\n",
    "def filter_even_numbers(num):\n",
    "    return num % 2 == 0  # Returns True for even numbers, False for odd numbers\n",
    "\n",
    "# List of numbers\n",
    "numbers = [1, 2, 3, 4, 5, 6, 7, 8, 9, 10]\n",
    "\n",
    "# Filtering even numbers using filter() and the custom function\n",
    "filtered_even_numbers = list(filter(filter_even_numbers, numbers))\n",
    "\n",
    "print(\"Original list:\", numbers)\n",
    "print(\"Filtered even numbers:\", filtered_even_numbers)"
   ]
  },
  {
   "cell_type": "markdown",
   "id": "9fbcb845-587a-43a2-ac58-090d74abbab6",
   "metadata": {},
   "source": [
    "**Explanation:**\n",
    "\n",
    "\"filter_even_numbers(num)\" is a custom function that takes a number num as input and returns True if the number is even (divisible by 2) and False if the number is odd.\n",
    "\n",
    "We are initialising a list containing a sequence of numbers.\n",
    "\n",
    "\"filtered_even_numbers = list(filter(filter_even_numbers, numbers))\" Here, the filter() function is used to filter elements from the numbers list based on the condition defined in filter_even_numbers() function. It creates an iterator containing elements from \"numbers\" for which filter_even_numbers() returns True. The list() function is then used to convert the filtered iterator back into a list.\n",
    "\n",
    "The original list \"numbers\" and the list of filtered even numbers \"filtered_even_numbers\" are printed using print()."
   ]
  },
  {
   "cell_type": "markdown",
   "id": "2240098e-b150-4385-b06b-29e0da471e94",
   "metadata": {},
   "source": [
    "**Q3. Create a Python program that uses the `filter()` function to select names that start with a specific letter from a list of strings.**"
   ]
  },
  {
   "cell_type": "code",
   "execution_count": 12,
   "id": "947727fa-e28c-4510-b3a6-65085093b183",
   "metadata": {},
   "outputs": [
    {
     "name": "stdout",
     "output_type": "stream",
     "text": [
      "Original list of names: ['anmol', 'anand', 'krish', 'sudhanshu', 'ekta', 'pwskills']\n",
      "Names starting with 'P': ['pwskills']\n"
     ]
    }
   ],
   "source": [
    "# Custom function to filter names starting with a specific letter\n",
    "def starts_with_letter(letter, name):\n",
    "    return name.lower().startswith(letter.lower())\n",
    "\n",
    "# List of names\n",
    "names = ['anmol', 'anand', 'krish', 'sudhanshu', 'ekta', 'pwskills']\n",
    "\n",
    "# Specific letter to filter names\n",
    "specific_letter = 'P'\n",
    "\n",
    "# Using filter() to select names starting with the specific letter\n",
    "filtered_names = list(filter(lambda x: starts_with_letter(specific_letter, x), names))\n",
    "\n",
    "print(\"Original list of names:\", names)\n",
    "print(f\"Names starting with '{specific_letter}':\", filtered_names)\n"
   ]
  },
  {
   "cell_type": "markdown",
   "id": "69b71588-4a14-4b6e-9df0-466a86fff798",
   "metadata": {},
   "source": [
    "**Explanation:**\n",
    "\n",
    "\"def starts_with_letter(letter, name)\" is a custom function that takes a letter and a name as input and returns True if the name starts with the specified letter, using the startswith() method of strings.\n",
    "\n",
    "Inside the \"starts_with_letter()\" function we are converting the passed arguements(letter, name) to lowercase using \"lower()\" to handle case-sensitive cases.\n",
    "\n",
    "We are initialisisng a list containing strings representing names.\n",
    "\n",
    "We are defining a variable(specific_letter) that holds the specific letter for which you want to filter the names. In this case, it's set to 'P.\n",
    "\n",
    "\"filtered_names = list(filter(lambda x: starts_with_letter(specific_letter, x), names))\" Here the filter() function is used here with a lambda function. It applies the starts_with_letter() function to each element in the names list. If the name starts with the specified letter, it is included in the resulting iterator, which is then converted into a list.\n",
    "\n",
    "Finally we are printing the result."
   ]
  },
  {
   "cell_type": "markdown",
   "id": "765b850d-429f-4a43-990b-711c6e3e575d",
   "metadata": {},
   "source": [
    "**Q4. Write a Python program that uses the `filter()` function to select prime numbers from a list of integers.**"
   ]
  },
  {
   "cell_type": "code",
   "execution_count": 15,
   "id": "21933fc7-d4dd-488e-b675-b69b97d5ffa8",
   "metadata": {},
   "outputs": [
    {
     "name": "stdout",
     "output_type": "stream",
     "text": [
      "Original list of numbers: [2, 3, 4, 5, 6, 7, 8, 9, 10, 11, 12, 13, 14, 15]\n",
      "Prime numbers from the list: [2, 3, 5, 7, 11, 13]\n"
     ]
    }
   ],
   "source": [
    "# Custom function to check if a number is prime\n",
    "def is_prime(n):\n",
    "    if n <= 1:\n",
    "        return False\n",
    "    if n == 2:\n",
    "        return True\n",
    "    if n%2 == 0:\n",
    "        return False\n",
    "    for i in range(3, int(n**0.5) + 1, 2):\n",
    "        if n % i == 0:\n",
    "            return False\n",
    "    return True\n",
    "\n",
    "# List of integers\n",
    "numbers = [2, 3, 4, 5, 6, 7, 8, 9, 10, 11, 12, 13, 14, 15]\n",
    "\n",
    "# Using filter() to select prime numbers from the list\n",
    "prime_numbers = list(filter(is_prime, numbers))\n",
    "\n",
    "print(\"Original list of numbers:\", numbers)\n",
    "print(\"Prime numbers from the list:\", prime_numbers)\n"
   ]
  },
  {
   "cell_type": "markdown",
   "id": "3b1c0c59-df14-421e-ade4-010e7616ae13",
   "metadata": {},
   "source": [
    "**Explanation:**\n",
    "\n",
    "\"def is_prime(n)\" is a custom function that takes a number n as input and checks whether it's prime or not using a basic prime-checking algorithm. It returns True if the number is prime and False otherwise.\n",
    "\n",
    "In the function \"is_prime(n)\" if \"n\" is less than or equal to 1 then it return False because 2 is the smallest prime number. If n is 2 then it returns True because 2 is the smallest and only even prime number. Other than 2 all even numbers are not prime. For all other numbers(n) we check the divisibility of the number(n) by numbers from 3 upto its squareroot, If the number(n) is divisible by any number in the range then it is not prime.\n",
    "\n",
    "\"numbers\" is a list containing integers [2, 3, 4, 5, 6, 7, 8, 9, 10, 11, 12, 13, 14, 15].\n",
    "\n",
    "\"prime_numbers = list(filter(is_prime, numbers))\" The filter() function applies the is_prime() function to each element in the numbers list. It filters out only the elements for which is_prime() returns True (i.e., the prime numbers) and creates an iterator of these elements, which is then converted into a list.\n",
    "\n",
    "Finally we are printing the result."
   ]
  },
  {
   "cell_type": "markdown",
   "id": "303797e9-7889-4654-905d-29ad6fc2da3b",
   "metadata": {},
   "source": [
    "**Q5. How can you use the `filter()` function to remove None values from a list in Python?**"
   ]
  },
  {
   "cell_type": "code",
   "execution_count": 1,
   "id": "06b0f88e-345e-4847-a6ff-7856e9ba86a5",
   "metadata": {},
   "outputs": [
    {
     "name": "stdout",
     "output_type": "stream",
     "text": [
      "Original list: [1, None, 3, None, 5, None, 7, 8, None, 10]\n",
      "List without None values: [1, 3, 5, 7, 8, 10]\n"
     ]
    }
   ],
   "source": [
    "# List with None values\n",
    "values = [1, None, 3, None, 5, None, 7, 8, None, 10]\n",
    "\n",
    "# Using filter() to remove None values\n",
    "filtered_values = list(filter(lambda x: x is not None, values))\n",
    "\n",
    "print(\"Original list:\", values)\n",
    "print(\"List without None values:\", filtered_values)\n"
   ]
  },
  {
   "cell_type": "markdown",
   "id": "4d3b9063-318a-4972-bb70-4e87f0b06c44",
   "metadata": {},
   "source": [
    "**Explanation:**\n",
    "\n",
    "We are initialising a list containing integers and None values.\n",
    "\n",
    "\"filtered_values = list(filter(lambda x: x is not None, values))\" Here the filter() function applies a lambda function to each element in the values list. \n",
    "\n",
    "The lambda function checks if the element is not equal to None (x is not None). It filters out the elements for which the lambda function returns False (i.e., the None values are removed) and creates an iterator of the remaining elements, which is then converted into a list.\n",
    "\n",
    "Finally we are printing the result."
   ]
  },
  {
   "cell_type": "markdown",
   "id": "59f2afb1-35c4-4814-91ba-1ec4409eeea5",
   "metadata": {},
   "source": [
    "**Q6. Create a Python program that uses `filter()` to select words longer than a certain length from a list of strings.**"
   ]
  },
  {
   "cell_type": "code",
   "execution_count": 2,
   "id": "8d732cd1-34e1-4d20-9f00-46f9881d4637",
   "metadata": {},
   "outputs": [
    {
     "name": "stdout",
     "output_type": "stream",
     "text": [
      "Original list of words: ['apple', 'banana', 'orange', 'grape', 'kiwi', 'melon']\n",
      "Words longer than 5 characters: ['banana', 'orange']\n"
     ]
    }
   ],
   "source": [
    "# List of strings (words)\n",
    "word_list = ['apple', 'banana', 'orange', 'grape', 'kiwi', 'melon']\n",
    "\n",
    "# Length threshold for filtering\n",
    "length_threshold = 5\n",
    "\n",
    "# Using filter() to select words longer than the specified length\n",
    "filtered_words = list(filter(lambda x: len(x) > length_threshold, word_list))\n",
    "\n",
    "print(\"Original list of words:\", word_list)\n",
    "print(f\"Words longer than {length_threshold} characters:\", filtered_words)\n"
   ]
  },
  {
   "cell_type": "markdown",
   "id": "79ad843b-fb08-4ccc-bafd-b983adcf99fd",
   "metadata": {},
   "source": [
    "**Explanation:**\n",
    "\n",
    "We are initialising a list containing strings representing words.\n",
    "\n",
    "We are also initialising variable(length_threshold) that holds the specific length threshold. In this case, it's set to 5.\n",
    "\n",
    "\"filtered_words = list(filter(lambda x: len(x) > length_threshold, word_list))\" Here the filter() function applies a lambda function to each element in the word_list. \n",
    "\n",
    "The lambda function checks if the length of each word (len(x)) is greater than the specified length_threshold. It filters out the words for which the lambda function returns True (i.e., words longer than the specified length) and creates an iterator of these elements, which is then converted into a list.\n",
    "\n",
    "Finally we are printing the result."
   ]
  },
  {
   "cell_type": "markdown",
   "id": "a973e027-233b-4a9e-929e-07b4849c7f82",
   "metadata": {},
   "source": [
    "**Q7. Write a Python program that uses the `filter()` function to select elements greater than a specified threshold from a list of values.**"
   ]
  },
  {
   "cell_type": "code",
   "execution_count": 3,
   "id": "3707aabe-a45a-4da3-8770-13107ebce70c",
   "metadata": {},
   "outputs": [
    {
     "name": "stdout",
     "output_type": "stream",
     "text": [
      "Original list of values: [10, 20, 30, 40, 50, 60, 70, 80]\n",
      "Values greater than 40: [50, 60, 70, 80]\n"
     ]
    }
   ],
   "source": [
    "# List of values\n",
    "values = [10, 20, 30, 40, 50, 60, 70, 80]\n",
    "\n",
    "# Threshold for filtering\n",
    "threshold = 40\n",
    "\n",
    "# Using filter() to select elements greater than the specified threshold\n",
    "filtered_values = list(filter(lambda x: x > threshold, values))\n",
    "\n",
    "print(\"Original list of values:\", values)\n",
    "print(f\"Values greater than {threshold}:\", filtered_values)\n"
   ]
  },
  {
   "cell_type": "markdown",
   "id": "b9946e63-4854-4cb2-bbc5-7efc914f889f",
   "metadata": {},
   "source": [
    "**Explanation:**\n",
    "\n",
    "We are initialising a list containing numerical values.\n",
    "\n",
    "We are also initialising variable(threshold) that holds the specific threshold value. In this case, it's set to 40.\n",
    "\n",
    "\"filtered_values = list(filter(lambda x: x > threshold, values))\" Here the filter() function applies a lambda function to each element in the values list. \n",
    "\n",
    "The lambda function checks if each element is greater than the specified threshold. It filters out the elements for which the lambda function returns True (i.e., values greater than the specified threshold) and creates an iterator of these elements, which is then converted into a list.\n",
    "\n",
    "Finally we are printing the result."
   ]
  },
  {
   "cell_type": "markdown",
   "id": "42ec0652-4609-40f3-8764-00a7a1b1eee9",
   "metadata": {},
   "source": [
    "# Recursion:-"
   ]
  },
  {
   "cell_type": "markdown",
   "id": "ad3afb8d-bd5e-4049-8e96-946cca74d27a",
   "metadata": {},
   "source": [
    "**Q1. Explain the concept of recursion in Python. How does it differ from iteration?**"
   ]
  },
  {
   "cell_type": "markdown",
   "id": "dd5ef2cc-633b-4559-874d-0a17e89f544c",
   "metadata": {},
   "source": [
    "Recursion and iteration are both techniques used for repetitive execution in programming, but they achieve this in different ways.\n",
    "\n",
    "1. Recursion in Python:\n",
    "\n",
    "Recursion is a programming technique where a function calls itself directly or indirectly to solve a problem. In simpler terms, it is the process of solving a larger problem by breaking it down into smaller, simpler instances of the same problem until it reaches a base case that can be solved directly. Recursive functions have two main components:\n",
    "\n",
    "Base Case: It is the condition where the function stops calling itself. When the base case is reached, the recursion ends, and the function returns a value.\n",
    "\n",
    "Recursive Step: It is the step where the function calls itself with a smaller instance of the problem to solve. This continues until the base case is reached.\n",
    "\n",
    "Example of a recursive function to calculate the factorial of a number:"
   ]
  },
  {
   "cell_type": "code",
   "execution_count": 5,
   "id": "e0d65bef-5768-4b2e-8075-f01d5eea515a",
   "metadata": {},
   "outputs": [
    {
     "name": "stdout",
     "output_type": "stream",
     "text": [
      "The factorial of 6 is:  720\n"
     ]
    }
   ],
   "source": [
    "def factorial(n):\n",
    "    if n == 0 or n == 1:  # Base case\n",
    "        return 1\n",
    "    else:\n",
    "        return n * factorial(n - 1)  # Recursive step\n",
    "\n",
    "print(\"The factorial of 6 is: \",factorial(6))"
   ]
  },
  {
   "cell_type": "markdown",
   "id": "1c510e6e-80a2-4f87-b694-987e7d7a085c",
   "metadata": {},
   "source": [
    "2. Iteration in Python:\n",
    "\n",
    "Iteration is the repetition of a set of instructions, a specified number of times or until a condition is met using loops (e.g., for loop, while loop). It involves executing a block of code repeatedly based on a condition, updating the variables in each iteration until the condition becomes false or the specified number of iterations is reached.\n",
    "\n",
    "Example of iterative factorial calculation using a for loop:"
   ]
  },
  {
   "cell_type": "code",
   "execution_count": 6,
   "id": "c702c026-0f07-4acb-9bb3-3b7f02a5f048",
   "metadata": {},
   "outputs": [
    {
     "name": "stdout",
     "output_type": "stream",
     "text": [
      "The factorial of 6 is:  720\n"
     ]
    }
   ],
   "source": [
    "def iterative_factorial(n):\n",
    "    result = 1\n",
    "    for i in range(1, n + 1):\n",
    "        result *= i\n",
    "    return result\n",
    "\n",
    "print(\"The factorial of 6 is: \",iterative_factorial(6))"
   ]
  },
  {
   "cell_type": "markdown",
   "id": "d8934eac-3dac-434e-904b-2c79092d286a",
   "metadata": {},
   "source": [
    "Differences between Recursion and Iteration:\n",
    "\n",
    "1. Recursion uses function calls to solve problems by breaking them down into smaller instances, while iteration uses loops to execute a block of code repeatedly.\n",
    "\n",
    "2. Recursive solutions can consume more memory due to the overhead of function calls, whereas iterative solutions generally consume less memory.\n",
    "\n",
    "3. Recursion can be more elegant and intuitive for certain problems, but it might be harder to understand for beginners compared to iteration.\n",
    "\n",
    "4. In some cases, recursion can be less efficient due to the overhead of function calls, while iterative solutions might perform better."
   ]
  },
  {
   "cell_type": "markdown",
   "id": "061cf5e6-5d5f-46b6-a5eb-4f4b31f32f4e",
   "metadata": {},
   "source": [
    "**Q2. Write a Python program to calculate the factorial of a number using recursion.**"
   ]
  },
  {
   "cell_type": "code",
   "execution_count": 7,
   "id": "d981106c-e144-45a7-aac2-d45ac3db2851",
   "metadata": {},
   "outputs": [
    {
     "name": "stdin",
     "output_type": "stream",
     "text": [
      "Enter the number: 6\n"
     ]
    },
    {
     "name": "stdout",
     "output_type": "stream",
     "text": [
      "The factorial of 6 is:  720\n"
     ]
    }
   ],
   "source": [
    "def factorial(n):\n",
    "    if n == 0 or n == 1:  # Base case\n",
    "        return 1\n",
    "    else:\n",
    "        return n * factorial(n - 1)  # Recursive step\n",
    "\n",
    "num=int(input(\"Enter the number:\"))    \n",
    "    \n",
    "print(\"The factorial of 6 is: \",factorial(num))"
   ]
  },
  {
   "cell_type": "markdown",
   "id": "ea56e70d-4bb3-45ec-ba44-9e881523f1a6",
   "metadata": {},
   "source": [
    "**Explanation:**\n",
    "\n",
    "The \"factorial()\" function takes an argument n, representing the number for which the factorial needs to be calculated.\n",
    "\n",
    "In the function, we use conditional statement (if-else) to handle the base case.\n",
    "\n",
    "If n is equal to 0 or 1, it means we've reached the base case for calculating the factorial. In this case, the function returns 1, as the factorial of 0 and 1 is 1.\n",
    "\n",
    "If the input n is greater than 1, the else block is executed.\n",
    "\n",
    "It calculates the factorial by multiplying n with the factorial of (n - 1). This is the recursive step where the function calls itself with a smaller value (n - 1), moving closer to the base case.\n",
    "\n",
    "We are asking the user to enter the number to calculate the factorial for.\n",
    "\n",
    "Finally we are calling the function and printing the result."
   ]
  },
  {
   "cell_type": "markdown",
   "id": "06866969-870d-4a43-ab74-b2a6e15859b6",
   "metadata": {},
   "source": [
    "**Q3. Create a recursive Python function to find the nth Fibonacci number.**"
   ]
  },
  {
   "cell_type": "code",
   "execution_count": 15,
   "id": "62d18997-de6b-4fc5-9ebb-314eed6d915a",
   "metadata": {},
   "outputs": [
    {
     "name": "stdin",
     "output_type": "stream",
     "text": [
      "Enter the number: 5\n"
     ]
    },
    {
     "name": "stdout",
     "output_type": "stream",
     "text": [
      "The 5th term of Fibonacci number is: 3\n"
     ]
    }
   ],
   "source": [
    "def fibonacci(n):\n",
    "    if n <= 0:\n",
    "        return \"Invalid input. Please enter a positive integer for n.\"\n",
    "    elif n == 1:\n",
    "        return 0  # First Fibonacci number is 0\n",
    "    elif n == 2:\n",
    "        return 1  # Second Fibonacci number is 1\n",
    "    else:\n",
    "        return fibonacci(n - 1) + fibonacci(n - 2)\n",
    "    \n",
    "num=int(input(\"Enter the number:\"))    \n",
    "\n",
    "# fib=fibonacci(num)\n",
    "\n",
    "print(\"The {}th term of Fibonacci number is: {}\".format(num,fibonacci(num)))"
   ]
  },
  {
   "cell_type": "markdown",
   "id": "7517e821-e72f-4dfe-b5a0-47243a0f5f27",
   "metadata": {},
   "source": [
    "**Explanation:**\n",
    "\n",
    "The fibonacci() function takes an argument n, representing the position of the desired Fibonacci number in the sequence.\n",
    "\n",
    "In the function, The first if condition checks if the input n is less than or equal to 0, indicating an invalid input. It returns a message prompting the user to enter a positive integer.\n",
    "\n",
    "The next elif conditions handle the base cases, If n is 1, the function returns 0 because the first Fibonacci number is 0. If n is 2, the function returns 1 because the second Fibonacci number is 1.\n",
    "\n",
    "The else block handles the recursive step, For values of n greater than 2, the function recursively calls itself with (n - 1) and (n - 2) to calculate the nth Fibonacci number by summing the (n-1)th and (n-2)th Fibonacci numbers.\n",
    "\n",
    "We are asking the user to enter the number to calculate the fibonacci number for.\n",
    "\n",
    "Finally we are calling the function and printing the result."
   ]
  },
  {
   "cell_type": "markdown",
   "id": "77c83725-670a-485f-8089-edf0de5651f2",
   "metadata": {},
   "source": [
    "**Q4. Write a recursive Python function to calculate the sum of all elements in a list.**"
   ]
  },
  {
   "cell_type": "code",
   "execution_count": 16,
   "id": "78075412-d6ba-4a42-a09c-47ccf67378d4",
   "metadata": {},
   "outputs": [
    {
     "name": "stdout",
     "output_type": "stream",
     "text": [
      "The sum of elements in the list is: 15\n"
     ]
    }
   ],
   "source": [
    "def recursive_sum(arr):\n",
    "    if not arr:  # Base case: If the list is empty, return 0\n",
    "        return 0\n",
    "    else:\n",
    "        return arr[0] + recursive_sum(arr[1:])  # Add the first element to the sum of the rest\n",
    "\n",
    "# Example list\n",
    "my_list = [1, 2, 3, 4, 5]\n",
    "\n",
    "# Calculate the sum of elements in the list using the recursive function\n",
    "result = recursive_sum(my_list)\n",
    "print(\"The sum of elements in the list is:\", result)"
   ]
  },
  {
   "cell_type": "markdown",
   "id": "25bb583b-b680-4b42-82d2-e5a1321ebca4",
   "metadata": {},
   "source": [
    "**Explanation:**\n",
    "\n",
    "\"recursive_sum()\" is a recursive function that takes a list (arr) as input and recursively calculates the sum of the elements of the list elements.\n",
    "\n",
    "In the function, The base case checks if the list arr is empty (\"if not arr:\"). If the list is empty, it returns 0 (as the sum of an empty list is 0).\n",
    "\n",
    "Otherwise, in the recursive step, It adds the first element of the list arr[0] to the sum of the rest of the elements obtained by recursively calling recursive_sum() on the sublist arr[1:]. This process continues until the base case is reached.\n",
    "\n",
    "We are initialising a list containing numerical values.\n",
    "\n",
    "Finally we are printing the result."
   ]
  },
  {
   "cell_type": "markdown",
   "id": "43483194-9f98-40b8-8c3f-d4df03ee2570",
   "metadata": {},
   "source": [
    "**Q5. How can you prevent a recursive function from running indefinitely, causing a stack overflow error?**"
   ]
  },
  {
   "cell_type": "markdown",
   "id": "58b5b5be-bbe6-4e82-856c-8568af54f386",
   "metadata": {},
   "source": [
    "To prevent a recursive function from running indefinitely and causing a stack overflow error, we can implement certain strategies or techniques:\n",
    "\n",
    "1. Ensure that the recursive function has a well-defined base case. A base case is a condition that stops the recursion by returning a specific value without making further recursive calls. It's essential to ensure that the base case is reached eventually to terminate the recursion.\n",
    "\n",
    "2. Each recursive call should bring the problem closer to the base case. If the parameters passed to the recursive function remain unchanged or don't approach the base case, it might lead to infinite recursion.\n",
    "\n",
    "3. Sometimes, limiting the depth of recursion by incorporating a maximum recursion depth check can prevent excessive recursion. We can use a counter or a depth parameter that decrements with each recursive call and aborts when it reaches a specified threshold.\n",
    "\n",
    "4. Validate the input to the recursive function to prevent it from being called with invalid or inappropriate input that might lead to endless recursion.\n",
    "\n",
    "Here's an example demonstrating these strategies:"
   ]
  },
  {
   "cell_type": "code",
   "execution_count": 20,
   "id": "ccffe4db-f0e8-4fa4-b6c9-8cb524c6b791",
   "metadata": {},
   "outputs": [
    {
     "name": "stdout",
     "output_type": "stream",
     "text": [
      "The sum of elements in the list is: 15\n"
     ]
    }
   ],
   "source": [
    "def recursive_sum(arr, depth=0, max_depth=100):\n",
    "    if depth > max_depth:\n",
    "        raise RecursionError(\"Exceeded maximum recursion depth\")\n",
    "    \n",
    "    if not arr:  # Base case: If the list is empty, return 0\n",
    "        return 0\n",
    "    else:\n",
    "        return arr[0] + recursive_sum(arr[1:], depth + 1, max_depth)  # Add the first element to the sum of the rest\n",
    "\n",
    "# Example list\n",
    "my_list = [1, 2, 3, 4, 5]\n",
    "\n",
    "try:\n",
    "    result = recursive_sum(my_list)\n",
    "    print(\"The sum of elements in the list is:\", result)\n",
    "except RecursionError as e:\n",
    "    print(\"Recursion Error:\", e)\n"
   ]
  },
  {
   "cell_type": "markdown",
   "id": "13bc8342-c10e-4762-bc48-ef65ecc83f5b",
   "metadata": {},
   "source": [
    "**Explanation:**\n",
    "\n",
    "\"recursive_sum()\" is a recursive function that takes a list (arr) as input and recursively calculates the sum of the elements of the list elements.\n",
    "\n",
    "\"recursive_sum()\" function has an additional depth parameter and a max_depth parameter. It limits the maximum depth of recursion to prevent excessive recursion.\n",
    "\n",
    "If the recursion exceeds the specified max_depth, it raises a \"RecursionError\".\n",
    "\n",
    "We have handled the \"RecursionError\" to prevent the script from crashing in case of excessive recursion.\n",
    "\n",
    "In the function, The base case checks if the list arr is empty (\"if not arr:\"). If the list is empty, it returns 0 (as the sum of an empty list is 0).\n",
    "\n",
    "Otherwise, in the recursive step, It adds the first element of the list arr[0] to the sum of the rest of the elements obtained by recursively calling recursive_sum() on the sublist arr[1:]. This process continues until the base case is reached.\n",
    "\n",
    "We are initialising a list containing numerical values.\n",
    "\n",
    "Finally we are printing the result."
   ]
  },
  {
   "cell_type": "markdown",
   "id": "abec1831-5b37-4733-8f6a-2c07338c6296",
   "metadata": {},
   "source": [
    "**Q6. Create a recursive Python function to find the greatest common divisor (GCD) of two numbers using the Euclidean algorithm.**"
   ]
  },
  {
   "cell_type": "code",
   "execution_count": 21,
   "id": "181c49cb-ee3c-4bc7-b64b-2d6934a3797f",
   "metadata": {},
   "outputs": [
    {
     "name": "stdout",
     "output_type": "stream",
     "text": [
      "The GCD of 48 and 18 is: 6\n"
     ]
    }
   ],
   "source": [
    "def gcd(a, b):\n",
    "    if b == 0:\n",
    "        return a  # Base case: When b becomes 0, a is the GCD\n",
    "    else:\n",
    "        return gcd(b, a % b)  # Recursive step: Replace a with b, and b with remainder of a divided by b\n",
    "\n",
    "# Example numbers\n",
    "num1 = 48\n",
    "num2 = 18\n",
    "\n",
    "# Calculate the GCD of num1 and num2 using the recursive function\n",
    "result = gcd(num1, num2)\n",
    "print(f\"The GCD of {num1} and {num2} is:\", result)"
   ]
  },
  {
   "cell_type": "markdown",
   "id": "b1a9ee6b-34af-41e7-b49a-ff5bff65771b",
   "metadata": {},
   "source": [
    "**Explanation:**\n",
    "\n",
    "The gcd() function takes two arguments a and b, representing the two numbers for which the GCD needs to be found.\n",
    "\n",
    "In the function, the base case checks if b is equal to 0. If b is 0, it means that a is the GCD, so the function returns a.\n",
    "\n",
    "Otherwise, in the recursive step, the function calls itself recursively with b and the remainder of a divided by b (a % b). This replaces a with b and b with the remainder, and the function continues until the base case is reached.\n",
    "\n",
    "We have initialised the two numbers to calculate the GCD.\n",
    "\n",
    "Finally we are calling the function and printing the result."
   ]
  },
  {
   "cell_type": "markdown",
   "id": "702b1cdd-bdd3-4165-bb0a-cc678ee19c26",
   "metadata": {},
   "source": [
    "**Q7. Write a recursive Python function to reverse a string.**"
   ]
  },
  {
   "cell_type": "code",
   "execution_count": 23,
   "id": "950cf369-354c-4c4e-a27f-e42da727ced6",
   "metadata": {},
   "outputs": [
    {
     "name": "stdout",
     "output_type": "stream",
     "text": [
      "Original string: Hello, World!\n",
      "Reversed string: !dlroW ,olleH\n"
     ]
    }
   ],
   "source": [
    "def reverse_string(s):\n",
    "    if len(s) <= 1:  # Base case: If the string length is 0 or 1, return the string as it is\n",
    "        return s\n",
    "    else:\n",
    "        return reverse_string(s[1:]) + s[0]  # Recursive step: Reverse the rest of the string and append the first character\n",
    "\n",
    "# Example string\n",
    "my_string = \"Hello, World!\"\n",
    "\n",
    "# Reverse the string using the recursive function\n",
    "reversed_str = reverse_string(my_string)\n",
    "print(\"Original string:\", my_string)\n",
    "print(\"Reversed string:\", reversed_str)\n"
   ]
  },
  {
   "cell_type": "markdown",
   "id": "9faf3a9b-260d-49b6-8d6f-e219a45f9c68",
   "metadata": {},
   "source": [
    "**Explanation:**\n",
    "\n",
    "The \"reverse_string()\" function takes a string s an arguement.\n",
    "\n",
    "In the function, the base case checks if the length of the string s is 0 or 1. If it is, it means the string is either empty or has only one character, so it returns the string as it is.\n",
    "\n",
    "Otherwise, in the recursive step, the function calls itself recursively with the substring s[1:] (excluding the first character) and concatenates the result with the first character s[0]. This effectively reverses the string by appending the first character at the end after reversing the rest of the string.\n",
    "\n",
    "We have initialised the string to be reversed.\n",
    "\n",
    "Finally we are calling the function and printing the result."
   ]
  },
  {
   "cell_type": "markdown",
   "id": "17e450c3-8dd0-4403-b7f9-d8984e992d21",
   "metadata": {},
   "source": [
    "**Q8. Create a recursive Python function to calculate the power of a number (x^n).**"
   ]
  },
  {
   "cell_type": "code",
   "execution_count": 26,
   "id": "d84c98ff-e7e5-4776-911d-a6619e08cbb7",
   "metadata": {},
   "outputs": [
    {
     "name": "stdout",
     "output_type": "stream",
     "text": [
      "2 raised to the power of 5 is: 32\n"
     ]
    }
   ],
   "source": [
    "def power(x, n):\n",
    "    if n == 0:\n",
    "        return 1  # Any number raised to the power of 0 is 1 (base case)\n",
    "    elif n < 0:\n",
    "        return 1 / power(x, -n)  # If n is negative, calculate reciprocal of positive power\n",
    "    else:\n",
    "        return x * power(x, n - 1)  # Recursive step: x^n = x * x^(n-1)\n",
    "\n",
    "# Example numbers\n",
    "base = 2\n",
    "exponent = 5\n",
    "\n",
    "# Calculate the power using the recursive function\n",
    "result = power(base, exponent)\n",
    "print(f\"{base} raised to the power of {exponent} is:\", result)\n"
   ]
  },
  {
   "cell_type": "markdown",
   "id": "40653b47-a0af-46ba-bcff-d8d20febe509",
   "metadata": {},
   "source": [
    "**Explanation:**\n",
    "\n",
    "The power() function takes two arguments x (the base) and n (the exponent).\n",
    "\n",
    "In the function, the base case checks if n is 0. If n is 0, it returns 1 because any number raised to the power of 0 is 1.\n",
    "\n",
    "If n is negative (n < 0), it uses recursion to calculate the reciprocal of the positive power. For instance, x^(-n) is equivalent to 1 / x^n.\n",
    "\n",
    "Otherwise, in the recursive step, the function calls itself recursively with x and n - 1, multiplying x with the result of power(x, n - 1). This continues until n reaches 0 (base case).\n",
    "\n",
    "We have initialised the two numbers(Base and Exponent).\n",
    "\n",
    "Finally we are calling the function and printing the result."
   ]
  },
  {
   "cell_type": "markdown",
   "id": "b39f9760-126e-4fd8-908b-50484f4a35e6",
   "metadata": {},
   "source": [
    "**Q9. Write a recursive Python function to find all permutations of a given string.**"
   ]
  },
  {
   "cell_type": "code",
   "execution_count": 48,
   "id": "e57d69f6-e44a-4776-9d1d-5bbc074c8299",
   "metadata": {},
   "outputs": [
    {
     "name": "stdin",
     "output_type": "stream",
     "text": [
      "Enter a string:  ABC\n"
     ]
    },
    {
     "name": "stdout",
     "output_type": "stream",
     "text": [
      "Original string: ABC\n",
      "The permutations of the string 'ABC' are:\n",
      "['ABC', 'ACB', 'BAC', 'BCA', 'CBA', 'CAB']\n"
     ]
    }
   ],
   "source": [
    "def string_permutation(s,res,ind):\n",
    "    if ind>=len(s):  # Base case: If the current index is more than or equal to length of string.\n",
    "        # print(\"\".join(s))\n",
    "        temp=\"\".join(s)\n",
    "        return res+\" \"+temp\n",
    "    else:\n",
    "        for i in range(ind,len(s)):\n",
    "            s[ind],s[i]=s[i],s[ind] #Swap the characters\n",
    "            res=string_permutation(s,res,ind+1)  # Call the Recursive function\n",
    "            s[ind],s[i]=s[i],s[ind] #Backtracking\n",
    "        return res\n",
    "            \n",
    "# Taking string as imput from the user\n",
    "my_string = input(\"Enter a string: \").strip()\n",
    "my_=list(my_string)\n",
    "res=\"\"\n",
    "\n",
    "# Find the permutations of the string using the recursive function\n",
    "if len(my_)>0:\n",
    "    print(\"Original string:\", my_string)\n",
    "    print(\"The permutations of the string '{}' are:\".format(my_string))\n",
    "    result = string_permutation(my_,res,0)\n",
    "    print(result.split())\n",
    "else:\n",
    "    print(\"You have entered an empty string.\")"
   ]
  },
  {
   "cell_type": "markdown",
   "id": "061105c6-66a6-47de-adff-8ae0ae12865e",
   "metadata": {},
   "source": [
    "**Explanation:**\n",
    "\n",
    "Function \"string_permutation(s, res, ind)\" accepts three arguements, \"s\" the string to find permutations of (passed as a list), \"ind\" the index to track the progress of generating permutations and \"res\" an empty string that will store the permutations of the string.\n",
    "\n",
    "The function \"string_permutation(s, ind)\" first checks if ind (the index) is greater than or equal to the length of the string s. If so, it concatenate the string formed by joining the characters in s to the \"res\". Here \"s\" represents a single permutation of the string.\n",
    "\n",
    "If the base case is not met, it enters an else block, it iterates through the string starting from the given index \"ind\".\n",
    "During each iteration, it swaps the characters at indices ind and i in the string s. This is done to generate different permutations.\n",
    "\n",
    "The function \"string_permutation(s, res, ind)\" recursively calls itself by incrementing the index (ind+1) to generate permutations of the modified string.\n",
    "\n",
    "After the recursive call returns, it backtracks by swapping the characters back to their original positions to explore other possibilities.\n",
    "\n",
    "The code prompts the user to input a string (my_string) and strips any leading/trailing spaces.\n",
    "\n",
    "Then the code Converts the input string (my_string) into a list of characters (my_).\n",
    "\n",
    "The code also initialises an empty string that will store all the permuattions of the given string. \n",
    "\n",
    "Then the code Checks if the length of the input string is greater than 0. If it is, then the code calls the function \"string_permutation(s, res, ind)\" to print the permutations of the string. Else, it prints the message say that, the entered string is empty."
   ]
  },
  {
   "cell_type": "markdown",
   "id": "17d0c08c-85e1-4529-a709-fe7545c820d9",
   "metadata": {},
   "source": [
    "**Q10. Write a recursive Python function to check if a string is a palindrome.**"
   ]
  },
  {
   "cell_type": "code",
   "execution_count": 20,
   "id": "e01ab961-6f3a-4785-8745-6ea84a4ced4e",
   "metadata": {},
   "outputs": [
    {
     "name": "stdin",
     "output_type": "stream",
     "text": [
      "Enter a string:  Kayak\n"
     ]
    },
    {
     "name": "stdout",
     "output_type": "stream",
     "text": [
      "The string 'Kayak' is not a palindrome.\n"
     ]
    }
   ],
   "source": [
    "def is_palindrome(s):\n",
    "    # Base case: If the string is empty or has only one character, it's a palindrome\n",
    "    if len(s) <= 1:\n",
    "        return True\n",
    "    else:\n",
    "        # Check if the first and last characters are the same\n",
    "        if s[0] == s[-1]:\n",
    "            # Recursively check the substring excluding the first and last characters\n",
    "            return is_palindrome(s[1:-1])\n",
    "        else:\n",
    "            return False\n",
    "\n",
    "# Example usage:\n",
    "input_string = input(\"Enter a string: \").strip()\n",
    "if is_palindrome(input_string):\n",
    "    print(f\"The string '{input_string}' is a palindrome.\")\n",
    "else:\n",
    "    print(f\"The string '{input_string}' is not a palindrome.\")\n"
   ]
  },
  {
   "cell_type": "markdown",
   "id": "d7b997ec-cc83-4b50-928a-949d0c4b07ad",
   "metadata": {},
   "source": [
    "**Explanation:**\n",
    "\n",
    "The function \"is_palindrome\" takes a string \"s\" as arguement. If the length of the string is less than or equal to 1 (i.e., an empty string or a string with only one character), it directly returns True because a single character or an empty string is considered a palindrome.\n",
    "\n",
    "Otherwise, it checks if the first and last characters of the string are the same.\n",
    "\n",
    "If they are the same, it recursively calls itself with the substring that excludes the first and last characters (s[1:-1]).\n",
    "\n",
    "If they are not the same, it returns False as the string cannot be a palindrome.\n",
    "\n",
    "The code asks the used to enter the string.\n",
    "\n",
    "Then we call the function \"is_palindrome\" and store the result.\n",
    "\n",
    "Using if-else condition we are printing the output."
   ]
  },
  {
   "cell_type": "markdown",
   "id": "eaf14872-58ff-4490-bb71-7fb83e1133f8",
   "metadata": {},
   "source": [
    "**Q11. Create a recursive Python function to generate all possible combinations of a list of elements.**"
   ]
  },
  {
   "cell_type": "code",
   "execution_count": 52,
   "id": "e2f986b1-7095-4cbf-8729-6ffbce47d6be",
   "metadata": {},
   "outputs": [
    {
     "name": "stdout",
     "output_type": "stream",
     "text": [
      "Original List: [1, 2, 9, 3]\n",
      "The permutations of the string '[1, 2, 4]' are:\n",
      "[[1, 2, 4], [1, 4, 2], [2, 1, 4], [2, 4, 1], [4, 2, 1], [4, 1, 2]]\n"
     ]
    }
   ],
   "source": [
    "def list_permutation(s,res,ind):\n",
    "    if ind>=len(s):  # Base case: If the current index is more than or equal to length of list.\n",
    "        a=0\n",
    "        res.append(s.copy())\n",
    "    else:\n",
    "        for i in range(ind,len(s)):\n",
    "            s[ind],s[i]=s[i],s[ind] #Swap the elements \n",
    "            list_permutation(s,res,ind+1)  # Call the Recursive function\n",
    "            s[ind],s[i]=s[i],s[ind] #Backtracking\n",
    "            \n",
    "# Initialising the list\n",
    "my_lst = [1,2,4]\n",
    "res=[]\n",
    "\n",
    "# Find the permutations of the list using the recursive function\n",
    "print(\"Original List:\", my_lst_)\n",
    "print(\"The permutations of the string '{}' are:\".format(my_lst))\n",
    "list_permutation(my_lst,res,0)\n",
    "print(res)\n"
   ]
  },
  {
   "cell_type": "markdown",
   "id": "89034d67-9f49-4f21-bd25-66e7fccab225",
   "metadata": {},
   "source": [
    "**Explantion:**\n",
    "\n",
    "\"list_permutation(s,res,ind)\" function generates permutations of the input list s. It takes three parameters: s (the input list), res (a list to store permutations), and ind (the current index for permutation). It uses backtracking and recursive techniques to find all permutations of the given list.\n",
    "\n",
    "\"if ind >= len(s)\" Defines the base case of the recursion, it checks if the current index ind is greater than or equal to the length of the list s. If so, it means that the function has reached the end of the list and should append a copy of the current list s to the res list.\n",
    "\n",
    "\"copy()\" is used because, a list is passed by reference inside the function, so it is important to store it's copy in the final result.\n",
    "\n",
    "Inside the \"else\" block, the function uses a loop starting from the \"ind\" index to the length of the list to generate permutations. Inside the loop, it swaps elements at index \"ind\" with the elements at index \"i\" to generate different permutations. Then, \"list_permutation(s,res,ind)\" calls itself recursively by incrementing the ind to move to the next index for permutation.\n",
    "\n",
    "After the recursive call returns, the code performs backtracking by swapping the elements back to their original positions. This step is crucial to backtrack and explore other permutations.\n",
    "\n",
    "The code initializes an input list my_lst = [1, 2, 3] and an empty list res to store permutations.\n",
    "\n",
    "The code then calls the list_permutation() function with the initial parameters (my_lst, res, 0), where 0 is the starting index for permutation.\n",
    "\n",
    "Finally, it prints the original list and the generated permutations stored in the \"res\" list."
   ]
  },
  {
   "cell_type": "markdown",
   "id": "50d1caf2-2b53-41d5-b871-c6e2847e9c83",
   "metadata": {},
   "source": [
    "# Basics of Functions:"
   ]
  },
  {
   "cell_type": "markdown",
   "id": "57c2be4b-7e03-4fd7-a6c3-d444d05326c1",
   "metadata": {},
   "source": [
    "**Q1. What is a function in Python, and why is it used?**"
   ]
  },
  {
   "cell_type": "markdown",
   "id": "5f11d54c-81f6-4e0f-b338-b55e4d1cac02",
   "metadata": {},
   "source": [
    "In Python, a function is a block of reusable code that performs a specific task or a set of tasks. Functions in Python are defined using the def keyword, followed by the function name, parameters (if any), and a block of code with the functionality that the function performs. Functions can return values using the return statement.\n",
    "\n",
    "Functions are used for several reasons:\n",
    "\n",
    "1. Functions allow us to break down a complex problem into smaller, manageable parts. Once defined, a function can be called multiple times from different parts of the program, promoting code reusability and making the code more modular and maintainable.\n",
    "\n",
    "2. Functions allow us to encapsulate complex operations behind a simple interface. This abstraction hides the implementation details from the calling code, making it easier to use and understand.\n",
    "\n",
    "3. By dividing the code into smaller functions, it becomes easier to navigate and maintain large codebases. \n",
    "\n",
    "4. Functions can accept parameters, allowing them to work with different inputs. Parameters make functions more flexible, enabling the same function to perform similar tasks with different values.\n",
    "\n",
    "5. Functions help in improving code readability by giving meaningful names to blocks of code, making it easier for other developers to understand the purpose of each part of the program. Also, using functions can simplify the debugging process by isolating specific sections of code for testing and troubleshooting."
   ]
  },
  {
   "cell_type": "markdown",
   "id": "bb179415-3246-446e-a5a8-37a693466c22",
   "metadata": {},
   "source": [
    "**Q2. How do you define a function in Python? Provide an example.**"
   ]
  },
  {
   "cell_type": "markdown",
   "id": "9ba5b91f-6af4-4e23-adb0-80ef4244e440",
   "metadata": {},
   "source": [
    "In Python, you can define a function using the def keyword followed by the function name, parameters (if any), and a block of code that defines the functionality of the function. Here's the general syntax:\n",
    "\n",
    "def function_name(parameter1, parameter2, ...):\n",
    "    # Function body (code block)\n",
    "    # Perform operations\n",
    "    # Optionally, return a value using the 'return' statement\n",
    "\n",
    "Below is an example of defining a simple function that greets people with their name:"
   ]
  },
  {
   "cell_type": "code",
   "execution_count": 58,
   "id": "0e612cc2-e5bf-429d-b1cd-a1cd92759007",
   "metadata": {},
   "outputs": [
    {
     "name": "stdout",
     "output_type": "stream",
     "text": [
      "Hello, Anmol!\n",
      "This function greets the user.\n"
     ]
    }
   ],
   "source": [
    "def greet(user):\n",
    "    \"\"\"This function greets the user.\"\"\"\n",
    "    print(f\"Hello, {user}!\")\n",
    "\n",
    "# Calling the function\n",
    "greet(\"Anmol\")  \n",
    "print(greet.__doc__)"
   ]
  },
  {
   "cell_type": "raw",
   "id": "59a935ab-0da2-424d-bcf3-9b23b3730d5f",
   "metadata": {},
   "source": [
    "Explanation:\n",
    "\n",
    "In the above example:\n",
    "\n",
    "\"def\" is Keyword used to define a function.\n",
    "\n",
    "\"greet\": is name of the function.\n",
    "\n",
    "\"(user)\" is parameter that the function takes.\n",
    "\n",
    "\"\"\"This function greets the user.\"\"\" is Docstring - a description or documentation for the function. It is a good practice to include this to describe what the function does.\n",
    "\n",
    "\"greet()\" is a function that takes \"user\" as a parameter and prints a greeting message. This function can be called for different users to greet different them, showcasing the reusability and flexibility of functions in Python.\n",
    "\n",
    "\"print(greet.__doc__)\" prints the docstring associated with the function."
   ]
  },
  {
   "cell_type": "markdown",
   "id": "89e9f502-34c4-46a4-bd0c-a3046b286c9c",
   "metadata": {},
   "source": [
    "**Q3. Explain the difference between a function definition and a function call.**"
   ]
  },
  {
   "cell_type": "markdown",
   "id": "7edd6e07-5557-41e5-a240-9c7bc46af26c",
   "metadata": {},
   "source": [
    "Below are the key differences between a function definition and a function call in Python:\n",
    "\n",
    "Function Definition:\n",
    "\n",
    "1. Purpose: A function definition is where we define the structure, logic, and behavior of a function.\n",
    "\n",
    "2. Syntax: It starts with the def keyword followed by the function name, parameters (if any), and a block of code defining what the function does.\n",
    "\n",
    "Function Call:\n",
    "\n",
    "1. Purpose: A function call is the action of invoking or using the defined function to perform its specified task.\n",
    "\n",
    "2. Syntax: It involves using the function name followed by parentheses () and providing necessary arguments (if the function expects any) inside the parentheses.\n",
    "\n",
    "Example:"
   ]
  },
  {
   "cell_type": "code",
   "execution_count": 59,
   "id": "5a18b69e-90a0-4720-a86b-e7fc73f81cfb",
   "metadata": {},
   "outputs": [],
   "source": [
    "#defining the function.\n",
    "def greet(name):\n",
    "    \"\"\"This function greets the user.\"\"\"\n",
    "    print(f\"Hello, {name}!\")\n",
    "\n",
    "#calling the function.\n",
    "greet(\"Anmol\")\n"
   ]
  },
  {
   "cell_type": "markdown",
   "id": "7456688a-812d-40b4-99f8-42a5c8b4406a",
   "metadata": {},
   "source": [
    "**Explanation(Function definition):**\n",
    "\n",
    "Function definition begins with the \"def\" keyword, followed by the function name greet(in this case), name is the parameter the function takes.\n",
    "\n",
    "Inside the function, there is a print statement that displays a greeting message using the provided name.\n",
    "\n",
    "**Explanation(Function Call):**\n",
    "\n",
    "\"greet(\"Anmol\")\" is a function call that invokes the greet function with the argument \"Anmol\".\n",
    "\n",
    "This call executes the code inside the greet function, causing it to print the greeting message for the name \"Anmol\"."
   ]
  },
  {
   "cell_type": "markdown",
   "id": "5b4dfcea-2453-4490-b9a5-6e8732925b42",
   "metadata": {},
   "source": [
    "**Q4. Write a Python program that defines a function to calculate the sum of two numbers and then calls the function.**"
   ]
  },
  {
   "cell_type": "code",
   "execution_count": 60,
   "id": "f65552f6-3d5d-4041-a63b-15adffddc4c2",
   "metadata": {},
   "outputs": [
    {
     "name": "stdin",
     "output_type": "stream",
     "text": [
      "Enter the first number:  5.5\n",
      "Enter the second number:  4.9\n"
     ]
    },
    {
     "name": "stdout",
     "output_type": "stream",
     "text": [
      "The sum of 5.5 and 4.9 is: 10.4\n"
     ]
    }
   ],
   "source": [
    "def calculate_sum(a, b):\n",
    "    \"\"\"This function calculates the sum of two numbers.\"\"\"\n",
    "    return a + b\n",
    "\n",
    "# Taking user input for two numbers\n",
    "num1 = float(input(\"Enter the first number: \"))\n",
    "num2 = float(input(\"Enter the second number: \"))\n",
    "\n",
    "# Calling the function to calculate the sum\n",
    "result = calculate_sum(num1, num2)\n",
    "\n",
    "# Displaying the result\n",
    "print(f\"The sum of {num1} and {num2} is: {result}\")"
   ]
  },
  {
   "cell_type": "markdown",
   "id": "29582916-2ca1-42c3-86a9-18dc207a0d90",
   "metadata": {},
   "source": [
    "**Explanation:**\n",
    "\n",
    "\"calculate_sum()\" function take two parameters a and b and Returns the sum of the two parameters using return a + b.\n",
    "\n",
    "The code asks the user to enter the two numbers to calculate the sum for.\n",
    "\n",
    "\"input()\" function is used to get input from the user for two numbers (num1 and num2) and the numbers are stored as floating-point-number using \"float()\".\n",
    "\n",
    "\"calculate_sum(num1, num2)\" is used to call the \"calculate_sum()\" function with the provided numbers as arguments.\n",
    "\n",
    "The function returns the sum of num1 and num2, which is stored in the result variable.\n",
    "\n",
    "Finally, the program displays the calculated sum of the two numbers using print."
   ]
  },
  {
   "cell_type": "markdown",
   "id": "a364304d-f21d-4beb-adf0-5029cccc364b",
   "metadata": {},
   "source": [
    "**Q5. What is a function signature, and what information does it typically include?**"
   ]
  },
  {
   "cell_type": "markdown",
   "id": "0c562788-993e-4d16-9aac-5315965a6d3f",
   "metadata": {},
   "source": [
    "A function signature refers to the unique identifier of a function that consists of its name and information about its parameters. It provides a clear definition of the function's interface, specifying the function's name, the number of parameters it takes, and the order(sequence) of those parameters. The function signature is crucial for understanding how to call the function and what arguments it expects.\n",
    "\n",
    "The typical information included in a function signature includes:\n",
    "\n",
    "1. Function Name: The name used to identify the function. It must follow the rules for naming identifiers in the python programming language.\n",
    "\n",
    "2. Parameter details: The list of parameters the function accepts(if any). Includes the name of each parameter (do not contain the type of each paramater in dynamically-typed languages like Python). Specifies the order(sequence) of parameters required by the function.\n",
    "\n",
    "**Printing the function signature:**\n",
    "\n",
    "In Python, we can use the \"inspect\" module to access and retrieve information about functions, including their signatures. The inspect module provides several functions to extract details about functions, classes, and more.\n",
    "\n",
    "Below is an example of how we can print a function's signature using the inspect module:"
   ]
  },
  {
   "cell_type": "code",
   "execution_count": 64,
   "id": "3bc250b1-d32d-422a-84fb-79762172bc2e",
   "metadata": {},
   "outputs": [
    {
     "name": "stdout",
     "output_type": "stream",
     "text": [
      "Function signature of 'calculate_sum': (a, b)\n"
     ]
    }
   ],
   "source": [
    "import inspect\n",
    "\n",
    "def calculate_sum(a, b):\n",
    "    return a + b\n",
    "\n",
    "#printing the signature of the function \"calculate_sum(a,b)\" using \"inspect\" module.\n",
    "signature = inspect.signature(calculate_sum)\n",
    "print(f\"Function signature of '{calculate_sum.__name__}': {signature}\")"
   ]
  },
  {
   "cell_type": "markdown",
   "id": "46387bbf-9431-48f5-8d5d-e3c2d3e5ce6a",
   "metadata": {},
   "source": [
    "**Q6. Create a Python function that takes two arguments and returns their product.**"
   ]
  },
  {
   "cell_type": "code",
   "execution_count": 65,
   "id": "ca52c1d3-ce94-4a37-b4d7-a8db64ea4a75",
   "metadata": {},
   "outputs": [
    {
     "name": "stdout",
     "output_type": "stream",
     "text": [
      "The product is: 15\n"
     ]
    }
   ],
   "source": [
    "def multiply(a, b):\n",
    "    \"\"\"This function calculates the product of two numbers.\"\"\"\n",
    "    return a * b\n",
    "\n",
    "# Calling the multiply function with arguments 5 and 3\n",
    "result = multiply(5, 3)\n",
    "print(\"The product is:\", result)  \n"
   ]
  },
  {
   "cell_type": "markdown",
   "id": "b6d3d83b-b332-4d1f-8b5e-15226be14571",
   "metadata": {},
   "source": [
    "**Explanation:**\n",
    "\n",
    "\"multiply()\" function accepts two parameters \"a\" and \"b\" that represent the numbers to be multiplied.\n",
    "\n",
    "The return statement(return a * b) in the function body returns the result of multiplying a and b.\n",
    "\n",
    "Then the code calls the \"multiply()\" function with '5' and '3' as arguements and then accepts the product of the two numbers from the function in the variable named \"result\"\n",
    "\n",
    "Finally, the program displays the calculated product of the two numbers using print."
   ]
  },
  {
   "cell_type": "markdown",
   "id": "aa40f5f7-fd64-4448-9ed0-57beabdf2072",
   "metadata": {},
   "source": [
    "# Function Parameters and Arguments:\n"
   ]
  },
  {
   "cell_type": "markdown",
   "id": "d9e5f5ac-b274-45e5-8210-041c18d2f41b",
   "metadata": {},
   "source": [
    "**Q1. Explain the concepts of formal parameters and actual arguments in Python functions.**"
   ]
  },
  {
   "cell_type": "markdown",
   "id": "64fb3f10-74d2-49dc-90c2-5094c4a19046",
   "metadata": {},
   "source": [
    "**Formal Parameters:**\n",
    "\n",
    "1. Definition: Formal parameters refer to the placeholders or variables that are specified in the function definition to receive input values when the function is called.\n",
    "\n",
    "2. Role: They act as variables within the function and represent the values that the function expects to receive and operate on.\n",
    "\n",
    "3. Example: In a function definition like def add(a, b):, a and b are formal parameters.\n",
    "\n",
    "**Actual Arguments (Arguments):**\n",
    "\n",
    "1. Definition: Actual arguments are the values or expressions that are passed to a function when it is called. These are the real values that will be assigned to the formal parameters inside the function. Actual parameters are also called as \"Arguments\".\n",
    "\n",
    "2. Role: They supply the values for the formal parameters in a function call.\n",
    "\n",
    "3. Example: In a function call like add(5, 3), 5 and 3 are actual arguments."
   ]
  },
  {
   "cell_type": "code",
   "execution_count": 67,
   "id": "28517758-6523-4374-9f66-ceb7966da237",
   "metadata": {},
   "outputs": [
    {
     "name": "stdout",
     "output_type": "stream",
     "text": [
      "The sum of 5 and 3 is: 8\n"
     ]
    }
   ],
   "source": [
    "def add(a, b):\n",
    "    \"\"\"This function adds two numbers.\"\"\"\n",
    "    return a + b\n",
    "\n",
    "result = add(5, 3)\n",
    "print(f\"The sum of 5 and 3 is: {result}\")"
   ]
  },
  {
   "cell_type": "markdown",
   "id": "516c59ab-4c6f-4564-a39e-53b584f9f69d",
   "metadata": {},
   "source": [
    "**Explanation:**\n",
    "\n",
    "In the above example, a and b are the formal parameters. They represent the two numbers that the add function expects to receive when called. These parameters are used within the function to perform addition.\n",
    "\n",
    "Where as, 5 and 3 in the function call are the actual arguments passed to the \"add()\" function. These values will be assigned to the formal parameters a and b respectively inside the function during the function call. The function will then perform the addition operation on these values and return the result."
   ]
  },
  {
   "cell_type": "markdown",
   "id": "96d7c22c-e24e-4bb8-8964-12cb351c6657",
   "metadata": {},
   "source": [
    "**Q2. Write a Python program that defines a function with default argument values.**"
   ]
  },
  {
   "cell_type": "code",
   "execution_count": 7,
   "id": "211abefa-3b15-48f6-822d-4a39f79fd7e6",
   "metadata": {},
   "outputs": [
    {
     "name": "stdout",
     "output_type": "stream",
     "text": [
      "Calling the function without providing an argument:\n",
      "Hello, Guest!\n",
      "\n",
      "\n",
      "Calling the function with an argument:\n",
      "Hello, Anmol!\n"
     ]
    }
   ],
   "source": [
    "def greet(name='Guest'):\n",
    "    \"\"\"This function greets a person with a provided name or 'Guest' by default.\"\"\"\n",
    "    print(f\"Hello, {name}!\")\n",
    "\n",
    "print(\"Calling the function without providing an argument:\") # Here the function will use the default arguement.\n",
    "greet()  \n",
    "\n",
    "print('\\n')\n",
    "\n",
    "print(\"Calling the function with an argument:\")\n",
    "greet('Anmol')  \n"
   ]
  },
  {
   "cell_type": "markdown",
   "id": "06fdd4a2-b27b-4aac-829f-763b547613c1",
   "metadata": {},
   "source": [
    "**Explanation:**\n",
    "\n",
    "The \"greet()\" function is defined with a default parameter name='Guest'. If no argument is passed when calling the function, it will use 'Guest' as the default value for the name parameter.\n",
    "\n",
    "When greet() is called without providing an argument, the function uses the default value and prints \"Hello, Guest!\".\n",
    "\n",
    "When greet('Alice') is called with an argument, it uses the provided name and prints \"Hello, Anmol!\".\n",
    "\n",
    "Default argument values allow functions to be called with fewer arguments, providing default values for unspecified parameters."
   ]
  },
  {
   "cell_type": "markdown",
   "id": "b056da6f-92ca-4858-8d55-4f0940584016",
   "metadata": {},
   "source": [
    "**Q3. How do you use keyword arguments in Python function calls? Provide an example.**"
   ]
  },
  {
   "cell_type": "markdown",
   "id": "72c9432c-64a7-4442-9593-9a7903bdeabf",
   "metadata": {},
   "source": [
    "In Python, keyword arguments allow us to pass arguments to a function by explicitly specifying the parameter names along with their corresponding values. This approach enables us to pass arguments to a function in any order, making the code more readable and providing clarity about the arguments being passed.\n",
    "\n",
    "Below is an example demonstrating the usage of keyword arguments in Python function calls:"
   ]
  },
  {
   "cell_type": "code",
   "execution_count": 1,
   "id": "2c673ada-d4dd-4ad1-baaa-14af95f1b28b",
   "metadata": {},
   "outputs": [
    {
     "name": "stdout",
     "output_type": "stream",
     "text": [
      "I have a dog.\n",
      "My dog's name is Bully.\n",
      "I have a cat.\n",
      "My cat's name is Kity.\n"
     ]
    }
   ],
   "source": [
    "def describe_pet(animal_type, pet_name):\n",
    "    \"\"\"This function describes a pet.\"\"\"\n",
    "    print(f\"I have a {animal_type}.\")\n",
    "    print(f\"My {animal_type}'s name is {pet_name}.\")\n",
    "\n",
    "# Using keyword arguments in function calls\n",
    "describe_pet(animal_type='dog', pet_name='Bully')\n",
    "describe_pet(pet_name='Kity', animal_type='cat')\n"
   ]
  },
  {
   "cell_type": "markdown",
   "id": "e4dd9487-6621-4c5b-921c-3d95bbe05610",
   "metadata": {},
   "source": [
    "**Explanation:**\n",
    "\n",
    "The \"describe_pet()\" function takes two parameters, animal_type and pet_name.\n",
    "\n",
    "When calling the function describe_pet, keyword arguments are used to explicitly specify which argument corresponds to which parameter.\n",
    "\n",
    "In the first function call, animal_type='dog' and pet_name='Bully' are passed as keyword arguments. These values are assigned to the respective parameters in the function.\n",
    "\n",
    "In the second function call, the order of the arguments is different (pet_name='Kity' is provided first), but the function still works correctly because the parameter names are explicitly mentioned as keywords."
   ]
  },
  {
   "cell_type": "raw",
   "id": "4d318bff-c3a3-4206-9266-fb225228772a",
   "metadata": {},
   "source": [
    "Keyword Arguments(Variable length):\n",
    "\n",
    "In Python Keyworded arguments can also be used to pass variable length arguments to a function in form of \"key-value\" pair. \n",
    "\n",
    "For this we use \"**\" before parameter name in the function definition.\n",
    "\n",
    "For this a dictionary is created within the function itself, with a name similar to the name of the parameter except for double asterisk **."
   ]
  },
  {
   "cell_type": "code",
   "execution_count": 2,
   "id": "5782b605-7d7c-46fe-a22e-9704287698ec",
   "metadata": {},
   "outputs": [
    {
     "name": "stdout",
     "output_type": "stream",
     "text": [
      "first == Hi\n",
      "mid == Welcome\n",
      "last == Hello\n"
     ]
    }
   ],
   "source": [
    "def myPrg(**kwargs):\n",
    "\tfor key, value in kwargs.items():\n",
    "\t\tprint (key, \"==\" , value)\n",
    "\n",
    "# Driver code for kwargs in python \n",
    "myPrg(first ='Hi', mid ='Welcome', last='Hello')"
   ]
  },
  {
   "cell_type": "markdown",
   "id": "6187059c-9a55-40a6-8190-80e157c8f9a8",
   "metadata": {},
   "source": [
    "**Explanation:**\n",
    "\n",
    "In the above example, function \"myPrg(**kwargs)\" is defined with \"**kwargs\" as its parameter. \"**kwargs\" can collect any number of keyword arguments passed to the function and stores them in a dictionary named \"kwargs\".\n",
    "\n",
    "\"for key, value in kwargs.items()\" this for loop iterates over the items in the \"kwargs\" dictionary, extracting the key-value pairs.\n",
    "\n",
    "\"print(key, \"==\", value)\" inside the loop, it prints each key-value pair. In this case, it prints the key, the separator \"==\", and the corresponding value.\n",
    "\n",
    "\"myPrg(first='Hi', mid='Welcome', last='Hello')\" Calls the myPrg function with three keyword arguments: first='Hi', mid='Welcome', and last='Hello'."
   ]
  },
  {
   "cell_type": "markdown",
   "id": "a58be83c-bc74-4498-a5bf-a44f1bf5f644",
   "metadata": {},
   "source": [
    "**Q4. Create a Python function that accepts a variable number of arguments and calculates their sum.**"
   ]
  },
  {
   "cell_type": "code",
   "execution_count": 2,
   "id": "7083e693-ca16-4801-9ce9-c854b49ae06e",
   "metadata": {},
   "outputs": [
    {
     "name": "stdout",
     "output_type": "stream",
     "text": [
      "The sum of 5, 10, 15 is: 30\n",
      "The sum of 2, 4, 6, 8, 10 is: 35\n"
     ]
    }
   ],
   "source": [
    "def calculate_sum(*args):\n",
    "    \"\"\"This function calculates the sum of variable arguments.\"\"\"\n",
    "    return sum(args)\n",
    "\n",
    "# Example usage of the calculate_sum function\n",
    "result = calculate_sum(5, 10, 15)  # Passing three arguments: 5, 10, and 15\n",
    "print(\"The sum of 5, 10, 15 is:\", result)  \n",
    "\n",
    "# Another example with a different number of arguments\n",
    "result = calculate_sum(2, 4, 6, 8, 15)  # Passing five arguments\n",
    "print(\"The sum of 2, 4, 6, 8, 10 is:\", result)  \n"
   ]
  },
  {
   "cell_type": "markdown",
   "id": "f5e508dc-6a69-421f-a3a9-edf34964d53d",
   "metadata": {},
   "source": [
    "**Explanation:**\n",
    "\n",
    "The \"calculate_sum()\" function uses \"*args\" as a parameter, which collects any number of positional arguments passed to the function into a tuple named args.\n",
    "\n",
    "Inside the function, the statement \"sum(args)\" calculates the sum of all the values in the \"args\" tuple.\n",
    "\n",
    "Then the code calls the \"calculate_sum\" function with 3 and 5 arguments to demonstrate how the function can be called with different numbers of arguments, and the function correctly computes their sum."
   ]
  },
  {
   "cell_type": "markdown",
   "id": "a2fa4262-3336-49ad-98ad-7aa6aad69e08",
   "metadata": {},
   "source": [
    "**Q5. What is the purpose of the `*args` and `**kwargs` syntax in function parameter lists?**"
   ]
  },
  {
   "cell_type": "markdown",
   "id": "967507f4-f715-4a11-9b89-f744495704ae",
   "metadata": {},
   "source": [
    "The \"*args\" and \"**kwargs\" syntax in Python function parameter lists are used to handle variable numbers of arguments, allowing functions to accept an arbitrary number of positional and keyword arguments, respectively. These syntaxes offer flexibility and enable developers to work with unspecified or varying numbers of arguments passed to a function.\n",
    "\n",
    "Both \"*args\" and \"**kwargs\" provide flexibility when the exact number of arguments is not known beforehand. They allow functions to handle various input scenarios where the number of arguments can vary, making the code more versatile and adaptable to different use cases.\n",
    "\n",
    "Below is what \"*args\" and \"**kwargs\" do in function parameter lists:\n",
    "\n",
    "1. *args (Arbitrary Positional Arguments): *args allows a function to accept an arbitrary number of positional arguments. When *args is used as a parameter in a function definition, it collects any additional positional arguments passed to the function into a tuple. The name args is a convention, but the * before it unpacks the positional arguments into a tuple within the function.\n",
    "\n",
    "Example:"
   ]
  },
  {
   "cell_type": "code",
   "execution_count": 1,
   "id": "bb64f17d-ebe2-474e-bf26-ffe68860bcc7",
   "metadata": {},
   "outputs": [
    {
     "name": "stdout",
     "output_type": "stream",
     "text": [
      "1\n",
      "2\n",
      "3\n"
     ]
    }
   ],
   "source": [
    "def my_function(*args):\n",
    "    for arg in args:\n",
    "        print(arg)\n",
    "\n",
    "my_function(1, 2, 3) "
   ]
  },
  {
   "cell_type": "markdown",
   "id": "61067004-9702-46b4-92b3-1af05d0aa49f",
   "metadata": {},
   "source": [
    "2. **kwargs (Arbitrary Keyword Arguments): **kwargs allows a function to accept an arbitrary number of keyword arguments (i.e., named arguments). When **kwargs is used as a parameter in a function definition, it collects any additional keyword arguments passed to the function into a dictionary. The name kwargs is a convention, but the ** before it unpacks the keyword arguments into a dictionary within the function.\n",
    "\n",
    "Example:"
   ]
  },
  {
   "cell_type": "code",
   "execution_count": 3,
   "id": "fd4895cc-5e6c-4951-976b-3590d8433e01",
   "metadata": {},
   "outputs": [
    {
     "name": "stdout",
     "output_type": "stream",
     "text": [
      "first_name: Anmol\n",
      "last_name: Anand\n"
     ]
    }
   ],
   "source": [
    "def my_function(**kwargs):\n",
    "    for key, value in kwargs.items():\n",
    "        print(f\"{key}: {value}\")\n",
    "\n",
    "my_function(first_name='Anmol', last_name='Anand') "
   ]
  },
  {
   "cell_type": "markdown",
   "id": "c17a11fe-8655-4337-8623-4688880270ab",
   "metadata": {},
   "source": [
    "# Return Values and Scoping:"
   ]
  },
  {
   "cell_type": "markdown",
   "id": "de90b0fb-3372-4fd2-b345-61113fe0c44f",
   "metadata": {},
   "source": [
    "**Q1. Describe the role of the `return` statement in Python functions and provide examples.** "
   ]
  },
  {
   "cell_type": "markdown",
   "id": "e59a12a6-30ea-471e-ae18-eab6cecef4b1",
   "metadata": {},
   "source": [
    "In Python, the return statement is used within a function to specify the value(s) that the function should return when it is called. It is used to exit the function and return a value (or multiple values) back to the caller. The return statement terminates the execution of the function, and any code following the return statement within the function is not executed.\n",
    "\n",
    "The return statement can return a single value, multiple values (as a tuple), or even no value (implicitly returning None).\n",
    "\n",
    "Below are some examples illustrating the use of return statement in Python functions:"
   ]
  },
  {
   "cell_type": "code",
   "execution_count": 1,
   "id": "32dba5b4-c116-493f-80d0-264b3c400b3d",
   "metadata": {},
   "outputs": [
    {
     "name": "stdout",
     "output_type": "stream",
     "text": [
      "Example 1: Returning a Single Value\n",
      "The sum is: 8\n"
     ]
    }
   ],
   "source": [
    "print(\"Example 1: Returning a Single Value\")\n",
    "\n",
    "def add(a, b):\n",
    "    \"\"\"This function returns the sum of two numbers.\"\"\"\n",
    "    return a + b\n",
    "\n",
    "result = add(5, 3)\n",
    "print(\"The sum is:\", result)"
   ]
  },
  {
   "cell_type": "markdown",
   "id": "db5a77fc-f522-45f8-bb56-24eae65c7724",
   "metadata": {},
   "source": [
    "**Explanation:**\n",
    "\n",
    "In the above example the function \"add(a,b)\" accepts two parameters \"a\" and \"b\" and return their sum."
   ]
  },
  {
   "cell_type": "code",
   "execution_count": 3,
   "id": "cd3527b4-f969-4f94-9e1d-85400f88da74",
   "metadata": {},
   "outputs": [
    {
     "name": "stdout",
     "output_type": "stream",
     "text": [
      "Example 2: Returning Multiple Values (as a Tuple)\n",
      "Sum: 7\n",
      "Product: 12\n"
     ]
    }
   ],
   "source": [
    "print(\"Example 2: Returning Multiple Values (as a Tuple)\")\n",
    "\n",
    "\n",
    "def calculate(a, b):\n",
    "    \"\"\"This function calculates sum and product of two numbers.\"\"\"\n",
    "    sum_result = a + b\n",
    "    product_result = a * b\n",
    "    return sum_result, product_result\n",
    "\n",
    "sum_value, product_value = calculate(4, 3)\n",
    "print(\"Sum:\", sum_value) \n",
    "print(\"Product:\", product_value)"
   ]
  },
  {
   "cell_type": "markdown",
   "id": "9cfda316-4a1f-444d-a723-42a0ce4af063",
   "metadata": {},
   "source": [
    "**Explanation:**\n",
    "\n",
    "In the above example the function \"calculate(a,b)\" accepts two parameters \"a\" and \"b\" and return their sum and the product in form of a tuple.\n",
    "\n",
    "\"sum_value, product_value = calculate(4, 3)\", this statement calls the function \"calculate()\" with the arguments 3 and 4, and then the response of the function is unpacked in variables \"sum_value\" and \"product_value\" containing the sum and product of the two arguments respectively."
   ]
  },
  {
   "cell_type": "code",
   "execution_count": 5,
   "id": "cadc05e6-a01f-4fd6-9089-5e422675de95",
   "metadata": {},
   "outputs": [
    {
     "name": "stdout",
     "output_type": "stream",
     "text": [
      "Example 3: Returning None (Implicitly)\n",
      "Hello, Anmol!\n",
      "Result: None\n"
     ]
    }
   ],
   "source": [
    "print(\"Example 3: Returning None (Implicitly)\")\n",
    "\n",
    "def greet(name):\n",
    "    \"\"\"This function greets a person.\"\"\"\n",
    "    print(f\"Hello, {name}!\")\n",
    "\n",
    "result = greet(\"Anmol\")\n",
    "print(\"Result:\", result)  "
   ]
  },
  {
   "cell_type": "markdown",
   "id": "c414a2fa-6036-4201-ab87-409c7d37c57d",
   "metadata": {},
   "source": [
    "**Explanation:**\n",
    "\n",
    "In the above example the function \"greet()\" accepts a paremeter \"name\" and prints a message greeting the user.\n",
    "\n",
    "Here the function \"greet()\" is returning no value (implicitly returning None). So, if we try to print the response of the function response, it will print 'None'."
   ]
  },
  {
   "cell_type": "markdown",
   "id": "afeb3df1-6513-46ac-813e-7104b4bcef39",
   "metadata": {},
   "source": [
    "**Q2. Explain the concept of variable scope in Python, including local and global variables.**"
   ]
  },
  {
   "cell_type": "markdown",
   "id": "b178e18c-1661-49e4-80c1-359eb1bda8c7",
   "metadata": {},
   "source": [
    "Variable scope in Python refers to the region or context in a program where a particular variable is accessible or visible. It determines the portion of the code where a variable can be referenced or modified. In Python, there are primarily two types of variable scope: local and global.\n",
    "\n",
    "\n",
    "Local Variable:\n",
    "\n",
    "1. Definition: Variables defined within a function have a local scope. They are only accessible within the function in which they are declared.\n",
    "\n",
    "2. Access: Local variables cannot be accessed or modified outside the function in which they are defined.\n",
    "\n",
    "\n",
    "Global Variable:\n",
    "\n",
    "1. Definition: Variables defined outside any function or in the global scope have a global scope. They are accessible throughout the entire code.\n",
    "\n",
    "2. Access: Global variables can be accessed and modified from any part of the program, including within functions.\n",
    "\n",
    "3. The \"global\" keyword in Python is used to declare that a variable is in the global scope. It allows modifying a global variable from within a function.\n",
    "\n",
    "\n",
    "In Python, when a variable is referenced, the interpreter first searches for the variable within the local scope. If it doesn't find it locally, it then looks in the global scope.\n",
    "\n",
    "If the variable is not found in the local or global scope, Python will raise a \"NameError\".\n",
    "\n",
    "Example:"
   ]
  },
  {
   "cell_type": "code",
   "execution_count": 10,
   "id": "05fe1f7d-5801-44cf-8fef-3a1bdd924806",
   "metadata": {},
   "outputs": [
    {
     "name": "stdout",
     "output_type": "stream",
     "text": [
      "Example of Local Variable\n",
      "10\n",
      "\n",
      "Example of Global Variable\n",
      "Before function call: 30\n",
      "After function call: 35\n"
     ]
    }
   ],
   "source": [
    "print(\"Example of Local Variable\")\n",
    "def my_function():\n",
    "    x = 10  # Local variable\n",
    "    print(x)  # Accessible within the function\n",
    "\n",
    "my_function()\n",
    "# print(x)  # This would cause an error as 'x' is not accessible here\n",
    "\n",
    "print(\"\\nExample of Global Variable\")\n",
    "z = 30  # Global variable\n",
    "\n",
    "def modify_global():\n",
    "    global z  # Declaring 'z' as a global variable\n",
    "    z = z + 5  # Modifying the global variable\n",
    "\n",
    "print(\"Before function call:\", z)\n",
    "modify_global()\n",
    "print(\"After function call:\", z)  # 'z' has been modified"
   ]
  },
  {
   "cell_type": "markdown",
   "id": "d6d7b950-fbea-4093-bf04-ba2564a2c886",
   "metadata": {},
   "source": [
    "**Q3. Write a Python program that demonstrates the use of global variables within functions.**"
   ]
  },
  {
   "cell_type": "code",
   "execution_count": 11,
   "id": "6b55dd4e-7484-4bf1-b1fe-e64a452ff473",
   "metadata": {},
   "outputs": [
    {
     "name": "stdout",
     "output_type": "stream",
     "text": [
      "Before function call: 10\n",
      "After function call: 15\n"
     ]
    }
   ],
   "source": [
    "x = 10  # Global variable\n",
    "\n",
    "def modify_global():\n",
    "    global x  # Declaring 'x' as a global variable within the function\n",
    "    x = x + 5  # Modifying the global variable 'x'\n",
    "\n",
    "print(\"Before function call:\", x)  \n",
    "modify_global()\n",
    "print(\"After function call:\", x)  \n"
   ]
  },
  {
   "cell_type": "markdown",
   "id": "9c7c932c-3f02-4fd0-8992-603c980a3e3f",
   "metadata": {},
   "source": [
    "**Explanation:**\n",
    "\n",
    "x = 10 defines a global variable x.\n",
    "\n",
    "Inside the \"modify_global()\" function, \"global x\" declares that the variable x being referenced or modified within the function is the global variable x.\n",
    "\n",
    "x = x + 5 increments the value of the global variable x by 5.\n",
    "\n",
    "Before and after calling modify_global(), the value of the global variable x is printed, demonstrating that the function was able to modify the global variable using the global keyword."
   ]
  },
  {
   "cell_type": "markdown",
   "id": "d06b52b8-a7d6-4b31-8fa2-43d349d891d8",
   "metadata": {},
   "source": [
    "**Q4. Create a Python function that calculates the factorial of a number and returns it.**"
   ]
  },
  {
   "cell_type": "code",
   "execution_count": 14,
   "id": "6859abf4-c704-4b10-982b-de3e98eabf13",
   "metadata": {},
   "outputs": [
    {
     "name": "stdout",
     "output_type": "stream",
     "text": [
      "The factorial of 5 is: 120\n"
     ]
    }
   ],
   "source": [
    "def factorial(n):\n",
    "    \"\"\"This function calculates the factorial of a number.\"\"\"\n",
    "    if n == 0 or n == 1:\n",
    "        return 1  # Factorial of 0 and 1 is 1\n",
    "    else:\n",
    "        return n * factorial(n - 1)  # Recursive call to calculate factorial\n",
    "\n",
    "# Example usage\n",
    "number = 5  # Calculate factorial of 5\n",
    "result = factorial(number)\n",
    "print(f\"The factorial of {number} is:\", result)"
   ]
  },
  {
   "cell_type": "markdown",
   "id": "f0f1c23a-6a3a-49a5-93ef-33b7d1985b72",
   "metadata": {},
   "source": [
    "**Explanation:**\n",
    "\n",
    "The \"factorial()\" function takes a number n as an argument and returns it's factorial.\n",
    "\n",
    "If n is 0 or 1, the function returns 1 because the factorial of 0 and 1 is 1.\n",
    "\n",
    "If n is greater than 1, the function calculates the factorial using recursion by multiplying n with the factorial of n - 1.\n",
    "\n",
    "The base case of n == 0 or n == 1 ensures that the recursion stops when the value reaches 0 or 1.\n",
    "\n",
    "Then the code calls \"factorial(5)\", and the response from the function is stored in the variable \"result\". \n",
    "\n",
    "Finally we print the result."
   ]
  },
  {
   "cell_type": "markdown",
   "id": "8dadc86c-6c0c-4c07-b062-6cd3a52b28b8",
   "metadata": {},
   "source": [
    "**Q5. How can you access variables defined outside a function from within the function?**"
   ]
  },
  {
   "cell_type": "markdown",
   "id": "ae32f0e1-78b8-476d-8312-97a83023b094",
   "metadata": {},
   "source": [
    "In Python, we can access variables defined outside a function from within the function by using the global keyword or by directly referencing the variables. However, there are differences in behavior between these two methods:\n",
    "\n",
    "Using the \"global\" Keyword:\n",
    "\n",
    "1. When we declare a variable as global within a function using \"global\" keyword, it informs Python that the variable being referenced or modified inside the function is the global variable with the same name.\n",
    "\n",
    "2. This allows the function to read or modify the global variable.\n",
    "\n",
    "Directly Referencing Global Variables:\n",
    "\n",
    "1. If we don't use the \"global\" keyword, Python allows functions to access global variables directly without needing to declare them explicitly.\n",
    "\n",
    "2. The function can read the global variable but cannot modify it unless using the \"global\" keyword.\n",
    "\n",
    "Example:"
   ]
  },
  {
   "cell_type": "code",
   "execution_count": 22,
   "id": "cf194b90-573d-42d2-a5e4-41c14d70270c",
   "metadata": {},
   "outputs": [
    {
     "name": "stdout",
     "output_type": "stream",
     "text": [
      "Accessing Global variable inside a function using 'global' keyword\n",
      "Before function call: 10\n",
      "Accessing global variable from within the function: 10\n",
      "After function call: 15\n",
      "\n",
      "Directly accessing Global variable inside a function without using 'global' keyword\n",
      "Before function call: 50\n",
      "You can read a global variable inside a function, but cannot modify it without using global keyword: local variable 'global_var2' referenced before assignment\n",
      "Before function call: 50\n"
     ]
    }
   ],
   "source": [
    "print(\"Accessing Global variable inside a function using 'global' keyword\")\n",
    "global_var1 = 10  # Global variable\n",
    "\n",
    "def access_global():\n",
    "    global global_var1  # Declaring 'global_var' as global within the function\n",
    "    print(\"Accessing global variable from within the function:\", global_var1)\n",
    "    global_var1+=5\n",
    "\n",
    "print(\"Before function call:\", global_var1)  \n",
    "access_global()  \n",
    "print(\"After function call:\", global_var1)  \n",
    "\n",
    "\n",
    "print(\"\\nDirectly accessing Global variable inside a function without using 'global' keyword\")\n",
    "global_var2 = 50  # Global variable\n",
    "def access_global_directly():\n",
    "    print(\"Accessing global variable directly from within the function:\", global_var2)\n",
    "    global_var2+=5\n",
    "\n",
    "print(\"Before function call:\", global_var2)\n",
    "try:\n",
    "    access_global_directly()  \n",
    "except UnboundLocalError as e:\n",
    "    print(\"You can read a global variable inside a function, but cannot modify it without using global keyword:\",e)\n",
    "print(\"Before function call:\", global_var2)"
   ]
  },
  {
   "cell_type": "markdown",
   "id": "d730e785-0e9f-49bc-87e6-e2df6867c6f1",
   "metadata": {},
   "source": [
    "# Lambda Functions and Higher-Order Functions:"
   ]
  },
  {
   "cell_type": "markdown",
   "id": "4d8f4b12-e46f-4f82-96d8-556beeb9f30b",
   "metadata": {},
   "source": [
    "**Q1. What are lambda functions in Python, and when are they typically used?**"
   ]
  },
  {
   "cell_type": "markdown",
   "id": "aaefa9f1-9807-4e90-bf0b-a9e86e1ad298",
   "metadata": {},
   "source": [
    "Lambda functions in Python, also known as anonymous functions, are small, inline functions that do not have a name. They are defined using the lambda keyword instead of the standard def keyword used for defining regular functions.\n",
    "\n",
    "Following are the Key characteristics of lambda functions:\n",
    "\n",
    "1. Lambda functions are anonymous, meaning they do not require a function name for definition.\n",
    "\n",
    "2. They are typically used for simple operations and consist of a single expression rather than a block of statements.\n",
    "\n",
    "3. The syntax of a lambda function is \"lambda arguments: expression\", where arguments are the function's input parameters, and the expression is the computation performed by the function.\n",
    "\n",
    "Lambda functions are commonly used in scenarios where a small, one-time function is needed, especially in functional programming constructs such as map(), filter(), and sorted() or when a simple function is required as an argument to higher-order functions.\n",
    "\n",
    "Below is an example of lambda function:"
   ]
  },
  {
   "cell_type": "code",
   "execution_count": 23,
   "id": "dddf79d3-8c4e-43bc-a3b8-025b2c7f9083",
   "metadata": {},
   "outputs": [
    {
     "name": "stdout",
     "output_type": "stream",
     "text": [
      "30\n"
     ]
    }
   ],
   "source": [
    "x = lambda a, b : a * b\n",
    "print(x(5, 6))"
   ]
  },
  {
   "cell_type": "markdown",
   "id": "1b4ad104-7f7b-46ec-94e3-b2f9ed0d27c2",
   "metadata": {},
   "source": [
    "**Explanation:**\n",
    "\n",
    "\"x = lambda a, b: a * b\" This statement defines a lambda function and assigns it to the variable x. The lambda function takes two arguments a and b and returns their product, calculated as a * b.\n",
    "\n",
    "\"print(x(5, 6))\" Here, the variable x (which holds the lambda function) is called like a regular function with arguments 5 and 6. It executes the lambda function with these arguments and returns their product (5 * 6), which is then printsd."
   ]
  },
  {
   "cell_type": "markdown",
   "id": "0bc6167d-adfd-441f-b0d9-b9125277bc78",
   "metadata": {},
   "source": [
    "**Q2. Write a Python program that uses lambda functions to sort a list of tuples based on the second element.**"
   ]
  },
  {
   "cell_type": "code",
   "execution_count": 24,
   "id": "9581e4ab-bfc0-4be0-88cd-c858bdf04ab9",
   "metadata": {},
   "outputs": [
    {
     "name": "stdout",
     "output_type": "stream",
     "text": [
      "[('a', 1), ('b', 3), ('c', 3)]\n"
     ]
    }
   ],
   "source": [
    "# Sorting a list of tuples based on the second element using sorted() with a lambda function\n",
    "pairs = [('b', 3), ('a', 1), ('c', 3)]\n",
    "sorted_pairs = sorted(pairs, key=lambda x: x[1])\n",
    "print(sorted_pairs)  "
   ]
  },
  {
   "cell_type": "markdown",
   "id": "9f798745-4394-40d1-999d-41a3344853ea",
   "metadata": {},
   "source": [
    "**Explanation:**\n",
    "\n",
    "\"pairs\" is a list of tuples containing elements like ('b', 3), ('a', 1), and ('c', 3).\n",
    "\n",
    "\"sorted()\" is used to sort the \"pairs\" list based on the second element of each tuple (index 1). The key parameter is set to a lambda function \"lambda x: x[1]\", which extracts the second element from each tuple for comparison during sorting.\n",
    "\n",
    "The lambda function \"lambda x: x[1]\" takes each tuple x and returns its second element (x[1]). This function specifies the sorting criterion based on the second element of the tuples.\n",
    "\n",
    "The sorted() function sorts the list of tuples \"pairs' based on the second element of each tuple in ascending order.\n",
    "\n",
    "Finally, the sorted list of tuples is stored in the variable \"sorted_pairs\", and it is printed using \"print(sorted_pairs)\"."
   ]
  },
  {
   "cell_type": "markdown",
   "id": "7d77158a-e9eb-42e7-8724-51fa904abbfb",
   "metadata": {},
   "source": [
    "**Q3. Explain the concept of higher-order functions in Python, and provide an example.**"
   ]
  },
  {
   "cell_type": "markdown",
   "id": "b40787a6-698e-45bb-99e5-4df8a35955ec",
   "metadata": {},
   "source": [
    "In Python, higher-order functions are functions that can take other functions as arguments or return functions as results. These functions treat other functions as first-class citizens, allowing them to operate on functions by accepting them as arguments or returning them from other functions.\n",
    "\n",
    "Below are the Key points about higher-order functions:\n",
    "\n",
    "1. Higher-order functions can accept other functions as arguments.\n",
    "\n",
    "2. They can also return functions as results.\n",
    "\n",
    "3. Higher-order functions play a significant role in functional programming, enabling the use of functions as building blocks to solve problems.\n",
    "\n",
    "Example of Higher-Order Function:"
   ]
  },
  {
   "cell_type": "code",
   "execution_count": 25,
   "id": "8ecd312a-3ee9-474b-9cd3-d9a476669823",
   "metadata": {},
   "outputs": [
    {
     "name": "stdout",
     "output_type": "stream",
     "text": [
      "Result of addition: 8\n",
      "Result of subtraction: 6\n"
     ]
    }
   ],
   "source": [
    "def apply_operation(operation, x, y):\n",
    "    \"\"\"This higher-order function applies the provided operation to two numbers.\"\"\"\n",
    "    return operation(x, y)\n",
    "\n",
    "def add(a, b):\n",
    "    \"\"\"Function to add two numbers.\"\"\"\n",
    "    return a + b\n",
    "\n",
    "def subtract(a, b):\n",
    "    \"\"\"Function to subtract one number from another.\"\"\"\n",
    "    return a - b\n",
    "\n",
    "# Using the higher-order function with different operations\n",
    "result_add = apply_operation(add, 5, 3)  # Passing the 'add' function as an argument\n",
    "result_subtract = apply_operation(subtract, 10, 4)  # Passing the 'subtract' function\n",
    "\n",
    "print(\"Result of addition:\", result_add)  # Output: Result of addition: 8\n",
    "print(\"Result of subtraction:\", result_subtract)  # Output: Result of subtraction: 6"
   ]
  },
  {
   "cell_type": "markdown",
   "id": "373356ad-30f3-4f65-b98a-bd2396cd65a2",
   "metadata": {},
   "source": [
    "**Explanation:**\n",
    "\n",
    "\"apply_operation()\" is a higher-order function that takes an operation (another function) and two numbers as arguments, then applies the provided operation to the given numbers.\n",
    "\n",
    "\"add()\" and \"subtract()\" are functions that perform addition and subtraction operations, respectively.\n",
    "\n",
    "The \"apply_operation()\" function is used with add and subtract functions as arguments, and it applies these operations to the specified numbers (5, 3 and 10, 4).\n",
    "\n",
    "The results of addition and subtraction are stored in variables \"result_add\" and \"result_subtract\", respectively, and then printed."
   ]
  },
  {
   "cell_type": "markdown",
   "id": "eabab7ae-b910-4a4e-9518-4453afdc14aa",
   "metadata": {},
   "source": [
    "**Q4. Create a Python function that takes a list of numbers and a function as arguments, applying the function to each element in the list.**"
   ]
  },
  {
   "cell_type": "code",
   "execution_count": 26,
   "id": "3bd9cce7-b97a-4666-b76d-91672002ecf3",
   "metadata": {},
   "outputs": [
    {
     "name": "stdout",
     "output_type": "stream",
     "text": [
      "Squared numbers: [1, 4, 9, 16, 25]\n",
      "Doubled numbers: [2, 4, 6, 8, 10]\n"
     ]
    }
   ],
   "source": [
    "def apply_function_to_list(numbers, func):\n",
    "    \"\"\"Applies the provided function to each element in the list.\"\"\"\n",
    "    return [func(num) for num in numbers]\n",
    "\n",
    "# Example functions that can be used\n",
    "def square(x):\n",
    "    \"\"\"Function to square a number.\"\"\"\n",
    "    return x * x\n",
    "\n",
    "def double(x):\n",
    "    \"\"\"Function to double a number.\"\"\"\n",
    "    return x * 2\n",
    "\n",
    "# List of numbers\n",
    "number_list = [1, 2, 3, 4, 5]\n",
    "\n",
    "# Applying the square function to the list of numbers\n",
    "result_square = apply_function_to_list(number_list, square)\n",
    "print(\"Squared numbers:\", result_square)  \n",
    "\n",
    "# Applying the double function to the list of numbers\n",
    "result_double = apply_function_to_list(number_list, double)\n",
    "print(\"Doubled numbers:\", result_double) "
   ]
  },
  {
   "cell_type": "markdown",
   "id": "bda3b7d4-2b42-4179-8893-8c52e0c1f14d",
   "metadata": {},
   "source": [
    "**Explanation:**\n",
    "\n",
    "The \"apply_function_to_list()\" is a higher order function, that takes two arguments, numbers (the list of numbers) and func (the function to be applied to each element in the list).\n",
    "\n",
    "The \"apply_function_to_list()\" function uses a list comprehension to iterate through each number in the input list (numbers) and applies the provided function \"func\" to each element.\n",
    "\n",
    "The result is a new list containing the transformed elements based on the provided function.\n",
    "\n",
    "Two example functions (square() and double()) are defined to demonstrate how the apply_function_to_list() function can be used with different functions to operate on the list of numbers. The results show the squared and doubled numbers from the input list."
   ]
  },
  {
   "cell_type": "markdown",
   "id": "1fe03596-540e-41b3-b55a-578929176bf4",
   "metadata": {},
   "source": [
    "# Built-in Functions:"
   ]
  },
  {
   "cell_type": "markdown",
   "id": "8fc09b26-2f79-4c1c-bbda-ea2116388d2a",
   "metadata": {},
   "source": [
    "**Q1. Describe the role of built-in functions like `len()`, `max()`, and `min()` in Python.**"
   ]
  },
  {
   "cell_type": "markdown",
   "id": "ec6ae672-4f6a-450a-b73a-4581e0f173fc",
   "metadata": {},
   "source": [
    "len():\n",
    "\n",
    "1. The len() function is used to determine the length or the number of elements in a sequence (such as strings, lists, tuples, dictionaries, etc.).\n",
    "\n",
    "2. It returns the number of items in the specified sequence.\n",
    "\n",
    "Example:"
   ]
  },
  {
   "cell_type": "code",
   "execution_count": 33,
   "id": "c0c401e6-634c-4228-87ae-efff74336fcb",
   "metadata": {},
   "outputs": [
    {
     "name": "stdout",
     "output_type": "stream",
     "text": [
      "The length of [1, 2, 3, 4, 5] is: 5\n"
     ]
    }
   ],
   "source": [
    "my_list = [1, 2, 3, 4, 5]\n",
    "length = len(my_list)  \n",
    "print(\"The length of {} is: {}\".format(my_list,length))"
   ]
  },
  {
   "cell_type": "markdown",
   "id": "d3fb95b6-e9ab-4509-85fb-beb3fec6c763",
   "metadata": {},
   "source": [
    "max():\n",
    "\n",
    "1. The max() function is used to find the maximum element from a sequence or a set of values.\n",
    "\n",
    "2. It returns the largest item from the provided sequence or among the arguments passed.\n",
    "\n",
    "Example:"
   ]
  },
  {
   "cell_type": "code",
   "execution_count": 34,
   "id": "7ffb2aab-c496-4b34-a53a-84620f2ad948",
   "metadata": {},
   "outputs": [
    {
     "name": "stdout",
     "output_type": "stream",
     "text": [
      "The maximum among [10, 7, 15, 22, 8] is: 22\n"
     ]
    }
   ],
   "source": [
    "numbers = [10, 7, 15, 22, 8]\n",
    "max_number = max(numbers)  \n",
    "print(\"The maximum among {} is: {}\".format(numbers,max_number))"
   ]
  },
  {
   "cell_type": "markdown",
   "id": "4f09c571-9336-4fa4-a8b6-b2d2951f3397",
   "metadata": {},
   "source": [
    "min():\n",
    "\n",
    "1. The min() function is used to find the minimum element from a sequence or a set of values.\n",
    "\n",
    "2. It returns the smallest item from the provided sequence or among the arguments passed.\n",
    "\n",
    "Example:"
   ]
  },
  {
   "cell_type": "code",
   "execution_count": 35,
   "id": "4a52c54a-ca7b-4d68-9b90-7157f9445fd3",
   "metadata": {},
   "outputs": [
    {
     "name": "stdout",
     "output_type": "stream",
     "text": [
      "The minimum among [10, 7, 15, 22, 8] is: 7\n"
     ]
    }
   ],
   "source": [
    "numbers = [10, 7, 15, 22, 8]\n",
    "min_number = min(numbers)  \n",
    "print(\"The minimum among {} is: {}\".format(numbers,min_number))"
   ]
  },
  {
   "cell_type": "markdown",
   "id": "4b11434c-332e-46df-a481-280947377f17",
   "metadata": {},
   "source": [
    "**Q2. Write a Python program that uses the `map()` function to apply a function to each element of a list.**"
   ]
  },
  {
   "cell_type": "code",
   "execution_count": 36,
   "id": "07352a2c-3ff8-4b02-bf21-258b555f21da",
   "metadata": {},
   "outputs": [
    {
     "name": "stdout",
     "output_type": "stream",
     "text": [
      "Original numbers: [1, 2, 3, 4, 5]\n",
      "Squared numbers: [1, 4, 9, 16, 25]\n"
     ]
    }
   ],
   "source": [
    "# Function to square a number\n",
    "def square(x):\n",
    "    return x ** 2\n",
    "\n",
    "# List of numbers\n",
    "numbers = [1, 2, 3, 4, 5]\n",
    "\n",
    "# Using map() to apply the square function to each element in the list\n",
    "squared_numbers = list(map(square, numbers))\n",
    "\n",
    "# Displaying the original and squared numbers\n",
    "print(\"Original numbers:\", numbers)\n",
    "print(\"Squared numbers:\", squared_numbers"
   ]
  },
  {
   "cell_type": "markdown",
   "id": "11eae3cd-8cb2-4c6f-b36d-3194d7055c03",
   "metadata": {},
   "source": [
    "**Explanation:**\n",
    "\n",
    "\"square(x)\" is a function defined to calculate the square of a number x.\n",
    "\n",
    "\"numbers\" is a list containing [1, 2, 3, 4, 5].\n",
    "\n",
    "\"map(square, numbers)\" applies the square function to each element of the \"numbers\" list using the map() function. It creates an iterator containing the squared values.\n",
    "\n",
    "\"list()\" is used to convert the iterator returned by map() into a list, containing the squared values.\n",
    "\n",
    "The original list \"numbers\" and the list of squared numbers (squared_numbers) are displayed using print()."
   ]
  },
  {
   "cell_type": "markdown",
   "id": "657ed6e3-e6fc-42e0-a25b-21019e428280",
   "metadata": {},
   "source": [
    "**Q3. How does the `filter()` function work in Python, and when would you use it?**"
   ]
  },
  {
   "cell_type": "markdown",
   "id": "56535822-38f7-4f7f-9c9a-416ac39e0201",
   "metadata": {},
   "source": [
    "The filter() function in Python is used to filter elements from an iterable (such as a list, tuple, etc.) based on a specified condition. It creates an iterator that yields elements from the iterable for which a given function returns True.\n",
    "\n",
    "Syntax: filter(function, iterable)\n",
    "\n",
    "\"function\" represents a function that defines the filtering condition. This function should return a boolean value (True or False). If None is passed, it simply filters out elements that are considered \"falsey\".\n",
    "\n",
    "\"iterable\" represents the iterable (list, tuple, etc.) from which elements are filtered.\n",
    "\n",
    "Below is the example of \"filter()\" function: "
   ]
  },
  {
   "cell_type": "code",
   "execution_count": 37,
   "id": "cded86f9-c81f-4f59-84ac-35eb772751b3",
   "metadata": {},
   "outputs": [
    {
     "name": "stdout",
     "output_type": "stream",
     "text": [
      "Original numbers: [1, 2, 3, 4, 5, 6, 7, 8, 9, 10]\n",
      "Filtered even numbers: [2, 4, 6, 8, 10]\n"
     ]
    }
   ],
   "source": [
    "# Function to filter even numbers\n",
    "def is_even(num):\n",
    "    return num % 2 == 0\n",
    "\n",
    "# List of numbers\n",
    "numbers = [1, 2, 3, 4, 5, 6, 7, 8, 9, 10]\n",
    "\n",
    "# Using filter() to filter even numbers from the list\n",
    "even_numbers = list(filter(is_even, numbers))\n",
    "\n",
    "print(\"Original numbers:\", numbers)\n",
    "print(\"Filtered even numbers:\", even_numbers)"
   ]
  },
  {
   "cell_type": "markdown",
   "id": "ea7959d2-ddd9-4200-be78-58eed1db90fd",
   "metadata": {},
   "source": [
    "**Explanation:**\n",
    "\n",
    "is_even(num) is a function that checks if a number is even or not, by checking if its remainder when divided by 2 is 0.\n",
    "\n",
    "\"numbers\" is a list containing [1, 2, 3, 4, 5, 6, 7, 8, 9, 10].\n",
    "\n",
    "\"filter(is_even, numbers)\" applies the \"is_even()\" function to each element in the numbers list. It filters out elements for which is_even() returns True.\n",
    "\n",
    "\"list()\" converts the iterator returned by filter() into a list, containing the filtered even numbers.\n",
    "\n",
    "The original list \"numbers\" and the list of filtered even numbers (even_numbers) are displayed using print()."
   ]
  },
  {
   "cell_type": "markdown",
   "id": "f2a5e0a2-9188-436c-85d9-a9505e776f53",
   "metadata": {},
   "source": [
    "**Q4. Create a Python program that uses the `reduce()` function to find the product of all elements in a list.**"
   ]
  },
  {
   "cell_type": "code",
   "execution_count": 38,
   "id": "2163736e-43ea-42ae-b128-bca6a6f964a5",
   "metadata": {},
   "outputs": [
    {
     "name": "stdout",
     "output_type": "stream",
     "text": [
      "Original numbers: [2, 3, 4, 5]\n",
      "Product of all elements: 120\n"
     ]
    }
   ],
   "source": [
    "from functools import reduce\n",
    "\n",
    "# Function to multiply two numbers\n",
    "def multiply(x, y):\n",
    "    return x * y\n",
    "\n",
    "# List of numbers\n",
    "numbers = [2, 3, 4, 5]\n",
    "\n",
    "# Finding the product of all elements in the list using reduce()\n",
    "product = reduce(multiply, numbers)\n",
    "\n",
    "# Displaying the original list and the product\n",
    "print(\"Original numbers:\", numbers)\n",
    "print(\"Product of all elements:\", product)"
   ]
  },
  {
   "cell_type": "markdown",
   "id": "c457849f-c93a-4076-b837-ebb087b3ea31",
   "metadata": {},
   "source": [
    "**Explanation:**\n",
    "\n",
    "Import the reduce function from functools module.\n",
    "\n",
    "\"multiply(x, y)\" is a function defined to multiply two numbers x and y.\n",
    "\n",
    "\"numbers\" is a list containing [2, 3, 4, 5].\n",
    "\n",
    "\"reduce(multiply, numbers)\" applies the multiply() function successively to all elements in the numbers list. It multiplies the elements cumulatively.\n",
    "\n",
    "The result of the cumulative multiplication (product) is stored in the \"product\" variable.\n",
    "\n",
    "The original list \"numbers\" and the product of all elements (product) are displayed using print()."
   ]
  },
  {
   "cell_type": "markdown",
   "id": "26b40a3e-6c09-4f70-968a-a1c58fe427e8",
   "metadata": {},
   "source": [
    "# Function Documentation and Best Practices:"
   ]
  },
  {
   "cell_type": "markdown",
   "id": "ddbf8ab7-78df-482a-8f83-837bcf47c367",
   "metadata": {},
   "source": [
    "**Q1. Explain the purpose of docstrings in Python functions and how to write them.**"
   ]
  },
  {
   "cell_type": "markdown",
   "id": "1144c1d6-95d8-4d89-9d5f-60e6063d4eeb",
   "metadata": {},
   "source": [
    "Docstrings in Python are used to provide documentation or a description about functions, classes, modules, or methods within a codebase. They serve as a form of inline documentation and help in understanding the purpose, functionality, and usage of the code elements. Docstrings are accessed using the \"__doc__\" attribute of the respective object.\n",
    "\n",
    "Purpose of Docstrings:\n",
    "\n",
    "1. They serve as a way to document the purpose, usage, parameters, and return values of functions or methods.\n",
    "\n",
    "2. Docstrings improve code readability by providing information about the code without needing to look into its implementation.\n",
    "\n",
    "3. They can be accessed programmatically, allowing tools to generate documentation or provide help for modules, functions, etc.\n",
    "\n",
    "Docstrings are enclosed in triple quotes (''' ''' or \"\"\" \"\"\") and are placed immediately after the definition of a function, class, method, or module.\n",
    "\n",
    "Below is an example of a docstring for a function:"
   ]
  },
  {
   "cell_type": "code",
   "execution_count": 39,
   "id": "a817577b-edff-4b3b-bfdf-85c5d7e2f2d0",
   "metadata": {},
   "outputs": [
    {
     "name": "stdout",
     "output_type": "stream",
     "text": [
      "Calculate the square of a given number.\n",
      "\n",
      "    Args:\n",
      "        number (int): The number for which the square needs to be calculated.\n",
      "\n",
      "    Returns:\n",
      "        int: The square of the input number.\n",
      "    \n"
     ]
    }
   ],
   "source": [
    "def calculate_square(number):\n",
    "    \"\"\"Calculate the square of a given number.\n",
    "\n",
    "    Args:\n",
    "        number (int): The number for which the square needs to be calculated.\n",
    "\n",
    "    Returns:\n",
    "        int: The square of the input number.\n",
    "    \"\"\"\n",
    "    return number ** 2\n",
    "\n",
    "print(calculate_square.__doc__)"
   ]
  },
  {
   "cell_type": "markdown",
   "id": "556d49f5-410d-47af-8d8b-87e1c17dbdf6",
   "metadata": {},
   "source": [
    "**Explanation of the docstring components:**\n",
    "\n",
    "Summary/Description: A brief description of what the function does.\n",
    "\n",
    "Args: Describes the parameters (arguments) the function accepts, their types, and what they represent.\n",
    "\n",
    "Returns: Describes the return value of the function and its type."
   ]
  },
  {
   "cell_type": "markdown",
   "id": "f2676a5b-7066-4466-870a-0821c89e9452",
   "metadata": {},
   "source": [
    "**Q2. Describe some best practices for naming functions and variables in Python, including naming conventions and guidelines.**"
   ]
  },
  {
   "cell_type": "markdown",
   "id": "9b8805b6-b4dd-4a40-ae20-21036b6d250a",
   "metadata": {},
   "source": [
    "Following are the Best practices for naming functions and variables in python:\n",
    "\n",
    "1. Use lowercase letters and underscores to separate words (snake_case). Use descriptive names that convey the purpose of the function or the data stored in the variable. Example: \"calculate_square_area()\", \"user_age = 25\".\n",
    "\n",
    "2. Use meaningful names that describe the purpose or intent of the function or variable. Avoid single-letter or ambiguous names (unless they're conventional in the context, like i for loop iterators).\n",
    "\n",
    "3. Maintain consistency in naming across your codebase. Use the same style and format for similar entities (functions, variables) to enhance readability.\n",
    "\n",
    "4. Avoid using Python reserved keywords (e.g., def, for, while, class, if, else) as function or variable names.\n",
    "\n",
    "5. For functions that perform actions or operations, use verbs to indicate the action being taken. Example: \"calculate\", \"validate\".\n",
    "\n",
    "6. If using abbreviations, ensure they are widely understood and intuitive. Avoid overly cryptic abbreviations that may confuse others reading the code. Example: \"max_len\", \"num_iter\".\n",
    "\n",
    "7. Stick to the guidelines outlined in PEP 8, Python's style guide, for naming conventions and code readability."
   ]
  },
  {
   "cell_type": "code",
   "execution_count": null,
   "id": "72b586dd-5601-4610-bd39-e26772d26fb1",
   "metadata": {},
   "outputs": [],
   "source": []
  }
 ],
 "metadata": {
  "kernelspec": {
   "display_name": "Python 3 (ipykernel)",
   "language": "python",
   "name": "python3"
  },
  "language_info": {
   "codemirror_mode": {
    "name": "ipython",
    "version": 3
   },
   "file_extension": ".py",
   "mimetype": "text/x-python",
   "name": "python",
   "nbconvert_exporter": "python",
   "pygments_lexer": "ipython3",
   "version": "3.10.8"
  }
 },
 "nbformat": 4,
 "nbformat_minor": 5
}
