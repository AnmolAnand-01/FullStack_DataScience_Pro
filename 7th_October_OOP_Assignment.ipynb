{
 "cells": [
  {
   "cell_type": "markdown",
   "id": "ab2f03b8-16e5-4ea1-9c42-b8db11117b3b",
   "metadata": {},
   "source": [
    "# Problem 1: Bank Account Create a class representing a bank account with attributes like account number, account holder name, and balance. Implement methods to deposit and withdraw money from the account."
   ]
  },
  {
   "cell_type": "code",
   "execution_count": 12,
   "id": "add2181f-c3cc-454d-b1e0-01b7868761f4",
   "metadata": {},
   "outputs": [],
   "source": [
    "import random\n",
    "\n",
    "class bank_account:\n",
    "    \n",
    "    def __init__(self, name, amount=0):\n",
    "        self.name=name\n",
    "        self.amount=amount\n",
    "        self.account_number = random.randint(1000000000, 9999999999) #Generate a random 10 digit number as account number.\n",
    "        \n",
    "    def show_details(self):\n",
    "        print(\"Name:\", self.name)\n",
    "        print(\"Account Number:\", self.account_number)\n",
    "        print(\"Account Balance:\", self.amount)\n",
    "        \n",
    "    def depoist_money(self, amount):\n",
    "        self.amount+=amount\n",
    "        print(\"Your current balance is:\",self.amount)\n",
    "        \n",
    "    def withdraw_money(self, amount):\n",
    "        if self.amount < amount:\n",
    "            print(\"You cannot withdraw {} Your account balance is less than: {}\".format(amount,self.amount))\n",
    "        else:\n",
    "            self.amount -= amount\n",
    "            print(\"Your current balance is:\",self.amount)\n",
    "        "
   ]
  },
  {
   "cell_type": "code",
   "execution_count": 13,
   "id": "4b7e107d-31d7-48bc-a5c6-a708134edc56",
   "metadata": {},
   "outputs": [
    {
     "name": "stdout",
     "output_type": "stream",
     "text": [
      "Name: Anmol\n",
      "Account Number: 3129943763\n",
      "Account Balance: 3400\n",
      "\n",
      "\n",
      "Your current balance is: 3800\n",
      "\n",
      "\n",
      "Your current balance is: 2800\n",
      "\n",
      "\n",
      "Name: Anmol\n",
      "Account Number: 3129943763\n",
      "Account Balance: 2800\n"
     ]
    }
   ],
   "source": [
    "user1=bank_account(\"Anmol\", 3400)\n",
    "user1.show_details()\n",
    "print('\\n')\n",
    "user1.depoist_money(400)\n",
    "print('\\n')\n",
    "user1.withdraw_money(1000)\n",
    "print('\\n')\n",
    "user1.show_details()"
   ]
  },
  {
   "cell_type": "code",
   "execution_count": 14,
   "id": "ffb93258-fc4a-4979-984f-31866e662aef",
   "metadata": {},
   "outputs": [
    {
     "name": "stdout",
     "output_type": "stream",
     "text": [
      "Name: Anand\n",
      "Account Number: 8363011687\n",
      "Account Balance: 0\n",
      "\n",
      "\n",
      "Your current balance is: 400\n",
      "\n",
      "\n",
      "You cannot withdraw 1000 Your account balance is less than: 400\n",
      "\n",
      "\n",
      "Name: Anand\n",
      "Account Number: 8363011687\n",
      "Account Balance: 400\n"
     ]
    }
   ],
   "source": [
    "user1=bank_account(\"Anand\")\n",
    "user1.show_details()\n",
    "print('\\n')\n",
    "user1.depoist_money(400)\n",
    "print('\\n')\n",
    "user1.withdraw_money(1000)\n",
    "print('\\n')\n",
    "user1.show_details()"
   ]
  },
  {
   "cell_type": "markdown",
   "id": "5d4c7a7f-0d9a-4cac-be5d-e6265768a773",
   "metadata": {},
   "source": [
    "**Explanation:**\n",
    "\n",
    "\"import random\" this line imports the random module, which we have used to generate a random 10-digit account number for each bank account.\n",
    "\n",
    "Inside the \"bank_account\" class \"__init__\" method is a constructor method used to initialize a bank account object. It takes the account holder's name as a mandatory argument and an optional argument amount (defaulted to 0). It initializes the account holder's name, the initial amount, and generates a random 10-digit account number using random.randint().\n",
    "\n",
    "\"show_details\" method displays the account holder's name, account number, and account balance.\n",
    "\n",
    "\"deposit_money\" method takes an amount as an argument and adds it to the account balance. It then displays the updated balance.\n",
    "\n",
    "\"withdraw_money\" method takes an amount as an argument and checks if the account balance is sufficient for the withdrawal. If the balance is enough, it subtracts the amount from the account balance and displays the updated balance. If the balance is insufficient, it displays a message indicating so.\n",
    "\n",
    "An instance \"user1\" of the \"bank_account\" class is created with the name \"Anmol\" and an initial amount of 3400.\n",
    "\n",
    "user1's details are displayed using \"user1.show_details()\".\n",
    "\n",
    "\"user1.deposit_money(400)\" is called to deposit 400 into the account.\n",
    "\n",
    "\"user1.withdraw_money(1000)\" is called to withdraw 1000 from the account.\n",
    "\n",
    "\"user1.show_details()\" is called again to display the updated account details after deposit and withdrawal."
   ]
  },
  {
   "cell_type": "markdown",
   "id": "bdfd518e-4f68-40a5-9dff-56539cbc9172",
   "metadata": {},
   "source": [
    "# Problem 2: Employee Management Create a class representing an employee with attributes like employee ID, name, and salary. Implement methods to calculate the yearly bonus and display employee details."
   ]
  },
  {
   "cell_type": "code",
   "execution_count": 10,
   "id": "c3a4a262-25c2-42a8-a624-8aa5ddf6c6a8",
   "metadata": {},
   "outputs": [],
   "source": [
    "import random\n",
    "\n",
    "class employee_management:\n",
    "    \n",
    "    def __init__(self, name, salary):\n",
    "        self.employee_name = name\n",
    "        self.employee_id = random.randint(10000, 99999) #Generate a random 5 digit number as Employee Id.\n",
    "        self.employee_salary = salary\n",
    "        self.bonus_amount = 0 #Initially the bonus amount is 0, It is updated once we invoke \"calculate_bonus()\" method. \n",
    "        \n",
    "    def display_details(self):\n",
    "        print(\"Name: \", self.employee_name)\n",
    "        print(\"Employee Id: \", self.employee_id)\n",
    "        print(\"Salary: \", self.employee_salary)\n",
    "        print(\"Bonus: \", self.bonus_amount)\n",
    "        \n",
    "    def calculate_bonus(self):\n",
    "        self.bonus_amount=0.1*self.employee_salary #Assuming bonus to be 10% of the salary.\n",
    "        print(\"Your bonus amount is:\", self.bonus_amount)"
   ]
  },
  {
   "cell_type": "code",
   "execution_count": 11,
   "id": "53d58ffd-7d07-4629-b039-2be250888790",
   "metadata": {},
   "outputs": [
    {
     "name": "stdout",
     "output_type": "stream",
     "text": [
      "Name:  Anmol\n",
      "Employee Id:  33835\n",
      "Salary:  2500000\n",
      "Bonus:  0\n",
      "\n",
      "\n",
      "Your bonus amount is: 250000.0\n",
      "\n",
      "\n",
      "Name:  Anmol\n",
      "Employee Id:  33835\n",
      "Salary:  2500000\n",
      "Bonus:  250000.0\n"
     ]
    }
   ],
   "source": [
    "emp1=employee_management(\"Anmol\",2500000)\n",
    "emp1.display_details()\n",
    "print('\\n')\n",
    "emp1.calculate_bonus()\n",
    "print('\\n')\n",
    "emp1.display_details()"
   ]
  },
  {
   "cell_type": "markdown",
   "id": "af1f96c3-378f-4604-88eb-ee83a6aaccac",
   "metadata": {},
   "source": [
    "**Explanation:**\n",
    "\n",
    "\"import random\" this line imports the random module, used to generate a random 5-digit employee ID for each employee.\n",
    "\n",
    "Inside the \"employee_management\" class, \"__init__\" method is constructor method that initializes an employee's details. It takes name (employee name) and salary (employee's salary) as arguments. It initializes the employee's name, generates a random 5-digit employee ID using \"random.randint()\", sets the employee's salary, and initializes the bonus amount to 0.\n",
    "\n",
    "\"display_details\" method displays the employee's name, ID, salary, and bonus amount.\n",
    "\n",
    "\"calculate_bonus\" calculates the bonus amount for the employee, assuming it's 10% of the employee's salary. It updates the bonus_amount attribute accordingly.\n",
    "\n",
    "An instance emp1 of the employee_management class is created with the name \"Anmol\" and a salary of 2500000.\n",
    "\n",
    "\"emp1.display_details()\" is called to display the initial details of the employee.\n",
    "\n",
    "\"emp1.calculate_bonus()\" is called to calculate the bonus based on the salary.\n",
    "\n",
    "\"emp1.display_details()\" is called again to display the updated details after calculating the bonus."
   ]
  },
  {
   "cell_type": "markdown",
   "id": "56f86e6b-83d5-42eb-bb0f-6c77875d36ee",
   "metadata": {},
   "source": [
    "# Problem 3: Vehicle Rental Create a class representing a vehicle rental system. Implement methods to rent a vehicle, return a vehicle, and display available vehicles."
   ]
  },
  {
   "cell_type": "code",
   "execution_count": 25,
   "id": "47a675d0-13cb-4282-903a-6041d79d8fda",
   "metadata": {},
   "outputs": [],
   "source": [
    "class vehicle_rental_system:\n",
    "    \n",
    "    # Initialising the details.\n",
    "    def __init__(self):\n",
    "        self.original_list_of_vehicles=[{\"Name\" : \"Scorpio-N\", \"No.\" : \"KA01AA0001\"},\n",
    "                                        {\"Name\" : \"Scorpio-N\", \"No.\" : \"KA01AA0002\"},\n",
    "                                        {\"Name\" : \"Swift Dzire\", \"No.\" : \"KA01AA0003\"},\n",
    "                                        {\"Name\" : \"Tata Nexon\", \"No.\" : \"KA01AA0004\"},\n",
    "                                        {\"Name\" : \"Fortuner\", \"No.\" : \"KA01AA0005\"},\n",
    "                                        {\"Name\" : \"Inova\", \"No.\" : \"KA01AA0006\"}]\n",
    "        self.available_vehicles=(self.original_list_of_vehicles).copy()\n",
    "        self.rented_vehicles=[]\n",
    "        self.original_count=6\n",
    "        self.available_count=9\n",
    "        self.rented_count=0\n",
    "        \n",
    "    # Function to display the list of availabe vehicles    \n",
    "    def disp_available(self):\n",
    "        if self.available_count>0: # Check if any vehicle is availabe for rent\n",
    "            for i,vehicle in enumerate(self.available_vehicles):\n",
    "                vehicle_info=list(vehicle.values())\n",
    "                print(\"{}. Vehicle Name: {}, Vehicle No.:{}\".format(i+1,vehicle_info[0],vehicle_info[1]))\n",
    "        else:\n",
    "            print(\"There is no vehicle available for rent.\"),\n",
    "     \n",
    "    # Function to rent out the vehicle.\n",
    "    def rent_vehicle(self,vehicle_name, vehicle_no):\n",
    "        temp={\"Name\" : vehicle_name, 'No.' : vehicle_no}\n",
    "        if temp in self.available_vehicles: # Check if the required vehicle is available or not\n",
    "            (self.available_vehicles).remove(temp)\n",
    "            (self.rented_vehicles).append(temp)\n",
    "            self.available_count-=1\n",
    "            self.rented_count+=1\n",
    "            print(f\"You have rented the vehicle '{vehicle_name}' with '{vehicle_no}'\")\n",
    "        else:\n",
    "            print(f\"The vehicle '{vehicle_name}' with '{vehicle_no}' is not available for rent\")\n",
    "            \n",
    "    def return_vehicle(self,vehicle_name,vehicle_no):\n",
    "        temp={\"Name\" : vehicle_name, 'No.' : vehicle_no}\n",
    "        if temp in self.original_list_of_vehicles: # Check if the vehicle being returned belongs to the rental service or not.\n",
    "            if temp in self.rented_vehicles: # check if the vehicle being returned was rented or not.\n",
    "                (self.available_vehicles).append(temp)\n",
    "                (self.rented_vehicles).remove(temp)\n",
    "                self.available_count+=1\n",
    "                self.rented_count-=1\n",
    "                print(f\"You have returned the vehicle '{vehicle_name}' with '{vehicle_no}'\")\n",
    "            else:\n",
    "                print(f\"The vehicle '{vehicle_name}' with '{vehicle_no}' is not rented\")\n",
    "        else:\n",
    "            print(f\"The vehicle '{vehicle_name}' with '{vehicle_no}' do not belongs to our rental service\")"
   ]
  },
  {
   "cell_type": "code",
   "execution_count": 26,
   "id": "11a274c0-539a-401a-895e-1f730b7e0e73",
   "metadata": {},
   "outputs": [
    {
     "name": "stdout",
     "output_type": "stream",
     "text": [
      "1. Vehicle Name: Scorpio-N, Vehicle No.:KA01AA0001\n",
      "2. Vehicle Name: Scorpio-N, Vehicle No.:KA01AA0002\n",
      "3. Vehicle Name: Swift Dzire, Vehicle No.:KA01AA0003\n",
      "4. Vehicle Name: Tata Nexon, Vehicle No.:KA01AA0004\n",
      "5. Vehicle Name: Fortuner, Vehicle No.:KA01AA0005\n",
      "6. Vehicle Name: Inova, Vehicle No.:KA01AA0006\n",
      "\n",
      "\n",
      "You have rented the vehicle 'Scorpio-N' with 'KA01AA0001'\n",
      "\n",
      "\n",
      "1. Vehicle Name: Scorpio-N, Vehicle No.:KA01AA0002\n",
      "2. Vehicle Name: Swift Dzire, Vehicle No.:KA01AA0003\n",
      "3. Vehicle Name: Tata Nexon, Vehicle No.:KA01AA0004\n",
      "4. Vehicle Name: Fortuner, Vehicle No.:KA01AA0005\n",
      "5. Vehicle Name: Inova, Vehicle No.:KA01AA0006\n",
      "\n",
      "\n",
      "The vehicle 'Scorpio-N' with 'KA01AA0009' do not belongs to our rental service\n",
      "\n",
      "\n",
      "The vehicle 'Scorpio-N' with 'KA01AA0002' is not rented\n",
      "\n",
      "\n",
      "You have returned the vehicle 'Scorpio-N' with 'KA01AA0001'\n",
      "\n",
      "\n",
      "1. Vehicle Name: Scorpio-N, Vehicle No.:KA01AA0002\n",
      "2. Vehicle Name: Swift Dzire, Vehicle No.:KA01AA0003\n",
      "3. Vehicle Name: Tata Nexon, Vehicle No.:KA01AA0004\n",
      "4. Vehicle Name: Fortuner, Vehicle No.:KA01AA0005\n",
      "5. Vehicle Name: Inova, Vehicle No.:KA01AA0006\n",
      "6. Vehicle Name: Scorpio-N, Vehicle No.:KA01AA0001\n"
     ]
    }
   ],
   "source": [
    "usr1=vehicle_rental_system()\n",
    "usr1.disp_available()\n",
    "print('\\n')\n",
    "usr1.rent_vehicle(\"Scorpio-N\", \"KA01AA0001\")\n",
    "print('\\n')\n",
    "usr1.disp_available()\n",
    "print('\\n')\n",
    "usr1.return_vehicle(\"Scorpio-N\", \"KA01AA0009\")\n",
    "print('\\n')\n",
    "usr1.return_vehicle(\"Scorpio-N\", \"KA01AA0002\")\n",
    "print('\\n')\n",
    "usr1.return_vehicle(\"Scorpio-N\", \"KA01AA0001\")\n",
    "print('\\n')\n",
    "usr1.disp_available()"
   ]
  },
  {
   "cell_type": "markdown",
   "id": "fe15a64b-0a8a-41e8-9204-d0f7c3c87ba2",
   "metadata": {},
   "source": [
    "**Explanation:**\n",
    "\n",
    "We are defining a \"vehicle_rental_system\" class that simulates a basic vehicle rental system.\n",
    "\n",
    "\"__init__\" method initializes the vehicle rental system by creating a list of vehicles (original_list_of_vehicles), marking all vehicles as available initially, and maintaining counts for available, rented, and original vehicles.\n",
    "\n",
    "\"disp_available\" method displays the available vehicles for rent. It checks if there are available vehicles (\"if self.available_count > 0\") and iterates through self.available_vehicles to print the details of available vehicles. If there are no available vehicles, it prints a message indicating no vehicles are available.\n",
    "\n",
    "\"rent_vehicle\" method allows a user to rent a vehicle by specifying the vehicle name and number. It checks if the specified vehicle is available (\"if temp in self.available_vehicles\"), removes it from the available list, adds it to the rented list, and updates the counts accordingly. It prints a confirmation message or a message if the vehicle is not available for rent.\n",
    "\n",
    "\"return_vehicle\" method allows a user to return a rented vehicle by specifying the vehicle name and number. It checks if the vehicle belongs to the rental service (\"if temp in self.original_list_of_vehicles\"), then check if it was rented or not (\"if temp in self.rented_vehicles\"), and then updates the available and rented lists along with the counts. It prints a confirmation message for the return or an appropriate message if the vehicle is not found or not rented.\n",
    "\n",
    "An instance \"usr1\" of the vehicle_rental_system class is created.\n",
    "\n",
    "\"usr1.disp_available()\" displays the available vehicles initially.\n",
    "\n",
    "\"usr1.rent_vehicle(\"Scorpio-N\", \"KA01AA0001\")\" simulates renting a vehicle.\n",
    "\n",
    "After renting and returning vehicles using \"usr1.return_vehicle()\" , the available vehicles are displayed again using \"usr1.disp_available()\"."
   ]
  },
  {
   "cell_type": "markdown",
   "id": "76b4315d-d6c0-4a42-a8a7-0f5b60df22a0",
   "metadata": {},
   "source": [
    "# Problem 4: Library Catalog Create classes representing a library and a book. Implement methods to add books to the library, borrow books, and display available books."
   ]
  },
  {
   "cell_type": "code",
   "execution_count": 19,
   "id": "e4c8fd10-313e-4624-9863-82b8d1261c0f",
   "metadata": {},
   "outputs": [],
   "source": [
    "class library_system:\n",
    "    \n",
    "    # Initialising the details.\n",
    "    def __init__(self):\n",
    "        self.original_list_of_books=[{\"Name\" : \"Making India Awesome\", \"Author\" : \"Chetan Bhagat\"},\n",
    "                                        {\"Name\" : \"Revolution 2020\", \"Author\" : \"Chetan Bhagat\"},\n",
    "                                        {\"Name\" : \"A Prisoner’s Scrapbook\", \"Author\" : \"L.K. Advani\"},\n",
    "                                        {\"Name\" : \"A Bunch of Old Letter\", \"Author\" : \"Jawaharlal Nehru\"},\n",
    "                                        {\"Name\" : \"Bharat Bharati\", \"Author\" : \"Maithili Saran Gupt\"},\n",
    "                                        {\"Name\" : \"Forty-Nine Days\", \"Author\" : \"Amrita Pritam\"}]\n",
    "        self.available_books=(self.original_list_of_books).copy()\n",
    "        self.rented_books=[]\n",
    "        self.original_count=6\n",
    "        self.available_count=6\n",
    "        self.rented_count=0\n",
    "        \n",
    "    # Function to display the list of availabe books    \n",
    "    def disp_available(self):\n",
    "        if self.available_count>0: # Check if any book is availabe for borrow\n",
    "            for i,book in enumerate(self.available_books):\n",
    "                book_info=list(book.values())\n",
    "                print(\"{}. Book Name: {}, Author: {}\".format(i+1,book_info[0],book_info[1]))\n",
    "        else:\n",
    "            print(\"There is no book available for borrow.\"),\n",
    "     \n",
    "    # Function to rent out the vehicle.\n",
    "    def borrow_book(self,book_name, author):\n",
    "        temp={\"Name\" : book_name, 'Author' : author}\n",
    "        if temp in self.available_books: # Check if the required book is available or not\n",
    "            (self.available_books).remove(temp)\n",
    "            (self.rented_books).append(temp)\n",
    "            self.available_count-=1\n",
    "            self.rented_count+=1\n",
    "            print(f\"You have borrowed the book '{book_name}' with author name '{author}'\")\n",
    "        else:\n",
    "            print(f\"The book '{book_name}' with author name '{author}' is not available for borrow\")\n",
    "            \n",
    "    def return_book(self,book_name,author):\n",
    "        temp={\"Name\" : book_name, 'Author' : author}\n",
    "        if temp in self.original_list_of_books: # Check if the book being returned belongs to the Library service or not.\n",
    "            if temp in self.rented_books: # check if the book being returned was borrowed or not.\n",
    "                (self.available_books).append(temp)\n",
    "                (self.rented_books).remove(temp)\n",
    "                self.available_count+=1\n",
    "                self.rented_count-=1\n",
    "                print(f\"You have returned the book '{book_name}' with author name '{author}'\")\n",
    "            else:\n",
    "                print(f\"The book '{book_name}' with author name '{author}' is not borrowed\")\n",
    "        else:\n",
    "            print(f\"The book '{book_name}' with author name '{author}' do not belongs to our library\")"
   ]
  },
  {
   "cell_type": "code",
   "execution_count": 23,
   "id": "40b3d431-f871-4f15-95fe-b49b3df19b45",
   "metadata": {},
   "outputs": [
    {
     "name": "stdout",
     "output_type": "stream",
     "text": [
      "1. Book Name: Making India Awesome, Author: Chetan Bhagat\n",
      "2. Book Name: Revolution 2020, Author: Chetan Bhagat\n",
      "3. Book Name: A Prisoner’s Scrapbook, Author: L.K. Advani\n",
      "4. Book Name: A Bunch of Old Letter, Author: Jawaharlal Nehru\n",
      "5. Book Name: Bharat Bharati, Author: Maithili Saran Gupt\n",
      "6. Book Name: Forty-Nine Days, Author: Amrita Pritam\n",
      "\n",
      "\n",
      "You have borrowed the book 'Forty-Nine Days' with author name 'Amrita Pritam'\n",
      "\n",
      "\n",
      "1. Book Name: Making India Awesome, Author: Chetan Bhagat\n",
      "2. Book Name: Revolution 2020, Author: Chetan Bhagat\n",
      "3. Book Name: A Prisoner’s Scrapbook, Author: L.K. Advani\n",
      "4. Book Name: A Bunch of Old Letter, Author: Jawaharlal Nehru\n",
      "5. Book Name: Bharat Bharati, Author: Maithili Saran Gupt\n",
      "\n",
      "\n",
      "You have borrowed the book 'Making India Awesome' with author name 'Chetan Bhagat'\n",
      "You have borrowed the book 'Revolution 2020' with author name 'Chetan Bhagat'\n",
      "\n",
      "\n",
      "You have borrowed the book 'A Prisoner’s Scrapbook' with author name 'L.K. Advani'\n",
      "You have borrowed the book 'Bharat Bharati' with author name 'Maithili Saran Gupt'\n",
      "\n",
      "\n",
      "The book 'A Bunch of Old Letter1' with author name 'Jawaharlal Nehru' is not available for borrow\n",
      "\n",
      "\n",
      "1. Book Name: A Bunch of Old Letter, Author: Jawaharlal Nehru\n",
      "\n",
      "\n",
      "You have returned the book 'Forty-Nine Days' with author name 'Amrita Pritam'\n",
      "\n",
      "\n",
      "1. Book Name: A Bunch of Old Letter, Author: Jawaharlal Nehru\n",
      "2. Book Name: Forty-Nine Days, Author: Amrita Pritam\n",
      "\n",
      "\n",
      "You have returned the book 'Making India Awesome' with author name 'Chetan Bhagat'\n",
      "You have returned the book 'Revolution 2020' with author name 'Chetan Bhagat'\n",
      "\n",
      "\n",
      "You have returned the book 'A Prisoner’s Scrapbook' with author name 'L.K. Advani'\n",
      "You have returned the book 'Bharat Bharati' with author name 'Maithili Saran Gupt'\n",
      "\n",
      "\n",
      "The book 'A Bunch of Old Letter' with author name 'Jawaharlal Nehru' is not borrowed\n",
      "\n",
      "\n",
      "1. Book Name: A Bunch of Old Letter, Author: Jawaharlal Nehru\n",
      "2. Book Name: Forty-Nine Days, Author: Amrita Pritam\n",
      "3. Book Name: Making India Awesome, Author: Chetan Bhagat\n",
      "4. Book Name: Revolution 2020, Author: Chetan Bhagat\n",
      "5. Book Name: A Prisoner’s Scrapbook, Author: L.K. Advani\n",
      "6. Book Name: Bharat Bharati, Author: Maithili Saran Gupt\n"
     ]
    }
   ],
   "source": [
    "student1=library_system()\n",
    "student1.disp_available()\n",
    "print('\\n')\n",
    "student1.borrow_book(\"Forty-Nine Days\", \"Amrita Pritam\")\n",
    "print('\\n')\n",
    "student1.disp_available()\n",
    "print('\\n')\n",
    "student1.borrow_book(\"Making India Awesome\", \"Chetan Bhagat\")\n",
    "student1.borrow_book(\"Revolution 2020\", \"Chetan Bhagat\")\n",
    "print('\\n')\n",
    "student1.borrow_book(\"A Prisoner’s Scrapbook\", \"L.K. Advani\")\n",
    "student1.borrow_book(\"Bharat Bharati\", \"Maithili Saran Gupt\")\n",
    "print('\\n')\n",
    "student1.borrow_book(\"A Bunch of Old Letter1\", \"Jawaharlal Nehru\")\n",
    "print('\\n')\n",
    "student1.disp_available()\n",
    "print('\\n')\n",
    "student1.return_book(\"Forty-Nine Days\", \"Amrita Pritam\")\n",
    "print('\\n')\n",
    "student1.disp_available()\n",
    "print('\\n')\n",
    "student1.return_book(\"Making India Awesome\", \"Chetan Bhagat\")\n",
    "student1.return_book(\"Revolution 2020\", \"Chetan Bhagat\")\n",
    "print('\\n')\n",
    "student1.return_book(\"A Prisoner’s Scrapbook\", \"L.K. Advani\")\n",
    "student1.return_book(\"Bharat Bharati\", \"Maithili Saran Gupt\")\n",
    "print('\\n')\n",
    "student1.return_book(\"A Bunch of Old Letter\", \"Jawaharlal Nehru\")\n",
    "print('\\n')\n",
    "student1.disp_available()"
   ]
  },
  {
   "cell_type": "markdown",
   "id": "aba0515b-8712-42c5-8fea-671f90cad540",
   "metadata": {},
   "source": [
    "**Explanation:**\n",
    "\n",
    "We are defining a \"library_system\" class, that simulates a basic library system for managing book borrowing and returning.\n",
    "\n",
    "\"__init__\" method initializes the library system by creating a list of books (original_list_of_books), marking all books as available initially, and maintaining counts for available, rented, and original books.\n",
    "\n",
    "\"disp_available\" method displays the available books for borrowing. It checks if there are available books (\"if self.available_count > 0\") and iterates through self.available_books to print the details of available books. If there are no available books, it prints a message indicating no books are available.\n",
    "\n",
    "\"borrow_book\" method allows a student to borrow a book by specifying the book name and author. It checks if the specified book is available (\"if temp in self.available_books\"), removes it from the available list, adds it to the borrowed list, and updates the counts accordingly. It prints a confirmation message or a message if the book is not available for borrowing.\n",
    "\n",
    "\"return_book\" method allows a student to return a borrowed book by specifying the book name and author. It checks if the book belongs to the library (\"if temp in self.original_list_of_books\"), then checks if it was borrowed or not (\" if temp in self.rented_books\"), and then updates the available and borrowed lists along with the counts. It prints a confirmation message for the return or an appropriate message if the book is not found or not borrowed.\n",
    "\n",
    "An instance student1 of the library_system class is created.\n",
    "\n",
    "\"student1.disp_available()\" displays the available books initially.\n",
    "\n",
    "\"student1.borrow_book(\"Forty-Nine Days\", \"Amrita Pritam\")\" simulates borrowing a book.\n",
    "\n",
    "After borrowing and returning books using \"student1.return_book()\", the available books are displayed again using \"student1.disp_available()\"."
   ]
  },
  {
   "cell_type": "markdown",
   "id": "d397ee00-a05d-45ee-aaed-eb9cf9698834",
   "metadata": {},
   "source": [
    "# Problem 5: Product Inventory Create classes representing a product and an inventory system. Implement methods to add products to the inventory, update product quantity, and display available products."
   ]
  },
  {
   "cell_type": "code",
   "execution_count": 28,
   "id": "bbe8bea0-81b8-4075-a7cf-d045f05b6923",
   "metadata": {},
   "outputs": [],
   "source": [
    "class product_inventory:\n",
    "    \n",
    "    #Initialising the Inventory.\n",
    "    def __init__(self):\n",
    "        self.product=['Notebook', 'Pen', 'Pencil', 'Ereasr', 'Sharpner', 'Chart Paper']\n",
    "        self.quantity=[10,12,14,10,14,16]\n",
    "        \n",
    "    #Function to add products to the Inventory.\n",
    "    def add_product(self, item, quantity):\n",
    "        self.product.append(item)\n",
    "        self.quantity.append(quantity)\n",
    "        print(\"The item '{}' with quantity '{}' is added to the inventory\".format(item,quantity)) \n",
    "    \n",
    "    #Function to update the quantity of eistig product in the Inventory.\n",
    "    def update_product_quantity(self, item, quantity):\n",
    "        if item in self.product:\n",
    "            ind=(self.product).index(item)\n",
    "            self.quantity[ind]=quantity\n",
    "            print(\"The quantity for item '{}' is updated to quantity '{}'\".format(item,quantity)) \n",
    "            \n",
    "        else:\n",
    "            print(\"Item '{}' is not available in the inventory\".format(item))\n",
    "    \n",
    "    #Function to display the details of the availabe products in the inventory.\n",
    "    def display_details(self):\n",
    "        for i in range(len(self.product)):\n",
    "            print(\"Item: '{}', Quantity: {}\".format(self.product[i],self.quantity[i]))\n",
    "            "
   ]
  },
  {
   "cell_type": "code",
   "execution_count": 31,
   "id": "dedbcf2c-beea-4f56-94bb-3cd7565c04ab",
   "metadata": {},
   "outputs": [
    {
     "name": "stdout",
     "output_type": "stream",
     "text": [
      "Item: 'Notebook', Quantity: 10\n",
      "Item: 'Pen', Quantity: 12\n",
      "Item: 'Pencil', Quantity: 14\n",
      "Item: 'Ereasr', Quantity: 10\n",
      "Item: 'Sharpner', Quantity: 14\n",
      "Item: 'Chart Paper', Quantity: 16\n",
      "\n",
      "\n",
      "The item 'Marker' with quantity '8' is added to the inventory\n",
      "\n",
      "\n",
      "Item: 'Notebook', Quantity: 10\n",
      "Item: 'Pen', Quantity: 12\n",
      "Item: 'Pencil', Quantity: 14\n",
      "Item: 'Ereasr', Quantity: 10\n",
      "Item: 'Sharpner', Quantity: 14\n",
      "Item: 'Chart Paper', Quantity: 16\n",
      "Item: 'Marker', Quantity: 8\n",
      "\n",
      "\n",
      "The quantity for item 'Ereasr' is updated to quantity '6'\n",
      "\n",
      "\n",
      "Item: 'Notebook', Quantity: 10\n",
      "Item: 'Pen', Quantity: 12\n",
      "Item: 'Pencil', Quantity: 14\n",
      "Item: 'Ereasr', Quantity: 6\n",
      "Item: 'Sharpner', Quantity: 14\n",
      "Item: 'Chart Paper', Quantity: 16\n",
      "Item: 'Marker', Quantity: 8\n"
     ]
    }
   ],
   "source": [
    "obj1=product_inventory()\n",
    "obj1.display_details()\n",
    "print('\\n')\n",
    "obj1.add_product('Marker',8)\n",
    "print('\\n')\n",
    "obj1.display_details()\n",
    "print('\\n')\n",
    "obj1.update_product_quantity('Ereasr', 6)\n",
    "print('\\n')\n",
    "obj1.display_details()"
   ]
  },
  {
   "cell_type": "markdown",
   "id": "b3c16a2e-7750-42f0-b0ed-fe6c86b814d8",
   "metadata": {},
   "source": [
    "**Explanation:**\n",
    "\n",
    "We are defining a product_inventory class that simulates an inventory system for products.\n",
    "\n",
    "\"__init__\" method initializes the product inventory by creating lists for products (self.product) and their quantities (self.quantity).\n",
    "\n",
    "\"add_product\" method adds a new product to the inventory along with its quantity. It takes the item name and quantity as arguments, appends the new item and quantity to their respective lists, and prints a confirmation message.\n",
    "\n",
    "\"update_product_quantity\" method updates the quantity of an existing product in the inventory. It checks if the specified item exists in the product list (self.product). If found, it retrieves the index of the item using index() method, updates the quantity at that index in the \"self.quantity\" list, and prints a message confirming the update. If the item doesn't exist, it prints a message indicating that the item is not available in the inventory.\n",
    "\n",
    "\"display_details\" method displays the details of available products in the inventory. It iterates through the \"self.product\" and \"self.quantity\" lists simultaneously using a loop and prints the details (item name and quantity) for each product.\n",
    "\n",
    "An instance obj1 of the \"product_inventory\" class is created.\n",
    "\n",
    "\"obj1.display_details()\" displays the available products and their quantities initially.\n",
    "\n",
    "\"obj1.add_product('Marker', 8)\" simulates adding a new product ('Marker') with a quantity of 8 to the inventory.\n",
    "\n",
    "After adding and updating products using \"obj1.update_product_quantity()\", the updated product details are displayed again using \"obj1.display_details()\"."
   ]
  },
  {
   "cell_type": "markdown",
   "id": "a770769d-9283-46a1-9807-30ab905efcb1",
   "metadata": {},
   "source": [
    "# Problem 6: Shape Calculation Create a class representing a shape with attributes like length, width, and height. Implement methods to calculate the area and perimeter of the shape."
   ]
  },
  {
   "cell_type": "code",
   "execution_count": 7,
   "id": "67c675e5-066c-41e9-859d-155c94f59e99",
   "metadata": {},
   "outputs": [],
   "source": [
    "class shape:\n",
    "    \n",
    "    #Initialising the attributes of the class\n",
    "    def __init__(self,length,width,height):\n",
    "        self.length=length\n",
    "        self.width=width\n",
    "        self.height=height\n",
    "    \n",
    "    #Function to calculate the area(Surface_Area) of the shape\n",
    "    def calculate_area(self):\n",
    "        self.area=2*(self.length*self.width + self.width*self.height + self.height*self.length)\n",
    "        print(\"Area: \",self.area)\n",
    "        \n",
    "    #Function to calculate the perimeter of the shape\n",
    "    def calculate_perimeter(self):\n",
    "        self.perimeter=4*(self.length + self.width + self.height)\n",
    "        print(\"Perimeter: \",self.perimeter)"
   ]
  },
  {
   "cell_type": "code",
   "execution_count": 8,
   "id": "7d350ad9-f11c-481b-a43e-4c1e927487a3",
   "metadata": {},
   "outputs": [
    {
     "name": "stdout",
     "output_type": "stream",
     "text": [
      "Area:  96\n",
      "Perimeter:  48\n"
     ]
    }
   ],
   "source": [
    "cube=shape(4,4,4)\n",
    "cube.calculate_area()\n",
    "cube.calculate_perimeter()"
   ]
  },
  {
   "cell_type": "code",
   "execution_count": 9,
   "id": "ef73889c-b9fc-4717-8edb-b3432f403b67",
   "metadata": {},
   "outputs": [
    {
     "name": "stdout",
     "output_type": "stream",
     "text": [
      "Area:  148\n",
      "Perimeter:  60\n"
     ]
    }
   ],
   "source": [
    "cuboid=shape(4,5,6)\n",
    "cuboid.calculate_area()\n",
    "cuboid.calculate_perimeter()"
   ]
  },
  {
   "cell_type": "code",
   "execution_count": 10,
   "id": "4e21e083-3f68-4606-b5e0-292a80cd3793",
   "metadata": {},
   "outputs": [
    {
     "name": "stdout",
     "output_type": "stream",
     "text": [
      "Area:  112\n",
      "Perimeter:  52\n"
     ]
    }
   ],
   "source": [
    "square_prism=shape(4,5,4)\n",
    "square_prism.calculate_area()\n",
    "square_prism.calculate_perimeter()"
   ]
  },
  {
   "cell_type": "markdown",
   "id": "03fcce9d-82ef-45bf-9ea1-94300ae81427",
   "metadata": {},
   "source": [
    "**Explanation:**\n",
    "\n",
    "We are defining a class \"shape\" to represent various 3D-shapes (cube, cuboid, Rectangular Prism and Square Prism) with attributes for length, width, and height. It includes methods to calculate the area (specifically surface area) and perimeter of the given shapes.\n",
    "\n",
    "The \"__init__\" method is the constructor used to initialize the attributes of the shape object (length, width, and height).\n",
    "\n",
    "\"calculate_area\" method calculates the surface area of the shape using the provided dimensions (length, width, and height) and prints the calculated area.\n",
    "\n",
    "\"calculate_perimeter\" method calculates the perimeter (in this context, it's actually the total length of all sides the 3D shape) using the provided dimensions (length, width, and height) and prints the calculated perimeter.\n",
    "\n",
    "Instances of different shapes (a cube, a cuboid, and a square prism) are created using the shape class by passing specific dimensions in the form of length, width, and height.\n",
    "\n",
    "For each instance, the calculate_area and calculate_perimeter methods are called to compute and print their respective area and perimeter values."
   ]
  },
  {
   "cell_type": "markdown",
   "id": "67391709-55f8-46ca-85c9-6a4fb91f2018",
   "metadata": {},
   "source": [
    "# Problem 7: Student Management Create a class representing a student with attributes like student ID, name, and grades. Implement methods to calculate the average grade and display student details."
   ]
  },
  {
   "cell_type": "code",
   "execution_count": 18,
   "id": "5a432bd9-eada-4b83-b8b3-0537b6d92129",
   "metadata": {},
   "outputs": [],
   "source": [
    "class stuednt_management_system:\n",
    "    \n",
    "    #Initialising the attributes of the class.\n",
    "    def __init__(self, name, student_id, grades=()):\n",
    "        self.name=name\n",
    "        self.id=student_id\n",
    "        self.grades=grades\n",
    "    \n",
    "    #Function to display the student details.\n",
    "    def display_details(self):\n",
    "        print(\"Name:\",self.name)\n",
    "        print(\"Student Id:\",self.id)\n",
    "        if self.grades:\n",
    "            print(\"Grades:\", self.grades)\n",
    "            print(\"Average Grade:\", self.calculate_average_grade())\n",
    "        else:\n",
    "            print(\"No grades available for this student.\")\n",
    "    \n",
    "    #Function to calculate the average grade of the student. \n",
    "    def calculate_average_grade(self):\n",
    "        if not self.grades:\n",
    "            return 0\n",
    "        return sum(self.grades) / len(self.grades)\n",
    "\n"
   ]
  },
  {
   "cell_type": "code",
   "execution_count": 19,
   "id": "5f7ac234-ea04-4db3-ba5e-98efddc9f347",
   "metadata": {},
   "outputs": [
    {
     "name": "stdout",
     "output_type": "stream",
     "text": [
      "Name: Anmol\n",
      "Student Id: 1\n",
      "Grades: (86, 92, 88, 90, 94)\n",
      "Average Grade: 90.0\n",
      "\n",
      "\n",
      "Name: Anand\n",
      "Student Id: 2\n",
      "No grades available for this student.\n"
     ]
    }
   ],
   "source": [
    "student1=stuednt_management_system(\"Anmol\", 1, (86, 92, 88, 90, 94))\n",
    "student1.display_details()\n",
    "\n",
    "print('\\n')\n",
    "\n",
    "student2=stuednt_management_system(\"Anand\", 2,)\n",
    "student2.display_details()"
   ]
  },
  {
   "cell_type": "markdown",
   "id": "dd32996c-3935-4781-a398-f70a2dc33ad8",
   "metadata": {},
   "source": [
    "**Explanation:**\n",
    "\n",
    "We are defining a class named \"stuednt_management_system\" to manage student details.\n",
    "\n",
    "The \"__init__\" method is the constructor used to initialize the attributes of a student, \"name\" represents the name of the student, \"id\" represents the student ID, \"grades\" represents the tuple of grades obtained by the student. It is set to an empty tuple by default.\n",
    "\n",
    "\"display_details\" method displays the student's name, ID, grades (if available), and their average grade (if grades are present) by calling the \"calculate_average_grade\" method.\n",
    "\n",
    "\"calculate_average_grade\" calculates the average grade for the student based on the provided grades.\n",
    "\n",
    "Two instances of the student_management_system class (student1, student2) are created.\n",
    "\n",
    "The first instance (student1) represents a student named \"Anmol\" with a student ID of 1 and a tuple of grades (86, 92, 88, 90, 94). When display_details is called on this instance, it will show the student's details along with the average grade.\n",
    "\n",
    "The second instance (student2) represents a different student named \"Anand\" with a student ID of 2. However, no grades are provided for this student. When display_details is called, it will indicate that no grades are available for this student."
   ]
  },
  {
   "cell_type": "markdown",
   "id": "4037ece9-6e06-4e9d-abb0-0843a2ac51d6",
   "metadata": {},
   "source": [
    "# Problem 8: Email Management Create a class representing an email with attributes like sender, recipient, and subject. Implement methods to send an email and display email details."
   ]
  },
  {
   "cell_type": "code",
   "execution_count": 21,
   "id": "cda7697d-34b2-4d26-ada4-cec573cf498c",
   "metadata": {},
   "outputs": [
    {
     "name": "stdout",
     "output_type": "stream",
     "text": [
      "Sender: sender@example.com\n",
      "Recipient: recipient@example.com\n",
      "Subject: Regarding the upcoming meeting\n",
      "Status: Email has not been sent.\n",
      "\n",
      "Sending the email...\n",
      "\n",
      "Email sent successfully!\n",
      "\n",
      "\n",
      "Sender: sender@example.com\n",
      "Recipient: recipient@example.com\n",
      "Subject: Regarding the upcoming meeting\n",
      "Status: Email has been sent.\n"
     ]
    }
   ],
   "source": [
    "class Email:\n",
    "    def __init__(self, sender, recipient, subject):\n",
    "        self.sender = sender\n",
    "        self.recipient = recipient\n",
    "        self.subject = subject\n",
    "        self.sent = False  # Initializing the email as not sent\n",
    "\n",
    "    def send_email(self):\n",
    "        # Logic to send the email is not implemented here.\n",
    "        self.sent = True # Simulating sending the email by setting the 'sent' attribute to True\n",
    "        print(\"Email sent successfully!\")\n",
    "\n",
    "    def display_email_details(self):\n",
    "        print(\"Sender:\", self.sender)\n",
    "        print(\"Recipient:\", self.recipient)\n",
    "        print(\"Subject:\", self.subject)\n",
    "        if self.sent:\n",
    "            print(\"Status: Email has been sent.\")\n",
    "        else:\n",
    "            print(\"Status: Email has not been sent.\")\n",
    "\n",
    "# Example usage:\n",
    "# Create an instance of the Email class\n",
    "email1 = Email(\"sender@example.com\", \"recipient@example.com\", \"Regarding the upcoming meeting\")\n",
    "\n",
    "# Display email details\n",
    "email1.display_email_details()\n",
    "\n",
    "print(\"\\nSending the email...\\n\")\n",
    "# Sending the email\n",
    "email1.send_email()\n",
    "print(\"\\n\")\n",
    "# Display updated email details after sending\n",
    "email1.display_email_details()\n"
   ]
  },
  {
   "cell_type": "markdown",
   "id": "53dabf14-3758-4e82-a2e0-3c7d8780f577",
   "metadata": {},
   "source": [
    "**Explanation:**\n",
    "\n",
    "The Email class is created to represent an email with attributes, sender, recipient, subject, and a sent status to track if the email has been sent.\n",
    "\n",
    "\"send_email\" method simulates the process of sending an email by setting the sent attribute to True.\n",
    "\n",
    "\"display_email_details\" method displays the sender, recipient, subject, and the status of the email (whether it has been sent or not).\n",
    "\n",
    "An instance of the Email class (email1) is created with sender, recipient, and subject information.\n",
    "\n",
    "The \"display_email_details\" method is called to print out the details of the email (initially indicating that the email has not been sent).\n",
    "\n",
    "The send_email method is called to simulate sending the email.\n",
    "\n",
    "After sending the email, the display_email_details method is called again to display the updated status of the email (showing that the email has been sent)."
   ]
  },
  {
   "cell_type": "markdown",
   "id": "7351f77d-75da-402c-b3c1-26b8dc68a3ad",
   "metadata": {},
   "source": [
    "# Problem 9: Social Media Profile Create a class representing a social media profile with attributes like username and posts. Implement methods to add posts, display posts, and search for posts by keyword."
   ]
  },
  {
   "cell_type": "code",
   "execution_count": 24,
   "id": "3f9221b8-be8f-4556-8a6a-9c33e890c638",
   "metadata": {},
   "outputs": [
    {
     "name": "stdout",
     "output_type": "stream",
     "text": [
      "Post added successfully!\n",
      "Post added successfully!\n",
      "Post added successfully!\n",
      "\n",
      "\n",
      "Displaying all posts:\n",
      "Posts by Anmol:\n",
      "Post 1: Enjoying a sunny day at the beach! #SummerVibes ☀️🏖️\n",
      "Post 2: New adventure awaits! Exploring the mountains. #NatureLover 🏔️🌲\n",
      "Post 3: Trying out a new recipe in the kitchen. #CookingFun 🍳🥘\n",
      "\n",
      "Searching for posts with the keyword 'nature':\n",
      "Posts containing the keyword 'nature':\n",
      "Post 1: New adventure awaits! Exploring the mountains. #NatureLover 🏔️🌲\n"
     ]
    }
   ],
   "source": [
    "class SocialMediaProfile:\n",
    "    def __init__(self, username):\n",
    "        self.username = username\n",
    "        self.posts = []\n",
    "\n",
    "    def add_post(self, post_content):\n",
    "        self.posts.append(post_content)\n",
    "        print(\"Post added successfully!\")\n",
    "\n",
    "    def display_posts(self):\n",
    "        if not self.posts:\n",
    "            print(\"No posts available for this profile.\")\n",
    "        else:\n",
    "            print(f\"Posts by {self.username}:\")\n",
    "            for idx, post in enumerate(self.posts, start=1):\n",
    "                print(f\"Post {idx}: {post}\")\n",
    "\n",
    "    def search_posts_by_keyword(self, keyword):\n",
    "        found_posts = [post for post in self.posts if keyword.lower() in post.lower()]\n",
    "        if not found_posts:\n",
    "            print(f\"No posts found containing the keyword '{keyword}'.\")\n",
    "        else:\n",
    "            print(f\"Posts containing the keyword '{keyword}':\")\n",
    "            for idx, post in enumerate(found_posts, start=1):\n",
    "                print(f\"Post {idx}: {post}\")\n",
    "\n",
    "# Create a social media profile instance\n",
    "profile1 = SocialMediaProfile(\"Anmol\")\n",
    "\n",
    "# Add posts to the profile\n",
    "profile1.add_post(\"Enjoying a sunny day at the beach! #SummerVibes ☀️🏖️\")\n",
    "profile1.add_post(\"New adventure awaits! Exploring the mountains. #NatureLover 🏔️🌲\")\n",
    "profile1.add_post(\"Trying out a new recipe in the kitchen. #CookingFun 🍳🥘\")\n",
    "\n",
    "print('\\n')\n",
    "\n",
    "# Display all posts for the profile\n",
    "print(\"Displaying all posts:\")\n",
    "profile1.display_posts()\n",
    "\n",
    "# Search for posts containing a specific keyword\n",
    "print(\"\\nSearching for posts with the keyword 'nature':\")\n",
    "profile1.search_posts_by_keyword(\"nature\")\n"
   ]
  },
  {
   "cell_type": "markdown",
   "id": "21caceb1-790b-4322-949b-b764d4c98f86",
   "metadata": {},
   "source": [
    "**Explanation:**\n",
    "\n",
    "The \"SocialMediaProfile\" class represents a social media profile with attributes: username and posts.\n",
    "\n",
    "\"add_post\" method adds a new post to the profile's list of posts.\n",
    "\n",
    "\"display_posts\" method displays all the posts associated with the profile.\n",
    "\n",
    "\"search_posts_by_keyword\" method searches for posts containing a specific keyword and displays those posts.\n",
    "\n",
    "\n",
    "An instance of the \"SocialMediaProfile\" class (profile1) is created with a username.\n",
    "\n",
    "Posts are added to the profile using the \"add_post\" method.\n",
    "\n",
    "The \"display_posts\" method is used to show all the posts associated with the profile.\n",
    "\n",
    "The \"search_posts_by_keyword\" method is utilized to search for posts containing a specific keyword."
   ]
  },
  {
   "cell_type": "markdown",
   "id": "e0da836a-159d-4231-8e1c-efb47e8fee97",
   "metadata": {},
   "source": [
    "# Problem 10: ToDo List Create a class representing a ToDo list with attributes like tasks and due dates. Implement methods to add tasks, mark tasks as completed, and display pending tasks."
   ]
  },
  {
   "cell_type": "code",
   "execution_count": 47,
   "id": "f55cb4a5-139b-4d2b-8e36-c59e84f61ea6",
   "metadata": {},
   "outputs": [],
   "source": [
    "class ToDo_List:\n",
    "    \n",
    "    def __init__(self, tasks, due_dates):\n",
    "        self.tasks_status={task : False for task in tasks}\n",
    "        self.tasks_due_dates={tasks[i]: due_dates[i] for i in range(min(len(tasks),len(due_dates)))}\n",
    "        \n",
    "    def add_task(self, task, due_date):\n",
    "        self.tasks_status[task]=False\n",
    "        self.tasks_due_dates[task]=due_date\n",
    "        print(f\"Task '{task}', with due date '{due_date}' is added successfully!\")\n",
    "    \n",
    "    def mark_task_completion(self, task):\n",
    "        self.tasks_status[task]=True\n",
    "        del self.tasks_status[task]\n",
    "        del self.tasks_due_dates[task]\n",
    "        print(f\"Task '{task}', marked completed successfully!\")\n",
    "        \n",
    "    def display_pending_task(self):\n",
    "        pending_task=[task for task in list((self.tasks_status).keys()) if self.tasks_status[task]==False]\n",
    "        # print(self.tasks_status)\n",
    "        # print(self.tasks_due_dates)\n",
    "        # print(pending_task)\n",
    "        if not pending_task:\n",
    "            print(\"No Pending Task.\")\n",
    "        else:\n",
    "            print(\"Pending tasks:\")\n",
    "            for i,task in enumerate(pending_task):\n",
    "                print(f\"{i+1}. {task}, {self.tasks_due_dates[task]}\")"
   ]
  },
  {
   "cell_type": "code",
   "execution_count": 48,
   "id": "0a928249-6809-43dd-9a12-f8e66b47cc68",
   "metadata": {},
   "outputs": [
    {
     "name": "stdout",
     "output_type": "stream",
     "text": [
      "Pending tasks:\n",
      "1. Shoping, 21-12-2023\n",
      "2. Study, 22-12-2023\n",
      "3. Assignment, 21-12-2023\n",
      "4. Video Editting, 22-12-2023\n",
      "\n",
      "\n",
      "Task 'Project', with due date '25-12-2023' is added successfully!\n",
      "\n",
      "\n",
      "Task 'Shoping', marked completed successfully!\n",
      "\n",
      "\n",
      "Pending tasks:\n",
      "1. Study, 22-12-2023\n",
      "2. Assignment, 21-12-2023\n",
      "3. Video Editting, 22-12-2023\n",
      "4. Project, 25-12-2023\n"
     ]
    }
   ],
   "source": [
    "list1=ToDo_List((\"Shoping\", \"Study\", \"Assignment\", \"Video Editting\"), (\"21-12-2023\",\"22-12-2023\",\"21-12-2023\",\"22-12-2023\"))\n",
    "list1.display_pending_task()\n",
    "\n",
    "print('\\n')\n",
    "list1.add_task(\"Project\", \"25-12-2023\")\n",
    "\n",
    "print('\\n')\n",
    "list1.mark_task_completion(\"Shoping\")\n",
    "\n",
    "print('\\n')\n",
    "list1.display_pending_task()"
   ]
  },
  {
   "cell_type": "markdown",
   "id": "a0590ddc-73ba-4def-8705-96efe54a2edd",
   "metadata": {},
   "source": [
    "**Explanation:**\n",
    "\n",
    "The class \"ToDo_List\" manages tasks and their due dates.\n",
    "\n",
    "The \"__init__\" method initializes the ToDo_List object with tasks and their corresponding due dates provided as arguments. \"self.tasks_status\" represents a dictionary that tnitializes each task with a status of False indicating that the task is not completed yet.\n",
    "\n",
    "\"self.tasks_due_dates\" represents a dictionary that maps each task to its due date using the provided tasks and due_dates lists.\n",
    "\n",
    "\"add_task\" method adds a new task along with its due date to the task list.\n",
    "\n",
    "\"mark_task_completion\" method marks a task as completed by updating its status to True.\n",
    "\n",
    "\"display_pending_task\" method displays pending tasks along with their due dates.\n",
    "\n",
    "An instance of \"ToDo_List\" (list1) is created with initial tasks and their due dates.\n",
    "\n",
    "\"display_pending_task\" is called initially to show pending tasks.\n",
    "\n",
    "\"add_task\" method is called to add a new task (\"Project\") with its due date.\n",
    "\n",
    "\"mark_task_completion\" method is called to mark the \"Shoping\" task as completed."
   ]
  },
  {
   "cell_type": "code",
   "execution_count": null,
   "id": "bc138eef-44a6-49a9-8003-48f4b4f7b796",
   "metadata": {},
   "outputs": [],
   "source": []
  }
 ],
 "metadata": {
  "kernelspec": {
   "display_name": "Python 3 (ipykernel)",
   "language": "python",
   "name": "python3"
  },
  "language_info": {
   "codemirror_mode": {
    "name": "ipython",
    "version": 3
   },
   "file_extension": ".py",
   "mimetype": "text/x-python",
   "name": "python",
   "nbconvert_exporter": "python",
   "pygments_lexer": "ipython3",
   "version": "3.10.8"
  }
 },
 "nbformat": 4,
 "nbformat_minor": 5
}
