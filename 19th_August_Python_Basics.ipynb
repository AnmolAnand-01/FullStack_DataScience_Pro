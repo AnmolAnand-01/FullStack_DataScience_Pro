{
 "cells": [
  {
   "cell_type": "markdown",
   "id": "66039678-bc84-4cfe-a831-e0caa67f9ba2",
   "metadata": {},
   "source": [
    "**TOPIC: Python Basics Variable**"
   ]
  },
  {
   "cell_type": "markdown",
   "id": "b11cc0ae-b76c-41a9-a9bf-7401976e2136",
   "metadata": {},
   "source": [
    "1. Declare two variables, 'x' and 'y', and assign them integer values. Swap the values of these variables without using any temporary variable."
   ]
  },
  {
   "cell_type": "code",
   "execution_count": 5,
   "id": "6fcfa2b6-4335-47dc-9d07-9c2e23e92711",
   "metadata": {},
   "outputs": [
    {
     "name": "stdout",
     "output_type": "stream",
     "text": [
      "Method1\n",
      "Before Swap\n",
      "x = 3\n",
      "y = 4\n",
      "After Swap\n",
      "x = 4\n",
      "y = 3\n"
     ]
    }
   ],
   "source": [
    "print(\"Method1\")\n",
    "x,y=3,4\n",
    "print(\"Before Swap\")\n",
    "print(\"x = %d\" %(x))\n",
    "print(\"y = %d\" %(y))\n",
    "x,y=y,x\n",
    "\n",
    "print(\"After Swap\")\n",
    "print(\"x = %d\" %(x))\n",
    "print(\"y = %d\" %(y))"
   ]
  },
  {
   "cell_type": "code",
   "execution_count": 6,
   "id": "8c597d87-d9cd-402e-894b-9a4aed1f7d2e",
   "metadata": {},
   "outputs": [
    {
     "name": "stdout",
     "output_type": "stream",
     "text": [
      "Method2\n",
      "Before Swap\n",
      "x = 3\n",
      "y = 4\n",
      "After Swap\n",
      "x = 4\n",
      "y = 3\n"
     ]
    }
   ],
   "source": [
    "print(\"Method2\")\n",
    "x,y=3,4\n",
    "print(\"Before Swap\")\n",
    "print(\"x = %d\" %(x))\n",
    "print(\"y = %d\" %(y))\n",
    "x=x+y\n",
    "y=x-y\n",
    "x=x-y\n",
    "\n",
    "print(\"After Swap\")\n",
    "print(\"x = %d\" %(x))\n",
    "print(\"y = %d\" %(y))"
   ]
  },
  {
   "cell_type": "code",
   "execution_count": 7,
   "id": "c72ed3fa-6295-4e5c-bbec-05232bd53d59",
   "metadata": {},
   "outputs": [
    {
     "name": "stdout",
     "output_type": "stream",
     "text": [
      "Method3\n",
      "Before Swap\n",
      "x = 3\n",
      "y = 4\n",
      "After Swap\n",
      "x = 4\n",
      "y = 3\n"
     ]
    }
   ],
   "source": [
    "print(\"Method3\")\n",
    "x,y=3,4\n",
    "print(\"Before Swap\")\n",
    "print(\"x = %d\" %(x))\n",
    "print(\"y = %d\" %(y))\n",
    "x=x^y\n",
    "y=x^y\n",
    "x=x^y\n",
    "\n",
    "print(\"After Swap\")\n",
    "print(\"x = %d\" %(x))\n",
    "print(\"y = %d\" %(y))"
   ]
  },
  {
   "cell_type": "markdown",
   "id": "3e5b0baf-47a5-4d28-8ea0-1ccb8f0c7a88",
   "metadata": {},
   "source": [
    "Explanation:\n",
    "\n",
    "Any of the above three methods can be used to swap two variables without using a third variable in python.\n",
    "1. Method1: This method is specific to python and cannot be used in other languages like C, C++, Java. In this method we are using the tuple unpacking feature of python.\n",
    "\n",
    "2. Method2: This method can be used in any other programming language. Here we are using arithmetic operators('+' and '-') for swapping the two variables without using the third variable.\n",
    "step1: x=3 and y=4 (Initially);\n",
    "step2: x=x+y i.e. x=3+4=7, 'y' is 4; \n",
    "step3: y=x-y i.e. y=7-4=3, 'x' is 7; \n",
    "step4: x=x-y i.e. x=7-3=4, 'y' is 3; \n",
    "therefore 'x' is now 4 and 'y' is now 3; \n",
    "\n",
    "2. Method2: This method can be used in any other programming language. Here we are using 'XOR' operator(Bitwise operator) for swapping the two variables without using the third variable. 'XOR' is a Bitwise operator which operates on corresponding bits of the two operands starting from \"Least Significant Bit\" towards \"Most Significant Bit\" i.e from rightmost bit towards leftmost bit. \"XOR\" operation produces '1' if corresponding bit of both the operands is different and produces \"0\" if if corresponding bit of both the operands is same.\n",
    "step1: x=3 and y=4 (Initially); \n",
    "step2: x=x^y i.e. x=3^4=7, 'y' is 4; \n",
    "step3: y=x^y i.e. y=7^4=3, 'x' is 7; \n",
    "step4: x=x^y i.e. x=7^3=4, 'y' is 3; \n",
    "therefore 'x' is now 4 and 'y' is now 3; "
   ]
  },
  {
   "cell_type": "markdown",
   "id": "877bdee4-dd18-42ad-bef5-9dadb3876a65",
   "metadata": {},
   "source": [
    "2. Create a program that calculates the area of a rectangle. Take the length and width as inputs from the user and store them in variables. Calculate and display the area."
   ]
  },
  {
   "cell_type": "code",
   "execution_count": 8,
   "id": "6a1f8fb7-15a7-4683-a6e5-6de708f65b30",
   "metadata": {},
   "outputs": [
    {
     "name": "stdin",
     "output_type": "stream",
     "text": [
      "Enter the length of rectangle: 1.3\n",
      "Enter the width of rectangle: 5.6\n"
     ]
    },
    {
     "name": "stdout",
     "output_type": "stream",
     "text": [
      "The are of rectangle with 1.3 as length and 5.6 as width is 7.279999999999999\n"
     ]
    }
   ],
   "source": [
    "length = float(input(\"Enter the length of rectangle:\"))\n",
    "width = float(input(\"Enter the width of rectangle:\"))\n",
    "area = length*width\n",
    "print(f\"The are of rectangle with {length} as length and {width} as width is {area}\")"
   ]
  },
  {
   "cell_type": "markdown",
   "id": "29e4d4ba-cb9f-44e2-8ad6-2c5706f67ca3",
   "metadata": {},
   "source": [
    "Explanation:\n",
    "\n",
    "In this program we are asking the user to input the length and width of the rectangle and then we are storing these values in variables named 'length' and 'width' respectively. \n",
    "\n",
    "We are calculating the the area of the rectangle by multiplying length and width, and then we are storing the value in variable named 'area'.\n",
    "\n",
    "'input()' function in python treats the value entered by the user as string by default so we are explicitely typecasting the values in to float to perform mathematical operation(multiplication).\n",
    "\n",
    "Here we have converted the user entered values(length and width) into 'float' and not into 'int' so that we don't calculate a wrong value of area if any one or both of the entered values contains decimal part.\n",
    "\n",
    "In the print statement we are using \"f-string\" method of string formatting to print the result."
   ]
  },
  {
   "cell_type": "markdown",
   "id": "03cd4e3e-3e71-434f-8364-7350cdcd1d4c",
   "metadata": {},
   "source": [
    "3. Write a Python program that converts temperatures from Celsius to Fahrenheit. Take the temperature in Celsius as input, store it in a variable, convert it to Fahrenheit, and display the result."
   ]
  },
  {
   "cell_type": "code",
   "execution_count": 9,
   "id": "45be8af3-1b00-4187-a236-edd7e9dc3a18",
   "metadata": {},
   "outputs": [
    {
     "name": "stdin",
     "output_type": "stream",
     "text": [
      "Enter the temperature in Celsius: 10\n"
     ]
    },
    {
     "name": "stdout",
     "output_type": "stream",
     "text": [
      "The given temperature in Fahrenheit is: 50.0 degree\n"
     ]
    }
   ],
   "source": [
    "celsius_temp = float(input(\"Enter the temperature in Celsius:\"))\n",
    "Fahrenheit_temp = (celsius_temp*(9/5))+32\n",
    "print(\"The given temperature in Fahrenheit is: {} degree\".format(Fahrenheit_temp))"
   ]
  },
  {
   "cell_type": "markdown",
   "id": "a7b63a7c-d223-49ad-a04f-d4005b0a51ea",
   "metadata": {},
   "source": [
    "Explanation:\n",
    "\n",
    "In this program we are asking the user to input the temperature in degree celsius and then we are storing the value in variable named 'celsius_temp'.\n",
    "\n",
    "Then we are calculating the corresponding Fahrenheit value of the temperature by using the formula \n",
    "\"Fahrenheit_temperature = (celsius_temperature*(9/5))+32\"\n",
    "\n",
    "'input()' function in python treats the value entered by the user as string by default so we are explicitely typecasting the value in to float to perform mathematical operations.\n",
    "\n",
    "Here we have converted the user entered value(celsius_temp) into 'float' and not into 'int' so that we don't calculate a wrong value of Fahrenheit_temp if the entered value contains decimal part.\n",
    "\n",
    "In the print statement we are using \"str.format()\" method of string formatting to print the result."
   ]
  },
  {
   "cell_type": "markdown",
   "id": "c3f7a559-2542-41c5-831f-09ff300a350c",
   "metadata": {},
   "source": [
    "**TOPIC: String Based Questions**"
   ]
  },
  {
   "cell_type": "markdown",
   "id": "7c7954ff-8c7e-455d-b4b8-83232d45dec3",
   "metadata": {},
   "source": [
    "1. Write a Python program that takes a string as input and prints the length of the string."
   ]
  },
  {
   "cell_type": "code",
   "execution_count": 10,
   "id": "7d337daf-7279-44d1-afc7-5bdaa34e299d",
   "metadata": {},
   "outputs": [
    {
     "name": "stdout",
     "output_type": "stream",
     "text": [
      "Method1\n"
     ]
    },
    {
     "name": "stdin",
     "output_type": "stream",
     "text": [
      "Enter a string: anmol\n"
     ]
    },
    {
     "name": "stdout",
     "output_type": "stream",
     "text": [
      "Length of the entered string is 5\n"
     ]
    }
   ],
   "source": [
    "print(\"Method1\")\n",
    "st=input(\"Enter a string:\")\n",
    "length=len(st)\n",
    "print(\"Length of the entered string is {}\".format(length))"
   ]
  },
  {
   "cell_type": "code",
   "execution_count": 11,
   "id": "9298e45d-465f-4dc4-8843-b79e3c62db09",
   "metadata": {},
   "outputs": [
    {
     "name": "stdout",
     "output_type": "stream",
     "text": [
      "Method2\n"
     ]
    },
    {
     "name": "stdin",
     "output_type": "stream",
     "text": [
      "Enter a string: pwskills\n"
     ]
    },
    {
     "name": "stdout",
     "output_type": "stream",
     "text": [
      "Length of the entered string is 8\n"
     ]
    }
   ],
   "source": [
    "print(\"Method2\")\n",
    "st=input(\"Enter a string:\")\n",
    "length=0\n",
    "for char in st:\n",
    "    length+=1\n",
    "print(\"Length of the entered string is {}\".format(length))"
   ]
  },
  {
   "cell_type": "markdown",
   "id": "67166422-fec8-44e5-913b-dd0300364998",
   "metadata": {},
   "source": [
    "Explanation:\n",
    "\n",
    "In both the methods we are taking string as input from the user and the storing it in the variable named 'st'.\n",
    "\n",
    "\"Input()\" function by default treates the value entered as string so we don't need to perform explicit typecasting.\n",
    "\n",
    "In \"Method1\" we are using the inbult method named \"len()\" to calculate the length of the string.\n",
    "\n",
    "In \"Method2\" we are using \"for loop\" to calculate the length of the given string. \"for loop\" traverses the string completely and for each character encountered in the string traversal we are incrementing the value of variable \"length\" by 1. Initially the variable \"length\" was initialised with 0.\n",
    "\n",
    "In both the methods, we are using \"str.format()\" method of string formatting inside the print function to print the result."
   ]
  },
  {
   "cell_type": "markdown",
   "id": "dc1f3cbb-e14f-4e5c-a12e-9494574a5a05",
   "metadata": {},
   "source": [
    "2. Create a program that takes a sentence from the user and counts the number of vowels (a, e, i, o, u) in the string."
   ]
  },
  {
   "cell_type": "code",
   "execution_count": 15,
   "id": "d946f5cb-539e-45c2-b428-8b32dedfdbc3",
   "metadata": {},
   "outputs": [
    {
     "name": "stdout",
     "output_type": "stream",
     "text": [
      "method1\n"
     ]
    },
    {
     "name": "stdin",
     "output_type": "stream",
     "text": [
      "Enter a string: AEIOu\n"
     ]
    },
    {
     "name": "stdout",
     "output_type": "stream",
     "text": [
      "The count of vowels present in the entered string is 5\n"
     ]
    }
   ],
   "source": [
    "print(\"method1\")\n",
    "st=input(\"Enter a string:\")\n",
    "st=st.lower()\n",
    "count=0\n",
    "for char in st:\n",
    "    if char in ('a', 'e', 'i', 'o', 'u'):\n",
    "        count+=1\n",
    "        \n",
    "print(\"The count of vowels present in the entered string is {}\".format(count))"
   ]
  },
  {
   "cell_type": "code",
   "execution_count": 16,
   "id": "d33488e1-d1ee-4dd8-a674-3750b0152513",
   "metadata": {},
   "outputs": [
    {
     "name": "stdout",
     "output_type": "stream",
     "text": [
      "method2\n"
     ]
    },
    {
     "name": "stdin",
     "output_type": "stream",
     "text": [
      "Enter a string: AeioU\n"
     ]
    },
    {
     "name": "stdout",
     "output_type": "stream",
     "text": [
      "The count of vowels present in the entered string is 5\n"
     ]
    }
   ],
   "source": [
    "print(\"method2\")\n",
    "st=input(\"Enter a string:\")\n",
    "st=st.lower()\n",
    "count=0\n",
    "for char in st:\n",
    "    if char == 'a':\n",
    "        count+=1\n",
    "    elif char == 'e':\n",
    "        count+=1\n",
    "    elif char == 'i':\n",
    "        count+=1\n",
    "    elif char == 'o':\n",
    "        count+=1\n",
    "    elif char == 'u':\n",
    "        count+=1\n",
    "        \n",
    "print(\"The count of vowels present in the entered string is {}\".format(count))"
   ]
  },
  {
   "cell_type": "markdown",
   "id": "1041c942-ceab-4a3b-badb-1b0bc79d2ba4",
   "metadata": {},
   "source": [
    "Explanation:\n",
    "\n",
    "In both the methods we are taking string as input from the user and the storing it in the variable named 'st'.\n",
    "\n",
    "\"Input()\" function by default treates the value entered as string so we don't need to perform explicit typecasting.\n",
    "\n",
    "In both the methods we are converting the entered string to lower case to avoid case sensitive conditions.\n",
    "\n",
    "In \"Method1\" we are traversing the string using for loop and for each character we are checking whether the character is present the the tuple containing the vowels ('a', 'e', 'i', 'o', 'u'). If the character is present in the tuple then the character is vowel and the \"if\" block will execute and the value of variable \"count\" will be incremented by 1. Initially we have initialised the value of \"count\" as 0. In this method we have used only one \"if\" block.\n",
    "\n",
    "In \"Method2\" we are traversing the string using for loop and for each character we are checking whether the charater is vowel or not using \"if-elif lader\". If any of the character is vowel then it's corresponding \"if\"/\"elif\" block will be executed and the value of variable \"count\" will be incremented by 1. Initially we have initialised the value of \"count\" as 0.\n",
    "\n",
    "In both the methods, we are using \"str.format()\" method of string formatting inside the print function to print the result."
   ]
  },
  {
   "cell_type": "markdown",
   "id": "61e6d89e-001f-4881-a3af-dfe02d84bc3a",
   "metadata": {},
   "source": [
    "3. Given a string, reverse the order of characters using string slicing and print the reversed string."
   ]
  },
  {
   "cell_type": "code",
   "execution_count": 33,
   "id": "cebbedfc-2318-49f0-a14e-758951a007d0",
   "metadata": {},
   "outputs": [
    {
     "name": "stdout",
     "output_type": "stream",
     "text": [
      "Method1\n"
     ]
    },
    {
     "name": "stdin",
     "output_type": "stream",
     "text": [
      "Enter a string Anmol\n"
     ]
    },
    {
     "name": "stdout",
     "output_type": "stream",
     "text": [
      "Reverse of the given string is lomnA\n"
     ]
    }
   ],
   "source": [
    "print(\"Method1\")\n",
    "st=input(\"Enter a string\")\n",
    "length=len(st)\n",
    "reverse_st=st[length-1::-1]\n",
    "print(\"Reverse of the given string is {}\".format(reverse_st))"
   ]
  },
  {
   "cell_type": "code",
   "execution_count": 32,
   "id": "72782fc0-d29c-4bd8-a5d2-367b0013d785",
   "metadata": {},
   "outputs": [
    {
     "name": "stdout",
     "output_type": "stream",
     "text": [
      "Method2\n"
     ]
    },
    {
     "name": "stdin",
     "output_type": "stream",
     "text": [
      "Enter a string Anmol\n"
     ]
    },
    {
     "name": "stdout",
     "output_type": "stream",
     "text": [
      "Reverse of the given string is lomnA\n"
     ]
    }
   ],
   "source": [
    "print(\"Method2\")\n",
    "st=input(\"Enter a string\")\n",
    "reverse_st=st[-1::-1]\n",
    "print(\"Reverse of the given string is {}\".format(reverse_st))"
   ]
  },
  {
   "cell_type": "code",
   "execution_count": 34,
   "id": "e3d7dc76-7580-4b89-913c-983c39f5be96",
   "metadata": {},
   "outputs": [
    {
     "name": "stdout",
     "output_type": "stream",
     "text": [
      "Method3\n"
     ]
    },
    {
     "name": "stdin",
     "output_type": "stream",
     "text": [
      "Enter a string Anmol\n"
     ]
    },
    {
     "name": "stdout",
     "output_type": "stream",
     "text": [
      "Reverse of the given string is lomnA\n"
     ]
    }
   ],
   "source": [
    "print(\"Method3\")\n",
    "st=input(\"Enter a string\")\n",
    "reverse_st=st[::-1]\n",
    "print(\"Reverse of the given string is {}\".format(reverse_st))"
   ]
  },
  {
   "cell_type": "markdown",
   "id": "58061bcb-e58e-4b2e-90a2-0b5d3a5ff67c",
   "metadata": {},
   "source": [
    "Explanation:\n",
    "\n",
    "Here we are taking string as input from the user and the storing it in the variable named 'st'.\n",
    "\n",
    "\"Input()\" function by default treates the value entered as string so we don't need to perform explicit typecasting.\n",
    "\n",
    "In all the methods we are using the string slicing to reverse the order of characters of the string entered.\n",
    "\n",
    "In \"Method1\" we are using the positive index. To reverse a string using positive index in \"string slicing\" method we need the last index of the string. To get the last index we have used the \"len()\" method to find the length of the string entered and then subtract 1 to get the last index. We have entered the jump or step size as '-1' to tell the python interpreter that we want to perform the slicing operation in reverse order of the string.\n",
    "\n",
    "In \"Method2\" we are using the negative index. The negative index of the last character of the string is always \"-1\". so we have directly used -1 in the slicing statement. We have entered the jump or step size as '-1' to tell the python interpreter that we want to perform the slicing operation in reverse order of the string.\n",
    "\n",
    "In \"Method3\", in the slicing statement we have not entered any index for start and end but only entered the jump or step size as '-1' so the python interpreter will itself figure out that we want to reverse the string and will perform the task.\n",
    "\n",
    "\"Method3\" is easiest and simplest of all the three methods.\n",
    "\n",
    "In all the methods, we are using \"str.format()\" method of string formatting inside the print function to print the result."
   ]
  },
  {
   "cell_type": "markdown",
   "id": "f74a4074-fe01-407e-a0df-44d46518be21",
   "metadata": {},
   "source": [
    "4. Write a program that takes a string as input and checks if it is a palindrome (reads the same forwards and backwards)."
   ]
  },
  {
   "cell_type": "code",
   "execution_count": 38,
   "id": "bc89a327-68fb-42bf-bf00-5715bb037d29",
   "metadata": {},
   "outputs": [
    {
     "name": "stdout",
     "output_type": "stream",
     "text": [
      "Method1\n"
     ]
    },
    {
     "name": "stdin",
     "output_type": "stream",
     "text": [
      "Enter a string Qwerrewq\n"
     ]
    },
    {
     "name": "stdout",
     "output_type": "stream",
     "text": [
      "Qwerrewq is not a palindrome\n"
     ]
    }
   ],
   "source": [
    "print(\"Method1\")\n",
    "st=input(\"Enter a string\")\n",
    "reverse_st=st[::-1]\n",
    "if st == reverse_st:\n",
    "    print(\"{} is a palindrome\".format(st))\n",
    "else:\n",
    "    print(\"{} is not a palindrome\".format(st))"
   ]
  },
  {
   "cell_type": "code",
   "execution_count": 43,
   "id": "3983db7b-5f19-4e69-8c43-6f2d2a8990ea",
   "metadata": {},
   "outputs": [
    {
     "name": "stdout",
     "output_type": "stream",
     "text": [
      "Method2\n"
     ]
    },
    {
     "name": "stdin",
     "output_type": "stream",
     "text": [
      "Enter a string Qwer\n"
     ]
    },
    {
     "name": "stdout",
     "output_type": "stream",
     "text": [
      "Qwer is not a palindrome\n"
     ]
    }
   ],
   "source": [
    "print(\"Method2\")\n",
    "st=input(\"Enter a string\")\n",
    "st1=st.upper()\n",
    "reverse_st=st1[::-1]\n",
    "if st1 == reverse_st:\n",
    "    print(\"{} is a palindrome\".format(st))\n",
    "else:\n",
    "    print(\"{} is not a palindrome\".format(st))"
   ]
  },
  {
   "cell_type": "markdown",
   "id": "57b220fa-98a6-4b65-85d4-2475699bbab0",
   "metadata": {},
   "source": [
    "Explanation:\n",
    "\n",
    "Here we are taking string as input from the user and the storing it in the variable named 'st'.\n",
    "\n",
    "\"Input()\" function by default treates the value entered as string so we don't need to perform explicit typecasting.\n",
    "\n",
    "\"Method1\" is a case sensitive program i.e upper case and lower case letters are not same.\n",
    "\n",
    "\"Method2\" is not case sensitive because we are converting the complete string entered by the user into \"Upper Case\". We can also convert the entered string into \"Lower case\".\n",
    "\n",
    "In both the methods we are reversing the string using \"string slicing\" and then storing the result into the variable named \"reverse_st\". Then we are comparing whether the reversed string and the original string is same of not using \"if-else\" block if both the strings are same then the \"if\" block will be executed otherwise the \"else\" block will be executed.\n",
    "\n",
    "In both the methods, we are using \"str.format()\" method of string formatting inside the print function to print the result."
   ]
  },
  {
   "cell_type": "markdown",
   "id": "765dae30-4cad-4b22-8895-6aa818834c39",
   "metadata": {},
   "source": [
    "5. Create a program that takes a string as input and removes all the spaces from it. Print the modified string without spaces."
   ]
  },
  {
   "cell_type": "code",
   "execution_count": 4,
   "id": "b76f730d-4665-447c-979b-7bb2d700e35e",
   "metadata": {},
   "outputs": [
    {
     "name": "stdout",
     "output_type": "stream",
     "text": [
      "Method1\n"
     ]
    },
    {
     "name": "stdin",
     "output_type": "stream",
     "text": [
      "Enter a string with spaces My name is Anmol Anand\n"
     ]
    },
    {
     "name": "stdout",
     "output_type": "stream",
     "text": [
      "The string before modification is \"My name is Anmol Anand\", and the string after modification is \"MynameisAnmolAnand\".\n"
     ]
    }
   ],
   "source": [
    "print(\"Method1\")\n",
    "st = input(\"Enter a string with spaces\")\n",
    "temp = st.split(\" \")\n",
    "result = \"\".join(temp)\n",
    "print('The string before modification is \"{}\", and the string after modification is \"{}\".'.format(st,result))"
   ]
  },
  {
   "cell_type": "code",
   "execution_count": 3,
   "id": "e5fd55cb-fabf-4a1e-9342-d6f9eee22ee8",
   "metadata": {},
   "outputs": [
    {
     "name": "stdout",
     "output_type": "stream",
     "text": [
      "Method2\n"
     ]
    },
    {
     "name": "stdin",
     "output_type": "stream",
     "text": [
      "Enter a string with spaces My name is Anmol Anand\n"
     ]
    },
    {
     "name": "stdout",
     "output_type": "stream",
     "text": [
      "The string before modification is \"My name is Anmol Anand\", and the string after modification is \"MynameisAnmolAnand\".\n"
     ]
    }
   ],
   "source": [
    "print(\"Method2\")\n",
    "st = input(\"Enter a string with spaces\")\n",
    "result = st.replace(\" \",\"\")\n",
    "print('The string before modification is \"{}\", and the string after modification is \"{}\".'.format(st,result))"
   ]
  },
  {
   "cell_type": "markdown",
   "id": "a5238e3a-f279-4f06-bf32-6c6aec0f01e7",
   "metadata": {},
   "source": [
    "Explanation:\n",
    "\n",
    "Here we are taking string as input from the user and the storing it in the variable named 'st'.\n",
    "\n",
    "\"Input()\" function by default treates the value entered as string so we don't need to perform explicit typecasting.\n",
    "\n",
    "In \"Method1\" we are performing the \"st.split(\" \")\" operation to split the string into list based on the spaces present in the string. The output of this operation will be a list of strings and we are storing this list into variable named 'temp', containing individual words without spaces, of the original string. Then we are joining the list of string without giving space between each string of the list, through the statement \"result = \"\".join(temp)\".\n",
    "\n",
    "In \"Method2\" we are directly replacing all the spaces present in the given string by an empty string, to produce the output string without any space.\n",
    "\n",
    "In both the methods, we are using \"str.format()\" method of string formatting inside the print function to print the result."
   ]
  }
 ],
 "metadata": {
  "kernelspec": {
   "display_name": "Python 3 (ipykernel)",
   "language": "python",
   "name": "python3"
  },
  "language_info": {
   "codemirror_mode": {
    "name": "ipython",
    "version": 3
   },
   "file_extension": ".py",
   "mimetype": "text/x-python",
   "name": "python",
   "nbconvert_exporter": "python",
   "pygments_lexer": "ipython3",
   "version": "3.10.8"
  }
 },
 "nbformat": 4,
 "nbformat_minor": 5
}
