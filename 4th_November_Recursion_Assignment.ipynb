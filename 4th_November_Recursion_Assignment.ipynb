{
 "cells": [
  {
   "cell_type": "markdown",
   "id": "7346a411-13f7-4176-a5d0-9b2681325ae4",
   "metadata": {},
   "source": [
    "**Q.1 Can you explain the logic and working of the Tower of Hanoi algorithm by writing a Java program?\n",
    "How does the recursion work, and how are the movements of disks between rods accomplished?**"
   ]
  },
  {
   "cell_type": "markdown",
   "id": "4a49129a-eea1-40a7-9256-3e2a10728492",
   "metadata": {},
   "source": [
    "The Tower of Hanoi problem involves three rods and a number of disks of different sizes that can slide onto any rod. The objective is to move the entire stack of disks from the source rod (first rod) to the destination rod (last rod), using the auxiliary rod as temporary storage, obeying the following rules:\n",
    "\n",
    "1. Only one disk can be moved at a time.\n",
    "\n",
    "2. A disk can only be moved if it is the uppermost disk on a stack.\n",
    "\n",
    "3. No disk may be placed on top of a smaller disk.\n",
    "\n",
    "The recursive algorithm for the Tower of Hanoi problem can be described as follows:\n",
    "\n",
    "1. If there is only one disk to move:\n",
    "\n",
    "   - Move it from the source rod to the destination rod.\n",
    "\n",
    "2. If there are more than one disks:\n",
    "\n",
    "   - Move the top (n-1) disks from the source rod to the auxiliary rod, using the destination rod as an auxiliary.\n",
    "   \n",
    "   - Move the nth disk from the source rod to the destination rod.\n",
    "   \n",
    "   - Move the (n-1) disks from the auxiliary rod to the destination rod, using the source rod as an auxiliary.\n"
   ]
  },
  {
   "cell_type": "code",
   "execution_count": 10,
   "id": "36b002c9-107e-432d-8d9c-2b111c8fea02",
   "metadata": {},
   "outputs": [
    {
     "name": "stdout",
     "output_type": "stream",
     "text": [
      "Move disk 1 from rod A to rod B\n",
      "Move disk 2 from rod A to rod C\n",
      "Move disk 1 from rod B to rod C\n",
      "Move disk 3 from rod A to rod B\n",
      "Move disk 1 from rod C to rod A\n",
      "Move disk 2 from rod C to rod B\n",
      "Move disk 1 from rod A to rod B\n",
      "Move disk 4 from rod A to rod C\n",
      "Move disk 1 from rod B to rod C\n",
      "Move disk 2 from rod B to rod A\n",
      "Move disk 1 from rod C to rod A\n",
      "Move disk 3 from rod B to rod C\n",
      "Move disk 1 from rod A to rod B\n",
      "Move disk 2 from rod A to rod C\n",
      "Move disk 1 from rod B to rod C\n",
      "Move Count:  15\n"
     ]
    }
   ],
   "source": [
    "# Defining the function\n",
    "def tower_of_hanoi(n, source, destination, auxiliary):\n",
    "    if n == 1:\n",
    "        print(f\"Move disk 1 from rod {source} to rod {destination}\")\n",
    "        return 1\n",
    "    \n",
    "    cnt1 = tower_of_hanoi(n - 1, source, auxiliary, destination)\n",
    "    print(f\"Move disk {n} from rod {source} to rod {destination}\")\n",
    "    cnt2 = tower_of_hanoi(n - 1, auxiliary, destination, source)\n",
    "    return cnt1+cnt2+1\n",
    "\n",
    "# Driver Code\n",
    "num_disks = 4\n",
    "move_count = tower_of_hanoi(num_disks, 'A', 'C', 'B')  # 'A', 'B', 'C' are the names of rods \n",
    "print(\"Move Count: \",move_count)"
   ]
  },
  {
   "cell_type": "markdown",
   "id": "ba2124e7-8e80-45a3-8753-0d1b77afe4f7",
   "metadata": {},
   "source": [
    "**Explanation:**\n",
    "\n",
    "The \"tower_of_hanoi()\" function is defined to solve the Tower of Hanoi problem using recursion. It takes four parameters; n (Number of disks to move), source (The source rod from which disks are moved), destination (The destination rod where disks need to be moved), auxiliary (The auxiliary rod used for temporary storage during the movement of disks)\n",
    "\n",
    "The base case of the recursion is when n == 1. When there is only one disk to move, it directly prints the move from the source rod to the destination rod and returns 1, indicating one move has been made.\n",
    "\n",
    "For n > 1, it performs three recursive steps; Moves the top (n-1) disks from the source rod to the auxiliary rod using the destination rod as an auxiliary. Then prints the move of the nth disk from the source rod to the destination rod. Then moves the remaining (n-1) disks from the auxiliary rod to the destination rod using the source rod as an auxiliary.\n",
    "\n",
    "The total count of moves is calculated by summing the counts (cnt1 and cnt2) of the recursive calls plus one for the single move of the nth disk.\n",
    "\n",
    "In the driver code, num_disks is set to 3, and the tower_of_hanoi function is called with num_disks, starting from rod 'A' as the source, rod 'C' as the destination, and rod 'B' as the auxiliary.\n",
    "\n",
    "Finally, the total number of moves required to solve the Tower of Hanoi problem for num_disks is printed.\n",
    "\n",
    "The time complexity is O(n^2), where n is the number of disks and the space complexity is O(n)."
   ]
  },
  {
   "cell_type": "markdown",
   "id": "2f1c5993-92eb-437d-8c29-842c7ac2efa6",
   "metadata": {},
   "source": [
    "\n",
    "Recursion works here by breaking down a larger problem (moving 'n' disks) into smaller sub-problems (moving 'n-1' disks), and it continues until it reaches the base case (moving a single disk). This is divide-and-conquer approach that allows the solution to be built step by step, eventually solving the entire Tower of Hanoi problem."
   ]
  },
  {
   "cell_type": "markdown",
   "id": "aeb5b640-bcdf-42dc-a095-0a43198a34b2",
   "metadata": {},
   "source": [
    "**Q.2 Given two strings word1 and word2, return the minimum number of operations required to convert word1 to word2.**\n",
    "\n",
    "**Example 1:**\n",
    "\n",
    "**Input: word1 = \"horse\", word2 = \"ros\"**\n",
    "\n",
    "**Output: 3**\n",
    "\n",
    "**Explanation:**\n",
    "\n",
    "**horse -> rorse (replace 'h' with 'r')**\n",
    "\n",
    "**rorse -> rose (remove 'r')**\n",
    "\n",
    "**rose -> ros (remove 'e')**\n",
    "\n",
    "**Example 2:**\n",
    "\n",
    "**Input: word1 = \"intention\", word2 = \"execution\"**\n",
    "\n",
    "**Output: 5**\n",
    "\n",
    "**Explanation:**\n",
    "\n",
    "**intention -> inention (remove 't')**\n",
    "\n",
    "**inention -> enention (replace 'i' with 'e')**\n",
    "\n",
    "**enention -> exention (replace 'n' with 'x')**\n",
    "\n",
    "**exention -> exection (replace 'n' with 'c')**\n",
    "\n",
    "**exection -> execution (insert 'u')**"
   ]
  },
  {
   "cell_type": "code",
   "execution_count": 61,
   "id": "fa5ecc3a-5b8d-46f5-adc7-3fb0b387a608",
   "metadata": {},
   "outputs": [
    {
     "name": "stdout",
     "output_type": "stream",
     "text": [
      "3\n"
     ]
    }
   ],
   "source": [
    "def edit_distance(str1, str2, i, j):\n",
    "    if i==0: # Base Case: If str1 is empty, insert all characters of str2 into str1\n",
    "        return j\n",
    "    \n",
    "    if j==0: # Base Case: If str2 is empty, remove all characters of str1.\n",
    "        return i\n",
    "    \n",
    "    if str1[i-1]==str2[j-1]:\n",
    "        return 0+edit_distance(str1, str2, i-1, j-1)\n",
    "    # print(i, j)\n",
    "    dist1=1+edit_distance(str1, str2, i, j-1) #Insert character \"str2[j-1]\", at index i in str1.\n",
    "    \n",
    "    dist2=1+edit_distance(str1, str2, i-1, j) #delete the character at index i-1 from str1.\n",
    "    \n",
    "    dist3=1+edit_distance(str1, str2, i-1, j-1) #Replace the character at index i-1 in str1 with character at index j-1 in str2.\n",
    "    \n",
    "    # print(i, j, dist1, dist2, dist3)\n",
    "    return min(dist1,dist2,dist3)\n",
    "\n",
    "str1=\"horse\"\n",
    "str2=\"ros\"\n",
    "result=edit_distance(str1, str2, len(str1), len(str2))\n",
    "print(result)"
   ]
  },
  {
   "cell_type": "markdown",
   "id": "10f5d812-faa2-4a0b-b1c2-395bc0d9f211",
   "metadata": {},
   "source": [
    "**Explanation:**\n",
    "\n",
    "Function \"edit_distance()\", takes four parameters; str1 (The first input string), str2 (The second input string), i (Length of the remaining part of str1), j (Length of the remaining part of str2).\n",
    "\n",
    "It recursively calculates the minimum number of operations needed to convert str1 to str2.\n",
    "\n",
    "Base Cases, If str1 becomes empty (i.e., i == 0), return j. This indicates that the remaining characters in str2 need to be inserted into str1. If str2 becomes empty (i.e., j == 0), return i. This indicates that the remaining characters in str1 need to be deleted.\n",
    "\n",
    "If the characters at the current indices (i-1 and j-1) are the same, move to the previous indices and continue.\n",
    "\n",
    "If the characters at the current indices are different, then Calculate three distances representing possible operations; dist1 (Insert a character from str2 into str1 at index i) recall the function with the same index for str1 and j-1 for str2. dist2 (Delete the character at index i-1 in str1) recall the function with i-1 for str1 and the same index for str2. dist3 (Replace the character at index i-1 in str1 with the character at index j-1 in str2) recall the function with i-1 for str1 and j-1 for str2.\n",
    "\n",
    "Return the minimum of the three distances calculated in the previous step.\n",
    "\n",
    "The time complexity of this recursive solution is O(3^n), where n is the length of the longer string among \"str1\" and \"str2\". and space complexity is O(n)."
   ]
  },
  {
   "cell_type": "markdown",
   "id": "758f5ff0-0cfc-4535-b9eb-88479d8e1d0e",
   "metadata": {},
   "source": [
    "**Q. 3 Print the max value of the array [ 13, 1, -3, 22, 5].**"
   ]
  },
  {
   "cell_type": "code",
   "execution_count": 39,
   "id": "34ac2579-24b8-43ec-b7ef-f14b48889d87",
   "metadata": {},
   "outputs": [
    {
     "name": "stdout",
     "output_type": "stream",
     "text": [
      "-inf\n"
     ]
    }
   ],
   "source": [
    "# Defining the function\n",
    "def max_array(index, arr):\n",
    "    if not arr:\n",
    "        return float('-inf')  # Base case: If the array is empty, return negative infinity\n",
    "    if index == len(arr)-1:\n",
    "        return arr[index]  # Base case: If the index is the last element, return that element\n",
    "    \n",
    "    # Recursive step: Compare the current element with the maximum of the rest of the array\n",
    "    return max(array_sum(index+1,arr), arr[index])  \n",
    "       \n",
    "# Driver Code\n",
    "arr = []\n",
    "result=max_array(0, arr)\n",
    "print(result)"
   ]
  },
  {
   "cell_type": "markdown",
   "id": "0c5607e6-dd54-43ca-a486-ed7bd4c47c56",
   "metadata": {},
   "source": [
    "**Explanation:**\n",
    "\n",
    "\"max_array()\" is a recursive function that takes two parameters; index (Represents the current index in the array), arr (The input array of integers)\n",
    "\n",
    "The function uses recursion to find the maximum value; In the base case, if the array is empty (not arr), it returns negative infinity \"float('-inf')\". If the index is at the last element of the array (index == len(arr) - 1), it returns the value of that element. In the recursive step, it compares the current element at index with the maximum value obtained from the rest of the array (max_array(index + 1, arr)), using the max() function.\n",
    "\n",
    "The process continues until the base case is reached, and the function returns the maximum value found among the elements in the array.\n",
    "\n",
    "The time complexity of this algorithm is O(n), where 'n' is the number of elements in the input array and the space complexity is O(n) due to the recursive calls."
   ]
  },
  {
   "cell_type": "markdown",
   "id": "bed2e2f3-6d76-4b14-bba9-e35c4253afb2",
   "metadata": {},
   "source": [
    "**Q.4 Find the sum of the values of the array [92, 23, 15, -20, 10].**"
   ]
  },
  {
   "cell_type": "code",
   "execution_count": 22,
   "id": "4b03c67d-c8f1-4bdf-8491-2b373f08f919",
   "metadata": {},
   "outputs": [
    {
     "name": "stdout",
     "output_type": "stream",
     "text": [
      "Sum: 120\n"
     ]
    }
   ],
   "source": [
    "# Defining the function\n",
    "def array_sum(index, arr):\n",
    "    if not arr:\n",
    "        return 0  # Base case: If the array is empty, return 0 (sum of empty array is 0)\n",
    "    if index == len(arr)-1:\n",
    "        return arr[index]  # Base case: If the index is the last element, return that element\n",
    "    \n",
    "    return array_sum(index+1,arr) + arr[index]  # Recursive step: Sum current element with sum of remaining elements\n",
    "    \n",
    "# Driver Code    \n",
    "arr = [92, 23, 15, -20, 10]\n",
    "res = array_sum(0,arr)\n",
    "print(\"Sum:\", res)"
   ]
  },
  {
   "cell_type": "markdown",
   "id": "4f36ccda-7290-47f3-b5f1-efb97537583c",
   "metadata": {},
   "source": [
    "**Explanation:**\n",
    "\n",
    "The \"array_sum()\" function takes two arguments; index (current index) and arr (the input array). It solves the problem of computing the sum of elements in the array using recursion.\n",
    "\n",
    "The base cases for recursion are; If the array arr is empty (not arr), it returns 0 as the sum of an empty array is 0.\n",
    "If the index equals len(arr) - 1, it means the function has reached the last element of the array. In this case, it returns the value of the last element.\n",
    "\n",
    "For other cases, it recursively calls \"array_sum()\" by incrementing the index by 1 (index + 1) and adds the value of the current element (arr[index]) to the sum of the remaining elements in the array obtained from the recursive call (array_sum(index + 1, arr)).\n",
    "\n",
    "The function effectively calculates the sum of all elements in the array by adding the current element to the sum of the remaining elements obtained through recursion.\n",
    "\n",
    "The time complexity of this algorithm is O(n), where 'n' is the number of elements in the input array and the space complexity is O(n) due to the recursive calls."
   ]
  },
  {
   "cell_type": "markdown",
   "id": "245b3ce7-4e0d-44d6-8cc0-b6471bfe7e00",
   "metadata": {},
   "source": [
    "**Q.5 Given a number n. Print if it is an armstrong number or not.An armstrong number is a number if the sum of every digit in that number raised to the power of total digits in that number is equal to the number.**\n",
    "\n",
    "**Example : 153 = 1^3 + 5^3 + 3^3 = 1 + 125 + 27 = 153 hence 153 is an armstrong number. (Easy)**\n",
    "\n",
    "**Input1 : 153**\n",
    "\n",
    "**Output1 : Yes**\n",
    "\n",
    "**Input 2 : 134**\n",
    "\n",
    "**Output2 : No**"
   ]
  },
  {
   "cell_type": "code",
   "execution_count": 25,
   "id": "59f27af8-bb7b-40e3-b496-5237c5deccb1",
   "metadata": {},
   "outputs": [
    {
     "name": "stdout",
     "output_type": "stream",
     "text": [
      "Yes\n"
     ]
    }
   ],
   "source": [
    "# Defining the function to count the number of digits.\n",
    "def count_digit(num):\n",
    "    if num<10:\n",
    "        return 1;\n",
    "    \n",
    "    return 1+count_digit(num//10)\n",
    "\n",
    "# Defining the function to check the armstrong number.\n",
    "def check_armstrong(num,digit_count):\n",
    "    if num<10:\n",
    "        return num**digit_count\n",
    "    \n",
    "    rem=num%10\n",
    "    \n",
    "    return rem**digit_count + check_armstrong(num//10,digit_count)\n",
    "\n",
    "\n",
    "# Driver code.\n",
    "num=153\n",
    "digit_count=count_digit(num)\n",
    "res=check_armstrong(num,digit_count)\n",
    "# print(res, digit_count)\n",
    "if num==res:\n",
    "    print(\"Yes\")\n",
    "else:\n",
    "    print(\"No\")"
   ]
  },
  {
   "cell_type": "markdown",
   "id": "041be6eb-a27c-4752-843e-39dcdecbad0d",
   "metadata": {},
   "source": [
    "**Explanation:**\n",
    "\n",
    "\"count_digit()\" is a recursive function that calculates the number of digits in the given number (num). It takes the number as input and recursively divides it by 10 until the number becomes less than 10. At that point, it returns 1 (representing the last digit). It recursively adds 1 for each digit place and returns the count.\n",
    "\n",
    "\"check_armstrong()\" is another recursive function that checks whether the given number (num) is an Armstrong number or not. It takes two parameters; num (the number for which the check is performed), digit_count (The count of digits in the number calculated using the count_digit function).\n",
    "\n",
    "Inside check_armstrong function if the num is less than 10 (i.e., a single digit number), it returns the num raised to the power of digit_count. Otherwise, it extracts the last digit (rem) of the number and calculates the sum of the digits raised to the power of digit_count by making a recursive call to check_armstrong with the remaining part of the number (num // 10).\n",
    "\n",
    "The Driver part of the code, it calculates the count of digits in the number \"num\".\n",
    "\n",
    "Then, it computes the value by applying the Armstrong number criteria.\n",
    "\n",
    "Finally, it checks if the original number matches the calculated value. If they are equal, it prints \"Yes\" indicating it's an Armstrong number; otherwise, it prints \"No\".\n",
    "\n",
    "The time complexity for calculating the number of digits in the given number (count_digit) is \"O(log10(num))\" due to the recursive calls, where num is the given number. Computing the Armstrong number (check_armstrong) involves iterating through the digits, so the time complexity is also \"O(log10(num))\".\n",
    "\n",
    "Therefore the overall time complexity is \"O(log10(num))\", and the space complexity is \"O(log10(num))\"."
   ]
  }
 ],
 "metadata": {
  "kernelspec": {
   "display_name": "Python 3 (ipykernel)",
   "language": "python",
   "name": "python3"
  },
  "language_info": {
   "codemirror_mode": {
    "name": "ipython",
    "version": 3
   },
   "file_extension": ".py",
   "mimetype": "text/x-python",
   "name": "python",
   "nbconvert_exporter": "python",
   "pygments_lexer": "ipython3",
   "version": "3.10.8"
  }
 },
 "nbformat": 4,
 "nbformat_minor": 5
}
